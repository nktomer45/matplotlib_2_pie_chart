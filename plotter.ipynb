{
 "cells": [
  {
   "cell_type": "code",
   "execution_count": 6,
   "metadata": {},
   "outputs": [
    {
     "data": {
      "text/html": [
       "        <script type=\"text/javascript\">\n",
       "        window.PlotlyConfig = {MathJaxConfig: 'local'};\n",
       "        if (window.MathJax) {MathJax.Hub.Config({SVG: {font: \"STIX-Web\"}});}\n",
       "        if (typeof require !== 'undefined') {\n",
       "        require.undef(\"plotly\");\n",
       "        requirejs.config({\n",
       "            paths: {\n",
       "                'plotly': ['https://cdn.plot.ly/plotly-latest.min']\n",
       "            }\n",
       "        });\n",
       "        require(['plotly'], function(Plotly) {\n",
       "            window._Plotly = Plotly;\n",
       "        });\n",
       "        }\n",
       "        </script>\n",
       "        "
      ]
     },
     "metadata": {},
     "output_type": "display_data"
    },
    {
     "data": {
      "text/html": [
       "        <script type=\"text/javascript\">\n",
       "        window.PlotlyConfig = {MathJaxConfig: 'local'};\n",
       "        if (window.MathJax) {MathJax.Hub.Config({SVG: {font: \"STIX-Web\"}});}\n",
       "        if (typeof require !== 'undefined') {\n",
       "        require.undef(\"plotly\");\n",
       "        requirejs.config({\n",
       "            paths: {\n",
       "                'plotly': ['https://cdn.plot.ly/plotly-latest.min']\n",
       "            }\n",
       "        });\n",
       "        require(['plotly'], function(Plotly) {\n",
       "            window._Plotly = Plotly;\n",
       "        });\n",
       "        }\n",
       "        </script>\n",
       "        "
      ]
     },
     "metadata": {},
     "output_type": "display_data"
    }
   ],
   "source": [
    "import numpy as np\n",
    "import pandas as pd\n",
    "%matplotlib inline\n",
    "import plotly as pl\n",
    "import cufflinks as  cf\n",
    "import plotly.offline as po\n",
    "po.init_notebook_mode(connected=True)\n",
    "cf.go_offline()\n"
   ]
  },
  {
   "cell_type": "code",
   "execution_count": 7,
   "metadata": {},
   "outputs": [],
   "source": [
    "def createdata(data):\n",
    "    if(data==1):\n",
    "        x=np.random.rand(100,5)\n",
    "        df=(pd.DataFrame(x,columns=[\"A\",\"B\",\"C\",'D',\"E\"]))\n",
    "\n",
    "    elif(data==2):\n",
    "        a=int(input(\"enter the number of row\"))\n",
    "        b=int(input('enter the number of column'))\n",
    "        mat=[]\n",
    "\n",
    "        for i in range(0,a):\n",
    "            mat.append([])\n",
    "            #print(mat)\n",
    "        for i in range(0,a):\n",
    "            for j in range(0,b):\n",
    "                mat[i].append(j)\n",
    "                #print(mat)\n",
    "                mat[i][j]=0\n",
    "        print(mat[i][j])\n",
    "\n",
    "        for i in range(0,a):\n",
    "            for j in range(0,b):\n",
    "                print(\"entry in row \",i+1,'entry in column',j+1)\n",
    "                mat[i][j]=input()\n",
    "        \n",
    "        mat    \n",
    "        ab=[]\n",
    "        for i in  range (0,b):\n",
    "            ab.append(input(\"enter the column name \"))\n",
    "        df=pd.DataFrame(mat,columns=ab)\n",
    "        print(df)\n",
    "                \n",
    "    elif (data==3):\n",
    "        file=input('enter the file name')\n",
    "        df=pd.read_csv(file)\n",
    "        print(df)\n",
    "        \n",
    "    else:\n",
    "        print(\"enter the valid input\")\n",
    "    return df   "
   ]
  },
  {
   "cell_type": "code",
   "execution_count": 8,
   "metadata": {},
   "outputs": [],
   "source": [
    "def cat(df):\n",
    "    cat1={1:'line',2:\"scatter\",3:\"histogram\",4:'bar',5:'hist',6:'surface',7:'surface'}\n",
    "    for i in range(1,len(cat1)+1):\n",
    "        print(i,\"\",cat1[i])\n",
    "    a=int(input())\n",
    "    n=cat1[a]\n",
    "    print(n)\n",
    "    print(df.keys())\n",
    "    \n",
    "    #print(\"enter the x axis column\")\n",
    "    \n",
    "   # x=input(\"enter the y axis column\")\n",
    "    #y=input(\"\")\n",
    "    #title=input('entre the title ')\n",
    "    #mode=input()\n",
    "    #height=input(\"\")\n",
    "    #width=input('')\n",
    "    #ab=[]\n",
    "    #b=int(input())\n",
    "    #for i in  range (0,b):\n",
    "     #   ab.append(input(\"enter the column name \"))\n",
    "    #print(ab)\n",
    "    df.iplot(kind=n)#height=height,width=width) \n",
    "    "
   ]
  },
  {
   "cell_type": "code",
   "execution_count": 10,
   "metadata": {},
   "outputs": [
    {
     "name": "stdout",
     "output_type": "stream",
     "text": [
      "select the type of data you need to plot(By writing 1,2 or 3)\n",
      "1.random data with 100 row and columns 5\n",
      "2.Customize dataframe with 5 columns 4 rows\n",
      "3.upload csv/json/txt file\n",
      "1\n"
     ]
    }
   ],
   "source": [
    "print(\"select the type of data you need to plot(By writing 1,2 or 3)\")\n",
    "print('1.random data with 100 row and columns 5')\n",
    "print(\"2.Customize dataframe with 5 columns 4 rows\")\n",
    "print(\"3.upload csv/json/txt file\")\n",
    "data=int(input())\n",
    "df1=createdata(data)\n"
   ]
  },
  {
   "cell_type": "code",
   "execution_count": 11,
   "metadata": {},
   "outputs": [],
   "source": [
    "def plotter(plot,df1):\n",
    "    if (plot==1):\n",
    "        df1.iplot(kind='line')\n",
    "    elif(plot==2):\n",
    "        \n",
    "        df1.iplot(kind='scatter',mode='markers',symbol='x')\n",
    "    elif (plot==3):\n",
    "        df1.iplot(kind='histogram')\n",
    "    elif (plot==4):\n",
    "        df1.iplot(kind='bar')\n",
    "    elif (plot==5):\n",
    "        df1.iplot(kind='surface')\n",
    "    elif (plot==6):\n",
    "        df1.iplot(kind='scatter3d')\n",
    "    elif (plot==7):\n",
    "        df1.iplot(kind='heatmap')\n",
    "    elif (plot==8):\n",
    "        df1.iplot(kind='scattergeo')\n",
    "    else:\n",
    "        print(\"enter the number between 1 to 8,try again\")"
   ]
  },
  {
   "cell_type": "code",
   "execution_count": 12,
   "metadata": {},
   "outputs": [],
   "source": [
    "def plotter1(plot,df1):\n",
    "    a=int(input(\"enter the number of column you waNT TO PLOT GRAP\"))\n",
    "    clo=[]\n",
    "    for i in range(a):\n",
    "        p=input('enter the column name')\n",
    "        clo.append(p)\n",
    "    if (plot==1):\n",
    "        df1[clo].iplot(kind='line')\n",
    "    elif(plot==2):\n",
    "        df1[clo].iplot(kind='scatter',mode='markers',symbol='x')\n",
    "    elif (plot==3):\n",
    "        df1[clo].iplot(kind='histogram')\n",
    "    elif (plot==4):\n",
    "        df1[clo].iplot(kind='bar')\n",
    "    elif (plot==5):\n",
    "        df1[clo].iplot(kind='surface')\n",
    "    elif (plot==6):\n",
    "        df1[clo].iplot(kind='scatter3d')\n",
    "    elif (plot==7):\n",
    "        df1[clo].iplot(kind='heatmap')\n",
    "    elif (plot==8):\n",
    "        df1[clo].iplot(kind='scattergeo')\n",
    "    else:\n",
    "        print(\"enter the number between 1 to 8,try again\")"
   ]
  },
  {
   "cell_type": "code",
   "execution_count": 13,
   "metadata": {},
   "outputs": [],
   "source": [
    "def cat3(df1):\n",
    "    if df1.shape!=0:\n",
    "        cat1={1:'line',2:\"scatter\",3:\"histogram\",4:'bar',5:'surface',6:'surface3d',7:'heatmap',8:'scattergeo'}\n",
    "        for i in range(1,len(cat1)+1):\n",
    "            print(i,'',cat1[i])\n",
    "        plot=int(input())\n",
    "        a=plotter1(plot,df1)\n",
    "    else:\n",
    "        print(\"please enter the valied  data\")\n"
   ]
  },
  {
   "cell_type": "code",
   "execution_count": 14,
   "metadata": {},
   "outputs": [],
   "source": [
    "def cat2(df1):\n",
    "    if df1.shape!=0:\n",
    "        cat1={1:'line',2:\"scatter\",3:\"histogram\",4:'bar',5:'surface',6:'surface3d',7:'heatmap',8:'scattergeo'}\n",
    "        for i in range(1,len(cat1)+1):\n",
    "            print(i,\"\",cat1[i])\n",
    "        plot=int(input())\n",
    "        a=plotter(plot,df1)\n",
    "    else:\n",
    "        print(\"please enter the valied  data\")"
   ]
  },
  {
   "cell_type": "code",
   "execution_count": 15,
   "metadata": {},
   "outputs": [
    {
     "data": {
      "text/html": [
       "<div>\n",
       "<style scoped>\n",
       "    .dataframe tbody tr th:only-of-type {\n",
       "        vertical-align: middle;\n",
       "    }\n",
       "\n",
       "    .dataframe tbody tr th {\n",
       "        vertical-align: top;\n",
       "    }\n",
       "\n",
       "    .dataframe thead th {\n",
       "        text-align: right;\n",
       "    }\n",
       "</style>\n",
       "<table border=\"1\" class=\"dataframe\">\n",
       "  <thead>\n",
       "    <tr style=\"text-align: right;\">\n",
       "      <th></th>\n",
       "      <th>A</th>\n",
       "      <th>B</th>\n",
       "      <th>C</th>\n",
       "      <th>D</th>\n",
       "      <th>E</th>\n",
       "    </tr>\n",
       "  </thead>\n",
       "  <tbody>\n",
       "    <tr>\n",
       "      <td>0</td>\n",
       "      <td>0.782757</td>\n",
       "      <td>0.906046</td>\n",
       "      <td>0.923462</td>\n",
       "      <td>0.304747</td>\n",
       "      <td>0.709581</td>\n",
       "    </tr>\n",
       "    <tr>\n",
       "      <td>1</td>\n",
       "      <td>0.300013</td>\n",
       "      <td>0.488486</td>\n",
       "      <td>0.823482</td>\n",
       "      <td>0.675077</td>\n",
       "      <td>0.112171</td>\n",
       "    </tr>\n",
       "    <tr>\n",
       "      <td>2</td>\n",
       "      <td>0.103207</td>\n",
       "      <td>0.689867</td>\n",
       "      <td>0.423656</td>\n",
       "      <td>0.780563</td>\n",
       "      <td>0.721150</td>\n",
       "    </tr>\n",
       "    <tr>\n",
       "      <td>3</td>\n",
       "      <td>0.129101</td>\n",
       "      <td>0.986604</td>\n",
       "      <td>0.861280</td>\n",
       "      <td>0.432534</td>\n",
       "      <td>0.213475</td>\n",
       "    </tr>\n",
       "    <tr>\n",
       "      <td>4</td>\n",
       "      <td>0.932358</td>\n",
       "      <td>0.066715</td>\n",
       "      <td>0.358983</td>\n",
       "      <td>0.256636</td>\n",
       "      <td>0.213904</td>\n",
       "    </tr>\n",
       "    <tr>\n",
       "      <td>...</td>\n",
       "      <td>...</td>\n",
       "      <td>...</td>\n",
       "      <td>...</td>\n",
       "      <td>...</td>\n",
       "      <td>...</td>\n",
       "    </tr>\n",
       "    <tr>\n",
       "      <td>95</td>\n",
       "      <td>0.484008</td>\n",
       "      <td>0.986756</td>\n",
       "      <td>0.699557</td>\n",
       "      <td>0.460588</td>\n",
       "      <td>0.099840</td>\n",
       "    </tr>\n",
       "    <tr>\n",
       "      <td>96</td>\n",
       "      <td>0.319709</td>\n",
       "      <td>0.794686</td>\n",
       "      <td>0.036056</td>\n",
       "      <td>0.274742</td>\n",
       "      <td>0.992345</td>\n",
       "    </tr>\n",
       "    <tr>\n",
       "      <td>97</td>\n",
       "      <td>0.715222</td>\n",
       "      <td>0.651176</td>\n",
       "      <td>0.020879</td>\n",
       "      <td>0.083082</td>\n",
       "      <td>0.396481</td>\n",
       "    </tr>\n",
       "    <tr>\n",
       "      <td>98</td>\n",
       "      <td>0.949253</td>\n",
       "      <td>0.256000</td>\n",
       "      <td>0.368532</td>\n",
       "      <td>0.404964</td>\n",
       "      <td>0.771113</td>\n",
       "    </tr>\n",
       "    <tr>\n",
       "      <td>99</td>\n",
       "      <td>0.479057</td>\n",
       "      <td>0.272448</td>\n",
       "      <td>0.564871</td>\n",
       "      <td>0.119327</td>\n",
       "      <td>0.135072</td>\n",
       "    </tr>\n",
       "  </tbody>\n",
       "</table>\n",
       "<p>100 rows × 5 columns</p>\n",
       "</div>"
      ],
      "text/plain": [
       "           A         B         C         D         E\n",
       "0   0.782757  0.906046  0.923462  0.304747  0.709581\n",
       "1   0.300013  0.488486  0.823482  0.675077  0.112171\n",
       "2   0.103207  0.689867  0.423656  0.780563  0.721150\n",
       "3   0.129101  0.986604  0.861280  0.432534  0.213475\n",
       "4   0.932358  0.066715  0.358983  0.256636  0.213904\n",
       "..       ...       ...       ...       ...       ...\n",
       "95  0.484008  0.986756  0.699557  0.460588  0.099840\n",
       "96  0.319709  0.794686  0.036056  0.274742  0.992345\n",
       "97  0.715222  0.651176  0.020879  0.083082  0.396481\n",
       "98  0.949253  0.256000  0.368532  0.404964  0.771113\n",
       "99  0.479057  0.272448  0.564871  0.119327  0.135072\n",
       "\n",
       "[100 rows x 5 columns]"
      ]
     },
     "execution_count": 15,
     "metadata": {},
     "output_type": "execute_result"
    }
   ],
   "source": [
    "df1"
   ]
  },
  {
   "cell_type": "code",
   "execution_count": 16,
   "metadata": {},
   "outputs": [
    {
     "name": "stdout",
     "output_type": "stream",
     "text": [
      "plot all value please enter the 1  and plot b/w olumns enter 22\n",
      "1  line\n",
      "2  scatter\n",
      "3  histogram\n",
      "4  bar\n",
      "5  surface\n",
      "6  surface3d\n",
      "7  heatmap\n",
      "8  scattergeo\n",
      "2\n",
      "enter the number of column you waNT TO PLOT GRAP2\n",
      "enter the column nameA\n",
      "enter the column nameB\n"
     ]
    },
    {
     "data": {
      "application/vnd.plotly.v1+json": {
       "config": {
        "linkText": "Export to plot.ly",
        "plotlyServerURL": "https://plot.ly",
        "showLink": true
       },
       "data": [
        {
         "line": {
          "color": "rgba(255, 153, 51, 1.0)",
          "dash": "solid",
          "shape": "linear",
          "width": 1.3
         },
         "marker": {
          "size": 12,
          "symbol": "x"
         },
         "mode": "markers",
         "name": "A",
         "text": "",
         "type": "scatter",
         "x": [
          0,
          1,
          2,
          3,
          4,
          5,
          6,
          7,
          8,
          9,
          10,
          11,
          12,
          13,
          14,
          15,
          16,
          17,
          18,
          19,
          20,
          21,
          22,
          23,
          24,
          25,
          26,
          27,
          28,
          29,
          30,
          31,
          32,
          33,
          34,
          35,
          36,
          37,
          38,
          39,
          40,
          41,
          42,
          43,
          44,
          45,
          46,
          47,
          48,
          49,
          50,
          51,
          52,
          53,
          54,
          55,
          56,
          57,
          58,
          59,
          60,
          61,
          62,
          63,
          64,
          65,
          66,
          67,
          68,
          69,
          70,
          71,
          72,
          73,
          74,
          75,
          76,
          77,
          78,
          79,
          80,
          81,
          82,
          83,
          84,
          85,
          86,
          87,
          88,
          89,
          90,
          91,
          92,
          93,
          94,
          95,
          96,
          97,
          98,
          99
         ],
         "y": [
          0.7827573522581242,
          0.3000132070095446,
          0.10320736948588383,
          0.12910138348123357,
          0.9323576774638608,
          0.13142255861615837,
          0.8969999284369252,
          0.6809669937478149,
          0.2509781561372967,
          0.6469938730361141,
          0.30107741073169236,
          0.5245435095303068,
          0.08827084006495323,
          0.4654880979319128,
          0.8669995278107975,
          0.1644000301952243,
          0.28302364697300375,
          0.37413699002825374,
          0.5982282568855352,
          0.11007237756480448,
          0.1754880174355028,
          0.6859866952359447,
          0.32155893057895224,
          0.2378886612511789,
          0.22388369735796576,
          0.556227514899568,
          0.5146358731326239,
          0.428765030327253,
          0.7360236414160246,
          0.8749604498646562,
          0.8160822161593178,
          0.23740610623903247,
          0.8464492125689427,
          0.765466577550258,
          0.8144789471923201,
          0.30444039812086554,
          0.12214922823418461,
          0.7056760595417886,
          0.8897667965058197,
          0.23631002616737062,
          0.5179657786389812,
          0.28088135695326366,
          0.10809710115498816,
          0.2239772466762031,
          0.6421478915654684,
          0.5920073660417291,
          0.5099810131181597,
          0.3622896632522351,
          0.2573382322432727,
          0.9817015545845141,
          0.020719084909592067,
          0.9073267384485277,
          0.049175828824084,
          0.9522267111480974,
          0.59179925971564,
          0.6581576479133259,
          0.9860170728639316,
          0.9575457121341486,
          0.13915703152214087,
          0.9076206250288182,
          0.9417708751236449,
          0.1655507900453247,
          0.7735764949023194,
          0.45686302722575256,
          0.0456969050156113,
          0.3609409345810968,
          0.35624747219918385,
          0.0018914603313570089,
          0.7853980098574012,
          0.2132860351594068,
          0.923527909743499,
          0.6144519935378212,
          0.14817898006588615,
          0.5389611773014148,
          0.9376745431722705,
          0.3101208410670817,
          0.32082205390758334,
          0.7327099611959236,
          0.9087280763528137,
          0.40259776271496794,
          0.858992738909663,
          0.027961717048355927,
          0.7551410785989359,
          0.911309911655068,
          0.04939299488103077,
          0.7928904730094479,
          0.9384832804913497,
          0.17940094540384877,
          0.004981443409139863,
          0.8622384298674665,
          0.516384838359025,
          0.32429187410187854,
          0.017619872863288366,
          0.7643801824076398,
          0.23878171390228498,
          0.48400811183943493,
          0.3197093277685884,
          0.7152221378743447,
          0.9492527388298461,
          0.4790569418229055
         ]
        },
        {
         "line": {
          "color": "rgba(55, 128, 191, 1.0)",
          "dash": "solid",
          "shape": "linear",
          "width": 1.3
         },
         "marker": {
          "size": 12,
          "symbol": "x"
         },
         "mode": "markers",
         "name": "B",
         "text": "",
         "type": "scatter",
         "x": [
          0,
          1,
          2,
          3,
          4,
          5,
          6,
          7,
          8,
          9,
          10,
          11,
          12,
          13,
          14,
          15,
          16,
          17,
          18,
          19,
          20,
          21,
          22,
          23,
          24,
          25,
          26,
          27,
          28,
          29,
          30,
          31,
          32,
          33,
          34,
          35,
          36,
          37,
          38,
          39,
          40,
          41,
          42,
          43,
          44,
          45,
          46,
          47,
          48,
          49,
          50,
          51,
          52,
          53,
          54,
          55,
          56,
          57,
          58,
          59,
          60,
          61,
          62,
          63,
          64,
          65,
          66,
          67,
          68,
          69,
          70,
          71,
          72,
          73,
          74,
          75,
          76,
          77,
          78,
          79,
          80,
          81,
          82,
          83,
          84,
          85,
          86,
          87,
          88,
          89,
          90,
          91,
          92,
          93,
          94,
          95,
          96,
          97,
          98,
          99
         ],
         "y": [
          0.9060456823731946,
          0.4884855494670012,
          0.6898669004513017,
          0.9866038584537127,
          0.06671521513993739,
          0.9139357935400748,
          0.19892758442552239,
          0.41575921522343395,
          0.7855192140045597,
          0.8691769034061289,
          0.1639197843651382,
          0.5340584239225079,
          0.6779050804054879,
          0.19286310819530395,
          0.6661598965724999,
          0.48791201559240216,
          0.3000328271455164,
          0.3493162997937391,
          0.21719190284152656,
          0.8039426620058344,
          0.14817678745866325,
          0.6846240333684372,
          0.028047100267716396,
          0.9468991993544561,
          0.13757707140111464,
          0.8733494680786972,
          0.07789537949090597,
          0.5014484496878157,
          0.8717124207602611,
          0.49800774362464095,
          0.7902653383350753,
          0.3242097715601864,
          0.3979972158382521,
          0.9380638553500887,
          0.2703664967616508,
          0.3622593636851187,
          0.8017139913043332,
          0.7405583827692375,
          0.571497615624676,
          0.5829193912952011,
          0.8065385982598724,
          0.9159157584375666,
          0.23791535291742527,
          0.6103034365564706,
          0.24323026365113343,
          0.45951529938869173,
          0.015190180262464104,
          0.5666485441481629,
          0.5781941967651655,
          0.8677124898657113,
          0.8338631259641228,
          0.7642937820477683,
          0.7865757699823098,
          0.2264752051320016,
          0.16589502062199346,
          0.7402851730681158,
          0.7227551340966566,
          0.5542328115546726,
          0.442374337925173,
          0.1676164546857143,
          0.15106780343887138,
          0.643389573209151,
          0.9184109711345302,
          0.7936537482444029,
          0.16939666585555058,
          0.477728861087352,
          0.6325187678588704,
          0.6378312642655399,
          0.02795320813126334,
          0.04436329891651836,
          0.1053685149017396,
          0.8188685031126078,
          0.43312400502305537,
          0.1640316813252426,
          0.5012296512410416,
          0.2264893912054845,
          0.5663280156395741,
          0.5787309590577626,
          0.11321772618605563,
          0.5826904890788656,
          0.14343495416676932,
          0.04286764071514437,
          0.8855353362813885,
          0.7715295690993557,
          0.15343903056620367,
          0.3776708317060312,
          0.8294341347056646,
          0.3352573948440588,
          0.07819646001890124,
          0.40785628413064645,
          0.6406746236366178,
          0.2972931437247236,
          0.8659992228981819,
          0.601858955200402,
          0.8033099515976865,
          0.986756430265995,
          0.7946861371860262,
          0.6511756902505629,
          0.2559999755339851,
          0.2724476276784187
         ]
        }
       ],
       "layout": {
        "legend": {
         "bgcolor": "#F5F6F9",
         "font": {
          "color": "#4D5663"
         }
        },
        "paper_bgcolor": "#F5F6F9",
        "plot_bgcolor": "#F5F6F9",
        "template": {
         "data": {
          "bar": [
           {
            "error_x": {
             "color": "#2a3f5f"
            },
            "error_y": {
             "color": "#2a3f5f"
            },
            "marker": {
             "line": {
              "color": "#E5ECF6",
              "width": 0.5
             }
            },
            "type": "bar"
           }
          ],
          "barpolar": [
           {
            "marker": {
             "line": {
              "color": "#E5ECF6",
              "width": 0.5
             }
            },
            "type": "barpolar"
           }
          ],
          "carpet": [
           {
            "aaxis": {
             "endlinecolor": "#2a3f5f",
             "gridcolor": "white",
             "linecolor": "white",
             "minorgridcolor": "white",
             "startlinecolor": "#2a3f5f"
            },
            "baxis": {
             "endlinecolor": "#2a3f5f",
             "gridcolor": "white",
             "linecolor": "white",
             "minorgridcolor": "white",
             "startlinecolor": "#2a3f5f"
            },
            "type": "carpet"
           }
          ],
          "choropleth": [
           {
            "colorbar": {
             "outlinewidth": 0,
             "ticks": ""
            },
            "type": "choropleth"
           }
          ],
          "contour": [
           {
            "colorbar": {
             "outlinewidth": 0,
             "ticks": ""
            },
            "colorscale": [
             [
              0,
              "#0d0887"
             ],
             [
              0.1111111111111111,
              "#46039f"
             ],
             [
              0.2222222222222222,
              "#7201a8"
             ],
             [
              0.3333333333333333,
              "#9c179e"
             ],
             [
              0.4444444444444444,
              "#bd3786"
             ],
             [
              0.5555555555555556,
              "#d8576b"
             ],
             [
              0.6666666666666666,
              "#ed7953"
             ],
             [
              0.7777777777777778,
              "#fb9f3a"
             ],
             [
              0.8888888888888888,
              "#fdca26"
             ],
             [
              1,
              "#f0f921"
             ]
            ],
            "type": "contour"
           }
          ],
          "contourcarpet": [
           {
            "colorbar": {
             "outlinewidth": 0,
             "ticks": ""
            },
            "type": "contourcarpet"
           }
          ],
          "heatmap": [
           {
            "colorbar": {
             "outlinewidth": 0,
             "ticks": ""
            },
            "colorscale": [
             [
              0,
              "#0d0887"
             ],
             [
              0.1111111111111111,
              "#46039f"
             ],
             [
              0.2222222222222222,
              "#7201a8"
             ],
             [
              0.3333333333333333,
              "#9c179e"
             ],
             [
              0.4444444444444444,
              "#bd3786"
             ],
             [
              0.5555555555555556,
              "#d8576b"
             ],
             [
              0.6666666666666666,
              "#ed7953"
             ],
             [
              0.7777777777777778,
              "#fb9f3a"
             ],
             [
              0.8888888888888888,
              "#fdca26"
             ],
             [
              1,
              "#f0f921"
             ]
            ],
            "type": "heatmap"
           }
          ],
          "heatmapgl": [
           {
            "colorbar": {
             "outlinewidth": 0,
             "ticks": ""
            },
            "colorscale": [
             [
              0,
              "#0d0887"
             ],
             [
              0.1111111111111111,
              "#46039f"
             ],
             [
              0.2222222222222222,
              "#7201a8"
             ],
             [
              0.3333333333333333,
              "#9c179e"
             ],
             [
              0.4444444444444444,
              "#bd3786"
             ],
             [
              0.5555555555555556,
              "#d8576b"
             ],
             [
              0.6666666666666666,
              "#ed7953"
             ],
             [
              0.7777777777777778,
              "#fb9f3a"
             ],
             [
              0.8888888888888888,
              "#fdca26"
             ],
             [
              1,
              "#f0f921"
             ]
            ],
            "type": "heatmapgl"
           }
          ],
          "histogram": [
           {
            "marker": {
             "colorbar": {
              "outlinewidth": 0,
              "ticks": ""
             }
            },
            "type": "histogram"
           }
          ],
          "histogram2d": [
           {
            "colorbar": {
             "outlinewidth": 0,
             "ticks": ""
            },
            "colorscale": [
             [
              0,
              "#0d0887"
             ],
             [
              0.1111111111111111,
              "#46039f"
             ],
             [
              0.2222222222222222,
              "#7201a8"
             ],
             [
              0.3333333333333333,
              "#9c179e"
             ],
             [
              0.4444444444444444,
              "#bd3786"
             ],
             [
              0.5555555555555556,
              "#d8576b"
             ],
             [
              0.6666666666666666,
              "#ed7953"
             ],
             [
              0.7777777777777778,
              "#fb9f3a"
             ],
             [
              0.8888888888888888,
              "#fdca26"
             ],
             [
              1,
              "#f0f921"
             ]
            ],
            "type": "histogram2d"
           }
          ],
          "histogram2dcontour": [
           {
            "colorbar": {
             "outlinewidth": 0,
             "ticks": ""
            },
            "colorscale": [
             [
              0,
              "#0d0887"
             ],
             [
              0.1111111111111111,
              "#46039f"
             ],
             [
              0.2222222222222222,
              "#7201a8"
             ],
             [
              0.3333333333333333,
              "#9c179e"
             ],
             [
              0.4444444444444444,
              "#bd3786"
             ],
             [
              0.5555555555555556,
              "#d8576b"
             ],
             [
              0.6666666666666666,
              "#ed7953"
             ],
             [
              0.7777777777777778,
              "#fb9f3a"
             ],
             [
              0.8888888888888888,
              "#fdca26"
             ],
             [
              1,
              "#f0f921"
             ]
            ],
            "type": "histogram2dcontour"
           }
          ],
          "mesh3d": [
           {
            "colorbar": {
             "outlinewidth": 0,
             "ticks": ""
            },
            "type": "mesh3d"
           }
          ],
          "parcoords": [
           {
            "line": {
             "colorbar": {
              "outlinewidth": 0,
              "ticks": ""
             }
            },
            "type": "parcoords"
           }
          ],
          "pie": [
           {
            "automargin": true,
            "type": "pie"
           }
          ],
          "scatter": [
           {
            "marker": {
             "colorbar": {
              "outlinewidth": 0,
              "ticks": ""
             }
            },
            "type": "scatter"
           }
          ],
          "scatter3d": [
           {
            "line": {
             "colorbar": {
              "outlinewidth": 0,
              "ticks": ""
             }
            },
            "marker": {
             "colorbar": {
              "outlinewidth": 0,
              "ticks": ""
             }
            },
            "type": "scatter3d"
           }
          ],
          "scattercarpet": [
           {
            "marker": {
             "colorbar": {
              "outlinewidth": 0,
              "ticks": ""
             }
            },
            "type": "scattercarpet"
           }
          ],
          "scattergeo": [
           {
            "marker": {
             "colorbar": {
              "outlinewidth": 0,
              "ticks": ""
             }
            },
            "type": "scattergeo"
           }
          ],
          "scattergl": [
           {
            "marker": {
             "colorbar": {
              "outlinewidth": 0,
              "ticks": ""
             }
            },
            "type": "scattergl"
           }
          ],
          "scattermapbox": [
           {
            "marker": {
             "colorbar": {
              "outlinewidth": 0,
              "ticks": ""
             }
            },
            "type": "scattermapbox"
           }
          ],
          "scatterpolar": [
           {
            "marker": {
             "colorbar": {
              "outlinewidth": 0,
              "ticks": ""
             }
            },
            "type": "scatterpolar"
           }
          ],
          "scatterpolargl": [
           {
            "marker": {
             "colorbar": {
              "outlinewidth": 0,
              "ticks": ""
             }
            },
            "type": "scatterpolargl"
           }
          ],
          "scatterternary": [
           {
            "marker": {
             "colorbar": {
              "outlinewidth": 0,
              "ticks": ""
             }
            },
            "type": "scatterternary"
           }
          ],
          "surface": [
           {
            "colorbar": {
             "outlinewidth": 0,
             "ticks": ""
            },
            "colorscale": [
             [
              0,
              "#0d0887"
             ],
             [
              0.1111111111111111,
              "#46039f"
             ],
             [
              0.2222222222222222,
              "#7201a8"
             ],
             [
              0.3333333333333333,
              "#9c179e"
             ],
             [
              0.4444444444444444,
              "#bd3786"
             ],
             [
              0.5555555555555556,
              "#d8576b"
             ],
             [
              0.6666666666666666,
              "#ed7953"
             ],
             [
              0.7777777777777778,
              "#fb9f3a"
             ],
             [
              0.8888888888888888,
              "#fdca26"
             ],
             [
              1,
              "#f0f921"
             ]
            ],
            "type": "surface"
           }
          ],
          "table": [
           {
            "cells": {
             "fill": {
              "color": "#EBF0F8"
             },
             "line": {
              "color": "white"
             }
            },
            "header": {
             "fill": {
              "color": "#C8D4E3"
             },
             "line": {
              "color": "white"
             }
            },
            "type": "table"
           }
          ]
         },
         "layout": {
          "annotationdefaults": {
           "arrowcolor": "#2a3f5f",
           "arrowhead": 0,
           "arrowwidth": 1
          },
          "coloraxis": {
           "colorbar": {
            "outlinewidth": 0,
            "ticks": ""
           }
          },
          "colorscale": {
           "diverging": [
            [
             0,
             "#8e0152"
            ],
            [
             0.1,
             "#c51b7d"
            ],
            [
             0.2,
             "#de77ae"
            ],
            [
             0.3,
             "#f1b6da"
            ],
            [
             0.4,
             "#fde0ef"
            ],
            [
             0.5,
             "#f7f7f7"
            ],
            [
             0.6,
             "#e6f5d0"
            ],
            [
             0.7,
             "#b8e186"
            ],
            [
             0.8,
             "#7fbc41"
            ],
            [
             0.9,
             "#4d9221"
            ],
            [
             1,
             "#276419"
            ]
           ],
           "sequential": [
            [
             0,
             "#0d0887"
            ],
            [
             0.1111111111111111,
             "#46039f"
            ],
            [
             0.2222222222222222,
             "#7201a8"
            ],
            [
             0.3333333333333333,
             "#9c179e"
            ],
            [
             0.4444444444444444,
             "#bd3786"
            ],
            [
             0.5555555555555556,
             "#d8576b"
            ],
            [
             0.6666666666666666,
             "#ed7953"
            ],
            [
             0.7777777777777778,
             "#fb9f3a"
            ],
            [
             0.8888888888888888,
             "#fdca26"
            ],
            [
             1,
             "#f0f921"
            ]
           ],
           "sequentialminus": [
            [
             0,
             "#0d0887"
            ],
            [
             0.1111111111111111,
             "#46039f"
            ],
            [
             0.2222222222222222,
             "#7201a8"
            ],
            [
             0.3333333333333333,
             "#9c179e"
            ],
            [
             0.4444444444444444,
             "#bd3786"
            ],
            [
             0.5555555555555556,
             "#d8576b"
            ],
            [
             0.6666666666666666,
             "#ed7953"
            ],
            [
             0.7777777777777778,
             "#fb9f3a"
            ],
            [
             0.8888888888888888,
             "#fdca26"
            ],
            [
             1,
             "#f0f921"
            ]
           ]
          },
          "colorway": [
           "#636efa",
           "#EF553B",
           "#00cc96",
           "#ab63fa",
           "#FFA15A",
           "#19d3f3",
           "#FF6692",
           "#B6E880",
           "#FF97FF",
           "#FECB52"
          ],
          "font": {
           "color": "#2a3f5f"
          },
          "geo": {
           "bgcolor": "white",
           "lakecolor": "white",
           "landcolor": "#E5ECF6",
           "showlakes": true,
           "showland": true,
           "subunitcolor": "white"
          },
          "hoverlabel": {
           "align": "left"
          },
          "hovermode": "closest",
          "mapbox": {
           "style": "light"
          },
          "paper_bgcolor": "white",
          "plot_bgcolor": "#E5ECF6",
          "polar": {
           "angularaxis": {
            "gridcolor": "white",
            "linecolor": "white",
            "ticks": ""
           },
           "bgcolor": "#E5ECF6",
           "radialaxis": {
            "gridcolor": "white",
            "linecolor": "white",
            "ticks": ""
           }
          },
          "scene": {
           "xaxis": {
            "backgroundcolor": "#E5ECF6",
            "gridcolor": "white",
            "gridwidth": 2,
            "linecolor": "white",
            "showbackground": true,
            "ticks": "",
            "zerolinecolor": "white"
           },
           "yaxis": {
            "backgroundcolor": "#E5ECF6",
            "gridcolor": "white",
            "gridwidth": 2,
            "linecolor": "white",
            "showbackground": true,
            "ticks": "",
            "zerolinecolor": "white"
           },
           "zaxis": {
            "backgroundcolor": "#E5ECF6",
            "gridcolor": "white",
            "gridwidth": 2,
            "linecolor": "white",
            "showbackground": true,
            "ticks": "",
            "zerolinecolor": "white"
           }
          },
          "shapedefaults": {
           "line": {
            "color": "#2a3f5f"
           }
          },
          "ternary": {
           "aaxis": {
            "gridcolor": "white",
            "linecolor": "white",
            "ticks": ""
           },
           "baxis": {
            "gridcolor": "white",
            "linecolor": "white",
            "ticks": ""
           },
           "bgcolor": "#E5ECF6",
           "caxis": {
            "gridcolor": "white",
            "linecolor": "white",
            "ticks": ""
           }
          },
          "title": {
           "x": 0.05
          },
          "xaxis": {
           "automargin": true,
           "gridcolor": "white",
           "linecolor": "white",
           "ticks": "",
           "title": {
            "standoff": 15
           },
           "zerolinecolor": "white",
           "zerolinewidth": 2
          },
          "yaxis": {
           "automargin": true,
           "gridcolor": "white",
           "linecolor": "white",
           "ticks": "",
           "title": {
            "standoff": 15
           },
           "zerolinecolor": "white",
           "zerolinewidth": 2
          }
         }
        },
        "title": {
         "font": {
          "color": "#4D5663"
         }
        },
        "xaxis": {
         "gridcolor": "#E1E5ED",
         "showgrid": true,
         "tickfont": {
          "color": "#4D5663"
         },
         "title": {
          "font": {
           "color": "#4D5663"
          },
          "text": ""
         },
         "zerolinecolor": "#E1E5ED"
        },
        "yaxis": {
         "gridcolor": "#E1E5ED",
         "showgrid": true,
         "tickfont": {
          "color": "#4D5663"
         },
         "title": {
          "font": {
           "color": "#4D5663"
          },
          "text": ""
         },
         "zerolinecolor": "#E1E5ED"
        }
       }
      },
      "text/html": [
       "<div>\n",
       "        \n",
       "        \n",
       "            <div id=\"5a443eec-7c7c-47cb-9e43-01e013aed897\" class=\"plotly-graph-div\" style=\"height:525px; width:100%;\"></div>\n",
       "            <script type=\"text/javascript\">\n",
       "                require([\"plotly\"], function(Plotly) {\n",
       "                    window.PLOTLYENV=window.PLOTLYENV || {};\n",
       "                    window.PLOTLYENV.BASE_URL='https://plot.ly';\n",
       "                    \n",
       "                if (document.getElementById(\"5a443eec-7c7c-47cb-9e43-01e013aed897\")) {\n",
       "                    Plotly.newPlot(\n",
       "                        '5a443eec-7c7c-47cb-9e43-01e013aed897',\n",
       "                        [{\"line\": {\"color\": \"rgba(255, 153, 51, 1.0)\", \"dash\": \"solid\", \"shape\": \"linear\", \"width\": 1.3}, \"marker\": {\"size\": 12, \"symbol\": \"x\"}, \"mode\": \"markers\", \"name\": \"A\", \"text\": \"\", \"type\": \"scatter\", \"x\": [0, 1, 2, 3, 4, 5, 6, 7, 8, 9, 10, 11, 12, 13, 14, 15, 16, 17, 18, 19, 20, 21, 22, 23, 24, 25, 26, 27, 28, 29, 30, 31, 32, 33, 34, 35, 36, 37, 38, 39, 40, 41, 42, 43, 44, 45, 46, 47, 48, 49, 50, 51, 52, 53, 54, 55, 56, 57, 58, 59, 60, 61, 62, 63, 64, 65, 66, 67, 68, 69, 70, 71, 72, 73, 74, 75, 76, 77, 78, 79, 80, 81, 82, 83, 84, 85, 86, 87, 88, 89, 90, 91, 92, 93, 94, 95, 96, 97, 98, 99], \"y\": [0.7827573522581242, 0.3000132070095446, 0.10320736948588383, 0.12910138348123357, 0.9323576774638608, 0.13142255861615837, 0.8969999284369252, 0.6809669937478149, 0.2509781561372967, 0.6469938730361141, 0.30107741073169236, 0.5245435095303068, 0.08827084006495323, 0.4654880979319128, 0.8669995278107975, 0.1644000301952243, 0.28302364697300375, 0.37413699002825374, 0.5982282568855352, 0.11007237756480448, 0.1754880174355028, 0.6859866952359447, 0.32155893057895224, 0.2378886612511789, 0.22388369735796576, 0.556227514899568, 0.5146358731326239, 0.428765030327253, 0.7360236414160246, 0.8749604498646562, 0.8160822161593178, 0.23740610623903247, 0.8464492125689427, 0.765466577550258, 0.8144789471923201, 0.30444039812086554, 0.12214922823418461, 0.7056760595417886, 0.8897667965058197, 0.23631002616737062, 0.5179657786389812, 0.28088135695326366, 0.10809710115498816, 0.2239772466762031, 0.6421478915654684, 0.5920073660417291, 0.5099810131181597, 0.3622896632522351, 0.2573382322432727, 0.9817015545845141, 0.020719084909592067, 0.9073267384485277, 0.049175828824084, 0.9522267111480974, 0.59179925971564, 0.6581576479133259, 0.9860170728639316, 0.9575457121341486, 0.13915703152214087, 0.9076206250288182, 0.9417708751236449, 0.1655507900453247, 0.7735764949023194, 0.45686302722575256, 0.0456969050156113, 0.3609409345810968, 0.35624747219918385, 0.0018914603313570089, 0.7853980098574012, 0.2132860351594068, 0.923527909743499, 0.6144519935378212, 0.14817898006588615, 0.5389611773014148, 0.9376745431722705, 0.3101208410670817, 0.32082205390758334, 0.7327099611959236, 0.9087280763528137, 0.40259776271496794, 0.858992738909663, 0.027961717048355927, 0.7551410785989359, 0.911309911655068, 0.04939299488103077, 0.7928904730094479, 0.9384832804913497, 0.17940094540384877, 0.004981443409139863, 0.8622384298674665, 0.516384838359025, 0.32429187410187854, 0.017619872863288366, 0.7643801824076398, 0.23878171390228498, 0.48400811183943493, 0.3197093277685884, 0.7152221378743447, 0.9492527388298461, 0.4790569418229055]}, {\"line\": {\"color\": \"rgba(55, 128, 191, 1.0)\", \"dash\": \"solid\", \"shape\": \"linear\", \"width\": 1.3}, \"marker\": {\"size\": 12, \"symbol\": \"x\"}, \"mode\": \"markers\", \"name\": \"B\", \"text\": \"\", \"type\": \"scatter\", \"x\": [0, 1, 2, 3, 4, 5, 6, 7, 8, 9, 10, 11, 12, 13, 14, 15, 16, 17, 18, 19, 20, 21, 22, 23, 24, 25, 26, 27, 28, 29, 30, 31, 32, 33, 34, 35, 36, 37, 38, 39, 40, 41, 42, 43, 44, 45, 46, 47, 48, 49, 50, 51, 52, 53, 54, 55, 56, 57, 58, 59, 60, 61, 62, 63, 64, 65, 66, 67, 68, 69, 70, 71, 72, 73, 74, 75, 76, 77, 78, 79, 80, 81, 82, 83, 84, 85, 86, 87, 88, 89, 90, 91, 92, 93, 94, 95, 96, 97, 98, 99], \"y\": [0.9060456823731946, 0.4884855494670012, 0.6898669004513017, 0.9866038584537127, 0.06671521513993739, 0.9139357935400748, 0.19892758442552239, 0.41575921522343395, 0.7855192140045597, 0.8691769034061289, 0.1639197843651382, 0.5340584239225079, 0.6779050804054879, 0.19286310819530395, 0.6661598965724999, 0.48791201559240216, 0.3000328271455164, 0.3493162997937391, 0.21719190284152656, 0.8039426620058344, 0.14817678745866325, 0.6846240333684372, 0.028047100267716396, 0.9468991993544561, 0.13757707140111464, 0.8733494680786972, 0.07789537949090597, 0.5014484496878157, 0.8717124207602611, 0.49800774362464095, 0.7902653383350753, 0.3242097715601864, 0.3979972158382521, 0.9380638553500887, 0.2703664967616508, 0.3622593636851187, 0.8017139913043332, 0.7405583827692375, 0.571497615624676, 0.5829193912952011, 0.8065385982598724, 0.9159157584375666, 0.23791535291742527, 0.6103034365564706, 0.24323026365113343, 0.45951529938869173, 0.015190180262464104, 0.5666485441481629, 0.5781941967651655, 0.8677124898657113, 0.8338631259641228, 0.7642937820477683, 0.7865757699823098, 0.2264752051320016, 0.16589502062199346, 0.7402851730681158, 0.7227551340966566, 0.5542328115546726, 0.442374337925173, 0.1676164546857143, 0.15106780343887138, 0.643389573209151, 0.9184109711345302, 0.7936537482444029, 0.16939666585555058, 0.477728861087352, 0.6325187678588704, 0.6378312642655399, 0.02795320813126334, 0.04436329891651836, 0.1053685149017396, 0.8188685031126078, 0.43312400502305537, 0.1640316813252426, 0.5012296512410416, 0.2264893912054845, 0.5663280156395741, 0.5787309590577626, 0.11321772618605563, 0.5826904890788656, 0.14343495416676932, 0.04286764071514437, 0.8855353362813885, 0.7715295690993557, 0.15343903056620367, 0.3776708317060312, 0.8294341347056646, 0.3352573948440588, 0.07819646001890124, 0.40785628413064645, 0.6406746236366178, 0.2972931437247236, 0.8659992228981819, 0.601858955200402, 0.8033099515976865, 0.986756430265995, 0.7946861371860262, 0.6511756902505629, 0.2559999755339851, 0.2724476276784187]}],\n",
       "                        {\"legend\": {\"bgcolor\": \"#F5F6F9\", \"font\": {\"color\": \"#4D5663\"}}, \"paper_bgcolor\": \"#F5F6F9\", \"plot_bgcolor\": \"#F5F6F9\", \"template\": {\"data\": {\"bar\": [{\"error_x\": {\"color\": \"#2a3f5f\"}, \"error_y\": {\"color\": \"#2a3f5f\"}, \"marker\": {\"line\": {\"color\": \"#E5ECF6\", \"width\": 0.5}}, \"type\": \"bar\"}], \"barpolar\": [{\"marker\": {\"line\": {\"color\": \"#E5ECF6\", \"width\": 0.5}}, \"type\": \"barpolar\"}], \"carpet\": [{\"aaxis\": {\"endlinecolor\": \"#2a3f5f\", \"gridcolor\": \"white\", \"linecolor\": \"white\", \"minorgridcolor\": \"white\", \"startlinecolor\": \"#2a3f5f\"}, \"baxis\": {\"endlinecolor\": \"#2a3f5f\", \"gridcolor\": \"white\", \"linecolor\": \"white\", \"minorgridcolor\": \"white\", \"startlinecolor\": \"#2a3f5f\"}, \"type\": \"carpet\"}], \"choropleth\": [{\"colorbar\": {\"outlinewidth\": 0, \"ticks\": \"\"}, \"type\": \"choropleth\"}], \"contour\": [{\"colorbar\": {\"outlinewidth\": 0, \"ticks\": \"\"}, \"colorscale\": [[0.0, \"#0d0887\"], [0.1111111111111111, \"#46039f\"], [0.2222222222222222, \"#7201a8\"], [0.3333333333333333, \"#9c179e\"], [0.4444444444444444, \"#bd3786\"], [0.5555555555555556, \"#d8576b\"], [0.6666666666666666, \"#ed7953\"], [0.7777777777777778, \"#fb9f3a\"], [0.8888888888888888, \"#fdca26\"], [1.0, \"#f0f921\"]], \"type\": \"contour\"}], \"contourcarpet\": [{\"colorbar\": {\"outlinewidth\": 0, \"ticks\": \"\"}, \"type\": \"contourcarpet\"}], \"heatmap\": [{\"colorbar\": {\"outlinewidth\": 0, \"ticks\": \"\"}, \"colorscale\": [[0.0, \"#0d0887\"], [0.1111111111111111, \"#46039f\"], [0.2222222222222222, \"#7201a8\"], [0.3333333333333333, \"#9c179e\"], [0.4444444444444444, \"#bd3786\"], [0.5555555555555556, \"#d8576b\"], [0.6666666666666666, \"#ed7953\"], [0.7777777777777778, \"#fb9f3a\"], [0.8888888888888888, \"#fdca26\"], [1.0, \"#f0f921\"]], \"type\": \"heatmap\"}], \"heatmapgl\": [{\"colorbar\": {\"outlinewidth\": 0, \"ticks\": \"\"}, \"colorscale\": [[0.0, \"#0d0887\"], [0.1111111111111111, \"#46039f\"], [0.2222222222222222, \"#7201a8\"], [0.3333333333333333, \"#9c179e\"], [0.4444444444444444, \"#bd3786\"], [0.5555555555555556, \"#d8576b\"], [0.6666666666666666, \"#ed7953\"], [0.7777777777777778, \"#fb9f3a\"], [0.8888888888888888, \"#fdca26\"], [1.0, \"#f0f921\"]], \"type\": \"heatmapgl\"}], \"histogram\": [{\"marker\": {\"colorbar\": {\"outlinewidth\": 0, \"ticks\": \"\"}}, \"type\": \"histogram\"}], \"histogram2d\": [{\"colorbar\": {\"outlinewidth\": 0, \"ticks\": \"\"}, \"colorscale\": [[0.0, \"#0d0887\"], [0.1111111111111111, \"#46039f\"], [0.2222222222222222, \"#7201a8\"], [0.3333333333333333, \"#9c179e\"], [0.4444444444444444, \"#bd3786\"], [0.5555555555555556, \"#d8576b\"], [0.6666666666666666, \"#ed7953\"], [0.7777777777777778, \"#fb9f3a\"], [0.8888888888888888, \"#fdca26\"], [1.0, \"#f0f921\"]], \"type\": \"histogram2d\"}], \"histogram2dcontour\": [{\"colorbar\": {\"outlinewidth\": 0, \"ticks\": \"\"}, \"colorscale\": [[0.0, \"#0d0887\"], [0.1111111111111111, \"#46039f\"], [0.2222222222222222, \"#7201a8\"], [0.3333333333333333, \"#9c179e\"], [0.4444444444444444, \"#bd3786\"], [0.5555555555555556, \"#d8576b\"], [0.6666666666666666, \"#ed7953\"], [0.7777777777777778, \"#fb9f3a\"], [0.8888888888888888, \"#fdca26\"], [1.0, \"#f0f921\"]], \"type\": \"histogram2dcontour\"}], \"mesh3d\": [{\"colorbar\": {\"outlinewidth\": 0, \"ticks\": \"\"}, \"type\": \"mesh3d\"}], \"parcoords\": [{\"line\": {\"colorbar\": {\"outlinewidth\": 0, \"ticks\": \"\"}}, \"type\": \"parcoords\"}], \"pie\": [{\"automargin\": true, \"type\": \"pie\"}], \"scatter\": [{\"marker\": {\"colorbar\": {\"outlinewidth\": 0, \"ticks\": \"\"}}, \"type\": \"scatter\"}], \"scatter3d\": [{\"line\": {\"colorbar\": {\"outlinewidth\": 0, \"ticks\": \"\"}}, \"marker\": {\"colorbar\": {\"outlinewidth\": 0, \"ticks\": \"\"}}, \"type\": \"scatter3d\"}], \"scattercarpet\": [{\"marker\": {\"colorbar\": {\"outlinewidth\": 0, \"ticks\": \"\"}}, \"type\": \"scattercarpet\"}], \"scattergeo\": [{\"marker\": {\"colorbar\": {\"outlinewidth\": 0, \"ticks\": \"\"}}, \"type\": \"scattergeo\"}], \"scattergl\": [{\"marker\": {\"colorbar\": {\"outlinewidth\": 0, \"ticks\": \"\"}}, \"type\": \"scattergl\"}], \"scattermapbox\": [{\"marker\": {\"colorbar\": {\"outlinewidth\": 0, \"ticks\": \"\"}}, \"type\": \"scattermapbox\"}], \"scatterpolar\": [{\"marker\": {\"colorbar\": {\"outlinewidth\": 0, \"ticks\": \"\"}}, \"type\": \"scatterpolar\"}], \"scatterpolargl\": [{\"marker\": {\"colorbar\": {\"outlinewidth\": 0, \"ticks\": \"\"}}, \"type\": \"scatterpolargl\"}], \"scatterternary\": [{\"marker\": {\"colorbar\": {\"outlinewidth\": 0, \"ticks\": \"\"}}, \"type\": \"scatterternary\"}], \"surface\": [{\"colorbar\": {\"outlinewidth\": 0, \"ticks\": \"\"}, \"colorscale\": [[0.0, \"#0d0887\"], [0.1111111111111111, \"#46039f\"], [0.2222222222222222, \"#7201a8\"], [0.3333333333333333, \"#9c179e\"], [0.4444444444444444, \"#bd3786\"], [0.5555555555555556, \"#d8576b\"], [0.6666666666666666, \"#ed7953\"], [0.7777777777777778, \"#fb9f3a\"], [0.8888888888888888, \"#fdca26\"], [1.0, \"#f0f921\"]], \"type\": \"surface\"}], \"table\": [{\"cells\": {\"fill\": {\"color\": \"#EBF0F8\"}, \"line\": {\"color\": \"white\"}}, \"header\": {\"fill\": {\"color\": \"#C8D4E3\"}, \"line\": {\"color\": \"white\"}}, \"type\": \"table\"}]}, \"layout\": {\"annotationdefaults\": {\"arrowcolor\": \"#2a3f5f\", \"arrowhead\": 0, \"arrowwidth\": 1}, \"coloraxis\": {\"colorbar\": {\"outlinewidth\": 0, \"ticks\": \"\"}}, \"colorscale\": {\"diverging\": [[0, \"#8e0152\"], [0.1, \"#c51b7d\"], [0.2, \"#de77ae\"], [0.3, \"#f1b6da\"], [0.4, \"#fde0ef\"], [0.5, \"#f7f7f7\"], [0.6, \"#e6f5d0\"], [0.7, \"#b8e186\"], [0.8, \"#7fbc41\"], [0.9, \"#4d9221\"], [1, \"#276419\"]], \"sequential\": [[0.0, \"#0d0887\"], [0.1111111111111111, \"#46039f\"], [0.2222222222222222, \"#7201a8\"], [0.3333333333333333, \"#9c179e\"], [0.4444444444444444, \"#bd3786\"], [0.5555555555555556, \"#d8576b\"], [0.6666666666666666, \"#ed7953\"], [0.7777777777777778, \"#fb9f3a\"], [0.8888888888888888, \"#fdca26\"], [1.0, \"#f0f921\"]], \"sequentialminus\": [[0.0, \"#0d0887\"], [0.1111111111111111, \"#46039f\"], [0.2222222222222222, \"#7201a8\"], [0.3333333333333333, \"#9c179e\"], [0.4444444444444444, \"#bd3786\"], [0.5555555555555556, \"#d8576b\"], [0.6666666666666666, \"#ed7953\"], [0.7777777777777778, \"#fb9f3a\"], [0.8888888888888888, \"#fdca26\"], [1.0, \"#f0f921\"]]}, \"colorway\": [\"#636efa\", \"#EF553B\", \"#00cc96\", \"#ab63fa\", \"#FFA15A\", \"#19d3f3\", \"#FF6692\", \"#B6E880\", \"#FF97FF\", \"#FECB52\"], \"font\": {\"color\": \"#2a3f5f\"}, \"geo\": {\"bgcolor\": \"white\", \"lakecolor\": \"white\", \"landcolor\": \"#E5ECF6\", \"showlakes\": true, \"showland\": true, \"subunitcolor\": \"white\"}, \"hoverlabel\": {\"align\": \"left\"}, \"hovermode\": \"closest\", \"mapbox\": {\"style\": \"light\"}, \"paper_bgcolor\": \"white\", \"plot_bgcolor\": \"#E5ECF6\", \"polar\": {\"angularaxis\": {\"gridcolor\": \"white\", \"linecolor\": \"white\", \"ticks\": \"\"}, \"bgcolor\": \"#E5ECF6\", \"radialaxis\": {\"gridcolor\": \"white\", \"linecolor\": \"white\", \"ticks\": \"\"}}, \"scene\": {\"xaxis\": {\"backgroundcolor\": \"#E5ECF6\", \"gridcolor\": \"white\", \"gridwidth\": 2, \"linecolor\": \"white\", \"showbackground\": true, \"ticks\": \"\", \"zerolinecolor\": \"white\"}, \"yaxis\": {\"backgroundcolor\": \"#E5ECF6\", \"gridcolor\": \"white\", \"gridwidth\": 2, \"linecolor\": \"white\", \"showbackground\": true, \"ticks\": \"\", \"zerolinecolor\": \"white\"}, \"zaxis\": {\"backgroundcolor\": \"#E5ECF6\", \"gridcolor\": \"white\", \"gridwidth\": 2, \"linecolor\": \"white\", \"showbackground\": true, \"ticks\": \"\", \"zerolinecolor\": \"white\"}}, \"shapedefaults\": {\"line\": {\"color\": \"#2a3f5f\"}}, \"ternary\": {\"aaxis\": {\"gridcolor\": \"white\", \"linecolor\": \"white\", \"ticks\": \"\"}, \"baxis\": {\"gridcolor\": \"white\", \"linecolor\": \"white\", \"ticks\": \"\"}, \"bgcolor\": \"#E5ECF6\", \"caxis\": {\"gridcolor\": \"white\", \"linecolor\": \"white\", \"ticks\": \"\"}}, \"title\": {\"x\": 0.05}, \"xaxis\": {\"automargin\": true, \"gridcolor\": \"white\", \"linecolor\": \"white\", \"ticks\": \"\", \"title\": {\"standoff\": 15}, \"zerolinecolor\": \"white\", \"zerolinewidth\": 2}, \"yaxis\": {\"automargin\": true, \"gridcolor\": \"white\", \"linecolor\": \"white\", \"ticks\": \"\", \"title\": {\"standoff\": 15}, \"zerolinecolor\": \"white\", \"zerolinewidth\": 2}}}, \"title\": {\"font\": {\"color\": \"#4D5663\"}}, \"xaxis\": {\"gridcolor\": \"#E1E5ED\", \"showgrid\": true, \"tickfont\": {\"color\": \"#4D5663\"}, \"title\": {\"font\": {\"color\": \"#4D5663\"}, \"text\": \"\"}, \"zerolinecolor\": \"#E1E5ED\"}, \"yaxis\": {\"gridcolor\": \"#E1E5ED\", \"showgrid\": true, \"tickfont\": {\"color\": \"#4D5663\"}, \"title\": {\"font\": {\"color\": \"#4D5663\"}, \"text\": \"\"}, \"zerolinecolor\": \"#E1E5ED\"}},\n",
       "                        {\"showLink\": true, \"linkText\": \"Export to plot.ly\", \"plotlyServerURL\": \"https://plot.ly\", \"responsive\": true}\n",
       "                    ).then(function(){\n",
       "                            \n",
       "var gd = document.getElementById('5a443eec-7c7c-47cb-9e43-01e013aed897');\n",
       "var x = new MutationObserver(function (mutations, observer) {{\n",
       "        var display = window.getComputedStyle(gd).display;\n",
       "        if (!display || display === 'none') {{\n",
       "            console.log([gd, 'removed!']);\n",
       "            Plotly.purge(gd);\n",
       "            observer.disconnect();\n",
       "        }}\n",
       "}});\n",
       "\n",
       "// Listen for the removal of the full notebook cells\n",
       "var notebookContainer = gd.closest('#notebook-container');\n",
       "if (notebookContainer) {{\n",
       "    x.observe(notebookContainer, {childList: true});\n",
       "}}\n",
       "\n",
       "// Listen for the clearing of the current output cell\n",
       "var outputEl = gd.closest('.output');\n",
       "if (outputEl) {{\n",
       "    x.observe(outputEl, {childList: true});\n",
       "}}\n",
       "\n",
       "                        })\n",
       "                };\n",
       "                });\n",
       "            </script>\n",
       "        </div>"
      ]
     },
     "metadata": {},
     "output_type": "display_data"
    }
   ],
   "source": [
    "a=int(input(\"plot all value please enter the 1  and plot b/w olumns enter 2\"))\n",
    "if a==1:\n",
    "    cat2(df1)\n",
    "    \n",
    "elif a==2:\n",
    "    cat3(df1)\n",
    "else:\n",
    "    print(\"enter the vailed value, try again\")"
   ]
  },
  {
   "cell_type": "code",
   "execution_count": null,
   "metadata": {},
   "outputs": [],
   "source": []
  },
  {
   "cell_type": "code",
   "execution_count": null,
   "metadata": {},
   "outputs": [],
   "source": []
  }
 ],
 "metadata": {
  "kernelspec": {
   "display_name": "Python 3",
   "language": "python",
   "name": "python3"
  }
 },
 "nbformat": 4,
 "nbformat_minor": 2
}
