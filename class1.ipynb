{
 "cells": [
  {
   "cell_type": "code",
   "execution_count": 11,
   "metadata": {},
   "outputs": [],
   "source": [
    "import pandas as pd\n",
    "import plotly as pl\n",
    "import cufflinks as cl\n",
    "%matplotlib inline\n",
    "import numpy as np"
   ]
  },
  {
   "cell_type": "code",
   "execution_count": 8,
   "metadata": {},
   "outputs": [
    {
     "data": {
      "text/html": [
       "        <script type=\"text/javascript\">\n",
       "        window.PlotlyConfig = {MathJaxConfig: 'local'};\n",
       "        if (window.MathJax) {MathJax.Hub.Config({SVG: {font: \"STIX-Web\"}});}\n",
       "        if (typeof require !== 'undefined') {\n",
       "        require.undef(\"plotly\");\n",
       "        requirejs.config({\n",
       "            paths: {\n",
       "                'plotly': ['https://cdn.plot.ly/plotly-latest.min']\n",
       "            }\n",
       "        });\n",
       "        require(['plotly'], function(Plotly) {\n",
       "            window._Plotly = Plotly;\n",
       "        });\n",
       "        }\n",
       "        </script>\n",
       "        "
      ]
     },
     "metadata": {},
     "output_type": "display_data"
    },
    {
     "data": {
      "text/html": [
       "        <script type=\"text/javascript\">\n",
       "        window.PlotlyConfig = {MathJaxConfig: 'local'};\n",
       "        if (window.MathJax) {MathJax.Hub.Config({SVG: {font: \"STIX-Web\"}});}\n",
       "        if (typeof require !== 'undefined') {\n",
       "        require.undef(\"plotly\");\n",
       "        requirejs.config({\n",
       "            paths: {\n",
       "                'plotly': ['https://cdn.plot.ly/plotly-latest.min']\n",
       "            }\n",
       "        });\n",
       "        require(['plotly'], function(Plotly) {\n",
       "            window._Plotly = Plotly;\n",
       "        });\n",
       "        }\n",
       "        </script>\n",
       "        "
      ]
     },
     "metadata": {},
     "output_type": "display_data"
    }
   ],
   "source": [
    "import plotly.offline as po\n",
    "po.init_notebook_mode(connected=True)\n",
    "cl.go_offline()"
   ]
  },
  {
   "cell_type": "code",
   "execution_count": 9,
   "metadata": {},
   "outputs": [],
   "source": [
    "%reload_ext autoreload\n",
    "%autoreload 2\n",
    "cl.set_config_file(world_readable=True,theme='pearl')"
   ]
  },
  {
   "cell_type": "code",
   "execution_count": 12,
   "metadata": {},
   "outputs": [
    {
     "data": {
      "text/html": [
       "<div>\n",
       "<style scoped>\n",
       "    .dataframe tbody tr th:only-of-type {\n",
       "        vertical-align: middle;\n",
       "    }\n",
       "\n",
       "    .dataframe tbody tr th {\n",
       "        vertical-align: top;\n",
       "    }\n",
       "\n",
       "    .dataframe thead th {\n",
       "        text-align: right;\n",
       "    }\n",
       "</style>\n",
       "<table border=\"1\" class=\"dataframe\">\n",
       "  <thead>\n",
       "    <tr style=\"text-align: right;\">\n",
       "      <th></th>\n",
       "      <th>IBM</th>\n",
       "      <th>MSFT</th>\n",
       "      <th>GOOG</th>\n",
       "      <th>VERZ</th>\n",
       "      <th>APPL</th>\n",
       "    </tr>\n",
       "  </thead>\n",
       "  <tbody>\n",
       "    <tr>\n",
       "      <td>2015-01-01</td>\n",
       "      <td>-1.286880</td>\n",
       "      <td>-0.142318</td>\n",
       "      <td>0.887860</td>\n",
       "      <td>0.204874</td>\n",
       "      <td>1.081935</td>\n",
       "    </tr>\n",
       "    <tr>\n",
       "      <td>2015-01-02</td>\n",
       "      <td>-0.741486</td>\n",
       "      <td>0.146156</td>\n",
       "      <td>-1.012288</td>\n",
       "      <td>0.194639</td>\n",
       "      <td>1.398002</td>\n",
       "    </tr>\n",
       "    <tr>\n",
       "      <td>2015-01-03</td>\n",
       "      <td>-0.732513</td>\n",
       "      <td>-1.398181</td>\n",
       "      <td>0.439534</td>\n",
       "      <td>0.114116</td>\n",
       "      <td>-0.253133</td>\n",
       "    </tr>\n",
       "    <tr>\n",
       "      <td>2015-01-04</td>\n",
       "      <td>0.769693</td>\n",
       "      <td>1.447156</td>\n",
       "      <td>-0.677146</td>\n",
       "      <td>-0.492864</td>\n",
       "      <td>-1.201719</td>\n",
       "    </tr>\n",
       "    <tr>\n",
       "      <td>2015-01-05</td>\n",
       "      <td>0.821359</td>\n",
       "      <td>-1.348199</td>\n",
       "      <td>0.422088</td>\n",
       "      <td>0.701843</td>\n",
       "      <td>-0.669616</td>\n",
       "    </tr>\n",
       "  </tbody>\n",
       "</table>\n",
       "</div>"
      ],
      "text/plain": [
       "                 IBM      MSFT      GOOG      VERZ      APPL\n",
       "2015-01-01 -1.286880 -0.142318  0.887860  0.204874  1.081935\n",
       "2015-01-02 -0.741486  0.146156 -1.012288  0.194639  1.398002\n",
       "2015-01-03 -0.732513 -1.398181  0.439534  0.114116 -0.253133\n",
       "2015-01-04  0.769693  1.447156 -0.677146 -0.492864 -1.201719\n",
       "2015-01-05  0.821359 -1.348199  0.422088  0.701843 -0.669616"
      ]
     },
     "execution_count": 12,
     "metadata": {},
     "output_type": "execute_result"
    }
   ],
   "source": [
    "df=pd.DataFrame(np.random.randn(100,5),index=pd.date_range('1/1/15',periods=100),\n",
    "                columns=['IBM','MSFT','GOOG','VERZ','APPL'])\n",
    "df.head()"
   ]
  },
  {
   "cell_type": "code",
   "execution_count": 13,
   "metadata": {},
   "outputs": [],
   "source": [
    "df=df.cumsum()"
   ]
  },
  {
   "cell_type": "code",
   "execution_count": 14,
   "metadata": {},
   "outputs": [
    {
     "data": {
      "text/html": [
       "<div>\n",
       "<style scoped>\n",
       "    .dataframe tbody tr th:only-of-type {\n",
       "        vertical-align: middle;\n",
       "    }\n",
       "\n",
       "    .dataframe tbody tr th {\n",
       "        vertical-align: top;\n",
       "    }\n",
       "\n",
       "    .dataframe thead th {\n",
       "        text-align: right;\n",
       "    }\n",
       "</style>\n",
       "<table border=\"1\" class=\"dataframe\">\n",
       "  <thead>\n",
       "    <tr style=\"text-align: right;\">\n",
       "      <th></th>\n",
       "      <th>IBM</th>\n",
       "      <th>MSFT</th>\n",
       "      <th>GOOG</th>\n",
       "      <th>VERZ</th>\n",
       "      <th>APPL</th>\n",
       "    </tr>\n",
       "  </thead>\n",
       "  <tbody>\n",
       "    <tr>\n",
       "      <td>2015-01-01</td>\n",
       "      <td>-1.286880</td>\n",
       "      <td>-0.142318</td>\n",
       "      <td>0.887860</td>\n",
       "      <td>0.204874</td>\n",
       "      <td>1.081935</td>\n",
       "    </tr>\n",
       "    <tr>\n",
       "      <td>2015-01-02</td>\n",
       "      <td>-2.028367</td>\n",
       "      <td>0.003838</td>\n",
       "      <td>-0.124429</td>\n",
       "      <td>0.399513</td>\n",
       "      <td>2.479938</td>\n",
       "    </tr>\n",
       "    <tr>\n",
       "      <td>2015-01-03</td>\n",
       "      <td>-2.760879</td>\n",
       "      <td>-1.394342</td>\n",
       "      <td>0.315106</td>\n",
       "      <td>0.513629</td>\n",
       "      <td>2.226805</td>\n",
       "    </tr>\n",
       "    <tr>\n",
       "      <td>2015-01-04</td>\n",
       "      <td>-1.991186</td>\n",
       "      <td>0.052813</td>\n",
       "      <td>-0.362040</td>\n",
       "      <td>0.020765</td>\n",
       "      <td>1.025086</td>\n",
       "    </tr>\n",
       "    <tr>\n",
       "      <td>2015-01-05</td>\n",
       "      <td>-1.169827</td>\n",
       "      <td>-1.295386</td>\n",
       "      <td>0.060048</td>\n",
       "      <td>0.722608</td>\n",
       "      <td>0.355471</td>\n",
       "    </tr>\n",
       "  </tbody>\n",
       "</table>\n",
       "</div>"
      ],
      "text/plain": [
       "                 IBM      MSFT      GOOG      VERZ      APPL\n",
       "2015-01-01 -1.286880 -0.142318  0.887860  0.204874  1.081935\n",
       "2015-01-02 -2.028367  0.003838 -0.124429  0.399513  2.479938\n",
       "2015-01-03 -2.760879 -1.394342  0.315106  0.513629  2.226805\n",
       "2015-01-04 -1.991186  0.052813 -0.362040  0.020765  1.025086\n",
       "2015-01-05 -1.169827 -1.295386  0.060048  0.722608  0.355471"
      ]
     },
     "execution_count": 14,
     "metadata": {},
     "output_type": "execute_result"
    }
   ],
   "source": [
    "df.head()"
   ]
  },
  {
   "cell_type": "code",
   "execution_count": 15,
   "metadata": {},
   "outputs": [
    {
     "name": "stdout",
     "output_type": "stream",
     "text": [
      "Help on method _iplot in module cufflinks.plotlytools:\n",
      "\n",
      "_iplot(kind='scatter', data=None, layout=None, filename='', sharing=None, title='', xTitle='', yTitle='', zTitle='', theme=None, colors=None, colorscale=None, fill=False, width=None, dash='solid', mode='', interpolation='linear', symbol='circle', size=12, barmode='', sortbars=False, bargap=None, bargroupgap=None, bins=None, histnorm='', histfunc='count', orientation='v', boxpoints=False, annotations=None, keys=False, bestfit=False, bestfit_colors=None, mean=False, mean_colors=None, categories='', x='', y='', z='', text='', gridcolor=None, zerolinecolor=None, margin=None, labels=None, values=None, secondary_y='', secondary_y_title='', subplots=False, shape=None, error_x=None, error_y=None, error_type='data', locations=None, lon=None, lat=None, asFrame=False, asDates=False, asFigure=False, asImage=False, dimensions=None, asPlot=False, asUrl=False, online=None, **kwargs) method of pandas.core.frame.DataFrame instance\n",
      "           Returns a plotly chart either as inline chart, image of Figure object\n",
      "    \n",
      "           Parameters:\n",
      "           -----------\n",
      "                   kind : string\n",
      "                           Kind of chart\n",
      "                                   scatter\n",
      "                                   bar\n",
      "                                   box\n",
      "                                   spread\n",
      "                                   ratio\n",
      "                                   heatmap\n",
      "                                   surface\n",
      "                                   histogram\n",
      "                                   bubble\n",
      "                                   bubble3d\n",
      "                                   scatter3d       \n",
      "                                   scattergeo\n",
      "                                   ohlc\n",
      "                                   candle\n",
      "                                   pie\n",
      "                                   choroplet       \n",
      "                   data : Data\n",
      "                           Plotly Data Object.\n",
      "                           If not entered then the Data object will be automatically\n",
      "                           generated from the DataFrame.\n",
      "                   layout : Layout\n",
      "                           Plotly layout Object\n",
      "                           If not entered then the Layout objet will be automatically\n",
      "                           generated from the DataFrame.\n",
      "                   filename : string\n",
      "                           Filename to be saved as in plotly account\n",
      "                   sharing : string\n",
      "                           Sets the sharing level permission\n",
      "                                   public - anyone can see this chart\n",
      "                                   private - only you can see this chart\n",
      "                                   secret - only people with the link can see the chart\n",
      "                   title : string\n",
      "                           Chart Title                             \n",
      "                   xTitle : string\n",
      "                           X Axis Title\n",
      "                   yTitle : string\n",
      "                           Y Axis Title\n",
      "                                   zTitle : string\n",
      "                   zTitle : string\n",
      "                           Z Axis Title\n",
      "                           Applicable only for 3d charts\n",
      "                   theme : string\n",
      "                           Layout Theme\n",
      "                                   solar\n",
      "                                   pearl\n",
      "                                   white           \n",
      "                           see cufflinks.getThemes() for all \n",
      "                           available themes\n",
      "                   colors : dict, list or string\n",
      "                           {key:color} to specify the color for each column\n",
      "                           [colors] to use the colors in the defined order\n",
      "                   colorscale : string\n",
      "                           Color scale name\n",
      "                           If the color name is preceded by a minus (-) \n",
      "                           then the scale is inversed\n",
      "                           Only valid if 'colors' is null\n",
      "                           See cufflinks.colors.scales() for available scales\n",
      "                   fill : bool\n",
      "                           Filled Traces           \n",
      "                   width : dict, list or int\n",
      "                                   int : applies to all traces\n",
      "                                   list : applies to each trace in the order \n",
      "                                                   specified\n",
      "                                   dict: {column:value} for each column in \n",
      "                                                   the dataframe\n",
      "                           Line width      \n",
      "                   dash : dict, list or string\n",
      "                                   string : applies to all traces\n",
      "                                   list : applies to each trace in the order \n",
      "                                                   specified\n",
      "                                   dict: {column:value} for each column in \n",
      "                                                   the dataframe\n",
      "                           Drawing style of lines\n",
      "                                   solid\n",
      "                                   dash\n",
      "                                   dashdot\n",
      "                                   dot\n",
      "                   mode : dict, list or string\n",
      "                                   string : applies to all traces\n",
      "                                   list : applies to each trace in the order \n",
      "                                                   specified\n",
      "                                   dict: {column:value} for each column in \n",
      "                                                   the dataframe\n",
      "                           Plotting mode for scatter trace\n",
      "                                   lines\n",
      "                                   markers\n",
      "                                   lines+markers\n",
      "                                   lines+text\n",
      "                                   markers+text\n",
      "                                   lines+markers+text\n",
      "                   interpolation : dict, list, or string\n",
      "                                   string : applies to all traces\n",
      "                                   list : applies to each trace in the order \n",
      "                                                   specified\n",
      "                                   dict: {column:value} for each column in \n",
      "                                                   the dataframe\n",
      "                           Positioning of the connecting lines\n",
      "                                   linear\n",
      "                                   spline\n",
      "                                   vhv\n",
      "                                   hvh\n",
      "                                   vh\n",
      "                                   hv              \n",
      "                   symbol : dict, list or string\n",
      "                                   string : applies to all traces\n",
      "                                   list : applies to each trace in the order \n",
      "                                                   specified\n",
      "                                   dict: {column:value} for each column in \n",
      "                                                   the dataframe\n",
      "                           The symbol that is drawn on the plot for each marker\n",
      "                           Valid only when mode includes markers\n",
      "                                   circle\n",
      "                                   circle-dot\n",
      "                                   diamond\n",
      "                                   square\n",
      "                                   and many more...(see plotly.validators.scatter.marker.SymbolValidator.values)\n",
      "                   size : string or int \n",
      "                           Size of marker \n",
      "                           Valid only if marker in mode\n",
      "                   barmode : string\n",
      "                           Mode when displaying bars\n",
      "                                   group\n",
      "                                   stack\n",
      "                                   overlay\n",
      "                           * Only valid when kind='bar'\n",
      "                   sortbars : bool\n",
      "                           Sort bars in descending order\n",
      "                           * Only valid when kind='bar'\n",
      "                   bargap : float\n",
      "                           Sets the gap between bars\n",
      "                                   [0,1)\n",
      "                           * Only valid when kind is 'histogram' or 'bar'\n",
      "                   bargroupgap : float\n",
      "                           Set the gap between groups\n",
      "                                   [0,1)\n",
      "                           * Only valid when kind is 'histogram' or 'bar'          \n",
      "                   bins : int or tuple \n",
      "                           if int:\n",
      "                                   Specifies the number of bins \n",
      "                           if tuple:\n",
      "                                   (start, end, size)\n",
      "                                   start : starting value\n",
      "                                   end: end value\n",
      "                                   size: bin size\n",
      "                           * Only valid when kind='histogram'\n",
      "    \n",
      "                   histnorm : string\n",
      "                                   '' (frequency)\n",
      "                                   percent\n",
      "                                   probability\n",
      "                                   density\n",
      "                                   probability density\n",
      "                           Sets the type of normalization for an histogram trace. By default\n",
      "                           the height of each bar displays the frequency of occurrence, i.e., \n",
      "                           the number of times this value was found in the\n",
      "                           corresponding bin. If set to 'percent', the height of each bar\n",
      "                           displays the percentage of total occurrences found within the\n",
      "                           corresponding bin. If set to 'probability', the height of each bar\n",
      "                           displays the probability that an event will fall into the\n",
      "                           corresponding bin. If set to 'density', the height of each bar is\n",
      "                           equal to the number of occurrences in a bin divided by the size of\n",
      "                           the bin interval such that summing the area of all bins will yield\n",
      "                           the total number of occurrences. If set to 'probability density',\n",
      "                           the height of each bar is equal to the number of probability that an\n",
      "                           event will fall into the corresponding bin divided by the size of\n",
      "                           the bin interval such that summing the area of all bins will yield\n",
      "                           1.\n",
      "                           * Only valid when kind='histogram'\n",
      "                   histfunc : string\n",
      "                                   count\n",
      "                                   sum\n",
      "                                   avg\n",
      "                                   min\n",
      "                                   max\n",
      "                      Sets the binning function used for an histogram trace. \n",
      "                           * Only valid when kind='histogram'           \n",
      "                   orientation : string\n",
      "                                   h \n",
      "                                   v\n",
      "                           Sets the orientation of the bars. If set to 'v', the length of each\n",
      "    |          bar will run vertically. If set to 'h', the length of each bar will\n",
      "    |          run horizontally\n",
      "                           * Only valid when kind is 'histogram','bar' or 'box'\n",
      "                   boxpoints : string\n",
      "                           Displays data points in a box plot\n",
      "                                   outliers\n",
      "                                   all\n",
      "                                   suspectedoutliers\n",
      "                                   False\n",
      "                   annotations : dictionary\n",
      "                           Dictionary of annotations\n",
      "                           {x_point : text}\n",
      "                   keys : list of columns\n",
      "                           List of columns to chart.\n",
      "                           Also can be used for custom sorting.\n",
      "                   bestfit : boolean or list\n",
      "                           If True then a best fit line will be generated for\n",
      "                           all columns.\n",
      "                           If list then a best fit line will be generated for\n",
      "                           each key on the list.\n",
      "                   bestfit_colors : list or dict\n",
      "                           {key:color} to specify the color for each column\n",
      "                           [colors] to use the colors in the defined order \n",
      "                   categories : string\n",
      "                           Name of the column that contains the categories\n",
      "                   x : string\n",
      "                           Name of the column that contains the x axis values              \n",
      "                   y : string\n",
      "                           Name of the column that contains the y axis values\n",
      "                   z : string\n",
      "                           Name of the column that contains the z axis values                                      \n",
      "                   text : string\n",
      "                           Name of the column that contains the text values        \n",
      "                   gridcolor : string\n",
      "                           Grid color      \n",
      "                   zerolinecolor : string\n",
      "                           Zero line color\n",
      "                   margin : dict or tuple\n",
      "                           Dictionary (l,r,b,t) or\n",
      "                           Tuple containing the left,\n",
      "                           right, bottom and top margins\n",
      "                   labels : string\n",
      "                           Name of the column that contains the labels.\n",
      "                           * Only valid when kind='pie' \n",
      "                   values : string\n",
      "                           Name of the column that contains the values.\n",
      "                           * Only valid when kind='pie'\n",
      "                   secondary_y : string or list(string)\n",
      "                           Name(s) of the column to be charted on the \n",
      "                           right hand side axis\n",
      "                   secondary_y_title : string\n",
      "                           Title of the secondary axis\n",
      "                   subplots : bool\n",
      "                           If true then each trace is placed in \n",
      "                           subplot layout\n",
      "                   shape : (rows,cols)\n",
      "                           Tuple indicating the size of rows and columns\n",
      "                           If omitted then the layout is automatically set\n",
      "                           * Only valid when subplots=True\n",
      "                   error_x : int or float or [int or float]\n",
      "                           error values for the x axis\n",
      "                   error_y : int or float or [int or float]\n",
      "                           error values for the y axis\n",
      "                   error_type : string\n",
      "                           type of error bars\n",
      "                                   'data' \n",
      "                                   'constant'\n",
      "                                   'percent'\n",
      "                                   'sqrt'\n",
      "                                   'continuous'\n",
      "                                   'continuous_percent'\n",
      "                   asFrame : bool\n",
      "                           If true then the data component of Figure will\n",
      "                           be of Pandas form (Series) otherwise they will \n",
      "                           be index values\n",
      "                   asDates : bool\n",
      "                           If true it truncates times from a DatetimeIndex\n",
      "                   asFigure : bool\n",
      "                           If True returns plotly Figure\n",
      "                   asImage : bool\n",
      "                           If True it returns an Image (png)\n",
      "                           In ONLINE mode:\n",
      "                                   Image file is saved in the working directory                            \n",
      "                                           Accepts:\n",
      "                                                   filename\n",
      "                                                   dimensions\n",
      "                                                   scale\n",
      "                                                   display_image\n",
      "                           In OFFLINE mode:\n",
      "                                   Image file is downloaded (downloads folder) and a \n",
      "                                   regular plotly chart is displayed in Jupyter\n",
      "                                           Accepts:\n",
      "                                                   filename\n",
      "                                                   dimensions\n",
      "                   dimensions : tuple(int,int)\n",
      "                           Dimensions for image / chart\n",
      "                                   (width,height)          \n",
      "                   asPlot : bool\n",
      "                           If True the chart opens in browser\n",
      "                   asUrl : bool\n",
      "                           If True the chart url/path is returned. No chart is displayed. \n",
      "                                   If Online : the URL is returned\n",
      "                                   If Offline : the local path is returned\n",
      "                   online : bool\n",
      "                           If True then the chart/image is rendered on the server \n",
      "                           even when running in offline mode. \n",
      "    \n",
      "                   Other Kwargs\n",
      "                   ============\n",
      "                   Line, Scatter\n",
      "                           connectgaps : bool\n",
      "                                   If True, empty values are connected \n",
      "                   Pie charts\n",
      "                           sort : bool\n",
      "                                   If True it sorts the labels by value\n",
      "                           pull : float [0-1]\n",
      "                                   Pulls the slices from the centre \n",
      "                           hole : float [0-1]\n",
      "                                   Sets the size of the inner hole\n",
      "                           linecolor : string\n",
      "                                   Sets the color for the contour line of the slices\n",
      "                           linewidth : string\n",
      "                                   Sets the width for the contour line of the slices       \n",
      "                           textcolor : string\n",
      "                                   Sets the color for the text in the slices\n",
      "                           textposition : string \n",
      "                                   Sets the position of the legends for each slice\n",
      "                                           outside\n",
      "                                           inner\n",
      "                           textinfo : string \n",
      "                                   Sets the information to be displayed on \n",
      "                                   the legends \n",
      "                                           label\n",
      "                                           percent\n",
      "                                           value\n",
      "                                           * or ony combination of the above using \n",
      "                                             '+' between each item\n",
      "                                             ie 'label+percent'\n",
      "    \n",
      "                   Histogram\n",
      "                           linecolor : string\n",
      "                                   specifies the line color of the histogram\n",
      "    \n",
      "                   Heatmap and Surface\n",
      "                           center_scale : float\n",
      "                                   Centers the colorscale at a specific value\n",
      "                                   Automatically sets the (zmin,zmax) values\n",
      "                           zmin : float\n",
      "                                   Defines the minimum range for the z values. \n",
      "                                   This affects the range for the colorscale\n",
      "                           zmax : float\n",
      "                                   Defines the maximum range for the z values. \n",
      "                                   This affects the range for the colorscale\n",
      "    \n",
      "                   Error Bars\n",
      "                           error_trace : string\n",
      "                                   Name of the column for which error should be \n",
      "                                   plotted. If omitted then errors apply to all \n",
      "                                   traces.\n",
      "                           error_values_minus : int or float or [int or float]\n",
      "                                   Values corresponding to the span of the error bars \n",
      "                                   below the trace coordinates\n",
      "                           error_color : string\n",
      "                                   Color for error bars\n",
      "                           error_thickness : float \n",
      "                                   Sets the line thickness of the error bars\n",
      "                           error_width :  float\n",
      "                                   Sets the width (in pixels) of the cross-bar at both \n",
      "                                   ends of the error bars\n",
      "                           error_opacity : float [0,1]\n",
      "                                   Opacity for the error bars\n",
      "    \n",
      "                   Subplots\n",
      "                           horizontal_spacing : float [0,1]\n",
      "                                   Space between subplot columns.\n",
      "                           vertical_spacing : float [0,1]\n",
      "                                   Space between subplot rows.\n",
      "                           subplot_titles : bool\n",
      "                                   If True, chart titles are plotted\n",
      "                                   at the top of each subplot\n",
      "                           shared_xaxes : bool\n",
      "                                   Assign shared x axes.\n",
      "                                   If True, subplots in the same grid column have one common\n",
      "                                   shared x-axis at the bottom of the grid.\n",
      "                           shared_yaxes : bool\n",
      "                                   Assign shared y axes.\n",
      "                                   If True, subplots in the same grid row have one common\n",
      "                                   shared y-axis on the left-hand side of the grid.\n",
      "    \n",
      "                   Shapes\n",
      "                           hline : float, list or dict\n",
      "                                   Draws a horizontal line at the \n",
      "                                   indicated y position(s)\n",
      "                                   Extra parameters can be passed in\n",
      "                                   the form of a dictionary (see shapes)\n",
      "                           vline : float, list or dict\n",
      "                                   Draws a vertical line at the \n",
      "                                   indicated x position(s)\n",
      "                                   Extra parameters can be passed in\n",
      "                                   the form of a dictionary (see shapes)\n",
      "                           hpsan : (y0,y1)\n",
      "                                   Draws a horizontal rectangle at the \n",
      "                                   indicated (y0,y1) positions.\n",
      "                                   Extra parameters can be passed in\n",
      "                                   the form of a dictionary (see shapes)\n",
      "                           vspan : (x0,x1)\n",
      "                                   Draws a vertical rectangle at the \n",
      "                                   indicated (x0,x1) positions.\n",
      "                                   Extra parameters can be passed in\n",
      "                                   the form of a dictionary (see shapes)\n",
      "                           shapes : dict or list(dict)\n",
      "                                   List of dictionaries with the \n",
      "                                   specifications of a given shape.\n",
      "                                   See help(cufflinks.tools.get_shape)\n",
      "                                   for more information\n",
      "                   \n",
      "                   Axis Ranges\n",
      "                           xrange : [lower_bound,upper_bound]\n",
      "                                   Sets the range for the x axis\n",
      "                           yrange : [lower_bound,upper_bound]\n",
      "                                   Sets the range for the y axis\n",
      "                           zrange : [lower_bound,upper_bound]\n",
      "                                   Sets the range for the z axis\n",
      "                                   \n",
      "                   Explicit Layout Updates\n",
      "                           layout_update : dict\n",
      "                                   The layout will be modified with all \n",
      "                                   the explicit values stated in the \n",
      "                                   dictionary. \n",
      "                                   It will not apply if layout is passed\n",
      "                                   as parameter.\n",
      "    \n",
      "    \n",
      "                   Range Selector\n",
      "                           rangeselector : dict\n",
      "                                   Defines a rangeselector object\n",
      "                                   see help(cf.tools.get_range_selector) for more information\n",
      "                                   Example:\n",
      "                                           {'steps':['1y','2 months','5 weeks','ytd','2mtd'],\n",
      "                                            'axis':'xaxis', 'bgcolor' : ('blue',.3),\n",
      "                                            'x': 0.2 , 'y' : 0.9}\n",
      "    \n",
      "                   Range Slider\n",
      "                           rangeslider : bool or dict\n",
      "                                   Defines if a rangeslider is displayed\n",
      "                                   If bool: \n",
      "                                           True : Makes it visible\n",
      "                                   if dict:\n",
      "                                           Rangeslider object\n",
      "                                   Example:\n",
      "                                           {'bgcolor':('blue',.3),'autorange':True}\n",
      "    \n",
      "                   Annotations\n",
      "                           fontcolor : str\n",
      "                                   Text color for annotations\n",
      "                           fontsize : int\n",
      "                                   Text size for annotations\n",
      "                           textangle : int\n",
      "                                   Text angle \n",
      "                           See https://plot.ly/python/reference/#layout-annotations \n",
      "                           for a complete list of valid parameters.\n",
      "    \n",
      "                   Exports\n",
      "                           display_image : bool\n",
      "                                   If True then the image if displayed after being saved\n",
      "                                   ** only valid if asImage=True\n",
      "                           scale : integer\n",
      "                                   Increase the resolution of the image by `scale` amount\n",
      "                                   Only valid when asImage=True\n",
      "\n"
     ]
    }
   ],
   "source": [
    "help(df.iplot)"
   ]
  },
  {
   "cell_type": "code",
   "execution_count": 16,
   "metadata": {},
   "outputs": [
    {
     "data": {
      "application/vnd.plotly.v1+json": {
       "config": {
        "linkText": "Export to plot.ly",
        "plotlyServerURL": "https://plot.ly",
        "showLink": true
       },
       "data": [
        {
         "line": {
          "color": "rgba(255, 153, 51, 1.0)",
          "dash": "solid",
          "shape": "linear",
          "width": 1.3
         },
         "mode": "lines",
         "name": "GOOG",
         "text": "",
         "type": "scatter",
         "x": [
          "2015-01-01",
          "2015-01-02",
          "2015-01-03",
          "2015-01-04",
          "2015-01-05",
          "2015-01-06",
          "2015-01-07",
          "2015-01-08",
          "2015-01-09",
          "2015-01-10",
          "2015-01-11",
          "2015-01-12",
          "2015-01-13",
          "2015-01-14",
          "2015-01-15",
          "2015-01-16",
          "2015-01-17",
          "2015-01-18",
          "2015-01-19",
          "2015-01-20",
          "2015-01-21",
          "2015-01-22",
          "2015-01-23",
          "2015-01-24",
          "2015-01-25",
          "2015-01-26",
          "2015-01-27",
          "2015-01-28",
          "2015-01-29",
          "2015-01-30",
          "2015-01-31",
          "2015-02-01",
          "2015-02-02",
          "2015-02-03",
          "2015-02-04",
          "2015-02-05",
          "2015-02-06",
          "2015-02-07",
          "2015-02-08",
          "2015-02-09",
          "2015-02-10",
          "2015-02-11",
          "2015-02-12",
          "2015-02-13",
          "2015-02-14",
          "2015-02-15",
          "2015-02-16",
          "2015-02-17",
          "2015-02-18",
          "2015-02-19",
          "2015-02-20",
          "2015-02-21",
          "2015-02-22",
          "2015-02-23",
          "2015-02-24",
          "2015-02-25",
          "2015-02-26",
          "2015-02-27",
          "2015-02-28",
          "2015-03-01",
          "2015-03-02",
          "2015-03-03",
          "2015-03-04",
          "2015-03-05",
          "2015-03-06",
          "2015-03-07",
          "2015-03-08",
          "2015-03-09",
          "2015-03-10",
          "2015-03-11",
          "2015-03-12",
          "2015-03-13",
          "2015-03-14",
          "2015-03-15",
          "2015-03-16",
          "2015-03-17",
          "2015-03-18",
          "2015-03-19",
          "2015-03-20",
          "2015-03-21",
          "2015-03-22",
          "2015-03-23",
          "2015-03-24",
          "2015-03-25",
          "2015-03-26",
          "2015-03-27",
          "2015-03-28",
          "2015-03-29",
          "2015-03-30",
          "2015-03-31",
          "2015-04-01",
          "2015-04-02",
          "2015-04-03",
          "2015-04-04",
          "2015-04-05",
          "2015-04-06",
          "2015-04-07",
          "2015-04-08",
          "2015-04-09",
          "2015-04-10"
         ],
         "y": [
          0.887859548430912,
          -0.12442855812384623,
          0.31510584146026,
          -0.3620399760333849,
          0.060047799161180415,
          0.489542542000453,
          0.39864526286565544,
          -0.12691305706221562,
          -0.14653742623622149,
          -1.9942051171963504,
          -1.3676444884468961,
          -0.8372557932333661,
          -1.9188470342391222,
          -1.176425895752355,
          -0.5063944395571112,
          -0.6230886218617776,
          -0.6637716155230189,
          -0.44370395604865664,
          -1.0502230320712198,
          -1.884455201532628,
          -0.8465602088727773,
          -0.2594989167460039,
          -1.9955610009465663,
          -2.221501710910537,
          -3.217375118573837,
          -3.6208546163065196,
          -4.929555124356471,
          -4.840508167100383,
          -3.827535434970696,
          -3.867032210267071,
          -4.5063002992719685,
          -4.925453159939044,
          -4.174179782827053,
          -2.657263222654409,
          -4.307262797144048,
          -5.304732773389594,
          -4.618642038632928,
          -5.7364532527662195,
          -4.392594886900887,
          -4.4558778061555255,
          -4.9857689109230625,
          -4.156439892523207,
          -3.3815162927726474,
          -4.524633232529935,
          -2.1656811236745916,
          -3.1885135351785516,
          -3.9006128888640728,
          -4.077345971346925,
          -4.000916020536469,
          -4.4098462746028675,
          -5.639320258383571,
          -5.687101247473266,
          -5.0688162769214875,
          -5.728851900477398,
          -6.343303939209772,
          -9.328835099025895,
          -8.860782654790022,
          -8.766972470016524,
          -7.71034017674116,
          -7.34436940021025,
          -7.352338908426178,
          -5.660115446029203,
          -6.6854008273788335,
          -5.682223402388089,
          -6.9632825041098405,
          -6.678646553285244,
          -5.752049999433002,
          -6.881893383159216,
          -6.5453962916602375,
          -5.039119802550206,
          -5.338956969174161,
          -4.4834048889550315,
          -3.927119209210786,
          -4.914573738720649,
          -6.567959222482106,
          -7.620031172452751,
          -7.607736110887162,
          -7.5546361814823495,
          -7.144042517705126,
          -7.123148748328626,
          -6.136712449596261,
          -6.365268583170922,
          -7.46153901912162,
          -7.887593355698787,
          -7.24361705197415,
          -6.356909555910471,
          -5.176156220893024,
          -6.80156252352153,
          -6.802162108296153,
          -6.313537622663519,
          -3.5447733332150233,
          -3.9845629222544896,
          -2.854306918829467,
          -2.6727676110848138,
          -2.985194155696666,
          -1.9778983711938678,
          -2.829599717537466,
          -2.256304104822701,
          -3.0652309473468895,
          -3.641370706696887
         ]
        },
        {
         "line": {
          "color": "rgba(55, 128, 191, 1.0)",
          "dash": "solid",
          "shape": "linear",
          "width": 1.3
         },
         "mode": "lines",
         "name": "VERZ",
         "text": "",
         "type": "scatter",
         "x": [
          "2015-01-01",
          "2015-01-02",
          "2015-01-03",
          "2015-01-04",
          "2015-01-05",
          "2015-01-06",
          "2015-01-07",
          "2015-01-08",
          "2015-01-09",
          "2015-01-10",
          "2015-01-11",
          "2015-01-12",
          "2015-01-13",
          "2015-01-14",
          "2015-01-15",
          "2015-01-16",
          "2015-01-17",
          "2015-01-18",
          "2015-01-19",
          "2015-01-20",
          "2015-01-21",
          "2015-01-22",
          "2015-01-23",
          "2015-01-24",
          "2015-01-25",
          "2015-01-26",
          "2015-01-27",
          "2015-01-28",
          "2015-01-29",
          "2015-01-30",
          "2015-01-31",
          "2015-02-01",
          "2015-02-02",
          "2015-02-03",
          "2015-02-04",
          "2015-02-05",
          "2015-02-06",
          "2015-02-07",
          "2015-02-08",
          "2015-02-09",
          "2015-02-10",
          "2015-02-11",
          "2015-02-12",
          "2015-02-13",
          "2015-02-14",
          "2015-02-15",
          "2015-02-16",
          "2015-02-17",
          "2015-02-18",
          "2015-02-19",
          "2015-02-20",
          "2015-02-21",
          "2015-02-22",
          "2015-02-23",
          "2015-02-24",
          "2015-02-25",
          "2015-02-26",
          "2015-02-27",
          "2015-02-28",
          "2015-03-01",
          "2015-03-02",
          "2015-03-03",
          "2015-03-04",
          "2015-03-05",
          "2015-03-06",
          "2015-03-07",
          "2015-03-08",
          "2015-03-09",
          "2015-03-10",
          "2015-03-11",
          "2015-03-12",
          "2015-03-13",
          "2015-03-14",
          "2015-03-15",
          "2015-03-16",
          "2015-03-17",
          "2015-03-18",
          "2015-03-19",
          "2015-03-20",
          "2015-03-21",
          "2015-03-22",
          "2015-03-23",
          "2015-03-24",
          "2015-03-25",
          "2015-03-26",
          "2015-03-27",
          "2015-03-28",
          "2015-03-29",
          "2015-03-30",
          "2015-03-31",
          "2015-04-01",
          "2015-04-02",
          "2015-04-03",
          "2015-04-04",
          "2015-04-05",
          "2015-04-06",
          "2015-04-07",
          "2015-04-08",
          "2015-04-09",
          "2015-04-10"
         ],
         "y": [
          0.2048742448337656,
          0.3995130615403163,
          0.5136290915851257,
          0.02076516140369261,
          0.7226077593218854,
          0.05684612597054928,
          -2.290373173966028,
          -3.352705324762807,
          -3.7250925423200565,
          -4.793135650456053,
          -5.329050597202418,
          -4.387591592305006,
          -4.049448089904911,
          -5.709282777034537,
          -6.328159594193041,
          -5.224321790483151,
          -5.2544049851922985,
          -5.421682067272712,
          -5.453447794943075,
          -5.2185053146589,
          -5.352828044506808,
          -6.099418933938748,
          -5.385357244049113,
          -5.133670710990421,
          -4.985790773356901,
          -4.275721196167301,
          -4.568176178165343,
          -4.250215743788066,
          -2.6250793292773977,
          -1.4682659462139522,
          -2.1133744171717304,
          -2.3256163870395024,
          -2.5325475124338666,
          -2.8567767576541843,
          -2.1431314030437036,
          -1.7670788605729655,
          -2.296789904733288,
          -2.2121516024694006,
          -3.5342462146632085,
          -0.6964724804885365,
          1.3477234161467004,
          1.441712672948758,
          2.1058407403647976,
          1.9878836781924143,
          2.733661743162101,
          4.07587656098306,
          4.494268791352438,
          2.7551554418904525,
          3.4262226942585743,
          4.261906636597172,
          5.644921824628,
          4.413022382756968,
          5.910088337610661,
          6.542923789958097,
          6.312824948758883,
          7.0707387309998815,
          9.908110224085755,
          9.306542233112879,
          10.085829266774926,
          9.708254599022629,
          9.67875256616383,
          7.916943299423433,
          7.5583217288247715,
          8.46681747105512,
          9.205058014250898,
          7.777162993877683,
          7.405956989690508,
          8.820618268349833,
          8.580023758687686,
          7.351488938534795,
          4.329475295100899,
          3.2757851795090573,
          4.595116532455589,
          5.783659442360334,
          3.7878041018828923,
          3.044704452625716,
          2.0189657021517684,
          4.274722764937334,
          5.893714987065865,
          5.18398622503782,
          4.890734539739318,
          5.259914377771817,
          4.2388250269525924,
          2.228345073405111,
          1.0172014863258558,
          2.904580330298862,
          1.6375736383990258,
          1.6730927768195931,
          0.3295055389813142,
          1.1186980436244327,
          0.3825970786381174,
          0.2403846669254254,
          1.3424608810215752,
          2.0175060395052333,
          1.8490765888226344,
          2.361676998871574,
          2.3661487164680395,
          4.650347499849967,
          4.779357897092006,
          5.318865454818467
         ]
        },
        {
         "line": {
          "color": "rgba(50, 171, 96, 1.0)",
          "dash": "solid",
          "shape": "linear",
          "width": 1.3
         },
         "mode": "lines",
         "name": "APPL",
         "text": "",
         "type": "scatter",
         "x": [
          "2015-01-01",
          "2015-01-02",
          "2015-01-03",
          "2015-01-04",
          "2015-01-05",
          "2015-01-06",
          "2015-01-07",
          "2015-01-08",
          "2015-01-09",
          "2015-01-10",
          "2015-01-11",
          "2015-01-12",
          "2015-01-13",
          "2015-01-14",
          "2015-01-15",
          "2015-01-16",
          "2015-01-17",
          "2015-01-18",
          "2015-01-19",
          "2015-01-20",
          "2015-01-21",
          "2015-01-22",
          "2015-01-23",
          "2015-01-24",
          "2015-01-25",
          "2015-01-26",
          "2015-01-27",
          "2015-01-28",
          "2015-01-29",
          "2015-01-30",
          "2015-01-31",
          "2015-02-01",
          "2015-02-02",
          "2015-02-03",
          "2015-02-04",
          "2015-02-05",
          "2015-02-06",
          "2015-02-07",
          "2015-02-08",
          "2015-02-09",
          "2015-02-10",
          "2015-02-11",
          "2015-02-12",
          "2015-02-13",
          "2015-02-14",
          "2015-02-15",
          "2015-02-16",
          "2015-02-17",
          "2015-02-18",
          "2015-02-19",
          "2015-02-20",
          "2015-02-21",
          "2015-02-22",
          "2015-02-23",
          "2015-02-24",
          "2015-02-25",
          "2015-02-26",
          "2015-02-27",
          "2015-02-28",
          "2015-03-01",
          "2015-03-02",
          "2015-03-03",
          "2015-03-04",
          "2015-03-05",
          "2015-03-06",
          "2015-03-07",
          "2015-03-08",
          "2015-03-09",
          "2015-03-10",
          "2015-03-11",
          "2015-03-12",
          "2015-03-13",
          "2015-03-14",
          "2015-03-15",
          "2015-03-16",
          "2015-03-17",
          "2015-03-18",
          "2015-03-19",
          "2015-03-20",
          "2015-03-21",
          "2015-03-22",
          "2015-03-23",
          "2015-03-24",
          "2015-03-25",
          "2015-03-26",
          "2015-03-27",
          "2015-03-28",
          "2015-03-29",
          "2015-03-30",
          "2015-03-31",
          "2015-04-01",
          "2015-04-02",
          "2015-04-03",
          "2015-04-04",
          "2015-04-05",
          "2015-04-06",
          "2015-04-07",
          "2015-04-08",
          "2015-04-09",
          "2015-04-10"
         ],
         "y": [
          1.0819354668374346,
          2.4799376706733622,
          2.2268051364701633,
          1.0250862796132514,
          0.3554705098107952,
          0.7156871789501777,
          0.1067856256869062,
          -0.123407659403828,
          0.28296814854104424,
          0.49919665559686655,
          -0.006990933535996335,
          0.033384083208729,
          -0.08440237960348058,
          0.7897831313157041,
          1.5201787318987088,
          1.5475803170317657,
          0.8576482186298152,
          2.5467860395958803,
          3.993713288865485,
          4.567833775159525,
          5.183738002370754,
          6.092155689019387,
          6.1823362071732495,
          5.674471133357569,
          5.3441259995195045,
          5.617275592259908,
          6.783773732222309,
          7.198486019655446,
          7.145176329258773,
          6.543734446718874,
          7.312297808122165,
          7.223841848314789,
          7.9514779082905,
          8.561609308063588,
          9.738378487072284,
          9.075752793744627,
          9.831438453795284,
          8.516970286231762,
          8.252832558903457,
          9.533388230834202,
          9.67698655408267,
          10.86849174836057,
          10.669733608987032,
          9.989883871982169,
          8.670283109572248,
          9.577541757674734,
          8.881467530627548,
          10.376316257373494,
          9.81916422882076,
          10.225052700919383,
          10.056165673334721,
          11.05423378093204,
          11.438246334862646,
          10.468756699066553,
          9.87868872301803,
          8.76800846671155,
          6.684972121397745,
          8.078100249152664,
          6.3740120486351195,
          6.699908754451213,
          6.63902778498758,
          7.333955166310478,
          8.539313786810935,
          8.765231793823297,
          8.550945866671988,
          8.648688407218522,
          8.369870777573873,
          7.728510910650162,
          7.187302004909984,
          7.4427073016969105,
          9.038283728844396,
          11.127516915360015,
          12.176216508021733,
          13.642073852393995,
          13.114857135669329,
          13.832452593325161,
          14.912682023756759,
          15.357186361705619,
          17.058373360129018,
          18.476693401175936,
          18.172980321487877,
          19.516504578663504,
          18.750375542604836,
          19.83121087323503,
          20.970407888437194,
          20.46369062990867,
          20.493108587316645,
          19.42665903106606,
          18.742685639947105,
          18.034705834652556,
          18.052638546929252,
          16.476787278642664,
          16.81420963222878,
          15.856823228991814,
          13.806346247259345,
          14.896933576101397,
          15.749362202489804,
          16.287176408588053,
          15.628818851369322,
          15.302790607308463
         ]
        },
        {
         "connectgaps": false,
         "fill": "tozeroy",
         "line": {
          "color": "rgba(0, 128, 0, 1.0)",
          "dash": "solid",
          "shape": "linear",
          "width": 1
         },
         "mode": "lines",
         "name": "Ratio",
         "showlegend": false,
         "type": "scatter",
         "x": [
          "2015-01-01",
          "2015-01-02",
          "2015-01-03",
          "2015-01-04",
          "2015-01-05",
          "2015-01-06",
          "2015-01-07",
          "2015-01-08",
          "2015-01-09",
          "2015-01-10",
          "2015-01-11",
          "2015-01-12",
          "2015-01-13",
          "2015-01-14",
          "2015-01-15",
          "2015-01-16",
          "2015-01-17",
          "2015-01-18",
          "2015-01-19",
          "2015-01-20",
          "2015-01-21",
          "2015-01-22",
          "2015-01-23",
          "2015-01-24",
          "2015-01-25",
          "2015-01-26",
          "2015-01-27",
          "2015-01-28",
          "2015-01-29",
          "2015-01-30",
          "2015-01-31",
          "2015-02-01",
          "2015-02-02",
          "2015-02-03",
          "2015-02-04",
          "2015-02-05",
          "2015-02-06",
          "2015-02-07",
          "2015-02-08",
          "2015-02-09",
          "2015-02-10",
          "2015-02-11",
          "2015-02-12",
          "2015-02-13",
          "2015-02-14",
          "2015-02-15",
          "2015-02-16",
          "2015-02-17",
          "2015-02-18",
          "2015-02-19",
          "2015-02-20",
          "2015-02-21",
          "2015-02-22",
          "2015-02-23",
          "2015-02-24",
          "2015-02-25",
          "2015-02-26",
          "2015-02-27",
          "2015-02-28",
          "2015-03-01",
          "2015-03-02",
          "2015-03-03",
          "2015-03-04",
          "2015-03-05",
          "2015-03-06",
          "2015-03-07",
          "2015-03-08",
          "2015-03-09",
          "2015-03-10",
          "2015-03-11",
          "2015-03-12",
          "2015-03-13",
          "2015-03-14",
          "2015-03-15",
          "2015-03-16",
          "2015-03-17",
          "2015-03-18",
          "2015-03-19",
          "2015-03-20",
          "2015-03-21",
          "2015-03-22",
          "2015-03-23",
          "2015-03-24",
          "2015-03-25",
          "2015-03-26",
          "2015-03-27",
          "2015-03-28",
          "2015-03-29",
          "2015-03-30",
          "2015-03-31",
          "2015-04-01",
          "2015-04-02",
          "2015-04-03",
          "2015-04-04",
          "2015-04-05",
          "2015-04-06",
          "2015-04-07",
          "2015-04-08",
          "2015-04-09",
          "2015-04-10"
         ],
         "xaxis": "x2",
         "y": [
          4.333680639805745,
          -0.3114505384232343,
          0.6134890850668187,
          -17.434970477475044,
          0.083098746708077,
          8.611713351479294,
          -0.17405253755018366,
          0.03785392534346701,
          0.03933792907731502,
          0.4160543874877832,
          0.256639426385793,
          0.1908235476386982,
          0.4738539651916319,
          0.20605493574157896,
          0.08002238755511126,
          0.11926689182829868,
          0.1263266949147671,
          0.08183880031015071,
          0.1925796434771193,
          0.361110143212684,
          0.15815195291796014,
          0.04254485870811147,
          0.3705531333416527,
          0.43273163316740093,
          0.6453088917743732,
          0.8468406732300986,
          1.0791079266860202,
          1.1388852846293893,
          1.4580646734300013,
          2.6337409923852966,
          2.132277301483863,
          2.117912991750596,
          1.6482138093494325,
          0.9301613139825444,
          2.009798741704226,
          3.001978514795635,
          2.0109118509771853,
          2.5931555714186496,
          1.2428661219686625,
          6.397780143488191,
          -3.6994006716733923,
          -2.8829876927016076,
          -1.6057796907219408,
          -2.2761056304080083,
          -0.7922271762743731,
          -0.7822890334072126,
          -0.8679082337864089,
          -1.4798968905178178,
          -1.167733792447562,
          -1.0347120785648685,
          -0.9990076804571518,
          -1.2887089060990298,
          -0.8576549092615958,
          -0.8755797995492298,
          -1.0048281063863305,
          -1.3193579134986215,
          -0.8942959307467361,
          -0.9420225310774872,
          -0.7644726053553988,
          -0.7565077043766074,
          -0.7596370356784805,
          -0.7149369689740499,
          -0.8845086339581278,
          -0.6711167946886164,
          -0.7564626418790157,
          -0.8587510070886761,
          -0.7766788286024568,
          -0.7802053295802229,
          -0.7628645882282913,
          -0.685455673630455,
          -1.2331648999627185,
          -1.368650458827389,
          -0.8546288611993412,
          -0.8497342880747127,
          -1.7339754237071596,
          -2.502716204813025,
          -3.7681353887185933,
          -1.7672809669548473,
          -1.2121459102422132,
          -1.3740678387463614,
          -1.2547629399495797,
          -1.210146805824499,
          -1.7602847420399244,
          -3.539664233262507,
          -7.121123149493403,
          -2.1885810798892202,
          -3.160869288268156,
          -4.065263216574708,
          -20.64354404883584,
          -5.643647683702475,
          -9.265029795399656,
          -16.57577820256989,
          -2.1261751155515376,
          -1.3247879107912235,
          -1.6144242881780433,
          -0.8374974105853263,
          -1.1958672326231556,
          -0.485190430370095,
          -0.6413478574625945,
          -0.6846141790253589
         ],
         "yaxis": "y2"
        }
       ],
       "layout": {
        "hovermode": "x",
        "legend": {
         "bgcolor": "#F5F6F9",
         "font": {
          "color": "#4D5663"
         }
        },
        "paper_bgcolor": "#F5F6F9",
        "plot_bgcolor": "#F5F6F9",
        "template": {
         "data": {
          "bar": [
           {
            "error_x": {
             "color": "#2a3f5f"
            },
            "error_y": {
             "color": "#2a3f5f"
            },
            "marker": {
             "line": {
              "color": "#E5ECF6",
              "width": 0.5
             }
            },
            "type": "bar"
           }
          ],
          "barpolar": [
           {
            "marker": {
             "line": {
              "color": "#E5ECF6",
              "width": 0.5
             }
            },
            "type": "barpolar"
           }
          ],
          "carpet": [
           {
            "aaxis": {
             "endlinecolor": "#2a3f5f",
             "gridcolor": "white",
             "linecolor": "white",
             "minorgridcolor": "white",
             "startlinecolor": "#2a3f5f"
            },
            "baxis": {
             "endlinecolor": "#2a3f5f",
             "gridcolor": "white",
             "linecolor": "white",
             "minorgridcolor": "white",
             "startlinecolor": "#2a3f5f"
            },
            "type": "carpet"
           }
          ],
          "choropleth": [
           {
            "colorbar": {
             "outlinewidth": 0,
             "ticks": ""
            },
            "type": "choropleth"
           }
          ],
          "contour": [
           {
            "colorbar": {
             "outlinewidth": 0,
             "ticks": ""
            },
            "colorscale": [
             [
              0,
              "#0d0887"
             ],
             [
              0.1111111111111111,
              "#46039f"
             ],
             [
              0.2222222222222222,
              "#7201a8"
             ],
             [
              0.3333333333333333,
              "#9c179e"
             ],
             [
              0.4444444444444444,
              "#bd3786"
             ],
             [
              0.5555555555555556,
              "#d8576b"
             ],
             [
              0.6666666666666666,
              "#ed7953"
             ],
             [
              0.7777777777777778,
              "#fb9f3a"
             ],
             [
              0.8888888888888888,
              "#fdca26"
             ],
             [
              1,
              "#f0f921"
             ]
            ],
            "type": "contour"
           }
          ],
          "contourcarpet": [
           {
            "colorbar": {
             "outlinewidth": 0,
             "ticks": ""
            },
            "type": "contourcarpet"
           }
          ],
          "heatmap": [
           {
            "colorbar": {
             "outlinewidth": 0,
             "ticks": ""
            },
            "colorscale": [
             [
              0,
              "#0d0887"
             ],
             [
              0.1111111111111111,
              "#46039f"
             ],
             [
              0.2222222222222222,
              "#7201a8"
             ],
             [
              0.3333333333333333,
              "#9c179e"
             ],
             [
              0.4444444444444444,
              "#bd3786"
             ],
             [
              0.5555555555555556,
              "#d8576b"
             ],
             [
              0.6666666666666666,
              "#ed7953"
             ],
             [
              0.7777777777777778,
              "#fb9f3a"
             ],
             [
              0.8888888888888888,
              "#fdca26"
             ],
             [
              1,
              "#f0f921"
             ]
            ],
            "type": "heatmap"
           }
          ],
          "heatmapgl": [
           {
            "colorbar": {
             "outlinewidth": 0,
             "ticks": ""
            },
            "colorscale": [
             [
              0,
              "#0d0887"
             ],
             [
              0.1111111111111111,
              "#46039f"
             ],
             [
              0.2222222222222222,
              "#7201a8"
             ],
             [
              0.3333333333333333,
              "#9c179e"
             ],
             [
              0.4444444444444444,
              "#bd3786"
             ],
             [
              0.5555555555555556,
              "#d8576b"
             ],
             [
              0.6666666666666666,
              "#ed7953"
             ],
             [
              0.7777777777777778,
              "#fb9f3a"
             ],
             [
              0.8888888888888888,
              "#fdca26"
             ],
             [
              1,
              "#f0f921"
             ]
            ],
            "type": "heatmapgl"
           }
          ],
          "histogram": [
           {
            "marker": {
             "colorbar": {
              "outlinewidth": 0,
              "ticks": ""
             }
            },
            "type": "histogram"
           }
          ],
          "histogram2d": [
           {
            "colorbar": {
             "outlinewidth": 0,
             "ticks": ""
            },
            "colorscale": [
             [
              0,
              "#0d0887"
             ],
             [
              0.1111111111111111,
              "#46039f"
             ],
             [
              0.2222222222222222,
              "#7201a8"
             ],
             [
              0.3333333333333333,
              "#9c179e"
             ],
             [
              0.4444444444444444,
              "#bd3786"
             ],
             [
              0.5555555555555556,
              "#d8576b"
             ],
             [
              0.6666666666666666,
              "#ed7953"
             ],
             [
              0.7777777777777778,
              "#fb9f3a"
             ],
             [
              0.8888888888888888,
              "#fdca26"
             ],
             [
              1,
              "#f0f921"
             ]
            ],
            "type": "histogram2d"
           }
          ],
          "histogram2dcontour": [
           {
            "colorbar": {
             "outlinewidth": 0,
             "ticks": ""
            },
            "colorscale": [
             [
              0,
              "#0d0887"
             ],
             [
              0.1111111111111111,
              "#46039f"
             ],
             [
              0.2222222222222222,
              "#7201a8"
             ],
             [
              0.3333333333333333,
              "#9c179e"
             ],
             [
              0.4444444444444444,
              "#bd3786"
             ],
             [
              0.5555555555555556,
              "#d8576b"
             ],
             [
              0.6666666666666666,
              "#ed7953"
             ],
             [
              0.7777777777777778,
              "#fb9f3a"
             ],
             [
              0.8888888888888888,
              "#fdca26"
             ],
             [
              1,
              "#f0f921"
             ]
            ],
            "type": "histogram2dcontour"
           }
          ],
          "mesh3d": [
           {
            "colorbar": {
             "outlinewidth": 0,
             "ticks": ""
            },
            "type": "mesh3d"
           }
          ],
          "parcoords": [
           {
            "line": {
             "colorbar": {
              "outlinewidth": 0,
              "ticks": ""
             }
            },
            "type": "parcoords"
           }
          ],
          "pie": [
           {
            "automargin": true,
            "type": "pie"
           }
          ],
          "scatter": [
           {
            "marker": {
             "colorbar": {
              "outlinewidth": 0,
              "ticks": ""
             }
            },
            "type": "scatter"
           }
          ],
          "scatter3d": [
           {
            "line": {
             "colorbar": {
              "outlinewidth": 0,
              "ticks": ""
             }
            },
            "marker": {
             "colorbar": {
              "outlinewidth": 0,
              "ticks": ""
             }
            },
            "type": "scatter3d"
           }
          ],
          "scattercarpet": [
           {
            "marker": {
             "colorbar": {
              "outlinewidth": 0,
              "ticks": ""
             }
            },
            "type": "scattercarpet"
           }
          ],
          "scattergeo": [
           {
            "marker": {
             "colorbar": {
              "outlinewidth": 0,
              "ticks": ""
             }
            },
            "type": "scattergeo"
           }
          ],
          "scattergl": [
           {
            "marker": {
             "colorbar": {
              "outlinewidth": 0,
              "ticks": ""
             }
            },
            "type": "scattergl"
           }
          ],
          "scattermapbox": [
           {
            "marker": {
             "colorbar": {
              "outlinewidth": 0,
              "ticks": ""
             }
            },
            "type": "scattermapbox"
           }
          ],
          "scatterpolar": [
           {
            "marker": {
             "colorbar": {
              "outlinewidth": 0,
              "ticks": ""
             }
            },
            "type": "scatterpolar"
           }
          ],
          "scatterpolargl": [
           {
            "marker": {
             "colorbar": {
              "outlinewidth": 0,
              "ticks": ""
             }
            },
            "type": "scatterpolargl"
           }
          ],
          "scatterternary": [
           {
            "marker": {
             "colorbar": {
              "outlinewidth": 0,
              "ticks": ""
             }
            },
            "type": "scatterternary"
           }
          ],
          "surface": [
           {
            "colorbar": {
             "outlinewidth": 0,
             "ticks": ""
            },
            "colorscale": [
             [
              0,
              "#0d0887"
             ],
             [
              0.1111111111111111,
              "#46039f"
             ],
             [
              0.2222222222222222,
              "#7201a8"
             ],
             [
              0.3333333333333333,
              "#9c179e"
             ],
             [
              0.4444444444444444,
              "#bd3786"
             ],
             [
              0.5555555555555556,
              "#d8576b"
             ],
             [
              0.6666666666666666,
              "#ed7953"
             ],
             [
              0.7777777777777778,
              "#fb9f3a"
             ],
             [
              0.8888888888888888,
              "#fdca26"
             ],
             [
              1,
              "#f0f921"
             ]
            ],
            "type": "surface"
           }
          ],
          "table": [
           {
            "cells": {
             "fill": {
              "color": "#EBF0F8"
             },
             "line": {
              "color": "white"
             }
            },
            "header": {
             "fill": {
              "color": "#C8D4E3"
             },
             "line": {
              "color": "white"
             }
            },
            "type": "table"
           }
          ]
         },
         "layout": {
          "annotationdefaults": {
           "arrowcolor": "#2a3f5f",
           "arrowhead": 0,
           "arrowwidth": 1
          },
          "coloraxis": {
           "colorbar": {
            "outlinewidth": 0,
            "ticks": ""
           }
          },
          "colorscale": {
           "diverging": [
            [
             0,
             "#8e0152"
            ],
            [
             0.1,
             "#c51b7d"
            ],
            [
             0.2,
             "#de77ae"
            ],
            [
             0.3,
             "#f1b6da"
            ],
            [
             0.4,
             "#fde0ef"
            ],
            [
             0.5,
             "#f7f7f7"
            ],
            [
             0.6,
             "#e6f5d0"
            ],
            [
             0.7,
             "#b8e186"
            ],
            [
             0.8,
             "#7fbc41"
            ],
            [
             0.9,
             "#4d9221"
            ],
            [
             1,
             "#276419"
            ]
           ],
           "sequential": [
            [
             0,
             "#0d0887"
            ],
            [
             0.1111111111111111,
             "#46039f"
            ],
            [
             0.2222222222222222,
             "#7201a8"
            ],
            [
             0.3333333333333333,
             "#9c179e"
            ],
            [
             0.4444444444444444,
             "#bd3786"
            ],
            [
             0.5555555555555556,
             "#d8576b"
            ],
            [
             0.6666666666666666,
             "#ed7953"
            ],
            [
             0.7777777777777778,
             "#fb9f3a"
            ],
            [
             0.8888888888888888,
             "#fdca26"
            ],
            [
             1,
             "#f0f921"
            ]
           ],
           "sequentialminus": [
            [
             0,
             "#0d0887"
            ],
            [
             0.1111111111111111,
             "#46039f"
            ],
            [
             0.2222222222222222,
             "#7201a8"
            ],
            [
             0.3333333333333333,
             "#9c179e"
            ],
            [
             0.4444444444444444,
             "#bd3786"
            ],
            [
             0.5555555555555556,
             "#d8576b"
            ],
            [
             0.6666666666666666,
             "#ed7953"
            ],
            [
             0.7777777777777778,
             "#fb9f3a"
            ],
            [
             0.8888888888888888,
             "#fdca26"
            ],
            [
             1,
             "#f0f921"
            ]
           ]
          },
          "colorway": [
           "#636efa",
           "#EF553B",
           "#00cc96",
           "#ab63fa",
           "#FFA15A",
           "#19d3f3",
           "#FF6692",
           "#B6E880",
           "#FF97FF",
           "#FECB52"
          ],
          "font": {
           "color": "#2a3f5f"
          },
          "geo": {
           "bgcolor": "white",
           "lakecolor": "white",
           "landcolor": "#E5ECF6",
           "showlakes": true,
           "showland": true,
           "subunitcolor": "white"
          },
          "hoverlabel": {
           "align": "left"
          },
          "hovermode": "closest",
          "mapbox": {
           "style": "light"
          },
          "paper_bgcolor": "white",
          "plot_bgcolor": "#E5ECF6",
          "polar": {
           "angularaxis": {
            "gridcolor": "white",
            "linecolor": "white",
            "ticks": ""
           },
           "bgcolor": "#E5ECF6",
           "radialaxis": {
            "gridcolor": "white",
            "linecolor": "white",
            "ticks": ""
           }
          },
          "scene": {
           "xaxis": {
            "backgroundcolor": "#E5ECF6",
            "gridcolor": "white",
            "gridwidth": 2,
            "linecolor": "white",
            "showbackground": true,
            "ticks": "",
            "zerolinecolor": "white"
           },
           "yaxis": {
            "backgroundcolor": "#E5ECF6",
            "gridcolor": "white",
            "gridwidth": 2,
            "linecolor": "white",
            "showbackground": true,
            "ticks": "",
            "zerolinecolor": "white"
           },
           "zaxis": {
            "backgroundcolor": "#E5ECF6",
            "gridcolor": "white",
            "gridwidth": 2,
            "linecolor": "white",
            "showbackground": true,
            "ticks": "",
            "zerolinecolor": "white"
           }
          },
          "shapedefaults": {
           "line": {
            "color": "#2a3f5f"
           }
          },
          "ternary": {
           "aaxis": {
            "gridcolor": "white",
            "linecolor": "white",
            "ticks": ""
           },
           "baxis": {
            "gridcolor": "white",
            "linecolor": "white",
            "ticks": ""
           },
           "bgcolor": "#E5ECF6",
           "caxis": {
            "gridcolor": "white",
            "linecolor": "white",
            "ticks": ""
           }
          },
          "title": {
           "x": 0.05
          },
          "xaxis": {
           "automargin": true,
           "gridcolor": "white",
           "linecolor": "white",
           "ticks": "",
           "title": {
            "standoff": 15
           },
           "zerolinecolor": "white",
           "zerolinewidth": 2
          },
          "yaxis": {
           "automargin": true,
           "gridcolor": "white",
           "linecolor": "white",
           "ticks": "",
           "title": {
            "standoff": 15
           },
           "zerolinecolor": "white",
           "zerolinewidth": 2
          }
         }
        },
        "title": {
         "font": {
          "color": "#4D5663"
         }
        },
        "xaxis": {
         "gridcolor": "#E1E5ED",
         "showgrid": true,
         "tickfont": {
          "color": "#4D5663"
         },
         "title": {
          "font": {
           "color": "#4D5663"
          },
          "text": ""
         },
         "zerolinecolor": "#E1E5ED"
        },
        "xaxis2": {
         "anchor": "y2",
         "gridcolor": "#E1E5ED",
         "showgrid": true,
         "showticklabels": false,
         "tickfont": {
          "color": "#4D5663"
         },
         "title": {
          "font": {
           "color": "#4D5663"
          },
          "text": ""
         },
         "zerolinecolor": "#E1E5ED"
        },
        "yaxis": {
         "domain": [
          0.3,
          1
         ],
         "gridcolor": "#E1E5ED",
         "showgrid": true,
         "tickfont": {
          "color": "#4D5663"
         },
         "title": {
          "font": {
           "color": "#4D5663"
          },
          "text": ""
         },
         "zerolinecolor": "#E1E5ED"
        },
        "yaxis2": {
         "domain": [
          0,
          0.25
         ],
         "gridcolor": "#E1E5ED",
         "showgrid": true,
         "tickfont": {
          "color": "#4D5663"
         },
         "title": {
          "font": {
           "color": "#4D5663"
          },
          "text": "Ratio"
         },
         "zerolinecolor": "#E1E5ED"
        }
       }
      },
      "text/html": [
       "<div>\n",
       "        \n",
       "        \n",
       "            <div id=\"4dce4613-1301-4171-9259-a349c4138349\" class=\"plotly-graph-div\" style=\"height:525px; width:100%;\"></div>\n",
       "            <script type=\"text/javascript\">\n",
       "                require([\"plotly\"], function(Plotly) {\n",
       "                    window.PLOTLYENV=window.PLOTLYENV || {};\n",
       "                    window.PLOTLYENV.BASE_URL='https://plot.ly';\n",
       "                    \n",
       "                if (document.getElementById(\"4dce4613-1301-4171-9259-a349c4138349\")) {\n",
       "                    Plotly.newPlot(\n",
       "                        '4dce4613-1301-4171-9259-a349c4138349',\n",
       "                        [{\"line\": {\"color\": \"rgba(255, 153, 51, 1.0)\", \"dash\": \"solid\", \"shape\": \"linear\", \"width\": 1.3}, \"mode\": \"lines\", \"name\": \"GOOG\", \"text\": \"\", \"type\": \"scatter\", \"x\": [\"2015-01-01\", \"2015-01-02\", \"2015-01-03\", \"2015-01-04\", \"2015-01-05\", \"2015-01-06\", \"2015-01-07\", \"2015-01-08\", \"2015-01-09\", \"2015-01-10\", \"2015-01-11\", \"2015-01-12\", \"2015-01-13\", \"2015-01-14\", \"2015-01-15\", \"2015-01-16\", \"2015-01-17\", \"2015-01-18\", \"2015-01-19\", \"2015-01-20\", \"2015-01-21\", \"2015-01-22\", \"2015-01-23\", \"2015-01-24\", \"2015-01-25\", \"2015-01-26\", \"2015-01-27\", \"2015-01-28\", \"2015-01-29\", \"2015-01-30\", \"2015-01-31\", \"2015-02-01\", \"2015-02-02\", \"2015-02-03\", \"2015-02-04\", \"2015-02-05\", \"2015-02-06\", \"2015-02-07\", \"2015-02-08\", \"2015-02-09\", \"2015-02-10\", \"2015-02-11\", \"2015-02-12\", \"2015-02-13\", \"2015-02-14\", \"2015-02-15\", \"2015-02-16\", \"2015-02-17\", \"2015-02-18\", \"2015-02-19\", \"2015-02-20\", \"2015-02-21\", \"2015-02-22\", \"2015-02-23\", \"2015-02-24\", \"2015-02-25\", \"2015-02-26\", \"2015-02-27\", \"2015-02-28\", \"2015-03-01\", \"2015-03-02\", \"2015-03-03\", \"2015-03-04\", \"2015-03-05\", \"2015-03-06\", \"2015-03-07\", \"2015-03-08\", \"2015-03-09\", \"2015-03-10\", \"2015-03-11\", \"2015-03-12\", \"2015-03-13\", \"2015-03-14\", \"2015-03-15\", \"2015-03-16\", \"2015-03-17\", \"2015-03-18\", \"2015-03-19\", \"2015-03-20\", \"2015-03-21\", \"2015-03-22\", \"2015-03-23\", \"2015-03-24\", \"2015-03-25\", \"2015-03-26\", \"2015-03-27\", \"2015-03-28\", \"2015-03-29\", \"2015-03-30\", \"2015-03-31\", \"2015-04-01\", \"2015-04-02\", \"2015-04-03\", \"2015-04-04\", \"2015-04-05\", \"2015-04-06\", \"2015-04-07\", \"2015-04-08\", \"2015-04-09\", \"2015-04-10\"], \"y\": [0.887859548430912, -0.12442855812384623, 0.31510584146026, -0.3620399760333849, 0.060047799161180415, 0.489542542000453, 0.39864526286565544, -0.12691305706221562, -0.14653742623622149, -1.9942051171963504, -1.3676444884468961, -0.8372557932333661, -1.9188470342391222, -1.176425895752355, -0.5063944395571112, -0.6230886218617776, -0.6637716155230189, -0.44370395604865664, -1.0502230320712198, -1.884455201532628, -0.8465602088727773, -0.2594989167460039, -1.9955610009465663, -2.221501710910537, -3.217375118573837, -3.6208546163065196, -4.929555124356471, -4.840508167100383, -3.827535434970696, -3.867032210267071, -4.5063002992719685, -4.925453159939044, -4.174179782827053, -2.657263222654409, -4.307262797144048, -5.304732773389594, -4.618642038632928, -5.7364532527662195, -4.392594886900887, -4.4558778061555255, -4.9857689109230625, -4.156439892523207, -3.3815162927726474, -4.524633232529935, -2.1656811236745916, -3.1885135351785516, -3.9006128888640728, -4.077345971346925, -4.000916020536469, -4.4098462746028675, -5.639320258383571, -5.687101247473266, -5.0688162769214875, -5.728851900477398, -6.343303939209772, -9.328835099025895, -8.860782654790022, -8.766972470016524, -7.71034017674116, -7.34436940021025, -7.352338908426178, -5.660115446029203, -6.6854008273788335, -5.682223402388089, -6.9632825041098405, -6.678646553285244, -5.752049999433002, -6.881893383159216, -6.5453962916602375, -5.039119802550206, -5.338956969174161, -4.4834048889550315, -3.927119209210786, -4.914573738720649, -6.567959222482106, -7.620031172452751, -7.607736110887162, -7.5546361814823495, -7.144042517705126, -7.123148748328626, -6.136712449596261, -6.365268583170922, -7.46153901912162, -7.887593355698787, -7.24361705197415, -6.356909555910471, -5.176156220893024, -6.80156252352153, -6.802162108296153, -6.313537622663519, -3.5447733332150233, -3.9845629222544896, -2.854306918829467, -2.6727676110848138, -2.985194155696666, -1.9778983711938678, -2.829599717537466, -2.256304104822701, -3.0652309473468895, -3.641370706696887]}, {\"line\": {\"color\": \"rgba(55, 128, 191, 1.0)\", \"dash\": \"solid\", \"shape\": \"linear\", \"width\": 1.3}, \"mode\": \"lines\", \"name\": \"VERZ\", \"text\": \"\", \"type\": \"scatter\", \"x\": [\"2015-01-01\", \"2015-01-02\", \"2015-01-03\", \"2015-01-04\", \"2015-01-05\", \"2015-01-06\", \"2015-01-07\", \"2015-01-08\", \"2015-01-09\", \"2015-01-10\", \"2015-01-11\", \"2015-01-12\", \"2015-01-13\", \"2015-01-14\", \"2015-01-15\", \"2015-01-16\", \"2015-01-17\", \"2015-01-18\", \"2015-01-19\", \"2015-01-20\", \"2015-01-21\", \"2015-01-22\", \"2015-01-23\", \"2015-01-24\", \"2015-01-25\", \"2015-01-26\", \"2015-01-27\", \"2015-01-28\", \"2015-01-29\", \"2015-01-30\", \"2015-01-31\", \"2015-02-01\", \"2015-02-02\", \"2015-02-03\", \"2015-02-04\", \"2015-02-05\", \"2015-02-06\", \"2015-02-07\", \"2015-02-08\", \"2015-02-09\", \"2015-02-10\", \"2015-02-11\", \"2015-02-12\", \"2015-02-13\", \"2015-02-14\", \"2015-02-15\", \"2015-02-16\", \"2015-02-17\", \"2015-02-18\", \"2015-02-19\", \"2015-02-20\", \"2015-02-21\", \"2015-02-22\", \"2015-02-23\", \"2015-02-24\", \"2015-02-25\", \"2015-02-26\", \"2015-02-27\", \"2015-02-28\", \"2015-03-01\", \"2015-03-02\", \"2015-03-03\", \"2015-03-04\", \"2015-03-05\", \"2015-03-06\", \"2015-03-07\", \"2015-03-08\", \"2015-03-09\", \"2015-03-10\", \"2015-03-11\", \"2015-03-12\", \"2015-03-13\", \"2015-03-14\", \"2015-03-15\", \"2015-03-16\", \"2015-03-17\", \"2015-03-18\", \"2015-03-19\", \"2015-03-20\", \"2015-03-21\", \"2015-03-22\", \"2015-03-23\", \"2015-03-24\", \"2015-03-25\", \"2015-03-26\", \"2015-03-27\", \"2015-03-28\", \"2015-03-29\", \"2015-03-30\", \"2015-03-31\", \"2015-04-01\", \"2015-04-02\", \"2015-04-03\", \"2015-04-04\", \"2015-04-05\", \"2015-04-06\", \"2015-04-07\", \"2015-04-08\", \"2015-04-09\", \"2015-04-10\"], \"y\": [0.2048742448337656, 0.3995130615403163, 0.5136290915851257, 0.02076516140369261, 0.7226077593218854, 0.05684612597054928, -2.290373173966028, -3.352705324762807, -3.7250925423200565, -4.793135650456053, -5.329050597202418, -4.387591592305006, -4.049448089904911, -5.709282777034537, -6.328159594193041, -5.224321790483151, -5.2544049851922985, -5.421682067272712, -5.453447794943075, -5.2185053146589, -5.352828044506808, -6.099418933938748, -5.385357244049113, -5.133670710990421, -4.985790773356901, -4.275721196167301, -4.568176178165343, -4.250215743788066, -2.6250793292773977, -1.4682659462139522, -2.1133744171717304, -2.3256163870395024, -2.5325475124338666, -2.8567767576541843, -2.1431314030437036, -1.7670788605729655, -2.296789904733288, -2.2121516024694006, -3.5342462146632085, -0.6964724804885365, 1.3477234161467004, 1.441712672948758, 2.1058407403647976, 1.9878836781924143, 2.733661743162101, 4.07587656098306, 4.494268791352438, 2.7551554418904525, 3.4262226942585743, 4.261906636597172, 5.644921824628, 4.413022382756968, 5.910088337610661, 6.542923789958097, 6.312824948758883, 7.0707387309998815, 9.908110224085755, 9.306542233112879, 10.085829266774926, 9.708254599022629, 9.67875256616383, 7.916943299423433, 7.5583217288247715, 8.46681747105512, 9.205058014250898, 7.777162993877683, 7.405956989690508, 8.820618268349833, 8.580023758687686, 7.351488938534795, 4.329475295100899, 3.2757851795090573, 4.595116532455589, 5.783659442360334, 3.7878041018828923, 3.044704452625716, 2.0189657021517684, 4.274722764937334, 5.893714987065865, 5.18398622503782, 4.890734539739318, 5.259914377771817, 4.2388250269525924, 2.228345073405111, 1.0172014863258558, 2.904580330298862, 1.6375736383990258, 1.6730927768195931, 0.3295055389813142, 1.1186980436244327, 0.3825970786381174, 0.2403846669254254, 1.3424608810215752, 2.0175060395052333, 1.8490765888226344, 2.361676998871574, 2.3661487164680395, 4.650347499849967, 4.779357897092006, 5.318865454818467]}, {\"line\": {\"color\": \"rgba(50, 171, 96, 1.0)\", \"dash\": \"solid\", \"shape\": \"linear\", \"width\": 1.3}, \"mode\": \"lines\", \"name\": \"APPL\", \"text\": \"\", \"type\": \"scatter\", \"x\": [\"2015-01-01\", \"2015-01-02\", \"2015-01-03\", \"2015-01-04\", \"2015-01-05\", \"2015-01-06\", \"2015-01-07\", \"2015-01-08\", \"2015-01-09\", \"2015-01-10\", \"2015-01-11\", \"2015-01-12\", \"2015-01-13\", \"2015-01-14\", \"2015-01-15\", \"2015-01-16\", \"2015-01-17\", \"2015-01-18\", \"2015-01-19\", \"2015-01-20\", \"2015-01-21\", \"2015-01-22\", \"2015-01-23\", \"2015-01-24\", \"2015-01-25\", \"2015-01-26\", \"2015-01-27\", \"2015-01-28\", \"2015-01-29\", \"2015-01-30\", \"2015-01-31\", \"2015-02-01\", \"2015-02-02\", \"2015-02-03\", \"2015-02-04\", \"2015-02-05\", \"2015-02-06\", \"2015-02-07\", \"2015-02-08\", \"2015-02-09\", \"2015-02-10\", \"2015-02-11\", \"2015-02-12\", \"2015-02-13\", \"2015-02-14\", \"2015-02-15\", \"2015-02-16\", \"2015-02-17\", \"2015-02-18\", \"2015-02-19\", \"2015-02-20\", \"2015-02-21\", \"2015-02-22\", \"2015-02-23\", \"2015-02-24\", \"2015-02-25\", \"2015-02-26\", \"2015-02-27\", \"2015-02-28\", \"2015-03-01\", \"2015-03-02\", \"2015-03-03\", \"2015-03-04\", \"2015-03-05\", \"2015-03-06\", \"2015-03-07\", \"2015-03-08\", \"2015-03-09\", \"2015-03-10\", \"2015-03-11\", \"2015-03-12\", \"2015-03-13\", \"2015-03-14\", \"2015-03-15\", \"2015-03-16\", \"2015-03-17\", \"2015-03-18\", \"2015-03-19\", \"2015-03-20\", \"2015-03-21\", \"2015-03-22\", \"2015-03-23\", \"2015-03-24\", \"2015-03-25\", \"2015-03-26\", \"2015-03-27\", \"2015-03-28\", \"2015-03-29\", \"2015-03-30\", \"2015-03-31\", \"2015-04-01\", \"2015-04-02\", \"2015-04-03\", \"2015-04-04\", \"2015-04-05\", \"2015-04-06\", \"2015-04-07\", \"2015-04-08\", \"2015-04-09\", \"2015-04-10\"], \"y\": [1.0819354668374346, 2.4799376706733622, 2.2268051364701633, 1.0250862796132514, 0.3554705098107952, 0.7156871789501777, 0.1067856256869062, -0.123407659403828, 0.28296814854104424, 0.49919665559686655, -0.006990933535996335, 0.033384083208729, -0.08440237960348058, 0.7897831313157041, 1.5201787318987088, 1.5475803170317657, 0.8576482186298152, 2.5467860395958803, 3.993713288865485, 4.567833775159525, 5.183738002370754, 6.092155689019387, 6.1823362071732495, 5.674471133357569, 5.3441259995195045, 5.617275592259908, 6.783773732222309, 7.198486019655446, 7.145176329258773, 6.543734446718874, 7.312297808122165, 7.223841848314789, 7.9514779082905, 8.561609308063588, 9.738378487072284, 9.075752793744627, 9.831438453795284, 8.516970286231762, 8.252832558903457, 9.533388230834202, 9.67698655408267, 10.86849174836057, 10.669733608987032, 9.989883871982169, 8.670283109572248, 9.577541757674734, 8.881467530627548, 10.376316257373494, 9.81916422882076, 10.225052700919383, 10.056165673334721, 11.05423378093204, 11.438246334862646, 10.468756699066553, 9.87868872301803, 8.76800846671155, 6.684972121397745, 8.078100249152664, 6.3740120486351195, 6.699908754451213, 6.63902778498758, 7.333955166310478, 8.539313786810935, 8.765231793823297, 8.550945866671988, 8.648688407218522, 8.369870777573873, 7.728510910650162, 7.187302004909984, 7.4427073016969105, 9.038283728844396, 11.127516915360015, 12.176216508021733, 13.642073852393995, 13.114857135669329, 13.832452593325161, 14.912682023756759, 15.357186361705619, 17.058373360129018, 18.476693401175936, 18.172980321487877, 19.516504578663504, 18.750375542604836, 19.83121087323503, 20.970407888437194, 20.46369062990867, 20.493108587316645, 19.42665903106606, 18.742685639947105, 18.034705834652556, 18.052638546929252, 16.476787278642664, 16.81420963222878, 15.856823228991814, 13.806346247259345, 14.896933576101397, 15.749362202489804, 16.287176408588053, 15.628818851369322, 15.302790607308463]}, {\"connectgaps\": false, \"fill\": \"tozeroy\", \"line\": {\"color\": \"rgba(0, 128, 0, 1.0)\", \"dash\": \"solid\", \"shape\": \"linear\", \"width\": 1}, \"mode\": \"lines\", \"name\": \"Ratio\", \"showlegend\": false, \"type\": \"scatter\", \"x\": [\"2015-01-01\", \"2015-01-02\", \"2015-01-03\", \"2015-01-04\", \"2015-01-05\", \"2015-01-06\", \"2015-01-07\", \"2015-01-08\", \"2015-01-09\", \"2015-01-10\", \"2015-01-11\", \"2015-01-12\", \"2015-01-13\", \"2015-01-14\", \"2015-01-15\", \"2015-01-16\", \"2015-01-17\", \"2015-01-18\", \"2015-01-19\", \"2015-01-20\", \"2015-01-21\", \"2015-01-22\", \"2015-01-23\", \"2015-01-24\", \"2015-01-25\", \"2015-01-26\", \"2015-01-27\", \"2015-01-28\", \"2015-01-29\", \"2015-01-30\", \"2015-01-31\", \"2015-02-01\", \"2015-02-02\", \"2015-02-03\", \"2015-02-04\", \"2015-02-05\", \"2015-02-06\", \"2015-02-07\", \"2015-02-08\", \"2015-02-09\", \"2015-02-10\", \"2015-02-11\", \"2015-02-12\", \"2015-02-13\", \"2015-02-14\", \"2015-02-15\", \"2015-02-16\", \"2015-02-17\", \"2015-02-18\", \"2015-02-19\", \"2015-02-20\", \"2015-02-21\", \"2015-02-22\", \"2015-02-23\", \"2015-02-24\", \"2015-02-25\", \"2015-02-26\", \"2015-02-27\", \"2015-02-28\", \"2015-03-01\", \"2015-03-02\", \"2015-03-03\", \"2015-03-04\", \"2015-03-05\", \"2015-03-06\", \"2015-03-07\", \"2015-03-08\", \"2015-03-09\", \"2015-03-10\", \"2015-03-11\", \"2015-03-12\", \"2015-03-13\", \"2015-03-14\", \"2015-03-15\", \"2015-03-16\", \"2015-03-17\", \"2015-03-18\", \"2015-03-19\", \"2015-03-20\", \"2015-03-21\", \"2015-03-22\", \"2015-03-23\", \"2015-03-24\", \"2015-03-25\", \"2015-03-26\", \"2015-03-27\", \"2015-03-28\", \"2015-03-29\", \"2015-03-30\", \"2015-03-31\", \"2015-04-01\", \"2015-04-02\", \"2015-04-03\", \"2015-04-04\", \"2015-04-05\", \"2015-04-06\", \"2015-04-07\", \"2015-04-08\", \"2015-04-09\", \"2015-04-10\"], \"xaxis\": \"x2\", \"y\": [4.333680639805745, -0.3114505384232343, 0.6134890850668187, -17.434970477475044, 0.083098746708077, 8.611713351479294, -0.17405253755018366, 0.03785392534346701, 0.03933792907731502, 0.4160543874877832, 0.256639426385793, 0.1908235476386982, 0.4738539651916319, 0.20605493574157896, 0.08002238755511126, 0.11926689182829868, 0.1263266949147671, 0.08183880031015071, 0.1925796434771193, 0.361110143212684, 0.15815195291796014, 0.04254485870811147, 0.3705531333416527, 0.43273163316740093, 0.6453088917743732, 0.8468406732300986, 1.0791079266860202, 1.1388852846293893, 1.4580646734300013, 2.6337409923852966, 2.132277301483863, 2.117912991750596, 1.6482138093494325, 0.9301613139825444, 2.009798741704226, 3.001978514795635, 2.0109118509771853, 2.5931555714186496, 1.2428661219686625, 6.397780143488191, -3.6994006716733923, -2.8829876927016076, -1.6057796907219408, -2.2761056304080083, -0.7922271762743731, -0.7822890334072126, -0.8679082337864089, -1.4798968905178178, -1.167733792447562, -1.0347120785648685, -0.9990076804571518, -1.2887089060990298, -0.8576549092615958, -0.8755797995492298, -1.0048281063863305, -1.3193579134986215, -0.8942959307467361, -0.9420225310774872, -0.7644726053553988, -0.7565077043766074, -0.7596370356784805, -0.7149369689740499, -0.8845086339581278, -0.6711167946886164, -0.7564626418790157, -0.8587510070886761, -0.7766788286024568, -0.7802053295802229, -0.7628645882282913, -0.685455673630455, -1.2331648999627185, -1.368650458827389, -0.8546288611993412, -0.8497342880747127, -1.7339754237071596, -2.502716204813025, -3.7681353887185933, -1.7672809669548473, -1.2121459102422132, -1.3740678387463614, -1.2547629399495797, -1.210146805824499, -1.7602847420399244, -3.539664233262507, -7.121123149493403, -2.1885810798892202, -3.160869288268156, -4.065263216574708, -20.64354404883584, -5.643647683702475, -9.265029795399656, -16.57577820256989, -2.1261751155515376, -1.3247879107912235, -1.6144242881780433, -0.8374974105853263, -1.1958672326231556, -0.485190430370095, -0.6413478574625945, -0.6846141790253589], \"yaxis\": \"y2\"}],\n",
       "                        {\"hovermode\": \"x\", \"legend\": {\"bgcolor\": \"#F5F6F9\", \"font\": {\"color\": \"#4D5663\"}}, \"paper_bgcolor\": \"#F5F6F9\", \"plot_bgcolor\": \"#F5F6F9\", \"template\": {\"data\": {\"bar\": [{\"error_x\": {\"color\": \"#2a3f5f\"}, \"error_y\": {\"color\": \"#2a3f5f\"}, \"marker\": {\"line\": {\"color\": \"#E5ECF6\", \"width\": 0.5}}, \"type\": \"bar\"}], \"barpolar\": [{\"marker\": {\"line\": {\"color\": \"#E5ECF6\", \"width\": 0.5}}, \"type\": \"barpolar\"}], \"carpet\": [{\"aaxis\": {\"endlinecolor\": \"#2a3f5f\", \"gridcolor\": \"white\", \"linecolor\": \"white\", \"minorgridcolor\": \"white\", \"startlinecolor\": \"#2a3f5f\"}, \"baxis\": {\"endlinecolor\": \"#2a3f5f\", \"gridcolor\": \"white\", \"linecolor\": \"white\", \"minorgridcolor\": \"white\", \"startlinecolor\": \"#2a3f5f\"}, \"type\": \"carpet\"}], \"choropleth\": [{\"colorbar\": {\"outlinewidth\": 0, \"ticks\": \"\"}, \"type\": \"choropleth\"}], \"contour\": [{\"colorbar\": {\"outlinewidth\": 0, \"ticks\": \"\"}, \"colorscale\": [[0.0, \"#0d0887\"], [0.1111111111111111, \"#46039f\"], [0.2222222222222222, \"#7201a8\"], [0.3333333333333333, \"#9c179e\"], [0.4444444444444444, \"#bd3786\"], [0.5555555555555556, \"#d8576b\"], [0.6666666666666666, \"#ed7953\"], [0.7777777777777778, \"#fb9f3a\"], [0.8888888888888888, \"#fdca26\"], [1.0, \"#f0f921\"]], \"type\": \"contour\"}], \"contourcarpet\": [{\"colorbar\": {\"outlinewidth\": 0, \"ticks\": \"\"}, \"type\": \"contourcarpet\"}], \"heatmap\": [{\"colorbar\": {\"outlinewidth\": 0, \"ticks\": \"\"}, \"colorscale\": [[0.0, \"#0d0887\"], [0.1111111111111111, \"#46039f\"], [0.2222222222222222, \"#7201a8\"], [0.3333333333333333, \"#9c179e\"], [0.4444444444444444, \"#bd3786\"], [0.5555555555555556, \"#d8576b\"], [0.6666666666666666, \"#ed7953\"], [0.7777777777777778, \"#fb9f3a\"], [0.8888888888888888, \"#fdca26\"], [1.0, \"#f0f921\"]], \"type\": \"heatmap\"}], \"heatmapgl\": [{\"colorbar\": {\"outlinewidth\": 0, \"ticks\": \"\"}, \"colorscale\": [[0.0, \"#0d0887\"], [0.1111111111111111, \"#46039f\"], [0.2222222222222222, \"#7201a8\"], [0.3333333333333333, \"#9c179e\"], [0.4444444444444444, \"#bd3786\"], [0.5555555555555556, \"#d8576b\"], [0.6666666666666666, \"#ed7953\"], [0.7777777777777778, \"#fb9f3a\"], [0.8888888888888888, \"#fdca26\"], [1.0, \"#f0f921\"]], \"type\": \"heatmapgl\"}], \"histogram\": [{\"marker\": {\"colorbar\": {\"outlinewidth\": 0, \"ticks\": \"\"}}, \"type\": \"histogram\"}], \"histogram2d\": [{\"colorbar\": {\"outlinewidth\": 0, \"ticks\": \"\"}, \"colorscale\": [[0.0, \"#0d0887\"], [0.1111111111111111, \"#46039f\"], [0.2222222222222222, \"#7201a8\"], [0.3333333333333333, \"#9c179e\"], [0.4444444444444444, \"#bd3786\"], [0.5555555555555556, \"#d8576b\"], [0.6666666666666666, \"#ed7953\"], [0.7777777777777778, \"#fb9f3a\"], [0.8888888888888888, \"#fdca26\"], [1.0, \"#f0f921\"]], \"type\": \"histogram2d\"}], \"histogram2dcontour\": [{\"colorbar\": {\"outlinewidth\": 0, \"ticks\": \"\"}, \"colorscale\": [[0.0, \"#0d0887\"], [0.1111111111111111, \"#46039f\"], [0.2222222222222222, \"#7201a8\"], [0.3333333333333333, \"#9c179e\"], [0.4444444444444444, \"#bd3786\"], [0.5555555555555556, \"#d8576b\"], [0.6666666666666666, \"#ed7953\"], [0.7777777777777778, \"#fb9f3a\"], [0.8888888888888888, \"#fdca26\"], [1.0, \"#f0f921\"]], \"type\": \"histogram2dcontour\"}], \"mesh3d\": [{\"colorbar\": {\"outlinewidth\": 0, \"ticks\": \"\"}, \"type\": \"mesh3d\"}], \"parcoords\": [{\"line\": {\"colorbar\": {\"outlinewidth\": 0, \"ticks\": \"\"}}, \"type\": \"parcoords\"}], \"pie\": [{\"automargin\": true, \"type\": \"pie\"}], \"scatter\": [{\"marker\": {\"colorbar\": {\"outlinewidth\": 0, \"ticks\": \"\"}}, \"type\": \"scatter\"}], \"scatter3d\": [{\"line\": {\"colorbar\": {\"outlinewidth\": 0, \"ticks\": \"\"}}, \"marker\": {\"colorbar\": {\"outlinewidth\": 0, \"ticks\": \"\"}}, \"type\": \"scatter3d\"}], \"scattercarpet\": [{\"marker\": {\"colorbar\": {\"outlinewidth\": 0, \"ticks\": \"\"}}, \"type\": \"scattercarpet\"}], \"scattergeo\": [{\"marker\": {\"colorbar\": {\"outlinewidth\": 0, \"ticks\": \"\"}}, \"type\": \"scattergeo\"}], \"scattergl\": [{\"marker\": {\"colorbar\": {\"outlinewidth\": 0, \"ticks\": \"\"}}, \"type\": \"scattergl\"}], \"scattermapbox\": [{\"marker\": {\"colorbar\": {\"outlinewidth\": 0, \"ticks\": \"\"}}, \"type\": \"scattermapbox\"}], \"scatterpolar\": [{\"marker\": {\"colorbar\": {\"outlinewidth\": 0, \"ticks\": \"\"}}, \"type\": \"scatterpolar\"}], \"scatterpolargl\": [{\"marker\": {\"colorbar\": {\"outlinewidth\": 0, \"ticks\": \"\"}}, \"type\": \"scatterpolargl\"}], \"scatterternary\": [{\"marker\": {\"colorbar\": {\"outlinewidth\": 0, \"ticks\": \"\"}}, \"type\": \"scatterternary\"}], \"surface\": [{\"colorbar\": {\"outlinewidth\": 0, \"ticks\": \"\"}, \"colorscale\": [[0.0, \"#0d0887\"], [0.1111111111111111, \"#46039f\"], [0.2222222222222222, \"#7201a8\"], [0.3333333333333333, \"#9c179e\"], [0.4444444444444444, \"#bd3786\"], [0.5555555555555556, \"#d8576b\"], [0.6666666666666666, \"#ed7953\"], [0.7777777777777778, \"#fb9f3a\"], [0.8888888888888888, \"#fdca26\"], [1.0, \"#f0f921\"]], \"type\": \"surface\"}], \"table\": [{\"cells\": {\"fill\": {\"color\": \"#EBF0F8\"}, \"line\": {\"color\": \"white\"}}, \"header\": {\"fill\": {\"color\": \"#C8D4E3\"}, \"line\": {\"color\": \"white\"}}, \"type\": \"table\"}]}, \"layout\": {\"annotationdefaults\": {\"arrowcolor\": \"#2a3f5f\", \"arrowhead\": 0, \"arrowwidth\": 1}, \"coloraxis\": {\"colorbar\": {\"outlinewidth\": 0, \"ticks\": \"\"}}, \"colorscale\": {\"diverging\": [[0, \"#8e0152\"], [0.1, \"#c51b7d\"], [0.2, \"#de77ae\"], [0.3, \"#f1b6da\"], [0.4, \"#fde0ef\"], [0.5, \"#f7f7f7\"], [0.6, \"#e6f5d0\"], [0.7, \"#b8e186\"], [0.8, \"#7fbc41\"], [0.9, \"#4d9221\"], [1, \"#276419\"]], \"sequential\": [[0.0, \"#0d0887\"], [0.1111111111111111, \"#46039f\"], [0.2222222222222222, \"#7201a8\"], [0.3333333333333333, \"#9c179e\"], [0.4444444444444444, \"#bd3786\"], [0.5555555555555556, \"#d8576b\"], [0.6666666666666666, \"#ed7953\"], [0.7777777777777778, \"#fb9f3a\"], [0.8888888888888888, \"#fdca26\"], [1.0, \"#f0f921\"]], \"sequentialminus\": [[0.0, \"#0d0887\"], [0.1111111111111111, \"#46039f\"], [0.2222222222222222, \"#7201a8\"], [0.3333333333333333, \"#9c179e\"], [0.4444444444444444, \"#bd3786\"], [0.5555555555555556, \"#d8576b\"], [0.6666666666666666, \"#ed7953\"], [0.7777777777777778, \"#fb9f3a\"], [0.8888888888888888, \"#fdca26\"], [1.0, \"#f0f921\"]]}, \"colorway\": [\"#636efa\", \"#EF553B\", \"#00cc96\", \"#ab63fa\", \"#FFA15A\", \"#19d3f3\", \"#FF6692\", \"#B6E880\", \"#FF97FF\", \"#FECB52\"], \"font\": {\"color\": \"#2a3f5f\"}, \"geo\": {\"bgcolor\": \"white\", \"lakecolor\": \"white\", \"landcolor\": \"#E5ECF6\", \"showlakes\": true, \"showland\": true, \"subunitcolor\": \"white\"}, \"hoverlabel\": {\"align\": \"left\"}, \"hovermode\": \"closest\", \"mapbox\": {\"style\": \"light\"}, \"paper_bgcolor\": \"white\", \"plot_bgcolor\": \"#E5ECF6\", \"polar\": {\"angularaxis\": {\"gridcolor\": \"white\", \"linecolor\": \"white\", \"ticks\": \"\"}, \"bgcolor\": \"#E5ECF6\", \"radialaxis\": {\"gridcolor\": \"white\", \"linecolor\": \"white\", \"ticks\": \"\"}}, \"scene\": {\"xaxis\": {\"backgroundcolor\": \"#E5ECF6\", \"gridcolor\": \"white\", \"gridwidth\": 2, \"linecolor\": \"white\", \"showbackground\": true, \"ticks\": \"\", \"zerolinecolor\": \"white\"}, \"yaxis\": {\"backgroundcolor\": \"#E5ECF6\", \"gridcolor\": \"white\", \"gridwidth\": 2, \"linecolor\": \"white\", \"showbackground\": true, \"ticks\": \"\", \"zerolinecolor\": \"white\"}, \"zaxis\": {\"backgroundcolor\": \"#E5ECF6\", \"gridcolor\": \"white\", \"gridwidth\": 2, \"linecolor\": \"white\", \"showbackground\": true, \"ticks\": \"\", \"zerolinecolor\": \"white\"}}, \"shapedefaults\": {\"line\": {\"color\": \"#2a3f5f\"}}, \"ternary\": {\"aaxis\": {\"gridcolor\": \"white\", \"linecolor\": \"white\", \"ticks\": \"\"}, \"baxis\": {\"gridcolor\": \"white\", \"linecolor\": \"white\", \"ticks\": \"\"}, \"bgcolor\": \"#E5ECF6\", \"caxis\": {\"gridcolor\": \"white\", \"linecolor\": \"white\", \"ticks\": \"\"}}, \"title\": {\"x\": 0.05}, \"xaxis\": {\"automargin\": true, \"gridcolor\": \"white\", \"linecolor\": \"white\", \"ticks\": \"\", \"title\": {\"standoff\": 15}, \"zerolinecolor\": \"white\", \"zerolinewidth\": 2}, \"yaxis\": {\"automargin\": true, \"gridcolor\": \"white\", \"linecolor\": \"white\", \"ticks\": \"\", \"title\": {\"standoff\": 15}, \"zerolinecolor\": \"white\", \"zerolinewidth\": 2}}}, \"title\": {\"font\": {\"color\": \"#4D5663\"}}, \"xaxis\": {\"gridcolor\": \"#E1E5ED\", \"showgrid\": true, \"tickfont\": {\"color\": \"#4D5663\"}, \"title\": {\"font\": {\"color\": \"#4D5663\"}, \"text\": \"\"}, \"zerolinecolor\": \"#E1E5ED\"}, \"xaxis2\": {\"anchor\": \"y2\", \"gridcolor\": \"#E1E5ED\", \"showgrid\": true, \"showticklabels\": false, \"tickfont\": {\"color\": \"#4D5663\"}, \"title\": {\"font\": {\"color\": \"#4D5663\"}, \"text\": \"\"}, \"zerolinecolor\": \"#E1E5ED\"}, \"yaxis\": {\"domain\": [0.3, 1], \"gridcolor\": \"#E1E5ED\", \"showgrid\": true, \"tickfont\": {\"color\": \"#4D5663\"}, \"title\": {\"font\": {\"color\": \"#4D5663\"}, \"text\": \"\"}, \"zerolinecolor\": \"#E1E5ED\"}, \"yaxis2\": {\"domain\": [0, 0.25], \"gridcolor\": \"#E1E5ED\", \"showgrid\": true, \"tickfont\": {\"color\": \"#4D5663\"}, \"title\": {\"font\": {\"color\": \"#4D5663\"}, \"text\": \"Ratio\"}, \"zerolinecolor\": \"#E1E5ED\"}},\n",
       "                        {\"showLink\": true, \"linkText\": \"Export to plot.ly\", \"plotlyServerURL\": \"https://plot.ly\", \"responsive\": true}\n",
       "                    ).then(function(){\n",
       "                            \n",
       "var gd = document.getElementById('4dce4613-1301-4171-9259-a349c4138349');\n",
       "var x = new MutationObserver(function (mutations, observer) {{\n",
       "        var display = window.getComputedStyle(gd).display;\n",
       "        if (!display || display === 'none') {{\n",
       "            console.log([gd, 'removed!']);\n",
       "            Plotly.purge(gd);\n",
       "            observer.disconnect();\n",
       "        }}\n",
       "}});\n",
       "\n",
       "// Listen for the removal of the full notebook cells\n",
       "var notebookContainer = gd.closest('#notebook-container');\n",
       "if (notebookContainer) {{\n",
       "    x.observe(notebookContainer, {childList: true});\n",
       "}}\n",
       "\n",
       "// Listen for the clearing of the current output cell\n",
       "var outputEl = gd.closest('.output');\n",
       "if (outputEl) {{\n",
       "    x.observe(outputEl, {childList: true});\n",
       "}}\n",
       "\n",
       "                        })\n",
       "                };\n",
       "                });\n",
       "            </script>\n",
       "        </div>"
      ]
     },
     "metadata": {},
     "output_type": "display_data"
    }
   ],
   "source": [
    "df[['GOOG','VERZ','APPL']].iplot(kind='ratio')"
   ]
  },
  {
   "cell_type": "code",
   "execution_count": 28,
   "metadata": {},
   "outputs": [
    {
     "data": {
      "application/vnd.plotly.v1+json": {
       "config": {
        "linkText": "Export to plot.ly",
        "plotlyServerURL": "https://plot.ly",
        "showLink": true
       },
       "data": [
        {
         "line": {
          "color": "rgba(255, 153, 51, 1.0)",
          "dash": "solid",
          "shape": "linear",
          "width": 1.3
         },
         "marker": {
          "size": 7,
          "symbol": "circle"
         },
         "mode": "markers",
         "name": "IBM",
         "text": "",
         "type": "scatter",
         "x": [
          "2015-01-01",
          "2015-01-02",
          "2015-01-03",
          "2015-01-04",
          "2015-01-05",
          "2015-01-06",
          "2015-01-07",
          "2015-01-08",
          "2015-01-09",
          "2015-01-10",
          "2015-01-11",
          "2015-01-12",
          "2015-01-13",
          "2015-01-14",
          "2015-01-15",
          "2015-01-16",
          "2015-01-17",
          "2015-01-18",
          "2015-01-19",
          "2015-01-20",
          "2015-01-21",
          "2015-01-22",
          "2015-01-23",
          "2015-01-24",
          "2015-01-25",
          "2015-01-26",
          "2015-01-27",
          "2015-01-28",
          "2015-01-29",
          "2015-01-30",
          "2015-01-31",
          "2015-02-01",
          "2015-02-02",
          "2015-02-03",
          "2015-02-04",
          "2015-02-05",
          "2015-02-06",
          "2015-02-07",
          "2015-02-08",
          "2015-02-09",
          "2015-02-10",
          "2015-02-11",
          "2015-02-12",
          "2015-02-13",
          "2015-02-14",
          "2015-02-15",
          "2015-02-16",
          "2015-02-17",
          "2015-02-18",
          "2015-02-19",
          "2015-02-20",
          "2015-02-21",
          "2015-02-22",
          "2015-02-23",
          "2015-02-24",
          "2015-02-25",
          "2015-02-26",
          "2015-02-27",
          "2015-02-28",
          "2015-03-01",
          "2015-03-02",
          "2015-03-03",
          "2015-03-04",
          "2015-03-05",
          "2015-03-06",
          "2015-03-07",
          "2015-03-08",
          "2015-03-09",
          "2015-03-10",
          "2015-03-11",
          "2015-03-12",
          "2015-03-13",
          "2015-03-14",
          "2015-03-15",
          "2015-03-16",
          "2015-03-17",
          "2015-03-18",
          "2015-03-19",
          "2015-03-20",
          "2015-03-21",
          "2015-03-22",
          "2015-03-23",
          "2015-03-24",
          "2015-03-25",
          "2015-03-26",
          "2015-03-27",
          "2015-03-28",
          "2015-03-29",
          "2015-03-30",
          "2015-03-31",
          "2015-04-01",
          "2015-04-02",
          "2015-04-03",
          "2015-04-04",
          "2015-04-05",
          "2015-04-06",
          "2015-04-07",
          "2015-04-08",
          "2015-04-09",
          "2015-04-10"
         ],
         "y": [
          -1.2868801566664638,
          -2.028366513807729,
          -2.760879106191367,
          -1.9911859649445645,
          -1.1698265723057135,
          -0.9720902802456763,
          -1.3893692343289523,
          0.15751532682256508,
          0.28067988699811575,
          -0.5107120093055321,
          -1.8063687051293358,
          -1.7921784377934262,
          -1.1044874291941618,
          -0.2664229033287746,
          -0.6256421886729924,
          0.4121968431481302,
          1.8992288911822006,
          0.4713284609322743,
          2.994948247125084,
          3.0066845652519816,
          4.428386071353853,
          4.91527793224154,
          5.9599498493520535,
          6.1134080683029515,
          5.3533745076686206,
          5.293323668532801,
          4.099962721172125,
          5.217635982306543,
          6.071263872872076,
          4.6433790700021245,
          3.7602602888241847,
          3.281740775327897,
          2.7404638966339827,
          3.3387539342756676,
          4.0286684579720395,
          5.549431907856821,
          7.7754320531931445,
          6.322731592099521,
          6.500348418463007,
          4.307960773824358,
          5.299420681700493,
          6.887429791634869,
          8.867227597756447,
          9.705505785295987,
          9.727310508705818,
          9.47542189494929,
          10.024088259089691,
          9.98684737225707,
          10.69468858425811,
          12.590123161193892,
          11.782826178393798,
          10.917174155836495,
          10.734616926162627,
          10.241322244735414,
          10.641312793916578,
          9.281628379084083,
          9.400145386809678,
          8.651862561935062,
          7.565414896511578,
          6.965260757342342,
          6.707417689495253,
          5.298031156312341,
          5.189613710611087,
          6.38226310279424,
          6.183136169656518,
          5.612166391713544,
          6.39114867505892,
          6.579941941996416,
          8.383442583844783,
          7.707907622852362,
          6.38780750561438,
          6.444029553587608,
          6.607992301383706,
          5.807273092823491,
          6.986991314869297,
          8.092324810185454,
          7.438659031910002,
          7.801618929657894,
          8.167147603397437,
          8.31903075035327,
          7.29850862750133,
          7.512739654299573,
          6.420792527152818,
          7.055018729110213,
          7.0770407319095945,
          7.117641048349709,
          7.345524557970403,
          5.752190402863436,
          6.273101375049812,
          6.278722472055344,
          5.7539515553200955,
          3.1068215726052926,
          2.7290057360970037,
          1.2653832609269167,
          2.2899432891116005,
          1.9511362641198013,
          1.5916454981489803,
          2.1430788859714105,
          2.542681463390741,
          1.530278277459552
         ]
        },
        {
         "line": {
          "color": "rgba(55, 128, 191, 1.0)",
          "dash": "solid",
          "shape": "linear",
          "width": 1.3
         },
         "marker": {
          "size": 7,
          "symbol": "circle"
         },
         "mode": "markers",
         "name": "MSFT",
         "text": "",
         "type": "scatter",
         "x": [
          "2015-01-01",
          "2015-01-02",
          "2015-01-03",
          "2015-01-04",
          "2015-01-05",
          "2015-01-06",
          "2015-01-07",
          "2015-01-08",
          "2015-01-09",
          "2015-01-10",
          "2015-01-11",
          "2015-01-12",
          "2015-01-13",
          "2015-01-14",
          "2015-01-15",
          "2015-01-16",
          "2015-01-17",
          "2015-01-18",
          "2015-01-19",
          "2015-01-20",
          "2015-01-21",
          "2015-01-22",
          "2015-01-23",
          "2015-01-24",
          "2015-01-25",
          "2015-01-26",
          "2015-01-27",
          "2015-01-28",
          "2015-01-29",
          "2015-01-30",
          "2015-01-31",
          "2015-02-01",
          "2015-02-02",
          "2015-02-03",
          "2015-02-04",
          "2015-02-05",
          "2015-02-06",
          "2015-02-07",
          "2015-02-08",
          "2015-02-09",
          "2015-02-10",
          "2015-02-11",
          "2015-02-12",
          "2015-02-13",
          "2015-02-14",
          "2015-02-15",
          "2015-02-16",
          "2015-02-17",
          "2015-02-18",
          "2015-02-19",
          "2015-02-20",
          "2015-02-21",
          "2015-02-22",
          "2015-02-23",
          "2015-02-24",
          "2015-02-25",
          "2015-02-26",
          "2015-02-27",
          "2015-02-28",
          "2015-03-01",
          "2015-03-02",
          "2015-03-03",
          "2015-03-04",
          "2015-03-05",
          "2015-03-06",
          "2015-03-07",
          "2015-03-08",
          "2015-03-09",
          "2015-03-10",
          "2015-03-11",
          "2015-03-12",
          "2015-03-13",
          "2015-03-14",
          "2015-03-15",
          "2015-03-16",
          "2015-03-17",
          "2015-03-18",
          "2015-03-19",
          "2015-03-20",
          "2015-03-21",
          "2015-03-22",
          "2015-03-23",
          "2015-03-24",
          "2015-03-25",
          "2015-03-26",
          "2015-03-27",
          "2015-03-28",
          "2015-03-29",
          "2015-03-30",
          "2015-03-31",
          "2015-04-01",
          "2015-04-02",
          "2015-04-03",
          "2015-04-04",
          "2015-04-05",
          "2015-04-06",
          "2015-04-07",
          "2015-04-08",
          "2015-04-09",
          "2015-04-10"
         ],
         "y": [
          -0.14231784552685722,
          0.0038383488741102756,
          -1.394342441102017,
          0.05281310065044109,
          -1.2953856887317763,
          -0.23262923631253374,
          -2.5064608920511025,
          -3.6201295377974985,
          -2.959479810992466,
          -3.772544722719001,
          -3.0709588325198514,
          -2.0375398840254366,
          -2.1693398305300824,
          -3.2990288162994386,
          -4.890590132460698,
          -4.15033703004252,
          -4.176687297989628,
          -4.5205820294304235,
          -4.414951077438917,
          -4.950842185052673,
          -6.320562459093343,
          -6.44888710392168,
          -6.020839447515197,
          -5.785039010002954,
          -6.093129681526676,
          -6.634138955952207,
          -6.570694424396184,
          -6.521643404930816,
          -5.299024933004039,
          -6.0886710847423435,
          -5.881060365924777,
          -3.915482394403372,
          -3.9827955274268745,
          -4.147845784640805,
          -3.42504253118667,
          -4.40082690854008,
          -4.075525471295986,
          -2.861534944561367,
          -3.781912959044849,
          -4.333547172371902,
          -3.7095920728127374,
          -3.4750745616048015,
          -2.747492006580319,
          -0.9979818882593192,
          -1.0647188197146276,
          -0.8955434858458016,
          -0.6519956098049098,
          1.6492927283038028,
          3.387224087556209,
          4.513566073082565,
          5.430806739184705,
          4.907521152193672,
          2.8095620478423875,
          2.915435824696081,
          1.5200875838787369,
          2.429132108080452,
          3.7756335804841363,
          4.002064408796806,
          3.4628516327730687,
          3.214324464767252,
          3.8560726788603708,
          2.2554862113398633,
          2.9445092783273754,
          3.5262828903204313,
          2.463193248025804,
          1.7260733152151322,
          0.7398626546489155,
          0.4719722351730572,
          0.9991489857126875,
          1.9463121727900423,
          0.23353648657121595,
          1.0453540766324032,
          0.8125285169010912,
          0.21356493176886515,
          0.28570457417174555,
          0.11812423461881866,
          0.4917748669935742,
          0.36077971790123253,
          0.5972969247795444,
          0.7236739472521214,
          2.636233090974466,
          1.069513681161607,
          0.28665585447293573,
          0.19369838104339726,
          0.35621491824623663,
          3.048403464903692,
          4.677726795508604,
          4.894177005591278,
          4.787507408289258,
          4.951135431932031,
          4.884774009715971,
          3.5625808936247694,
          2.9640904467996405,
          2.6843113704032233,
          2.530433555830813,
          5.248023191199183,
          4.349788040925403,
          5.450810783635532,
          5.052823592404031,
          5.15929729082009
         ]
        },
        {
         "line": {
          "color": "rgba(50, 171, 96, 1.0)",
          "dash": "solid",
          "shape": "linear",
          "width": 1.3
         },
         "marker": {
          "size": 7,
          "symbol": "circle"
         },
         "mode": "markers",
         "name": "GOOG",
         "text": "",
         "type": "scatter",
         "x": [
          "2015-01-01",
          "2015-01-02",
          "2015-01-03",
          "2015-01-04",
          "2015-01-05",
          "2015-01-06",
          "2015-01-07",
          "2015-01-08",
          "2015-01-09",
          "2015-01-10",
          "2015-01-11",
          "2015-01-12",
          "2015-01-13",
          "2015-01-14",
          "2015-01-15",
          "2015-01-16",
          "2015-01-17",
          "2015-01-18",
          "2015-01-19",
          "2015-01-20",
          "2015-01-21",
          "2015-01-22",
          "2015-01-23",
          "2015-01-24",
          "2015-01-25",
          "2015-01-26",
          "2015-01-27",
          "2015-01-28",
          "2015-01-29",
          "2015-01-30",
          "2015-01-31",
          "2015-02-01",
          "2015-02-02",
          "2015-02-03",
          "2015-02-04",
          "2015-02-05",
          "2015-02-06",
          "2015-02-07",
          "2015-02-08",
          "2015-02-09",
          "2015-02-10",
          "2015-02-11",
          "2015-02-12",
          "2015-02-13",
          "2015-02-14",
          "2015-02-15",
          "2015-02-16",
          "2015-02-17",
          "2015-02-18",
          "2015-02-19",
          "2015-02-20",
          "2015-02-21",
          "2015-02-22",
          "2015-02-23",
          "2015-02-24",
          "2015-02-25",
          "2015-02-26",
          "2015-02-27",
          "2015-02-28",
          "2015-03-01",
          "2015-03-02",
          "2015-03-03",
          "2015-03-04",
          "2015-03-05",
          "2015-03-06",
          "2015-03-07",
          "2015-03-08",
          "2015-03-09",
          "2015-03-10",
          "2015-03-11",
          "2015-03-12",
          "2015-03-13",
          "2015-03-14",
          "2015-03-15",
          "2015-03-16",
          "2015-03-17",
          "2015-03-18",
          "2015-03-19",
          "2015-03-20",
          "2015-03-21",
          "2015-03-22",
          "2015-03-23",
          "2015-03-24",
          "2015-03-25",
          "2015-03-26",
          "2015-03-27",
          "2015-03-28",
          "2015-03-29",
          "2015-03-30",
          "2015-03-31",
          "2015-04-01",
          "2015-04-02",
          "2015-04-03",
          "2015-04-04",
          "2015-04-05",
          "2015-04-06",
          "2015-04-07",
          "2015-04-08",
          "2015-04-09",
          "2015-04-10"
         ],
         "y": [
          0.887859548430912,
          -0.12442855812384623,
          0.31510584146026,
          -0.3620399760333849,
          0.060047799161180415,
          0.489542542000453,
          0.39864526286565544,
          -0.12691305706221562,
          -0.14653742623622149,
          -1.9942051171963504,
          -1.3676444884468961,
          -0.8372557932333661,
          -1.9188470342391222,
          -1.176425895752355,
          -0.5063944395571112,
          -0.6230886218617776,
          -0.6637716155230189,
          -0.44370395604865664,
          -1.0502230320712198,
          -1.884455201532628,
          -0.8465602088727773,
          -0.2594989167460039,
          -1.9955610009465663,
          -2.221501710910537,
          -3.217375118573837,
          -3.6208546163065196,
          -4.929555124356471,
          -4.840508167100383,
          -3.827535434970696,
          -3.867032210267071,
          -4.5063002992719685,
          -4.925453159939044,
          -4.174179782827053,
          -2.657263222654409,
          -4.307262797144048,
          -5.304732773389594,
          -4.618642038632928,
          -5.7364532527662195,
          -4.392594886900887,
          -4.4558778061555255,
          -4.9857689109230625,
          -4.156439892523207,
          -3.3815162927726474,
          -4.524633232529935,
          -2.1656811236745916,
          -3.1885135351785516,
          -3.9006128888640728,
          -4.077345971346925,
          -4.000916020536469,
          -4.4098462746028675,
          -5.639320258383571,
          -5.687101247473266,
          -5.0688162769214875,
          -5.728851900477398,
          -6.343303939209772,
          -9.328835099025895,
          -8.860782654790022,
          -8.766972470016524,
          -7.71034017674116,
          -7.34436940021025,
          -7.352338908426178,
          -5.660115446029203,
          -6.6854008273788335,
          -5.682223402388089,
          -6.9632825041098405,
          -6.678646553285244,
          -5.752049999433002,
          -6.881893383159216,
          -6.5453962916602375,
          -5.039119802550206,
          -5.338956969174161,
          -4.4834048889550315,
          -3.927119209210786,
          -4.914573738720649,
          -6.567959222482106,
          -7.620031172452751,
          -7.607736110887162,
          -7.5546361814823495,
          -7.144042517705126,
          -7.123148748328626,
          -6.136712449596261,
          -6.365268583170922,
          -7.46153901912162,
          -7.887593355698787,
          -7.24361705197415,
          -6.356909555910471,
          -5.176156220893024,
          -6.80156252352153,
          -6.802162108296153,
          -6.313537622663519,
          -3.5447733332150233,
          -3.9845629222544896,
          -2.854306918829467,
          -2.6727676110848138,
          -2.985194155696666,
          -1.9778983711938678,
          -2.829599717537466,
          -2.256304104822701,
          -3.0652309473468895,
          -3.641370706696887
         ]
        }
       ],
       "layout": {
        "legend": {
         "bgcolor": "#F5F6F9",
         "font": {
          "color": "#4D5663"
         }
        },
        "paper_bgcolor": "#F5F6F9",
        "plot_bgcolor": "#F5F6F9",
        "template": {
         "data": {
          "bar": [
           {
            "error_x": {
             "color": "#2a3f5f"
            },
            "error_y": {
             "color": "#2a3f5f"
            },
            "marker": {
             "line": {
              "color": "#E5ECF6",
              "width": 0.5
             }
            },
            "type": "bar"
           }
          ],
          "barpolar": [
           {
            "marker": {
             "line": {
              "color": "#E5ECF6",
              "width": 0.5
             }
            },
            "type": "barpolar"
           }
          ],
          "carpet": [
           {
            "aaxis": {
             "endlinecolor": "#2a3f5f",
             "gridcolor": "white",
             "linecolor": "white",
             "minorgridcolor": "white",
             "startlinecolor": "#2a3f5f"
            },
            "baxis": {
             "endlinecolor": "#2a3f5f",
             "gridcolor": "white",
             "linecolor": "white",
             "minorgridcolor": "white",
             "startlinecolor": "#2a3f5f"
            },
            "type": "carpet"
           }
          ],
          "choropleth": [
           {
            "colorbar": {
             "outlinewidth": 0,
             "ticks": ""
            },
            "type": "choropleth"
           }
          ],
          "contour": [
           {
            "colorbar": {
             "outlinewidth": 0,
             "ticks": ""
            },
            "colorscale": [
             [
              0,
              "#0d0887"
             ],
             [
              0.1111111111111111,
              "#46039f"
             ],
             [
              0.2222222222222222,
              "#7201a8"
             ],
             [
              0.3333333333333333,
              "#9c179e"
             ],
             [
              0.4444444444444444,
              "#bd3786"
             ],
             [
              0.5555555555555556,
              "#d8576b"
             ],
             [
              0.6666666666666666,
              "#ed7953"
             ],
             [
              0.7777777777777778,
              "#fb9f3a"
             ],
             [
              0.8888888888888888,
              "#fdca26"
             ],
             [
              1,
              "#f0f921"
             ]
            ],
            "type": "contour"
           }
          ],
          "contourcarpet": [
           {
            "colorbar": {
             "outlinewidth": 0,
             "ticks": ""
            },
            "type": "contourcarpet"
           }
          ],
          "heatmap": [
           {
            "colorbar": {
             "outlinewidth": 0,
             "ticks": ""
            },
            "colorscale": [
             [
              0,
              "#0d0887"
             ],
             [
              0.1111111111111111,
              "#46039f"
             ],
             [
              0.2222222222222222,
              "#7201a8"
             ],
             [
              0.3333333333333333,
              "#9c179e"
             ],
             [
              0.4444444444444444,
              "#bd3786"
             ],
             [
              0.5555555555555556,
              "#d8576b"
             ],
             [
              0.6666666666666666,
              "#ed7953"
             ],
             [
              0.7777777777777778,
              "#fb9f3a"
             ],
             [
              0.8888888888888888,
              "#fdca26"
             ],
             [
              1,
              "#f0f921"
             ]
            ],
            "type": "heatmap"
           }
          ],
          "heatmapgl": [
           {
            "colorbar": {
             "outlinewidth": 0,
             "ticks": ""
            },
            "colorscale": [
             [
              0,
              "#0d0887"
             ],
             [
              0.1111111111111111,
              "#46039f"
             ],
             [
              0.2222222222222222,
              "#7201a8"
             ],
             [
              0.3333333333333333,
              "#9c179e"
             ],
             [
              0.4444444444444444,
              "#bd3786"
             ],
             [
              0.5555555555555556,
              "#d8576b"
             ],
             [
              0.6666666666666666,
              "#ed7953"
             ],
             [
              0.7777777777777778,
              "#fb9f3a"
             ],
             [
              0.8888888888888888,
              "#fdca26"
             ],
             [
              1,
              "#f0f921"
             ]
            ],
            "type": "heatmapgl"
           }
          ],
          "histogram": [
           {
            "marker": {
             "colorbar": {
              "outlinewidth": 0,
              "ticks": ""
             }
            },
            "type": "histogram"
           }
          ],
          "histogram2d": [
           {
            "colorbar": {
             "outlinewidth": 0,
             "ticks": ""
            },
            "colorscale": [
             [
              0,
              "#0d0887"
             ],
             [
              0.1111111111111111,
              "#46039f"
             ],
             [
              0.2222222222222222,
              "#7201a8"
             ],
             [
              0.3333333333333333,
              "#9c179e"
             ],
             [
              0.4444444444444444,
              "#bd3786"
             ],
             [
              0.5555555555555556,
              "#d8576b"
             ],
             [
              0.6666666666666666,
              "#ed7953"
             ],
             [
              0.7777777777777778,
              "#fb9f3a"
             ],
             [
              0.8888888888888888,
              "#fdca26"
             ],
             [
              1,
              "#f0f921"
             ]
            ],
            "type": "histogram2d"
           }
          ],
          "histogram2dcontour": [
           {
            "colorbar": {
             "outlinewidth": 0,
             "ticks": ""
            },
            "colorscale": [
             [
              0,
              "#0d0887"
             ],
             [
              0.1111111111111111,
              "#46039f"
             ],
             [
              0.2222222222222222,
              "#7201a8"
             ],
             [
              0.3333333333333333,
              "#9c179e"
             ],
             [
              0.4444444444444444,
              "#bd3786"
             ],
             [
              0.5555555555555556,
              "#d8576b"
             ],
             [
              0.6666666666666666,
              "#ed7953"
             ],
             [
              0.7777777777777778,
              "#fb9f3a"
             ],
             [
              0.8888888888888888,
              "#fdca26"
             ],
             [
              1,
              "#f0f921"
             ]
            ],
            "type": "histogram2dcontour"
           }
          ],
          "mesh3d": [
           {
            "colorbar": {
             "outlinewidth": 0,
             "ticks": ""
            },
            "type": "mesh3d"
           }
          ],
          "parcoords": [
           {
            "line": {
             "colorbar": {
              "outlinewidth": 0,
              "ticks": ""
             }
            },
            "type": "parcoords"
           }
          ],
          "pie": [
           {
            "automargin": true,
            "type": "pie"
           }
          ],
          "scatter": [
           {
            "marker": {
             "colorbar": {
              "outlinewidth": 0,
              "ticks": ""
             }
            },
            "type": "scatter"
           }
          ],
          "scatter3d": [
           {
            "line": {
             "colorbar": {
              "outlinewidth": 0,
              "ticks": ""
             }
            },
            "marker": {
             "colorbar": {
              "outlinewidth": 0,
              "ticks": ""
             }
            },
            "type": "scatter3d"
           }
          ],
          "scattercarpet": [
           {
            "marker": {
             "colorbar": {
              "outlinewidth": 0,
              "ticks": ""
             }
            },
            "type": "scattercarpet"
           }
          ],
          "scattergeo": [
           {
            "marker": {
             "colorbar": {
              "outlinewidth": 0,
              "ticks": ""
             }
            },
            "type": "scattergeo"
           }
          ],
          "scattergl": [
           {
            "marker": {
             "colorbar": {
              "outlinewidth": 0,
              "ticks": ""
             }
            },
            "type": "scattergl"
           }
          ],
          "scattermapbox": [
           {
            "marker": {
             "colorbar": {
              "outlinewidth": 0,
              "ticks": ""
             }
            },
            "type": "scattermapbox"
           }
          ],
          "scatterpolar": [
           {
            "marker": {
             "colorbar": {
              "outlinewidth": 0,
              "ticks": ""
             }
            },
            "type": "scatterpolar"
           }
          ],
          "scatterpolargl": [
           {
            "marker": {
             "colorbar": {
              "outlinewidth": 0,
              "ticks": ""
             }
            },
            "type": "scatterpolargl"
           }
          ],
          "scatterternary": [
           {
            "marker": {
             "colorbar": {
              "outlinewidth": 0,
              "ticks": ""
             }
            },
            "type": "scatterternary"
           }
          ],
          "surface": [
           {
            "colorbar": {
             "outlinewidth": 0,
             "ticks": ""
            },
            "colorscale": [
             [
              0,
              "#0d0887"
             ],
             [
              0.1111111111111111,
              "#46039f"
             ],
             [
              0.2222222222222222,
              "#7201a8"
             ],
             [
              0.3333333333333333,
              "#9c179e"
             ],
             [
              0.4444444444444444,
              "#bd3786"
             ],
             [
              0.5555555555555556,
              "#d8576b"
             ],
             [
              0.6666666666666666,
              "#ed7953"
             ],
             [
              0.7777777777777778,
              "#fb9f3a"
             ],
             [
              0.8888888888888888,
              "#fdca26"
             ],
             [
              1,
              "#f0f921"
             ]
            ],
            "type": "surface"
           }
          ],
          "table": [
           {
            "cells": {
             "fill": {
              "color": "#EBF0F8"
             },
             "line": {
              "color": "white"
             }
            },
            "header": {
             "fill": {
              "color": "#C8D4E3"
             },
             "line": {
              "color": "white"
             }
            },
            "type": "table"
           }
          ]
         },
         "layout": {
          "annotationdefaults": {
           "arrowcolor": "#2a3f5f",
           "arrowhead": 0,
           "arrowwidth": 1
          },
          "coloraxis": {
           "colorbar": {
            "outlinewidth": 0,
            "ticks": ""
           }
          },
          "colorscale": {
           "diverging": [
            [
             0,
             "#8e0152"
            ],
            [
             0.1,
             "#c51b7d"
            ],
            [
             0.2,
             "#de77ae"
            ],
            [
             0.3,
             "#f1b6da"
            ],
            [
             0.4,
             "#fde0ef"
            ],
            [
             0.5,
             "#f7f7f7"
            ],
            [
             0.6,
             "#e6f5d0"
            ],
            [
             0.7,
             "#b8e186"
            ],
            [
             0.8,
             "#7fbc41"
            ],
            [
             0.9,
             "#4d9221"
            ],
            [
             1,
             "#276419"
            ]
           ],
           "sequential": [
            [
             0,
             "#0d0887"
            ],
            [
             0.1111111111111111,
             "#46039f"
            ],
            [
             0.2222222222222222,
             "#7201a8"
            ],
            [
             0.3333333333333333,
             "#9c179e"
            ],
            [
             0.4444444444444444,
             "#bd3786"
            ],
            [
             0.5555555555555556,
             "#d8576b"
            ],
            [
             0.6666666666666666,
             "#ed7953"
            ],
            [
             0.7777777777777778,
             "#fb9f3a"
            ],
            [
             0.8888888888888888,
             "#fdca26"
            ],
            [
             1,
             "#f0f921"
            ]
           ],
           "sequentialminus": [
            [
             0,
             "#0d0887"
            ],
            [
             0.1111111111111111,
             "#46039f"
            ],
            [
             0.2222222222222222,
             "#7201a8"
            ],
            [
             0.3333333333333333,
             "#9c179e"
            ],
            [
             0.4444444444444444,
             "#bd3786"
            ],
            [
             0.5555555555555556,
             "#d8576b"
            ],
            [
             0.6666666666666666,
             "#ed7953"
            ],
            [
             0.7777777777777778,
             "#fb9f3a"
            ],
            [
             0.8888888888888888,
             "#fdca26"
            ],
            [
             1,
             "#f0f921"
            ]
           ]
          },
          "colorway": [
           "#636efa",
           "#EF553B",
           "#00cc96",
           "#ab63fa",
           "#FFA15A",
           "#19d3f3",
           "#FF6692",
           "#B6E880",
           "#FF97FF",
           "#FECB52"
          ],
          "font": {
           "color": "#2a3f5f"
          },
          "geo": {
           "bgcolor": "white",
           "lakecolor": "white",
           "landcolor": "#E5ECF6",
           "showlakes": true,
           "showland": true,
           "subunitcolor": "white"
          },
          "hoverlabel": {
           "align": "left"
          },
          "hovermode": "closest",
          "mapbox": {
           "style": "light"
          },
          "paper_bgcolor": "white",
          "plot_bgcolor": "#E5ECF6",
          "polar": {
           "angularaxis": {
            "gridcolor": "white",
            "linecolor": "white",
            "ticks": ""
           },
           "bgcolor": "#E5ECF6",
           "radialaxis": {
            "gridcolor": "white",
            "linecolor": "white",
            "ticks": ""
           }
          },
          "scene": {
           "xaxis": {
            "backgroundcolor": "#E5ECF6",
            "gridcolor": "white",
            "gridwidth": 2,
            "linecolor": "white",
            "showbackground": true,
            "ticks": "",
            "zerolinecolor": "white"
           },
           "yaxis": {
            "backgroundcolor": "#E5ECF6",
            "gridcolor": "white",
            "gridwidth": 2,
            "linecolor": "white",
            "showbackground": true,
            "ticks": "",
            "zerolinecolor": "white"
           },
           "zaxis": {
            "backgroundcolor": "#E5ECF6",
            "gridcolor": "white",
            "gridwidth": 2,
            "linecolor": "white",
            "showbackground": true,
            "ticks": "",
            "zerolinecolor": "white"
           }
          },
          "shapedefaults": {
           "line": {
            "color": "#2a3f5f"
           }
          },
          "ternary": {
           "aaxis": {
            "gridcolor": "white",
            "linecolor": "white",
            "ticks": ""
           },
           "baxis": {
            "gridcolor": "white",
            "linecolor": "white",
            "ticks": ""
           },
           "bgcolor": "#E5ECF6",
           "caxis": {
            "gridcolor": "white",
            "linecolor": "white",
            "ticks": ""
           }
          },
          "title": {
           "x": 0.05
          },
          "xaxis": {
           "automargin": true,
           "gridcolor": "white",
           "linecolor": "white",
           "ticks": "",
           "title": {
            "standoff": 15
           },
           "zerolinecolor": "white",
           "zerolinewidth": 2
          },
          "yaxis": {
           "automargin": true,
           "gridcolor": "white",
           "linecolor": "white",
           "ticks": "",
           "title": {
            "standoff": 15
           },
           "zerolinecolor": "white",
           "zerolinewidth": 2
          }
         }
        },
        "title": {
         "font": {
          "color": "#4D5663"
         }
        },
        "xaxis": {
         "gridcolor": "#E1E5ED",
         "showgrid": true,
         "tickfont": {
          "color": "#4D5663"
         },
         "title": {
          "font": {
           "color": "#4D5663"
          },
          "text": ""
         },
         "zerolinecolor": "#E1E5ED"
        },
        "yaxis": {
         "gridcolor": "#E1E5ED",
         "showgrid": true,
         "tickfont": {
          "color": "#4D5663"
         },
         "title": {
          "font": {
           "color": "#4D5663"
          },
          "text": ""
         },
         "zerolinecolor": "#E1E5ED"
        }
       }
      },
      "text/html": [
       "<div>\n",
       "        \n",
       "        \n",
       "            <div id=\"07520675-5f63-4923-ab6a-d5eea3db75af\" class=\"plotly-graph-div\" style=\"height:525px; width:100%;\"></div>\n",
       "            <script type=\"text/javascript\">\n",
       "                require([\"plotly\"], function(Plotly) {\n",
       "                    window.PLOTLYENV=window.PLOTLYENV || {};\n",
       "                    window.PLOTLYENV.BASE_URL='https://plot.ly';\n",
       "                    \n",
       "                if (document.getElementById(\"07520675-5f63-4923-ab6a-d5eea3db75af\")) {\n",
       "                    Plotly.newPlot(\n",
       "                        '07520675-5f63-4923-ab6a-d5eea3db75af',\n",
       "                        [{\"line\": {\"color\": \"rgba(255, 153, 51, 1.0)\", \"dash\": \"solid\", \"shape\": \"linear\", \"width\": 1.3}, \"marker\": {\"size\": 7, \"symbol\": \"circle\"}, \"mode\": \"markers\", \"name\": \"IBM\", \"text\": \"\", \"type\": \"scatter\", \"x\": [\"2015-01-01\", \"2015-01-02\", \"2015-01-03\", \"2015-01-04\", \"2015-01-05\", \"2015-01-06\", \"2015-01-07\", \"2015-01-08\", \"2015-01-09\", \"2015-01-10\", \"2015-01-11\", \"2015-01-12\", \"2015-01-13\", \"2015-01-14\", \"2015-01-15\", \"2015-01-16\", \"2015-01-17\", \"2015-01-18\", \"2015-01-19\", \"2015-01-20\", \"2015-01-21\", \"2015-01-22\", \"2015-01-23\", \"2015-01-24\", \"2015-01-25\", \"2015-01-26\", \"2015-01-27\", \"2015-01-28\", \"2015-01-29\", \"2015-01-30\", \"2015-01-31\", \"2015-02-01\", \"2015-02-02\", \"2015-02-03\", \"2015-02-04\", \"2015-02-05\", \"2015-02-06\", \"2015-02-07\", \"2015-02-08\", \"2015-02-09\", \"2015-02-10\", \"2015-02-11\", \"2015-02-12\", \"2015-02-13\", \"2015-02-14\", \"2015-02-15\", \"2015-02-16\", \"2015-02-17\", \"2015-02-18\", \"2015-02-19\", \"2015-02-20\", \"2015-02-21\", \"2015-02-22\", \"2015-02-23\", \"2015-02-24\", \"2015-02-25\", \"2015-02-26\", \"2015-02-27\", \"2015-02-28\", \"2015-03-01\", \"2015-03-02\", \"2015-03-03\", \"2015-03-04\", \"2015-03-05\", \"2015-03-06\", \"2015-03-07\", \"2015-03-08\", \"2015-03-09\", \"2015-03-10\", \"2015-03-11\", \"2015-03-12\", \"2015-03-13\", \"2015-03-14\", \"2015-03-15\", \"2015-03-16\", \"2015-03-17\", \"2015-03-18\", \"2015-03-19\", \"2015-03-20\", \"2015-03-21\", \"2015-03-22\", \"2015-03-23\", \"2015-03-24\", \"2015-03-25\", \"2015-03-26\", \"2015-03-27\", \"2015-03-28\", \"2015-03-29\", \"2015-03-30\", \"2015-03-31\", \"2015-04-01\", \"2015-04-02\", \"2015-04-03\", \"2015-04-04\", \"2015-04-05\", \"2015-04-06\", \"2015-04-07\", \"2015-04-08\", \"2015-04-09\", \"2015-04-10\"], \"y\": [-1.2868801566664638, -2.028366513807729, -2.760879106191367, -1.9911859649445645, -1.1698265723057135, -0.9720902802456763, -1.3893692343289523, 0.15751532682256508, 0.28067988699811575, -0.5107120093055321, -1.8063687051293358, -1.7921784377934262, -1.1044874291941618, -0.2664229033287746, -0.6256421886729924, 0.4121968431481302, 1.8992288911822006, 0.4713284609322743, 2.994948247125084, 3.0066845652519816, 4.428386071353853, 4.91527793224154, 5.9599498493520535, 6.1134080683029515, 5.3533745076686206, 5.293323668532801, 4.099962721172125, 5.217635982306543, 6.071263872872076, 4.6433790700021245, 3.7602602888241847, 3.281740775327897, 2.7404638966339827, 3.3387539342756676, 4.0286684579720395, 5.549431907856821, 7.7754320531931445, 6.322731592099521, 6.500348418463007, 4.307960773824358, 5.299420681700493, 6.887429791634869, 8.867227597756447, 9.705505785295987, 9.727310508705818, 9.47542189494929, 10.024088259089691, 9.98684737225707, 10.69468858425811, 12.590123161193892, 11.782826178393798, 10.917174155836495, 10.734616926162627, 10.241322244735414, 10.641312793916578, 9.281628379084083, 9.400145386809678, 8.651862561935062, 7.565414896511578, 6.965260757342342, 6.707417689495253, 5.298031156312341, 5.189613710611087, 6.38226310279424, 6.183136169656518, 5.612166391713544, 6.39114867505892, 6.579941941996416, 8.383442583844783, 7.707907622852362, 6.38780750561438, 6.444029553587608, 6.607992301383706, 5.807273092823491, 6.986991314869297, 8.092324810185454, 7.438659031910002, 7.801618929657894, 8.167147603397437, 8.31903075035327, 7.29850862750133, 7.512739654299573, 6.420792527152818, 7.055018729110213, 7.0770407319095945, 7.117641048349709, 7.345524557970403, 5.752190402863436, 6.273101375049812, 6.278722472055344, 5.7539515553200955, 3.1068215726052926, 2.7290057360970037, 1.2653832609269167, 2.2899432891116005, 1.9511362641198013, 1.5916454981489803, 2.1430788859714105, 2.542681463390741, 1.530278277459552]}, {\"line\": {\"color\": \"rgba(55, 128, 191, 1.0)\", \"dash\": \"solid\", \"shape\": \"linear\", \"width\": 1.3}, \"marker\": {\"size\": 7, \"symbol\": \"circle\"}, \"mode\": \"markers\", \"name\": \"MSFT\", \"text\": \"\", \"type\": \"scatter\", \"x\": [\"2015-01-01\", \"2015-01-02\", \"2015-01-03\", \"2015-01-04\", \"2015-01-05\", \"2015-01-06\", \"2015-01-07\", \"2015-01-08\", \"2015-01-09\", \"2015-01-10\", \"2015-01-11\", \"2015-01-12\", \"2015-01-13\", \"2015-01-14\", \"2015-01-15\", \"2015-01-16\", \"2015-01-17\", \"2015-01-18\", \"2015-01-19\", \"2015-01-20\", \"2015-01-21\", \"2015-01-22\", \"2015-01-23\", \"2015-01-24\", \"2015-01-25\", \"2015-01-26\", \"2015-01-27\", \"2015-01-28\", \"2015-01-29\", \"2015-01-30\", \"2015-01-31\", \"2015-02-01\", \"2015-02-02\", \"2015-02-03\", \"2015-02-04\", \"2015-02-05\", \"2015-02-06\", \"2015-02-07\", \"2015-02-08\", \"2015-02-09\", \"2015-02-10\", \"2015-02-11\", \"2015-02-12\", \"2015-02-13\", \"2015-02-14\", \"2015-02-15\", \"2015-02-16\", \"2015-02-17\", \"2015-02-18\", \"2015-02-19\", \"2015-02-20\", \"2015-02-21\", \"2015-02-22\", \"2015-02-23\", \"2015-02-24\", \"2015-02-25\", \"2015-02-26\", \"2015-02-27\", \"2015-02-28\", \"2015-03-01\", \"2015-03-02\", \"2015-03-03\", \"2015-03-04\", \"2015-03-05\", \"2015-03-06\", \"2015-03-07\", \"2015-03-08\", \"2015-03-09\", \"2015-03-10\", \"2015-03-11\", \"2015-03-12\", \"2015-03-13\", \"2015-03-14\", \"2015-03-15\", \"2015-03-16\", \"2015-03-17\", \"2015-03-18\", \"2015-03-19\", \"2015-03-20\", \"2015-03-21\", \"2015-03-22\", \"2015-03-23\", \"2015-03-24\", \"2015-03-25\", \"2015-03-26\", \"2015-03-27\", \"2015-03-28\", \"2015-03-29\", \"2015-03-30\", \"2015-03-31\", \"2015-04-01\", \"2015-04-02\", \"2015-04-03\", \"2015-04-04\", \"2015-04-05\", \"2015-04-06\", \"2015-04-07\", \"2015-04-08\", \"2015-04-09\", \"2015-04-10\"], \"y\": [-0.14231784552685722, 0.0038383488741102756, -1.394342441102017, 0.05281310065044109, -1.2953856887317763, -0.23262923631253374, -2.5064608920511025, -3.6201295377974985, -2.959479810992466, -3.772544722719001, -3.0709588325198514, -2.0375398840254366, -2.1693398305300824, -3.2990288162994386, -4.890590132460698, -4.15033703004252, -4.176687297989628, -4.5205820294304235, -4.414951077438917, -4.950842185052673, -6.320562459093343, -6.44888710392168, -6.020839447515197, -5.785039010002954, -6.093129681526676, -6.634138955952207, -6.570694424396184, -6.521643404930816, -5.299024933004039, -6.0886710847423435, -5.881060365924777, -3.915482394403372, -3.9827955274268745, -4.147845784640805, -3.42504253118667, -4.40082690854008, -4.075525471295986, -2.861534944561367, -3.781912959044849, -4.333547172371902, -3.7095920728127374, -3.4750745616048015, -2.747492006580319, -0.9979818882593192, -1.0647188197146276, -0.8955434858458016, -0.6519956098049098, 1.6492927283038028, 3.387224087556209, 4.513566073082565, 5.430806739184705, 4.907521152193672, 2.8095620478423875, 2.915435824696081, 1.5200875838787369, 2.429132108080452, 3.7756335804841363, 4.002064408796806, 3.4628516327730687, 3.214324464767252, 3.8560726788603708, 2.2554862113398633, 2.9445092783273754, 3.5262828903204313, 2.463193248025804, 1.7260733152151322, 0.7398626546489155, 0.4719722351730572, 0.9991489857126875, 1.9463121727900423, 0.23353648657121595, 1.0453540766324032, 0.8125285169010912, 0.21356493176886515, 0.28570457417174555, 0.11812423461881866, 0.4917748669935742, 0.36077971790123253, 0.5972969247795444, 0.7236739472521214, 2.636233090974466, 1.069513681161607, 0.28665585447293573, 0.19369838104339726, 0.35621491824623663, 3.048403464903692, 4.677726795508604, 4.894177005591278, 4.787507408289258, 4.951135431932031, 4.884774009715971, 3.5625808936247694, 2.9640904467996405, 2.6843113704032233, 2.530433555830813, 5.248023191199183, 4.349788040925403, 5.450810783635532, 5.052823592404031, 5.15929729082009]}, {\"line\": {\"color\": \"rgba(50, 171, 96, 1.0)\", \"dash\": \"solid\", \"shape\": \"linear\", \"width\": 1.3}, \"marker\": {\"size\": 7, \"symbol\": \"circle\"}, \"mode\": \"markers\", \"name\": \"GOOG\", \"text\": \"\", \"type\": \"scatter\", \"x\": [\"2015-01-01\", \"2015-01-02\", \"2015-01-03\", \"2015-01-04\", \"2015-01-05\", \"2015-01-06\", \"2015-01-07\", \"2015-01-08\", \"2015-01-09\", \"2015-01-10\", \"2015-01-11\", \"2015-01-12\", \"2015-01-13\", \"2015-01-14\", \"2015-01-15\", \"2015-01-16\", \"2015-01-17\", \"2015-01-18\", \"2015-01-19\", \"2015-01-20\", \"2015-01-21\", \"2015-01-22\", \"2015-01-23\", \"2015-01-24\", \"2015-01-25\", \"2015-01-26\", \"2015-01-27\", \"2015-01-28\", \"2015-01-29\", \"2015-01-30\", \"2015-01-31\", \"2015-02-01\", \"2015-02-02\", \"2015-02-03\", \"2015-02-04\", \"2015-02-05\", \"2015-02-06\", \"2015-02-07\", \"2015-02-08\", \"2015-02-09\", \"2015-02-10\", \"2015-02-11\", \"2015-02-12\", \"2015-02-13\", \"2015-02-14\", \"2015-02-15\", \"2015-02-16\", \"2015-02-17\", \"2015-02-18\", \"2015-02-19\", \"2015-02-20\", \"2015-02-21\", \"2015-02-22\", \"2015-02-23\", \"2015-02-24\", \"2015-02-25\", \"2015-02-26\", \"2015-02-27\", \"2015-02-28\", \"2015-03-01\", \"2015-03-02\", \"2015-03-03\", \"2015-03-04\", \"2015-03-05\", \"2015-03-06\", \"2015-03-07\", \"2015-03-08\", \"2015-03-09\", \"2015-03-10\", \"2015-03-11\", \"2015-03-12\", \"2015-03-13\", \"2015-03-14\", \"2015-03-15\", \"2015-03-16\", \"2015-03-17\", \"2015-03-18\", \"2015-03-19\", \"2015-03-20\", \"2015-03-21\", \"2015-03-22\", \"2015-03-23\", \"2015-03-24\", \"2015-03-25\", \"2015-03-26\", \"2015-03-27\", \"2015-03-28\", \"2015-03-29\", \"2015-03-30\", \"2015-03-31\", \"2015-04-01\", \"2015-04-02\", \"2015-04-03\", \"2015-04-04\", \"2015-04-05\", \"2015-04-06\", \"2015-04-07\", \"2015-04-08\", \"2015-04-09\", \"2015-04-10\"], \"y\": [0.887859548430912, -0.12442855812384623, 0.31510584146026, -0.3620399760333849, 0.060047799161180415, 0.489542542000453, 0.39864526286565544, -0.12691305706221562, -0.14653742623622149, -1.9942051171963504, -1.3676444884468961, -0.8372557932333661, -1.9188470342391222, -1.176425895752355, -0.5063944395571112, -0.6230886218617776, -0.6637716155230189, -0.44370395604865664, -1.0502230320712198, -1.884455201532628, -0.8465602088727773, -0.2594989167460039, -1.9955610009465663, -2.221501710910537, -3.217375118573837, -3.6208546163065196, -4.929555124356471, -4.840508167100383, -3.827535434970696, -3.867032210267071, -4.5063002992719685, -4.925453159939044, -4.174179782827053, -2.657263222654409, -4.307262797144048, -5.304732773389594, -4.618642038632928, -5.7364532527662195, -4.392594886900887, -4.4558778061555255, -4.9857689109230625, -4.156439892523207, -3.3815162927726474, -4.524633232529935, -2.1656811236745916, -3.1885135351785516, -3.9006128888640728, -4.077345971346925, -4.000916020536469, -4.4098462746028675, -5.639320258383571, -5.687101247473266, -5.0688162769214875, -5.728851900477398, -6.343303939209772, -9.328835099025895, -8.860782654790022, -8.766972470016524, -7.71034017674116, -7.34436940021025, -7.352338908426178, -5.660115446029203, -6.6854008273788335, -5.682223402388089, -6.9632825041098405, -6.678646553285244, -5.752049999433002, -6.881893383159216, -6.5453962916602375, -5.039119802550206, -5.338956969174161, -4.4834048889550315, -3.927119209210786, -4.914573738720649, -6.567959222482106, -7.620031172452751, -7.607736110887162, -7.5546361814823495, -7.144042517705126, -7.123148748328626, -6.136712449596261, -6.365268583170922, -7.46153901912162, -7.887593355698787, -7.24361705197415, -6.356909555910471, -5.176156220893024, -6.80156252352153, -6.802162108296153, -6.313537622663519, -3.5447733332150233, -3.9845629222544896, -2.854306918829467, -2.6727676110848138, -2.985194155696666, -1.9778983711938678, -2.829599717537466, -2.256304104822701, -3.0652309473468895, -3.641370706696887]}],\n",
       "                        {\"legend\": {\"bgcolor\": \"#F5F6F9\", \"font\": {\"color\": \"#4D5663\"}}, \"paper_bgcolor\": \"#F5F6F9\", \"plot_bgcolor\": \"#F5F6F9\", \"template\": {\"data\": {\"bar\": [{\"error_x\": {\"color\": \"#2a3f5f\"}, \"error_y\": {\"color\": \"#2a3f5f\"}, \"marker\": {\"line\": {\"color\": \"#E5ECF6\", \"width\": 0.5}}, \"type\": \"bar\"}], \"barpolar\": [{\"marker\": {\"line\": {\"color\": \"#E5ECF6\", \"width\": 0.5}}, \"type\": \"barpolar\"}], \"carpet\": [{\"aaxis\": {\"endlinecolor\": \"#2a3f5f\", \"gridcolor\": \"white\", \"linecolor\": \"white\", \"minorgridcolor\": \"white\", \"startlinecolor\": \"#2a3f5f\"}, \"baxis\": {\"endlinecolor\": \"#2a3f5f\", \"gridcolor\": \"white\", \"linecolor\": \"white\", \"minorgridcolor\": \"white\", \"startlinecolor\": \"#2a3f5f\"}, \"type\": \"carpet\"}], \"choropleth\": [{\"colorbar\": {\"outlinewidth\": 0, \"ticks\": \"\"}, \"type\": \"choropleth\"}], \"contour\": [{\"colorbar\": {\"outlinewidth\": 0, \"ticks\": \"\"}, \"colorscale\": [[0.0, \"#0d0887\"], [0.1111111111111111, \"#46039f\"], [0.2222222222222222, \"#7201a8\"], [0.3333333333333333, \"#9c179e\"], [0.4444444444444444, \"#bd3786\"], [0.5555555555555556, \"#d8576b\"], [0.6666666666666666, \"#ed7953\"], [0.7777777777777778, \"#fb9f3a\"], [0.8888888888888888, \"#fdca26\"], [1.0, \"#f0f921\"]], \"type\": \"contour\"}], \"contourcarpet\": [{\"colorbar\": {\"outlinewidth\": 0, \"ticks\": \"\"}, \"type\": \"contourcarpet\"}], \"heatmap\": [{\"colorbar\": {\"outlinewidth\": 0, \"ticks\": \"\"}, \"colorscale\": [[0.0, \"#0d0887\"], [0.1111111111111111, \"#46039f\"], [0.2222222222222222, \"#7201a8\"], [0.3333333333333333, \"#9c179e\"], [0.4444444444444444, \"#bd3786\"], [0.5555555555555556, \"#d8576b\"], [0.6666666666666666, \"#ed7953\"], [0.7777777777777778, \"#fb9f3a\"], [0.8888888888888888, \"#fdca26\"], [1.0, \"#f0f921\"]], \"type\": \"heatmap\"}], \"heatmapgl\": [{\"colorbar\": {\"outlinewidth\": 0, \"ticks\": \"\"}, \"colorscale\": [[0.0, \"#0d0887\"], [0.1111111111111111, \"#46039f\"], [0.2222222222222222, \"#7201a8\"], [0.3333333333333333, \"#9c179e\"], [0.4444444444444444, \"#bd3786\"], [0.5555555555555556, \"#d8576b\"], [0.6666666666666666, \"#ed7953\"], [0.7777777777777778, \"#fb9f3a\"], [0.8888888888888888, \"#fdca26\"], [1.0, \"#f0f921\"]], \"type\": \"heatmapgl\"}], \"histogram\": [{\"marker\": {\"colorbar\": {\"outlinewidth\": 0, \"ticks\": \"\"}}, \"type\": \"histogram\"}], \"histogram2d\": [{\"colorbar\": {\"outlinewidth\": 0, \"ticks\": \"\"}, \"colorscale\": [[0.0, \"#0d0887\"], [0.1111111111111111, \"#46039f\"], [0.2222222222222222, \"#7201a8\"], [0.3333333333333333, \"#9c179e\"], [0.4444444444444444, \"#bd3786\"], [0.5555555555555556, \"#d8576b\"], [0.6666666666666666, \"#ed7953\"], [0.7777777777777778, \"#fb9f3a\"], [0.8888888888888888, \"#fdca26\"], [1.0, \"#f0f921\"]], \"type\": \"histogram2d\"}], \"histogram2dcontour\": [{\"colorbar\": {\"outlinewidth\": 0, \"ticks\": \"\"}, \"colorscale\": [[0.0, \"#0d0887\"], [0.1111111111111111, \"#46039f\"], [0.2222222222222222, \"#7201a8\"], [0.3333333333333333, \"#9c179e\"], [0.4444444444444444, \"#bd3786\"], [0.5555555555555556, \"#d8576b\"], [0.6666666666666666, \"#ed7953\"], [0.7777777777777778, \"#fb9f3a\"], [0.8888888888888888, \"#fdca26\"], [1.0, \"#f0f921\"]], \"type\": \"histogram2dcontour\"}], \"mesh3d\": [{\"colorbar\": {\"outlinewidth\": 0, \"ticks\": \"\"}, \"type\": \"mesh3d\"}], \"parcoords\": [{\"line\": {\"colorbar\": {\"outlinewidth\": 0, \"ticks\": \"\"}}, \"type\": \"parcoords\"}], \"pie\": [{\"automargin\": true, \"type\": \"pie\"}], \"scatter\": [{\"marker\": {\"colorbar\": {\"outlinewidth\": 0, \"ticks\": \"\"}}, \"type\": \"scatter\"}], \"scatter3d\": [{\"line\": {\"colorbar\": {\"outlinewidth\": 0, \"ticks\": \"\"}}, \"marker\": {\"colorbar\": {\"outlinewidth\": 0, \"ticks\": \"\"}}, \"type\": \"scatter3d\"}], \"scattercarpet\": [{\"marker\": {\"colorbar\": {\"outlinewidth\": 0, \"ticks\": \"\"}}, \"type\": \"scattercarpet\"}], \"scattergeo\": [{\"marker\": {\"colorbar\": {\"outlinewidth\": 0, \"ticks\": \"\"}}, \"type\": \"scattergeo\"}], \"scattergl\": [{\"marker\": {\"colorbar\": {\"outlinewidth\": 0, \"ticks\": \"\"}}, \"type\": \"scattergl\"}], \"scattermapbox\": [{\"marker\": {\"colorbar\": {\"outlinewidth\": 0, \"ticks\": \"\"}}, \"type\": \"scattermapbox\"}], \"scatterpolar\": [{\"marker\": {\"colorbar\": {\"outlinewidth\": 0, \"ticks\": \"\"}}, \"type\": \"scatterpolar\"}], \"scatterpolargl\": [{\"marker\": {\"colorbar\": {\"outlinewidth\": 0, \"ticks\": \"\"}}, \"type\": \"scatterpolargl\"}], \"scatterternary\": [{\"marker\": {\"colorbar\": {\"outlinewidth\": 0, \"ticks\": \"\"}}, \"type\": \"scatterternary\"}], \"surface\": [{\"colorbar\": {\"outlinewidth\": 0, \"ticks\": \"\"}, \"colorscale\": [[0.0, \"#0d0887\"], [0.1111111111111111, \"#46039f\"], [0.2222222222222222, \"#7201a8\"], [0.3333333333333333, \"#9c179e\"], [0.4444444444444444, \"#bd3786\"], [0.5555555555555556, \"#d8576b\"], [0.6666666666666666, \"#ed7953\"], [0.7777777777777778, \"#fb9f3a\"], [0.8888888888888888, \"#fdca26\"], [1.0, \"#f0f921\"]], \"type\": \"surface\"}], \"table\": [{\"cells\": {\"fill\": {\"color\": \"#EBF0F8\"}, \"line\": {\"color\": \"white\"}}, \"header\": {\"fill\": {\"color\": \"#C8D4E3\"}, \"line\": {\"color\": \"white\"}}, \"type\": \"table\"}]}, \"layout\": {\"annotationdefaults\": {\"arrowcolor\": \"#2a3f5f\", \"arrowhead\": 0, \"arrowwidth\": 1}, \"coloraxis\": {\"colorbar\": {\"outlinewidth\": 0, \"ticks\": \"\"}}, \"colorscale\": {\"diverging\": [[0, \"#8e0152\"], [0.1, \"#c51b7d\"], [0.2, \"#de77ae\"], [0.3, \"#f1b6da\"], [0.4, \"#fde0ef\"], [0.5, \"#f7f7f7\"], [0.6, \"#e6f5d0\"], [0.7, \"#b8e186\"], [0.8, \"#7fbc41\"], [0.9, \"#4d9221\"], [1, \"#276419\"]], \"sequential\": [[0.0, \"#0d0887\"], [0.1111111111111111, \"#46039f\"], [0.2222222222222222, \"#7201a8\"], [0.3333333333333333, \"#9c179e\"], [0.4444444444444444, \"#bd3786\"], [0.5555555555555556, \"#d8576b\"], [0.6666666666666666, \"#ed7953\"], [0.7777777777777778, \"#fb9f3a\"], [0.8888888888888888, \"#fdca26\"], [1.0, \"#f0f921\"]], \"sequentialminus\": [[0.0, \"#0d0887\"], [0.1111111111111111, \"#46039f\"], [0.2222222222222222, \"#7201a8\"], [0.3333333333333333, \"#9c179e\"], [0.4444444444444444, \"#bd3786\"], [0.5555555555555556, \"#d8576b\"], [0.6666666666666666, \"#ed7953\"], [0.7777777777777778, \"#fb9f3a\"], [0.8888888888888888, \"#fdca26\"], [1.0, \"#f0f921\"]]}, \"colorway\": [\"#636efa\", \"#EF553B\", \"#00cc96\", \"#ab63fa\", \"#FFA15A\", \"#19d3f3\", \"#FF6692\", \"#B6E880\", \"#FF97FF\", \"#FECB52\"], \"font\": {\"color\": \"#2a3f5f\"}, \"geo\": {\"bgcolor\": \"white\", \"lakecolor\": \"white\", \"landcolor\": \"#E5ECF6\", \"showlakes\": true, \"showland\": true, \"subunitcolor\": \"white\"}, \"hoverlabel\": {\"align\": \"left\"}, \"hovermode\": \"closest\", \"mapbox\": {\"style\": \"light\"}, \"paper_bgcolor\": \"white\", \"plot_bgcolor\": \"#E5ECF6\", \"polar\": {\"angularaxis\": {\"gridcolor\": \"white\", \"linecolor\": \"white\", \"ticks\": \"\"}, \"bgcolor\": \"#E5ECF6\", \"radialaxis\": {\"gridcolor\": \"white\", \"linecolor\": \"white\", \"ticks\": \"\"}}, \"scene\": {\"xaxis\": {\"backgroundcolor\": \"#E5ECF6\", \"gridcolor\": \"white\", \"gridwidth\": 2, \"linecolor\": \"white\", \"showbackground\": true, \"ticks\": \"\", \"zerolinecolor\": \"white\"}, \"yaxis\": {\"backgroundcolor\": \"#E5ECF6\", \"gridcolor\": \"white\", \"gridwidth\": 2, \"linecolor\": \"white\", \"showbackground\": true, \"ticks\": \"\", \"zerolinecolor\": \"white\"}, \"zaxis\": {\"backgroundcolor\": \"#E5ECF6\", \"gridcolor\": \"white\", \"gridwidth\": 2, \"linecolor\": \"white\", \"showbackground\": true, \"ticks\": \"\", \"zerolinecolor\": \"white\"}}, \"shapedefaults\": {\"line\": {\"color\": \"#2a3f5f\"}}, \"ternary\": {\"aaxis\": {\"gridcolor\": \"white\", \"linecolor\": \"white\", \"ticks\": \"\"}, \"baxis\": {\"gridcolor\": \"white\", \"linecolor\": \"white\", \"ticks\": \"\"}, \"bgcolor\": \"#E5ECF6\", \"caxis\": {\"gridcolor\": \"white\", \"linecolor\": \"white\", \"ticks\": \"\"}}, \"title\": {\"x\": 0.05}, \"xaxis\": {\"automargin\": true, \"gridcolor\": \"white\", \"linecolor\": \"white\", \"ticks\": \"\", \"title\": {\"standoff\": 15}, \"zerolinecolor\": \"white\", \"zerolinewidth\": 2}, \"yaxis\": {\"automargin\": true, \"gridcolor\": \"white\", \"linecolor\": \"white\", \"ticks\": \"\", \"title\": {\"standoff\": 15}, \"zerolinecolor\": \"white\", \"zerolinewidth\": 2}}}, \"title\": {\"font\": {\"color\": \"#4D5663\"}}, \"xaxis\": {\"gridcolor\": \"#E1E5ED\", \"showgrid\": true, \"tickfont\": {\"color\": \"#4D5663\"}, \"title\": {\"font\": {\"color\": \"#4D5663\"}, \"text\": \"\"}, \"zerolinecolor\": \"#E1E5ED\"}, \"yaxis\": {\"gridcolor\": \"#E1E5ED\", \"showgrid\": true, \"tickfont\": {\"color\": \"#4D5663\"}, \"title\": {\"font\": {\"color\": \"#4D5663\"}, \"text\": \"\"}, \"zerolinecolor\": \"#E1E5ED\"}},\n",
       "                        {\"showLink\": true, \"linkText\": \"Export to plot.ly\", \"plotlyServerURL\": \"https://plot.ly\", \"responsive\": true}\n",
       "                    ).then(function(){\n",
       "                            \n",
       "var gd = document.getElementById('07520675-5f63-4923-ab6a-d5eea3db75af');\n",
       "var x = new MutationObserver(function (mutations, observer) {{\n",
       "        var display = window.getComputedStyle(gd).display;\n",
       "        if (!display || display === 'none') {{\n",
       "            console.log([gd, 'removed!']);\n",
       "            Plotly.purge(gd);\n",
       "            observer.disconnect();\n",
       "        }}\n",
       "}});\n",
       "\n",
       "// Listen for the removal of the full notebook cells\n",
       "var notebookContainer = gd.closest('#notebook-container');\n",
       "if (notebookContainer) {{\n",
       "    x.observe(notebookContainer, {childList: true});\n",
       "}}\n",
       "\n",
       "// Listen for the clearing of the current output cell\n",
       "var outputEl = gd.closest('.output');\n",
       "if (outputEl) {{\n",
       "    x.observe(outputEl, {childList: true});\n",
       "}}\n",
       "\n",
       "                        })\n",
       "                };\n",
       "                });\n",
       "            </script>\n",
       "        </div>"
      ]
     },
     "metadata": {},
     "output_type": "display_data"
    }
   ],
   "source": [
    "df[['IBM','MSFT','GOOG']].iplot(kind=\"scatter\",mode='markers',size=7)"
   ]
  },
  {
   "cell_type": "code",
   "execution_count": 23,
   "metadata": {},
   "outputs": [
    {
     "data": {
      "application/vnd.plotly.v1+json": {
       "config": {
        "linkText": "Export to plot.ly",
        "plotlyServerURL": "https://plot.ly",
        "showLink": true
       },
       "data": [
        {
         "line": {
          "color": "rgba(255, 153, 51, 1.0)",
          "dash": "solid",
          "shape": "linear",
          "width": 1.3
         },
         "mode": "lines",
         "name": "IBM",
         "text": "",
         "type": "scatter",
         "x": [
          "2015-01-01",
          "2015-01-02",
          "2015-01-03",
          "2015-01-04",
          "2015-01-05",
          "2015-01-06",
          "2015-01-07",
          "2015-01-08",
          "2015-01-09",
          "2015-01-10",
          "2015-01-11",
          "2015-01-12",
          "2015-01-13",
          "2015-01-14",
          "2015-01-15",
          "2015-01-16",
          "2015-01-17",
          "2015-01-18",
          "2015-01-19",
          "2015-01-20",
          "2015-01-21",
          "2015-01-22",
          "2015-01-23",
          "2015-01-24",
          "2015-01-25",
          "2015-01-26",
          "2015-01-27",
          "2015-01-28",
          "2015-01-29",
          "2015-01-30",
          "2015-01-31",
          "2015-02-01",
          "2015-02-02",
          "2015-02-03",
          "2015-02-04",
          "2015-02-05",
          "2015-02-06",
          "2015-02-07",
          "2015-02-08",
          "2015-02-09",
          "2015-02-10",
          "2015-02-11",
          "2015-02-12",
          "2015-02-13",
          "2015-02-14",
          "2015-02-15",
          "2015-02-16",
          "2015-02-17",
          "2015-02-18",
          "2015-02-19",
          "2015-02-20",
          "2015-02-21",
          "2015-02-22",
          "2015-02-23",
          "2015-02-24",
          "2015-02-25",
          "2015-02-26",
          "2015-02-27",
          "2015-02-28",
          "2015-03-01",
          "2015-03-02",
          "2015-03-03",
          "2015-03-04",
          "2015-03-05",
          "2015-03-06",
          "2015-03-07",
          "2015-03-08",
          "2015-03-09",
          "2015-03-10",
          "2015-03-11",
          "2015-03-12",
          "2015-03-13",
          "2015-03-14",
          "2015-03-15",
          "2015-03-16",
          "2015-03-17",
          "2015-03-18",
          "2015-03-19",
          "2015-03-20",
          "2015-03-21",
          "2015-03-22",
          "2015-03-23",
          "2015-03-24",
          "2015-03-25",
          "2015-03-26",
          "2015-03-27",
          "2015-03-28",
          "2015-03-29",
          "2015-03-30",
          "2015-03-31",
          "2015-04-01",
          "2015-04-02",
          "2015-04-03",
          "2015-04-04",
          "2015-04-05",
          "2015-04-06",
          "2015-04-07",
          "2015-04-08",
          "2015-04-09",
          "2015-04-10"
         ],
         "y": [
          -1.2868801566664638,
          -2.028366513807729,
          -2.760879106191367,
          -1.9911859649445645,
          -1.1698265723057135,
          -0.9720902802456763,
          -1.3893692343289523,
          0.15751532682256508,
          0.28067988699811575,
          -0.5107120093055321,
          -1.8063687051293358,
          -1.7921784377934262,
          -1.1044874291941618,
          -0.2664229033287746,
          -0.6256421886729924,
          0.4121968431481302,
          1.8992288911822006,
          0.4713284609322743,
          2.994948247125084,
          3.0066845652519816,
          4.428386071353853,
          4.91527793224154,
          5.9599498493520535,
          6.1134080683029515,
          5.3533745076686206,
          5.293323668532801,
          4.099962721172125,
          5.217635982306543,
          6.071263872872076,
          4.6433790700021245,
          3.7602602888241847,
          3.281740775327897,
          2.7404638966339827,
          3.3387539342756676,
          4.0286684579720395,
          5.549431907856821,
          7.7754320531931445,
          6.322731592099521,
          6.500348418463007,
          4.307960773824358,
          5.299420681700493,
          6.887429791634869,
          8.867227597756447,
          9.705505785295987,
          9.727310508705818,
          9.47542189494929,
          10.024088259089691,
          9.98684737225707,
          10.69468858425811,
          12.590123161193892,
          11.782826178393798,
          10.917174155836495,
          10.734616926162627,
          10.241322244735414,
          10.641312793916578,
          9.281628379084083,
          9.400145386809678,
          8.651862561935062,
          7.565414896511578,
          6.965260757342342,
          6.707417689495253,
          5.298031156312341,
          5.189613710611087,
          6.38226310279424,
          6.183136169656518,
          5.612166391713544,
          6.39114867505892,
          6.579941941996416,
          8.383442583844783,
          7.707907622852362,
          6.38780750561438,
          6.444029553587608,
          6.607992301383706,
          5.807273092823491,
          6.986991314869297,
          8.092324810185454,
          7.438659031910002,
          7.801618929657894,
          8.167147603397437,
          8.31903075035327,
          7.29850862750133,
          7.512739654299573,
          6.420792527152818,
          7.055018729110213,
          7.0770407319095945,
          7.117641048349709,
          7.345524557970403,
          5.752190402863436,
          6.273101375049812,
          6.278722472055344,
          5.7539515553200955,
          3.1068215726052926,
          2.7290057360970037,
          1.2653832609269167,
          2.2899432891116005,
          1.9511362641198013,
          1.5916454981489803,
          2.1430788859714105,
          2.542681463390741,
          1.530278277459552
         ]
        },
        {
         "line": {
          "color": "rgba(55, 128, 191, 1.0)",
          "dash": "solid",
          "shape": "linear",
          "width": 1.3
         },
         "mode": "lines",
         "name": "MSFT",
         "text": "",
         "type": "scatter",
         "x": [
          "2015-01-01",
          "2015-01-02",
          "2015-01-03",
          "2015-01-04",
          "2015-01-05",
          "2015-01-06",
          "2015-01-07",
          "2015-01-08",
          "2015-01-09",
          "2015-01-10",
          "2015-01-11",
          "2015-01-12",
          "2015-01-13",
          "2015-01-14",
          "2015-01-15",
          "2015-01-16",
          "2015-01-17",
          "2015-01-18",
          "2015-01-19",
          "2015-01-20",
          "2015-01-21",
          "2015-01-22",
          "2015-01-23",
          "2015-01-24",
          "2015-01-25",
          "2015-01-26",
          "2015-01-27",
          "2015-01-28",
          "2015-01-29",
          "2015-01-30",
          "2015-01-31",
          "2015-02-01",
          "2015-02-02",
          "2015-02-03",
          "2015-02-04",
          "2015-02-05",
          "2015-02-06",
          "2015-02-07",
          "2015-02-08",
          "2015-02-09",
          "2015-02-10",
          "2015-02-11",
          "2015-02-12",
          "2015-02-13",
          "2015-02-14",
          "2015-02-15",
          "2015-02-16",
          "2015-02-17",
          "2015-02-18",
          "2015-02-19",
          "2015-02-20",
          "2015-02-21",
          "2015-02-22",
          "2015-02-23",
          "2015-02-24",
          "2015-02-25",
          "2015-02-26",
          "2015-02-27",
          "2015-02-28",
          "2015-03-01",
          "2015-03-02",
          "2015-03-03",
          "2015-03-04",
          "2015-03-05",
          "2015-03-06",
          "2015-03-07",
          "2015-03-08",
          "2015-03-09",
          "2015-03-10",
          "2015-03-11",
          "2015-03-12",
          "2015-03-13",
          "2015-03-14",
          "2015-03-15",
          "2015-03-16",
          "2015-03-17",
          "2015-03-18",
          "2015-03-19",
          "2015-03-20",
          "2015-03-21",
          "2015-03-22",
          "2015-03-23",
          "2015-03-24",
          "2015-03-25",
          "2015-03-26",
          "2015-03-27",
          "2015-03-28",
          "2015-03-29",
          "2015-03-30",
          "2015-03-31",
          "2015-04-01",
          "2015-04-02",
          "2015-04-03",
          "2015-04-04",
          "2015-04-05",
          "2015-04-06",
          "2015-04-07",
          "2015-04-08",
          "2015-04-09",
          "2015-04-10"
         ],
         "y": [
          -0.14231784552685722,
          0.0038383488741102756,
          -1.394342441102017,
          0.05281310065044109,
          -1.2953856887317763,
          -0.23262923631253374,
          -2.5064608920511025,
          -3.6201295377974985,
          -2.959479810992466,
          -3.772544722719001,
          -3.0709588325198514,
          -2.0375398840254366,
          -2.1693398305300824,
          -3.2990288162994386,
          -4.890590132460698,
          -4.15033703004252,
          -4.176687297989628,
          -4.5205820294304235,
          -4.414951077438917,
          -4.950842185052673,
          -6.320562459093343,
          -6.44888710392168,
          -6.020839447515197,
          -5.785039010002954,
          -6.093129681526676,
          -6.634138955952207,
          -6.570694424396184,
          -6.521643404930816,
          -5.299024933004039,
          -6.0886710847423435,
          -5.881060365924777,
          -3.915482394403372,
          -3.9827955274268745,
          -4.147845784640805,
          -3.42504253118667,
          -4.40082690854008,
          -4.075525471295986,
          -2.861534944561367,
          -3.781912959044849,
          -4.333547172371902,
          -3.7095920728127374,
          -3.4750745616048015,
          -2.747492006580319,
          -0.9979818882593192,
          -1.0647188197146276,
          -0.8955434858458016,
          -0.6519956098049098,
          1.6492927283038028,
          3.387224087556209,
          4.513566073082565,
          5.430806739184705,
          4.907521152193672,
          2.8095620478423875,
          2.915435824696081,
          1.5200875838787369,
          2.429132108080452,
          3.7756335804841363,
          4.002064408796806,
          3.4628516327730687,
          3.214324464767252,
          3.8560726788603708,
          2.2554862113398633,
          2.9445092783273754,
          3.5262828903204313,
          2.463193248025804,
          1.7260733152151322,
          0.7398626546489155,
          0.4719722351730572,
          0.9991489857126875,
          1.9463121727900423,
          0.23353648657121595,
          1.0453540766324032,
          0.8125285169010912,
          0.21356493176886515,
          0.28570457417174555,
          0.11812423461881866,
          0.4917748669935742,
          0.36077971790123253,
          0.5972969247795444,
          0.7236739472521214,
          2.636233090974466,
          1.069513681161607,
          0.28665585447293573,
          0.19369838104339726,
          0.35621491824623663,
          3.048403464903692,
          4.677726795508604,
          4.894177005591278,
          4.787507408289258,
          4.951135431932031,
          4.884774009715971,
          3.5625808936247694,
          2.9640904467996405,
          2.6843113704032233,
          2.530433555830813,
          5.248023191199183,
          4.349788040925403,
          5.450810783635532,
          5.052823592404031,
          5.15929729082009
         ]
        },
        {
         "line": {
          "color": "rgba(50, 171, 96, 1.0)",
          "dash": "solid",
          "shape": "linear",
          "width": 1.3
         },
         "mode": "lines",
         "name": "GOOG",
         "text": "",
         "type": "scatter",
         "x": [
          "2015-01-01",
          "2015-01-02",
          "2015-01-03",
          "2015-01-04",
          "2015-01-05",
          "2015-01-06",
          "2015-01-07",
          "2015-01-08",
          "2015-01-09",
          "2015-01-10",
          "2015-01-11",
          "2015-01-12",
          "2015-01-13",
          "2015-01-14",
          "2015-01-15",
          "2015-01-16",
          "2015-01-17",
          "2015-01-18",
          "2015-01-19",
          "2015-01-20",
          "2015-01-21",
          "2015-01-22",
          "2015-01-23",
          "2015-01-24",
          "2015-01-25",
          "2015-01-26",
          "2015-01-27",
          "2015-01-28",
          "2015-01-29",
          "2015-01-30",
          "2015-01-31",
          "2015-02-01",
          "2015-02-02",
          "2015-02-03",
          "2015-02-04",
          "2015-02-05",
          "2015-02-06",
          "2015-02-07",
          "2015-02-08",
          "2015-02-09",
          "2015-02-10",
          "2015-02-11",
          "2015-02-12",
          "2015-02-13",
          "2015-02-14",
          "2015-02-15",
          "2015-02-16",
          "2015-02-17",
          "2015-02-18",
          "2015-02-19",
          "2015-02-20",
          "2015-02-21",
          "2015-02-22",
          "2015-02-23",
          "2015-02-24",
          "2015-02-25",
          "2015-02-26",
          "2015-02-27",
          "2015-02-28",
          "2015-03-01",
          "2015-03-02",
          "2015-03-03",
          "2015-03-04",
          "2015-03-05",
          "2015-03-06",
          "2015-03-07",
          "2015-03-08",
          "2015-03-09",
          "2015-03-10",
          "2015-03-11",
          "2015-03-12",
          "2015-03-13",
          "2015-03-14",
          "2015-03-15",
          "2015-03-16",
          "2015-03-17",
          "2015-03-18",
          "2015-03-19",
          "2015-03-20",
          "2015-03-21",
          "2015-03-22",
          "2015-03-23",
          "2015-03-24",
          "2015-03-25",
          "2015-03-26",
          "2015-03-27",
          "2015-03-28",
          "2015-03-29",
          "2015-03-30",
          "2015-03-31",
          "2015-04-01",
          "2015-04-02",
          "2015-04-03",
          "2015-04-04",
          "2015-04-05",
          "2015-04-06",
          "2015-04-07",
          "2015-04-08",
          "2015-04-09",
          "2015-04-10"
         ],
         "y": [
          0.887859548430912,
          -0.12442855812384623,
          0.31510584146026,
          -0.3620399760333849,
          0.060047799161180415,
          0.489542542000453,
          0.39864526286565544,
          -0.12691305706221562,
          -0.14653742623622149,
          -1.9942051171963504,
          -1.3676444884468961,
          -0.8372557932333661,
          -1.9188470342391222,
          -1.176425895752355,
          -0.5063944395571112,
          -0.6230886218617776,
          -0.6637716155230189,
          -0.44370395604865664,
          -1.0502230320712198,
          -1.884455201532628,
          -0.8465602088727773,
          -0.2594989167460039,
          -1.9955610009465663,
          -2.221501710910537,
          -3.217375118573837,
          -3.6208546163065196,
          -4.929555124356471,
          -4.840508167100383,
          -3.827535434970696,
          -3.867032210267071,
          -4.5063002992719685,
          -4.925453159939044,
          -4.174179782827053,
          -2.657263222654409,
          -4.307262797144048,
          -5.304732773389594,
          -4.618642038632928,
          -5.7364532527662195,
          -4.392594886900887,
          -4.4558778061555255,
          -4.9857689109230625,
          -4.156439892523207,
          -3.3815162927726474,
          -4.524633232529935,
          -2.1656811236745916,
          -3.1885135351785516,
          -3.9006128888640728,
          -4.077345971346925,
          -4.000916020536469,
          -4.4098462746028675,
          -5.639320258383571,
          -5.687101247473266,
          -5.0688162769214875,
          -5.728851900477398,
          -6.343303939209772,
          -9.328835099025895,
          -8.860782654790022,
          -8.766972470016524,
          -7.71034017674116,
          -7.34436940021025,
          -7.352338908426178,
          -5.660115446029203,
          -6.6854008273788335,
          -5.682223402388089,
          -6.9632825041098405,
          -6.678646553285244,
          -5.752049999433002,
          -6.881893383159216,
          -6.5453962916602375,
          -5.039119802550206,
          -5.338956969174161,
          -4.4834048889550315,
          -3.927119209210786,
          -4.914573738720649,
          -6.567959222482106,
          -7.620031172452751,
          -7.607736110887162,
          -7.5546361814823495,
          -7.144042517705126,
          -7.123148748328626,
          -6.136712449596261,
          -6.365268583170922,
          -7.46153901912162,
          -7.887593355698787,
          -7.24361705197415,
          -6.356909555910471,
          -5.176156220893024,
          -6.80156252352153,
          -6.802162108296153,
          -6.313537622663519,
          -3.5447733332150233,
          -3.9845629222544896,
          -2.854306918829467,
          -2.6727676110848138,
          -2.985194155696666,
          -1.9778983711938678,
          -2.829599717537466,
          -2.256304104822701,
          -3.0652309473468895,
          -3.641370706696887
         ]
        },
        {
         "line": {
          "color": "rgba(128, 0, 128, 1.0)",
          "dash": "solid",
          "shape": "linear",
          "width": 1.3
         },
         "mode": "lines",
         "name": "VERZ",
         "text": "",
         "type": "scatter",
         "x": [
          "2015-01-01",
          "2015-01-02",
          "2015-01-03",
          "2015-01-04",
          "2015-01-05",
          "2015-01-06",
          "2015-01-07",
          "2015-01-08",
          "2015-01-09",
          "2015-01-10",
          "2015-01-11",
          "2015-01-12",
          "2015-01-13",
          "2015-01-14",
          "2015-01-15",
          "2015-01-16",
          "2015-01-17",
          "2015-01-18",
          "2015-01-19",
          "2015-01-20",
          "2015-01-21",
          "2015-01-22",
          "2015-01-23",
          "2015-01-24",
          "2015-01-25",
          "2015-01-26",
          "2015-01-27",
          "2015-01-28",
          "2015-01-29",
          "2015-01-30",
          "2015-01-31",
          "2015-02-01",
          "2015-02-02",
          "2015-02-03",
          "2015-02-04",
          "2015-02-05",
          "2015-02-06",
          "2015-02-07",
          "2015-02-08",
          "2015-02-09",
          "2015-02-10",
          "2015-02-11",
          "2015-02-12",
          "2015-02-13",
          "2015-02-14",
          "2015-02-15",
          "2015-02-16",
          "2015-02-17",
          "2015-02-18",
          "2015-02-19",
          "2015-02-20",
          "2015-02-21",
          "2015-02-22",
          "2015-02-23",
          "2015-02-24",
          "2015-02-25",
          "2015-02-26",
          "2015-02-27",
          "2015-02-28",
          "2015-03-01",
          "2015-03-02",
          "2015-03-03",
          "2015-03-04",
          "2015-03-05",
          "2015-03-06",
          "2015-03-07",
          "2015-03-08",
          "2015-03-09",
          "2015-03-10",
          "2015-03-11",
          "2015-03-12",
          "2015-03-13",
          "2015-03-14",
          "2015-03-15",
          "2015-03-16",
          "2015-03-17",
          "2015-03-18",
          "2015-03-19",
          "2015-03-20",
          "2015-03-21",
          "2015-03-22",
          "2015-03-23",
          "2015-03-24",
          "2015-03-25",
          "2015-03-26",
          "2015-03-27",
          "2015-03-28",
          "2015-03-29",
          "2015-03-30",
          "2015-03-31",
          "2015-04-01",
          "2015-04-02",
          "2015-04-03",
          "2015-04-04",
          "2015-04-05",
          "2015-04-06",
          "2015-04-07",
          "2015-04-08",
          "2015-04-09",
          "2015-04-10"
         ],
         "y": [
          0.2048742448337656,
          0.3995130615403163,
          0.5136290915851257,
          0.02076516140369261,
          0.7226077593218854,
          0.05684612597054928,
          -2.290373173966028,
          -3.352705324762807,
          -3.7250925423200565,
          -4.793135650456053,
          -5.329050597202418,
          -4.387591592305006,
          -4.049448089904911,
          -5.709282777034537,
          -6.328159594193041,
          -5.224321790483151,
          -5.2544049851922985,
          -5.421682067272712,
          -5.453447794943075,
          -5.2185053146589,
          -5.352828044506808,
          -6.099418933938748,
          -5.385357244049113,
          -5.133670710990421,
          -4.985790773356901,
          -4.275721196167301,
          -4.568176178165343,
          -4.250215743788066,
          -2.6250793292773977,
          -1.4682659462139522,
          -2.1133744171717304,
          -2.3256163870395024,
          -2.5325475124338666,
          -2.8567767576541843,
          -2.1431314030437036,
          -1.7670788605729655,
          -2.296789904733288,
          -2.2121516024694006,
          -3.5342462146632085,
          -0.6964724804885365,
          1.3477234161467004,
          1.441712672948758,
          2.1058407403647976,
          1.9878836781924143,
          2.733661743162101,
          4.07587656098306,
          4.494268791352438,
          2.7551554418904525,
          3.4262226942585743,
          4.261906636597172,
          5.644921824628,
          4.413022382756968,
          5.910088337610661,
          6.542923789958097,
          6.312824948758883,
          7.0707387309998815,
          9.908110224085755,
          9.306542233112879,
          10.085829266774926,
          9.708254599022629,
          9.67875256616383,
          7.916943299423433,
          7.5583217288247715,
          8.46681747105512,
          9.205058014250898,
          7.777162993877683,
          7.405956989690508,
          8.820618268349833,
          8.580023758687686,
          7.351488938534795,
          4.329475295100899,
          3.2757851795090573,
          4.595116532455589,
          5.783659442360334,
          3.7878041018828923,
          3.044704452625716,
          2.0189657021517684,
          4.274722764937334,
          5.893714987065865,
          5.18398622503782,
          4.890734539739318,
          5.259914377771817,
          4.2388250269525924,
          2.228345073405111,
          1.0172014863258558,
          2.904580330298862,
          1.6375736383990258,
          1.6730927768195931,
          0.3295055389813142,
          1.1186980436244327,
          0.3825970786381174,
          0.2403846669254254,
          1.3424608810215752,
          2.0175060395052333,
          1.8490765888226344,
          2.361676998871574,
          2.3661487164680395,
          4.650347499849967,
          4.779357897092006,
          5.318865454818467
         ]
        },
        {
         "line": {
          "color": "rgba(219, 64, 82, 1.0)",
          "dash": "solid",
          "shape": "linear",
          "width": 1.3
         },
         "mode": "lines",
         "name": "APPL",
         "text": "",
         "type": "scatter",
         "x": [
          "2015-01-01",
          "2015-01-02",
          "2015-01-03",
          "2015-01-04",
          "2015-01-05",
          "2015-01-06",
          "2015-01-07",
          "2015-01-08",
          "2015-01-09",
          "2015-01-10",
          "2015-01-11",
          "2015-01-12",
          "2015-01-13",
          "2015-01-14",
          "2015-01-15",
          "2015-01-16",
          "2015-01-17",
          "2015-01-18",
          "2015-01-19",
          "2015-01-20",
          "2015-01-21",
          "2015-01-22",
          "2015-01-23",
          "2015-01-24",
          "2015-01-25",
          "2015-01-26",
          "2015-01-27",
          "2015-01-28",
          "2015-01-29",
          "2015-01-30",
          "2015-01-31",
          "2015-02-01",
          "2015-02-02",
          "2015-02-03",
          "2015-02-04",
          "2015-02-05",
          "2015-02-06",
          "2015-02-07",
          "2015-02-08",
          "2015-02-09",
          "2015-02-10",
          "2015-02-11",
          "2015-02-12",
          "2015-02-13",
          "2015-02-14",
          "2015-02-15",
          "2015-02-16",
          "2015-02-17",
          "2015-02-18",
          "2015-02-19",
          "2015-02-20",
          "2015-02-21",
          "2015-02-22",
          "2015-02-23",
          "2015-02-24",
          "2015-02-25",
          "2015-02-26",
          "2015-02-27",
          "2015-02-28",
          "2015-03-01",
          "2015-03-02",
          "2015-03-03",
          "2015-03-04",
          "2015-03-05",
          "2015-03-06",
          "2015-03-07",
          "2015-03-08",
          "2015-03-09",
          "2015-03-10",
          "2015-03-11",
          "2015-03-12",
          "2015-03-13",
          "2015-03-14",
          "2015-03-15",
          "2015-03-16",
          "2015-03-17",
          "2015-03-18",
          "2015-03-19",
          "2015-03-20",
          "2015-03-21",
          "2015-03-22",
          "2015-03-23",
          "2015-03-24",
          "2015-03-25",
          "2015-03-26",
          "2015-03-27",
          "2015-03-28",
          "2015-03-29",
          "2015-03-30",
          "2015-03-31",
          "2015-04-01",
          "2015-04-02",
          "2015-04-03",
          "2015-04-04",
          "2015-04-05",
          "2015-04-06",
          "2015-04-07",
          "2015-04-08",
          "2015-04-09",
          "2015-04-10"
         ],
         "y": [
          1.0819354668374346,
          2.4799376706733622,
          2.2268051364701633,
          1.0250862796132514,
          0.3554705098107952,
          0.7156871789501777,
          0.1067856256869062,
          -0.123407659403828,
          0.28296814854104424,
          0.49919665559686655,
          -0.006990933535996335,
          0.033384083208729,
          -0.08440237960348058,
          0.7897831313157041,
          1.5201787318987088,
          1.5475803170317657,
          0.8576482186298152,
          2.5467860395958803,
          3.993713288865485,
          4.567833775159525,
          5.183738002370754,
          6.092155689019387,
          6.1823362071732495,
          5.674471133357569,
          5.3441259995195045,
          5.617275592259908,
          6.783773732222309,
          7.198486019655446,
          7.145176329258773,
          6.543734446718874,
          7.312297808122165,
          7.223841848314789,
          7.9514779082905,
          8.561609308063588,
          9.738378487072284,
          9.075752793744627,
          9.831438453795284,
          8.516970286231762,
          8.252832558903457,
          9.533388230834202,
          9.67698655408267,
          10.86849174836057,
          10.669733608987032,
          9.989883871982169,
          8.670283109572248,
          9.577541757674734,
          8.881467530627548,
          10.376316257373494,
          9.81916422882076,
          10.225052700919383,
          10.056165673334721,
          11.05423378093204,
          11.438246334862646,
          10.468756699066553,
          9.87868872301803,
          8.76800846671155,
          6.684972121397745,
          8.078100249152664,
          6.3740120486351195,
          6.699908754451213,
          6.63902778498758,
          7.333955166310478,
          8.539313786810935,
          8.765231793823297,
          8.550945866671988,
          8.648688407218522,
          8.369870777573873,
          7.728510910650162,
          7.187302004909984,
          7.4427073016969105,
          9.038283728844396,
          11.127516915360015,
          12.176216508021733,
          13.642073852393995,
          13.114857135669329,
          13.832452593325161,
          14.912682023756759,
          15.357186361705619,
          17.058373360129018,
          18.476693401175936,
          18.172980321487877,
          19.516504578663504,
          18.750375542604836,
          19.83121087323503,
          20.970407888437194,
          20.46369062990867,
          20.493108587316645,
          19.42665903106606,
          18.742685639947105,
          18.034705834652556,
          18.052638546929252,
          16.476787278642664,
          16.81420963222878,
          15.856823228991814,
          13.806346247259345,
          14.896933576101397,
          15.749362202489804,
          16.287176408588053,
          15.628818851369322,
          15.302790607308463
         ]
        },
        {
         "connectgaps": false,
         "fill": "tozeroy",
         "line": {
          "color": "green",
          "dash": "solid",
          "shape": "linear",
          "width": 0.5
         },
         "mode": "lines",
         "name": "Spread",
         "showlegend": false,
         "type": "scatter",
         "x": [
          "2015-01-01",
          "2015-01-02",
          "2015-01-03",
          "2015-01-04",
          "2015-01-05",
          "2015-01-06",
          "2015-01-07",
          "2015-01-08",
          "2015-01-09",
          "2015-01-10",
          "2015-01-11",
          "2015-01-12",
          "2015-01-13",
          "2015-01-14",
          "2015-01-15",
          "2015-01-16",
          "2015-01-17",
          "2015-01-18",
          "2015-01-19",
          "2015-01-20",
          "2015-01-21",
          "2015-01-22",
          "2015-01-23",
          "2015-01-24",
          "2015-01-25",
          "2015-01-26",
          "2015-01-27",
          "2015-01-28",
          "2015-01-29",
          "2015-01-30",
          "2015-01-31",
          "2015-02-01",
          "2015-02-02",
          "2015-02-03",
          "2015-02-04",
          "2015-02-05",
          "2015-02-06",
          "2015-02-07",
          "2015-02-08",
          "2015-02-09",
          "2015-02-10",
          "2015-02-11",
          "2015-02-12",
          "2015-02-13",
          "2015-02-14",
          "2015-02-15",
          "2015-02-16",
          "2015-02-17",
          "2015-02-18",
          "2015-02-19",
          "2015-02-20",
          "2015-02-21",
          "2015-02-22",
          "2015-02-23",
          "2015-02-24",
          "2015-02-25",
          "2015-02-26",
          "2015-02-27",
          "2015-02-28",
          "2015-03-01",
          "2015-03-02",
          "2015-03-03",
          "2015-03-04",
          "2015-03-05",
          "2015-03-06",
          "2015-03-07",
          "2015-03-08",
          "2015-03-09",
          "2015-03-10",
          "2015-03-11",
          "2015-03-12",
          "2015-03-13",
          "2015-03-14",
          "2015-03-15",
          "2015-03-16",
          "2015-03-17",
          "2015-03-18",
          "2015-03-19",
          "2015-03-20",
          "2015-03-21",
          "2015-03-22",
          "2015-03-23",
          "2015-03-24",
          "2015-03-25",
          "2015-03-26",
          "2015-03-27",
          "2015-03-28",
          "2015-03-29",
          "2015-03-30",
          "2015-03-31",
          "2015-04-01",
          "2015-04-02",
          "2015-04-03",
          "2015-04-04",
          "2015-04-05",
          "2015-04-06",
          "2015-04-07",
          "2015-04-08",
          "2015-04-09",
          "2015-04-10"
         ],
         "xaxis": "x2",
         "y": [
          "",
          "",
          "",
          "",
          0.12555911642606277,
          "",
          1.1170916577221501,
          3.7776448646200635,
          3.240159697990582,
          3.261832713413469,
          1.2645901273905156,
          0.2453614462320104,
          1.0648524013359206,
          3.0326059129706637,
          4.264947943787705,
          4.562533873190651,
          6.075916189171829,
          4.991910490362698,
          7.409899324564001,
          7.957526750304655,
          10.748948530447196,
          11.36416503616322,
          11.98078929686725,
          11.898447078305907,
          11.446504189195297,
          11.927462624485008,
          10.67065714556831,
          11.73927938723736,
          11.370288805876115,
          10.732050154744467,
          9.641320654748963,
          7.197223169731269,
          6.723259424060857,
          7.486599718916473,
          7.45371098915871,
          9.9502588163969,
          11.85095752448913,
          9.184266536660887,
          10.282261377507856,
          8.64150794619626,
          9.00901275451323,
          10.36250435323967,
          11.614719604336766,
          10.703487673555307,
          10.792029328420446,
          10.370965380795091,
          10.676083868894601,
          8.337554643953268,
          7.3074644967019005,
          8.076557088111327,
          6.3520194392090925,
          6.009653003642823,
          7.925054878320239,
          7.325886420039334,
          9.12122521003784,
          6.852496271003631,
          5.6245118063255415,
          4.6497981531382555,
          4.10256326373851,
          3.75093629257509,
          2.8513450106348825,
          3.0425449449724775,
          2.2451044322837115,
          2.8559802124738085,
          3.7199429216307145,
          3.8860930764984114,
          5.651286020410005,
          6.107969706823359,
          7.384293598132095,
          5.76159545006232,
          6.154271019043164,
          5.398675476955205,
          5.795463784482615,
          5.593708161054625,
          6.701286740697551,
          7.974200575566636,
          6.946884164916428,
          7.4408392117566615,
          7.569850678617892,
          7.595356803101149,
          4.662275536526864,
          6.443225973137966,
          6.134136672679882,
          6.8613203480668155,
          6.720825813663358,
          4.069237583446017,
          2.6677977624617997,
          0.858013397272158,
          1.485593966760554,
          1.327587040123313,
          0.8691775456041242,
          "",
          "",
          "",
          "",
          "",
          "",
          "",
          "",
          ""
         ],
         "yaxis": "y2"
        },
        {
         "connectgaps": false,
         "fill": "tozeroy",
         "line": {
          "color": "red",
          "dash": "solid",
          "shape": "linear",
          "width": 0.5
         },
         "mode": "lines",
         "name": "Spread",
         "showlegend": false,
         "type": "scatter",
         "x": [
          "2015-01-01",
          "2015-01-02",
          "2015-01-03",
          "2015-01-04",
          "2015-01-05",
          "2015-01-06",
          "2015-01-07",
          "2015-01-08",
          "2015-01-09",
          "2015-01-10",
          "2015-01-11",
          "2015-01-12",
          "2015-01-13",
          "2015-01-14",
          "2015-01-15",
          "2015-01-16",
          "2015-01-17",
          "2015-01-18",
          "2015-01-19",
          "2015-01-20",
          "2015-01-21",
          "2015-01-22",
          "2015-01-23",
          "2015-01-24",
          "2015-01-25",
          "2015-01-26",
          "2015-01-27",
          "2015-01-28",
          "2015-01-29",
          "2015-01-30",
          "2015-01-31",
          "2015-02-01",
          "2015-02-02",
          "2015-02-03",
          "2015-02-04",
          "2015-02-05",
          "2015-02-06",
          "2015-02-07",
          "2015-02-08",
          "2015-02-09",
          "2015-02-10",
          "2015-02-11",
          "2015-02-12",
          "2015-02-13",
          "2015-02-14",
          "2015-02-15",
          "2015-02-16",
          "2015-02-17",
          "2015-02-18",
          "2015-02-19",
          "2015-02-20",
          "2015-02-21",
          "2015-02-22",
          "2015-02-23",
          "2015-02-24",
          "2015-02-25",
          "2015-02-26",
          "2015-02-27",
          "2015-02-28",
          "2015-03-01",
          "2015-03-02",
          "2015-03-03",
          "2015-03-04",
          "2015-03-05",
          "2015-03-06",
          "2015-03-07",
          "2015-03-08",
          "2015-03-09",
          "2015-03-10",
          "2015-03-11",
          "2015-03-12",
          "2015-03-13",
          "2015-03-14",
          "2015-03-15",
          "2015-03-16",
          "2015-03-17",
          "2015-03-18",
          "2015-03-19",
          "2015-03-20",
          "2015-03-21",
          "2015-03-22",
          "2015-03-23",
          "2015-03-24",
          "2015-03-25",
          "2015-03-26",
          "2015-03-27",
          "2015-03-28",
          "2015-03-29",
          "2015-03-30",
          "2015-03-31",
          "2015-04-01",
          "2015-04-02",
          "2015-04-03",
          "2015-04-04",
          "2015-04-05",
          "2015-04-06",
          "2015-04-07",
          "2015-04-08",
          "2015-04-09",
          "2015-04-10"
         ],
         "xaxis": "x2",
         "y": [
          -1.1445623111396066,
          -2.032204862681839,
          -1.3665366650893498,
          -2.0439990655950053,
          "",
          -0.7394610439331426,
          "",
          "",
          "",
          "",
          "",
          "",
          "",
          "",
          "",
          "",
          "",
          "",
          "",
          "",
          "",
          "",
          "",
          "",
          "",
          "",
          "",
          "",
          "",
          "",
          "",
          "",
          "",
          "",
          "",
          "",
          "",
          "",
          "",
          "",
          "",
          "",
          "",
          "",
          "",
          "",
          "",
          "",
          "",
          "",
          "",
          "",
          "",
          "",
          "",
          "",
          "",
          "",
          "",
          "",
          "",
          "",
          "",
          "",
          "",
          "",
          "",
          "",
          "",
          "",
          "",
          "",
          "",
          "",
          "",
          "",
          "",
          "",
          "",
          "",
          "",
          "",
          "",
          "",
          "",
          "",
          "",
          "",
          "",
          "",
          "",
          -0.4557593210194768,
          -0.2350847107026368,
          -1.4189281094763067,
          -0.24049026671921236,
          -3.296886927079381,
          -2.7581425427764223,
          -3.3077318976641217,
          -2.51014212901329,
          -3.629019013360538
         ],
         "yaxis": "y2"
        }
       ],
       "layout": {
        "hovermode": "x",
        "legend": {
         "bgcolor": "#F5F6F9",
         "font": {
          "color": "#4D5663"
         }
        },
        "paper_bgcolor": "#F5F6F9",
        "plot_bgcolor": "#F5F6F9",
        "template": {
         "data": {
          "bar": [
           {
            "error_x": {
             "color": "#2a3f5f"
            },
            "error_y": {
             "color": "#2a3f5f"
            },
            "marker": {
             "line": {
              "color": "#E5ECF6",
              "width": 0.5
             }
            },
            "type": "bar"
           }
          ],
          "barpolar": [
           {
            "marker": {
             "line": {
              "color": "#E5ECF6",
              "width": 0.5
             }
            },
            "type": "barpolar"
           }
          ],
          "carpet": [
           {
            "aaxis": {
             "endlinecolor": "#2a3f5f",
             "gridcolor": "white",
             "linecolor": "white",
             "minorgridcolor": "white",
             "startlinecolor": "#2a3f5f"
            },
            "baxis": {
             "endlinecolor": "#2a3f5f",
             "gridcolor": "white",
             "linecolor": "white",
             "minorgridcolor": "white",
             "startlinecolor": "#2a3f5f"
            },
            "type": "carpet"
           }
          ],
          "choropleth": [
           {
            "colorbar": {
             "outlinewidth": 0,
             "ticks": ""
            },
            "type": "choropleth"
           }
          ],
          "contour": [
           {
            "colorbar": {
             "outlinewidth": 0,
             "ticks": ""
            },
            "colorscale": [
             [
              0,
              "#0d0887"
             ],
             [
              0.1111111111111111,
              "#46039f"
             ],
             [
              0.2222222222222222,
              "#7201a8"
             ],
             [
              0.3333333333333333,
              "#9c179e"
             ],
             [
              0.4444444444444444,
              "#bd3786"
             ],
             [
              0.5555555555555556,
              "#d8576b"
             ],
             [
              0.6666666666666666,
              "#ed7953"
             ],
             [
              0.7777777777777778,
              "#fb9f3a"
             ],
             [
              0.8888888888888888,
              "#fdca26"
             ],
             [
              1,
              "#f0f921"
             ]
            ],
            "type": "contour"
           }
          ],
          "contourcarpet": [
           {
            "colorbar": {
             "outlinewidth": 0,
             "ticks": ""
            },
            "type": "contourcarpet"
           }
          ],
          "heatmap": [
           {
            "colorbar": {
             "outlinewidth": 0,
             "ticks": ""
            },
            "colorscale": [
             [
              0,
              "#0d0887"
             ],
             [
              0.1111111111111111,
              "#46039f"
             ],
             [
              0.2222222222222222,
              "#7201a8"
             ],
             [
              0.3333333333333333,
              "#9c179e"
             ],
             [
              0.4444444444444444,
              "#bd3786"
             ],
             [
              0.5555555555555556,
              "#d8576b"
             ],
             [
              0.6666666666666666,
              "#ed7953"
             ],
             [
              0.7777777777777778,
              "#fb9f3a"
             ],
             [
              0.8888888888888888,
              "#fdca26"
             ],
             [
              1,
              "#f0f921"
             ]
            ],
            "type": "heatmap"
           }
          ],
          "heatmapgl": [
           {
            "colorbar": {
             "outlinewidth": 0,
             "ticks": ""
            },
            "colorscale": [
             [
              0,
              "#0d0887"
             ],
             [
              0.1111111111111111,
              "#46039f"
             ],
             [
              0.2222222222222222,
              "#7201a8"
             ],
             [
              0.3333333333333333,
              "#9c179e"
             ],
             [
              0.4444444444444444,
              "#bd3786"
             ],
             [
              0.5555555555555556,
              "#d8576b"
             ],
             [
              0.6666666666666666,
              "#ed7953"
             ],
             [
              0.7777777777777778,
              "#fb9f3a"
             ],
             [
              0.8888888888888888,
              "#fdca26"
             ],
             [
              1,
              "#f0f921"
             ]
            ],
            "type": "heatmapgl"
           }
          ],
          "histogram": [
           {
            "marker": {
             "colorbar": {
              "outlinewidth": 0,
              "ticks": ""
             }
            },
            "type": "histogram"
           }
          ],
          "histogram2d": [
           {
            "colorbar": {
             "outlinewidth": 0,
             "ticks": ""
            },
            "colorscale": [
             [
              0,
              "#0d0887"
             ],
             [
              0.1111111111111111,
              "#46039f"
             ],
             [
              0.2222222222222222,
              "#7201a8"
             ],
             [
              0.3333333333333333,
              "#9c179e"
             ],
             [
              0.4444444444444444,
              "#bd3786"
             ],
             [
              0.5555555555555556,
              "#d8576b"
             ],
             [
              0.6666666666666666,
              "#ed7953"
             ],
             [
              0.7777777777777778,
              "#fb9f3a"
             ],
             [
              0.8888888888888888,
              "#fdca26"
             ],
             [
              1,
              "#f0f921"
             ]
            ],
            "type": "histogram2d"
           }
          ],
          "histogram2dcontour": [
           {
            "colorbar": {
             "outlinewidth": 0,
             "ticks": ""
            },
            "colorscale": [
             [
              0,
              "#0d0887"
             ],
             [
              0.1111111111111111,
              "#46039f"
             ],
             [
              0.2222222222222222,
              "#7201a8"
             ],
             [
              0.3333333333333333,
              "#9c179e"
             ],
             [
              0.4444444444444444,
              "#bd3786"
             ],
             [
              0.5555555555555556,
              "#d8576b"
             ],
             [
              0.6666666666666666,
              "#ed7953"
             ],
             [
              0.7777777777777778,
              "#fb9f3a"
             ],
             [
              0.8888888888888888,
              "#fdca26"
             ],
             [
              1,
              "#f0f921"
             ]
            ],
            "type": "histogram2dcontour"
           }
          ],
          "mesh3d": [
           {
            "colorbar": {
             "outlinewidth": 0,
             "ticks": ""
            },
            "type": "mesh3d"
           }
          ],
          "parcoords": [
           {
            "line": {
             "colorbar": {
              "outlinewidth": 0,
              "ticks": ""
             }
            },
            "type": "parcoords"
           }
          ],
          "pie": [
           {
            "automargin": true,
            "type": "pie"
           }
          ],
          "scatter": [
           {
            "marker": {
             "colorbar": {
              "outlinewidth": 0,
              "ticks": ""
             }
            },
            "type": "scatter"
           }
          ],
          "scatter3d": [
           {
            "line": {
             "colorbar": {
              "outlinewidth": 0,
              "ticks": ""
             }
            },
            "marker": {
             "colorbar": {
              "outlinewidth": 0,
              "ticks": ""
             }
            },
            "type": "scatter3d"
           }
          ],
          "scattercarpet": [
           {
            "marker": {
             "colorbar": {
              "outlinewidth": 0,
              "ticks": ""
             }
            },
            "type": "scattercarpet"
           }
          ],
          "scattergeo": [
           {
            "marker": {
             "colorbar": {
              "outlinewidth": 0,
              "ticks": ""
             }
            },
            "type": "scattergeo"
           }
          ],
          "scattergl": [
           {
            "marker": {
             "colorbar": {
              "outlinewidth": 0,
              "ticks": ""
             }
            },
            "type": "scattergl"
           }
          ],
          "scattermapbox": [
           {
            "marker": {
             "colorbar": {
              "outlinewidth": 0,
              "ticks": ""
             }
            },
            "type": "scattermapbox"
           }
          ],
          "scatterpolar": [
           {
            "marker": {
             "colorbar": {
              "outlinewidth": 0,
              "ticks": ""
             }
            },
            "type": "scatterpolar"
           }
          ],
          "scatterpolargl": [
           {
            "marker": {
             "colorbar": {
              "outlinewidth": 0,
              "ticks": ""
             }
            },
            "type": "scatterpolargl"
           }
          ],
          "scatterternary": [
           {
            "marker": {
             "colorbar": {
              "outlinewidth": 0,
              "ticks": ""
             }
            },
            "type": "scatterternary"
           }
          ],
          "surface": [
           {
            "colorbar": {
             "outlinewidth": 0,
             "ticks": ""
            },
            "colorscale": [
             [
              0,
              "#0d0887"
             ],
             [
              0.1111111111111111,
              "#46039f"
             ],
             [
              0.2222222222222222,
              "#7201a8"
             ],
             [
              0.3333333333333333,
              "#9c179e"
             ],
             [
              0.4444444444444444,
              "#bd3786"
             ],
             [
              0.5555555555555556,
              "#d8576b"
             ],
             [
              0.6666666666666666,
              "#ed7953"
             ],
             [
              0.7777777777777778,
              "#fb9f3a"
             ],
             [
              0.8888888888888888,
              "#fdca26"
             ],
             [
              1,
              "#f0f921"
             ]
            ],
            "type": "surface"
           }
          ],
          "table": [
           {
            "cells": {
             "fill": {
              "color": "#EBF0F8"
             },
             "line": {
              "color": "white"
             }
            },
            "header": {
             "fill": {
              "color": "#C8D4E3"
             },
             "line": {
              "color": "white"
             }
            },
            "type": "table"
           }
          ]
         },
         "layout": {
          "annotationdefaults": {
           "arrowcolor": "#2a3f5f",
           "arrowhead": 0,
           "arrowwidth": 1
          },
          "coloraxis": {
           "colorbar": {
            "outlinewidth": 0,
            "ticks": ""
           }
          },
          "colorscale": {
           "diverging": [
            [
             0,
             "#8e0152"
            ],
            [
             0.1,
             "#c51b7d"
            ],
            [
             0.2,
             "#de77ae"
            ],
            [
             0.3,
             "#f1b6da"
            ],
            [
             0.4,
             "#fde0ef"
            ],
            [
             0.5,
             "#f7f7f7"
            ],
            [
             0.6,
             "#e6f5d0"
            ],
            [
             0.7,
             "#b8e186"
            ],
            [
             0.8,
             "#7fbc41"
            ],
            [
             0.9,
             "#4d9221"
            ],
            [
             1,
             "#276419"
            ]
           ],
           "sequential": [
            [
             0,
             "#0d0887"
            ],
            [
             0.1111111111111111,
             "#46039f"
            ],
            [
             0.2222222222222222,
             "#7201a8"
            ],
            [
             0.3333333333333333,
             "#9c179e"
            ],
            [
             0.4444444444444444,
             "#bd3786"
            ],
            [
             0.5555555555555556,
             "#d8576b"
            ],
            [
             0.6666666666666666,
             "#ed7953"
            ],
            [
             0.7777777777777778,
             "#fb9f3a"
            ],
            [
             0.8888888888888888,
             "#fdca26"
            ],
            [
             1,
             "#f0f921"
            ]
           ],
           "sequentialminus": [
            [
             0,
             "#0d0887"
            ],
            [
             0.1111111111111111,
             "#46039f"
            ],
            [
             0.2222222222222222,
             "#7201a8"
            ],
            [
             0.3333333333333333,
             "#9c179e"
            ],
            [
             0.4444444444444444,
             "#bd3786"
            ],
            [
             0.5555555555555556,
             "#d8576b"
            ],
            [
             0.6666666666666666,
             "#ed7953"
            ],
            [
             0.7777777777777778,
             "#fb9f3a"
            ],
            [
             0.8888888888888888,
             "#fdca26"
            ],
            [
             1,
             "#f0f921"
            ]
           ]
          },
          "colorway": [
           "#636efa",
           "#EF553B",
           "#00cc96",
           "#ab63fa",
           "#FFA15A",
           "#19d3f3",
           "#FF6692",
           "#B6E880",
           "#FF97FF",
           "#FECB52"
          ],
          "font": {
           "color": "#2a3f5f"
          },
          "geo": {
           "bgcolor": "white",
           "lakecolor": "white",
           "landcolor": "#E5ECF6",
           "showlakes": true,
           "showland": true,
           "subunitcolor": "white"
          },
          "hoverlabel": {
           "align": "left"
          },
          "hovermode": "closest",
          "mapbox": {
           "style": "light"
          },
          "paper_bgcolor": "white",
          "plot_bgcolor": "#E5ECF6",
          "polar": {
           "angularaxis": {
            "gridcolor": "white",
            "linecolor": "white",
            "ticks": ""
           },
           "bgcolor": "#E5ECF6",
           "radialaxis": {
            "gridcolor": "white",
            "linecolor": "white",
            "ticks": ""
           }
          },
          "scene": {
           "xaxis": {
            "backgroundcolor": "#E5ECF6",
            "gridcolor": "white",
            "gridwidth": 2,
            "linecolor": "white",
            "showbackground": true,
            "ticks": "",
            "zerolinecolor": "white"
           },
           "yaxis": {
            "backgroundcolor": "#E5ECF6",
            "gridcolor": "white",
            "gridwidth": 2,
            "linecolor": "white",
            "showbackground": true,
            "ticks": "",
            "zerolinecolor": "white"
           },
           "zaxis": {
            "backgroundcolor": "#E5ECF6",
            "gridcolor": "white",
            "gridwidth": 2,
            "linecolor": "white",
            "showbackground": true,
            "ticks": "",
            "zerolinecolor": "white"
           }
          },
          "shapedefaults": {
           "line": {
            "color": "#2a3f5f"
           }
          },
          "ternary": {
           "aaxis": {
            "gridcolor": "white",
            "linecolor": "white",
            "ticks": ""
           },
           "baxis": {
            "gridcolor": "white",
            "linecolor": "white",
            "ticks": ""
           },
           "bgcolor": "#E5ECF6",
           "caxis": {
            "gridcolor": "white",
            "linecolor": "white",
            "ticks": ""
           }
          },
          "title": {
           "x": 0.05
          },
          "xaxis": {
           "automargin": true,
           "gridcolor": "white",
           "linecolor": "white",
           "ticks": "",
           "title": {
            "standoff": 15
           },
           "zerolinecolor": "white",
           "zerolinewidth": 2
          },
          "yaxis": {
           "automargin": true,
           "gridcolor": "white",
           "linecolor": "white",
           "ticks": "",
           "title": {
            "standoff": 15
           },
           "zerolinecolor": "white",
           "zerolinewidth": 2
          }
         }
        },
        "title": {
         "font": {
          "color": "#4D5663"
         }
        },
        "xaxis": {
         "gridcolor": "#E1E5ED",
         "showgrid": true,
         "tickfont": {
          "color": "#4D5663"
         },
         "title": {
          "font": {
           "color": "#4D5663"
          },
          "text": ""
         },
         "zerolinecolor": "#E1E5ED"
        },
        "xaxis2": {
         "anchor": "y2",
         "gridcolor": "#E1E5ED",
         "showgrid": true,
         "showticklabels": false,
         "tickfont": {
          "color": "#4D5663"
         },
         "title": {
          "font": {
           "color": "#4D5663"
          },
          "text": ""
         },
         "zerolinecolor": "#E1E5ED"
        },
        "yaxis": {
         "domain": [
          0.3,
          1
         ],
         "gridcolor": "#E1E5ED",
         "showgrid": true,
         "tickfont": {
          "color": "#4D5663"
         },
         "title": {
          "font": {
           "color": "#4D5663"
          },
          "text": ""
         },
         "zerolinecolor": "#E1E5ED"
        },
        "yaxis2": {
         "domain": [
          0,
          0.25
         ],
         "gridcolor": "#E1E5ED",
         "showgrid": true,
         "tickfont": {
          "color": "#4D5663"
         },
         "title": {
          "font": {
           "color": "#4D5663"
          },
          "text": "Spread"
         },
         "zerolinecolor": "#E1E5ED"
        }
       }
      },
      "text/html": [
       "<div>\n",
       "        \n",
       "        \n",
       "            <div id=\"22b04fc5-c587-48c8-b3d2-b3a33d79696b\" class=\"plotly-graph-div\" style=\"height:525px; width:100%;\"></div>\n",
       "            <script type=\"text/javascript\">\n",
       "                require([\"plotly\"], function(Plotly) {\n",
       "                    window.PLOTLYENV=window.PLOTLYENV || {};\n",
       "                    window.PLOTLYENV.BASE_URL='https://plot.ly';\n",
       "                    \n",
       "                if (document.getElementById(\"22b04fc5-c587-48c8-b3d2-b3a33d79696b\")) {\n",
       "                    Plotly.newPlot(\n",
       "                        '22b04fc5-c587-48c8-b3d2-b3a33d79696b',\n",
       "                        [{\"line\": {\"color\": \"rgba(255, 153, 51, 1.0)\", \"dash\": \"solid\", \"shape\": \"linear\", \"width\": 1.3}, \"mode\": \"lines\", \"name\": \"IBM\", \"text\": \"\", \"type\": \"scatter\", \"x\": [\"2015-01-01\", \"2015-01-02\", \"2015-01-03\", \"2015-01-04\", \"2015-01-05\", \"2015-01-06\", \"2015-01-07\", \"2015-01-08\", \"2015-01-09\", \"2015-01-10\", \"2015-01-11\", \"2015-01-12\", \"2015-01-13\", \"2015-01-14\", \"2015-01-15\", \"2015-01-16\", \"2015-01-17\", \"2015-01-18\", \"2015-01-19\", \"2015-01-20\", \"2015-01-21\", \"2015-01-22\", \"2015-01-23\", \"2015-01-24\", \"2015-01-25\", \"2015-01-26\", \"2015-01-27\", \"2015-01-28\", \"2015-01-29\", \"2015-01-30\", \"2015-01-31\", \"2015-02-01\", \"2015-02-02\", \"2015-02-03\", \"2015-02-04\", \"2015-02-05\", \"2015-02-06\", \"2015-02-07\", \"2015-02-08\", \"2015-02-09\", \"2015-02-10\", \"2015-02-11\", \"2015-02-12\", \"2015-02-13\", \"2015-02-14\", \"2015-02-15\", \"2015-02-16\", \"2015-02-17\", \"2015-02-18\", \"2015-02-19\", \"2015-02-20\", \"2015-02-21\", \"2015-02-22\", \"2015-02-23\", \"2015-02-24\", \"2015-02-25\", \"2015-02-26\", \"2015-02-27\", \"2015-02-28\", \"2015-03-01\", \"2015-03-02\", \"2015-03-03\", \"2015-03-04\", \"2015-03-05\", \"2015-03-06\", \"2015-03-07\", \"2015-03-08\", \"2015-03-09\", \"2015-03-10\", \"2015-03-11\", \"2015-03-12\", \"2015-03-13\", \"2015-03-14\", \"2015-03-15\", \"2015-03-16\", \"2015-03-17\", \"2015-03-18\", \"2015-03-19\", \"2015-03-20\", \"2015-03-21\", \"2015-03-22\", \"2015-03-23\", \"2015-03-24\", \"2015-03-25\", \"2015-03-26\", \"2015-03-27\", \"2015-03-28\", \"2015-03-29\", \"2015-03-30\", \"2015-03-31\", \"2015-04-01\", \"2015-04-02\", \"2015-04-03\", \"2015-04-04\", \"2015-04-05\", \"2015-04-06\", \"2015-04-07\", \"2015-04-08\", \"2015-04-09\", \"2015-04-10\"], \"y\": [-1.2868801566664638, -2.028366513807729, -2.760879106191367, -1.9911859649445645, -1.1698265723057135, -0.9720902802456763, -1.3893692343289523, 0.15751532682256508, 0.28067988699811575, -0.5107120093055321, -1.8063687051293358, -1.7921784377934262, -1.1044874291941618, -0.2664229033287746, -0.6256421886729924, 0.4121968431481302, 1.8992288911822006, 0.4713284609322743, 2.994948247125084, 3.0066845652519816, 4.428386071353853, 4.91527793224154, 5.9599498493520535, 6.1134080683029515, 5.3533745076686206, 5.293323668532801, 4.099962721172125, 5.217635982306543, 6.071263872872076, 4.6433790700021245, 3.7602602888241847, 3.281740775327897, 2.7404638966339827, 3.3387539342756676, 4.0286684579720395, 5.549431907856821, 7.7754320531931445, 6.322731592099521, 6.500348418463007, 4.307960773824358, 5.299420681700493, 6.887429791634869, 8.867227597756447, 9.705505785295987, 9.727310508705818, 9.47542189494929, 10.024088259089691, 9.98684737225707, 10.69468858425811, 12.590123161193892, 11.782826178393798, 10.917174155836495, 10.734616926162627, 10.241322244735414, 10.641312793916578, 9.281628379084083, 9.400145386809678, 8.651862561935062, 7.565414896511578, 6.965260757342342, 6.707417689495253, 5.298031156312341, 5.189613710611087, 6.38226310279424, 6.183136169656518, 5.612166391713544, 6.39114867505892, 6.579941941996416, 8.383442583844783, 7.707907622852362, 6.38780750561438, 6.444029553587608, 6.607992301383706, 5.807273092823491, 6.986991314869297, 8.092324810185454, 7.438659031910002, 7.801618929657894, 8.167147603397437, 8.31903075035327, 7.29850862750133, 7.512739654299573, 6.420792527152818, 7.055018729110213, 7.0770407319095945, 7.117641048349709, 7.345524557970403, 5.752190402863436, 6.273101375049812, 6.278722472055344, 5.7539515553200955, 3.1068215726052926, 2.7290057360970037, 1.2653832609269167, 2.2899432891116005, 1.9511362641198013, 1.5916454981489803, 2.1430788859714105, 2.542681463390741, 1.530278277459552]}, {\"line\": {\"color\": \"rgba(55, 128, 191, 1.0)\", \"dash\": \"solid\", \"shape\": \"linear\", \"width\": 1.3}, \"mode\": \"lines\", \"name\": \"MSFT\", \"text\": \"\", \"type\": \"scatter\", \"x\": [\"2015-01-01\", \"2015-01-02\", \"2015-01-03\", \"2015-01-04\", \"2015-01-05\", \"2015-01-06\", \"2015-01-07\", \"2015-01-08\", \"2015-01-09\", \"2015-01-10\", \"2015-01-11\", \"2015-01-12\", \"2015-01-13\", \"2015-01-14\", \"2015-01-15\", \"2015-01-16\", \"2015-01-17\", \"2015-01-18\", \"2015-01-19\", \"2015-01-20\", \"2015-01-21\", \"2015-01-22\", \"2015-01-23\", \"2015-01-24\", \"2015-01-25\", \"2015-01-26\", \"2015-01-27\", \"2015-01-28\", \"2015-01-29\", \"2015-01-30\", \"2015-01-31\", \"2015-02-01\", \"2015-02-02\", \"2015-02-03\", \"2015-02-04\", \"2015-02-05\", \"2015-02-06\", \"2015-02-07\", \"2015-02-08\", \"2015-02-09\", \"2015-02-10\", \"2015-02-11\", \"2015-02-12\", \"2015-02-13\", \"2015-02-14\", \"2015-02-15\", \"2015-02-16\", \"2015-02-17\", \"2015-02-18\", \"2015-02-19\", \"2015-02-20\", \"2015-02-21\", \"2015-02-22\", \"2015-02-23\", \"2015-02-24\", \"2015-02-25\", \"2015-02-26\", \"2015-02-27\", \"2015-02-28\", \"2015-03-01\", \"2015-03-02\", \"2015-03-03\", \"2015-03-04\", \"2015-03-05\", \"2015-03-06\", \"2015-03-07\", \"2015-03-08\", \"2015-03-09\", \"2015-03-10\", \"2015-03-11\", \"2015-03-12\", \"2015-03-13\", \"2015-03-14\", \"2015-03-15\", \"2015-03-16\", \"2015-03-17\", \"2015-03-18\", \"2015-03-19\", \"2015-03-20\", \"2015-03-21\", \"2015-03-22\", \"2015-03-23\", \"2015-03-24\", \"2015-03-25\", \"2015-03-26\", \"2015-03-27\", \"2015-03-28\", \"2015-03-29\", \"2015-03-30\", \"2015-03-31\", \"2015-04-01\", \"2015-04-02\", \"2015-04-03\", \"2015-04-04\", \"2015-04-05\", \"2015-04-06\", \"2015-04-07\", \"2015-04-08\", \"2015-04-09\", \"2015-04-10\"], \"y\": [-0.14231784552685722, 0.0038383488741102756, -1.394342441102017, 0.05281310065044109, -1.2953856887317763, -0.23262923631253374, -2.5064608920511025, -3.6201295377974985, -2.959479810992466, -3.772544722719001, -3.0709588325198514, -2.0375398840254366, -2.1693398305300824, -3.2990288162994386, -4.890590132460698, -4.15033703004252, -4.176687297989628, -4.5205820294304235, -4.414951077438917, -4.950842185052673, -6.320562459093343, -6.44888710392168, -6.020839447515197, -5.785039010002954, -6.093129681526676, -6.634138955952207, -6.570694424396184, -6.521643404930816, -5.299024933004039, -6.0886710847423435, -5.881060365924777, -3.915482394403372, -3.9827955274268745, -4.147845784640805, -3.42504253118667, -4.40082690854008, -4.075525471295986, -2.861534944561367, -3.781912959044849, -4.333547172371902, -3.7095920728127374, -3.4750745616048015, -2.747492006580319, -0.9979818882593192, -1.0647188197146276, -0.8955434858458016, -0.6519956098049098, 1.6492927283038028, 3.387224087556209, 4.513566073082565, 5.430806739184705, 4.907521152193672, 2.8095620478423875, 2.915435824696081, 1.5200875838787369, 2.429132108080452, 3.7756335804841363, 4.002064408796806, 3.4628516327730687, 3.214324464767252, 3.8560726788603708, 2.2554862113398633, 2.9445092783273754, 3.5262828903204313, 2.463193248025804, 1.7260733152151322, 0.7398626546489155, 0.4719722351730572, 0.9991489857126875, 1.9463121727900423, 0.23353648657121595, 1.0453540766324032, 0.8125285169010912, 0.21356493176886515, 0.28570457417174555, 0.11812423461881866, 0.4917748669935742, 0.36077971790123253, 0.5972969247795444, 0.7236739472521214, 2.636233090974466, 1.069513681161607, 0.28665585447293573, 0.19369838104339726, 0.35621491824623663, 3.048403464903692, 4.677726795508604, 4.894177005591278, 4.787507408289258, 4.951135431932031, 4.884774009715971, 3.5625808936247694, 2.9640904467996405, 2.6843113704032233, 2.530433555830813, 5.248023191199183, 4.349788040925403, 5.450810783635532, 5.052823592404031, 5.15929729082009]}, {\"line\": {\"color\": \"rgba(50, 171, 96, 1.0)\", \"dash\": \"solid\", \"shape\": \"linear\", \"width\": 1.3}, \"mode\": \"lines\", \"name\": \"GOOG\", \"text\": \"\", \"type\": \"scatter\", \"x\": [\"2015-01-01\", \"2015-01-02\", \"2015-01-03\", \"2015-01-04\", \"2015-01-05\", \"2015-01-06\", \"2015-01-07\", \"2015-01-08\", \"2015-01-09\", \"2015-01-10\", \"2015-01-11\", \"2015-01-12\", \"2015-01-13\", \"2015-01-14\", \"2015-01-15\", \"2015-01-16\", \"2015-01-17\", \"2015-01-18\", \"2015-01-19\", \"2015-01-20\", \"2015-01-21\", \"2015-01-22\", \"2015-01-23\", \"2015-01-24\", \"2015-01-25\", \"2015-01-26\", \"2015-01-27\", \"2015-01-28\", \"2015-01-29\", \"2015-01-30\", \"2015-01-31\", \"2015-02-01\", \"2015-02-02\", \"2015-02-03\", \"2015-02-04\", \"2015-02-05\", \"2015-02-06\", \"2015-02-07\", \"2015-02-08\", \"2015-02-09\", \"2015-02-10\", \"2015-02-11\", \"2015-02-12\", \"2015-02-13\", \"2015-02-14\", \"2015-02-15\", \"2015-02-16\", \"2015-02-17\", \"2015-02-18\", \"2015-02-19\", \"2015-02-20\", \"2015-02-21\", \"2015-02-22\", \"2015-02-23\", \"2015-02-24\", \"2015-02-25\", \"2015-02-26\", \"2015-02-27\", \"2015-02-28\", \"2015-03-01\", \"2015-03-02\", \"2015-03-03\", \"2015-03-04\", \"2015-03-05\", \"2015-03-06\", \"2015-03-07\", \"2015-03-08\", \"2015-03-09\", \"2015-03-10\", \"2015-03-11\", \"2015-03-12\", \"2015-03-13\", \"2015-03-14\", \"2015-03-15\", \"2015-03-16\", \"2015-03-17\", \"2015-03-18\", \"2015-03-19\", \"2015-03-20\", \"2015-03-21\", \"2015-03-22\", \"2015-03-23\", \"2015-03-24\", \"2015-03-25\", \"2015-03-26\", \"2015-03-27\", \"2015-03-28\", \"2015-03-29\", \"2015-03-30\", \"2015-03-31\", \"2015-04-01\", \"2015-04-02\", \"2015-04-03\", \"2015-04-04\", \"2015-04-05\", \"2015-04-06\", \"2015-04-07\", \"2015-04-08\", \"2015-04-09\", \"2015-04-10\"], \"y\": [0.887859548430912, -0.12442855812384623, 0.31510584146026, -0.3620399760333849, 0.060047799161180415, 0.489542542000453, 0.39864526286565544, -0.12691305706221562, -0.14653742623622149, -1.9942051171963504, -1.3676444884468961, -0.8372557932333661, -1.9188470342391222, -1.176425895752355, -0.5063944395571112, -0.6230886218617776, -0.6637716155230189, -0.44370395604865664, -1.0502230320712198, -1.884455201532628, -0.8465602088727773, -0.2594989167460039, -1.9955610009465663, -2.221501710910537, -3.217375118573837, -3.6208546163065196, -4.929555124356471, -4.840508167100383, -3.827535434970696, -3.867032210267071, -4.5063002992719685, -4.925453159939044, -4.174179782827053, -2.657263222654409, -4.307262797144048, -5.304732773389594, -4.618642038632928, -5.7364532527662195, -4.392594886900887, -4.4558778061555255, -4.9857689109230625, -4.156439892523207, -3.3815162927726474, -4.524633232529935, -2.1656811236745916, -3.1885135351785516, -3.9006128888640728, -4.077345971346925, -4.000916020536469, -4.4098462746028675, -5.639320258383571, -5.687101247473266, -5.0688162769214875, -5.728851900477398, -6.343303939209772, -9.328835099025895, -8.860782654790022, -8.766972470016524, -7.71034017674116, -7.34436940021025, -7.352338908426178, -5.660115446029203, -6.6854008273788335, -5.682223402388089, -6.9632825041098405, -6.678646553285244, -5.752049999433002, -6.881893383159216, -6.5453962916602375, -5.039119802550206, -5.338956969174161, -4.4834048889550315, -3.927119209210786, -4.914573738720649, -6.567959222482106, -7.620031172452751, -7.607736110887162, -7.5546361814823495, -7.144042517705126, -7.123148748328626, -6.136712449596261, -6.365268583170922, -7.46153901912162, -7.887593355698787, -7.24361705197415, -6.356909555910471, -5.176156220893024, -6.80156252352153, -6.802162108296153, -6.313537622663519, -3.5447733332150233, -3.9845629222544896, -2.854306918829467, -2.6727676110848138, -2.985194155696666, -1.9778983711938678, -2.829599717537466, -2.256304104822701, -3.0652309473468895, -3.641370706696887]}, {\"line\": {\"color\": \"rgba(128, 0, 128, 1.0)\", \"dash\": \"solid\", \"shape\": \"linear\", \"width\": 1.3}, \"mode\": \"lines\", \"name\": \"VERZ\", \"text\": \"\", \"type\": \"scatter\", \"x\": [\"2015-01-01\", \"2015-01-02\", \"2015-01-03\", \"2015-01-04\", \"2015-01-05\", \"2015-01-06\", \"2015-01-07\", \"2015-01-08\", \"2015-01-09\", \"2015-01-10\", \"2015-01-11\", \"2015-01-12\", \"2015-01-13\", \"2015-01-14\", \"2015-01-15\", \"2015-01-16\", \"2015-01-17\", \"2015-01-18\", \"2015-01-19\", \"2015-01-20\", \"2015-01-21\", \"2015-01-22\", \"2015-01-23\", \"2015-01-24\", \"2015-01-25\", \"2015-01-26\", \"2015-01-27\", \"2015-01-28\", \"2015-01-29\", \"2015-01-30\", \"2015-01-31\", \"2015-02-01\", \"2015-02-02\", \"2015-02-03\", \"2015-02-04\", \"2015-02-05\", \"2015-02-06\", \"2015-02-07\", \"2015-02-08\", \"2015-02-09\", \"2015-02-10\", \"2015-02-11\", \"2015-02-12\", \"2015-02-13\", \"2015-02-14\", \"2015-02-15\", \"2015-02-16\", \"2015-02-17\", \"2015-02-18\", \"2015-02-19\", \"2015-02-20\", \"2015-02-21\", \"2015-02-22\", \"2015-02-23\", \"2015-02-24\", \"2015-02-25\", \"2015-02-26\", \"2015-02-27\", \"2015-02-28\", \"2015-03-01\", \"2015-03-02\", \"2015-03-03\", \"2015-03-04\", \"2015-03-05\", \"2015-03-06\", \"2015-03-07\", \"2015-03-08\", \"2015-03-09\", \"2015-03-10\", \"2015-03-11\", \"2015-03-12\", \"2015-03-13\", \"2015-03-14\", \"2015-03-15\", \"2015-03-16\", \"2015-03-17\", \"2015-03-18\", \"2015-03-19\", \"2015-03-20\", \"2015-03-21\", \"2015-03-22\", \"2015-03-23\", \"2015-03-24\", \"2015-03-25\", \"2015-03-26\", \"2015-03-27\", \"2015-03-28\", \"2015-03-29\", \"2015-03-30\", \"2015-03-31\", \"2015-04-01\", \"2015-04-02\", \"2015-04-03\", \"2015-04-04\", \"2015-04-05\", \"2015-04-06\", \"2015-04-07\", \"2015-04-08\", \"2015-04-09\", \"2015-04-10\"], \"y\": [0.2048742448337656, 0.3995130615403163, 0.5136290915851257, 0.02076516140369261, 0.7226077593218854, 0.05684612597054928, -2.290373173966028, -3.352705324762807, -3.7250925423200565, -4.793135650456053, -5.329050597202418, -4.387591592305006, -4.049448089904911, -5.709282777034537, -6.328159594193041, -5.224321790483151, -5.2544049851922985, -5.421682067272712, -5.453447794943075, -5.2185053146589, -5.352828044506808, -6.099418933938748, -5.385357244049113, -5.133670710990421, -4.985790773356901, -4.275721196167301, -4.568176178165343, -4.250215743788066, -2.6250793292773977, -1.4682659462139522, -2.1133744171717304, -2.3256163870395024, -2.5325475124338666, -2.8567767576541843, -2.1431314030437036, -1.7670788605729655, -2.296789904733288, -2.2121516024694006, -3.5342462146632085, -0.6964724804885365, 1.3477234161467004, 1.441712672948758, 2.1058407403647976, 1.9878836781924143, 2.733661743162101, 4.07587656098306, 4.494268791352438, 2.7551554418904525, 3.4262226942585743, 4.261906636597172, 5.644921824628, 4.413022382756968, 5.910088337610661, 6.542923789958097, 6.312824948758883, 7.0707387309998815, 9.908110224085755, 9.306542233112879, 10.085829266774926, 9.708254599022629, 9.67875256616383, 7.916943299423433, 7.5583217288247715, 8.46681747105512, 9.205058014250898, 7.777162993877683, 7.405956989690508, 8.820618268349833, 8.580023758687686, 7.351488938534795, 4.329475295100899, 3.2757851795090573, 4.595116532455589, 5.783659442360334, 3.7878041018828923, 3.044704452625716, 2.0189657021517684, 4.274722764937334, 5.893714987065865, 5.18398622503782, 4.890734539739318, 5.259914377771817, 4.2388250269525924, 2.228345073405111, 1.0172014863258558, 2.904580330298862, 1.6375736383990258, 1.6730927768195931, 0.3295055389813142, 1.1186980436244327, 0.3825970786381174, 0.2403846669254254, 1.3424608810215752, 2.0175060395052333, 1.8490765888226344, 2.361676998871574, 2.3661487164680395, 4.650347499849967, 4.779357897092006, 5.318865454818467]}, {\"line\": {\"color\": \"rgba(219, 64, 82, 1.0)\", \"dash\": \"solid\", \"shape\": \"linear\", \"width\": 1.3}, \"mode\": \"lines\", \"name\": \"APPL\", \"text\": \"\", \"type\": \"scatter\", \"x\": [\"2015-01-01\", \"2015-01-02\", \"2015-01-03\", \"2015-01-04\", \"2015-01-05\", \"2015-01-06\", \"2015-01-07\", \"2015-01-08\", \"2015-01-09\", \"2015-01-10\", \"2015-01-11\", \"2015-01-12\", \"2015-01-13\", \"2015-01-14\", \"2015-01-15\", \"2015-01-16\", \"2015-01-17\", \"2015-01-18\", \"2015-01-19\", \"2015-01-20\", \"2015-01-21\", \"2015-01-22\", \"2015-01-23\", \"2015-01-24\", \"2015-01-25\", \"2015-01-26\", \"2015-01-27\", \"2015-01-28\", \"2015-01-29\", \"2015-01-30\", \"2015-01-31\", \"2015-02-01\", \"2015-02-02\", \"2015-02-03\", \"2015-02-04\", \"2015-02-05\", \"2015-02-06\", \"2015-02-07\", \"2015-02-08\", \"2015-02-09\", \"2015-02-10\", \"2015-02-11\", \"2015-02-12\", \"2015-02-13\", \"2015-02-14\", \"2015-02-15\", \"2015-02-16\", \"2015-02-17\", \"2015-02-18\", \"2015-02-19\", \"2015-02-20\", \"2015-02-21\", \"2015-02-22\", \"2015-02-23\", \"2015-02-24\", \"2015-02-25\", \"2015-02-26\", \"2015-02-27\", \"2015-02-28\", \"2015-03-01\", \"2015-03-02\", \"2015-03-03\", \"2015-03-04\", \"2015-03-05\", \"2015-03-06\", \"2015-03-07\", \"2015-03-08\", \"2015-03-09\", \"2015-03-10\", \"2015-03-11\", \"2015-03-12\", \"2015-03-13\", \"2015-03-14\", \"2015-03-15\", \"2015-03-16\", \"2015-03-17\", \"2015-03-18\", \"2015-03-19\", \"2015-03-20\", \"2015-03-21\", \"2015-03-22\", \"2015-03-23\", \"2015-03-24\", \"2015-03-25\", \"2015-03-26\", \"2015-03-27\", \"2015-03-28\", \"2015-03-29\", \"2015-03-30\", \"2015-03-31\", \"2015-04-01\", \"2015-04-02\", \"2015-04-03\", \"2015-04-04\", \"2015-04-05\", \"2015-04-06\", \"2015-04-07\", \"2015-04-08\", \"2015-04-09\", \"2015-04-10\"], \"y\": [1.0819354668374346, 2.4799376706733622, 2.2268051364701633, 1.0250862796132514, 0.3554705098107952, 0.7156871789501777, 0.1067856256869062, -0.123407659403828, 0.28296814854104424, 0.49919665559686655, -0.006990933535996335, 0.033384083208729, -0.08440237960348058, 0.7897831313157041, 1.5201787318987088, 1.5475803170317657, 0.8576482186298152, 2.5467860395958803, 3.993713288865485, 4.567833775159525, 5.183738002370754, 6.092155689019387, 6.1823362071732495, 5.674471133357569, 5.3441259995195045, 5.617275592259908, 6.783773732222309, 7.198486019655446, 7.145176329258773, 6.543734446718874, 7.312297808122165, 7.223841848314789, 7.9514779082905, 8.561609308063588, 9.738378487072284, 9.075752793744627, 9.831438453795284, 8.516970286231762, 8.252832558903457, 9.533388230834202, 9.67698655408267, 10.86849174836057, 10.669733608987032, 9.989883871982169, 8.670283109572248, 9.577541757674734, 8.881467530627548, 10.376316257373494, 9.81916422882076, 10.225052700919383, 10.056165673334721, 11.05423378093204, 11.438246334862646, 10.468756699066553, 9.87868872301803, 8.76800846671155, 6.684972121397745, 8.078100249152664, 6.3740120486351195, 6.699908754451213, 6.63902778498758, 7.333955166310478, 8.539313786810935, 8.765231793823297, 8.550945866671988, 8.648688407218522, 8.369870777573873, 7.728510910650162, 7.187302004909984, 7.4427073016969105, 9.038283728844396, 11.127516915360015, 12.176216508021733, 13.642073852393995, 13.114857135669329, 13.832452593325161, 14.912682023756759, 15.357186361705619, 17.058373360129018, 18.476693401175936, 18.172980321487877, 19.516504578663504, 18.750375542604836, 19.83121087323503, 20.970407888437194, 20.46369062990867, 20.493108587316645, 19.42665903106606, 18.742685639947105, 18.034705834652556, 18.052638546929252, 16.476787278642664, 16.81420963222878, 15.856823228991814, 13.806346247259345, 14.896933576101397, 15.749362202489804, 16.287176408588053, 15.628818851369322, 15.302790607308463]}, {\"connectgaps\": false, \"fill\": \"tozeroy\", \"line\": {\"color\": \"green\", \"dash\": \"solid\", \"shape\": \"linear\", \"width\": 0.5}, \"mode\": \"lines\", \"name\": \"Spread\", \"showlegend\": false, \"type\": \"scatter\", \"x\": [\"2015-01-01\", \"2015-01-02\", \"2015-01-03\", \"2015-01-04\", \"2015-01-05\", \"2015-01-06\", \"2015-01-07\", \"2015-01-08\", \"2015-01-09\", \"2015-01-10\", \"2015-01-11\", \"2015-01-12\", \"2015-01-13\", \"2015-01-14\", \"2015-01-15\", \"2015-01-16\", \"2015-01-17\", \"2015-01-18\", \"2015-01-19\", \"2015-01-20\", \"2015-01-21\", \"2015-01-22\", \"2015-01-23\", \"2015-01-24\", \"2015-01-25\", \"2015-01-26\", \"2015-01-27\", \"2015-01-28\", \"2015-01-29\", \"2015-01-30\", \"2015-01-31\", \"2015-02-01\", \"2015-02-02\", \"2015-02-03\", \"2015-02-04\", \"2015-02-05\", \"2015-02-06\", \"2015-02-07\", \"2015-02-08\", \"2015-02-09\", \"2015-02-10\", \"2015-02-11\", \"2015-02-12\", \"2015-02-13\", \"2015-02-14\", \"2015-02-15\", \"2015-02-16\", \"2015-02-17\", \"2015-02-18\", \"2015-02-19\", \"2015-02-20\", \"2015-02-21\", \"2015-02-22\", \"2015-02-23\", \"2015-02-24\", \"2015-02-25\", \"2015-02-26\", \"2015-02-27\", \"2015-02-28\", \"2015-03-01\", \"2015-03-02\", \"2015-03-03\", \"2015-03-04\", \"2015-03-05\", \"2015-03-06\", \"2015-03-07\", \"2015-03-08\", \"2015-03-09\", \"2015-03-10\", \"2015-03-11\", \"2015-03-12\", \"2015-03-13\", \"2015-03-14\", \"2015-03-15\", \"2015-03-16\", \"2015-03-17\", \"2015-03-18\", \"2015-03-19\", \"2015-03-20\", \"2015-03-21\", \"2015-03-22\", \"2015-03-23\", \"2015-03-24\", \"2015-03-25\", \"2015-03-26\", \"2015-03-27\", \"2015-03-28\", \"2015-03-29\", \"2015-03-30\", \"2015-03-31\", \"2015-04-01\", \"2015-04-02\", \"2015-04-03\", \"2015-04-04\", \"2015-04-05\", \"2015-04-06\", \"2015-04-07\", \"2015-04-08\", \"2015-04-09\", \"2015-04-10\"], \"xaxis\": \"x2\", \"y\": [\"\", \"\", \"\", \"\", 0.12555911642606277, \"\", 1.1170916577221501, 3.7776448646200635, 3.240159697990582, 3.261832713413469, 1.2645901273905156, 0.2453614462320104, 1.0648524013359206, 3.0326059129706637, 4.264947943787705, 4.562533873190651, 6.075916189171829, 4.991910490362698, 7.409899324564001, 7.957526750304655, 10.748948530447196, 11.36416503616322, 11.98078929686725, 11.898447078305907, 11.446504189195297, 11.927462624485008, 10.67065714556831, 11.73927938723736, 11.370288805876115, 10.732050154744467, 9.641320654748963, 7.197223169731269, 6.723259424060857, 7.486599718916473, 7.45371098915871, 9.9502588163969, 11.85095752448913, 9.184266536660887, 10.282261377507856, 8.64150794619626, 9.00901275451323, 10.36250435323967, 11.614719604336766, 10.703487673555307, 10.792029328420446, 10.370965380795091, 10.676083868894601, 8.337554643953268, 7.3074644967019005, 8.076557088111327, 6.3520194392090925, 6.009653003642823, 7.925054878320239, 7.325886420039334, 9.12122521003784, 6.852496271003631, 5.6245118063255415, 4.6497981531382555, 4.10256326373851, 3.75093629257509, 2.8513450106348825, 3.0425449449724775, 2.2451044322837115, 2.8559802124738085, 3.7199429216307145, 3.8860930764984114, 5.651286020410005, 6.107969706823359, 7.384293598132095, 5.76159545006232, 6.154271019043164, 5.398675476955205, 5.795463784482615, 5.593708161054625, 6.701286740697551, 7.974200575566636, 6.946884164916428, 7.4408392117566615, 7.569850678617892, 7.595356803101149, 4.662275536526864, 6.443225973137966, 6.134136672679882, 6.8613203480668155, 6.720825813663358, 4.069237583446017, 2.6677977624617997, 0.858013397272158, 1.485593966760554, 1.327587040123313, 0.8691775456041242, \"\", \"\", \"\", \"\", \"\", \"\", \"\", \"\", \"\"], \"yaxis\": \"y2\"}, {\"connectgaps\": false, \"fill\": \"tozeroy\", \"line\": {\"color\": \"red\", \"dash\": \"solid\", \"shape\": \"linear\", \"width\": 0.5}, \"mode\": \"lines\", \"name\": \"Spread\", \"showlegend\": false, \"type\": \"scatter\", \"x\": [\"2015-01-01\", \"2015-01-02\", \"2015-01-03\", \"2015-01-04\", \"2015-01-05\", \"2015-01-06\", \"2015-01-07\", \"2015-01-08\", \"2015-01-09\", \"2015-01-10\", \"2015-01-11\", \"2015-01-12\", \"2015-01-13\", \"2015-01-14\", \"2015-01-15\", \"2015-01-16\", \"2015-01-17\", \"2015-01-18\", \"2015-01-19\", \"2015-01-20\", \"2015-01-21\", \"2015-01-22\", \"2015-01-23\", \"2015-01-24\", \"2015-01-25\", \"2015-01-26\", \"2015-01-27\", \"2015-01-28\", \"2015-01-29\", \"2015-01-30\", \"2015-01-31\", \"2015-02-01\", \"2015-02-02\", \"2015-02-03\", \"2015-02-04\", \"2015-02-05\", \"2015-02-06\", \"2015-02-07\", \"2015-02-08\", \"2015-02-09\", \"2015-02-10\", \"2015-02-11\", \"2015-02-12\", \"2015-02-13\", \"2015-02-14\", \"2015-02-15\", \"2015-02-16\", \"2015-02-17\", \"2015-02-18\", \"2015-02-19\", \"2015-02-20\", \"2015-02-21\", \"2015-02-22\", \"2015-02-23\", \"2015-02-24\", \"2015-02-25\", \"2015-02-26\", \"2015-02-27\", \"2015-02-28\", \"2015-03-01\", \"2015-03-02\", \"2015-03-03\", \"2015-03-04\", \"2015-03-05\", \"2015-03-06\", \"2015-03-07\", \"2015-03-08\", \"2015-03-09\", \"2015-03-10\", \"2015-03-11\", \"2015-03-12\", \"2015-03-13\", \"2015-03-14\", \"2015-03-15\", \"2015-03-16\", \"2015-03-17\", \"2015-03-18\", \"2015-03-19\", \"2015-03-20\", \"2015-03-21\", \"2015-03-22\", \"2015-03-23\", \"2015-03-24\", \"2015-03-25\", \"2015-03-26\", \"2015-03-27\", \"2015-03-28\", \"2015-03-29\", \"2015-03-30\", \"2015-03-31\", \"2015-04-01\", \"2015-04-02\", \"2015-04-03\", \"2015-04-04\", \"2015-04-05\", \"2015-04-06\", \"2015-04-07\", \"2015-04-08\", \"2015-04-09\", \"2015-04-10\"], \"xaxis\": \"x2\", \"y\": [-1.1445623111396066, -2.032204862681839, -1.3665366650893498, -2.0439990655950053, \"\", -0.7394610439331426, \"\", \"\", \"\", \"\", \"\", \"\", \"\", \"\", \"\", \"\", \"\", \"\", \"\", \"\", \"\", \"\", \"\", \"\", \"\", \"\", \"\", \"\", \"\", \"\", \"\", \"\", \"\", \"\", \"\", \"\", \"\", \"\", \"\", \"\", \"\", \"\", \"\", \"\", \"\", \"\", \"\", \"\", \"\", \"\", \"\", \"\", \"\", \"\", \"\", \"\", \"\", \"\", \"\", \"\", \"\", \"\", \"\", \"\", \"\", \"\", \"\", \"\", \"\", \"\", \"\", \"\", \"\", \"\", \"\", \"\", \"\", \"\", \"\", \"\", \"\", \"\", \"\", \"\", \"\", \"\", \"\", \"\", \"\", \"\", \"\", -0.4557593210194768, -0.2350847107026368, -1.4189281094763067, -0.24049026671921236, -3.296886927079381, -2.7581425427764223, -3.3077318976641217, -2.51014212901329, -3.629019013360538], \"yaxis\": \"y2\"}],\n",
       "                        {\"hovermode\": \"x\", \"legend\": {\"bgcolor\": \"#F5F6F9\", \"font\": {\"color\": \"#4D5663\"}}, \"paper_bgcolor\": \"#F5F6F9\", \"plot_bgcolor\": \"#F5F6F9\", \"template\": {\"data\": {\"bar\": [{\"error_x\": {\"color\": \"#2a3f5f\"}, \"error_y\": {\"color\": \"#2a3f5f\"}, \"marker\": {\"line\": {\"color\": \"#E5ECF6\", \"width\": 0.5}}, \"type\": \"bar\"}], \"barpolar\": [{\"marker\": {\"line\": {\"color\": \"#E5ECF6\", \"width\": 0.5}}, \"type\": \"barpolar\"}], \"carpet\": [{\"aaxis\": {\"endlinecolor\": \"#2a3f5f\", \"gridcolor\": \"white\", \"linecolor\": \"white\", \"minorgridcolor\": \"white\", \"startlinecolor\": \"#2a3f5f\"}, \"baxis\": {\"endlinecolor\": \"#2a3f5f\", \"gridcolor\": \"white\", \"linecolor\": \"white\", \"minorgridcolor\": \"white\", \"startlinecolor\": \"#2a3f5f\"}, \"type\": \"carpet\"}], \"choropleth\": [{\"colorbar\": {\"outlinewidth\": 0, \"ticks\": \"\"}, \"type\": \"choropleth\"}], \"contour\": [{\"colorbar\": {\"outlinewidth\": 0, \"ticks\": \"\"}, \"colorscale\": [[0.0, \"#0d0887\"], [0.1111111111111111, \"#46039f\"], [0.2222222222222222, \"#7201a8\"], [0.3333333333333333, \"#9c179e\"], [0.4444444444444444, \"#bd3786\"], [0.5555555555555556, \"#d8576b\"], [0.6666666666666666, \"#ed7953\"], [0.7777777777777778, \"#fb9f3a\"], [0.8888888888888888, \"#fdca26\"], [1.0, \"#f0f921\"]], \"type\": \"contour\"}], \"contourcarpet\": [{\"colorbar\": {\"outlinewidth\": 0, \"ticks\": \"\"}, \"type\": \"contourcarpet\"}], \"heatmap\": [{\"colorbar\": {\"outlinewidth\": 0, \"ticks\": \"\"}, \"colorscale\": [[0.0, \"#0d0887\"], [0.1111111111111111, \"#46039f\"], [0.2222222222222222, \"#7201a8\"], [0.3333333333333333, \"#9c179e\"], [0.4444444444444444, \"#bd3786\"], [0.5555555555555556, \"#d8576b\"], [0.6666666666666666, \"#ed7953\"], [0.7777777777777778, \"#fb9f3a\"], [0.8888888888888888, \"#fdca26\"], [1.0, \"#f0f921\"]], \"type\": \"heatmap\"}], \"heatmapgl\": [{\"colorbar\": {\"outlinewidth\": 0, \"ticks\": \"\"}, \"colorscale\": [[0.0, \"#0d0887\"], [0.1111111111111111, \"#46039f\"], [0.2222222222222222, \"#7201a8\"], [0.3333333333333333, \"#9c179e\"], [0.4444444444444444, \"#bd3786\"], [0.5555555555555556, \"#d8576b\"], [0.6666666666666666, \"#ed7953\"], [0.7777777777777778, \"#fb9f3a\"], [0.8888888888888888, \"#fdca26\"], [1.0, \"#f0f921\"]], \"type\": \"heatmapgl\"}], \"histogram\": [{\"marker\": {\"colorbar\": {\"outlinewidth\": 0, \"ticks\": \"\"}}, \"type\": \"histogram\"}], \"histogram2d\": [{\"colorbar\": {\"outlinewidth\": 0, \"ticks\": \"\"}, \"colorscale\": [[0.0, \"#0d0887\"], [0.1111111111111111, \"#46039f\"], [0.2222222222222222, \"#7201a8\"], [0.3333333333333333, \"#9c179e\"], [0.4444444444444444, \"#bd3786\"], [0.5555555555555556, \"#d8576b\"], [0.6666666666666666, \"#ed7953\"], [0.7777777777777778, \"#fb9f3a\"], [0.8888888888888888, \"#fdca26\"], [1.0, \"#f0f921\"]], \"type\": \"histogram2d\"}], \"histogram2dcontour\": [{\"colorbar\": {\"outlinewidth\": 0, \"ticks\": \"\"}, \"colorscale\": [[0.0, \"#0d0887\"], [0.1111111111111111, \"#46039f\"], [0.2222222222222222, \"#7201a8\"], [0.3333333333333333, \"#9c179e\"], [0.4444444444444444, \"#bd3786\"], [0.5555555555555556, \"#d8576b\"], [0.6666666666666666, \"#ed7953\"], [0.7777777777777778, \"#fb9f3a\"], [0.8888888888888888, \"#fdca26\"], [1.0, \"#f0f921\"]], \"type\": \"histogram2dcontour\"}], \"mesh3d\": [{\"colorbar\": {\"outlinewidth\": 0, \"ticks\": \"\"}, \"type\": \"mesh3d\"}], \"parcoords\": [{\"line\": {\"colorbar\": {\"outlinewidth\": 0, \"ticks\": \"\"}}, \"type\": \"parcoords\"}], \"pie\": [{\"automargin\": true, \"type\": \"pie\"}], \"scatter\": [{\"marker\": {\"colorbar\": {\"outlinewidth\": 0, \"ticks\": \"\"}}, \"type\": \"scatter\"}], \"scatter3d\": [{\"line\": {\"colorbar\": {\"outlinewidth\": 0, \"ticks\": \"\"}}, \"marker\": {\"colorbar\": {\"outlinewidth\": 0, \"ticks\": \"\"}}, \"type\": \"scatter3d\"}], \"scattercarpet\": [{\"marker\": {\"colorbar\": {\"outlinewidth\": 0, \"ticks\": \"\"}}, \"type\": \"scattercarpet\"}], \"scattergeo\": [{\"marker\": {\"colorbar\": {\"outlinewidth\": 0, \"ticks\": \"\"}}, \"type\": \"scattergeo\"}], \"scattergl\": [{\"marker\": {\"colorbar\": {\"outlinewidth\": 0, \"ticks\": \"\"}}, \"type\": \"scattergl\"}], \"scattermapbox\": [{\"marker\": {\"colorbar\": {\"outlinewidth\": 0, \"ticks\": \"\"}}, \"type\": \"scattermapbox\"}], \"scatterpolar\": [{\"marker\": {\"colorbar\": {\"outlinewidth\": 0, \"ticks\": \"\"}}, \"type\": \"scatterpolar\"}], \"scatterpolargl\": [{\"marker\": {\"colorbar\": {\"outlinewidth\": 0, \"ticks\": \"\"}}, \"type\": \"scatterpolargl\"}], \"scatterternary\": [{\"marker\": {\"colorbar\": {\"outlinewidth\": 0, \"ticks\": \"\"}}, \"type\": \"scatterternary\"}], \"surface\": [{\"colorbar\": {\"outlinewidth\": 0, \"ticks\": \"\"}, \"colorscale\": [[0.0, \"#0d0887\"], [0.1111111111111111, \"#46039f\"], [0.2222222222222222, \"#7201a8\"], [0.3333333333333333, \"#9c179e\"], [0.4444444444444444, \"#bd3786\"], [0.5555555555555556, \"#d8576b\"], [0.6666666666666666, \"#ed7953\"], [0.7777777777777778, \"#fb9f3a\"], [0.8888888888888888, \"#fdca26\"], [1.0, \"#f0f921\"]], \"type\": \"surface\"}], \"table\": [{\"cells\": {\"fill\": {\"color\": \"#EBF0F8\"}, \"line\": {\"color\": \"white\"}}, \"header\": {\"fill\": {\"color\": \"#C8D4E3\"}, \"line\": {\"color\": \"white\"}}, \"type\": \"table\"}]}, \"layout\": {\"annotationdefaults\": {\"arrowcolor\": \"#2a3f5f\", \"arrowhead\": 0, \"arrowwidth\": 1}, \"coloraxis\": {\"colorbar\": {\"outlinewidth\": 0, \"ticks\": \"\"}}, \"colorscale\": {\"diverging\": [[0, \"#8e0152\"], [0.1, \"#c51b7d\"], [0.2, \"#de77ae\"], [0.3, \"#f1b6da\"], [0.4, \"#fde0ef\"], [0.5, \"#f7f7f7\"], [0.6, \"#e6f5d0\"], [0.7, \"#b8e186\"], [0.8, \"#7fbc41\"], [0.9, \"#4d9221\"], [1, \"#276419\"]], \"sequential\": [[0.0, \"#0d0887\"], [0.1111111111111111, \"#46039f\"], [0.2222222222222222, \"#7201a8\"], [0.3333333333333333, \"#9c179e\"], [0.4444444444444444, \"#bd3786\"], [0.5555555555555556, \"#d8576b\"], [0.6666666666666666, \"#ed7953\"], [0.7777777777777778, \"#fb9f3a\"], [0.8888888888888888, \"#fdca26\"], [1.0, \"#f0f921\"]], \"sequentialminus\": [[0.0, \"#0d0887\"], [0.1111111111111111, \"#46039f\"], [0.2222222222222222, \"#7201a8\"], [0.3333333333333333, \"#9c179e\"], [0.4444444444444444, \"#bd3786\"], [0.5555555555555556, \"#d8576b\"], [0.6666666666666666, \"#ed7953\"], [0.7777777777777778, \"#fb9f3a\"], [0.8888888888888888, \"#fdca26\"], [1.0, \"#f0f921\"]]}, \"colorway\": [\"#636efa\", \"#EF553B\", \"#00cc96\", \"#ab63fa\", \"#FFA15A\", \"#19d3f3\", \"#FF6692\", \"#B6E880\", \"#FF97FF\", \"#FECB52\"], \"font\": {\"color\": \"#2a3f5f\"}, \"geo\": {\"bgcolor\": \"white\", \"lakecolor\": \"white\", \"landcolor\": \"#E5ECF6\", \"showlakes\": true, \"showland\": true, \"subunitcolor\": \"white\"}, \"hoverlabel\": {\"align\": \"left\"}, \"hovermode\": \"closest\", \"mapbox\": {\"style\": \"light\"}, \"paper_bgcolor\": \"white\", \"plot_bgcolor\": \"#E5ECF6\", \"polar\": {\"angularaxis\": {\"gridcolor\": \"white\", \"linecolor\": \"white\", \"ticks\": \"\"}, \"bgcolor\": \"#E5ECF6\", \"radialaxis\": {\"gridcolor\": \"white\", \"linecolor\": \"white\", \"ticks\": \"\"}}, \"scene\": {\"xaxis\": {\"backgroundcolor\": \"#E5ECF6\", \"gridcolor\": \"white\", \"gridwidth\": 2, \"linecolor\": \"white\", \"showbackground\": true, \"ticks\": \"\", \"zerolinecolor\": \"white\"}, \"yaxis\": {\"backgroundcolor\": \"#E5ECF6\", \"gridcolor\": \"white\", \"gridwidth\": 2, \"linecolor\": \"white\", \"showbackground\": true, \"ticks\": \"\", \"zerolinecolor\": \"white\"}, \"zaxis\": {\"backgroundcolor\": \"#E5ECF6\", \"gridcolor\": \"white\", \"gridwidth\": 2, \"linecolor\": \"white\", \"showbackground\": true, \"ticks\": \"\", \"zerolinecolor\": \"white\"}}, \"shapedefaults\": {\"line\": {\"color\": \"#2a3f5f\"}}, \"ternary\": {\"aaxis\": {\"gridcolor\": \"white\", \"linecolor\": \"white\", \"ticks\": \"\"}, \"baxis\": {\"gridcolor\": \"white\", \"linecolor\": \"white\", \"ticks\": \"\"}, \"bgcolor\": \"#E5ECF6\", \"caxis\": {\"gridcolor\": \"white\", \"linecolor\": \"white\", \"ticks\": \"\"}}, \"title\": {\"x\": 0.05}, \"xaxis\": {\"automargin\": true, \"gridcolor\": \"white\", \"linecolor\": \"white\", \"ticks\": \"\", \"title\": {\"standoff\": 15}, \"zerolinecolor\": \"white\", \"zerolinewidth\": 2}, \"yaxis\": {\"automargin\": true, \"gridcolor\": \"white\", \"linecolor\": \"white\", \"ticks\": \"\", \"title\": {\"standoff\": 15}, \"zerolinecolor\": \"white\", \"zerolinewidth\": 2}}}, \"title\": {\"font\": {\"color\": \"#4D5663\"}}, \"xaxis\": {\"gridcolor\": \"#E1E5ED\", \"showgrid\": true, \"tickfont\": {\"color\": \"#4D5663\"}, \"title\": {\"font\": {\"color\": \"#4D5663\"}, \"text\": \"\"}, \"zerolinecolor\": \"#E1E5ED\"}, \"xaxis2\": {\"anchor\": \"y2\", \"gridcolor\": \"#E1E5ED\", \"showgrid\": true, \"showticklabels\": false, \"tickfont\": {\"color\": \"#4D5663\"}, \"title\": {\"font\": {\"color\": \"#4D5663\"}, \"text\": \"\"}, \"zerolinecolor\": \"#E1E5ED\"}, \"yaxis\": {\"domain\": [0.3, 1], \"gridcolor\": \"#E1E5ED\", \"showgrid\": true, \"tickfont\": {\"color\": \"#4D5663\"}, \"title\": {\"font\": {\"color\": \"#4D5663\"}, \"text\": \"\"}, \"zerolinecolor\": \"#E1E5ED\"}, \"yaxis2\": {\"domain\": [0, 0.25], \"gridcolor\": \"#E1E5ED\", \"showgrid\": true, \"tickfont\": {\"color\": \"#4D5663\"}, \"title\": {\"font\": {\"color\": \"#4D5663\"}, \"text\": \"Spread\"}, \"zerolinecolor\": \"#E1E5ED\"}},\n",
       "                        {\"showLink\": true, \"linkText\": \"Export to plot.ly\", \"plotlyServerURL\": \"https://plot.ly\", \"responsive\": true}\n",
       "                    ).then(function(){\n",
       "                            \n",
       "var gd = document.getElementById('22b04fc5-c587-48c8-b3d2-b3a33d79696b');\n",
       "var x = new MutationObserver(function (mutations, observer) {{\n",
       "        var display = window.getComputedStyle(gd).display;\n",
       "        if (!display || display === 'none') {{\n",
       "            console.log([gd, 'removed!']);\n",
       "            Plotly.purge(gd);\n",
       "            observer.disconnect();\n",
       "        }}\n",
       "}});\n",
       "\n",
       "// Listen for the removal of the full notebook cells\n",
       "var notebookContainer = gd.closest('#notebook-container');\n",
       "if (notebookContainer) {{\n",
       "    x.observe(notebookContainer, {childList: true});\n",
       "}}\n",
       "\n",
       "// Listen for the clearing of the current output cell\n",
       "var outputEl = gd.closest('.output');\n",
       "if (outputEl) {{\n",
       "    x.observe(outputEl, {childList: true});\n",
       "}}\n",
       "\n",
       "                        })\n",
       "                };\n",
       "                });\n",
       "            </script>\n",
       "        </div>"
      ]
     },
     "metadata": {},
     "output_type": "display_data"
    }
   ],
   "source": [
    "df.iplot(kind=\"spread\")"
   ]
  },
  {
   "cell_type": "code",
   "execution_count": 54,
   "metadata": {},
   "outputs": [
    {
     "data": {
      "application/vnd.plotly.v1+json": {
       "config": {
        "linkText": "Export to plot.ly",
        "plotlyServerURL": "https://plot.ly",
        "showLink": true
       },
       "data": [
        {
         "histfunc": "count",
         "histnorm": "",
         "marker": {
          "color": "rgba(255, 153, 51, 1.0)",
          "line": {
           "color": "#4D5663",
           "width": 1.3
          }
         },
         "name": "IBM",
         "opacity": 0.8,
         "orientation": "v",
         "type": "histogram",
         "x": [
          -1.2868801566664638,
          -2.028366513807729,
          -2.760879106191367,
          -1.9911859649445645,
          -1.1698265723057135,
          -0.9720902802456763,
          -1.3893692343289523,
          0.15751532682256508,
          0.28067988699811575,
          -0.5107120093055321,
          -1.8063687051293358,
          -1.7921784377934262,
          -1.1044874291941618,
          -0.2664229033287746,
          -0.6256421886729924,
          0.4121968431481302,
          1.8992288911822006,
          0.4713284609322743,
          2.994948247125084,
          3.0066845652519816,
          4.428386071353853,
          4.91527793224154,
          5.9599498493520535,
          6.1134080683029515,
          5.3533745076686206,
          5.293323668532801,
          4.099962721172125,
          5.217635982306543,
          6.071263872872076,
          4.6433790700021245,
          3.7602602888241847,
          3.281740775327897,
          2.7404638966339827,
          3.3387539342756676,
          4.0286684579720395,
          5.549431907856821,
          7.7754320531931445,
          6.322731592099521,
          6.500348418463007,
          4.307960773824358,
          5.299420681700493,
          6.887429791634869,
          8.867227597756447,
          9.705505785295987,
          9.727310508705818,
          9.47542189494929,
          10.024088259089691,
          9.98684737225707,
          10.69468858425811,
          12.590123161193892,
          11.782826178393798,
          10.917174155836495,
          10.734616926162627,
          10.241322244735414,
          10.641312793916578,
          9.281628379084083,
          9.400145386809678,
          8.651862561935062,
          7.565414896511578,
          6.965260757342342,
          6.707417689495253,
          5.298031156312341,
          5.189613710611087,
          6.38226310279424,
          6.183136169656518,
          5.612166391713544,
          6.39114867505892,
          6.579941941996416,
          8.383442583844783,
          7.707907622852362,
          6.38780750561438,
          6.444029553587608,
          6.607992301383706,
          5.807273092823491,
          6.986991314869297,
          8.092324810185454,
          7.438659031910002,
          7.801618929657894,
          8.167147603397437,
          8.31903075035327,
          7.29850862750133,
          7.512739654299573,
          6.420792527152818,
          7.055018729110213,
          7.0770407319095945,
          7.117641048349709,
          7.345524557970403,
          5.752190402863436,
          6.273101375049812,
          6.278722472055344,
          5.7539515553200955,
          3.1068215726052926,
          2.7290057360970037,
          1.2653832609269167,
          2.2899432891116005,
          1.9511362641198013,
          1.5916454981489803,
          2.1430788859714105,
          2.542681463390741,
          1.530278277459552
         ]
        },
        {
         "histfunc": "count",
         "histnorm": "",
         "marker": {
          "color": "rgba(55, 128, 191, 1.0)",
          "line": {
           "color": "#4D5663",
           "width": 1.3
          }
         },
         "name": "MSFT",
         "opacity": 0.8,
         "orientation": "v",
         "type": "histogram",
         "x": [
          -0.14231784552685722,
          0.0038383488741102756,
          -1.394342441102017,
          0.05281310065044109,
          -1.2953856887317763,
          -0.23262923631253374,
          -2.5064608920511025,
          -3.6201295377974985,
          -2.959479810992466,
          -3.772544722719001,
          -3.0709588325198514,
          -2.0375398840254366,
          -2.1693398305300824,
          -3.2990288162994386,
          -4.890590132460698,
          -4.15033703004252,
          -4.176687297989628,
          -4.5205820294304235,
          -4.414951077438917,
          -4.950842185052673,
          -6.320562459093343,
          -6.44888710392168,
          -6.020839447515197,
          -5.785039010002954,
          -6.093129681526676,
          -6.634138955952207,
          -6.570694424396184,
          -6.521643404930816,
          -5.299024933004039,
          -6.0886710847423435,
          -5.881060365924777,
          -3.915482394403372,
          -3.9827955274268745,
          -4.147845784640805,
          -3.42504253118667,
          -4.40082690854008,
          -4.075525471295986,
          -2.861534944561367,
          -3.781912959044849,
          -4.333547172371902,
          -3.7095920728127374,
          -3.4750745616048015,
          -2.747492006580319,
          -0.9979818882593192,
          -1.0647188197146276,
          -0.8955434858458016,
          -0.6519956098049098,
          1.6492927283038028,
          3.387224087556209,
          4.513566073082565,
          5.430806739184705,
          4.907521152193672,
          2.8095620478423875,
          2.915435824696081,
          1.5200875838787369,
          2.429132108080452,
          3.7756335804841363,
          4.002064408796806,
          3.4628516327730687,
          3.214324464767252,
          3.8560726788603708,
          2.2554862113398633,
          2.9445092783273754,
          3.5262828903204313,
          2.463193248025804,
          1.7260733152151322,
          0.7398626546489155,
          0.4719722351730572,
          0.9991489857126875,
          1.9463121727900423,
          0.23353648657121595,
          1.0453540766324032,
          0.8125285169010912,
          0.21356493176886515,
          0.28570457417174555,
          0.11812423461881866,
          0.4917748669935742,
          0.36077971790123253,
          0.5972969247795444,
          0.7236739472521214,
          2.636233090974466,
          1.069513681161607,
          0.28665585447293573,
          0.19369838104339726,
          0.35621491824623663,
          3.048403464903692,
          4.677726795508604,
          4.894177005591278,
          4.787507408289258,
          4.951135431932031,
          4.884774009715971,
          3.5625808936247694,
          2.9640904467996405,
          2.6843113704032233,
          2.530433555830813,
          5.248023191199183,
          4.349788040925403,
          5.450810783635532,
          5.052823592404031,
          5.15929729082009
         ]
        },
        {
         "histfunc": "count",
         "histnorm": "",
         "marker": {
          "color": "rgba(50, 171, 96, 1.0)",
          "line": {
           "color": "#4D5663",
           "width": 1.3
          }
         },
         "name": "GOOG",
         "opacity": 0.8,
         "orientation": "v",
         "type": "histogram",
         "x": [
          0.887859548430912,
          -0.12442855812384623,
          0.31510584146026,
          -0.3620399760333849,
          0.060047799161180415,
          0.489542542000453,
          0.39864526286565544,
          -0.12691305706221562,
          -0.14653742623622149,
          -1.9942051171963504,
          -1.3676444884468961,
          -0.8372557932333661,
          -1.9188470342391222,
          -1.176425895752355,
          -0.5063944395571112,
          -0.6230886218617776,
          -0.6637716155230189,
          -0.44370395604865664,
          -1.0502230320712198,
          -1.884455201532628,
          -0.8465602088727773,
          -0.2594989167460039,
          -1.9955610009465663,
          -2.221501710910537,
          -3.217375118573837,
          -3.6208546163065196,
          -4.929555124356471,
          -4.840508167100383,
          -3.827535434970696,
          -3.867032210267071,
          -4.5063002992719685,
          -4.925453159939044,
          -4.174179782827053,
          -2.657263222654409,
          -4.307262797144048,
          -5.304732773389594,
          -4.618642038632928,
          -5.7364532527662195,
          -4.392594886900887,
          -4.4558778061555255,
          -4.9857689109230625,
          -4.156439892523207,
          -3.3815162927726474,
          -4.524633232529935,
          -2.1656811236745916,
          -3.1885135351785516,
          -3.9006128888640728,
          -4.077345971346925,
          -4.000916020536469,
          -4.4098462746028675,
          -5.639320258383571,
          -5.687101247473266,
          -5.0688162769214875,
          -5.728851900477398,
          -6.343303939209772,
          -9.328835099025895,
          -8.860782654790022,
          -8.766972470016524,
          -7.71034017674116,
          -7.34436940021025,
          -7.352338908426178,
          -5.660115446029203,
          -6.6854008273788335,
          -5.682223402388089,
          -6.9632825041098405,
          -6.678646553285244,
          -5.752049999433002,
          -6.881893383159216,
          -6.5453962916602375,
          -5.039119802550206,
          -5.338956969174161,
          -4.4834048889550315,
          -3.927119209210786,
          -4.914573738720649,
          -6.567959222482106,
          -7.620031172452751,
          -7.607736110887162,
          -7.5546361814823495,
          -7.144042517705126,
          -7.123148748328626,
          -6.136712449596261,
          -6.365268583170922,
          -7.46153901912162,
          -7.887593355698787,
          -7.24361705197415,
          -6.356909555910471,
          -5.176156220893024,
          -6.80156252352153,
          -6.802162108296153,
          -6.313537622663519,
          -3.5447733332150233,
          -3.9845629222544896,
          -2.854306918829467,
          -2.6727676110848138,
          -2.985194155696666,
          -1.9778983711938678,
          -2.829599717537466,
          -2.256304104822701,
          -3.0652309473468895,
          -3.641370706696887
         ]
        },
        {
         "histfunc": "count",
         "histnorm": "",
         "marker": {
          "color": "rgba(128, 0, 128, 1.0)",
          "line": {
           "color": "#4D5663",
           "width": 1.3
          }
         },
         "name": "VERZ",
         "opacity": 0.8,
         "orientation": "v",
         "type": "histogram",
         "x": [
          0.2048742448337656,
          0.3995130615403163,
          0.5136290915851257,
          0.02076516140369261,
          0.7226077593218854,
          0.05684612597054928,
          -2.290373173966028,
          -3.352705324762807,
          -3.7250925423200565,
          -4.793135650456053,
          -5.329050597202418,
          -4.387591592305006,
          -4.049448089904911,
          -5.709282777034537,
          -6.328159594193041,
          -5.224321790483151,
          -5.2544049851922985,
          -5.421682067272712,
          -5.453447794943075,
          -5.2185053146589,
          -5.352828044506808,
          -6.099418933938748,
          -5.385357244049113,
          -5.133670710990421,
          -4.985790773356901,
          -4.275721196167301,
          -4.568176178165343,
          -4.250215743788066,
          -2.6250793292773977,
          -1.4682659462139522,
          -2.1133744171717304,
          -2.3256163870395024,
          -2.5325475124338666,
          -2.8567767576541843,
          -2.1431314030437036,
          -1.7670788605729655,
          -2.296789904733288,
          -2.2121516024694006,
          -3.5342462146632085,
          -0.6964724804885365,
          1.3477234161467004,
          1.441712672948758,
          2.1058407403647976,
          1.9878836781924143,
          2.733661743162101,
          4.07587656098306,
          4.494268791352438,
          2.7551554418904525,
          3.4262226942585743,
          4.261906636597172,
          5.644921824628,
          4.413022382756968,
          5.910088337610661,
          6.542923789958097,
          6.312824948758883,
          7.0707387309998815,
          9.908110224085755,
          9.306542233112879,
          10.085829266774926,
          9.708254599022629,
          9.67875256616383,
          7.916943299423433,
          7.5583217288247715,
          8.46681747105512,
          9.205058014250898,
          7.777162993877683,
          7.405956989690508,
          8.820618268349833,
          8.580023758687686,
          7.351488938534795,
          4.329475295100899,
          3.2757851795090573,
          4.595116532455589,
          5.783659442360334,
          3.7878041018828923,
          3.044704452625716,
          2.0189657021517684,
          4.274722764937334,
          5.893714987065865,
          5.18398622503782,
          4.890734539739318,
          5.259914377771817,
          4.2388250269525924,
          2.228345073405111,
          1.0172014863258558,
          2.904580330298862,
          1.6375736383990258,
          1.6730927768195931,
          0.3295055389813142,
          1.1186980436244327,
          0.3825970786381174,
          0.2403846669254254,
          1.3424608810215752,
          2.0175060395052333,
          1.8490765888226344,
          2.361676998871574,
          2.3661487164680395,
          4.650347499849967,
          4.779357897092006,
          5.318865454818467
         ]
        },
        {
         "histfunc": "count",
         "histnorm": "",
         "marker": {
          "color": "rgba(219, 64, 82, 1.0)",
          "line": {
           "color": "#4D5663",
           "width": 1.3
          }
         },
         "name": "APPL",
         "opacity": 0.8,
         "orientation": "v",
         "type": "histogram",
         "x": [
          1.0819354668374346,
          2.4799376706733622,
          2.2268051364701633,
          1.0250862796132514,
          0.3554705098107952,
          0.7156871789501777,
          0.1067856256869062,
          -0.123407659403828,
          0.28296814854104424,
          0.49919665559686655,
          -0.006990933535996335,
          0.033384083208729,
          -0.08440237960348058,
          0.7897831313157041,
          1.5201787318987088,
          1.5475803170317657,
          0.8576482186298152,
          2.5467860395958803,
          3.993713288865485,
          4.567833775159525,
          5.183738002370754,
          6.092155689019387,
          6.1823362071732495,
          5.674471133357569,
          5.3441259995195045,
          5.617275592259908,
          6.783773732222309,
          7.198486019655446,
          7.145176329258773,
          6.543734446718874,
          7.312297808122165,
          7.223841848314789,
          7.9514779082905,
          8.561609308063588,
          9.738378487072284,
          9.075752793744627,
          9.831438453795284,
          8.516970286231762,
          8.252832558903457,
          9.533388230834202,
          9.67698655408267,
          10.86849174836057,
          10.669733608987032,
          9.989883871982169,
          8.670283109572248,
          9.577541757674734,
          8.881467530627548,
          10.376316257373494,
          9.81916422882076,
          10.225052700919383,
          10.056165673334721,
          11.05423378093204,
          11.438246334862646,
          10.468756699066553,
          9.87868872301803,
          8.76800846671155,
          6.684972121397745,
          8.078100249152664,
          6.3740120486351195,
          6.699908754451213,
          6.63902778498758,
          7.333955166310478,
          8.539313786810935,
          8.765231793823297,
          8.550945866671988,
          8.648688407218522,
          8.369870777573873,
          7.728510910650162,
          7.187302004909984,
          7.4427073016969105,
          9.038283728844396,
          11.127516915360015,
          12.176216508021733,
          13.642073852393995,
          13.114857135669329,
          13.832452593325161,
          14.912682023756759,
          15.357186361705619,
          17.058373360129018,
          18.476693401175936,
          18.172980321487877,
          19.516504578663504,
          18.750375542604836,
          19.83121087323503,
          20.970407888437194,
          20.46369062990867,
          20.493108587316645,
          19.42665903106606,
          18.742685639947105,
          18.034705834652556,
          18.052638546929252,
          16.476787278642664,
          16.81420963222878,
          15.856823228991814,
          13.806346247259345,
          14.896933576101397,
          15.749362202489804,
          16.287176408588053,
          15.628818851369322,
          15.302790607308463
         ]
        }
       ],
       "layout": {
        "barmode": "overlay",
        "legend": {
         "bgcolor": "#F5F6F9",
         "font": {
          "color": "#4D5663"
         }
        },
        "paper_bgcolor": "#F5F6F9",
        "plot_bgcolor": "#F5F6F9",
        "template": {
         "data": {
          "bar": [
           {
            "error_x": {
             "color": "#2a3f5f"
            },
            "error_y": {
             "color": "#2a3f5f"
            },
            "marker": {
             "line": {
              "color": "#E5ECF6",
              "width": 0.5
             }
            },
            "type": "bar"
           }
          ],
          "barpolar": [
           {
            "marker": {
             "line": {
              "color": "#E5ECF6",
              "width": 0.5
             }
            },
            "type": "barpolar"
           }
          ],
          "carpet": [
           {
            "aaxis": {
             "endlinecolor": "#2a3f5f",
             "gridcolor": "white",
             "linecolor": "white",
             "minorgridcolor": "white",
             "startlinecolor": "#2a3f5f"
            },
            "baxis": {
             "endlinecolor": "#2a3f5f",
             "gridcolor": "white",
             "linecolor": "white",
             "minorgridcolor": "white",
             "startlinecolor": "#2a3f5f"
            },
            "type": "carpet"
           }
          ],
          "choropleth": [
           {
            "colorbar": {
             "outlinewidth": 0,
             "ticks": ""
            },
            "type": "choropleth"
           }
          ],
          "contour": [
           {
            "colorbar": {
             "outlinewidth": 0,
             "ticks": ""
            },
            "colorscale": [
             [
              0,
              "#0d0887"
             ],
             [
              0.1111111111111111,
              "#46039f"
             ],
             [
              0.2222222222222222,
              "#7201a8"
             ],
             [
              0.3333333333333333,
              "#9c179e"
             ],
             [
              0.4444444444444444,
              "#bd3786"
             ],
             [
              0.5555555555555556,
              "#d8576b"
             ],
             [
              0.6666666666666666,
              "#ed7953"
             ],
             [
              0.7777777777777778,
              "#fb9f3a"
             ],
             [
              0.8888888888888888,
              "#fdca26"
             ],
             [
              1,
              "#f0f921"
             ]
            ],
            "type": "contour"
           }
          ],
          "contourcarpet": [
           {
            "colorbar": {
             "outlinewidth": 0,
             "ticks": ""
            },
            "type": "contourcarpet"
           }
          ],
          "heatmap": [
           {
            "colorbar": {
             "outlinewidth": 0,
             "ticks": ""
            },
            "colorscale": [
             [
              0,
              "#0d0887"
             ],
             [
              0.1111111111111111,
              "#46039f"
             ],
             [
              0.2222222222222222,
              "#7201a8"
             ],
             [
              0.3333333333333333,
              "#9c179e"
             ],
             [
              0.4444444444444444,
              "#bd3786"
             ],
             [
              0.5555555555555556,
              "#d8576b"
             ],
             [
              0.6666666666666666,
              "#ed7953"
             ],
             [
              0.7777777777777778,
              "#fb9f3a"
             ],
             [
              0.8888888888888888,
              "#fdca26"
             ],
             [
              1,
              "#f0f921"
             ]
            ],
            "type": "heatmap"
           }
          ],
          "heatmapgl": [
           {
            "colorbar": {
             "outlinewidth": 0,
             "ticks": ""
            },
            "colorscale": [
             [
              0,
              "#0d0887"
             ],
             [
              0.1111111111111111,
              "#46039f"
             ],
             [
              0.2222222222222222,
              "#7201a8"
             ],
             [
              0.3333333333333333,
              "#9c179e"
             ],
             [
              0.4444444444444444,
              "#bd3786"
             ],
             [
              0.5555555555555556,
              "#d8576b"
             ],
             [
              0.6666666666666666,
              "#ed7953"
             ],
             [
              0.7777777777777778,
              "#fb9f3a"
             ],
             [
              0.8888888888888888,
              "#fdca26"
             ],
             [
              1,
              "#f0f921"
             ]
            ],
            "type": "heatmapgl"
           }
          ],
          "histogram": [
           {
            "marker": {
             "colorbar": {
              "outlinewidth": 0,
              "ticks": ""
             }
            },
            "type": "histogram"
           }
          ],
          "histogram2d": [
           {
            "colorbar": {
             "outlinewidth": 0,
             "ticks": ""
            },
            "colorscale": [
             [
              0,
              "#0d0887"
             ],
             [
              0.1111111111111111,
              "#46039f"
             ],
             [
              0.2222222222222222,
              "#7201a8"
             ],
             [
              0.3333333333333333,
              "#9c179e"
             ],
             [
              0.4444444444444444,
              "#bd3786"
             ],
             [
              0.5555555555555556,
              "#d8576b"
             ],
             [
              0.6666666666666666,
              "#ed7953"
             ],
             [
              0.7777777777777778,
              "#fb9f3a"
             ],
             [
              0.8888888888888888,
              "#fdca26"
             ],
             [
              1,
              "#f0f921"
             ]
            ],
            "type": "histogram2d"
           }
          ],
          "histogram2dcontour": [
           {
            "colorbar": {
             "outlinewidth": 0,
             "ticks": ""
            },
            "colorscale": [
             [
              0,
              "#0d0887"
             ],
             [
              0.1111111111111111,
              "#46039f"
             ],
             [
              0.2222222222222222,
              "#7201a8"
             ],
             [
              0.3333333333333333,
              "#9c179e"
             ],
             [
              0.4444444444444444,
              "#bd3786"
             ],
             [
              0.5555555555555556,
              "#d8576b"
             ],
             [
              0.6666666666666666,
              "#ed7953"
             ],
             [
              0.7777777777777778,
              "#fb9f3a"
             ],
             [
              0.8888888888888888,
              "#fdca26"
             ],
             [
              1,
              "#f0f921"
             ]
            ],
            "type": "histogram2dcontour"
           }
          ],
          "mesh3d": [
           {
            "colorbar": {
             "outlinewidth": 0,
             "ticks": ""
            },
            "type": "mesh3d"
           }
          ],
          "parcoords": [
           {
            "line": {
             "colorbar": {
              "outlinewidth": 0,
              "ticks": ""
             }
            },
            "type": "parcoords"
           }
          ],
          "pie": [
           {
            "automargin": true,
            "type": "pie"
           }
          ],
          "scatter": [
           {
            "marker": {
             "colorbar": {
              "outlinewidth": 0,
              "ticks": ""
             }
            },
            "type": "scatter"
           }
          ],
          "scatter3d": [
           {
            "line": {
             "colorbar": {
              "outlinewidth": 0,
              "ticks": ""
             }
            },
            "marker": {
             "colorbar": {
              "outlinewidth": 0,
              "ticks": ""
             }
            },
            "type": "scatter3d"
           }
          ],
          "scattercarpet": [
           {
            "marker": {
             "colorbar": {
              "outlinewidth": 0,
              "ticks": ""
             }
            },
            "type": "scattercarpet"
           }
          ],
          "scattergeo": [
           {
            "marker": {
             "colorbar": {
              "outlinewidth": 0,
              "ticks": ""
             }
            },
            "type": "scattergeo"
           }
          ],
          "scattergl": [
           {
            "marker": {
             "colorbar": {
              "outlinewidth": 0,
              "ticks": ""
             }
            },
            "type": "scattergl"
           }
          ],
          "scattermapbox": [
           {
            "marker": {
             "colorbar": {
              "outlinewidth": 0,
              "ticks": ""
             }
            },
            "type": "scattermapbox"
           }
          ],
          "scatterpolar": [
           {
            "marker": {
             "colorbar": {
              "outlinewidth": 0,
              "ticks": ""
             }
            },
            "type": "scatterpolar"
           }
          ],
          "scatterpolargl": [
           {
            "marker": {
             "colorbar": {
              "outlinewidth": 0,
              "ticks": ""
             }
            },
            "type": "scatterpolargl"
           }
          ],
          "scatterternary": [
           {
            "marker": {
             "colorbar": {
              "outlinewidth": 0,
              "ticks": ""
             }
            },
            "type": "scatterternary"
           }
          ],
          "surface": [
           {
            "colorbar": {
             "outlinewidth": 0,
             "ticks": ""
            },
            "colorscale": [
             [
              0,
              "#0d0887"
             ],
             [
              0.1111111111111111,
              "#46039f"
             ],
             [
              0.2222222222222222,
              "#7201a8"
             ],
             [
              0.3333333333333333,
              "#9c179e"
             ],
             [
              0.4444444444444444,
              "#bd3786"
             ],
             [
              0.5555555555555556,
              "#d8576b"
             ],
             [
              0.6666666666666666,
              "#ed7953"
             ],
             [
              0.7777777777777778,
              "#fb9f3a"
             ],
             [
              0.8888888888888888,
              "#fdca26"
             ],
             [
              1,
              "#f0f921"
             ]
            ],
            "type": "surface"
           }
          ],
          "table": [
           {
            "cells": {
             "fill": {
              "color": "#EBF0F8"
             },
             "line": {
              "color": "white"
             }
            },
            "header": {
             "fill": {
              "color": "#C8D4E3"
             },
             "line": {
              "color": "white"
             }
            },
            "type": "table"
           }
          ]
         },
         "layout": {
          "annotationdefaults": {
           "arrowcolor": "#2a3f5f",
           "arrowhead": 0,
           "arrowwidth": 1
          },
          "coloraxis": {
           "colorbar": {
            "outlinewidth": 0,
            "ticks": ""
           }
          },
          "colorscale": {
           "diverging": [
            [
             0,
             "#8e0152"
            ],
            [
             0.1,
             "#c51b7d"
            ],
            [
             0.2,
             "#de77ae"
            ],
            [
             0.3,
             "#f1b6da"
            ],
            [
             0.4,
             "#fde0ef"
            ],
            [
             0.5,
             "#f7f7f7"
            ],
            [
             0.6,
             "#e6f5d0"
            ],
            [
             0.7,
             "#b8e186"
            ],
            [
             0.8,
             "#7fbc41"
            ],
            [
             0.9,
             "#4d9221"
            ],
            [
             1,
             "#276419"
            ]
           ],
           "sequential": [
            [
             0,
             "#0d0887"
            ],
            [
             0.1111111111111111,
             "#46039f"
            ],
            [
             0.2222222222222222,
             "#7201a8"
            ],
            [
             0.3333333333333333,
             "#9c179e"
            ],
            [
             0.4444444444444444,
             "#bd3786"
            ],
            [
             0.5555555555555556,
             "#d8576b"
            ],
            [
             0.6666666666666666,
             "#ed7953"
            ],
            [
             0.7777777777777778,
             "#fb9f3a"
            ],
            [
             0.8888888888888888,
             "#fdca26"
            ],
            [
             1,
             "#f0f921"
            ]
           ],
           "sequentialminus": [
            [
             0,
             "#0d0887"
            ],
            [
             0.1111111111111111,
             "#46039f"
            ],
            [
             0.2222222222222222,
             "#7201a8"
            ],
            [
             0.3333333333333333,
             "#9c179e"
            ],
            [
             0.4444444444444444,
             "#bd3786"
            ],
            [
             0.5555555555555556,
             "#d8576b"
            ],
            [
             0.6666666666666666,
             "#ed7953"
            ],
            [
             0.7777777777777778,
             "#fb9f3a"
            ],
            [
             0.8888888888888888,
             "#fdca26"
            ],
            [
             1,
             "#f0f921"
            ]
           ]
          },
          "colorway": [
           "#636efa",
           "#EF553B",
           "#00cc96",
           "#ab63fa",
           "#FFA15A",
           "#19d3f3",
           "#FF6692",
           "#B6E880",
           "#FF97FF",
           "#FECB52"
          ],
          "font": {
           "color": "#2a3f5f"
          },
          "geo": {
           "bgcolor": "white",
           "lakecolor": "white",
           "landcolor": "#E5ECF6",
           "showlakes": true,
           "showland": true,
           "subunitcolor": "white"
          },
          "hoverlabel": {
           "align": "left"
          },
          "hovermode": "closest",
          "mapbox": {
           "style": "light"
          },
          "paper_bgcolor": "white",
          "plot_bgcolor": "#E5ECF6",
          "polar": {
           "angularaxis": {
            "gridcolor": "white",
            "linecolor": "white",
            "ticks": ""
           },
           "bgcolor": "#E5ECF6",
           "radialaxis": {
            "gridcolor": "white",
            "linecolor": "white",
            "ticks": ""
           }
          },
          "scene": {
           "xaxis": {
            "backgroundcolor": "#E5ECF6",
            "gridcolor": "white",
            "gridwidth": 2,
            "linecolor": "white",
            "showbackground": true,
            "ticks": "",
            "zerolinecolor": "white"
           },
           "yaxis": {
            "backgroundcolor": "#E5ECF6",
            "gridcolor": "white",
            "gridwidth": 2,
            "linecolor": "white",
            "showbackground": true,
            "ticks": "",
            "zerolinecolor": "white"
           },
           "zaxis": {
            "backgroundcolor": "#E5ECF6",
            "gridcolor": "white",
            "gridwidth": 2,
            "linecolor": "white",
            "showbackground": true,
            "ticks": "",
            "zerolinecolor": "white"
           }
          },
          "shapedefaults": {
           "line": {
            "color": "#2a3f5f"
           }
          },
          "ternary": {
           "aaxis": {
            "gridcolor": "white",
            "linecolor": "white",
            "ticks": ""
           },
           "baxis": {
            "gridcolor": "white",
            "linecolor": "white",
            "ticks": ""
           },
           "bgcolor": "#E5ECF6",
           "caxis": {
            "gridcolor": "white",
            "linecolor": "white",
            "ticks": ""
           }
          },
          "title": {
           "x": 0.05
          },
          "xaxis": {
           "automargin": true,
           "gridcolor": "white",
           "linecolor": "white",
           "ticks": "",
           "title": {
            "standoff": 15
           },
           "zerolinecolor": "white",
           "zerolinewidth": 2
          },
          "yaxis": {
           "automargin": true,
           "gridcolor": "white",
           "linecolor": "white",
           "ticks": "",
           "title": {
            "standoff": 15
           },
           "zerolinecolor": "white",
           "zerolinewidth": 2
          }
         }
        },
        "title": {
         "font": {
          "color": "#4D5663"
         }
        },
        "xaxis": {
         "gridcolor": "#E1E5ED",
         "showgrid": true,
         "tickfont": {
          "color": "#4D5663"
         },
         "title": {
          "font": {
           "color": "#4D5663"
          },
          "text": ""
         },
         "zerolinecolor": "#E1E5ED"
        },
        "yaxis": {
         "gridcolor": "#E1E5ED",
         "showgrid": true,
         "tickfont": {
          "color": "#4D5663"
         },
         "title": {
          "font": {
           "color": "#4D5663"
          },
          "text": ""
         },
         "zerolinecolor": "#E1E5ED"
        }
       }
      },
      "text/html": [
       "<div>\n",
       "        \n",
       "        \n",
       "            <div id=\"a7ce3c0a-87a9-40d0-9dc2-0dbdf435a1c9\" class=\"plotly-graph-div\" style=\"height:525px; width:100%;\"></div>\n",
       "            <script type=\"text/javascript\">\n",
       "                require([\"plotly\"], function(Plotly) {\n",
       "                    window.PLOTLYENV=window.PLOTLYENV || {};\n",
       "                    window.PLOTLYENV.BASE_URL='https://plot.ly';\n",
       "                    \n",
       "                if (document.getElementById(\"a7ce3c0a-87a9-40d0-9dc2-0dbdf435a1c9\")) {\n",
       "                    Plotly.newPlot(\n",
       "                        'a7ce3c0a-87a9-40d0-9dc2-0dbdf435a1c9',\n",
       "                        [{\"histfunc\": \"count\", \"histnorm\": \"\", \"marker\": {\"color\": \"rgba(255, 153, 51, 1.0)\", \"line\": {\"color\": \"#4D5663\", \"width\": 1.3}}, \"name\": \"IBM\", \"opacity\": 0.8, \"orientation\": \"v\", \"type\": \"histogram\", \"x\": [-1.2868801566664638, -2.028366513807729, -2.760879106191367, -1.9911859649445645, -1.1698265723057135, -0.9720902802456763, -1.3893692343289523, 0.15751532682256508, 0.28067988699811575, -0.5107120093055321, -1.8063687051293358, -1.7921784377934262, -1.1044874291941618, -0.2664229033287746, -0.6256421886729924, 0.4121968431481302, 1.8992288911822006, 0.4713284609322743, 2.994948247125084, 3.0066845652519816, 4.428386071353853, 4.91527793224154, 5.9599498493520535, 6.1134080683029515, 5.3533745076686206, 5.293323668532801, 4.099962721172125, 5.217635982306543, 6.071263872872076, 4.6433790700021245, 3.7602602888241847, 3.281740775327897, 2.7404638966339827, 3.3387539342756676, 4.0286684579720395, 5.549431907856821, 7.7754320531931445, 6.322731592099521, 6.500348418463007, 4.307960773824358, 5.299420681700493, 6.887429791634869, 8.867227597756447, 9.705505785295987, 9.727310508705818, 9.47542189494929, 10.024088259089691, 9.98684737225707, 10.69468858425811, 12.590123161193892, 11.782826178393798, 10.917174155836495, 10.734616926162627, 10.241322244735414, 10.641312793916578, 9.281628379084083, 9.400145386809678, 8.651862561935062, 7.565414896511578, 6.965260757342342, 6.707417689495253, 5.298031156312341, 5.189613710611087, 6.38226310279424, 6.183136169656518, 5.612166391713544, 6.39114867505892, 6.579941941996416, 8.383442583844783, 7.707907622852362, 6.38780750561438, 6.444029553587608, 6.607992301383706, 5.807273092823491, 6.986991314869297, 8.092324810185454, 7.438659031910002, 7.801618929657894, 8.167147603397437, 8.31903075035327, 7.29850862750133, 7.512739654299573, 6.420792527152818, 7.055018729110213, 7.0770407319095945, 7.117641048349709, 7.345524557970403, 5.752190402863436, 6.273101375049812, 6.278722472055344, 5.7539515553200955, 3.1068215726052926, 2.7290057360970037, 1.2653832609269167, 2.2899432891116005, 1.9511362641198013, 1.5916454981489803, 2.1430788859714105, 2.542681463390741, 1.530278277459552]}, {\"histfunc\": \"count\", \"histnorm\": \"\", \"marker\": {\"color\": \"rgba(55, 128, 191, 1.0)\", \"line\": {\"color\": \"#4D5663\", \"width\": 1.3}}, \"name\": \"MSFT\", \"opacity\": 0.8, \"orientation\": \"v\", \"type\": \"histogram\", \"x\": [-0.14231784552685722, 0.0038383488741102756, -1.394342441102017, 0.05281310065044109, -1.2953856887317763, -0.23262923631253374, -2.5064608920511025, -3.6201295377974985, -2.959479810992466, -3.772544722719001, -3.0709588325198514, -2.0375398840254366, -2.1693398305300824, -3.2990288162994386, -4.890590132460698, -4.15033703004252, -4.176687297989628, -4.5205820294304235, -4.414951077438917, -4.950842185052673, -6.320562459093343, -6.44888710392168, -6.020839447515197, -5.785039010002954, -6.093129681526676, -6.634138955952207, -6.570694424396184, -6.521643404930816, -5.299024933004039, -6.0886710847423435, -5.881060365924777, -3.915482394403372, -3.9827955274268745, -4.147845784640805, -3.42504253118667, -4.40082690854008, -4.075525471295986, -2.861534944561367, -3.781912959044849, -4.333547172371902, -3.7095920728127374, -3.4750745616048015, -2.747492006580319, -0.9979818882593192, -1.0647188197146276, -0.8955434858458016, -0.6519956098049098, 1.6492927283038028, 3.387224087556209, 4.513566073082565, 5.430806739184705, 4.907521152193672, 2.8095620478423875, 2.915435824696081, 1.5200875838787369, 2.429132108080452, 3.7756335804841363, 4.002064408796806, 3.4628516327730687, 3.214324464767252, 3.8560726788603708, 2.2554862113398633, 2.9445092783273754, 3.5262828903204313, 2.463193248025804, 1.7260733152151322, 0.7398626546489155, 0.4719722351730572, 0.9991489857126875, 1.9463121727900423, 0.23353648657121595, 1.0453540766324032, 0.8125285169010912, 0.21356493176886515, 0.28570457417174555, 0.11812423461881866, 0.4917748669935742, 0.36077971790123253, 0.5972969247795444, 0.7236739472521214, 2.636233090974466, 1.069513681161607, 0.28665585447293573, 0.19369838104339726, 0.35621491824623663, 3.048403464903692, 4.677726795508604, 4.894177005591278, 4.787507408289258, 4.951135431932031, 4.884774009715971, 3.5625808936247694, 2.9640904467996405, 2.6843113704032233, 2.530433555830813, 5.248023191199183, 4.349788040925403, 5.450810783635532, 5.052823592404031, 5.15929729082009]}, {\"histfunc\": \"count\", \"histnorm\": \"\", \"marker\": {\"color\": \"rgba(50, 171, 96, 1.0)\", \"line\": {\"color\": \"#4D5663\", \"width\": 1.3}}, \"name\": \"GOOG\", \"opacity\": 0.8, \"orientation\": \"v\", \"type\": \"histogram\", \"x\": [0.887859548430912, -0.12442855812384623, 0.31510584146026, -0.3620399760333849, 0.060047799161180415, 0.489542542000453, 0.39864526286565544, -0.12691305706221562, -0.14653742623622149, -1.9942051171963504, -1.3676444884468961, -0.8372557932333661, -1.9188470342391222, -1.176425895752355, -0.5063944395571112, -0.6230886218617776, -0.6637716155230189, -0.44370395604865664, -1.0502230320712198, -1.884455201532628, -0.8465602088727773, -0.2594989167460039, -1.9955610009465663, -2.221501710910537, -3.217375118573837, -3.6208546163065196, -4.929555124356471, -4.840508167100383, -3.827535434970696, -3.867032210267071, -4.5063002992719685, -4.925453159939044, -4.174179782827053, -2.657263222654409, -4.307262797144048, -5.304732773389594, -4.618642038632928, -5.7364532527662195, -4.392594886900887, -4.4558778061555255, -4.9857689109230625, -4.156439892523207, -3.3815162927726474, -4.524633232529935, -2.1656811236745916, -3.1885135351785516, -3.9006128888640728, -4.077345971346925, -4.000916020536469, -4.4098462746028675, -5.639320258383571, -5.687101247473266, -5.0688162769214875, -5.728851900477398, -6.343303939209772, -9.328835099025895, -8.860782654790022, -8.766972470016524, -7.71034017674116, -7.34436940021025, -7.352338908426178, -5.660115446029203, -6.6854008273788335, -5.682223402388089, -6.9632825041098405, -6.678646553285244, -5.752049999433002, -6.881893383159216, -6.5453962916602375, -5.039119802550206, -5.338956969174161, -4.4834048889550315, -3.927119209210786, -4.914573738720649, -6.567959222482106, -7.620031172452751, -7.607736110887162, -7.5546361814823495, -7.144042517705126, -7.123148748328626, -6.136712449596261, -6.365268583170922, -7.46153901912162, -7.887593355698787, -7.24361705197415, -6.356909555910471, -5.176156220893024, -6.80156252352153, -6.802162108296153, -6.313537622663519, -3.5447733332150233, -3.9845629222544896, -2.854306918829467, -2.6727676110848138, -2.985194155696666, -1.9778983711938678, -2.829599717537466, -2.256304104822701, -3.0652309473468895, -3.641370706696887]}, {\"histfunc\": \"count\", \"histnorm\": \"\", \"marker\": {\"color\": \"rgba(128, 0, 128, 1.0)\", \"line\": {\"color\": \"#4D5663\", \"width\": 1.3}}, \"name\": \"VERZ\", \"opacity\": 0.8, \"orientation\": \"v\", \"type\": \"histogram\", \"x\": [0.2048742448337656, 0.3995130615403163, 0.5136290915851257, 0.02076516140369261, 0.7226077593218854, 0.05684612597054928, -2.290373173966028, -3.352705324762807, -3.7250925423200565, -4.793135650456053, -5.329050597202418, -4.387591592305006, -4.049448089904911, -5.709282777034537, -6.328159594193041, -5.224321790483151, -5.2544049851922985, -5.421682067272712, -5.453447794943075, -5.2185053146589, -5.352828044506808, -6.099418933938748, -5.385357244049113, -5.133670710990421, -4.985790773356901, -4.275721196167301, -4.568176178165343, -4.250215743788066, -2.6250793292773977, -1.4682659462139522, -2.1133744171717304, -2.3256163870395024, -2.5325475124338666, -2.8567767576541843, -2.1431314030437036, -1.7670788605729655, -2.296789904733288, -2.2121516024694006, -3.5342462146632085, -0.6964724804885365, 1.3477234161467004, 1.441712672948758, 2.1058407403647976, 1.9878836781924143, 2.733661743162101, 4.07587656098306, 4.494268791352438, 2.7551554418904525, 3.4262226942585743, 4.261906636597172, 5.644921824628, 4.413022382756968, 5.910088337610661, 6.542923789958097, 6.312824948758883, 7.0707387309998815, 9.908110224085755, 9.306542233112879, 10.085829266774926, 9.708254599022629, 9.67875256616383, 7.916943299423433, 7.5583217288247715, 8.46681747105512, 9.205058014250898, 7.777162993877683, 7.405956989690508, 8.820618268349833, 8.580023758687686, 7.351488938534795, 4.329475295100899, 3.2757851795090573, 4.595116532455589, 5.783659442360334, 3.7878041018828923, 3.044704452625716, 2.0189657021517684, 4.274722764937334, 5.893714987065865, 5.18398622503782, 4.890734539739318, 5.259914377771817, 4.2388250269525924, 2.228345073405111, 1.0172014863258558, 2.904580330298862, 1.6375736383990258, 1.6730927768195931, 0.3295055389813142, 1.1186980436244327, 0.3825970786381174, 0.2403846669254254, 1.3424608810215752, 2.0175060395052333, 1.8490765888226344, 2.361676998871574, 2.3661487164680395, 4.650347499849967, 4.779357897092006, 5.318865454818467]}, {\"histfunc\": \"count\", \"histnorm\": \"\", \"marker\": {\"color\": \"rgba(219, 64, 82, 1.0)\", \"line\": {\"color\": \"#4D5663\", \"width\": 1.3}}, \"name\": \"APPL\", \"opacity\": 0.8, \"orientation\": \"v\", \"type\": \"histogram\", \"x\": [1.0819354668374346, 2.4799376706733622, 2.2268051364701633, 1.0250862796132514, 0.3554705098107952, 0.7156871789501777, 0.1067856256869062, -0.123407659403828, 0.28296814854104424, 0.49919665559686655, -0.006990933535996335, 0.033384083208729, -0.08440237960348058, 0.7897831313157041, 1.5201787318987088, 1.5475803170317657, 0.8576482186298152, 2.5467860395958803, 3.993713288865485, 4.567833775159525, 5.183738002370754, 6.092155689019387, 6.1823362071732495, 5.674471133357569, 5.3441259995195045, 5.617275592259908, 6.783773732222309, 7.198486019655446, 7.145176329258773, 6.543734446718874, 7.312297808122165, 7.223841848314789, 7.9514779082905, 8.561609308063588, 9.738378487072284, 9.075752793744627, 9.831438453795284, 8.516970286231762, 8.252832558903457, 9.533388230834202, 9.67698655408267, 10.86849174836057, 10.669733608987032, 9.989883871982169, 8.670283109572248, 9.577541757674734, 8.881467530627548, 10.376316257373494, 9.81916422882076, 10.225052700919383, 10.056165673334721, 11.05423378093204, 11.438246334862646, 10.468756699066553, 9.87868872301803, 8.76800846671155, 6.684972121397745, 8.078100249152664, 6.3740120486351195, 6.699908754451213, 6.63902778498758, 7.333955166310478, 8.539313786810935, 8.765231793823297, 8.550945866671988, 8.648688407218522, 8.369870777573873, 7.728510910650162, 7.187302004909984, 7.4427073016969105, 9.038283728844396, 11.127516915360015, 12.176216508021733, 13.642073852393995, 13.114857135669329, 13.832452593325161, 14.912682023756759, 15.357186361705619, 17.058373360129018, 18.476693401175936, 18.172980321487877, 19.516504578663504, 18.750375542604836, 19.83121087323503, 20.970407888437194, 20.46369062990867, 20.493108587316645, 19.42665903106606, 18.742685639947105, 18.034705834652556, 18.052638546929252, 16.476787278642664, 16.81420963222878, 15.856823228991814, 13.806346247259345, 14.896933576101397, 15.749362202489804, 16.287176408588053, 15.628818851369322, 15.302790607308463]}],\n",
       "                        {\"barmode\": \"overlay\", \"legend\": {\"bgcolor\": \"#F5F6F9\", \"font\": {\"color\": \"#4D5663\"}}, \"paper_bgcolor\": \"#F5F6F9\", \"plot_bgcolor\": \"#F5F6F9\", \"template\": {\"data\": {\"bar\": [{\"error_x\": {\"color\": \"#2a3f5f\"}, \"error_y\": {\"color\": \"#2a3f5f\"}, \"marker\": {\"line\": {\"color\": \"#E5ECF6\", \"width\": 0.5}}, \"type\": \"bar\"}], \"barpolar\": [{\"marker\": {\"line\": {\"color\": \"#E5ECF6\", \"width\": 0.5}}, \"type\": \"barpolar\"}], \"carpet\": [{\"aaxis\": {\"endlinecolor\": \"#2a3f5f\", \"gridcolor\": \"white\", \"linecolor\": \"white\", \"minorgridcolor\": \"white\", \"startlinecolor\": \"#2a3f5f\"}, \"baxis\": {\"endlinecolor\": \"#2a3f5f\", \"gridcolor\": \"white\", \"linecolor\": \"white\", \"minorgridcolor\": \"white\", \"startlinecolor\": \"#2a3f5f\"}, \"type\": \"carpet\"}], \"choropleth\": [{\"colorbar\": {\"outlinewidth\": 0, \"ticks\": \"\"}, \"type\": \"choropleth\"}], \"contour\": [{\"colorbar\": {\"outlinewidth\": 0, \"ticks\": \"\"}, \"colorscale\": [[0.0, \"#0d0887\"], [0.1111111111111111, \"#46039f\"], [0.2222222222222222, \"#7201a8\"], [0.3333333333333333, \"#9c179e\"], [0.4444444444444444, \"#bd3786\"], [0.5555555555555556, \"#d8576b\"], [0.6666666666666666, \"#ed7953\"], [0.7777777777777778, \"#fb9f3a\"], [0.8888888888888888, \"#fdca26\"], [1.0, \"#f0f921\"]], \"type\": \"contour\"}], \"contourcarpet\": [{\"colorbar\": {\"outlinewidth\": 0, \"ticks\": \"\"}, \"type\": \"contourcarpet\"}], \"heatmap\": [{\"colorbar\": {\"outlinewidth\": 0, \"ticks\": \"\"}, \"colorscale\": [[0.0, \"#0d0887\"], [0.1111111111111111, \"#46039f\"], [0.2222222222222222, \"#7201a8\"], [0.3333333333333333, \"#9c179e\"], [0.4444444444444444, \"#bd3786\"], [0.5555555555555556, \"#d8576b\"], [0.6666666666666666, \"#ed7953\"], [0.7777777777777778, \"#fb9f3a\"], [0.8888888888888888, \"#fdca26\"], [1.0, \"#f0f921\"]], \"type\": \"heatmap\"}], \"heatmapgl\": [{\"colorbar\": {\"outlinewidth\": 0, \"ticks\": \"\"}, \"colorscale\": [[0.0, \"#0d0887\"], [0.1111111111111111, \"#46039f\"], [0.2222222222222222, \"#7201a8\"], [0.3333333333333333, \"#9c179e\"], [0.4444444444444444, \"#bd3786\"], [0.5555555555555556, \"#d8576b\"], [0.6666666666666666, \"#ed7953\"], [0.7777777777777778, \"#fb9f3a\"], [0.8888888888888888, \"#fdca26\"], [1.0, \"#f0f921\"]], \"type\": \"heatmapgl\"}], \"histogram\": [{\"marker\": {\"colorbar\": {\"outlinewidth\": 0, \"ticks\": \"\"}}, \"type\": \"histogram\"}], \"histogram2d\": [{\"colorbar\": {\"outlinewidth\": 0, \"ticks\": \"\"}, \"colorscale\": [[0.0, \"#0d0887\"], [0.1111111111111111, \"#46039f\"], [0.2222222222222222, \"#7201a8\"], [0.3333333333333333, \"#9c179e\"], [0.4444444444444444, \"#bd3786\"], [0.5555555555555556, \"#d8576b\"], [0.6666666666666666, \"#ed7953\"], [0.7777777777777778, \"#fb9f3a\"], [0.8888888888888888, \"#fdca26\"], [1.0, \"#f0f921\"]], \"type\": \"histogram2d\"}], \"histogram2dcontour\": [{\"colorbar\": {\"outlinewidth\": 0, \"ticks\": \"\"}, \"colorscale\": [[0.0, \"#0d0887\"], [0.1111111111111111, \"#46039f\"], [0.2222222222222222, \"#7201a8\"], [0.3333333333333333, \"#9c179e\"], [0.4444444444444444, \"#bd3786\"], [0.5555555555555556, \"#d8576b\"], [0.6666666666666666, \"#ed7953\"], [0.7777777777777778, \"#fb9f3a\"], [0.8888888888888888, \"#fdca26\"], [1.0, \"#f0f921\"]], \"type\": \"histogram2dcontour\"}], \"mesh3d\": [{\"colorbar\": {\"outlinewidth\": 0, \"ticks\": \"\"}, \"type\": \"mesh3d\"}], \"parcoords\": [{\"line\": {\"colorbar\": {\"outlinewidth\": 0, \"ticks\": \"\"}}, \"type\": \"parcoords\"}], \"pie\": [{\"automargin\": true, \"type\": \"pie\"}], \"scatter\": [{\"marker\": {\"colorbar\": {\"outlinewidth\": 0, \"ticks\": \"\"}}, \"type\": \"scatter\"}], \"scatter3d\": [{\"line\": {\"colorbar\": {\"outlinewidth\": 0, \"ticks\": \"\"}}, \"marker\": {\"colorbar\": {\"outlinewidth\": 0, \"ticks\": \"\"}}, \"type\": \"scatter3d\"}], \"scattercarpet\": [{\"marker\": {\"colorbar\": {\"outlinewidth\": 0, \"ticks\": \"\"}}, \"type\": \"scattercarpet\"}], \"scattergeo\": [{\"marker\": {\"colorbar\": {\"outlinewidth\": 0, \"ticks\": \"\"}}, \"type\": \"scattergeo\"}], \"scattergl\": [{\"marker\": {\"colorbar\": {\"outlinewidth\": 0, \"ticks\": \"\"}}, \"type\": \"scattergl\"}], \"scattermapbox\": [{\"marker\": {\"colorbar\": {\"outlinewidth\": 0, \"ticks\": \"\"}}, \"type\": \"scattermapbox\"}], \"scatterpolar\": [{\"marker\": {\"colorbar\": {\"outlinewidth\": 0, \"ticks\": \"\"}}, \"type\": \"scatterpolar\"}], \"scatterpolargl\": [{\"marker\": {\"colorbar\": {\"outlinewidth\": 0, \"ticks\": \"\"}}, \"type\": \"scatterpolargl\"}], \"scatterternary\": [{\"marker\": {\"colorbar\": {\"outlinewidth\": 0, \"ticks\": \"\"}}, \"type\": \"scatterternary\"}], \"surface\": [{\"colorbar\": {\"outlinewidth\": 0, \"ticks\": \"\"}, \"colorscale\": [[0.0, \"#0d0887\"], [0.1111111111111111, \"#46039f\"], [0.2222222222222222, \"#7201a8\"], [0.3333333333333333, \"#9c179e\"], [0.4444444444444444, \"#bd3786\"], [0.5555555555555556, \"#d8576b\"], [0.6666666666666666, \"#ed7953\"], [0.7777777777777778, \"#fb9f3a\"], [0.8888888888888888, \"#fdca26\"], [1.0, \"#f0f921\"]], \"type\": \"surface\"}], \"table\": [{\"cells\": {\"fill\": {\"color\": \"#EBF0F8\"}, \"line\": {\"color\": \"white\"}}, \"header\": {\"fill\": {\"color\": \"#C8D4E3\"}, \"line\": {\"color\": \"white\"}}, \"type\": \"table\"}]}, \"layout\": {\"annotationdefaults\": {\"arrowcolor\": \"#2a3f5f\", \"arrowhead\": 0, \"arrowwidth\": 1}, \"coloraxis\": {\"colorbar\": {\"outlinewidth\": 0, \"ticks\": \"\"}}, \"colorscale\": {\"diverging\": [[0, \"#8e0152\"], [0.1, \"#c51b7d\"], [0.2, \"#de77ae\"], [0.3, \"#f1b6da\"], [0.4, \"#fde0ef\"], [0.5, \"#f7f7f7\"], [0.6, \"#e6f5d0\"], [0.7, \"#b8e186\"], [0.8, \"#7fbc41\"], [0.9, \"#4d9221\"], [1, \"#276419\"]], \"sequential\": [[0.0, \"#0d0887\"], [0.1111111111111111, \"#46039f\"], [0.2222222222222222, \"#7201a8\"], [0.3333333333333333, \"#9c179e\"], [0.4444444444444444, \"#bd3786\"], [0.5555555555555556, \"#d8576b\"], [0.6666666666666666, \"#ed7953\"], [0.7777777777777778, \"#fb9f3a\"], [0.8888888888888888, \"#fdca26\"], [1.0, \"#f0f921\"]], \"sequentialminus\": [[0.0, \"#0d0887\"], [0.1111111111111111, \"#46039f\"], [0.2222222222222222, \"#7201a8\"], [0.3333333333333333, \"#9c179e\"], [0.4444444444444444, \"#bd3786\"], [0.5555555555555556, \"#d8576b\"], [0.6666666666666666, \"#ed7953\"], [0.7777777777777778, \"#fb9f3a\"], [0.8888888888888888, \"#fdca26\"], [1.0, \"#f0f921\"]]}, \"colorway\": [\"#636efa\", \"#EF553B\", \"#00cc96\", \"#ab63fa\", \"#FFA15A\", \"#19d3f3\", \"#FF6692\", \"#B6E880\", \"#FF97FF\", \"#FECB52\"], \"font\": {\"color\": \"#2a3f5f\"}, \"geo\": {\"bgcolor\": \"white\", \"lakecolor\": \"white\", \"landcolor\": \"#E5ECF6\", \"showlakes\": true, \"showland\": true, \"subunitcolor\": \"white\"}, \"hoverlabel\": {\"align\": \"left\"}, \"hovermode\": \"closest\", \"mapbox\": {\"style\": \"light\"}, \"paper_bgcolor\": \"white\", \"plot_bgcolor\": \"#E5ECF6\", \"polar\": {\"angularaxis\": {\"gridcolor\": \"white\", \"linecolor\": \"white\", \"ticks\": \"\"}, \"bgcolor\": \"#E5ECF6\", \"radialaxis\": {\"gridcolor\": \"white\", \"linecolor\": \"white\", \"ticks\": \"\"}}, \"scene\": {\"xaxis\": {\"backgroundcolor\": \"#E5ECF6\", \"gridcolor\": \"white\", \"gridwidth\": 2, \"linecolor\": \"white\", \"showbackground\": true, \"ticks\": \"\", \"zerolinecolor\": \"white\"}, \"yaxis\": {\"backgroundcolor\": \"#E5ECF6\", \"gridcolor\": \"white\", \"gridwidth\": 2, \"linecolor\": \"white\", \"showbackground\": true, \"ticks\": \"\", \"zerolinecolor\": \"white\"}, \"zaxis\": {\"backgroundcolor\": \"#E5ECF6\", \"gridcolor\": \"white\", \"gridwidth\": 2, \"linecolor\": \"white\", \"showbackground\": true, \"ticks\": \"\", \"zerolinecolor\": \"white\"}}, \"shapedefaults\": {\"line\": {\"color\": \"#2a3f5f\"}}, \"ternary\": {\"aaxis\": {\"gridcolor\": \"white\", \"linecolor\": \"white\", \"ticks\": \"\"}, \"baxis\": {\"gridcolor\": \"white\", \"linecolor\": \"white\", \"ticks\": \"\"}, \"bgcolor\": \"#E5ECF6\", \"caxis\": {\"gridcolor\": \"white\", \"linecolor\": \"white\", \"ticks\": \"\"}}, \"title\": {\"x\": 0.05}, \"xaxis\": {\"automargin\": true, \"gridcolor\": \"white\", \"linecolor\": \"white\", \"ticks\": \"\", \"title\": {\"standoff\": 15}, \"zerolinecolor\": \"white\", \"zerolinewidth\": 2}, \"yaxis\": {\"automargin\": true, \"gridcolor\": \"white\", \"linecolor\": \"white\", \"ticks\": \"\", \"title\": {\"standoff\": 15}, \"zerolinecolor\": \"white\", \"zerolinewidth\": 2}}}, \"title\": {\"font\": {\"color\": \"#4D5663\"}}, \"xaxis\": {\"gridcolor\": \"#E1E5ED\", \"showgrid\": true, \"tickfont\": {\"color\": \"#4D5663\"}, \"title\": {\"font\": {\"color\": \"#4D5663\"}, \"text\": \"\"}, \"zerolinecolor\": \"#E1E5ED\"}, \"yaxis\": {\"gridcolor\": \"#E1E5ED\", \"showgrid\": true, \"tickfont\": {\"color\": \"#4D5663\"}, \"title\": {\"font\": {\"color\": \"#4D5663\"}, \"text\": \"\"}, \"zerolinecolor\": \"#E1E5ED\"}},\n",
       "                        {\"showLink\": true, \"linkText\": \"Export to plot.ly\", \"plotlyServerURL\": \"https://plot.ly\", \"responsive\": true}\n",
       "                    ).then(function(){\n",
       "                            \n",
       "var gd = document.getElementById('a7ce3c0a-87a9-40d0-9dc2-0dbdf435a1c9');\n",
       "var x = new MutationObserver(function (mutations, observer) {{\n",
       "        var display = window.getComputedStyle(gd).display;\n",
       "        if (!display || display === 'none') {{\n",
       "            console.log([gd, 'removed!']);\n",
       "            Plotly.purge(gd);\n",
       "            observer.disconnect();\n",
       "        }}\n",
       "}});\n",
       "\n",
       "// Listen for the removal of the full notebook cells\n",
       "var notebookContainer = gd.closest('#notebook-container');\n",
       "if (notebookContainer) {{\n",
       "    x.observe(notebookContainer, {childList: true});\n",
       "}}\n",
       "\n",
       "// Listen for the clearing of the current output cell\n",
       "var outputEl = gd.closest('.output');\n",
       "if (outputEl) {{\n",
       "    x.observe(outputEl, {childList: true});\n",
       "}}\n",
       "\n",
       "                        })\n",
       "                };\n",
       "                });\n",
       "            </script>\n",
       "        </div>"
      ]
     },
     "metadata": {},
     "output_type": "display_data"
    }
   ],
   "source": [
    "df.iplot(kind='histogram',)"
   ]
  },
  {
   "cell_type": "code",
   "execution_count": 59,
   "metadata": {},
   "outputs": [
    {
     "data": {
      "application/vnd.plotly.v1+json": {
       "config": {
        "linkText": "Export to plot.ly",
        "plotlyServerURL": "https://plot.ly",
        "showLink": true
       },
       "data": [
        {
         "histfunc": "count",
         "histnorm": "",
         "marker": {
          "color": "rgba(255, 153, 51, 1.0)",
          "line": {
           "color": "#4D5663",
           "width": 1.3
          }
         },
         "name": "IBM",
         "nbinsx": 20,
         "opacity": 0.8,
         "orientation": "v",
         "type": "histogram",
         "x": [
          -1.2868801566664638,
          -2.028366513807729,
          -2.760879106191367,
          -1.9911859649445645,
          -1.1698265723057135,
          -0.9720902802456763,
          -1.3893692343289523,
          0.15751532682256508,
          0.28067988699811575,
          -0.5107120093055321,
          -1.8063687051293358,
          -1.7921784377934262,
          -1.1044874291941618,
          -0.2664229033287746,
          -0.6256421886729924,
          0.4121968431481302,
          1.8992288911822006,
          0.4713284609322743,
          2.994948247125084,
          3.0066845652519816,
          4.428386071353853,
          4.91527793224154,
          5.9599498493520535,
          6.1134080683029515,
          5.3533745076686206,
          5.293323668532801,
          4.099962721172125,
          5.217635982306543,
          6.071263872872076,
          4.6433790700021245,
          3.7602602888241847,
          3.281740775327897,
          2.7404638966339827,
          3.3387539342756676,
          4.0286684579720395,
          5.549431907856821,
          7.7754320531931445,
          6.322731592099521,
          6.500348418463007,
          4.307960773824358,
          5.299420681700493,
          6.887429791634869,
          8.867227597756447,
          9.705505785295987,
          9.727310508705818,
          9.47542189494929,
          10.024088259089691,
          9.98684737225707,
          10.69468858425811,
          12.590123161193892,
          11.782826178393798,
          10.917174155836495,
          10.734616926162627,
          10.241322244735414,
          10.641312793916578,
          9.281628379084083,
          9.400145386809678,
          8.651862561935062,
          7.565414896511578,
          6.965260757342342,
          6.707417689495253,
          5.298031156312341,
          5.189613710611087,
          6.38226310279424,
          6.183136169656518,
          5.612166391713544,
          6.39114867505892,
          6.579941941996416,
          8.383442583844783,
          7.707907622852362,
          6.38780750561438,
          6.444029553587608,
          6.607992301383706,
          5.807273092823491,
          6.986991314869297,
          8.092324810185454,
          7.438659031910002,
          7.801618929657894,
          8.167147603397437,
          8.31903075035327,
          7.29850862750133,
          7.512739654299573,
          6.420792527152818,
          7.055018729110213,
          7.0770407319095945,
          7.117641048349709,
          7.345524557970403,
          5.752190402863436,
          6.273101375049812,
          6.278722472055344,
          5.7539515553200955,
          3.1068215726052926,
          2.7290057360970037,
          1.2653832609269167,
          2.2899432891116005,
          1.9511362641198013,
          1.5916454981489803,
          2.1430788859714105,
          2.542681463390741,
          1.530278277459552
         ]
        },
        {
         "histfunc": "count",
         "histnorm": "",
         "marker": {
          "color": "rgba(55, 128, 191, 1.0)",
          "line": {
           "color": "#4D5663",
           "width": 1.3
          }
         },
         "name": "MSFT",
         "nbinsx": 20,
         "opacity": 0.8,
         "orientation": "v",
         "type": "histogram",
         "x": [
          -0.14231784552685722,
          0.0038383488741102756,
          -1.394342441102017,
          0.05281310065044109,
          -1.2953856887317763,
          -0.23262923631253374,
          -2.5064608920511025,
          -3.6201295377974985,
          -2.959479810992466,
          -3.772544722719001,
          -3.0709588325198514,
          -2.0375398840254366,
          -2.1693398305300824,
          -3.2990288162994386,
          -4.890590132460698,
          -4.15033703004252,
          -4.176687297989628,
          -4.5205820294304235,
          -4.414951077438917,
          -4.950842185052673,
          -6.320562459093343,
          -6.44888710392168,
          -6.020839447515197,
          -5.785039010002954,
          -6.093129681526676,
          -6.634138955952207,
          -6.570694424396184,
          -6.521643404930816,
          -5.299024933004039,
          -6.0886710847423435,
          -5.881060365924777,
          -3.915482394403372,
          -3.9827955274268745,
          -4.147845784640805,
          -3.42504253118667,
          -4.40082690854008,
          -4.075525471295986,
          -2.861534944561367,
          -3.781912959044849,
          -4.333547172371902,
          -3.7095920728127374,
          -3.4750745616048015,
          -2.747492006580319,
          -0.9979818882593192,
          -1.0647188197146276,
          -0.8955434858458016,
          -0.6519956098049098,
          1.6492927283038028,
          3.387224087556209,
          4.513566073082565,
          5.430806739184705,
          4.907521152193672,
          2.8095620478423875,
          2.915435824696081,
          1.5200875838787369,
          2.429132108080452,
          3.7756335804841363,
          4.002064408796806,
          3.4628516327730687,
          3.214324464767252,
          3.8560726788603708,
          2.2554862113398633,
          2.9445092783273754,
          3.5262828903204313,
          2.463193248025804,
          1.7260733152151322,
          0.7398626546489155,
          0.4719722351730572,
          0.9991489857126875,
          1.9463121727900423,
          0.23353648657121595,
          1.0453540766324032,
          0.8125285169010912,
          0.21356493176886515,
          0.28570457417174555,
          0.11812423461881866,
          0.4917748669935742,
          0.36077971790123253,
          0.5972969247795444,
          0.7236739472521214,
          2.636233090974466,
          1.069513681161607,
          0.28665585447293573,
          0.19369838104339726,
          0.35621491824623663,
          3.048403464903692,
          4.677726795508604,
          4.894177005591278,
          4.787507408289258,
          4.951135431932031,
          4.884774009715971,
          3.5625808936247694,
          2.9640904467996405,
          2.6843113704032233,
          2.530433555830813,
          5.248023191199183,
          4.349788040925403,
          5.450810783635532,
          5.052823592404031,
          5.15929729082009
         ]
        },
        {
         "histfunc": "count",
         "histnorm": "",
         "marker": {
          "color": "rgba(50, 171, 96, 1.0)",
          "line": {
           "color": "#4D5663",
           "width": 1.3
          }
         },
         "name": "GOOG",
         "nbinsx": 20,
         "opacity": 0.8,
         "orientation": "v",
         "type": "histogram",
         "x": [
          0.887859548430912,
          -0.12442855812384623,
          0.31510584146026,
          -0.3620399760333849,
          0.060047799161180415,
          0.489542542000453,
          0.39864526286565544,
          -0.12691305706221562,
          -0.14653742623622149,
          -1.9942051171963504,
          -1.3676444884468961,
          -0.8372557932333661,
          -1.9188470342391222,
          -1.176425895752355,
          -0.5063944395571112,
          -0.6230886218617776,
          -0.6637716155230189,
          -0.44370395604865664,
          -1.0502230320712198,
          -1.884455201532628,
          -0.8465602088727773,
          -0.2594989167460039,
          -1.9955610009465663,
          -2.221501710910537,
          -3.217375118573837,
          -3.6208546163065196,
          -4.929555124356471,
          -4.840508167100383,
          -3.827535434970696,
          -3.867032210267071,
          -4.5063002992719685,
          -4.925453159939044,
          -4.174179782827053,
          -2.657263222654409,
          -4.307262797144048,
          -5.304732773389594,
          -4.618642038632928,
          -5.7364532527662195,
          -4.392594886900887,
          -4.4558778061555255,
          -4.9857689109230625,
          -4.156439892523207,
          -3.3815162927726474,
          -4.524633232529935,
          -2.1656811236745916,
          -3.1885135351785516,
          -3.9006128888640728,
          -4.077345971346925,
          -4.000916020536469,
          -4.4098462746028675,
          -5.639320258383571,
          -5.687101247473266,
          -5.0688162769214875,
          -5.728851900477398,
          -6.343303939209772,
          -9.328835099025895,
          -8.860782654790022,
          -8.766972470016524,
          -7.71034017674116,
          -7.34436940021025,
          -7.352338908426178,
          -5.660115446029203,
          -6.6854008273788335,
          -5.682223402388089,
          -6.9632825041098405,
          -6.678646553285244,
          -5.752049999433002,
          -6.881893383159216,
          -6.5453962916602375,
          -5.039119802550206,
          -5.338956969174161,
          -4.4834048889550315,
          -3.927119209210786,
          -4.914573738720649,
          -6.567959222482106,
          -7.620031172452751,
          -7.607736110887162,
          -7.5546361814823495,
          -7.144042517705126,
          -7.123148748328626,
          -6.136712449596261,
          -6.365268583170922,
          -7.46153901912162,
          -7.887593355698787,
          -7.24361705197415,
          -6.356909555910471,
          -5.176156220893024,
          -6.80156252352153,
          -6.802162108296153,
          -6.313537622663519,
          -3.5447733332150233,
          -3.9845629222544896,
          -2.854306918829467,
          -2.6727676110848138,
          -2.985194155696666,
          -1.9778983711938678,
          -2.829599717537466,
          -2.256304104822701,
          -3.0652309473468895,
          -3.641370706696887
         ]
        },
        {
         "histfunc": "count",
         "histnorm": "",
         "marker": {
          "color": "rgba(128, 0, 128, 1.0)",
          "line": {
           "color": "#4D5663",
           "width": 1.3
          }
         },
         "name": "VERZ",
         "nbinsx": 20,
         "opacity": 0.8,
         "orientation": "v",
         "type": "histogram",
         "x": [
          0.2048742448337656,
          0.3995130615403163,
          0.5136290915851257,
          0.02076516140369261,
          0.7226077593218854,
          0.05684612597054928,
          -2.290373173966028,
          -3.352705324762807,
          -3.7250925423200565,
          -4.793135650456053,
          -5.329050597202418,
          -4.387591592305006,
          -4.049448089904911,
          -5.709282777034537,
          -6.328159594193041,
          -5.224321790483151,
          -5.2544049851922985,
          -5.421682067272712,
          -5.453447794943075,
          -5.2185053146589,
          -5.352828044506808,
          -6.099418933938748,
          -5.385357244049113,
          -5.133670710990421,
          -4.985790773356901,
          -4.275721196167301,
          -4.568176178165343,
          -4.250215743788066,
          -2.6250793292773977,
          -1.4682659462139522,
          -2.1133744171717304,
          -2.3256163870395024,
          -2.5325475124338666,
          -2.8567767576541843,
          -2.1431314030437036,
          -1.7670788605729655,
          -2.296789904733288,
          -2.2121516024694006,
          -3.5342462146632085,
          -0.6964724804885365,
          1.3477234161467004,
          1.441712672948758,
          2.1058407403647976,
          1.9878836781924143,
          2.733661743162101,
          4.07587656098306,
          4.494268791352438,
          2.7551554418904525,
          3.4262226942585743,
          4.261906636597172,
          5.644921824628,
          4.413022382756968,
          5.910088337610661,
          6.542923789958097,
          6.312824948758883,
          7.0707387309998815,
          9.908110224085755,
          9.306542233112879,
          10.085829266774926,
          9.708254599022629,
          9.67875256616383,
          7.916943299423433,
          7.5583217288247715,
          8.46681747105512,
          9.205058014250898,
          7.777162993877683,
          7.405956989690508,
          8.820618268349833,
          8.580023758687686,
          7.351488938534795,
          4.329475295100899,
          3.2757851795090573,
          4.595116532455589,
          5.783659442360334,
          3.7878041018828923,
          3.044704452625716,
          2.0189657021517684,
          4.274722764937334,
          5.893714987065865,
          5.18398622503782,
          4.890734539739318,
          5.259914377771817,
          4.2388250269525924,
          2.228345073405111,
          1.0172014863258558,
          2.904580330298862,
          1.6375736383990258,
          1.6730927768195931,
          0.3295055389813142,
          1.1186980436244327,
          0.3825970786381174,
          0.2403846669254254,
          1.3424608810215752,
          2.0175060395052333,
          1.8490765888226344,
          2.361676998871574,
          2.3661487164680395,
          4.650347499849967,
          4.779357897092006,
          5.318865454818467
         ]
        },
        {
         "histfunc": "count",
         "histnorm": "",
         "marker": {
          "color": "rgba(219, 64, 82, 1.0)",
          "line": {
           "color": "#4D5663",
           "width": 1.3
          }
         },
         "name": "APPL",
         "nbinsx": 20,
         "opacity": 0.8,
         "orientation": "v",
         "type": "histogram",
         "x": [
          1.0819354668374346,
          2.4799376706733622,
          2.2268051364701633,
          1.0250862796132514,
          0.3554705098107952,
          0.7156871789501777,
          0.1067856256869062,
          -0.123407659403828,
          0.28296814854104424,
          0.49919665559686655,
          -0.006990933535996335,
          0.033384083208729,
          -0.08440237960348058,
          0.7897831313157041,
          1.5201787318987088,
          1.5475803170317657,
          0.8576482186298152,
          2.5467860395958803,
          3.993713288865485,
          4.567833775159525,
          5.183738002370754,
          6.092155689019387,
          6.1823362071732495,
          5.674471133357569,
          5.3441259995195045,
          5.617275592259908,
          6.783773732222309,
          7.198486019655446,
          7.145176329258773,
          6.543734446718874,
          7.312297808122165,
          7.223841848314789,
          7.9514779082905,
          8.561609308063588,
          9.738378487072284,
          9.075752793744627,
          9.831438453795284,
          8.516970286231762,
          8.252832558903457,
          9.533388230834202,
          9.67698655408267,
          10.86849174836057,
          10.669733608987032,
          9.989883871982169,
          8.670283109572248,
          9.577541757674734,
          8.881467530627548,
          10.376316257373494,
          9.81916422882076,
          10.225052700919383,
          10.056165673334721,
          11.05423378093204,
          11.438246334862646,
          10.468756699066553,
          9.87868872301803,
          8.76800846671155,
          6.684972121397745,
          8.078100249152664,
          6.3740120486351195,
          6.699908754451213,
          6.63902778498758,
          7.333955166310478,
          8.539313786810935,
          8.765231793823297,
          8.550945866671988,
          8.648688407218522,
          8.369870777573873,
          7.728510910650162,
          7.187302004909984,
          7.4427073016969105,
          9.038283728844396,
          11.127516915360015,
          12.176216508021733,
          13.642073852393995,
          13.114857135669329,
          13.832452593325161,
          14.912682023756759,
          15.357186361705619,
          17.058373360129018,
          18.476693401175936,
          18.172980321487877,
          19.516504578663504,
          18.750375542604836,
          19.83121087323503,
          20.970407888437194,
          20.46369062990867,
          20.493108587316645,
          19.42665903106606,
          18.742685639947105,
          18.034705834652556,
          18.052638546929252,
          16.476787278642664,
          16.81420963222878,
          15.856823228991814,
          13.806346247259345,
          14.896933576101397,
          15.749362202489804,
          16.287176408588053,
          15.628818851369322,
          15.302790607308463
         ]
        }
       ],
       "layout": {
        "barmode": "stack",
        "legend": {
         "bgcolor": "#F5F6F9",
         "font": {
          "color": "#4D5663"
         }
        },
        "paper_bgcolor": "#F5F6F9",
        "plot_bgcolor": "#F5F6F9",
        "template": {
         "data": {
          "bar": [
           {
            "error_x": {
             "color": "#2a3f5f"
            },
            "error_y": {
             "color": "#2a3f5f"
            },
            "marker": {
             "line": {
              "color": "#E5ECF6",
              "width": 0.5
             }
            },
            "type": "bar"
           }
          ],
          "barpolar": [
           {
            "marker": {
             "line": {
              "color": "#E5ECF6",
              "width": 0.5
             }
            },
            "type": "barpolar"
           }
          ],
          "carpet": [
           {
            "aaxis": {
             "endlinecolor": "#2a3f5f",
             "gridcolor": "white",
             "linecolor": "white",
             "minorgridcolor": "white",
             "startlinecolor": "#2a3f5f"
            },
            "baxis": {
             "endlinecolor": "#2a3f5f",
             "gridcolor": "white",
             "linecolor": "white",
             "minorgridcolor": "white",
             "startlinecolor": "#2a3f5f"
            },
            "type": "carpet"
           }
          ],
          "choropleth": [
           {
            "colorbar": {
             "outlinewidth": 0,
             "ticks": ""
            },
            "type": "choropleth"
           }
          ],
          "contour": [
           {
            "colorbar": {
             "outlinewidth": 0,
             "ticks": ""
            },
            "colorscale": [
             [
              0,
              "#0d0887"
             ],
             [
              0.1111111111111111,
              "#46039f"
             ],
             [
              0.2222222222222222,
              "#7201a8"
             ],
             [
              0.3333333333333333,
              "#9c179e"
             ],
             [
              0.4444444444444444,
              "#bd3786"
             ],
             [
              0.5555555555555556,
              "#d8576b"
             ],
             [
              0.6666666666666666,
              "#ed7953"
             ],
             [
              0.7777777777777778,
              "#fb9f3a"
             ],
             [
              0.8888888888888888,
              "#fdca26"
             ],
             [
              1,
              "#f0f921"
             ]
            ],
            "type": "contour"
           }
          ],
          "contourcarpet": [
           {
            "colorbar": {
             "outlinewidth": 0,
             "ticks": ""
            },
            "type": "contourcarpet"
           }
          ],
          "heatmap": [
           {
            "colorbar": {
             "outlinewidth": 0,
             "ticks": ""
            },
            "colorscale": [
             [
              0,
              "#0d0887"
             ],
             [
              0.1111111111111111,
              "#46039f"
             ],
             [
              0.2222222222222222,
              "#7201a8"
             ],
             [
              0.3333333333333333,
              "#9c179e"
             ],
             [
              0.4444444444444444,
              "#bd3786"
             ],
             [
              0.5555555555555556,
              "#d8576b"
             ],
             [
              0.6666666666666666,
              "#ed7953"
             ],
             [
              0.7777777777777778,
              "#fb9f3a"
             ],
             [
              0.8888888888888888,
              "#fdca26"
             ],
             [
              1,
              "#f0f921"
             ]
            ],
            "type": "heatmap"
           }
          ],
          "heatmapgl": [
           {
            "colorbar": {
             "outlinewidth": 0,
             "ticks": ""
            },
            "colorscale": [
             [
              0,
              "#0d0887"
             ],
             [
              0.1111111111111111,
              "#46039f"
             ],
             [
              0.2222222222222222,
              "#7201a8"
             ],
             [
              0.3333333333333333,
              "#9c179e"
             ],
             [
              0.4444444444444444,
              "#bd3786"
             ],
             [
              0.5555555555555556,
              "#d8576b"
             ],
             [
              0.6666666666666666,
              "#ed7953"
             ],
             [
              0.7777777777777778,
              "#fb9f3a"
             ],
             [
              0.8888888888888888,
              "#fdca26"
             ],
             [
              1,
              "#f0f921"
             ]
            ],
            "type": "heatmapgl"
           }
          ],
          "histogram": [
           {
            "marker": {
             "colorbar": {
              "outlinewidth": 0,
              "ticks": ""
             }
            },
            "type": "histogram"
           }
          ],
          "histogram2d": [
           {
            "colorbar": {
             "outlinewidth": 0,
             "ticks": ""
            },
            "colorscale": [
             [
              0,
              "#0d0887"
             ],
             [
              0.1111111111111111,
              "#46039f"
             ],
             [
              0.2222222222222222,
              "#7201a8"
             ],
             [
              0.3333333333333333,
              "#9c179e"
             ],
             [
              0.4444444444444444,
              "#bd3786"
             ],
             [
              0.5555555555555556,
              "#d8576b"
             ],
             [
              0.6666666666666666,
              "#ed7953"
             ],
             [
              0.7777777777777778,
              "#fb9f3a"
             ],
             [
              0.8888888888888888,
              "#fdca26"
             ],
             [
              1,
              "#f0f921"
             ]
            ],
            "type": "histogram2d"
           }
          ],
          "histogram2dcontour": [
           {
            "colorbar": {
             "outlinewidth": 0,
             "ticks": ""
            },
            "colorscale": [
             [
              0,
              "#0d0887"
             ],
             [
              0.1111111111111111,
              "#46039f"
             ],
             [
              0.2222222222222222,
              "#7201a8"
             ],
             [
              0.3333333333333333,
              "#9c179e"
             ],
             [
              0.4444444444444444,
              "#bd3786"
             ],
             [
              0.5555555555555556,
              "#d8576b"
             ],
             [
              0.6666666666666666,
              "#ed7953"
             ],
             [
              0.7777777777777778,
              "#fb9f3a"
             ],
             [
              0.8888888888888888,
              "#fdca26"
             ],
             [
              1,
              "#f0f921"
             ]
            ],
            "type": "histogram2dcontour"
           }
          ],
          "mesh3d": [
           {
            "colorbar": {
             "outlinewidth": 0,
             "ticks": ""
            },
            "type": "mesh3d"
           }
          ],
          "parcoords": [
           {
            "line": {
             "colorbar": {
              "outlinewidth": 0,
              "ticks": ""
             }
            },
            "type": "parcoords"
           }
          ],
          "pie": [
           {
            "automargin": true,
            "type": "pie"
           }
          ],
          "scatter": [
           {
            "marker": {
             "colorbar": {
              "outlinewidth": 0,
              "ticks": ""
             }
            },
            "type": "scatter"
           }
          ],
          "scatter3d": [
           {
            "line": {
             "colorbar": {
              "outlinewidth": 0,
              "ticks": ""
             }
            },
            "marker": {
             "colorbar": {
              "outlinewidth": 0,
              "ticks": ""
             }
            },
            "type": "scatter3d"
           }
          ],
          "scattercarpet": [
           {
            "marker": {
             "colorbar": {
              "outlinewidth": 0,
              "ticks": ""
             }
            },
            "type": "scattercarpet"
           }
          ],
          "scattergeo": [
           {
            "marker": {
             "colorbar": {
              "outlinewidth": 0,
              "ticks": ""
             }
            },
            "type": "scattergeo"
           }
          ],
          "scattergl": [
           {
            "marker": {
             "colorbar": {
              "outlinewidth": 0,
              "ticks": ""
             }
            },
            "type": "scattergl"
           }
          ],
          "scattermapbox": [
           {
            "marker": {
             "colorbar": {
              "outlinewidth": 0,
              "ticks": ""
             }
            },
            "type": "scattermapbox"
           }
          ],
          "scatterpolar": [
           {
            "marker": {
             "colorbar": {
              "outlinewidth": 0,
              "ticks": ""
             }
            },
            "type": "scatterpolar"
           }
          ],
          "scatterpolargl": [
           {
            "marker": {
             "colorbar": {
              "outlinewidth": 0,
              "ticks": ""
             }
            },
            "type": "scatterpolargl"
           }
          ],
          "scatterternary": [
           {
            "marker": {
             "colorbar": {
              "outlinewidth": 0,
              "ticks": ""
             }
            },
            "type": "scatterternary"
           }
          ],
          "surface": [
           {
            "colorbar": {
             "outlinewidth": 0,
             "ticks": ""
            },
            "colorscale": [
             [
              0,
              "#0d0887"
             ],
             [
              0.1111111111111111,
              "#46039f"
             ],
             [
              0.2222222222222222,
              "#7201a8"
             ],
             [
              0.3333333333333333,
              "#9c179e"
             ],
             [
              0.4444444444444444,
              "#bd3786"
             ],
             [
              0.5555555555555556,
              "#d8576b"
             ],
             [
              0.6666666666666666,
              "#ed7953"
             ],
             [
              0.7777777777777778,
              "#fb9f3a"
             ],
             [
              0.8888888888888888,
              "#fdca26"
             ],
             [
              1,
              "#f0f921"
             ]
            ],
            "type": "surface"
           }
          ],
          "table": [
           {
            "cells": {
             "fill": {
              "color": "#EBF0F8"
             },
             "line": {
              "color": "white"
             }
            },
            "header": {
             "fill": {
              "color": "#C8D4E3"
             },
             "line": {
              "color": "white"
             }
            },
            "type": "table"
           }
          ]
         },
         "layout": {
          "annotationdefaults": {
           "arrowcolor": "#2a3f5f",
           "arrowhead": 0,
           "arrowwidth": 1
          },
          "coloraxis": {
           "colorbar": {
            "outlinewidth": 0,
            "ticks": ""
           }
          },
          "colorscale": {
           "diverging": [
            [
             0,
             "#8e0152"
            ],
            [
             0.1,
             "#c51b7d"
            ],
            [
             0.2,
             "#de77ae"
            ],
            [
             0.3,
             "#f1b6da"
            ],
            [
             0.4,
             "#fde0ef"
            ],
            [
             0.5,
             "#f7f7f7"
            ],
            [
             0.6,
             "#e6f5d0"
            ],
            [
             0.7,
             "#b8e186"
            ],
            [
             0.8,
             "#7fbc41"
            ],
            [
             0.9,
             "#4d9221"
            ],
            [
             1,
             "#276419"
            ]
           ],
           "sequential": [
            [
             0,
             "#0d0887"
            ],
            [
             0.1111111111111111,
             "#46039f"
            ],
            [
             0.2222222222222222,
             "#7201a8"
            ],
            [
             0.3333333333333333,
             "#9c179e"
            ],
            [
             0.4444444444444444,
             "#bd3786"
            ],
            [
             0.5555555555555556,
             "#d8576b"
            ],
            [
             0.6666666666666666,
             "#ed7953"
            ],
            [
             0.7777777777777778,
             "#fb9f3a"
            ],
            [
             0.8888888888888888,
             "#fdca26"
            ],
            [
             1,
             "#f0f921"
            ]
           ],
           "sequentialminus": [
            [
             0,
             "#0d0887"
            ],
            [
             0.1111111111111111,
             "#46039f"
            ],
            [
             0.2222222222222222,
             "#7201a8"
            ],
            [
             0.3333333333333333,
             "#9c179e"
            ],
            [
             0.4444444444444444,
             "#bd3786"
            ],
            [
             0.5555555555555556,
             "#d8576b"
            ],
            [
             0.6666666666666666,
             "#ed7953"
            ],
            [
             0.7777777777777778,
             "#fb9f3a"
            ],
            [
             0.8888888888888888,
             "#fdca26"
            ],
            [
             1,
             "#f0f921"
            ]
           ]
          },
          "colorway": [
           "#636efa",
           "#EF553B",
           "#00cc96",
           "#ab63fa",
           "#FFA15A",
           "#19d3f3",
           "#FF6692",
           "#B6E880",
           "#FF97FF",
           "#FECB52"
          ],
          "font": {
           "color": "#2a3f5f"
          },
          "geo": {
           "bgcolor": "white",
           "lakecolor": "white",
           "landcolor": "#E5ECF6",
           "showlakes": true,
           "showland": true,
           "subunitcolor": "white"
          },
          "hoverlabel": {
           "align": "left"
          },
          "hovermode": "closest",
          "mapbox": {
           "style": "light"
          },
          "paper_bgcolor": "white",
          "plot_bgcolor": "#E5ECF6",
          "polar": {
           "angularaxis": {
            "gridcolor": "white",
            "linecolor": "white",
            "ticks": ""
           },
           "bgcolor": "#E5ECF6",
           "radialaxis": {
            "gridcolor": "white",
            "linecolor": "white",
            "ticks": ""
           }
          },
          "scene": {
           "xaxis": {
            "backgroundcolor": "#E5ECF6",
            "gridcolor": "white",
            "gridwidth": 2,
            "linecolor": "white",
            "showbackground": true,
            "ticks": "",
            "zerolinecolor": "white"
           },
           "yaxis": {
            "backgroundcolor": "#E5ECF6",
            "gridcolor": "white",
            "gridwidth": 2,
            "linecolor": "white",
            "showbackground": true,
            "ticks": "",
            "zerolinecolor": "white"
           },
           "zaxis": {
            "backgroundcolor": "#E5ECF6",
            "gridcolor": "white",
            "gridwidth": 2,
            "linecolor": "white",
            "showbackground": true,
            "ticks": "",
            "zerolinecolor": "white"
           }
          },
          "shapedefaults": {
           "line": {
            "color": "#2a3f5f"
           }
          },
          "ternary": {
           "aaxis": {
            "gridcolor": "white",
            "linecolor": "white",
            "ticks": ""
           },
           "baxis": {
            "gridcolor": "white",
            "linecolor": "white",
            "ticks": ""
           },
           "bgcolor": "#E5ECF6",
           "caxis": {
            "gridcolor": "white",
            "linecolor": "white",
            "ticks": ""
           }
          },
          "title": {
           "x": 0.05
          },
          "xaxis": {
           "automargin": true,
           "gridcolor": "white",
           "linecolor": "white",
           "ticks": "",
           "title": {
            "standoff": 15
           },
           "zerolinecolor": "white",
           "zerolinewidth": 2
          },
          "yaxis": {
           "automargin": true,
           "gridcolor": "white",
           "linecolor": "white",
           "ticks": "",
           "title": {
            "standoff": 15
           },
           "zerolinecolor": "white",
           "zerolinewidth": 2
          }
         }
        },
        "title": {
         "font": {
          "color": "#4D5663"
         }
        },
        "xaxis": {
         "gridcolor": "#E1E5ED",
         "showgrid": true,
         "tickfont": {
          "color": "#4D5663"
         },
         "title": {
          "font": {
           "color": "#4D5663"
          },
          "text": ""
         },
         "zerolinecolor": "#E1E5ED"
        },
        "yaxis": {
         "gridcolor": "#E1E5ED",
         "showgrid": true,
         "tickfont": {
          "color": "#4D5663"
         },
         "title": {
          "font": {
           "color": "#4D5663"
          },
          "text": ""
         },
         "zerolinecolor": "#E1E5ED"
        }
       }
      },
      "text/html": [
       "<div>\n",
       "        \n",
       "        \n",
       "            <div id=\"985f7635-db2b-4d0d-ae0e-a0e56258c17d\" class=\"plotly-graph-div\" style=\"height:525px; width:100%;\"></div>\n",
       "            <script type=\"text/javascript\">\n",
       "                require([\"plotly\"], function(Plotly) {\n",
       "                    window.PLOTLYENV=window.PLOTLYENV || {};\n",
       "                    window.PLOTLYENV.BASE_URL='https://plot.ly';\n",
       "                    \n",
       "                if (document.getElementById(\"985f7635-db2b-4d0d-ae0e-a0e56258c17d\")) {\n",
       "                    Plotly.newPlot(\n",
       "                        '985f7635-db2b-4d0d-ae0e-a0e56258c17d',\n",
       "                        [{\"histfunc\": \"count\", \"histnorm\": \"\", \"marker\": {\"color\": \"rgba(255, 153, 51, 1.0)\", \"line\": {\"color\": \"#4D5663\", \"width\": 1.3}}, \"name\": \"IBM\", \"nbinsx\": 20, \"opacity\": 0.8, \"orientation\": \"v\", \"type\": \"histogram\", \"x\": [-1.2868801566664638, -2.028366513807729, -2.760879106191367, -1.9911859649445645, -1.1698265723057135, -0.9720902802456763, -1.3893692343289523, 0.15751532682256508, 0.28067988699811575, -0.5107120093055321, -1.8063687051293358, -1.7921784377934262, -1.1044874291941618, -0.2664229033287746, -0.6256421886729924, 0.4121968431481302, 1.8992288911822006, 0.4713284609322743, 2.994948247125084, 3.0066845652519816, 4.428386071353853, 4.91527793224154, 5.9599498493520535, 6.1134080683029515, 5.3533745076686206, 5.293323668532801, 4.099962721172125, 5.217635982306543, 6.071263872872076, 4.6433790700021245, 3.7602602888241847, 3.281740775327897, 2.7404638966339827, 3.3387539342756676, 4.0286684579720395, 5.549431907856821, 7.7754320531931445, 6.322731592099521, 6.500348418463007, 4.307960773824358, 5.299420681700493, 6.887429791634869, 8.867227597756447, 9.705505785295987, 9.727310508705818, 9.47542189494929, 10.024088259089691, 9.98684737225707, 10.69468858425811, 12.590123161193892, 11.782826178393798, 10.917174155836495, 10.734616926162627, 10.241322244735414, 10.641312793916578, 9.281628379084083, 9.400145386809678, 8.651862561935062, 7.565414896511578, 6.965260757342342, 6.707417689495253, 5.298031156312341, 5.189613710611087, 6.38226310279424, 6.183136169656518, 5.612166391713544, 6.39114867505892, 6.579941941996416, 8.383442583844783, 7.707907622852362, 6.38780750561438, 6.444029553587608, 6.607992301383706, 5.807273092823491, 6.986991314869297, 8.092324810185454, 7.438659031910002, 7.801618929657894, 8.167147603397437, 8.31903075035327, 7.29850862750133, 7.512739654299573, 6.420792527152818, 7.055018729110213, 7.0770407319095945, 7.117641048349709, 7.345524557970403, 5.752190402863436, 6.273101375049812, 6.278722472055344, 5.7539515553200955, 3.1068215726052926, 2.7290057360970037, 1.2653832609269167, 2.2899432891116005, 1.9511362641198013, 1.5916454981489803, 2.1430788859714105, 2.542681463390741, 1.530278277459552]}, {\"histfunc\": \"count\", \"histnorm\": \"\", \"marker\": {\"color\": \"rgba(55, 128, 191, 1.0)\", \"line\": {\"color\": \"#4D5663\", \"width\": 1.3}}, \"name\": \"MSFT\", \"nbinsx\": 20, \"opacity\": 0.8, \"orientation\": \"v\", \"type\": \"histogram\", \"x\": [-0.14231784552685722, 0.0038383488741102756, -1.394342441102017, 0.05281310065044109, -1.2953856887317763, -0.23262923631253374, -2.5064608920511025, -3.6201295377974985, -2.959479810992466, -3.772544722719001, -3.0709588325198514, -2.0375398840254366, -2.1693398305300824, -3.2990288162994386, -4.890590132460698, -4.15033703004252, -4.176687297989628, -4.5205820294304235, -4.414951077438917, -4.950842185052673, -6.320562459093343, -6.44888710392168, -6.020839447515197, -5.785039010002954, -6.093129681526676, -6.634138955952207, -6.570694424396184, -6.521643404930816, -5.299024933004039, -6.0886710847423435, -5.881060365924777, -3.915482394403372, -3.9827955274268745, -4.147845784640805, -3.42504253118667, -4.40082690854008, -4.075525471295986, -2.861534944561367, -3.781912959044849, -4.333547172371902, -3.7095920728127374, -3.4750745616048015, -2.747492006580319, -0.9979818882593192, -1.0647188197146276, -0.8955434858458016, -0.6519956098049098, 1.6492927283038028, 3.387224087556209, 4.513566073082565, 5.430806739184705, 4.907521152193672, 2.8095620478423875, 2.915435824696081, 1.5200875838787369, 2.429132108080452, 3.7756335804841363, 4.002064408796806, 3.4628516327730687, 3.214324464767252, 3.8560726788603708, 2.2554862113398633, 2.9445092783273754, 3.5262828903204313, 2.463193248025804, 1.7260733152151322, 0.7398626546489155, 0.4719722351730572, 0.9991489857126875, 1.9463121727900423, 0.23353648657121595, 1.0453540766324032, 0.8125285169010912, 0.21356493176886515, 0.28570457417174555, 0.11812423461881866, 0.4917748669935742, 0.36077971790123253, 0.5972969247795444, 0.7236739472521214, 2.636233090974466, 1.069513681161607, 0.28665585447293573, 0.19369838104339726, 0.35621491824623663, 3.048403464903692, 4.677726795508604, 4.894177005591278, 4.787507408289258, 4.951135431932031, 4.884774009715971, 3.5625808936247694, 2.9640904467996405, 2.6843113704032233, 2.530433555830813, 5.248023191199183, 4.349788040925403, 5.450810783635532, 5.052823592404031, 5.15929729082009]}, {\"histfunc\": \"count\", \"histnorm\": \"\", \"marker\": {\"color\": \"rgba(50, 171, 96, 1.0)\", \"line\": {\"color\": \"#4D5663\", \"width\": 1.3}}, \"name\": \"GOOG\", \"nbinsx\": 20, \"opacity\": 0.8, \"orientation\": \"v\", \"type\": \"histogram\", \"x\": [0.887859548430912, -0.12442855812384623, 0.31510584146026, -0.3620399760333849, 0.060047799161180415, 0.489542542000453, 0.39864526286565544, -0.12691305706221562, -0.14653742623622149, -1.9942051171963504, -1.3676444884468961, -0.8372557932333661, -1.9188470342391222, -1.176425895752355, -0.5063944395571112, -0.6230886218617776, -0.6637716155230189, -0.44370395604865664, -1.0502230320712198, -1.884455201532628, -0.8465602088727773, -0.2594989167460039, -1.9955610009465663, -2.221501710910537, -3.217375118573837, -3.6208546163065196, -4.929555124356471, -4.840508167100383, -3.827535434970696, -3.867032210267071, -4.5063002992719685, -4.925453159939044, -4.174179782827053, -2.657263222654409, -4.307262797144048, -5.304732773389594, -4.618642038632928, -5.7364532527662195, -4.392594886900887, -4.4558778061555255, -4.9857689109230625, -4.156439892523207, -3.3815162927726474, -4.524633232529935, -2.1656811236745916, -3.1885135351785516, -3.9006128888640728, -4.077345971346925, -4.000916020536469, -4.4098462746028675, -5.639320258383571, -5.687101247473266, -5.0688162769214875, -5.728851900477398, -6.343303939209772, -9.328835099025895, -8.860782654790022, -8.766972470016524, -7.71034017674116, -7.34436940021025, -7.352338908426178, -5.660115446029203, -6.6854008273788335, -5.682223402388089, -6.9632825041098405, -6.678646553285244, -5.752049999433002, -6.881893383159216, -6.5453962916602375, -5.039119802550206, -5.338956969174161, -4.4834048889550315, -3.927119209210786, -4.914573738720649, -6.567959222482106, -7.620031172452751, -7.607736110887162, -7.5546361814823495, -7.144042517705126, -7.123148748328626, -6.136712449596261, -6.365268583170922, -7.46153901912162, -7.887593355698787, -7.24361705197415, -6.356909555910471, -5.176156220893024, -6.80156252352153, -6.802162108296153, -6.313537622663519, -3.5447733332150233, -3.9845629222544896, -2.854306918829467, -2.6727676110848138, -2.985194155696666, -1.9778983711938678, -2.829599717537466, -2.256304104822701, -3.0652309473468895, -3.641370706696887]}, {\"histfunc\": \"count\", \"histnorm\": \"\", \"marker\": {\"color\": \"rgba(128, 0, 128, 1.0)\", \"line\": {\"color\": \"#4D5663\", \"width\": 1.3}}, \"name\": \"VERZ\", \"nbinsx\": 20, \"opacity\": 0.8, \"orientation\": \"v\", \"type\": \"histogram\", \"x\": [0.2048742448337656, 0.3995130615403163, 0.5136290915851257, 0.02076516140369261, 0.7226077593218854, 0.05684612597054928, -2.290373173966028, -3.352705324762807, -3.7250925423200565, -4.793135650456053, -5.329050597202418, -4.387591592305006, -4.049448089904911, -5.709282777034537, -6.328159594193041, -5.224321790483151, -5.2544049851922985, -5.421682067272712, -5.453447794943075, -5.2185053146589, -5.352828044506808, -6.099418933938748, -5.385357244049113, -5.133670710990421, -4.985790773356901, -4.275721196167301, -4.568176178165343, -4.250215743788066, -2.6250793292773977, -1.4682659462139522, -2.1133744171717304, -2.3256163870395024, -2.5325475124338666, -2.8567767576541843, -2.1431314030437036, -1.7670788605729655, -2.296789904733288, -2.2121516024694006, -3.5342462146632085, -0.6964724804885365, 1.3477234161467004, 1.441712672948758, 2.1058407403647976, 1.9878836781924143, 2.733661743162101, 4.07587656098306, 4.494268791352438, 2.7551554418904525, 3.4262226942585743, 4.261906636597172, 5.644921824628, 4.413022382756968, 5.910088337610661, 6.542923789958097, 6.312824948758883, 7.0707387309998815, 9.908110224085755, 9.306542233112879, 10.085829266774926, 9.708254599022629, 9.67875256616383, 7.916943299423433, 7.5583217288247715, 8.46681747105512, 9.205058014250898, 7.777162993877683, 7.405956989690508, 8.820618268349833, 8.580023758687686, 7.351488938534795, 4.329475295100899, 3.2757851795090573, 4.595116532455589, 5.783659442360334, 3.7878041018828923, 3.044704452625716, 2.0189657021517684, 4.274722764937334, 5.893714987065865, 5.18398622503782, 4.890734539739318, 5.259914377771817, 4.2388250269525924, 2.228345073405111, 1.0172014863258558, 2.904580330298862, 1.6375736383990258, 1.6730927768195931, 0.3295055389813142, 1.1186980436244327, 0.3825970786381174, 0.2403846669254254, 1.3424608810215752, 2.0175060395052333, 1.8490765888226344, 2.361676998871574, 2.3661487164680395, 4.650347499849967, 4.779357897092006, 5.318865454818467]}, {\"histfunc\": \"count\", \"histnorm\": \"\", \"marker\": {\"color\": \"rgba(219, 64, 82, 1.0)\", \"line\": {\"color\": \"#4D5663\", \"width\": 1.3}}, \"name\": \"APPL\", \"nbinsx\": 20, \"opacity\": 0.8, \"orientation\": \"v\", \"type\": \"histogram\", \"x\": [1.0819354668374346, 2.4799376706733622, 2.2268051364701633, 1.0250862796132514, 0.3554705098107952, 0.7156871789501777, 0.1067856256869062, -0.123407659403828, 0.28296814854104424, 0.49919665559686655, -0.006990933535996335, 0.033384083208729, -0.08440237960348058, 0.7897831313157041, 1.5201787318987088, 1.5475803170317657, 0.8576482186298152, 2.5467860395958803, 3.993713288865485, 4.567833775159525, 5.183738002370754, 6.092155689019387, 6.1823362071732495, 5.674471133357569, 5.3441259995195045, 5.617275592259908, 6.783773732222309, 7.198486019655446, 7.145176329258773, 6.543734446718874, 7.312297808122165, 7.223841848314789, 7.9514779082905, 8.561609308063588, 9.738378487072284, 9.075752793744627, 9.831438453795284, 8.516970286231762, 8.252832558903457, 9.533388230834202, 9.67698655408267, 10.86849174836057, 10.669733608987032, 9.989883871982169, 8.670283109572248, 9.577541757674734, 8.881467530627548, 10.376316257373494, 9.81916422882076, 10.225052700919383, 10.056165673334721, 11.05423378093204, 11.438246334862646, 10.468756699066553, 9.87868872301803, 8.76800846671155, 6.684972121397745, 8.078100249152664, 6.3740120486351195, 6.699908754451213, 6.63902778498758, 7.333955166310478, 8.539313786810935, 8.765231793823297, 8.550945866671988, 8.648688407218522, 8.369870777573873, 7.728510910650162, 7.187302004909984, 7.4427073016969105, 9.038283728844396, 11.127516915360015, 12.176216508021733, 13.642073852393995, 13.114857135669329, 13.832452593325161, 14.912682023756759, 15.357186361705619, 17.058373360129018, 18.476693401175936, 18.172980321487877, 19.516504578663504, 18.750375542604836, 19.83121087323503, 20.970407888437194, 20.46369062990867, 20.493108587316645, 19.42665903106606, 18.742685639947105, 18.034705834652556, 18.052638546929252, 16.476787278642664, 16.81420963222878, 15.856823228991814, 13.806346247259345, 14.896933576101397, 15.749362202489804, 16.287176408588053, 15.628818851369322, 15.302790607308463]}],\n",
       "                        {\"barmode\": \"stack\", \"legend\": {\"bgcolor\": \"#F5F6F9\", \"font\": {\"color\": \"#4D5663\"}}, \"paper_bgcolor\": \"#F5F6F9\", \"plot_bgcolor\": \"#F5F6F9\", \"template\": {\"data\": {\"bar\": [{\"error_x\": {\"color\": \"#2a3f5f\"}, \"error_y\": {\"color\": \"#2a3f5f\"}, \"marker\": {\"line\": {\"color\": \"#E5ECF6\", \"width\": 0.5}}, \"type\": \"bar\"}], \"barpolar\": [{\"marker\": {\"line\": {\"color\": \"#E5ECF6\", \"width\": 0.5}}, \"type\": \"barpolar\"}], \"carpet\": [{\"aaxis\": {\"endlinecolor\": \"#2a3f5f\", \"gridcolor\": \"white\", \"linecolor\": \"white\", \"minorgridcolor\": \"white\", \"startlinecolor\": \"#2a3f5f\"}, \"baxis\": {\"endlinecolor\": \"#2a3f5f\", \"gridcolor\": \"white\", \"linecolor\": \"white\", \"minorgridcolor\": \"white\", \"startlinecolor\": \"#2a3f5f\"}, \"type\": \"carpet\"}], \"choropleth\": [{\"colorbar\": {\"outlinewidth\": 0, \"ticks\": \"\"}, \"type\": \"choropleth\"}], \"contour\": [{\"colorbar\": {\"outlinewidth\": 0, \"ticks\": \"\"}, \"colorscale\": [[0.0, \"#0d0887\"], [0.1111111111111111, \"#46039f\"], [0.2222222222222222, \"#7201a8\"], [0.3333333333333333, \"#9c179e\"], [0.4444444444444444, \"#bd3786\"], [0.5555555555555556, \"#d8576b\"], [0.6666666666666666, \"#ed7953\"], [0.7777777777777778, \"#fb9f3a\"], [0.8888888888888888, \"#fdca26\"], [1.0, \"#f0f921\"]], \"type\": \"contour\"}], \"contourcarpet\": [{\"colorbar\": {\"outlinewidth\": 0, \"ticks\": \"\"}, \"type\": \"contourcarpet\"}], \"heatmap\": [{\"colorbar\": {\"outlinewidth\": 0, \"ticks\": \"\"}, \"colorscale\": [[0.0, \"#0d0887\"], [0.1111111111111111, \"#46039f\"], [0.2222222222222222, \"#7201a8\"], [0.3333333333333333, \"#9c179e\"], [0.4444444444444444, \"#bd3786\"], [0.5555555555555556, \"#d8576b\"], [0.6666666666666666, \"#ed7953\"], [0.7777777777777778, \"#fb9f3a\"], [0.8888888888888888, \"#fdca26\"], [1.0, \"#f0f921\"]], \"type\": \"heatmap\"}], \"heatmapgl\": [{\"colorbar\": {\"outlinewidth\": 0, \"ticks\": \"\"}, \"colorscale\": [[0.0, \"#0d0887\"], [0.1111111111111111, \"#46039f\"], [0.2222222222222222, \"#7201a8\"], [0.3333333333333333, \"#9c179e\"], [0.4444444444444444, \"#bd3786\"], [0.5555555555555556, \"#d8576b\"], [0.6666666666666666, \"#ed7953\"], [0.7777777777777778, \"#fb9f3a\"], [0.8888888888888888, \"#fdca26\"], [1.0, \"#f0f921\"]], \"type\": \"heatmapgl\"}], \"histogram\": [{\"marker\": {\"colorbar\": {\"outlinewidth\": 0, \"ticks\": \"\"}}, \"type\": \"histogram\"}], \"histogram2d\": [{\"colorbar\": {\"outlinewidth\": 0, \"ticks\": \"\"}, \"colorscale\": [[0.0, \"#0d0887\"], [0.1111111111111111, \"#46039f\"], [0.2222222222222222, \"#7201a8\"], [0.3333333333333333, \"#9c179e\"], [0.4444444444444444, \"#bd3786\"], [0.5555555555555556, \"#d8576b\"], [0.6666666666666666, \"#ed7953\"], [0.7777777777777778, \"#fb9f3a\"], [0.8888888888888888, \"#fdca26\"], [1.0, \"#f0f921\"]], \"type\": \"histogram2d\"}], \"histogram2dcontour\": [{\"colorbar\": {\"outlinewidth\": 0, \"ticks\": \"\"}, \"colorscale\": [[0.0, \"#0d0887\"], [0.1111111111111111, \"#46039f\"], [0.2222222222222222, \"#7201a8\"], [0.3333333333333333, \"#9c179e\"], [0.4444444444444444, \"#bd3786\"], [0.5555555555555556, \"#d8576b\"], [0.6666666666666666, \"#ed7953\"], [0.7777777777777778, \"#fb9f3a\"], [0.8888888888888888, \"#fdca26\"], [1.0, \"#f0f921\"]], \"type\": \"histogram2dcontour\"}], \"mesh3d\": [{\"colorbar\": {\"outlinewidth\": 0, \"ticks\": \"\"}, \"type\": \"mesh3d\"}], \"parcoords\": [{\"line\": {\"colorbar\": {\"outlinewidth\": 0, \"ticks\": \"\"}}, \"type\": \"parcoords\"}], \"pie\": [{\"automargin\": true, \"type\": \"pie\"}], \"scatter\": [{\"marker\": {\"colorbar\": {\"outlinewidth\": 0, \"ticks\": \"\"}}, \"type\": \"scatter\"}], \"scatter3d\": [{\"line\": {\"colorbar\": {\"outlinewidth\": 0, \"ticks\": \"\"}}, \"marker\": {\"colorbar\": {\"outlinewidth\": 0, \"ticks\": \"\"}}, \"type\": \"scatter3d\"}], \"scattercarpet\": [{\"marker\": {\"colorbar\": {\"outlinewidth\": 0, \"ticks\": \"\"}}, \"type\": \"scattercarpet\"}], \"scattergeo\": [{\"marker\": {\"colorbar\": {\"outlinewidth\": 0, \"ticks\": \"\"}}, \"type\": \"scattergeo\"}], \"scattergl\": [{\"marker\": {\"colorbar\": {\"outlinewidth\": 0, \"ticks\": \"\"}}, \"type\": \"scattergl\"}], \"scattermapbox\": [{\"marker\": {\"colorbar\": {\"outlinewidth\": 0, \"ticks\": \"\"}}, \"type\": \"scattermapbox\"}], \"scatterpolar\": [{\"marker\": {\"colorbar\": {\"outlinewidth\": 0, \"ticks\": \"\"}}, \"type\": \"scatterpolar\"}], \"scatterpolargl\": [{\"marker\": {\"colorbar\": {\"outlinewidth\": 0, \"ticks\": \"\"}}, \"type\": \"scatterpolargl\"}], \"scatterternary\": [{\"marker\": {\"colorbar\": {\"outlinewidth\": 0, \"ticks\": \"\"}}, \"type\": \"scatterternary\"}], \"surface\": [{\"colorbar\": {\"outlinewidth\": 0, \"ticks\": \"\"}, \"colorscale\": [[0.0, \"#0d0887\"], [0.1111111111111111, \"#46039f\"], [0.2222222222222222, \"#7201a8\"], [0.3333333333333333, \"#9c179e\"], [0.4444444444444444, \"#bd3786\"], [0.5555555555555556, \"#d8576b\"], [0.6666666666666666, \"#ed7953\"], [0.7777777777777778, \"#fb9f3a\"], [0.8888888888888888, \"#fdca26\"], [1.0, \"#f0f921\"]], \"type\": \"surface\"}], \"table\": [{\"cells\": {\"fill\": {\"color\": \"#EBF0F8\"}, \"line\": {\"color\": \"white\"}}, \"header\": {\"fill\": {\"color\": \"#C8D4E3\"}, \"line\": {\"color\": \"white\"}}, \"type\": \"table\"}]}, \"layout\": {\"annotationdefaults\": {\"arrowcolor\": \"#2a3f5f\", \"arrowhead\": 0, \"arrowwidth\": 1}, \"coloraxis\": {\"colorbar\": {\"outlinewidth\": 0, \"ticks\": \"\"}}, \"colorscale\": {\"diverging\": [[0, \"#8e0152\"], [0.1, \"#c51b7d\"], [0.2, \"#de77ae\"], [0.3, \"#f1b6da\"], [0.4, \"#fde0ef\"], [0.5, \"#f7f7f7\"], [0.6, \"#e6f5d0\"], [0.7, \"#b8e186\"], [0.8, \"#7fbc41\"], [0.9, \"#4d9221\"], [1, \"#276419\"]], \"sequential\": [[0.0, \"#0d0887\"], [0.1111111111111111, \"#46039f\"], [0.2222222222222222, \"#7201a8\"], [0.3333333333333333, \"#9c179e\"], [0.4444444444444444, \"#bd3786\"], [0.5555555555555556, \"#d8576b\"], [0.6666666666666666, \"#ed7953\"], [0.7777777777777778, \"#fb9f3a\"], [0.8888888888888888, \"#fdca26\"], [1.0, \"#f0f921\"]], \"sequentialminus\": [[0.0, \"#0d0887\"], [0.1111111111111111, \"#46039f\"], [0.2222222222222222, \"#7201a8\"], [0.3333333333333333, \"#9c179e\"], [0.4444444444444444, \"#bd3786\"], [0.5555555555555556, \"#d8576b\"], [0.6666666666666666, \"#ed7953\"], [0.7777777777777778, \"#fb9f3a\"], [0.8888888888888888, \"#fdca26\"], [1.0, \"#f0f921\"]]}, \"colorway\": [\"#636efa\", \"#EF553B\", \"#00cc96\", \"#ab63fa\", \"#FFA15A\", \"#19d3f3\", \"#FF6692\", \"#B6E880\", \"#FF97FF\", \"#FECB52\"], \"font\": {\"color\": \"#2a3f5f\"}, \"geo\": {\"bgcolor\": \"white\", \"lakecolor\": \"white\", \"landcolor\": \"#E5ECF6\", \"showlakes\": true, \"showland\": true, \"subunitcolor\": \"white\"}, \"hoverlabel\": {\"align\": \"left\"}, \"hovermode\": \"closest\", \"mapbox\": {\"style\": \"light\"}, \"paper_bgcolor\": \"white\", \"plot_bgcolor\": \"#E5ECF6\", \"polar\": {\"angularaxis\": {\"gridcolor\": \"white\", \"linecolor\": \"white\", \"ticks\": \"\"}, \"bgcolor\": \"#E5ECF6\", \"radialaxis\": {\"gridcolor\": \"white\", \"linecolor\": \"white\", \"ticks\": \"\"}}, \"scene\": {\"xaxis\": {\"backgroundcolor\": \"#E5ECF6\", \"gridcolor\": \"white\", \"gridwidth\": 2, \"linecolor\": \"white\", \"showbackground\": true, \"ticks\": \"\", \"zerolinecolor\": \"white\"}, \"yaxis\": {\"backgroundcolor\": \"#E5ECF6\", \"gridcolor\": \"white\", \"gridwidth\": 2, \"linecolor\": \"white\", \"showbackground\": true, \"ticks\": \"\", \"zerolinecolor\": \"white\"}, \"zaxis\": {\"backgroundcolor\": \"#E5ECF6\", \"gridcolor\": \"white\", \"gridwidth\": 2, \"linecolor\": \"white\", \"showbackground\": true, \"ticks\": \"\", \"zerolinecolor\": \"white\"}}, \"shapedefaults\": {\"line\": {\"color\": \"#2a3f5f\"}}, \"ternary\": {\"aaxis\": {\"gridcolor\": \"white\", \"linecolor\": \"white\", \"ticks\": \"\"}, \"baxis\": {\"gridcolor\": \"white\", \"linecolor\": \"white\", \"ticks\": \"\"}, \"bgcolor\": \"#E5ECF6\", \"caxis\": {\"gridcolor\": \"white\", \"linecolor\": \"white\", \"ticks\": \"\"}}, \"title\": {\"x\": 0.05}, \"xaxis\": {\"automargin\": true, \"gridcolor\": \"white\", \"linecolor\": \"white\", \"ticks\": \"\", \"title\": {\"standoff\": 15}, \"zerolinecolor\": \"white\", \"zerolinewidth\": 2}, \"yaxis\": {\"automargin\": true, \"gridcolor\": \"white\", \"linecolor\": \"white\", \"ticks\": \"\", \"title\": {\"standoff\": 15}, \"zerolinecolor\": \"white\", \"zerolinewidth\": 2}}}, \"title\": {\"font\": {\"color\": \"#4D5663\"}}, \"xaxis\": {\"gridcolor\": \"#E1E5ED\", \"showgrid\": true, \"tickfont\": {\"color\": \"#4D5663\"}, \"title\": {\"font\": {\"color\": \"#4D5663\"}, \"text\": \"\"}, \"zerolinecolor\": \"#E1E5ED\"}, \"yaxis\": {\"gridcolor\": \"#E1E5ED\", \"showgrid\": true, \"tickfont\": {\"color\": \"#4D5663\"}, \"title\": {\"font\": {\"color\": \"#4D5663\"}, \"text\": \"\"}, \"zerolinecolor\": \"#E1E5ED\"}},\n",
       "                        {\"showLink\": true, \"linkText\": \"Export to plot.ly\", \"plotlyServerURL\": \"https://plot.ly\", \"responsive\": true}\n",
       "                    ).then(function(){\n",
       "                            \n",
       "var gd = document.getElementById('985f7635-db2b-4d0d-ae0e-a0e56258c17d');\n",
       "var x = new MutationObserver(function (mutations, observer) {{\n",
       "        var display = window.getComputedStyle(gd).display;\n",
       "        if (!display || display === 'none') {{\n",
       "            console.log([gd, 'removed!']);\n",
       "            Plotly.purge(gd);\n",
       "            observer.disconnect();\n",
       "        }}\n",
       "}});\n",
       "\n",
       "// Listen for the removal of the full notebook cells\n",
       "var notebookContainer = gd.closest('#notebook-container');\n",
       "if (notebookContainer) {{\n",
       "    x.observe(notebookContainer, {childList: true});\n",
       "}}\n",
       "\n",
       "// Listen for the clearing of the current output cell\n",
       "var outputEl = gd.closest('.output');\n",
       "if (outputEl) {{\n",
       "    x.observe(outputEl, {childList: true});\n",
       "}}\n",
       "\n",
       "                        })\n",
       "                };\n",
       "                });\n",
       "            </script>\n",
       "        </div>"
      ]
     },
     "metadata": {},
     "output_type": "display_data"
    }
   ],
   "source": [
    "df.iplot(kind='histogram',barmode='stack',bins=20)"
   ]
  },
  {
   "cell_type": "code",
   "execution_count": 42,
   "metadata": {},
   "outputs": [
    {
     "data": {
      "application/vnd.plotly.v1+json": {
       "config": {
        "linkText": "Export to plot.ly",
        "plotlyServerURL": "https://plot.ly",
        "showLink": true
       },
       "data": [
        {
         "histfunc": "count",
         "histnorm": "",
         "marker": {
          "color": "rgba(255, 153, 51, 1.0)",
          "line": {
           "color": "#4D5663",
           "width": 1.3
          }
         },
         "name": "IBM",
         "opacity": 0.8,
         "orientation": "v",
         "type": "histogram",
         "x": [
          -1.2868801566664638,
          -2.028366513807729,
          -2.760879106191367,
          -1.9911859649445645,
          -1.1698265723057135,
          -0.9720902802456763,
          -1.3893692343289523,
          0.15751532682256508,
          0.28067988699811575,
          -0.5107120093055321,
          -1.8063687051293358,
          -1.7921784377934262,
          -1.1044874291941618,
          -0.2664229033287746,
          -0.6256421886729924,
          0.4121968431481302,
          1.8992288911822006,
          0.4713284609322743,
          2.994948247125084,
          3.0066845652519816,
          4.428386071353853,
          4.91527793224154,
          5.9599498493520535,
          6.1134080683029515,
          5.3533745076686206,
          5.293323668532801,
          4.099962721172125,
          5.217635982306543,
          6.071263872872076,
          4.6433790700021245,
          3.7602602888241847,
          3.281740775327897,
          2.7404638966339827,
          3.3387539342756676,
          4.0286684579720395,
          5.549431907856821,
          7.7754320531931445,
          6.322731592099521,
          6.500348418463007,
          4.307960773824358,
          5.299420681700493,
          6.887429791634869,
          8.867227597756447,
          9.705505785295987,
          9.727310508705818,
          9.47542189494929,
          10.024088259089691,
          9.98684737225707,
          10.69468858425811,
          12.590123161193892,
          11.782826178393798,
          10.917174155836495,
          10.734616926162627,
          10.241322244735414,
          10.641312793916578,
          9.281628379084083,
          9.400145386809678,
          8.651862561935062,
          7.565414896511578,
          6.965260757342342,
          6.707417689495253,
          5.298031156312341,
          5.189613710611087,
          6.38226310279424,
          6.183136169656518,
          5.612166391713544,
          6.39114867505892,
          6.579941941996416,
          8.383442583844783,
          7.707907622852362,
          6.38780750561438,
          6.444029553587608,
          6.607992301383706,
          5.807273092823491,
          6.986991314869297,
          8.092324810185454,
          7.438659031910002,
          7.801618929657894,
          8.167147603397437,
          8.31903075035327,
          7.29850862750133,
          7.512739654299573,
          6.420792527152818,
          7.055018729110213,
          7.0770407319095945,
          7.117641048349709,
          7.345524557970403,
          5.752190402863436,
          6.273101375049812,
          6.278722472055344,
          5.7539515553200955,
          3.1068215726052926,
          2.7290057360970037,
          1.2653832609269167,
          2.2899432891116005,
          1.9511362641198013,
          1.5916454981489803,
          2.1430788859714105,
          2.542681463390741,
          1.530278277459552
         ]
        },
        {
         "histfunc": "count",
         "histnorm": "",
         "marker": {
          "color": "rgba(55, 128, 191, 1.0)",
          "line": {
           "color": "#4D5663",
           "width": 1.3
          }
         },
         "name": "MSFT",
         "opacity": 0.8,
         "orientation": "v",
         "type": "histogram",
         "x": [
          -0.14231784552685722,
          0.0038383488741102756,
          -1.394342441102017,
          0.05281310065044109,
          -1.2953856887317763,
          -0.23262923631253374,
          -2.5064608920511025,
          -3.6201295377974985,
          -2.959479810992466,
          -3.772544722719001,
          -3.0709588325198514,
          -2.0375398840254366,
          -2.1693398305300824,
          -3.2990288162994386,
          -4.890590132460698,
          -4.15033703004252,
          -4.176687297989628,
          -4.5205820294304235,
          -4.414951077438917,
          -4.950842185052673,
          -6.320562459093343,
          -6.44888710392168,
          -6.020839447515197,
          -5.785039010002954,
          -6.093129681526676,
          -6.634138955952207,
          -6.570694424396184,
          -6.521643404930816,
          -5.299024933004039,
          -6.0886710847423435,
          -5.881060365924777,
          -3.915482394403372,
          -3.9827955274268745,
          -4.147845784640805,
          -3.42504253118667,
          -4.40082690854008,
          -4.075525471295986,
          -2.861534944561367,
          -3.781912959044849,
          -4.333547172371902,
          -3.7095920728127374,
          -3.4750745616048015,
          -2.747492006580319,
          -0.9979818882593192,
          -1.0647188197146276,
          -0.8955434858458016,
          -0.6519956098049098,
          1.6492927283038028,
          3.387224087556209,
          4.513566073082565,
          5.430806739184705,
          4.907521152193672,
          2.8095620478423875,
          2.915435824696081,
          1.5200875838787369,
          2.429132108080452,
          3.7756335804841363,
          4.002064408796806,
          3.4628516327730687,
          3.214324464767252,
          3.8560726788603708,
          2.2554862113398633,
          2.9445092783273754,
          3.5262828903204313,
          2.463193248025804,
          1.7260733152151322,
          0.7398626546489155,
          0.4719722351730572,
          0.9991489857126875,
          1.9463121727900423,
          0.23353648657121595,
          1.0453540766324032,
          0.8125285169010912,
          0.21356493176886515,
          0.28570457417174555,
          0.11812423461881866,
          0.4917748669935742,
          0.36077971790123253,
          0.5972969247795444,
          0.7236739472521214,
          2.636233090974466,
          1.069513681161607,
          0.28665585447293573,
          0.19369838104339726,
          0.35621491824623663,
          3.048403464903692,
          4.677726795508604,
          4.894177005591278,
          4.787507408289258,
          4.951135431932031,
          4.884774009715971,
          3.5625808936247694,
          2.9640904467996405,
          2.6843113704032233,
          2.530433555830813,
          5.248023191199183,
          4.349788040925403,
          5.450810783635532,
          5.052823592404031,
          5.15929729082009
         ]
        },
        {
         "histfunc": "count",
         "histnorm": "",
         "marker": {
          "color": "rgba(50, 171, 96, 1.0)",
          "line": {
           "color": "#4D5663",
           "width": 1.3
          }
         },
         "name": "GOOG",
         "opacity": 0.8,
         "orientation": "v",
         "type": "histogram",
         "x": [
          0.887859548430912,
          -0.12442855812384623,
          0.31510584146026,
          -0.3620399760333849,
          0.060047799161180415,
          0.489542542000453,
          0.39864526286565544,
          -0.12691305706221562,
          -0.14653742623622149,
          -1.9942051171963504,
          -1.3676444884468961,
          -0.8372557932333661,
          -1.9188470342391222,
          -1.176425895752355,
          -0.5063944395571112,
          -0.6230886218617776,
          -0.6637716155230189,
          -0.44370395604865664,
          -1.0502230320712198,
          -1.884455201532628,
          -0.8465602088727773,
          -0.2594989167460039,
          -1.9955610009465663,
          -2.221501710910537,
          -3.217375118573837,
          -3.6208546163065196,
          -4.929555124356471,
          -4.840508167100383,
          -3.827535434970696,
          -3.867032210267071,
          -4.5063002992719685,
          -4.925453159939044,
          -4.174179782827053,
          -2.657263222654409,
          -4.307262797144048,
          -5.304732773389594,
          -4.618642038632928,
          -5.7364532527662195,
          -4.392594886900887,
          -4.4558778061555255,
          -4.9857689109230625,
          -4.156439892523207,
          -3.3815162927726474,
          -4.524633232529935,
          -2.1656811236745916,
          -3.1885135351785516,
          -3.9006128888640728,
          -4.077345971346925,
          -4.000916020536469,
          -4.4098462746028675,
          -5.639320258383571,
          -5.687101247473266,
          -5.0688162769214875,
          -5.728851900477398,
          -6.343303939209772,
          -9.328835099025895,
          -8.860782654790022,
          -8.766972470016524,
          -7.71034017674116,
          -7.34436940021025,
          -7.352338908426178,
          -5.660115446029203,
          -6.6854008273788335,
          -5.682223402388089,
          -6.9632825041098405,
          -6.678646553285244,
          -5.752049999433002,
          -6.881893383159216,
          -6.5453962916602375,
          -5.039119802550206,
          -5.338956969174161,
          -4.4834048889550315,
          -3.927119209210786,
          -4.914573738720649,
          -6.567959222482106,
          -7.620031172452751,
          -7.607736110887162,
          -7.5546361814823495,
          -7.144042517705126,
          -7.123148748328626,
          -6.136712449596261,
          -6.365268583170922,
          -7.46153901912162,
          -7.887593355698787,
          -7.24361705197415,
          -6.356909555910471,
          -5.176156220893024,
          -6.80156252352153,
          -6.802162108296153,
          -6.313537622663519,
          -3.5447733332150233,
          -3.9845629222544896,
          -2.854306918829467,
          -2.6727676110848138,
          -2.985194155696666,
          -1.9778983711938678,
          -2.829599717537466,
          -2.256304104822701,
          -3.0652309473468895,
          -3.641370706696887
         ]
        },
        {
         "histfunc": "count",
         "histnorm": "",
         "marker": {
          "color": "rgba(128, 0, 128, 1.0)",
          "line": {
           "color": "#4D5663",
           "width": 1.3
          }
         },
         "name": "VERZ",
         "opacity": 0.8,
         "orientation": "v",
         "type": "histogram",
         "x": [
          0.2048742448337656,
          0.3995130615403163,
          0.5136290915851257,
          0.02076516140369261,
          0.7226077593218854,
          0.05684612597054928,
          -2.290373173966028,
          -3.352705324762807,
          -3.7250925423200565,
          -4.793135650456053,
          -5.329050597202418,
          -4.387591592305006,
          -4.049448089904911,
          -5.709282777034537,
          -6.328159594193041,
          -5.224321790483151,
          -5.2544049851922985,
          -5.421682067272712,
          -5.453447794943075,
          -5.2185053146589,
          -5.352828044506808,
          -6.099418933938748,
          -5.385357244049113,
          -5.133670710990421,
          -4.985790773356901,
          -4.275721196167301,
          -4.568176178165343,
          -4.250215743788066,
          -2.6250793292773977,
          -1.4682659462139522,
          -2.1133744171717304,
          -2.3256163870395024,
          -2.5325475124338666,
          -2.8567767576541843,
          -2.1431314030437036,
          -1.7670788605729655,
          -2.296789904733288,
          -2.2121516024694006,
          -3.5342462146632085,
          -0.6964724804885365,
          1.3477234161467004,
          1.441712672948758,
          2.1058407403647976,
          1.9878836781924143,
          2.733661743162101,
          4.07587656098306,
          4.494268791352438,
          2.7551554418904525,
          3.4262226942585743,
          4.261906636597172,
          5.644921824628,
          4.413022382756968,
          5.910088337610661,
          6.542923789958097,
          6.312824948758883,
          7.0707387309998815,
          9.908110224085755,
          9.306542233112879,
          10.085829266774926,
          9.708254599022629,
          9.67875256616383,
          7.916943299423433,
          7.5583217288247715,
          8.46681747105512,
          9.205058014250898,
          7.777162993877683,
          7.405956989690508,
          8.820618268349833,
          8.580023758687686,
          7.351488938534795,
          4.329475295100899,
          3.2757851795090573,
          4.595116532455589,
          5.783659442360334,
          3.7878041018828923,
          3.044704452625716,
          2.0189657021517684,
          4.274722764937334,
          5.893714987065865,
          5.18398622503782,
          4.890734539739318,
          5.259914377771817,
          4.2388250269525924,
          2.228345073405111,
          1.0172014863258558,
          2.904580330298862,
          1.6375736383990258,
          1.6730927768195931,
          0.3295055389813142,
          1.1186980436244327,
          0.3825970786381174,
          0.2403846669254254,
          1.3424608810215752,
          2.0175060395052333,
          1.8490765888226344,
          2.361676998871574,
          2.3661487164680395,
          4.650347499849967,
          4.779357897092006,
          5.318865454818467
         ]
        },
        {
         "histfunc": "count",
         "histnorm": "",
         "marker": {
          "color": "rgba(219, 64, 82, 1.0)",
          "line": {
           "color": "#4D5663",
           "width": 1.3
          }
         },
         "name": "APPL",
         "opacity": 0.8,
         "orientation": "v",
         "type": "histogram",
         "x": [
          1.0819354668374346,
          2.4799376706733622,
          2.2268051364701633,
          1.0250862796132514,
          0.3554705098107952,
          0.7156871789501777,
          0.1067856256869062,
          -0.123407659403828,
          0.28296814854104424,
          0.49919665559686655,
          -0.006990933535996335,
          0.033384083208729,
          -0.08440237960348058,
          0.7897831313157041,
          1.5201787318987088,
          1.5475803170317657,
          0.8576482186298152,
          2.5467860395958803,
          3.993713288865485,
          4.567833775159525,
          5.183738002370754,
          6.092155689019387,
          6.1823362071732495,
          5.674471133357569,
          5.3441259995195045,
          5.617275592259908,
          6.783773732222309,
          7.198486019655446,
          7.145176329258773,
          6.543734446718874,
          7.312297808122165,
          7.223841848314789,
          7.9514779082905,
          8.561609308063588,
          9.738378487072284,
          9.075752793744627,
          9.831438453795284,
          8.516970286231762,
          8.252832558903457,
          9.533388230834202,
          9.67698655408267,
          10.86849174836057,
          10.669733608987032,
          9.989883871982169,
          8.670283109572248,
          9.577541757674734,
          8.881467530627548,
          10.376316257373494,
          9.81916422882076,
          10.225052700919383,
          10.056165673334721,
          11.05423378093204,
          11.438246334862646,
          10.468756699066553,
          9.87868872301803,
          8.76800846671155,
          6.684972121397745,
          8.078100249152664,
          6.3740120486351195,
          6.699908754451213,
          6.63902778498758,
          7.333955166310478,
          8.539313786810935,
          8.765231793823297,
          8.550945866671988,
          8.648688407218522,
          8.369870777573873,
          7.728510910650162,
          7.187302004909984,
          7.4427073016969105,
          9.038283728844396,
          11.127516915360015,
          12.176216508021733,
          13.642073852393995,
          13.114857135669329,
          13.832452593325161,
          14.912682023756759,
          15.357186361705619,
          17.058373360129018,
          18.476693401175936,
          18.172980321487877,
          19.516504578663504,
          18.750375542604836,
          19.83121087323503,
          20.970407888437194,
          20.46369062990867,
          20.493108587316645,
          19.42665903106606,
          18.742685639947105,
          18.034705834652556,
          18.052638546929252,
          16.476787278642664,
          16.81420963222878,
          15.856823228991814,
          13.806346247259345,
          14.896933576101397,
          15.749362202489804,
          16.287176408588053,
          15.628818851369322,
          15.302790607308463
         ]
        }
       ],
       "layout": {
        "barmode": "overlay",
        "legend": {
         "bgcolor": "#F5F6F9",
         "font": {
          "color": "#4D5663"
         }
        },
        "paper_bgcolor": "#F5F6F9",
        "plot_bgcolor": "#F5F6F9",
        "template": {
         "data": {
          "bar": [
           {
            "error_x": {
             "color": "#2a3f5f"
            },
            "error_y": {
             "color": "#2a3f5f"
            },
            "marker": {
             "line": {
              "color": "#E5ECF6",
              "width": 0.5
             }
            },
            "type": "bar"
           }
          ],
          "barpolar": [
           {
            "marker": {
             "line": {
              "color": "#E5ECF6",
              "width": 0.5
             }
            },
            "type": "barpolar"
           }
          ],
          "carpet": [
           {
            "aaxis": {
             "endlinecolor": "#2a3f5f",
             "gridcolor": "white",
             "linecolor": "white",
             "minorgridcolor": "white",
             "startlinecolor": "#2a3f5f"
            },
            "baxis": {
             "endlinecolor": "#2a3f5f",
             "gridcolor": "white",
             "linecolor": "white",
             "minorgridcolor": "white",
             "startlinecolor": "#2a3f5f"
            },
            "type": "carpet"
           }
          ],
          "choropleth": [
           {
            "colorbar": {
             "outlinewidth": 0,
             "ticks": ""
            },
            "type": "choropleth"
           }
          ],
          "contour": [
           {
            "colorbar": {
             "outlinewidth": 0,
             "ticks": ""
            },
            "colorscale": [
             [
              0,
              "#0d0887"
             ],
             [
              0.1111111111111111,
              "#46039f"
             ],
             [
              0.2222222222222222,
              "#7201a8"
             ],
             [
              0.3333333333333333,
              "#9c179e"
             ],
             [
              0.4444444444444444,
              "#bd3786"
             ],
             [
              0.5555555555555556,
              "#d8576b"
             ],
             [
              0.6666666666666666,
              "#ed7953"
             ],
             [
              0.7777777777777778,
              "#fb9f3a"
             ],
             [
              0.8888888888888888,
              "#fdca26"
             ],
             [
              1,
              "#f0f921"
             ]
            ],
            "type": "contour"
           }
          ],
          "contourcarpet": [
           {
            "colorbar": {
             "outlinewidth": 0,
             "ticks": ""
            },
            "type": "contourcarpet"
           }
          ],
          "heatmap": [
           {
            "colorbar": {
             "outlinewidth": 0,
             "ticks": ""
            },
            "colorscale": [
             [
              0,
              "#0d0887"
             ],
             [
              0.1111111111111111,
              "#46039f"
             ],
             [
              0.2222222222222222,
              "#7201a8"
             ],
             [
              0.3333333333333333,
              "#9c179e"
             ],
             [
              0.4444444444444444,
              "#bd3786"
             ],
             [
              0.5555555555555556,
              "#d8576b"
             ],
             [
              0.6666666666666666,
              "#ed7953"
             ],
             [
              0.7777777777777778,
              "#fb9f3a"
             ],
             [
              0.8888888888888888,
              "#fdca26"
             ],
             [
              1,
              "#f0f921"
             ]
            ],
            "type": "heatmap"
           }
          ],
          "heatmapgl": [
           {
            "colorbar": {
             "outlinewidth": 0,
             "ticks": ""
            },
            "colorscale": [
             [
              0,
              "#0d0887"
             ],
             [
              0.1111111111111111,
              "#46039f"
             ],
             [
              0.2222222222222222,
              "#7201a8"
             ],
             [
              0.3333333333333333,
              "#9c179e"
             ],
             [
              0.4444444444444444,
              "#bd3786"
             ],
             [
              0.5555555555555556,
              "#d8576b"
             ],
             [
              0.6666666666666666,
              "#ed7953"
             ],
             [
              0.7777777777777778,
              "#fb9f3a"
             ],
             [
              0.8888888888888888,
              "#fdca26"
             ],
             [
              1,
              "#f0f921"
             ]
            ],
            "type": "heatmapgl"
           }
          ],
          "histogram": [
           {
            "marker": {
             "colorbar": {
              "outlinewidth": 0,
              "ticks": ""
             }
            },
            "type": "histogram"
           }
          ],
          "histogram2d": [
           {
            "colorbar": {
             "outlinewidth": 0,
             "ticks": ""
            },
            "colorscale": [
             [
              0,
              "#0d0887"
             ],
             [
              0.1111111111111111,
              "#46039f"
             ],
             [
              0.2222222222222222,
              "#7201a8"
             ],
             [
              0.3333333333333333,
              "#9c179e"
             ],
             [
              0.4444444444444444,
              "#bd3786"
             ],
             [
              0.5555555555555556,
              "#d8576b"
             ],
             [
              0.6666666666666666,
              "#ed7953"
             ],
             [
              0.7777777777777778,
              "#fb9f3a"
             ],
             [
              0.8888888888888888,
              "#fdca26"
             ],
             [
              1,
              "#f0f921"
             ]
            ],
            "type": "histogram2d"
           }
          ],
          "histogram2dcontour": [
           {
            "colorbar": {
             "outlinewidth": 0,
             "ticks": ""
            },
            "colorscale": [
             [
              0,
              "#0d0887"
             ],
             [
              0.1111111111111111,
              "#46039f"
             ],
             [
              0.2222222222222222,
              "#7201a8"
             ],
             [
              0.3333333333333333,
              "#9c179e"
             ],
             [
              0.4444444444444444,
              "#bd3786"
             ],
             [
              0.5555555555555556,
              "#d8576b"
             ],
             [
              0.6666666666666666,
              "#ed7953"
             ],
             [
              0.7777777777777778,
              "#fb9f3a"
             ],
             [
              0.8888888888888888,
              "#fdca26"
             ],
             [
              1,
              "#f0f921"
             ]
            ],
            "type": "histogram2dcontour"
           }
          ],
          "mesh3d": [
           {
            "colorbar": {
             "outlinewidth": 0,
             "ticks": ""
            },
            "type": "mesh3d"
           }
          ],
          "parcoords": [
           {
            "line": {
             "colorbar": {
              "outlinewidth": 0,
              "ticks": ""
             }
            },
            "type": "parcoords"
           }
          ],
          "pie": [
           {
            "automargin": true,
            "type": "pie"
           }
          ],
          "scatter": [
           {
            "marker": {
             "colorbar": {
              "outlinewidth": 0,
              "ticks": ""
             }
            },
            "type": "scatter"
           }
          ],
          "scatter3d": [
           {
            "line": {
             "colorbar": {
              "outlinewidth": 0,
              "ticks": ""
             }
            },
            "marker": {
             "colorbar": {
              "outlinewidth": 0,
              "ticks": ""
             }
            },
            "type": "scatter3d"
           }
          ],
          "scattercarpet": [
           {
            "marker": {
             "colorbar": {
              "outlinewidth": 0,
              "ticks": ""
             }
            },
            "type": "scattercarpet"
           }
          ],
          "scattergeo": [
           {
            "marker": {
             "colorbar": {
              "outlinewidth": 0,
              "ticks": ""
             }
            },
            "type": "scattergeo"
           }
          ],
          "scattergl": [
           {
            "marker": {
             "colorbar": {
              "outlinewidth": 0,
              "ticks": ""
             }
            },
            "type": "scattergl"
           }
          ],
          "scattermapbox": [
           {
            "marker": {
             "colorbar": {
              "outlinewidth": 0,
              "ticks": ""
             }
            },
            "type": "scattermapbox"
           }
          ],
          "scatterpolar": [
           {
            "marker": {
             "colorbar": {
              "outlinewidth": 0,
              "ticks": ""
             }
            },
            "type": "scatterpolar"
           }
          ],
          "scatterpolargl": [
           {
            "marker": {
             "colorbar": {
              "outlinewidth": 0,
              "ticks": ""
             }
            },
            "type": "scatterpolargl"
           }
          ],
          "scatterternary": [
           {
            "marker": {
             "colorbar": {
              "outlinewidth": 0,
              "ticks": ""
             }
            },
            "type": "scatterternary"
           }
          ],
          "surface": [
           {
            "colorbar": {
             "outlinewidth": 0,
             "ticks": ""
            },
            "colorscale": [
             [
              0,
              "#0d0887"
             ],
             [
              0.1111111111111111,
              "#46039f"
             ],
             [
              0.2222222222222222,
              "#7201a8"
             ],
             [
              0.3333333333333333,
              "#9c179e"
             ],
             [
              0.4444444444444444,
              "#bd3786"
             ],
             [
              0.5555555555555556,
              "#d8576b"
             ],
             [
              0.6666666666666666,
              "#ed7953"
             ],
             [
              0.7777777777777778,
              "#fb9f3a"
             ],
             [
              0.8888888888888888,
              "#fdca26"
             ],
             [
              1,
              "#f0f921"
             ]
            ],
            "type": "surface"
           }
          ],
          "table": [
           {
            "cells": {
             "fill": {
              "color": "#EBF0F8"
             },
             "line": {
              "color": "white"
             }
            },
            "header": {
             "fill": {
              "color": "#C8D4E3"
             },
             "line": {
              "color": "white"
             }
            },
            "type": "table"
           }
          ]
         },
         "layout": {
          "annotationdefaults": {
           "arrowcolor": "#2a3f5f",
           "arrowhead": 0,
           "arrowwidth": 1
          },
          "coloraxis": {
           "colorbar": {
            "outlinewidth": 0,
            "ticks": ""
           }
          },
          "colorscale": {
           "diverging": [
            [
             0,
             "#8e0152"
            ],
            [
             0.1,
             "#c51b7d"
            ],
            [
             0.2,
             "#de77ae"
            ],
            [
             0.3,
             "#f1b6da"
            ],
            [
             0.4,
             "#fde0ef"
            ],
            [
             0.5,
             "#f7f7f7"
            ],
            [
             0.6,
             "#e6f5d0"
            ],
            [
             0.7,
             "#b8e186"
            ],
            [
             0.8,
             "#7fbc41"
            ],
            [
             0.9,
             "#4d9221"
            ],
            [
             1,
             "#276419"
            ]
           ],
           "sequential": [
            [
             0,
             "#0d0887"
            ],
            [
             0.1111111111111111,
             "#46039f"
            ],
            [
             0.2222222222222222,
             "#7201a8"
            ],
            [
             0.3333333333333333,
             "#9c179e"
            ],
            [
             0.4444444444444444,
             "#bd3786"
            ],
            [
             0.5555555555555556,
             "#d8576b"
            ],
            [
             0.6666666666666666,
             "#ed7953"
            ],
            [
             0.7777777777777778,
             "#fb9f3a"
            ],
            [
             0.8888888888888888,
             "#fdca26"
            ],
            [
             1,
             "#f0f921"
            ]
           ],
           "sequentialminus": [
            [
             0,
             "#0d0887"
            ],
            [
             0.1111111111111111,
             "#46039f"
            ],
            [
             0.2222222222222222,
             "#7201a8"
            ],
            [
             0.3333333333333333,
             "#9c179e"
            ],
            [
             0.4444444444444444,
             "#bd3786"
            ],
            [
             0.5555555555555556,
             "#d8576b"
            ],
            [
             0.6666666666666666,
             "#ed7953"
            ],
            [
             0.7777777777777778,
             "#fb9f3a"
            ],
            [
             0.8888888888888888,
             "#fdca26"
            ],
            [
             1,
             "#f0f921"
            ]
           ]
          },
          "colorway": [
           "#636efa",
           "#EF553B",
           "#00cc96",
           "#ab63fa",
           "#FFA15A",
           "#19d3f3",
           "#FF6692",
           "#B6E880",
           "#FF97FF",
           "#FECB52"
          ],
          "font": {
           "color": "#2a3f5f"
          },
          "geo": {
           "bgcolor": "white",
           "lakecolor": "white",
           "landcolor": "#E5ECF6",
           "showlakes": true,
           "showland": true,
           "subunitcolor": "white"
          },
          "hoverlabel": {
           "align": "left"
          },
          "hovermode": "closest",
          "mapbox": {
           "style": "light"
          },
          "paper_bgcolor": "white",
          "plot_bgcolor": "#E5ECF6",
          "polar": {
           "angularaxis": {
            "gridcolor": "white",
            "linecolor": "white",
            "ticks": ""
           },
           "bgcolor": "#E5ECF6",
           "radialaxis": {
            "gridcolor": "white",
            "linecolor": "white",
            "ticks": ""
           }
          },
          "scene": {
           "xaxis": {
            "backgroundcolor": "#E5ECF6",
            "gridcolor": "white",
            "gridwidth": 2,
            "linecolor": "white",
            "showbackground": true,
            "ticks": "",
            "zerolinecolor": "white"
           },
           "yaxis": {
            "backgroundcolor": "#E5ECF6",
            "gridcolor": "white",
            "gridwidth": 2,
            "linecolor": "white",
            "showbackground": true,
            "ticks": "",
            "zerolinecolor": "white"
           },
           "zaxis": {
            "backgroundcolor": "#E5ECF6",
            "gridcolor": "white",
            "gridwidth": 2,
            "linecolor": "white",
            "showbackground": true,
            "ticks": "",
            "zerolinecolor": "white"
           }
          },
          "shapedefaults": {
           "line": {
            "color": "#2a3f5f"
           }
          },
          "ternary": {
           "aaxis": {
            "gridcolor": "white",
            "linecolor": "white",
            "ticks": ""
           },
           "baxis": {
            "gridcolor": "white",
            "linecolor": "white",
            "ticks": ""
           },
           "bgcolor": "#E5ECF6",
           "caxis": {
            "gridcolor": "white",
            "linecolor": "white",
            "ticks": ""
           }
          },
          "title": {
           "x": 0.05
          },
          "xaxis": {
           "automargin": true,
           "gridcolor": "white",
           "linecolor": "white",
           "ticks": "",
           "title": {
            "standoff": 15
           },
           "zerolinecolor": "white",
           "zerolinewidth": 2
          },
          "yaxis": {
           "automargin": true,
           "gridcolor": "white",
           "linecolor": "white",
           "ticks": "",
           "title": {
            "standoff": 15
           },
           "zerolinecolor": "white",
           "zerolinewidth": 2
          }
         }
        },
        "title": {
         "font": {
          "color": "#4D5663"
         }
        },
        "xaxis": {
         "gridcolor": "#E1E5ED",
         "showgrid": true,
         "tickfont": {
          "color": "#4D5663"
         },
         "title": {
          "font": {
           "color": "#4D5663"
          },
          "text": ""
         },
         "zerolinecolor": "#E1E5ED"
        },
        "yaxis": {
         "gridcolor": "#E1E5ED",
         "showgrid": true,
         "tickfont": {
          "color": "#4D5663"
         },
         "title": {
          "font": {
           "color": "#4D5663"
          },
          "text": ""
         },
         "zerolinecolor": "#E1E5ED"
        }
       }
      },
      "text/html": [
       "<div>\n",
       "        \n",
       "        \n",
       "            <div id=\"2ea9a7d8-836d-4525-8f56-9c9164f8d79a\" class=\"plotly-graph-div\" style=\"height:525px; width:100%;\"></div>\n",
       "            <script type=\"text/javascript\">\n",
       "                require([\"plotly\"], function(Plotly) {\n",
       "                    window.PLOTLYENV=window.PLOTLYENV || {};\n",
       "                    window.PLOTLYENV.BASE_URL='https://plot.ly';\n",
       "                    \n",
       "                if (document.getElementById(\"2ea9a7d8-836d-4525-8f56-9c9164f8d79a\")) {\n",
       "                    Plotly.newPlot(\n",
       "                        '2ea9a7d8-836d-4525-8f56-9c9164f8d79a',\n",
       "                        [{\"histfunc\": \"count\", \"histnorm\": \"\", \"marker\": {\"color\": \"rgba(255, 153, 51, 1.0)\", \"line\": {\"color\": \"#4D5663\", \"width\": 1.3}}, \"name\": \"IBM\", \"opacity\": 0.8, \"orientation\": \"v\", \"type\": \"histogram\", \"x\": [-1.2868801566664638, -2.028366513807729, -2.760879106191367, -1.9911859649445645, -1.1698265723057135, -0.9720902802456763, -1.3893692343289523, 0.15751532682256508, 0.28067988699811575, -0.5107120093055321, -1.8063687051293358, -1.7921784377934262, -1.1044874291941618, -0.2664229033287746, -0.6256421886729924, 0.4121968431481302, 1.8992288911822006, 0.4713284609322743, 2.994948247125084, 3.0066845652519816, 4.428386071353853, 4.91527793224154, 5.9599498493520535, 6.1134080683029515, 5.3533745076686206, 5.293323668532801, 4.099962721172125, 5.217635982306543, 6.071263872872076, 4.6433790700021245, 3.7602602888241847, 3.281740775327897, 2.7404638966339827, 3.3387539342756676, 4.0286684579720395, 5.549431907856821, 7.7754320531931445, 6.322731592099521, 6.500348418463007, 4.307960773824358, 5.299420681700493, 6.887429791634869, 8.867227597756447, 9.705505785295987, 9.727310508705818, 9.47542189494929, 10.024088259089691, 9.98684737225707, 10.69468858425811, 12.590123161193892, 11.782826178393798, 10.917174155836495, 10.734616926162627, 10.241322244735414, 10.641312793916578, 9.281628379084083, 9.400145386809678, 8.651862561935062, 7.565414896511578, 6.965260757342342, 6.707417689495253, 5.298031156312341, 5.189613710611087, 6.38226310279424, 6.183136169656518, 5.612166391713544, 6.39114867505892, 6.579941941996416, 8.383442583844783, 7.707907622852362, 6.38780750561438, 6.444029553587608, 6.607992301383706, 5.807273092823491, 6.986991314869297, 8.092324810185454, 7.438659031910002, 7.801618929657894, 8.167147603397437, 8.31903075035327, 7.29850862750133, 7.512739654299573, 6.420792527152818, 7.055018729110213, 7.0770407319095945, 7.117641048349709, 7.345524557970403, 5.752190402863436, 6.273101375049812, 6.278722472055344, 5.7539515553200955, 3.1068215726052926, 2.7290057360970037, 1.2653832609269167, 2.2899432891116005, 1.9511362641198013, 1.5916454981489803, 2.1430788859714105, 2.542681463390741, 1.530278277459552]}, {\"histfunc\": \"count\", \"histnorm\": \"\", \"marker\": {\"color\": \"rgba(55, 128, 191, 1.0)\", \"line\": {\"color\": \"#4D5663\", \"width\": 1.3}}, \"name\": \"MSFT\", \"opacity\": 0.8, \"orientation\": \"v\", \"type\": \"histogram\", \"x\": [-0.14231784552685722, 0.0038383488741102756, -1.394342441102017, 0.05281310065044109, -1.2953856887317763, -0.23262923631253374, -2.5064608920511025, -3.6201295377974985, -2.959479810992466, -3.772544722719001, -3.0709588325198514, -2.0375398840254366, -2.1693398305300824, -3.2990288162994386, -4.890590132460698, -4.15033703004252, -4.176687297989628, -4.5205820294304235, -4.414951077438917, -4.950842185052673, -6.320562459093343, -6.44888710392168, -6.020839447515197, -5.785039010002954, -6.093129681526676, -6.634138955952207, -6.570694424396184, -6.521643404930816, -5.299024933004039, -6.0886710847423435, -5.881060365924777, -3.915482394403372, -3.9827955274268745, -4.147845784640805, -3.42504253118667, -4.40082690854008, -4.075525471295986, -2.861534944561367, -3.781912959044849, -4.333547172371902, -3.7095920728127374, -3.4750745616048015, -2.747492006580319, -0.9979818882593192, -1.0647188197146276, -0.8955434858458016, -0.6519956098049098, 1.6492927283038028, 3.387224087556209, 4.513566073082565, 5.430806739184705, 4.907521152193672, 2.8095620478423875, 2.915435824696081, 1.5200875838787369, 2.429132108080452, 3.7756335804841363, 4.002064408796806, 3.4628516327730687, 3.214324464767252, 3.8560726788603708, 2.2554862113398633, 2.9445092783273754, 3.5262828903204313, 2.463193248025804, 1.7260733152151322, 0.7398626546489155, 0.4719722351730572, 0.9991489857126875, 1.9463121727900423, 0.23353648657121595, 1.0453540766324032, 0.8125285169010912, 0.21356493176886515, 0.28570457417174555, 0.11812423461881866, 0.4917748669935742, 0.36077971790123253, 0.5972969247795444, 0.7236739472521214, 2.636233090974466, 1.069513681161607, 0.28665585447293573, 0.19369838104339726, 0.35621491824623663, 3.048403464903692, 4.677726795508604, 4.894177005591278, 4.787507408289258, 4.951135431932031, 4.884774009715971, 3.5625808936247694, 2.9640904467996405, 2.6843113704032233, 2.530433555830813, 5.248023191199183, 4.349788040925403, 5.450810783635532, 5.052823592404031, 5.15929729082009]}, {\"histfunc\": \"count\", \"histnorm\": \"\", \"marker\": {\"color\": \"rgba(50, 171, 96, 1.0)\", \"line\": {\"color\": \"#4D5663\", \"width\": 1.3}}, \"name\": \"GOOG\", \"opacity\": 0.8, \"orientation\": \"v\", \"type\": \"histogram\", \"x\": [0.887859548430912, -0.12442855812384623, 0.31510584146026, -0.3620399760333849, 0.060047799161180415, 0.489542542000453, 0.39864526286565544, -0.12691305706221562, -0.14653742623622149, -1.9942051171963504, -1.3676444884468961, -0.8372557932333661, -1.9188470342391222, -1.176425895752355, -0.5063944395571112, -0.6230886218617776, -0.6637716155230189, -0.44370395604865664, -1.0502230320712198, -1.884455201532628, -0.8465602088727773, -0.2594989167460039, -1.9955610009465663, -2.221501710910537, -3.217375118573837, -3.6208546163065196, -4.929555124356471, -4.840508167100383, -3.827535434970696, -3.867032210267071, -4.5063002992719685, -4.925453159939044, -4.174179782827053, -2.657263222654409, -4.307262797144048, -5.304732773389594, -4.618642038632928, -5.7364532527662195, -4.392594886900887, -4.4558778061555255, -4.9857689109230625, -4.156439892523207, -3.3815162927726474, -4.524633232529935, -2.1656811236745916, -3.1885135351785516, -3.9006128888640728, -4.077345971346925, -4.000916020536469, -4.4098462746028675, -5.639320258383571, -5.687101247473266, -5.0688162769214875, -5.728851900477398, -6.343303939209772, -9.328835099025895, -8.860782654790022, -8.766972470016524, -7.71034017674116, -7.34436940021025, -7.352338908426178, -5.660115446029203, -6.6854008273788335, -5.682223402388089, -6.9632825041098405, -6.678646553285244, -5.752049999433002, -6.881893383159216, -6.5453962916602375, -5.039119802550206, -5.338956969174161, -4.4834048889550315, -3.927119209210786, -4.914573738720649, -6.567959222482106, -7.620031172452751, -7.607736110887162, -7.5546361814823495, -7.144042517705126, -7.123148748328626, -6.136712449596261, -6.365268583170922, -7.46153901912162, -7.887593355698787, -7.24361705197415, -6.356909555910471, -5.176156220893024, -6.80156252352153, -6.802162108296153, -6.313537622663519, -3.5447733332150233, -3.9845629222544896, -2.854306918829467, -2.6727676110848138, -2.985194155696666, -1.9778983711938678, -2.829599717537466, -2.256304104822701, -3.0652309473468895, -3.641370706696887]}, {\"histfunc\": \"count\", \"histnorm\": \"\", \"marker\": {\"color\": \"rgba(128, 0, 128, 1.0)\", \"line\": {\"color\": \"#4D5663\", \"width\": 1.3}}, \"name\": \"VERZ\", \"opacity\": 0.8, \"orientation\": \"v\", \"type\": \"histogram\", \"x\": [0.2048742448337656, 0.3995130615403163, 0.5136290915851257, 0.02076516140369261, 0.7226077593218854, 0.05684612597054928, -2.290373173966028, -3.352705324762807, -3.7250925423200565, -4.793135650456053, -5.329050597202418, -4.387591592305006, -4.049448089904911, -5.709282777034537, -6.328159594193041, -5.224321790483151, -5.2544049851922985, -5.421682067272712, -5.453447794943075, -5.2185053146589, -5.352828044506808, -6.099418933938748, -5.385357244049113, -5.133670710990421, -4.985790773356901, -4.275721196167301, -4.568176178165343, -4.250215743788066, -2.6250793292773977, -1.4682659462139522, -2.1133744171717304, -2.3256163870395024, -2.5325475124338666, -2.8567767576541843, -2.1431314030437036, -1.7670788605729655, -2.296789904733288, -2.2121516024694006, -3.5342462146632085, -0.6964724804885365, 1.3477234161467004, 1.441712672948758, 2.1058407403647976, 1.9878836781924143, 2.733661743162101, 4.07587656098306, 4.494268791352438, 2.7551554418904525, 3.4262226942585743, 4.261906636597172, 5.644921824628, 4.413022382756968, 5.910088337610661, 6.542923789958097, 6.312824948758883, 7.0707387309998815, 9.908110224085755, 9.306542233112879, 10.085829266774926, 9.708254599022629, 9.67875256616383, 7.916943299423433, 7.5583217288247715, 8.46681747105512, 9.205058014250898, 7.777162993877683, 7.405956989690508, 8.820618268349833, 8.580023758687686, 7.351488938534795, 4.329475295100899, 3.2757851795090573, 4.595116532455589, 5.783659442360334, 3.7878041018828923, 3.044704452625716, 2.0189657021517684, 4.274722764937334, 5.893714987065865, 5.18398622503782, 4.890734539739318, 5.259914377771817, 4.2388250269525924, 2.228345073405111, 1.0172014863258558, 2.904580330298862, 1.6375736383990258, 1.6730927768195931, 0.3295055389813142, 1.1186980436244327, 0.3825970786381174, 0.2403846669254254, 1.3424608810215752, 2.0175060395052333, 1.8490765888226344, 2.361676998871574, 2.3661487164680395, 4.650347499849967, 4.779357897092006, 5.318865454818467]}, {\"histfunc\": \"count\", \"histnorm\": \"\", \"marker\": {\"color\": \"rgba(219, 64, 82, 1.0)\", \"line\": {\"color\": \"#4D5663\", \"width\": 1.3}}, \"name\": \"APPL\", \"opacity\": 0.8, \"orientation\": \"v\", \"type\": \"histogram\", \"x\": [1.0819354668374346, 2.4799376706733622, 2.2268051364701633, 1.0250862796132514, 0.3554705098107952, 0.7156871789501777, 0.1067856256869062, -0.123407659403828, 0.28296814854104424, 0.49919665559686655, -0.006990933535996335, 0.033384083208729, -0.08440237960348058, 0.7897831313157041, 1.5201787318987088, 1.5475803170317657, 0.8576482186298152, 2.5467860395958803, 3.993713288865485, 4.567833775159525, 5.183738002370754, 6.092155689019387, 6.1823362071732495, 5.674471133357569, 5.3441259995195045, 5.617275592259908, 6.783773732222309, 7.198486019655446, 7.145176329258773, 6.543734446718874, 7.312297808122165, 7.223841848314789, 7.9514779082905, 8.561609308063588, 9.738378487072284, 9.075752793744627, 9.831438453795284, 8.516970286231762, 8.252832558903457, 9.533388230834202, 9.67698655408267, 10.86849174836057, 10.669733608987032, 9.989883871982169, 8.670283109572248, 9.577541757674734, 8.881467530627548, 10.376316257373494, 9.81916422882076, 10.225052700919383, 10.056165673334721, 11.05423378093204, 11.438246334862646, 10.468756699066553, 9.87868872301803, 8.76800846671155, 6.684972121397745, 8.078100249152664, 6.3740120486351195, 6.699908754451213, 6.63902778498758, 7.333955166310478, 8.539313786810935, 8.765231793823297, 8.550945866671988, 8.648688407218522, 8.369870777573873, 7.728510910650162, 7.187302004909984, 7.4427073016969105, 9.038283728844396, 11.127516915360015, 12.176216508021733, 13.642073852393995, 13.114857135669329, 13.832452593325161, 14.912682023756759, 15.357186361705619, 17.058373360129018, 18.476693401175936, 18.172980321487877, 19.516504578663504, 18.750375542604836, 19.83121087323503, 20.970407888437194, 20.46369062990867, 20.493108587316645, 19.42665903106606, 18.742685639947105, 18.034705834652556, 18.052638546929252, 16.476787278642664, 16.81420963222878, 15.856823228991814, 13.806346247259345, 14.896933576101397, 15.749362202489804, 16.287176408588053, 15.628818851369322, 15.302790607308463]}],\n",
       "                        {\"barmode\": \"overlay\", \"legend\": {\"bgcolor\": \"#F5F6F9\", \"font\": {\"color\": \"#4D5663\"}}, \"paper_bgcolor\": \"#F5F6F9\", \"plot_bgcolor\": \"#F5F6F9\", \"template\": {\"data\": {\"bar\": [{\"error_x\": {\"color\": \"#2a3f5f\"}, \"error_y\": {\"color\": \"#2a3f5f\"}, \"marker\": {\"line\": {\"color\": \"#E5ECF6\", \"width\": 0.5}}, \"type\": \"bar\"}], \"barpolar\": [{\"marker\": {\"line\": {\"color\": \"#E5ECF6\", \"width\": 0.5}}, \"type\": \"barpolar\"}], \"carpet\": [{\"aaxis\": {\"endlinecolor\": \"#2a3f5f\", \"gridcolor\": \"white\", \"linecolor\": \"white\", \"minorgridcolor\": \"white\", \"startlinecolor\": \"#2a3f5f\"}, \"baxis\": {\"endlinecolor\": \"#2a3f5f\", \"gridcolor\": \"white\", \"linecolor\": \"white\", \"minorgridcolor\": \"white\", \"startlinecolor\": \"#2a3f5f\"}, \"type\": \"carpet\"}], \"choropleth\": [{\"colorbar\": {\"outlinewidth\": 0, \"ticks\": \"\"}, \"type\": \"choropleth\"}], \"contour\": [{\"colorbar\": {\"outlinewidth\": 0, \"ticks\": \"\"}, \"colorscale\": [[0.0, \"#0d0887\"], [0.1111111111111111, \"#46039f\"], [0.2222222222222222, \"#7201a8\"], [0.3333333333333333, \"#9c179e\"], [0.4444444444444444, \"#bd3786\"], [0.5555555555555556, \"#d8576b\"], [0.6666666666666666, \"#ed7953\"], [0.7777777777777778, \"#fb9f3a\"], [0.8888888888888888, \"#fdca26\"], [1.0, \"#f0f921\"]], \"type\": \"contour\"}], \"contourcarpet\": [{\"colorbar\": {\"outlinewidth\": 0, \"ticks\": \"\"}, \"type\": \"contourcarpet\"}], \"heatmap\": [{\"colorbar\": {\"outlinewidth\": 0, \"ticks\": \"\"}, \"colorscale\": [[0.0, \"#0d0887\"], [0.1111111111111111, \"#46039f\"], [0.2222222222222222, \"#7201a8\"], [0.3333333333333333, \"#9c179e\"], [0.4444444444444444, \"#bd3786\"], [0.5555555555555556, \"#d8576b\"], [0.6666666666666666, \"#ed7953\"], [0.7777777777777778, \"#fb9f3a\"], [0.8888888888888888, \"#fdca26\"], [1.0, \"#f0f921\"]], \"type\": \"heatmap\"}], \"heatmapgl\": [{\"colorbar\": {\"outlinewidth\": 0, \"ticks\": \"\"}, \"colorscale\": [[0.0, \"#0d0887\"], [0.1111111111111111, \"#46039f\"], [0.2222222222222222, \"#7201a8\"], [0.3333333333333333, \"#9c179e\"], [0.4444444444444444, \"#bd3786\"], [0.5555555555555556, \"#d8576b\"], [0.6666666666666666, \"#ed7953\"], [0.7777777777777778, \"#fb9f3a\"], [0.8888888888888888, \"#fdca26\"], [1.0, \"#f0f921\"]], \"type\": \"heatmapgl\"}], \"histogram\": [{\"marker\": {\"colorbar\": {\"outlinewidth\": 0, \"ticks\": \"\"}}, \"type\": \"histogram\"}], \"histogram2d\": [{\"colorbar\": {\"outlinewidth\": 0, \"ticks\": \"\"}, \"colorscale\": [[0.0, \"#0d0887\"], [0.1111111111111111, \"#46039f\"], [0.2222222222222222, \"#7201a8\"], [0.3333333333333333, \"#9c179e\"], [0.4444444444444444, \"#bd3786\"], [0.5555555555555556, \"#d8576b\"], [0.6666666666666666, \"#ed7953\"], [0.7777777777777778, \"#fb9f3a\"], [0.8888888888888888, \"#fdca26\"], [1.0, \"#f0f921\"]], \"type\": \"histogram2d\"}], \"histogram2dcontour\": [{\"colorbar\": {\"outlinewidth\": 0, \"ticks\": \"\"}, \"colorscale\": [[0.0, \"#0d0887\"], [0.1111111111111111, \"#46039f\"], [0.2222222222222222, \"#7201a8\"], [0.3333333333333333, \"#9c179e\"], [0.4444444444444444, \"#bd3786\"], [0.5555555555555556, \"#d8576b\"], [0.6666666666666666, \"#ed7953\"], [0.7777777777777778, \"#fb9f3a\"], [0.8888888888888888, \"#fdca26\"], [1.0, \"#f0f921\"]], \"type\": \"histogram2dcontour\"}], \"mesh3d\": [{\"colorbar\": {\"outlinewidth\": 0, \"ticks\": \"\"}, \"type\": \"mesh3d\"}], \"parcoords\": [{\"line\": {\"colorbar\": {\"outlinewidth\": 0, \"ticks\": \"\"}}, \"type\": \"parcoords\"}], \"pie\": [{\"automargin\": true, \"type\": \"pie\"}], \"scatter\": [{\"marker\": {\"colorbar\": {\"outlinewidth\": 0, \"ticks\": \"\"}}, \"type\": \"scatter\"}], \"scatter3d\": [{\"line\": {\"colorbar\": {\"outlinewidth\": 0, \"ticks\": \"\"}}, \"marker\": {\"colorbar\": {\"outlinewidth\": 0, \"ticks\": \"\"}}, \"type\": \"scatter3d\"}], \"scattercarpet\": [{\"marker\": {\"colorbar\": {\"outlinewidth\": 0, \"ticks\": \"\"}}, \"type\": \"scattercarpet\"}], \"scattergeo\": [{\"marker\": {\"colorbar\": {\"outlinewidth\": 0, \"ticks\": \"\"}}, \"type\": \"scattergeo\"}], \"scattergl\": [{\"marker\": {\"colorbar\": {\"outlinewidth\": 0, \"ticks\": \"\"}}, \"type\": \"scattergl\"}], \"scattermapbox\": [{\"marker\": {\"colorbar\": {\"outlinewidth\": 0, \"ticks\": \"\"}}, \"type\": \"scattermapbox\"}], \"scatterpolar\": [{\"marker\": {\"colorbar\": {\"outlinewidth\": 0, \"ticks\": \"\"}}, \"type\": \"scatterpolar\"}], \"scatterpolargl\": [{\"marker\": {\"colorbar\": {\"outlinewidth\": 0, \"ticks\": \"\"}}, \"type\": \"scatterpolargl\"}], \"scatterternary\": [{\"marker\": {\"colorbar\": {\"outlinewidth\": 0, \"ticks\": \"\"}}, \"type\": \"scatterternary\"}], \"surface\": [{\"colorbar\": {\"outlinewidth\": 0, \"ticks\": \"\"}, \"colorscale\": [[0.0, \"#0d0887\"], [0.1111111111111111, \"#46039f\"], [0.2222222222222222, \"#7201a8\"], [0.3333333333333333, \"#9c179e\"], [0.4444444444444444, \"#bd3786\"], [0.5555555555555556, \"#d8576b\"], [0.6666666666666666, \"#ed7953\"], [0.7777777777777778, \"#fb9f3a\"], [0.8888888888888888, \"#fdca26\"], [1.0, \"#f0f921\"]], \"type\": \"surface\"}], \"table\": [{\"cells\": {\"fill\": {\"color\": \"#EBF0F8\"}, \"line\": {\"color\": \"white\"}}, \"header\": {\"fill\": {\"color\": \"#C8D4E3\"}, \"line\": {\"color\": \"white\"}}, \"type\": \"table\"}]}, \"layout\": {\"annotationdefaults\": {\"arrowcolor\": \"#2a3f5f\", \"arrowhead\": 0, \"arrowwidth\": 1}, \"coloraxis\": {\"colorbar\": {\"outlinewidth\": 0, \"ticks\": \"\"}}, \"colorscale\": {\"diverging\": [[0, \"#8e0152\"], [0.1, \"#c51b7d\"], [0.2, \"#de77ae\"], [0.3, \"#f1b6da\"], [0.4, \"#fde0ef\"], [0.5, \"#f7f7f7\"], [0.6, \"#e6f5d0\"], [0.7, \"#b8e186\"], [0.8, \"#7fbc41\"], [0.9, \"#4d9221\"], [1, \"#276419\"]], \"sequential\": [[0.0, \"#0d0887\"], [0.1111111111111111, \"#46039f\"], [0.2222222222222222, \"#7201a8\"], [0.3333333333333333, \"#9c179e\"], [0.4444444444444444, \"#bd3786\"], [0.5555555555555556, \"#d8576b\"], [0.6666666666666666, \"#ed7953\"], [0.7777777777777778, \"#fb9f3a\"], [0.8888888888888888, \"#fdca26\"], [1.0, \"#f0f921\"]], \"sequentialminus\": [[0.0, \"#0d0887\"], [0.1111111111111111, \"#46039f\"], [0.2222222222222222, \"#7201a8\"], [0.3333333333333333, \"#9c179e\"], [0.4444444444444444, \"#bd3786\"], [0.5555555555555556, \"#d8576b\"], [0.6666666666666666, \"#ed7953\"], [0.7777777777777778, \"#fb9f3a\"], [0.8888888888888888, \"#fdca26\"], [1.0, \"#f0f921\"]]}, \"colorway\": [\"#636efa\", \"#EF553B\", \"#00cc96\", \"#ab63fa\", \"#FFA15A\", \"#19d3f3\", \"#FF6692\", \"#B6E880\", \"#FF97FF\", \"#FECB52\"], \"font\": {\"color\": \"#2a3f5f\"}, \"geo\": {\"bgcolor\": \"white\", \"lakecolor\": \"white\", \"landcolor\": \"#E5ECF6\", \"showlakes\": true, \"showland\": true, \"subunitcolor\": \"white\"}, \"hoverlabel\": {\"align\": \"left\"}, \"hovermode\": \"closest\", \"mapbox\": {\"style\": \"light\"}, \"paper_bgcolor\": \"white\", \"plot_bgcolor\": \"#E5ECF6\", \"polar\": {\"angularaxis\": {\"gridcolor\": \"white\", \"linecolor\": \"white\", \"ticks\": \"\"}, \"bgcolor\": \"#E5ECF6\", \"radialaxis\": {\"gridcolor\": \"white\", \"linecolor\": \"white\", \"ticks\": \"\"}}, \"scene\": {\"xaxis\": {\"backgroundcolor\": \"#E5ECF6\", \"gridcolor\": \"white\", \"gridwidth\": 2, \"linecolor\": \"white\", \"showbackground\": true, \"ticks\": \"\", \"zerolinecolor\": \"white\"}, \"yaxis\": {\"backgroundcolor\": \"#E5ECF6\", \"gridcolor\": \"white\", \"gridwidth\": 2, \"linecolor\": \"white\", \"showbackground\": true, \"ticks\": \"\", \"zerolinecolor\": \"white\"}, \"zaxis\": {\"backgroundcolor\": \"#E5ECF6\", \"gridcolor\": \"white\", \"gridwidth\": 2, \"linecolor\": \"white\", \"showbackground\": true, \"ticks\": \"\", \"zerolinecolor\": \"white\"}}, \"shapedefaults\": {\"line\": {\"color\": \"#2a3f5f\"}}, \"ternary\": {\"aaxis\": {\"gridcolor\": \"white\", \"linecolor\": \"white\", \"ticks\": \"\"}, \"baxis\": {\"gridcolor\": \"white\", \"linecolor\": \"white\", \"ticks\": \"\"}, \"bgcolor\": \"#E5ECF6\", \"caxis\": {\"gridcolor\": \"white\", \"linecolor\": \"white\", \"ticks\": \"\"}}, \"title\": {\"x\": 0.05}, \"xaxis\": {\"automargin\": true, \"gridcolor\": \"white\", \"linecolor\": \"white\", \"ticks\": \"\", \"title\": {\"standoff\": 15}, \"zerolinecolor\": \"white\", \"zerolinewidth\": 2}, \"yaxis\": {\"automargin\": true, \"gridcolor\": \"white\", \"linecolor\": \"white\", \"ticks\": \"\", \"title\": {\"standoff\": 15}, \"zerolinecolor\": \"white\", \"zerolinewidth\": 2}}}, \"title\": {\"font\": {\"color\": \"#4D5663\"}}, \"xaxis\": {\"gridcolor\": \"#E1E5ED\", \"showgrid\": true, \"tickfont\": {\"color\": \"#4D5663\"}, \"title\": {\"font\": {\"color\": \"#4D5663\"}, \"text\": \"\"}, \"zerolinecolor\": \"#E1E5ED\"}, \"yaxis\": {\"gridcolor\": \"#E1E5ED\", \"showgrid\": true, \"tickfont\": {\"color\": \"#4D5663\"}, \"title\": {\"font\": {\"color\": \"#4D5663\"}, \"text\": \"\"}, \"zerolinecolor\": \"#E1E5ED\"}},\n",
       "                        {\"showLink\": true, \"linkText\": \"Export to plot.ly\", \"plotlyServerURL\": \"https://plot.ly\", \"responsive\": true}\n",
       "                    ).then(function(){\n",
       "                            \n",
       "var gd = document.getElementById('2ea9a7d8-836d-4525-8f56-9c9164f8d79a');\n",
       "var x = new MutationObserver(function (mutations, observer) {{\n",
       "        var display = window.getComputedStyle(gd).display;\n",
       "        if (!display || display === 'none') {{\n",
       "            console.log([gd, 'removed!']);\n",
       "            Plotly.purge(gd);\n",
       "            observer.disconnect();\n",
       "        }}\n",
       "}});\n",
       "\n",
       "// Listen for the removal of the full notebook cells\n",
       "var notebookContainer = gd.closest('#notebook-container');\n",
       "if (notebookContainer) {{\n",
       "    x.observe(notebookContainer, {childList: true});\n",
       "}}\n",
       "\n",
       "// Listen for the clearing of the current output cell\n",
       "var outputEl = gd.closest('.output');\n",
       "if (outputEl) {{\n",
       "    x.observe(outputEl, {childList: true});\n",
       "}}\n",
       "\n",
       "                        })\n",
       "                };\n",
       "                });\n",
       "            </script>\n",
       "        </div>"
      ]
     },
     "metadata": {},
     "output_type": "display_data"
    }
   ],
   "source": [
    "fig=df.iplot(kind='hist',x=\"IMB\",y='GOOG')\n",
    "#cf.iplot(fig,online=True)"
   ]
  },
  {
   "cell_type": "code",
   "execution_count": 63,
   "metadata": {},
   "outputs": [
    {
     "data": {
      "application/vnd.plotly.v1+json": {
       "config": {
        "linkText": "Export to plot.ly",
        "plotlyServerURL": "https://plot.ly",
        "showLink": true
       },
       "data": [
        {
         "histfunc": "count",
         "histnorm": "probability",
         "marker": {
          "color": "rgba(50, 171, 96, 1.0)",
          "line": {
           "color": "#4D5663",
           "width": 1.3
          }
         },
         "name": "GOOG",
         "opacity": 0.8,
         "orientation": "v",
         "type": "histogram",
         "x": [
          0.887859548430912,
          -0.12442855812384623,
          0.31510584146026,
          -0.3620399760333849,
          0.060047799161180415,
          0.489542542000453,
          0.39864526286565544,
          -0.12691305706221562,
          -0.14653742623622149,
          -1.9942051171963504,
          -1.3676444884468961,
          -0.8372557932333661,
          -1.9188470342391222,
          -1.176425895752355,
          -0.5063944395571112,
          -0.6230886218617776,
          -0.6637716155230189,
          -0.44370395604865664,
          -1.0502230320712198,
          -1.884455201532628,
          -0.8465602088727773,
          -0.2594989167460039,
          -1.9955610009465663,
          -2.221501710910537,
          -3.217375118573837,
          -3.6208546163065196,
          -4.929555124356471,
          -4.840508167100383,
          -3.827535434970696,
          -3.867032210267071,
          -4.5063002992719685,
          -4.925453159939044,
          -4.174179782827053,
          -2.657263222654409,
          -4.307262797144048,
          -5.304732773389594,
          -4.618642038632928,
          -5.7364532527662195,
          -4.392594886900887,
          -4.4558778061555255,
          -4.9857689109230625,
          -4.156439892523207,
          -3.3815162927726474,
          -4.524633232529935,
          -2.1656811236745916,
          -3.1885135351785516,
          -3.9006128888640728,
          -4.077345971346925,
          -4.000916020536469,
          -4.4098462746028675,
          -5.639320258383571,
          -5.687101247473266,
          -5.0688162769214875,
          -5.728851900477398,
          -6.343303939209772,
          -9.328835099025895,
          -8.860782654790022,
          -8.766972470016524,
          -7.71034017674116,
          -7.34436940021025,
          -7.352338908426178,
          -5.660115446029203,
          -6.6854008273788335,
          -5.682223402388089,
          -6.9632825041098405,
          -6.678646553285244,
          -5.752049999433002,
          -6.881893383159216,
          -6.5453962916602375,
          -5.039119802550206,
          -5.338956969174161,
          -4.4834048889550315,
          -3.927119209210786,
          -4.914573738720649,
          -6.567959222482106,
          -7.620031172452751,
          -7.607736110887162,
          -7.5546361814823495,
          -7.144042517705126,
          -7.123148748328626,
          -6.136712449596261,
          -6.365268583170922,
          -7.46153901912162,
          -7.887593355698787,
          -7.24361705197415,
          -6.356909555910471,
          -5.176156220893024,
          -6.80156252352153,
          -6.802162108296153,
          -6.313537622663519,
          -3.5447733332150233,
          -3.9845629222544896,
          -2.854306918829467,
          -2.6727676110848138,
          -2.985194155696666,
          -1.9778983711938678,
          -2.829599717537466,
          -2.256304104822701,
          -3.0652309473468895,
          -3.641370706696887
         ]
        },
        {
         "histfunc": "count",
         "histnorm": "probability",
         "marker": {
          "color": "rgba(255, 153, 51, 1.0)",
          "line": {
           "color": "#4D5663",
           "width": 1.3
          }
         },
         "name": "IBM",
         "opacity": 0.8,
         "orientation": "v",
         "type": "histogram",
         "x": [
          -1.2868801566664638,
          -2.028366513807729,
          -2.760879106191367,
          -1.9911859649445645,
          -1.1698265723057135,
          -0.9720902802456763,
          -1.3893692343289523,
          0.15751532682256508,
          0.28067988699811575,
          -0.5107120093055321,
          -1.8063687051293358,
          -1.7921784377934262,
          -1.1044874291941618,
          -0.2664229033287746,
          -0.6256421886729924,
          0.4121968431481302,
          1.8992288911822006,
          0.4713284609322743,
          2.994948247125084,
          3.0066845652519816,
          4.428386071353853,
          4.91527793224154,
          5.9599498493520535,
          6.1134080683029515,
          5.3533745076686206,
          5.293323668532801,
          4.099962721172125,
          5.217635982306543,
          6.071263872872076,
          4.6433790700021245,
          3.7602602888241847,
          3.281740775327897,
          2.7404638966339827,
          3.3387539342756676,
          4.0286684579720395,
          5.549431907856821,
          7.7754320531931445,
          6.322731592099521,
          6.500348418463007,
          4.307960773824358,
          5.299420681700493,
          6.887429791634869,
          8.867227597756447,
          9.705505785295987,
          9.727310508705818,
          9.47542189494929,
          10.024088259089691,
          9.98684737225707,
          10.69468858425811,
          12.590123161193892,
          11.782826178393798,
          10.917174155836495,
          10.734616926162627,
          10.241322244735414,
          10.641312793916578,
          9.281628379084083,
          9.400145386809678,
          8.651862561935062,
          7.565414896511578,
          6.965260757342342,
          6.707417689495253,
          5.298031156312341,
          5.189613710611087,
          6.38226310279424,
          6.183136169656518,
          5.612166391713544,
          6.39114867505892,
          6.579941941996416,
          8.383442583844783,
          7.707907622852362,
          6.38780750561438,
          6.444029553587608,
          6.607992301383706,
          5.807273092823491,
          6.986991314869297,
          8.092324810185454,
          7.438659031910002,
          7.801618929657894,
          8.167147603397437,
          8.31903075035327,
          7.29850862750133,
          7.512739654299573,
          6.420792527152818,
          7.055018729110213,
          7.0770407319095945,
          7.117641048349709,
          7.345524557970403,
          5.752190402863436,
          6.273101375049812,
          6.278722472055344,
          5.7539515553200955,
          3.1068215726052926,
          2.7290057360970037,
          1.2653832609269167,
          2.2899432891116005,
          1.9511362641198013,
          1.5916454981489803,
          2.1430788859714105,
          2.542681463390741,
          1.530278277459552
         ]
        }
       ],
       "layout": {
        "barmode": "overlay",
        "legend": {
         "bgcolor": "#F5F6F9",
         "font": {
          "color": "#4D5663"
         }
        },
        "paper_bgcolor": "#F5F6F9",
        "plot_bgcolor": "#F5F6F9",
        "template": {
         "data": {
          "bar": [
           {
            "error_x": {
             "color": "#2a3f5f"
            },
            "error_y": {
             "color": "#2a3f5f"
            },
            "marker": {
             "line": {
              "color": "#E5ECF6",
              "width": 0.5
             }
            },
            "type": "bar"
           }
          ],
          "barpolar": [
           {
            "marker": {
             "line": {
              "color": "#E5ECF6",
              "width": 0.5
             }
            },
            "type": "barpolar"
           }
          ],
          "carpet": [
           {
            "aaxis": {
             "endlinecolor": "#2a3f5f",
             "gridcolor": "white",
             "linecolor": "white",
             "minorgridcolor": "white",
             "startlinecolor": "#2a3f5f"
            },
            "baxis": {
             "endlinecolor": "#2a3f5f",
             "gridcolor": "white",
             "linecolor": "white",
             "minorgridcolor": "white",
             "startlinecolor": "#2a3f5f"
            },
            "type": "carpet"
           }
          ],
          "choropleth": [
           {
            "colorbar": {
             "outlinewidth": 0,
             "ticks": ""
            },
            "type": "choropleth"
           }
          ],
          "contour": [
           {
            "colorbar": {
             "outlinewidth": 0,
             "ticks": ""
            },
            "colorscale": [
             [
              0,
              "#0d0887"
             ],
             [
              0.1111111111111111,
              "#46039f"
             ],
             [
              0.2222222222222222,
              "#7201a8"
             ],
             [
              0.3333333333333333,
              "#9c179e"
             ],
             [
              0.4444444444444444,
              "#bd3786"
             ],
             [
              0.5555555555555556,
              "#d8576b"
             ],
             [
              0.6666666666666666,
              "#ed7953"
             ],
             [
              0.7777777777777778,
              "#fb9f3a"
             ],
             [
              0.8888888888888888,
              "#fdca26"
             ],
             [
              1,
              "#f0f921"
             ]
            ],
            "type": "contour"
           }
          ],
          "contourcarpet": [
           {
            "colorbar": {
             "outlinewidth": 0,
             "ticks": ""
            },
            "type": "contourcarpet"
           }
          ],
          "heatmap": [
           {
            "colorbar": {
             "outlinewidth": 0,
             "ticks": ""
            },
            "colorscale": [
             [
              0,
              "#0d0887"
             ],
             [
              0.1111111111111111,
              "#46039f"
             ],
             [
              0.2222222222222222,
              "#7201a8"
             ],
             [
              0.3333333333333333,
              "#9c179e"
             ],
             [
              0.4444444444444444,
              "#bd3786"
             ],
             [
              0.5555555555555556,
              "#d8576b"
             ],
             [
              0.6666666666666666,
              "#ed7953"
             ],
             [
              0.7777777777777778,
              "#fb9f3a"
             ],
             [
              0.8888888888888888,
              "#fdca26"
             ],
             [
              1,
              "#f0f921"
             ]
            ],
            "type": "heatmap"
           }
          ],
          "heatmapgl": [
           {
            "colorbar": {
             "outlinewidth": 0,
             "ticks": ""
            },
            "colorscale": [
             [
              0,
              "#0d0887"
             ],
             [
              0.1111111111111111,
              "#46039f"
             ],
             [
              0.2222222222222222,
              "#7201a8"
             ],
             [
              0.3333333333333333,
              "#9c179e"
             ],
             [
              0.4444444444444444,
              "#bd3786"
             ],
             [
              0.5555555555555556,
              "#d8576b"
             ],
             [
              0.6666666666666666,
              "#ed7953"
             ],
             [
              0.7777777777777778,
              "#fb9f3a"
             ],
             [
              0.8888888888888888,
              "#fdca26"
             ],
             [
              1,
              "#f0f921"
             ]
            ],
            "type": "heatmapgl"
           }
          ],
          "histogram": [
           {
            "marker": {
             "colorbar": {
              "outlinewidth": 0,
              "ticks": ""
             }
            },
            "type": "histogram"
           }
          ],
          "histogram2d": [
           {
            "colorbar": {
             "outlinewidth": 0,
             "ticks": ""
            },
            "colorscale": [
             [
              0,
              "#0d0887"
             ],
             [
              0.1111111111111111,
              "#46039f"
             ],
             [
              0.2222222222222222,
              "#7201a8"
             ],
             [
              0.3333333333333333,
              "#9c179e"
             ],
             [
              0.4444444444444444,
              "#bd3786"
             ],
             [
              0.5555555555555556,
              "#d8576b"
             ],
             [
              0.6666666666666666,
              "#ed7953"
             ],
             [
              0.7777777777777778,
              "#fb9f3a"
             ],
             [
              0.8888888888888888,
              "#fdca26"
             ],
             [
              1,
              "#f0f921"
             ]
            ],
            "type": "histogram2d"
           }
          ],
          "histogram2dcontour": [
           {
            "colorbar": {
             "outlinewidth": 0,
             "ticks": ""
            },
            "colorscale": [
             [
              0,
              "#0d0887"
             ],
             [
              0.1111111111111111,
              "#46039f"
             ],
             [
              0.2222222222222222,
              "#7201a8"
             ],
             [
              0.3333333333333333,
              "#9c179e"
             ],
             [
              0.4444444444444444,
              "#bd3786"
             ],
             [
              0.5555555555555556,
              "#d8576b"
             ],
             [
              0.6666666666666666,
              "#ed7953"
             ],
             [
              0.7777777777777778,
              "#fb9f3a"
             ],
             [
              0.8888888888888888,
              "#fdca26"
             ],
             [
              1,
              "#f0f921"
             ]
            ],
            "type": "histogram2dcontour"
           }
          ],
          "mesh3d": [
           {
            "colorbar": {
             "outlinewidth": 0,
             "ticks": ""
            },
            "type": "mesh3d"
           }
          ],
          "parcoords": [
           {
            "line": {
             "colorbar": {
              "outlinewidth": 0,
              "ticks": ""
             }
            },
            "type": "parcoords"
           }
          ],
          "pie": [
           {
            "automargin": true,
            "type": "pie"
           }
          ],
          "scatter": [
           {
            "marker": {
             "colorbar": {
              "outlinewidth": 0,
              "ticks": ""
             }
            },
            "type": "scatter"
           }
          ],
          "scatter3d": [
           {
            "line": {
             "colorbar": {
              "outlinewidth": 0,
              "ticks": ""
             }
            },
            "marker": {
             "colorbar": {
              "outlinewidth": 0,
              "ticks": ""
             }
            },
            "type": "scatter3d"
           }
          ],
          "scattercarpet": [
           {
            "marker": {
             "colorbar": {
              "outlinewidth": 0,
              "ticks": ""
             }
            },
            "type": "scattercarpet"
           }
          ],
          "scattergeo": [
           {
            "marker": {
             "colorbar": {
              "outlinewidth": 0,
              "ticks": ""
             }
            },
            "type": "scattergeo"
           }
          ],
          "scattergl": [
           {
            "marker": {
             "colorbar": {
              "outlinewidth": 0,
              "ticks": ""
             }
            },
            "type": "scattergl"
           }
          ],
          "scattermapbox": [
           {
            "marker": {
             "colorbar": {
              "outlinewidth": 0,
              "ticks": ""
             }
            },
            "type": "scattermapbox"
           }
          ],
          "scatterpolar": [
           {
            "marker": {
             "colorbar": {
              "outlinewidth": 0,
              "ticks": ""
             }
            },
            "type": "scatterpolar"
           }
          ],
          "scatterpolargl": [
           {
            "marker": {
             "colorbar": {
              "outlinewidth": 0,
              "ticks": ""
             }
            },
            "type": "scatterpolargl"
           }
          ],
          "scatterternary": [
           {
            "marker": {
             "colorbar": {
              "outlinewidth": 0,
              "ticks": ""
             }
            },
            "type": "scatterternary"
           }
          ],
          "surface": [
           {
            "colorbar": {
             "outlinewidth": 0,
             "ticks": ""
            },
            "colorscale": [
             [
              0,
              "#0d0887"
             ],
             [
              0.1111111111111111,
              "#46039f"
             ],
             [
              0.2222222222222222,
              "#7201a8"
             ],
             [
              0.3333333333333333,
              "#9c179e"
             ],
             [
              0.4444444444444444,
              "#bd3786"
             ],
             [
              0.5555555555555556,
              "#d8576b"
             ],
             [
              0.6666666666666666,
              "#ed7953"
             ],
             [
              0.7777777777777778,
              "#fb9f3a"
             ],
             [
              0.8888888888888888,
              "#fdca26"
             ],
             [
              1,
              "#f0f921"
             ]
            ],
            "type": "surface"
           }
          ],
          "table": [
           {
            "cells": {
             "fill": {
              "color": "#EBF0F8"
             },
             "line": {
              "color": "white"
             }
            },
            "header": {
             "fill": {
              "color": "#C8D4E3"
             },
             "line": {
              "color": "white"
             }
            },
            "type": "table"
           }
          ]
         },
         "layout": {
          "annotationdefaults": {
           "arrowcolor": "#2a3f5f",
           "arrowhead": 0,
           "arrowwidth": 1
          },
          "coloraxis": {
           "colorbar": {
            "outlinewidth": 0,
            "ticks": ""
           }
          },
          "colorscale": {
           "diverging": [
            [
             0,
             "#8e0152"
            ],
            [
             0.1,
             "#c51b7d"
            ],
            [
             0.2,
             "#de77ae"
            ],
            [
             0.3,
             "#f1b6da"
            ],
            [
             0.4,
             "#fde0ef"
            ],
            [
             0.5,
             "#f7f7f7"
            ],
            [
             0.6,
             "#e6f5d0"
            ],
            [
             0.7,
             "#b8e186"
            ],
            [
             0.8,
             "#7fbc41"
            ],
            [
             0.9,
             "#4d9221"
            ],
            [
             1,
             "#276419"
            ]
           ],
           "sequential": [
            [
             0,
             "#0d0887"
            ],
            [
             0.1111111111111111,
             "#46039f"
            ],
            [
             0.2222222222222222,
             "#7201a8"
            ],
            [
             0.3333333333333333,
             "#9c179e"
            ],
            [
             0.4444444444444444,
             "#bd3786"
            ],
            [
             0.5555555555555556,
             "#d8576b"
            ],
            [
             0.6666666666666666,
             "#ed7953"
            ],
            [
             0.7777777777777778,
             "#fb9f3a"
            ],
            [
             0.8888888888888888,
             "#fdca26"
            ],
            [
             1,
             "#f0f921"
            ]
           ],
           "sequentialminus": [
            [
             0,
             "#0d0887"
            ],
            [
             0.1111111111111111,
             "#46039f"
            ],
            [
             0.2222222222222222,
             "#7201a8"
            ],
            [
             0.3333333333333333,
             "#9c179e"
            ],
            [
             0.4444444444444444,
             "#bd3786"
            ],
            [
             0.5555555555555556,
             "#d8576b"
            ],
            [
             0.6666666666666666,
             "#ed7953"
            ],
            [
             0.7777777777777778,
             "#fb9f3a"
            ],
            [
             0.8888888888888888,
             "#fdca26"
            ],
            [
             1,
             "#f0f921"
            ]
           ]
          },
          "colorway": [
           "#636efa",
           "#EF553B",
           "#00cc96",
           "#ab63fa",
           "#FFA15A",
           "#19d3f3",
           "#FF6692",
           "#B6E880",
           "#FF97FF",
           "#FECB52"
          ],
          "font": {
           "color": "#2a3f5f"
          },
          "geo": {
           "bgcolor": "white",
           "lakecolor": "white",
           "landcolor": "#E5ECF6",
           "showlakes": true,
           "showland": true,
           "subunitcolor": "white"
          },
          "hoverlabel": {
           "align": "left"
          },
          "hovermode": "closest",
          "mapbox": {
           "style": "light"
          },
          "paper_bgcolor": "white",
          "plot_bgcolor": "#E5ECF6",
          "polar": {
           "angularaxis": {
            "gridcolor": "white",
            "linecolor": "white",
            "ticks": ""
           },
           "bgcolor": "#E5ECF6",
           "radialaxis": {
            "gridcolor": "white",
            "linecolor": "white",
            "ticks": ""
           }
          },
          "scene": {
           "xaxis": {
            "backgroundcolor": "#E5ECF6",
            "gridcolor": "white",
            "gridwidth": 2,
            "linecolor": "white",
            "showbackground": true,
            "ticks": "",
            "zerolinecolor": "white"
           },
           "yaxis": {
            "backgroundcolor": "#E5ECF6",
            "gridcolor": "white",
            "gridwidth": 2,
            "linecolor": "white",
            "showbackground": true,
            "ticks": "",
            "zerolinecolor": "white"
           },
           "zaxis": {
            "backgroundcolor": "#E5ECF6",
            "gridcolor": "white",
            "gridwidth": 2,
            "linecolor": "white",
            "showbackground": true,
            "ticks": "",
            "zerolinecolor": "white"
           }
          },
          "shapedefaults": {
           "line": {
            "color": "#2a3f5f"
           }
          },
          "ternary": {
           "aaxis": {
            "gridcolor": "white",
            "linecolor": "white",
            "ticks": ""
           },
           "baxis": {
            "gridcolor": "white",
            "linecolor": "white",
            "ticks": ""
           },
           "bgcolor": "#E5ECF6",
           "caxis": {
            "gridcolor": "white",
            "linecolor": "white",
            "ticks": ""
           }
          },
          "title": {
           "x": 0.05
          },
          "xaxis": {
           "automargin": true,
           "gridcolor": "white",
           "linecolor": "white",
           "ticks": "",
           "title": {
            "standoff": 15
           },
           "zerolinecolor": "white",
           "zerolinewidth": 2
          },
          "yaxis": {
           "automargin": true,
           "gridcolor": "white",
           "linecolor": "white",
           "ticks": "",
           "title": {
            "standoff": 15
           },
           "zerolinecolor": "white",
           "zerolinewidth": 2
          }
         }
        },
        "title": {
         "font": {
          "color": "#4D5663"
         }
        },
        "xaxis": {
         "gridcolor": "#E1E5ED",
         "showgrid": true,
         "tickfont": {
          "color": "#4D5663"
         },
         "title": {
          "font": {
           "color": "#4D5663"
          },
          "text": ""
         },
         "zerolinecolor": "#E1E5ED"
        },
        "yaxis": {
         "gridcolor": "#E1E5ED",
         "showgrid": true,
         "tickfont": {
          "color": "#4D5663"
         },
         "title": {
          "font": {
           "color": "#4D5663"
          },
          "text": ""
         },
         "zerolinecolor": "#E1E5ED"
        }
       }
      },
      "text/html": [
       "<div>\n",
       "        \n",
       "        \n",
       "            <div id=\"979431ef-a059-4a14-9a30-abdfbd08d001\" class=\"plotly-graph-div\" style=\"height:525px; width:100%;\"></div>\n",
       "            <script type=\"text/javascript\">\n",
       "                require([\"plotly\"], function(Plotly) {\n",
       "                    window.PLOTLYENV=window.PLOTLYENV || {};\n",
       "                    window.PLOTLYENV.BASE_URL='https://plot.ly';\n",
       "                    \n",
       "                if (document.getElementById(\"979431ef-a059-4a14-9a30-abdfbd08d001\")) {\n",
       "                    Plotly.newPlot(\n",
       "                        '979431ef-a059-4a14-9a30-abdfbd08d001',\n",
       "                        [{\"histfunc\": \"count\", \"histnorm\": \"probability\", \"marker\": {\"color\": \"rgba(50, 171, 96, 1.0)\", \"line\": {\"color\": \"#4D5663\", \"width\": 1.3}}, \"name\": \"GOOG\", \"opacity\": 0.8, \"orientation\": \"v\", \"type\": \"histogram\", \"x\": [0.887859548430912, -0.12442855812384623, 0.31510584146026, -0.3620399760333849, 0.060047799161180415, 0.489542542000453, 0.39864526286565544, -0.12691305706221562, -0.14653742623622149, -1.9942051171963504, -1.3676444884468961, -0.8372557932333661, -1.9188470342391222, -1.176425895752355, -0.5063944395571112, -0.6230886218617776, -0.6637716155230189, -0.44370395604865664, -1.0502230320712198, -1.884455201532628, -0.8465602088727773, -0.2594989167460039, -1.9955610009465663, -2.221501710910537, -3.217375118573837, -3.6208546163065196, -4.929555124356471, -4.840508167100383, -3.827535434970696, -3.867032210267071, -4.5063002992719685, -4.925453159939044, -4.174179782827053, -2.657263222654409, -4.307262797144048, -5.304732773389594, -4.618642038632928, -5.7364532527662195, -4.392594886900887, -4.4558778061555255, -4.9857689109230625, -4.156439892523207, -3.3815162927726474, -4.524633232529935, -2.1656811236745916, -3.1885135351785516, -3.9006128888640728, -4.077345971346925, -4.000916020536469, -4.4098462746028675, -5.639320258383571, -5.687101247473266, -5.0688162769214875, -5.728851900477398, -6.343303939209772, -9.328835099025895, -8.860782654790022, -8.766972470016524, -7.71034017674116, -7.34436940021025, -7.352338908426178, -5.660115446029203, -6.6854008273788335, -5.682223402388089, -6.9632825041098405, -6.678646553285244, -5.752049999433002, -6.881893383159216, -6.5453962916602375, -5.039119802550206, -5.338956969174161, -4.4834048889550315, -3.927119209210786, -4.914573738720649, -6.567959222482106, -7.620031172452751, -7.607736110887162, -7.5546361814823495, -7.144042517705126, -7.123148748328626, -6.136712449596261, -6.365268583170922, -7.46153901912162, -7.887593355698787, -7.24361705197415, -6.356909555910471, -5.176156220893024, -6.80156252352153, -6.802162108296153, -6.313537622663519, -3.5447733332150233, -3.9845629222544896, -2.854306918829467, -2.6727676110848138, -2.985194155696666, -1.9778983711938678, -2.829599717537466, -2.256304104822701, -3.0652309473468895, -3.641370706696887]}, {\"histfunc\": \"count\", \"histnorm\": \"probability\", \"marker\": {\"color\": \"rgba(255, 153, 51, 1.0)\", \"line\": {\"color\": \"#4D5663\", \"width\": 1.3}}, \"name\": \"IBM\", \"opacity\": 0.8, \"orientation\": \"v\", \"type\": \"histogram\", \"x\": [-1.2868801566664638, -2.028366513807729, -2.760879106191367, -1.9911859649445645, -1.1698265723057135, -0.9720902802456763, -1.3893692343289523, 0.15751532682256508, 0.28067988699811575, -0.5107120093055321, -1.8063687051293358, -1.7921784377934262, -1.1044874291941618, -0.2664229033287746, -0.6256421886729924, 0.4121968431481302, 1.8992288911822006, 0.4713284609322743, 2.994948247125084, 3.0066845652519816, 4.428386071353853, 4.91527793224154, 5.9599498493520535, 6.1134080683029515, 5.3533745076686206, 5.293323668532801, 4.099962721172125, 5.217635982306543, 6.071263872872076, 4.6433790700021245, 3.7602602888241847, 3.281740775327897, 2.7404638966339827, 3.3387539342756676, 4.0286684579720395, 5.549431907856821, 7.7754320531931445, 6.322731592099521, 6.500348418463007, 4.307960773824358, 5.299420681700493, 6.887429791634869, 8.867227597756447, 9.705505785295987, 9.727310508705818, 9.47542189494929, 10.024088259089691, 9.98684737225707, 10.69468858425811, 12.590123161193892, 11.782826178393798, 10.917174155836495, 10.734616926162627, 10.241322244735414, 10.641312793916578, 9.281628379084083, 9.400145386809678, 8.651862561935062, 7.565414896511578, 6.965260757342342, 6.707417689495253, 5.298031156312341, 5.189613710611087, 6.38226310279424, 6.183136169656518, 5.612166391713544, 6.39114867505892, 6.579941941996416, 8.383442583844783, 7.707907622852362, 6.38780750561438, 6.444029553587608, 6.607992301383706, 5.807273092823491, 6.986991314869297, 8.092324810185454, 7.438659031910002, 7.801618929657894, 8.167147603397437, 8.31903075035327, 7.29850862750133, 7.512739654299573, 6.420792527152818, 7.055018729110213, 7.0770407319095945, 7.117641048349709, 7.345524557970403, 5.752190402863436, 6.273101375049812, 6.278722472055344, 5.7539515553200955, 3.1068215726052926, 2.7290057360970037, 1.2653832609269167, 2.2899432891116005, 1.9511362641198013, 1.5916454981489803, 2.1430788859714105, 2.542681463390741, 1.530278277459552]}],\n",
       "                        {\"barmode\": \"overlay\", \"legend\": {\"bgcolor\": \"#F5F6F9\", \"font\": {\"color\": \"#4D5663\"}}, \"paper_bgcolor\": \"#F5F6F9\", \"plot_bgcolor\": \"#F5F6F9\", \"template\": {\"data\": {\"bar\": [{\"error_x\": {\"color\": \"#2a3f5f\"}, \"error_y\": {\"color\": \"#2a3f5f\"}, \"marker\": {\"line\": {\"color\": \"#E5ECF6\", \"width\": 0.5}}, \"type\": \"bar\"}], \"barpolar\": [{\"marker\": {\"line\": {\"color\": \"#E5ECF6\", \"width\": 0.5}}, \"type\": \"barpolar\"}], \"carpet\": [{\"aaxis\": {\"endlinecolor\": \"#2a3f5f\", \"gridcolor\": \"white\", \"linecolor\": \"white\", \"minorgridcolor\": \"white\", \"startlinecolor\": \"#2a3f5f\"}, \"baxis\": {\"endlinecolor\": \"#2a3f5f\", \"gridcolor\": \"white\", \"linecolor\": \"white\", \"minorgridcolor\": \"white\", \"startlinecolor\": \"#2a3f5f\"}, \"type\": \"carpet\"}], \"choropleth\": [{\"colorbar\": {\"outlinewidth\": 0, \"ticks\": \"\"}, \"type\": \"choropleth\"}], \"contour\": [{\"colorbar\": {\"outlinewidth\": 0, \"ticks\": \"\"}, \"colorscale\": [[0.0, \"#0d0887\"], [0.1111111111111111, \"#46039f\"], [0.2222222222222222, \"#7201a8\"], [0.3333333333333333, \"#9c179e\"], [0.4444444444444444, \"#bd3786\"], [0.5555555555555556, \"#d8576b\"], [0.6666666666666666, \"#ed7953\"], [0.7777777777777778, \"#fb9f3a\"], [0.8888888888888888, \"#fdca26\"], [1.0, \"#f0f921\"]], \"type\": \"contour\"}], \"contourcarpet\": [{\"colorbar\": {\"outlinewidth\": 0, \"ticks\": \"\"}, \"type\": \"contourcarpet\"}], \"heatmap\": [{\"colorbar\": {\"outlinewidth\": 0, \"ticks\": \"\"}, \"colorscale\": [[0.0, \"#0d0887\"], [0.1111111111111111, \"#46039f\"], [0.2222222222222222, \"#7201a8\"], [0.3333333333333333, \"#9c179e\"], [0.4444444444444444, \"#bd3786\"], [0.5555555555555556, \"#d8576b\"], [0.6666666666666666, \"#ed7953\"], [0.7777777777777778, \"#fb9f3a\"], [0.8888888888888888, \"#fdca26\"], [1.0, \"#f0f921\"]], \"type\": \"heatmap\"}], \"heatmapgl\": [{\"colorbar\": {\"outlinewidth\": 0, \"ticks\": \"\"}, \"colorscale\": [[0.0, \"#0d0887\"], [0.1111111111111111, \"#46039f\"], [0.2222222222222222, \"#7201a8\"], [0.3333333333333333, \"#9c179e\"], [0.4444444444444444, \"#bd3786\"], [0.5555555555555556, \"#d8576b\"], [0.6666666666666666, \"#ed7953\"], [0.7777777777777778, \"#fb9f3a\"], [0.8888888888888888, \"#fdca26\"], [1.0, \"#f0f921\"]], \"type\": \"heatmapgl\"}], \"histogram\": [{\"marker\": {\"colorbar\": {\"outlinewidth\": 0, \"ticks\": \"\"}}, \"type\": \"histogram\"}], \"histogram2d\": [{\"colorbar\": {\"outlinewidth\": 0, \"ticks\": \"\"}, \"colorscale\": [[0.0, \"#0d0887\"], [0.1111111111111111, \"#46039f\"], [0.2222222222222222, \"#7201a8\"], [0.3333333333333333, \"#9c179e\"], [0.4444444444444444, \"#bd3786\"], [0.5555555555555556, \"#d8576b\"], [0.6666666666666666, \"#ed7953\"], [0.7777777777777778, \"#fb9f3a\"], [0.8888888888888888, \"#fdca26\"], [1.0, \"#f0f921\"]], \"type\": \"histogram2d\"}], \"histogram2dcontour\": [{\"colorbar\": {\"outlinewidth\": 0, \"ticks\": \"\"}, \"colorscale\": [[0.0, \"#0d0887\"], [0.1111111111111111, \"#46039f\"], [0.2222222222222222, \"#7201a8\"], [0.3333333333333333, \"#9c179e\"], [0.4444444444444444, \"#bd3786\"], [0.5555555555555556, \"#d8576b\"], [0.6666666666666666, \"#ed7953\"], [0.7777777777777778, \"#fb9f3a\"], [0.8888888888888888, \"#fdca26\"], [1.0, \"#f0f921\"]], \"type\": \"histogram2dcontour\"}], \"mesh3d\": [{\"colorbar\": {\"outlinewidth\": 0, \"ticks\": \"\"}, \"type\": \"mesh3d\"}], \"parcoords\": [{\"line\": {\"colorbar\": {\"outlinewidth\": 0, \"ticks\": \"\"}}, \"type\": \"parcoords\"}], \"pie\": [{\"automargin\": true, \"type\": \"pie\"}], \"scatter\": [{\"marker\": {\"colorbar\": {\"outlinewidth\": 0, \"ticks\": \"\"}}, \"type\": \"scatter\"}], \"scatter3d\": [{\"line\": {\"colorbar\": {\"outlinewidth\": 0, \"ticks\": \"\"}}, \"marker\": {\"colorbar\": {\"outlinewidth\": 0, \"ticks\": \"\"}}, \"type\": \"scatter3d\"}], \"scattercarpet\": [{\"marker\": {\"colorbar\": {\"outlinewidth\": 0, \"ticks\": \"\"}}, \"type\": \"scattercarpet\"}], \"scattergeo\": [{\"marker\": {\"colorbar\": {\"outlinewidth\": 0, \"ticks\": \"\"}}, \"type\": \"scattergeo\"}], \"scattergl\": [{\"marker\": {\"colorbar\": {\"outlinewidth\": 0, \"ticks\": \"\"}}, \"type\": \"scattergl\"}], \"scattermapbox\": [{\"marker\": {\"colorbar\": {\"outlinewidth\": 0, \"ticks\": \"\"}}, \"type\": \"scattermapbox\"}], \"scatterpolar\": [{\"marker\": {\"colorbar\": {\"outlinewidth\": 0, \"ticks\": \"\"}}, \"type\": \"scatterpolar\"}], \"scatterpolargl\": [{\"marker\": {\"colorbar\": {\"outlinewidth\": 0, \"ticks\": \"\"}}, \"type\": \"scatterpolargl\"}], \"scatterternary\": [{\"marker\": {\"colorbar\": {\"outlinewidth\": 0, \"ticks\": \"\"}}, \"type\": \"scatterternary\"}], \"surface\": [{\"colorbar\": {\"outlinewidth\": 0, \"ticks\": \"\"}, \"colorscale\": [[0.0, \"#0d0887\"], [0.1111111111111111, \"#46039f\"], [0.2222222222222222, \"#7201a8\"], [0.3333333333333333, \"#9c179e\"], [0.4444444444444444, \"#bd3786\"], [0.5555555555555556, \"#d8576b\"], [0.6666666666666666, \"#ed7953\"], [0.7777777777777778, \"#fb9f3a\"], [0.8888888888888888, \"#fdca26\"], [1.0, \"#f0f921\"]], \"type\": \"surface\"}], \"table\": [{\"cells\": {\"fill\": {\"color\": \"#EBF0F8\"}, \"line\": {\"color\": \"white\"}}, \"header\": {\"fill\": {\"color\": \"#C8D4E3\"}, \"line\": {\"color\": \"white\"}}, \"type\": \"table\"}]}, \"layout\": {\"annotationdefaults\": {\"arrowcolor\": \"#2a3f5f\", \"arrowhead\": 0, \"arrowwidth\": 1}, \"coloraxis\": {\"colorbar\": {\"outlinewidth\": 0, \"ticks\": \"\"}}, \"colorscale\": {\"diverging\": [[0, \"#8e0152\"], [0.1, \"#c51b7d\"], [0.2, \"#de77ae\"], [0.3, \"#f1b6da\"], [0.4, \"#fde0ef\"], [0.5, \"#f7f7f7\"], [0.6, \"#e6f5d0\"], [0.7, \"#b8e186\"], [0.8, \"#7fbc41\"], [0.9, \"#4d9221\"], [1, \"#276419\"]], \"sequential\": [[0.0, \"#0d0887\"], [0.1111111111111111, \"#46039f\"], [0.2222222222222222, \"#7201a8\"], [0.3333333333333333, \"#9c179e\"], [0.4444444444444444, \"#bd3786\"], [0.5555555555555556, \"#d8576b\"], [0.6666666666666666, \"#ed7953\"], [0.7777777777777778, \"#fb9f3a\"], [0.8888888888888888, \"#fdca26\"], [1.0, \"#f0f921\"]], \"sequentialminus\": [[0.0, \"#0d0887\"], [0.1111111111111111, \"#46039f\"], [0.2222222222222222, \"#7201a8\"], [0.3333333333333333, \"#9c179e\"], [0.4444444444444444, \"#bd3786\"], [0.5555555555555556, \"#d8576b\"], [0.6666666666666666, \"#ed7953\"], [0.7777777777777778, \"#fb9f3a\"], [0.8888888888888888, \"#fdca26\"], [1.0, \"#f0f921\"]]}, \"colorway\": [\"#636efa\", \"#EF553B\", \"#00cc96\", \"#ab63fa\", \"#FFA15A\", \"#19d3f3\", \"#FF6692\", \"#B6E880\", \"#FF97FF\", \"#FECB52\"], \"font\": {\"color\": \"#2a3f5f\"}, \"geo\": {\"bgcolor\": \"white\", \"lakecolor\": \"white\", \"landcolor\": \"#E5ECF6\", \"showlakes\": true, \"showland\": true, \"subunitcolor\": \"white\"}, \"hoverlabel\": {\"align\": \"left\"}, \"hovermode\": \"closest\", \"mapbox\": {\"style\": \"light\"}, \"paper_bgcolor\": \"white\", \"plot_bgcolor\": \"#E5ECF6\", \"polar\": {\"angularaxis\": {\"gridcolor\": \"white\", \"linecolor\": \"white\", \"ticks\": \"\"}, \"bgcolor\": \"#E5ECF6\", \"radialaxis\": {\"gridcolor\": \"white\", \"linecolor\": \"white\", \"ticks\": \"\"}}, \"scene\": {\"xaxis\": {\"backgroundcolor\": \"#E5ECF6\", \"gridcolor\": \"white\", \"gridwidth\": 2, \"linecolor\": \"white\", \"showbackground\": true, \"ticks\": \"\", \"zerolinecolor\": \"white\"}, \"yaxis\": {\"backgroundcolor\": \"#E5ECF6\", \"gridcolor\": \"white\", \"gridwidth\": 2, \"linecolor\": \"white\", \"showbackground\": true, \"ticks\": \"\", \"zerolinecolor\": \"white\"}, \"zaxis\": {\"backgroundcolor\": \"#E5ECF6\", \"gridcolor\": \"white\", \"gridwidth\": 2, \"linecolor\": \"white\", \"showbackground\": true, \"ticks\": \"\", \"zerolinecolor\": \"white\"}}, \"shapedefaults\": {\"line\": {\"color\": \"#2a3f5f\"}}, \"ternary\": {\"aaxis\": {\"gridcolor\": \"white\", \"linecolor\": \"white\", \"ticks\": \"\"}, \"baxis\": {\"gridcolor\": \"white\", \"linecolor\": \"white\", \"ticks\": \"\"}, \"bgcolor\": \"#E5ECF6\", \"caxis\": {\"gridcolor\": \"white\", \"linecolor\": \"white\", \"ticks\": \"\"}}, \"title\": {\"x\": 0.05}, \"xaxis\": {\"automargin\": true, \"gridcolor\": \"white\", \"linecolor\": \"white\", \"ticks\": \"\", \"title\": {\"standoff\": 15}, \"zerolinecolor\": \"white\", \"zerolinewidth\": 2}, \"yaxis\": {\"automargin\": true, \"gridcolor\": \"white\", \"linecolor\": \"white\", \"ticks\": \"\", \"title\": {\"standoff\": 15}, \"zerolinecolor\": \"white\", \"zerolinewidth\": 2}}}, \"title\": {\"font\": {\"color\": \"#4D5663\"}}, \"xaxis\": {\"gridcolor\": \"#E1E5ED\", \"showgrid\": true, \"tickfont\": {\"color\": \"#4D5663\"}, \"title\": {\"font\": {\"color\": \"#4D5663\"}, \"text\": \"\"}, \"zerolinecolor\": \"#E1E5ED\"}, \"yaxis\": {\"gridcolor\": \"#E1E5ED\", \"showgrid\": true, \"tickfont\": {\"color\": \"#4D5663\"}, \"title\": {\"font\": {\"color\": \"#4D5663\"}, \"text\": \"\"}, \"zerolinecolor\": \"#E1E5ED\"}},\n",
       "                        {\"showLink\": true, \"linkText\": \"Export to plot.ly\", \"plotlyServerURL\": \"https://plot.ly\", \"responsive\": true}\n",
       "                    ).then(function(){\n",
       "                            \n",
       "var gd = document.getElementById('979431ef-a059-4a14-9a30-abdfbd08d001');\n",
       "var x = new MutationObserver(function (mutations, observer) {{\n",
       "        var display = window.getComputedStyle(gd).display;\n",
       "        if (!display || display === 'none') {{\n",
       "            console.log([gd, 'removed!']);\n",
       "            Plotly.purge(gd);\n",
       "            observer.disconnect();\n",
       "        }}\n",
       "}});\n",
       "\n",
       "// Listen for the removal of the full notebook cells\n",
       "var notebookContainer = gd.closest('#notebook-container');\n",
       "if (notebookContainer) {{\n",
       "    x.observe(notebookContainer, {childList: true});\n",
       "}}\n",
       "\n",
       "// Listen for the clearing of the current output cell\n",
       "var outputEl = gd.closest('.output');\n",
       "if (outputEl) {{\n",
       "    x.observe(outputEl, {childList: true});\n",
       "}}\n",
       "\n",
       "                        })\n",
       "                };\n",
       "                });\n",
       "            </script>\n",
       "        </div>"
      ]
     },
     "metadata": {},
     "output_type": "display_data"
    }
   ],
   "source": [
    "df.iplot(kind='histogram',columns=['GOOG','IBM'],orientation='v',histnorm='probability')"
   ]
  },
  {
   "cell_type": "code",
   "execution_count": null,
   "metadata": {},
   "outputs": [],
   "source": []
  },
  {
   "cell_type": "code",
   "execution_count": 47,
   "metadata": {},
   "outputs": [
    {
     "data": {
      "application/vnd.plotly.v1+json": {
       "config": {
        "linkText": "Export to plot.ly",
        "plotlyServerURL": "https://plot.ly",
        "showLink": true
       },
       "data": [
        {
         "histfunc": "count",
         "histnorm": "",
         "marker": {
          "color": "rgba(255, 153, 51, 1.0)",
          "line": {
           "color": "#4D5663",
           "width": 1.3
          }
         },
         "name": "IBM",
         "nbinsx": 10,
         "opacity": 0.8,
         "orientation": "v",
         "type": "histogram",
         "x": [
          -1.2868801566664638,
          -2.028366513807729,
          -2.760879106191367,
          -1.9911859649445645,
          -1.1698265723057135,
          -0.9720902802456763,
          -1.3893692343289523,
          0.15751532682256508,
          0.28067988699811575,
          -0.5107120093055321,
          -1.8063687051293358,
          -1.7921784377934262,
          -1.1044874291941618,
          -0.2664229033287746,
          -0.6256421886729924,
          0.4121968431481302,
          1.8992288911822006,
          0.4713284609322743,
          2.994948247125084,
          3.0066845652519816,
          4.428386071353853,
          4.91527793224154,
          5.9599498493520535,
          6.1134080683029515,
          5.3533745076686206,
          5.293323668532801,
          4.099962721172125,
          5.217635982306543,
          6.071263872872076,
          4.6433790700021245,
          3.7602602888241847,
          3.281740775327897,
          2.7404638966339827,
          3.3387539342756676,
          4.0286684579720395,
          5.549431907856821,
          7.7754320531931445,
          6.322731592099521,
          6.500348418463007,
          4.307960773824358,
          5.299420681700493,
          6.887429791634869,
          8.867227597756447,
          9.705505785295987,
          9.727310508705818,
          9.47542189494929,
          10.024088259089691,
          9.98684737225707,
          10.69468858425811,
          12.590123161193892,
          11.782826178393798,
          10.917174155836495,
          10.734616926162627,
          10.241322244735414,
          10.641312793916578,
          9.281628379084083,
          9.400145386809678,
          8.651862561935062,
          7.565414896511578,
          6.965260757342342,
          6.707417689495253,
          5.298031156312341,
          5.189613710611087,
          6.38226310279424,
          6.183136169656518,
          5.612166391713544,
          6.39114867505892,
          6.579941941996416,
          8.383442583844783,
          7.707907622852362,
          6.38780750561438,
          6.444029553587608,
          6.607992301383706,
          5.807273092823491,
          6.986991314869297,
          8.092324810185454,
          7.438659031910002,
          7.801618929657894,
          8.167147603397437,
          8.31903075035327,
          7.29850862750133,
          7.512739654299573,
          6.420792527152818,
          7.055018729110213,
          7.0770407319095945,
          7.117641048349709,
          7.345524557970403,
          5.752190402863436,
          6.273101375049812,
          6.278722472055344,
          5.7539515553200955,
          3.1068215726052926,
          2.7290057360970037,
          1.2653832609269167,
          2.2899432891116005,
          1.9511362641198013,
          1.5916454981489803,
          2.1430788859714105,
          2.542681463390741,
          1.530278277459552
         ],
         "xaxis": "x",
         "yaxis": "y"
        },
        {
         "line": {
          "color": "rgba(128, 128, 128, 1.0)",
          "dash": "solid",
          "shape": "linear",
          "width": 1.3
         },
         "marker": {
          "size": 2,
          "symbol": "circle"
         },
         "mode": "markers",
         "name": "IBM",
         "text": "",
         "type": "scatter",
         "x": [
          -0.14231784552685722,
          0.0038383488741102756,
          -1.394342441102017,
          0.05281310065044109,
          -1.2953856887317763,
          -0.23262923631253374,
          -2.5064608920511025,
          -3.6201295377974985,
          -2.959479810992466,
          -3.772544722719001,
          -3.0709588325198514,
          -2.0375398840254366,
          -2.1693398305300824,
          -3.2990288162994386,
          -4.890590132460698,
          -4.15033703004252,
          -4.176687297989628,
          -4.5205820294304235,
          -4.414951077438917,
          -4.950842185052673,
          -6.320562459093343,
          -6.44888710392168,
          -6.020839447515197,
          -5.785039010002954,
          -6.093129681526676,
          -6.634138955952207,
          -6.570694424396184,
          -6.521643404930816,
          -5.299024933004039,
          -6.0886710847423435,
          -5.881060365924777,
          -3.915482394403372,
          -3.9827955274268745,
          -4.147845784640805,
          -3.42504253118667,
          -4.40082690854008,
          -4.075525471295986,
          -2.861534944561367,
          -3.781912959044849,
          -4.333547172371902,
          -3.7095920728127374,
          -3.4750745616048015,
          -2.747492006580319,
          -0.9979818882593192,
          -1.0647188197146276,
          -0.8955434858458016,
          -0.6519956098049098,
          1.6492927283038028,
          3.387224087556209,
          4.513566073082565,
          5.430806739184705,
          4.907521152193672,
          2.8095620478423875,
          2.915435824696081,
          1.5200875838787369,
          2.429132108080452,
          3.7756335804841363,
          4.002064408796806,
          3.4628516327730687,
          3.214324464767252,
          3.8560726788603708,
          2.2554862113398633,
          2.9445092783273754,
          3.5262828903204313,
          2.463193248025804,
          1.7260733152151322,
          0.7398626546489155,
          0.4719722351730572,
          0.9991489857126875,
          1.9463121727900423,
          0.23353648657121595,
          1.0453540766324032,
          0.8125285169010912,
          0.21356493176886515,
          0.28570457417174555,
          0.11812423461881866,
          0.4917748669935742,
          0.36077971790123253,
          0.5972969247795444,
          0.7236739472521214,
          2.636233090974466,
          1.069513681161607,
          0.28665585447293573,
          0.19369838104339726,
          0.35621491824623663,
          3.048403464903692,
          4.677726795508604,
          4.894177005591278,
          4.787507408289258,
          4.951135431932031,
          4.884774009715971,
          3.5625808936247694,
          2.9640904467996405,
          2.6843113704032233,
          2.530433555830813,
          5.248023191199183,
          4.349788040925403,
          5.450810783635532,
          5.052823592404031,
          5.15929729082009
         ],
         "xaxis": "x2",
         "y": [
          -1.2868801566664638,
          -2.028366513807729,
          -2.760879106191367,
          -1.9911859649445645,
          -1.1698265723057135,
          -0.9720902802456763,
          -1.3893692343289523,
          0.15751532682256508,
          0.28067988699811575,
          -0.5107120093055321,
          -1.8063687051293358,
          -1.7921784377934262,
          -1.1044874291941618,
          -0.2664229033287746,
          -0.6256421886729924,
          0.4121968431481302,
          1.8992288911822006,
          0.4713284609322743,
          2.994948247125084,
          3.0066845652519816,
          4.428386071353853,
          4.91527793224154,
          5.9599498493520535,
          6.1134080683029515,
          5.3533745076686206,
          5.293323668532801,
          4.099962721172125,
          5.217635982306543,
          6.071263872872076,
          4.6433790700021245,
          3.7602602888241847,
          3.281740775327897,
          2.7404638966339827,
          3.3387539342756676,
          4.0286684579720395,
          5.549431907856821,
          7.7754320531931445,
          6.322731592099521,
          6.500348418463007,
          4.307960773824358,
          5.299420681700493,
          6.887429791634869,
          8.867227597756447,
          9.705505785295987,
          9.727310508705818,
          9.47542189494929,
          10.024088259089691,
          9.98684737225707,
          10.69468858425811,
          12.590123161193892,
          11.782826178393798,
          10.917174155836495,
          10.734616926162627,
          10.241322244735414,
          10.641312793916578,
          9.281628379084083,
          9.400145386809678,
          8.651862561935062,
          7.565414896511578,
          6.965260757342342,
          6.707417689495253,
          5.298031156312341,
          5.189613710611087,
          6.38226310279424,
          6.183136169656518,
          5.612166391713544,
          6.39114867505892,
          6.579941941996416,
          8.383442583844783,
          7.707907622852362,
          6.38780750561438,
          6.444029553587608,
          6.607992301383706,
          5.807273092823491,
          6.986991314869297,
          8.092324810185454,
          7.438659031910002,
          7.801618929657894,
          8.167147603397437,
          8.31903075035327,
          7.29850862750133,
          7.512739654299573,
          6.420792527152818,
          7.055018729110213,
          7.0770407319095945,
          7.117641048349709,
          7.345524557970403,
          5.752190402863436,
          6.273101375049812,
          6.278722472055344,
          5.7539515553200955,
          3.1068215726052926,
          2.7290057360970037,
          1.2653832609269167,
          2.2899432891116005,
          1.9511362641198013,
          1.5916454981489803,
          2.1430788859714105,
          2.542681463390741,
          1.530278277459552
         ],
         "yaxis": "y2"
        },
        {
         "line": {
          "color": "rgba(128, 128, 128, 1.0)",
          "dash": "solid",
          "shape": "linear",
          "width": 1.3
         },
         "marker": {
          "size": 2,
          "symbol": "circle"
         },
         "mode": "markers",
         "name": "IBM",
         "text": "",
         "type": "scatter",
         "x": [
          0.887859548430912,
          -0.12442855812384623,
          0.31510584146026,
          -0.3620399760333849,
          0.060047799161180415,
          0.489542542000453,
          0.39864526286565544,
          -0.12691305706221562,
          -0.14653742623622149,
          -1.9942051171963504,
          -1.3676444884468961,
          -0.8372557932333661,
          -1.9188470342391222,
          -1.176425895752355,
          -0.5063944395571112,
          -0.6230886218617776,
          -0.6637716155230189,
          -0.44370395604865664,
          -1.0502230320712198,
          -1.884455201532628,
          -0.8465602088727773,
          -0.2594989167460039,
          -1.9955610009465663,
          -2.221501710910537,
          -3.217375118573837,
          -3.6208546163065196,
          -4.929555124356471,
          -4.840508167100383,
          -3.827535434970696,
          -3.867032210267071,
          -4.5063002992719685,
          -4.925453159939044,
          -4.174179782827053,
          -2.657263222654409,
          -4.307262797144048,
          -5.304732773389594,
          -4.618642038632928,
          -5.7364532527662195,
          -4.392594886900887,
          -4.4558778061555255,
          -4.9857689109230625,
          -4.156439892523207,
          -3.3815162927726474,
          -4.524633232529935,
          -2.1656811236745916,
          -3.1885135351785516,
          -3.9006128888640728,
          -4.077345971346925,
          -4.000916020536469,
          -4.4098462746028675,
          -5.639320258383571,
          -5.687101247473266,
          -5.0688162769214875,
          -5.728851900477398,
          -6.343303939209772,
          -9.328835099025895,
          -8.860782654790022,
          -8.766972470016524,
          -7.71034017674116,
          -7.34436940021025,
          -7.352338908426178,
          -5.660115446029203,
          -6.6854008273788335,
          -5.682223402388089,
          -6.9632825041098405,
          -6.678646553285244,
          -5.752049999433002,
          -6.881893383159216,
          -6.5453962916602375,
          -5.039119802550206,
          -5.338956969174161,
          -4.4834048889550315,
          -3.927119209210786,
          -4.914573738720649,
          -6.567959222482106,
          -7.620031172452751,
          -7.607736110887162,
          -7.5546361814823495,
          -7.144042517705126,
          -7.123148748328626,
          -6.136712449596261,
          -6.365268583170922,
          -7.46153901912162,
          -7.887593355698787,
          -7.24361705197415,
          -6.356909555910471,
          -5.176156220893024,
          -6.80156252352153,
          -6.802162108296153,
          -6.313537622663519,
          -3.5447733332150233,
          -3.9845629222544896,
          -2.854306918829467,
          -2.6727676110848138,
          -2.985194155696666,
          -1.9778983711938678,
          -2.829599717537466,
          -2.256304104822701,
          -3.0652309473468895,
          -3.641370706696887
         ],
         "xaxis": "x3",
         "y": [
          -1.2868801566664638,
          -2.028366513807729,
          -2.760879106191367,
          -1.9911859649445645,
          -1.1698265723057135,
          -0.9720902802456763,
          -1.3893692343289523,
          0.15751532682256508,
          0.28067988699811575,
          -0.5107120093055321,
          -1.8063687051293358,
          -1.7921784377934262,
          -1.1044874291941618,
          -0.2664229033287746,
          -0.6256421886729924,
          0.4121968431481302,
          1.8992288911822006,
          0.4713284609322743,
          2.994948247125084,
          3.0066845652519816,
          4.428386071353853,
          4.91527793224154,
          5.9599498493520535,
          6.1134080683029515,
          5.3533745076686206,
          5.293323668532801,
          4.099962721172125,
          5.217635982306543,
          6.071263872872076,
          4.6433790700021245,
          3.7602602888241847,
          3.281740775327897,
          2.7404638966339827,
          3.3387539342756676,
          4.0286684579720395,
          5.549431907856821,
          7.7754320531931445,
          6.322731592099521,
          6.500348418463007,
          4.307960773824358,
          5.299420681700493,
          6.887429791634869,
          8.867227597756447,
          9.705505785295987,
          9.727310508705818,
          9.47542189494929,
          10.024088259089691,
          9.98684737225707,
          10.69468858425811,
          12.590123161193892,
          11.782826178393798,
          10.917174155836495,
          10.734616926162627,
          10.241322244735414,
          10.641312793916578,
          9.281628379084083,
          9.400145386809678,
          8.651862561935062,
          7.565414896511578,
          6.965260757342342,
          6.707417689495253,
          5.298031156312341,
          5.189613710611087,
          6.38226310279424,
          6.183136169656518,
          5.612166391713544,
          6.39114867505892,
          6.579941941996416,
          8.383442583844783,
          7.707907622852362,
          6.38780750561438,
          6.444029553587608,
          6.607992301383706,
          5.807273092823491,
          6.986991314869297,
          8.092324810185454,
          7.438659031910002,
          7.801618929657894,
          8.167147603397437,
          8.31903075035327,
          7.29850862750133,
          7.512739654299573,
          6.420792527152818,
          7.055018729110213,
          7.0770407319095945,
          7.117641048349709,
          7.345524557970403,
          5.752190402863436,
          6.273101375049812,
          6.278722472055344,
          5.7539515553200955,
          3.1068215726052926,
          2.7290057360970037,
          1.2653832609269167,
          2.2899432891116005,
          1.9511362641198013,
          1.5916454981489803,
          2.1430788859714105,
          2.542681463390741,
          1.530278277459552
         ],
         "yaxis": "y3"
        },
        {
         "line": {
          "color": "rgba(128, 128, 128, 1.0)",
          "dash": "solid",
          "shape": "linear",
          "width": 1.3
         },
         "marker": {
          "size": 2,
          "symbol": "circle"
         },
         "mode": "markers",
         "name": "IBM",
         "text": "",
         "type": "scatter",
         "x": [
          0.2048742448337656,
          0.3995130615403163,
          0.5136290915851257,
          0.02076516140369261,
          0.7226077593218854,
          0.05684612597054928,
          -2.290373173966028,
          -3.352705324762807,
          -3.7250925423200565,
          -4.793135650456053,
          -5.329050597202418,
          -4.387591592305006,
          -4.049448089904911,
          -5.709282777034537,
          -6.328159594193041,
          -5.224321790483151,
          -5.2544049851922985,
          -5.421682067272712,
          -5.453447794943075,
          -5.2185053146589,
          -5.352828044506808,
          -6.099418933938748,
          -5.385357244049113,
          -5.133670710990421,
          -4.985790773356901,
          -4.275721196167301,
          -4.568176178165343,
          -4.250215743788066,
          -2.6250793292773977,
          -1.4682659462139522,
          -2.1133744171717304,
          -2.3256163870395024,
          -2.5325475124338666,
          -2.8567767576541843,
          -2.1431314030437036,
          -1.7670788605729655,
          -2.296789904733288,
          -2.2121516024694006,
          -3.5342462146632085,
          -0.6964724804885365,
          1.3477234161467004,
          1.441712672948758,
          2.1058407403647976,
          1.9878836781924143,
          2.733661743162101,
          4.07587656098306,
          4.494268791352438,
          2.7551554418904525,
          3.4262226942585743,
          4.261906636597172,
          5.644921824628,
          4.413022382756968,
          5.910088337610661,
          6.542923789958097,
          6.312824948758883,
          7.0707387309998815,
          9.908110224085755,
          9.306542233112879,
          10.085829266774926,
          9.708254599022629,
          9.67875256616383,
          7.916943299423433,
          7.5583217288247715,
          8.46681747105512,
          9.205058014250898,
          7.777162993877683,
          7.405956989690508,
          8.820618268349833,
          8.580023758687686,
          7.351488938534795,
          4.329475295100899,
          3.2757851795090573,
          4.595116532455589,
          5.783659442360334,
          3.7878041018828923,
          3.044704452625716,
          2.0189657021517684,
          4.274722764937334,
          5.893714987065865,
          5.18398622503782,
          4.890734539739318,
          5.259914377771817,
          4.2388250269525924,
          2.228345073405111,
          1.0172014863258558,
          2.904580330298862,
          1.6375736383990258,
          1.6730927768195931,
          0.3295055389813142,
          1.1186980436244327,
          0.3825970786381174,
          0.2403846669254254,
          1.3424608810215752,
          2.0175060395052333,
          1.8490765888226344,
          2.361676998871574,
          2.3661487164680395,
          4.650347499849967,
          4.779357897092006,
          5.318865454818467
         ],
         "xaxis": "x4",
         "y": [
          -1.2868801566664638,
          -2.028366513807729,
          -2.760879106191367,
          -1.9911859649445645,
          -1.1698265723057135,
          -0.9720902802456763,
          -1.3893692343289523,
          0.15751532682256508,
          0.28067988699811575,
          -0.5107120093055321,
          -1.8063687051293358,
          -1.7921784377934262,
          -1.1044874291941618,
          -0.2664229033287746,
          -0.6256421886729924,
          0.4121968431481302,
          1.8992288911822006,
          0.4713284609322743,
          2.994948247125084,
          3.0066845652519816,
          4.428386071353853,
          4.91527793224154,
          5.9599498493520535,
          6.1134080683029515,
          5.3533745076686206,
          5.293323668532801,
          4.099962721172125,
          5.217635982306543,
          6.071263872872076,
          4.6433790700021245,
          3.7602602888241847,
          3.281740775327897,
          2.7404638966339827,
          3.3387539342756676,
          4.0286684579720395,
          5.549431907856821,
          7.7754320531931445,
          6.322731592099521,
          6.500348418463007,
          4.307960773824358,
          5.299420681700493,
          6.887429791634869,
          8.867227597756447,
          9.705505785295987,
          9.727310508705818,
          9.47542189494929,
          10.024088259089691,
          9.98684737225707,
          10.69468858425811,
          12.590123161193892,
          11.782826178393798,
          10.917174155836495,
          10.734616926162627,
          10.241322244735414,
          10.641312793916578,
          9.281628379084083,
          9.400145386809678,
          8.651862561935062,
          7.565414896511578,
          6.965260757342342,
          6.707417689495253,
          5.298031156312341,
          5.189613710611087,
          6.38226310279424,
          6.183136169656518,
          5.612166391713544,
          6.39114867505892,
          6.579941941996416,
          8.383442583844783,
          7.707907622852362,
          6.38780750561438,
          6.444029553587608,
          6.607992301383706,
          5.807273092823491,
          6.986991314869297,
          8.092324810185454,
          7.438659031910002,
          7.801618929657894,
          8.167147603397437,
          8.31903075035327,
          7.29850862750133,
          7.512739654299573,
          6.420792527152818,
          7.055018729110213,
          7.0770407319095945,
          7.117641048349709,
          7.345524557970403,
          5.752190402863436,
          6.273101375049812,
          6.278722472055344,
          5.7539515553200955,
          3.1068215726052926,
          2.7290057360970037,
          1.2653832609269167,
          2.2899432891116005,
          1.9511362641198013,
          1.5916454981489803,
          2.1430788859714105,
          2.542681463390741,
          1.530278277459552
         ],
         "yaxis": "y4"
        },
        {
         "line": {
          "color": "rgba(128, 128, 128, 1.0)",
          "dash": "solid",
          "shape": "linear",
          "width": 1.3
         },
         "marker": {
          "size": 2,
          "symbol": "circle"
         },
         "mode": "markers",
         "name": "IBM",
         "text": "",
         "type": "scatter",
         "x": [
          1.0819354668374346,
          2.4799376706733622,
          2.2268051364701633,
          1.0250862796132514,
          0.3554705098107952,
          0.7156871789501777,
          0.1067856256869062,
          -0.123407659403828,
          0.28296814854104424,
          0.49919665559686655,
          -0.006990933535996335,
          0.033384083208729,
          -0.08440237960348058,
          0.7897831313157041,
          1.5201787318987088,
          1.5475803170317657,
          0.8576482186298152,
          2.5467860395958803,
          3.993713288865485,
          4.567833775159525,
          5.183738002370754,
          6.092155689019387,
          6.1823362071732495,
          5.674471133357569,
          5.3441259995195045,
          5.617275592259908,
          6.783773732222309,
          7.198486019655446,
          7.145176329258773,
          6.543734446718874,
          7.312297808122165,
          7.223841848314789,
          7.9514779082905,
          8.561609308063588,
          9.738378487072284,
          9.075752793744627,
          9.831438453795284,
          8.516970286231762,
          8.252832558903457,
          9.533388230834202,
          9.67698655408267,
          10.86849174836057,
          10.669733608987032,
          9.989883871982169,
          8.670283109572248,
          9.577541757674734,
          8.881467530627548,
          10.376316257373494,
          9.81916422882076,
          10.225052700919383,
          10.056165673334721,
          11.05423378093204,
          11.438246334862646,
          10.468756699066553,
          9.87868872301803,
          8.76800846671155,
          6.684972121397745,
          8.078100249152664,
          6.3740120486351195,
          6.699908754451213,
          6.63902778498758,
          7.333955166310478,
          8.539313786810935,
          8.765231793823297,
          8.550945866671988,
          8.648688407218522,
          8.369870777573873,
          7.728510910650162,
          7.187302004909984,
          7.4427073016969105,
          9.038283728844396,
          11.127516915360015,
          12.176216508021733,
          13.642073852393995,
          13.114857135669329,
          13.832452593325161,
          14.912682023756759,
          15.357186361705619,
          17.058373360129018,
          18.476693401175936,
          18.172980321487877,
          19.516504578663504,
          18.750375542604836,
          19.83121087323503,
          20.970407888437194,
          20.46369062990867,
          20.493108587316645,
          19.42665903106606,
          18.742685639947105,
          18.034705834652556,
          18.052638546929252,
          16.476787278642664,
          16.81420963222878,
          15.856823228991814,
          13.806346247259345,
          14.896933576101397,
          15.749362202489804,
          16.287176408588053,
          15.628818851369322,
          15.302790607308463
         ],
         "xaxis": "x5",
         "y": [
          -1.2868801566664638,
          -2.028366513807729,
          -2.760879106191367,
          -1.9911859649445645,
          -1.1698265723057135,
          -0.9720902802456763,
          -1.3893692343289523,
          0.15751532682256508,
          0.28067988699811575,
          -0.5107120093055321,
          -1.8063687051293358,
          -1.7921784377934262,
          -1.1044874291941618,
          -0.2664229033287746,
          -0.6256421886729924,
          0.4121968431481302,
          1.8992288911822006,
          0.4713284609322743,
          2.994948247125084,
          3.0066845652519816,
          4.428386071353853,
          4.91527793224154,
          5.9599498493520535,
          6.1134080683029515,
          5.3533745076686206,
          5.293323668532801,
          4.099962721172125,
          5.217635982306543,
          6.071263872872076,
          4.6433790700021245,
          3.7602602888241847,
          3.281740775327897,
          2.7404638966339827,
          3.3387539342756676,
          4.0286684579720395,
          5.549431907856821,
          7.7754320531931445,
          6.322731592099521,
          6.500348418463007,
          4.307960773824358,
          5.299420681700493,
          6.887429791634869,
          8.867227597756447,
          9.705505785295987,
          9.727310508705818,
          9.47542189494929,
          10.024088259089691,
          9.98684737225707,
          10.69468858425811,
          12.590123161193892,
          11.782826178393798,
          10.917174155836495,
          10.734616926162627,
          10.241322244735414,
          10.641312793916578,
          9.281628379084083,
          9.400145386809678,
          8.651862561935062,
          7.565414896511578,
          6.965260757342342,
          6.707417689495253,
          5.298031156312341,
          5.189613710611087,
          6.38226310279424,
          6.183136169656518,
          5.612166391713544,
          6.39114867505892,
          6.579941941996416,
          8.383442583844783,
          7.707907622852362,
          6.38780750561438,
          6.444029553587608,
          6.607992301383706,
          5.807273092823491,
          6.986991314869297,
          8.092324810185454,
          7.438659031910002,
          7.801618929657894,
          8.167147603397437,
          8.31903075035327,
          7.29850862750133,
          7.512739654299573,
          6.420792527152818,
          7.055018729110213,
          7.0770407319095945,
          7.117641048349709,
          7.345524557970403,
          5.752190402863436,
          6.273101375049812,
          6.278722472055344,
          5.7539515553200955,
          3.1068215726052926,
          2.7290057360970037,
          1.2653832609269167,
          2.2899432891116005,
          1.9511362641198013,
          1.5916454981489803,
          2.1430788859714105,
          2.542681463390741,
          1.530278277459552
         ],
         "yaxis": "y5"
        },
        {
         "line": {
          "color": "rgba(128, 128, 128, 1.0)",
          "dash": "solid",
          "shape": "linear",
          "width": 1.3
         },
         "marker": {
          "size": 2,
          "symbol": "circle"
         },
         "mode": "markers",
         "name": "MSFT",
         "text": "",
         "type": "scatter",
         "x": [
          -1.2868801566664638,
          -2.028366513807729,
          -2.760879106191367,
          -1.9911859649445645,
          -1.1698265723057135,
          -0.9720902802456763,
          -1.3893692343289523,
          0.15751532682256508,
          0.28067988699811575,
          -0.5107120093055321,
          -1.8063687051293358,
          -1.7921784377934262,
          -1.1044874291941618,
          -0.2664229033287746,
          -0.6256421886729924,
          0.4121968431481302,
          1.8992288911822006,
          0.4713284609322743,
          2.994948247125084,
          3.0066845652519816,
          4.428386071353853,
          4.91527793224154,
          5.9599498493520535,
          6.1134080683029515,
          5.3533745076686206,
          5.293323668532801,
          4.099962721172125,
          5.217635982306543,
          6.071263872872076,
          4.6433790700021245,
          3.7602602888241847,
          3.281740775327897,
          2.7404638966339827,
          3.3387539342756676,
          4.0286684579720395,
          5.549431907856821,
          7.7754320531931445,
          6.322731592099521,
          6.500348418463007,
          4.307960773824358,
          5.299420681700493,
          6.887429791634869,
          8.867227597756447,
          9.705505785295987,
          9.727310508705818,
          9.47542189494929,
          10.024088259089691,
          9.98684737225707,
          10.69468858425811,
          12.590123161193892,
          11.782826178393798,
          10.917174155836495,
          10.734616926162627,
          10.241322244735414,
          10.641312793916578,
          9.281628379084083,
          9.400145386809678,
          8.651862561935062,
          7.565414896511578,
          6.965260757342342,
          6.707417689495253,
          5.298031156312341,
          5.189613710611087,
          6.38226310279424,
          6.183136169656518,
          5.612166391713544,
          6.39114867505892,
          6.579941941996416,
          8.383442583844783,
          7.707907622852362,
          6.38780750561438,
          6.444029553587608,
          6.607992301383706,
          5.807273092823491,
          6.986991314869297,
          8.092324810185454,
          7.438659031910002,
          7.801618929657894,
          8.167147603397437,
          8.31903075035327,
          7.29850862750133,
          7.512739654299573,
          6.420792527152818,
          7.055018729110213,
          7.0770407319095945,
          7.117641048349709,
          7.345524557970403,
          5.752190402863436,
          6.273101375049812,
          6.278722472055344,
          5.7539515553200955,
          3.1068215726052926,
          2.7290057360970037,
          1.2653832609269167,
          2.2899432891116005,
          1.9511362641198013,
          1.5916454981489803,
          2.1430788859714105,
          2.542681463390741,
          1.530278277459552
         ],
         "xaxis": "x6",
         "y": [
          -0.14231784552685722,
          0.0038383488741102756,
          -1.394342441102017,
          0.05281310065044109,
          -1.2953856887317763,
          -0.23262923631253374,
          -2.5064608920511025,
          -3.6201295377974985,
          -2.959479810992466,
          -3.772544722719001,
          -3.0709588325198514,
          -2.0375398840254366,
          -2.1693398305300824,
          -3.2990288162994386,
          -4.890590132460698,
          -4.15033703004252,
          -4.176687297989628,
          -4.5205820294304235,
          -4.414951077438917,
          -4.950842185052673,
          -6.320562459093343,
          -6.44888710392168,
          -6.020839447515197,
          -5.785039010002954,
          -6.093129681526676,
          -6.634138955952207,
          -6.570694424396184,
          -6.521643404930816,
          -5.299024933004039,
          -6.0886710847423435,
          -5.881060365924777,
          -3.915482394403372,
          -3.9827955274268745,
          -4.147845784640805,
          -3.42504253118667,
          -4.40082690854008,
          -4.075525471295986,
          -2.861534944561367,
          -3.781912959044849,
          -4.333547172371902,
          -3.7095920728127374,
          -3.4750745616048015,
          -2.747492006580319,
          -0.9979818882593192,
          -1.0647188197146276,
          -0.8955434858458016,
          -0.6519956098049098,
          1.6492927283038028,
          3.387224087556209,
          4.513566073082565,
          5.430806739184705,
          4.907521152193672,
          2.8095620478423875,
          2.915435824696081,
          1.5200875838787369,
          2.429132108080452,
          3.7756335804841363,
          4.002064408796806,
          3.4628516327730687,
          3.214324464767252,
          3.8560726788603708,
          2.2554862113398633,
          2.9445092783273754,
          3.5262828903204313,
          2.463193248025804,
          1.7260733152151322,
          0.7398626546489155,
          0.4719722351730572,
          0.9991489857126875,
          1.9463121727900423,
          0.23353648657121595,
          1.0453540766324032,
          0.8125285169010912,
          0.21356493176886515,
          0.28570457417174555,
          0.11812423461881866,
          0.4917748669935742,
          0.36077971790123253,
          0.5972969247795444,
          0.7236739472521214,
          2.636233090974466,
          1.069513681161607,
          0.28665585447293573,
          0.19369838104339726,
          0.35621491824623663,
          3.048403464903692,
          4.677726795508604,
          4.894177005591278,
          4.787507408289258,
          4.951135431932031,
          4.884774009715971,
          3.5625808936247694,
          2.9640904467996405,
          2.6843113704032233,
          2.530433555830813,
          5.248023191199183,
          4.349788040925403,
          5.450810783635532,
          5.052823592404031,
          5.15929729082009
         ],
         "yaxis": "y6"
        },
        {
         "histfunc": "count",
         "histnorm": "",
         "marker": {
          "color": "rgba(55, 128, 191, 1.0)",
          "line": {
           "color": "#4D5663",
           "width": 1.3
          }
         },
         "name": "MSFT",
         "nbinsx": 10,
         "opacity": 0.8,
         "orientation": "v",
         "type": "histogram",
         "x": [
          -0.14231784552685722,
          0.0038383488741102756,
          -1.394342441102017,
          0.05281310065044109,
          -1.2953856887317763,
          -0.23262923631253374,
          -2.5064608920511025,
          -3.6201295377974985,
          -2.959479810992466,
          -3.772544722719001,
          -3.0709588325198514,
          -2.0375398840254366,
          -2.1693398305300824,
          -3.2990288162994386,
          -4.890590132460698,
          -4.15033703004252,
          -4.176687297989628,
          -4.5205820294304235,
          -4.414951077438917,
          -4.950842185052673,
          -6.320562459093343,
          -6.44888710392168,
          -6.020839447515197,
          -5.785039010002954,
          -6.093129681526676,
          -6.634138955952207,
          -6.570694424396184,
          -6.521643404930816,
          -5.299024933004039,
          -6.0886710847423435,
          -5.881060365924777,
          -3.915482394403372,
          -3.9827955274268745,
          -4.147845784640805,
          -3.42504253118667,
          -4.40082690854008,
          -4.075525471295986,
          -2.861534944561367,
          -3.781912959044849,
          -4.333547172371902,
          -3.7095920728127374,
          -3.4750745616048015,
          -2.747492006580319,
          -0.9979818882593192,
          -1.0647188197146276,
          -0.8955434858458016,
          -0.6519956098049098,
          1.6492927283038028,
          3.387224087556209,
          4.513566073082565,
          5.430806739184705,
          4.907521152193672,
          2.8095620478423875,
          2.915435824696081,
          1.5200875838787369,
          2.429132108080452,
          3.7756335804841363,
          4.002064408796806,
          3.4628516327730687,
          3.214324464767252,
          3.8560726788603708,
          2.2554862113398633,
          2.9445092783273754,
          3.5262828903204313,
          2.463193248025804,
          1.7260733152151322,
          0.7398626546489155,
          0.4719722351730572,
          0.9991489857126875,
          1.9463121727900423,
          0.23353648657121595,
          1.0453540766324032,
          0.8125285169010912,
          0.21356493176886515,
          0.28570457417174555,
          0.11812423461881866,
          0.4917748669935742,
          0.36077971790123253,
          0.5972969247795444,
          0.7236739472521214,
          2.636233090974466,
          1.069513681161607,
          0.28665585447293573,
          0.19369838104339726,
          0.35621491824623663,
          3.048403464903692,
          4.677726795508604,
          4.894177005591278,
          4.787507408289258,
          4.951135431932031,
          4.884774009715971,
          3.5625808936247694,
          2.9640904467996405,
          2.6843113704032233,
          2.530433555830813,
          5.248023191199183,
          4.349788040925403,
          5.450810783635532,
          5.052823592404031,
          5.15929729082009
         ],
         "xaxis": "x7",
         "yaxis": "y7"
        },
        {
         "line": {
          "color": "rgba(128, 128, 128, 1.0)",
          "dash": "solid",
          "shape": "linear",
          "width": 1.3
         },
         "marker": {
          "size": 2,
          "symbol": "circle"
         },
         "mode": "markers",
         "name": "MSFT",
         "text": "",
         "type": "scatter",
         "x": [
          0.887859548430912,
          -0.12442855812384623,
          0.31510584146026,
          -0.3620399760333849,
          0.060047799161180415,
          0.489542542000453,
          0.39864526286565544,
          -0.12691305706221562,
          -0.14653742623622149,
          -1.9942051171963504,
          -1.3676444884468961,
          -0.8372557932333661,
          -1.9188470342391222,
          -1.176425895752355,
          -0.5063944395571112,
          -0.6230886218617776,
          -0.6637716155230189,
          -0.44370395604865664,
          -1.0502230320712198,
          -1.884455201532628,
          -0.8465602088727773,
          -0.2594989167460039,
          -1.9955610009465663,
          -2.221501710910537,
          -3.217375118573837,
          -3.6208546163065196,
          -4.929555124356471,
          -4.840508167100383,
          -3.827535434970696,
          -3.867032210267071,
          -4.5063002992719685,
          -4.925453159939044,
          -4.174179782827053,
          -2.657263222654409,
          -4.307262797144048,
          -5.304732773389594,
          -4.618642038632928,
          -5.7364532527662195,
          -4.392594886900887,
          -4.4558778061555255,
          -4.9857689109230625,
          -4.156439892523207,
          -3.3815162927726474,
          -4.524633232529935,
          -2.1656811236745916,
          -3.1885135351785516,
          -3.9006128888640728,
          -4.077345971346925,
          -4.000916020536469,
          -4.4098462746028675,
          -5.639320258383571,
          -5.687101247473266,
          -5.0688162769214875,
          -5.728851900477398,
          -6.343303939209772,
          -9.328835099025895,
          -8.860782654790022,
          -8.766972470016524,
          -7.71034017674116,
          -7.34436940021025,
          -7.352338908426178,
          -5.660115446029203,
          -6.6854008273788335,
          -5.682223402388089,
          -6.9632825041098405,
          -6.678646553285244,
          -5.752049999433002,
          -6.881893383159216,
          -6.5453962916602375,
          -5.039119802550206,
          -5.338956969174161,
          -4.4834048889550315,
          -3.927119209210786,
          -4.914573738720649,
          -6.567959222482106,
          -7.620031172452751,
          -7.607736110887162,
          -7.5546361814823495,
          -7.144042517705126,
          -7.123148748328626,
          -6.136712449596261,
          -6.365268583170922,
          -7.46153901912162,
          -7.887593355698787,
          -7.24361705197415,
          -6.356909555910471,
          -5.176156220893024,
          -6.80156252352153,
          -6.802162108296153,
          -6.313537622663519,
          -3.5447733332150233,
          -3.9845629222544896,
          -2.854306918829467,
          -2.6727676110848138,
          -2.985194155696666,
          -1.9778983711938678,
          -2.829599717537466,
          -2.256304104822701,
          -3.0652309473468895,
          -3.641370706696887
         ],
         "xaxis": "x8",
         "y": [
          -0.14231784552685722,
          0.0038383488741102756,
          -1.394342441102017,
          0.05281310065044109,
          -1.2953856887317763,
          -0.23262923631253374,
          -2.5064608920511025,
          -3.6201295377974985,
          -2.959479810992466,
          -3.772544722719001,
          -3.0709588325198514,
          -2.0375398840254366,
          -2.1693398305300824,
          -3.2990288162994386,
          -4.890590132460698,
          -4.15033703004252,
          -4.176687297989628,
          -4.5205820294304235,
          -4.414951077438917,
          -4.950842185052673,
          -6.320562459093343,
          -6.44888710392168,
          -6.020839447515197,
          -5.785039010002954,
          -6.093129681526676,
          -6.634138955952207,
          -6.570694424396184,
          -6.521643404930816,
          -5.299024933004039,
          -6.0886710847423435,
          -5.881060365924777,
          -3.915482394403372,
          -3.9827955274268745,
          -4.147845784640805,
          -3.42504253118667,
          -4.40082690854008,
          -4.075525471295986,
          -2.861534944561367,
          -3.781912959044849,
          -4.333547172371902,
          -3.7095920728127374,
          -3.4750745616048015,
          -2.747492006580319,
          -0.9979818882593192,
          -1.0647188197146276,
          -0.8955434858458016,
          -0.6519956098049098,
          1.6492927283038028,
          3.387224087556209,
          4.513566073082565,
          5.430806739184705,
          4.907521152193672,
          2.8095620478423875,
          2.915435824696081,
          1.5200875838787369,
          2.429132108080452,
          3.7756335804841363,
          4.002064408796806,
          3.4628516327730687,
          3.214324464767252,
          3.8560726788603708,
          2.2554862113398633,
          2.9445092783273754,
          3.5262828903204313,
          2.463193248025804,
          1.7260733152151322,
          0.7398626546489155,
          0.4719722351730572,
          0.9991489857126875,
          1.9463121727900423,
          0.23353648657121595,
          1.0453540766324032,
          0.8125285169010912,
          0.21356493176886515,
          0.28570457417174555,
          0.11812423461881866,
          0.4917748669935742,
          0.36077971790123253,
          0.5972969247795444,
          0.7236739472521214,
          2.636233090974466,
          1.069513681161607,
          0.28665585447293573,
          0.19369838104339726,
          0.35621491824623663,
          3.048403464903692,
          4.677726795508604,
          4.894177005591278,
          4.787507408289258,
          4.951135431932031,
          4.884774009715971,
          3.5625808936247694,
          2.9640904467996405,
          2.6843113704032233,
          2.530433555830813,
          5.248023191199183,
          4.349788040925403,
          5.450810783635532,
          5.052823592404031,
          5.15929729082009
         ],
         "yaxis": "y8"
        },
        {
         "line": {
          "color": "rgba(128, 128, 128, 1.0)",
          "dash": "solid",
          "shape": "linear",
          "width": 1.3
         },
         "marker": {
          "size": 2,
          "symbol": "circle"
         },
         "mode": "markers",
         "name": "MSFT",
         "text": "",
         "type": "scatter",
         "x": [
          0.2048742448337656,
          0.3995130615403163,
          0.5136290915851257,
          0.02076516140369261,
          0.7226077593218854,
          0.05684612597054928,
          -2.290373173966028,
          -3.352705324762807,
          -3.7250925423200565,
          -4.793135650456053,
          -5.329050597202418,
          -4.387591592305006,
          -4.049448089904911,
          -5.709282777034537,
          -6.328159594193041,
          -5.224321790483151,
          -5.2544049851922985,
          -5.421682067272712,
          -5.453447794943075,
          -5.2185053146589,
          -5.352828044506808,
          -6.099418933938748,
          -5.385357244049113,
          -5.133670710990421,
          -4.985790773356901,
          -4.275721196167301,
          -4.568176178165343,
          -4.250215743788066,
          -2.6250793292773977,
          -1.4682659462139522,
          -2.1133744171717304,
          -2.3256163870395024,
          -2.5325475124338666,
          -2.8567767576541843,
          -2.1431314030437036,
          -1.7670788605729655,
          -2.296789904733288,
          -2.2121516024694006,
          -3.5342462146632085,
          -0.6964724804885365,
          1.3477234161467004,
          1.441712672948758,
          2.1058407403647976,
          1.9878836781924143,
          2.733661743162101,
          4.07587656098306,
          4.494268791352438,
          2.7551554418904525,
          3.4262226942585743,
          4.261906636597172,
          5.644921824628,
          4.413022382756968,
          5.910088337610661,
          6.542923789958097,
          6.312824948758883,
          7.0707387309998815,
          9.908110224085755,
          9.306542233112879,
          10.085829266774926,
          9.708254599022629,
          9.67875256616383,
          7.916943299423433,
          7.5583217288247715,
          8.46681747105512,
          9.205058014250898,
          7.777162993877683,
          7.405956989690508,
          8.820618268349833,
          8.580023758687686,
          7.351488938534795,
          4.329475295100899,
          3.2757851795090573,
          4.595116532455589,
          5.783659442360334,
          3.7878041018828923,
          3.044704452625716,
          2.0189657021517684,
          4.274722764937334,
          5.893714987065865,
          5.18398622503782,
          4.890734539739318,
          5.259914377771817,
          4.2388250269525924,
          2.228345073405111,
          1.0172014863258558,
          2.904580330298862,
          1.6375736383990258,
          1.6730927768195931,
          0.3295055389813142,
          1.1186980436244327,
          0.3825970786381174,
          0.2403846669254254,
          1.3424608810215752,
          2.0175060395052333,
          1.8490765888226344,
          2.361676998871574,
          2.3661487164680395,
          4.650347499849967,
          4.779357897092006,
          5.318865454818467
         ],
         "xaxis": "x9",
         "y": [
          -0.14231784552685722,
          0.0038383488741102756,
          -1.394342441102017,
          0.05281310065044109,
          -1.2953856887317763,
          -0.23262923631253374,
          -2.5064608920511025,
          -3.6201295377974985,
          -2.959479810992466,
          -3.772544722719001,
          -3.0709588325198514,
          -2.0375398840254366,
          -2.1693398305300824,
          -3.2990288162994386,
          -4.890590132460698,
          -4.15033703004252,
          -4.176687297989628,
          -4.5205820294304235,
          -4.414951077438917,
          -4.950842185052673,
          -6.320562459093343,
          -6.44888710392168,
          -6.020839447515197,
          -5.785039010002954,
          -6.093129681526676,
          -6.634138955952207,
          -6.570694424396184,
          -6.521643404930816,
          -5.299024933004039,
          -6.0886710847423435,
          -5.881060365924777,
          -3.915482394403372,
          -3.9827955274268745,
          -4.147845784640805,
          -3.42504253118667,
          -4.40082690854008,
          -4.075525471295986,
          -2.861534944561367,
          -3.781912959044849,
          -4.333547172371902,
          -3.7095920728127374,
          -3.4750745616048015,
          -2.747492006580319,
          -0.9979818882593192,
          -1.0647188197146276,
          -0.8955434858458016,
          -0.6519956098049098,
          1.6492927283038028,
          3.387224087556209,
          4.513566073082565,
          5.430806739184705,
          4.907521152193672,
          2.8095620478423875,
          2.915435824696081,
          1.5200875838787369,
          2.429132108080452,
          3.7756335804841363,
          4.002064408796806,
          3.4628516327730687,
          3.214324464767252,
          3.8560726788603708,
          2.2554862113398633,
          2.9445092783273754,
          3.5262828903204313,
          2.463193248025804,
          1.7260733152151322,
          0.7398626546489155,
          0.4719722351730572,
          0.9991489857126875,
          1.9463121727900423,
          0.23353648657121595,
          1.0453540766324032,
          0.8125285169010912,
          0.21356493176886515,
          0.28570457417174555,
          0.11812423461881866,
          0.4917748669935742,
          0.36077971790123253,
          0.5972969247795444,
          0.7236739472521214,
          2.636233090974466,
          1.069513681161607,
          0.28665585447293573,
          0.19369838104339726,
          0.35621491824623663,
          3.048403464903692,
          4.677726795508604,
          4.894177005591278,
          4.787507408289258,
          4.951135431932031,
          4.884774009715971,
          3.5625808936247694,
          2.9640904467996405,
          2.6843113704032233,
          2.530433555830813,
          5.248023191199183,
          4.349788040925403,
          5.450810783635532,
          5.052823592404031,
          5.15929729082009
         ],
         "yaxis": "y9"
        },
        {
         "line": {
          "color": "rgba(128, 128, 128, 1.0)",
          "dash": "solid",
          "shape": "linear",
          "width": 1.3
         },
         "marker": {
          "size": 2,
          "symbol": "circle"
         },
         "mode": "markers",
         "name": "MSFT",
         "text": "",
         "type": "scatter",
         "x": [
          1.0819354668374346,
          2.4799376706733622,
          2.2268051364701633,
          1.0250862796132514,
          0.3554705098107952,
          0.7156871789501777,
          0.1067856256869062,
          -0.123407659403828,
          0.28296814854104424,
          0.49919665559686655,
          -0.006990933535996335,
          0.033384083208729,
          -0.08440237960348058,
          0.7897831313157041,
          1.5201787318987088,
          1.5475803170317657,
          0.8576482186298152,
          2.5467860395958803,
          3.993713288865485,
          4.567833775159525,
          5.183738002370754,
          6.092155689019387,
          6.1823362071732495,
          5.674471133357569,
          5.3441259995195045,
          5.617275592259908,
          6.783773732222309,
          7.198486019655446,
          7.145176329258773,
          6.543734446718874,
          7.312297808122165,
          7.223841848314789,
          7.9514779082905,
          8.561609308063588,
          9.738378487072284,
          9.075752793744627,
          9.831438453795284,
          8.516970286231762,
          8.252832558903457,
          9.533388230834202,
          9.67698655408267,
          10.86849174836057,
          10.669733608987032,
          9.989883871982169,
          8.670283109572248,
          9.577541757674734,
          8.881467530627548,
          10.376316257373494,
          9.81916422882076,
          10.225052700919383,
          10.056165673334721,
          11.05423378093204,
          11.438246334862646,
          10.468756699066553,
          9.87868872301803,
          8.76800846671155,
          6.684972121397745,
          8.078100249152664,
          6.3740120486351195,
          6.699908754451213,
          6.63902778498758,
          7.333955166310478,
          8.539313786810935,
          8.765231793823297,
          8.550945866671988,
          8.648688407218522,
          8.369870777573873,
          7.728510910650162,
          7.187302004909984,
          7.4427073016969105,
          9.038283728844396,
          11.127516915360015,
          12.176216508021733,
          13.642073852393995,
          13.114857135669329,
          13.832452593325161,
          14.912682023756759,
          15.357186361705619,
          17.058373360129018,
          18.476693401175936,
          18.172980321487877,
          19.516504578663504,
          18.750375542604836,
          19.83121087323503,
          20.970407888437194,
          20.46369062990867,
          20.493108587316645,
          19.42665903106606,
          18.742685639947105,
          18.034705834652556,
          18.052638546929252,
          16.476787278642664,
          16.81420963222878,
          15.856823228991814,
          13.806346247259345,
          14.896933576101397,
          15.749362202489804,
          16.287176408588053,
          15.628818851369322,
          15.302790607308463
         ],
         "xaxis": "x10",
         "y": [
          -0.14231784552685722,
          0.0038383488741102756,
          -1.394342441102017,
          0.05281310065044109,
          -1.2953856887317763,
          -0.23262923631253374,
          -2.5064608920511025,
          -3.6201295377974985,
          -2.959479810992466,
          -3.772544722719001,
          -3.0709588325198514,
          -2.0375398840254366,
          -2.1693398305300824,
          -3.2990288162994386,
          -4.890590132460698,
          -4.15033703004252,
          -4.176687297989628,
          -4.5205820294304235,
          -4.414951077438917,
          -4.950842185052673,
          -6.320562459093343,
          -6.44888710392168,
          -6.020839447515197,
          -5.785039010002954,
          -6.093129681526676,
          -6.634138955952207,
          -6.570694424396184,
          -6.521643404930816,
          -5.299024933004039,
          -6.0886710847423435,
          -5.881060365924777,
          -3.915482394403372,
          -3.9827955274268745,
          -4.147845784640805,
          -3.42504253118667,
          -4.40082690854008,
          -4.075525471295986,
          -2.861534944561367,
          -3.781912959044849,
          -4.333547172371902,
          -3.7095920728127374,
          -3.4750745616048015,
          -2.747492006580319,
          -0.9979818882593192,
          -1.0647188197146276,
          -0.8955434858458016,
          -0.6519956098049098,
          1.6492927283038028,
          3.387224087556209,
          4.513566073082565,
          5.430806739184705,
          4.907521152193672,
          2.8095620478423875,
          2.915435824696081,
          1.5200875838787369,
          2.429132108080452,
          3.7756335804841363,
          4.002064408796806,
          3.4628516327730687,
          3.214324464767252,
          3.8560726788603708,
          2.2554862113398633,
          2.9445092783273754,
          3.5262828903204313,
          2.463193248025804,
          1.7260733152151322,
          0.7398626546489155,
          0.4719722351730572,
          0.9991489857126875,
          1.9463121727900423,
          0.23353648657121595,
          1.0453540766324032,
          0.8125285169010912,
          0.21356493176886515,
          0.28570457417174555,
          0.11812423461881866,
          0.4917748669935742,
          0.36077971790123253,
          0.5972969247795444,
          0.7236739472521214,
          2.636233090974466,
          1.069513681161607,
          0.28665585447293573,
          0.19369838104339726,
          0.35621491824623663,
          3.048403464903692,
          4.677726795508604,
          4.894177005591278,
          4.787507408289258,
          4.951135431932031,
          4.884774009715971,
          3.5625808936247694,
          2.9640904467996405,
          2.6843113704032233,
          2.530433555830813,
          5.248023191199183,
          4.349788040925403,
          5.450810783635532,
          5.052823592404031,
          5.15929729082009
         ],
         "yaxis": "y10"
        },
        {
         "line": {
          "color": "rgba(128, 128, 128, 1.0)",
          "dash": "solid",
          "shape": "linear",
          "width": 1.3
         },
         "marker": {
          "size": 2,
          "symbol": "circle"
         },
         "mode": "markers",
         "name": "GOOG",
         "text": "",
         "type": "scatter",
         "x": [
          -1.2868801566664638,
          -2.028366513807729,
          -2.760879106191367,
          -1.9911859649445645,
          -1.1698265723057135,
          -0.9720902802456763,
          -1.3893692343289523,
          0.15751532682256508,
          0.28067988699811575,
          -0.5107120093055321,
          -1.8063687051293358,
          -1.7921784377934262,
          -1.1044874291941618,
          -0.2664229033287746,
          -0.6256421886729924,
          0.4121968431481302,
          1.8992288911822006,
          0.4713284609322743,
          2.994948247125084,
          3.0066845652519816,
          4.428386071353853,
          4.91527793224154,
          5.9599498493520535,
          6.1134080683029515,
          5.3533745076686206,
          5.293323668532801,
          4.099962721172125,
          5.217635982306543,
          6.071263872872076,
          4.6433790700021245,
          3.7602602888241847,
          3.281740775327897,
          2.7404638966339827,
          3.3387539342756676,
          4.0286684579720395,
          5.549431907856821,
          7.7754320531931445,
          6.322731592099521,
          6.500348418463007,
          4.307960773824358,
          5.299420681700493,
          6.887429791634869,
          8.867227597756447,
          9.705505785295987,
          9.727310508705818,
          9.47542189494929,
          10.024088259089691,
          9.98684737225707,
          10.69468858425811,
          12.590123161193892,
          11.782826178393798,
          10.917174155836495,
          10.734616926162627,
          10.241322244735414,
          10.641312793916578,
          9.281628379084083,
          9.400145386809678,
          8.651862561935062,
          7.565414896511578,
          6.965260757342342,
          6.707417689495253,
          5.298031156312341,
          5.189613710611087,
          6.38226310279424,
          6.183136169656518,
          5.612166391713544,
          6.39114867505892,
          6.579941941996416,
          8.383442583844783,
          7.707907622852362,
          6.38780750561438,
          6.444029553587608,
          6.607992301383706,
          5.807273092823491,
          6.986991314869297,
          8.092324810185454,
          7.438659031910002,
          7.801618929657894,
          8.167147603397437,
          8.31903075035327,
          7.29850862750133,
          7.512739654299573,
          6.420792527152818,
          7.055018729110213,
          7.0770407319095945,
          7.117641048349709,
          7.345524557970403,
          5.752190402863436,
          6.273101375049812,
          6.278722472055344,
          5.7539515553200955,
          3.1068215726052926,
          2.7290057360970037,
          1.2653832609269167,
          2.2899432891116005,
          1.9511362641198013,
          1.5916454981489803,
          2.1430788859714105,
          2.542681463390741,
          1.530278277459552
         ],
         "xaxis": "x11",
         "y": [
          0.887859548430912,
          -0.12442855812384623,
          0.31510584146026,
          -0.3620399760333849,
          0.060047799161180415,
          0.489542542000453,
          0.39864526286565544,
          -0.12691305706221562,
          -0.14653742623622149,
          -1.9942051171963504,
          -1.3676444884468961,
          -0.8372557932333661,
          -1.9188470342391222,
          -1.176425895752355,
          -0.5063944395571112,
          -0.6230886218617776,
          -0.6637716155230189,
          -0.44370395604865664,
          -1.0502230320712198,
          -1.884455201532628,
          -0.8465602088727773,
          -0.2594989167460039,
          -1.9955610009465663,
          -2.221501710910537,
          -3.217375118573837,
          -3.6208546163065196,
          -4.929555124356471,
          -4.840508167100383,
          -3.827535434970696,
          -3.867032210267071,
          -4.5063002992719685,
          -4.925453159939044,
          -4.174179782827053,
          -2.657263222654409,
          -4.307262797144048,
          -5.304732773389594,
          -4.618642038632928,
          -5.7364532527662195,
          -4.392594886900887,
          -4.4558778061555255,
          -4.9857689109230625,
          -4.156439892523207,
          -3.3815162927726474,
          -4.524633232529935,
          -2.1656811236745916,
          -3.1885135351785516,
          -3.9006128888640728,
          -4.077345971346925,
          -4.000916020536469,
          -4.4098462746028675,
          -5.639320258383571,
          -5.687101247473266,
          -5.0688162769214875,
          -5.728851900477398,
          -6.343303939209772,
          -9.328835099025895,
          -8.860782654790022,
          -8.766972470016524,
          -7.71034017674116,
          -7.34436940021025,
          -7.352338908426178,
          -5.660115446029203,
          -6.6854008273788335,
          -5.682223402388089,
          -6.9632825041098405,
          -6.678646553285244,
          -5.752049999433002,
          -6.881893383159216,
          -6.5453962916602375,
          -5.039119802550206,
          -5.338956969174161,
          -4.4834048889550315,
          -3.927119209210786,
          -4.914573738720649,
          -6.567959222482106,
          -7.620031172452751,
          -7.607736110887162,
          -7.5546361814823495,
          -7.144042517705126,
          -7.123148748328626,
          -6.136712449596261,
          -6.365268583170922,
          -7.46153901912162,
          -7.887593355698787,
          -7.24361705197415,
          -6.356909555910471,
          -5.176156220893024,
          -6.80156252352153,
          -6.802162108296153,
          -6.313537622663519,
          -3.5447733332150233,
          -3.9845629222544896,
          -2.854306918829467,
          -2.6727676110848138,
          -2.985194155696666,
          -1.9778983711938678,
          -2.829599717537466,
          -2.256304104822701,
          -3.0652309473468895,
          -3.641370706696887
         ],
         "yaxis": "y11"
        },
        {
         "line": {
          "color": "rgba(128, 128, 128, 1.0)",
          "dash": "solid",
          "shape": "linear",
          "width": 1.3
         },
         "marker": {
          "size": 2,
          "symbol": "circle"
         },
         "mode": "markers",
         "name": "GOOG",
         "text": "",
         "type": "scatter",
         "x": [
          -0.14231784552685722,
          0.0038383488741102756,
          -1.394342441102017,
          0.05281310065044109,
          -1.2953856887317763,
          -0.23262923631253374,
          -2.5064608920511025,
          -3.6201295377974985,
          -2.959479810992466,
          -3.772544722719001,
          -3.0709588325198514,
          -2.0375398840254366,
          -2.1693398305300824,
          -3.2990288162994386,
          -4.890590132460698,
          -4.15033703004252,
          -4.176687297989628,
          -4.5205820294304235,
          -4.414951077438917,
          -4.950842185052673,
          -6.320562459093343,
          -6.44888710392168,
          -6.020839447515197,
          -5.785039010002954,
          -6.093129681526676,
          -6.634138955952207,
          -6.570694424396184,
          -6.521643404930816,
          -5.299024933004039,
          -6.0886710847423435,
          -5.881060365924777,
          -3.915482394403372,
          -3.9827955274268745,
          -4.147845784640805,
          -3.42504253118667,
          -4.40082690854008,
          -4.075525471295986,
          -2.861534944561367,
          -3.781912959044849,
          -4.333547172371902,
          -3.7095920728127374,
          -3.4750745616048015,
          -2.747492006580319,
          -0.9979818882593192,
          -1.0647188197146276,
          -0.8955434858458016,
          -0.6519956098049098,
          1.6492927283038028,
          3.387224087556209,
          4.513566073082565,
          5.430806739184705,
          4.907521152193672,
          2.8095620478423875,
          2.915435824696081,
          1.5200875838787369,
          2.429132108080452,
          3.7756335804841363,
          4.002064408796806,
          3.4628516327730687,
          3.214324464767252,
          3.8560726788603708,
          2.2554862113398633,
          2.9445092783273754,
          3.5262828903204313,
          2.463193248025804,
          1.7260733152151322,
          0.7398626546489155,
          0.4719722351730572,
          0.9991489857126875,
          1.9463121727900423,
          0.23353648657121595,
          1.0453540766324032,
          0.8125285169010912,
          0.21356493176886515,
          0.28570457417174555,
          0.11812423461881866,
          0.4917748669935742,
          0.36077971790123253,
          0.5972969247795444,
          0.7236739472521214,
          2.636233090974466,
          1.069513681161607,
          0.28665585447293573,
          0.19369838104339726,
          0.35621491824623663,
          3.048403464903692,
          4.677726795508604,
          4.894177005591278,
          4.787507408289258,
          4.951135431932031,
          4.884774009715971,
          3.5625808936247694,
          2.9640904467996405,
          2.6843113704032233,
          2.530433555830813,
          5.248023191199183,
          4.349788040925403,
          5.450810783635532,
          5.052823592404031,
          5.15929729082009
         ],
         "xaxis": "x12",
         "y": [
          0.887859548430912,
          -0.12442855812384623,
          0.31510584146026,
          -0.3620399760333849,
          0.060047799161180415,
          0.489542542000453,
          0.39864526286565544,
          -0.12691305706221562,
          -0.14653742623622149,
          -1.9942051171963504,
          -1.3676444884468961,
          -0.8372557932333661,
          -1.9188470342391222,
          -1.176425895752355,
          -0.5063944395571112,
          -0.6230886218617776,
          -0.6637716155230189,
          -0.44370395604865664,
          -1.0502230320712198,
          -1.884455201532628,
          -0.8465602088727773,
          -0.2594989167460039,
          -1.9955610009465663,
          -2.221501710910537,
          -3.217375118573837,
          -3.6208546163065196,
          -4.929555124356471,
          -4.840508167100383,
          -3.827535434970696,
          -3.867032210267071,
          -4.5063002992719685,
          -4.925453159939044,
          -4.174179782827053,
          -2.657263222654409,
          -4.307262797144048,
          -5.304732773389594,
          -4.618642038632928,
          -5.7364532527662195,
          -4.392594886900887,
          -4.4558778061555255,
          -4.9857689109230625,
          -4.156439892523207,
          -3.3815162927726474,
          -4.524633232529935,
          -2.1656811236745916,
          -3.1885135351785516,
          -3.9006128888640728,
          -4.077345971346925,
          -4.000916020536469,
          -4.4098462746028675,
          -5.639320258383571,
          -5.687101247473266,
          -5.0688162769214875,
          -5.728851900477398,
          -6.343303939209772,
          -9.328835099025895,
          -8.860782654790022,
          -8.766972470016524,
          -7.71034017674116,
          -7.34436940021025,
          -7.352338908426178,
          -5.660115446029203,
          -6.6854008273788335,
          -5.682223402388089,
          -6.9632825041098405,
          -6.678646553285244,
          -5.752049999433002,
          -6.881893383159216,
          -6.5453962916602375,
          -5.039119802550206,
          -5.338956969174161,
          -4.4834048889550315,
          -3.927119209210786,
          -4.914573738720649,
          -6.567959222482106,
          -7.620031172452751,
          -7.607736110887162,
          -7.5546361814823495,
          -7.144042517705126,
          -7.123148748328626,
          -6.136712449596261,
          -6.365268583170922,
          -7.46153901912162,
          -7.887593355698787,
          -7.24361705197415,
          -6.356909555910471,
          -5.176156220893024,
          -6.80156252352153,
          -6.802162108296153,
          -6.313537622663519,
          -3.5447733332150233,
          -3.9845629222544896,
          -2.854306918829467,
          -2.6727676110848138,
          -2.985194155696666,
          -1.9778983711938678,
          -2.829599717537466,
          -2.256304104822701,
          -3.0652309473468895,
          -3.641370706696887
         ],
         "yaxis": "y12"
        },
        {
         "histfunc": "count",
         "histnorm": "",
         "marker": {
          "color": "rgba(50, 171, 96, 1.0)",
          "line": {
           "color": "#4D5663",
           "width": 1.3
          }
         },
         "name": "GOOG",
         "nbinsx": 10,
         "opacity": 0.8,
         "orientation": "v",
         "type": "histogram",
         "x": [
          0.887859548430912,
          -0.12442855812384623,
          0.31510584146026,
          -0.3620399760333849,
          0.060047799161180415,
          0.489542542000453,
          0.39864526286565544,
          -0.12691305706221562,
          -0.14653742623622149,
          -1.9942051171963504,
          -1.3676444884468961,
          -0.8372557932333661,
          -1.9188470342391222,
          -1.176425895752355,
          -0.5063944395571112,
          -0.6230886218617776,
          -0.6637716155230189,
          -0.44370395604865664,
          -1.0502230320712198,
          -1.884455201532628,
          -0.8465602088727773,
          -0.2594989167460039,
          -1.9955610009465663,
          -2.221501710910537,
          -3.217375118573837,
          -3.6208546163065196,
          -4.929555124356471,
          -4.840508167100383,
          -3.827535434970696,
          -3.867032210267071,
          -4.5063002992719685,
          -4.925453159939044,
          -4.174179782827053,
          -2.657263222654409,
          -4.307262797144048,
          -5.304732773389594,
          -4.618642038632928,
          -5.7364532527662195,
          -4.392594886900887,
          -4.4558778061555255,
          -4.9857689109230625,
          -4.156439892523207,
          -3.3815162927726474,
          -4.524633232529935,
          -2.1656811236745916,
          -3.1885135351785516,
          -3.9006128888640728,
          -4.077345971346925,
          -4.000916020536469,
          -4.4098462746028675,
          -5.639320258383571,
          -5.687101247473266,
          -5.0688162769214875,
          -5.728851900477398,
          -6.343303939209772,
          -9.328835099025895,
          -8.860782654790022,
          -8.766972470016524,
          -7.71034017674116,
          -7.34436940021025,
          -7.352338908426178,
          -5.660115446029203,
          -6.6854008273788335,
          -5.682223402388089,
          -6.9632825041098405,
          -6.678646553285244,
          -5.752049999433002,
          -6.881893383159216,
          -6.5453962916602375,
          -5.039119802550206,
          -5.338956969174161,
          -4.4834048889550315,
          -3.927119209210786,
          -4.914573738720649,
          -6.567959222482106,
          -7.620031172452751,
          -7.607736110887162,
          -7.5546361814823495,
          -7.144042517705126,
          -7.123148748328626,
          -6.136712449596261,
          -6.365268583170922,
          -7.46153901912162,
          -7.887593355698787,
          -7.24361705197415,
          -6.356909555910471,
          -5.176156220893024,
          -6.80156252352153,
          -6.802162108296153,
          -6.313537622663519,
          -3.5447733332150233,
          -3.9845629222544896,
          -2.854306918829467,
          -2.6727676110848138,
          -2.985194155696666,
          -1.9778983711938678,
          -2.829599717537466,
          -2.256304104822701,
          -3.0652309473468895,
          -3.641370706696887
         ],
         "xaxis": "x13",
         "yaxis": "y13"
        },
        {
         "line": {
          "color": "rgba(128, 128, 128, 1.0)",
          "dash": "solid",
          "shape": "linear",
          "width": 1.3
         },
         "marker": {
          "size": 2,
          "symbol": "circle"
         },
         "mode": "markers",
         "name": "GOOG",
         "text": "",
         "type": "scatter",
         "x": [
          0.2048742448337656,
          0.3995130615403163,
          0.5136290915851257,
          0.02076516140369261,
          0.7226077593218854,
          0.05684612597054928,
          -2.290373173966028,
          -3.352705324762807,
          -3.7250925423200565,
          -4.793135650456053,
          -5.329050597202418,
          -4.387591592305006,
          -4.049448089904911,
          -5.709282777034537,
          -6.328159594193041,
          -5.224321790483151,
          -5.2544049851922985,
          -5.421682067272712,
          -5.453447794943075,
          -5.2185053146589,
          -5.352828044506808,
          -6.099418933938748,
          -5.385357244049113,
          -5.133670710990421,
          -4.985790773356901,
          -4.275721196167301,
          -4.568176178165343,
          -4.250215743788066,
          -2.6250793292773977,
          -1.4682659462139522,
          -2.1133744171717304,
          -2.3256163870395024,
          -2.5325475124338666,
          -2.8567767576541843,
          -2.1431314030437036,
          -1.7670788605729655,
          -2.296789904733288,
          -2.2121516024694006,
          -3.5342462146632085,
          -0.6964724804885365,
          1.3477234161467004,
          1.441712672948758,
          2.1058407403647976,
          1.9878836781924143,
          2.733661743162101,
          4.07587656098306,
          4.494268791352438,
          2.7551554418904525,
          3.4262226942585743,
          4.261906636597172,
          5.644921824628,
          4.413022382756968,
          5.910088337610661,
          6.542923789958097,
          6.312824948758883,
          7.0707387309998815,
          9.908110224085755,
          9.306542233112879,
          10.085829266774926,
          9.708254599022629,
          9.67875256616383,
          7.916943299423433,
          7.5583217288247715,
          8.46681747105512,
          9.205058014250898,
          7.777162993877683,
          7.405956989690508,
          8.820618268349833,
          8.580023758687686,
          7.351488938534795,
          4.329475295100899,
          3.2757851795090573,
          4.595116532455589,
          5.783659442360334,
          3.7878041018828923,
          3.044704452625716,
          2.0189657021517684,
          4.274722764937334,
          5.893714987065865,
          5.18398622503782,
          4.890734539739318,
          5.259914377771817,
          4.2388250269525924,
          2.228345073405111,
          1.0172014863258558,
          2.904580330298862,
          1.6375736383990258,
          1.6730927768195931,
          0.3295055389813142,
          1.1186980436244327,
          0.3825970786381174,
          0.2403846669254254,
          1.3424608810215752,
          2.0175060395052333,
          1.8490765888226344,
          2.361676998871574,
          2.3661487164680395,
          4.650347499849967,
          4.779357897092006,
          5.318865454818467
         ],
         "xaxis": "x14",
         "y": [
          0.887859548430912,
          -0.12442855812384623,
          0.31510584146026,
          -0.3620399760333849,
          0.060047799161180415,
          0.489542542000453,
          0.39864526286565544,
          -0.12691305706221562,
          -0.14653742623622149,
          -1.9942051171963504,
          -1.3676444884468961,
          -0.8372557932333661,
          -1.9188470342391222,
          -1.176425895752355,
          -0.5063944395571112,
          -0.6230886218617776,
          -0.6637716155230189,
          -0.44370395604865664,
          -1.0502230320712198,
          -1.884455201532628,
          -0.8465602088727773,
          -0.2594989167460039,
          -1.9955610009465663,
          -2.221501710910537,
          -3.217375118573837,
          -3.6208546163065196,
          -4.929555124356471,
          -4.840508167100383,
          -3.827535434970696,
          -3.867032210267071,
          -4.5063002992719685,
          -4.925453159939044,
          -4.174179782827053,
          -2.657263222654409,
          -4.307262797144048,
          -5.304732773389594,
          -4.618642038632928,
          -5.7364532527662195,
          -4.392594886900887,
          -4.4558778061555255,
          -4.9857689109230625,
          -4.156439892523207,
          -3.3815162927726474,
          -4.524633232529935,
          -2.1656811236745916,
          -3.1885135351785516,
          -3.9006128888640728,
          -4.077345971346925,
          -4.000916020536469,
          -4.4098462746028675,
          -5.639320258383571,
          -5.687101247473266,
          -5.0688162769214875,
          -5.728851900477398,
          -6.343303939209772,
          -9.328835099025895,
          -8.860782654790022,
          -8.766972470016524,
          -7.71034017674116,
          -7.34436940021025,
          -7.352338908426178,
          -5.660115446029203,
          -6.6854008273788335,
          -5.682223402388089,
          -6.9632825041098405,
          -6.678646553285244,
          -5.752049999433002,
          -6.881893383159216,
          -6.5453962916602375,
          -5.039119802550206,
          -5.338956969174161,
          -4.4834048889550315,
          -3.927119209210786,
          -4.914573738720649,
          -6.567959222482106,
          -7.620031172452751,
          -7.607736110887162,
          -7.5546361814823495,
          -7.144042517705126,
          -7.123148748328626,
          -6.136712449596261,
          -6.365268583170922,
          -7.46153901912162,
          -7.887593355698787,
          -7.24361705197415,
          -6.356909555910471,
          -5.176156220893024,
          -6.80156252352153,
          -6.802162108296153,
          -6.313537622663519,
          -3.5447733332150233,
          -3.9845629222544896,
          -2.854306918829467,
          -2.6727676110848138,
          -2.985194155696666,
          -1.9778983711938678,
          -2.829599717537466,
          -2.256304104822701,
          -3.0652309473468895,
          -3.641370706696887
         ],
         "yaxis": "y14"
        },
        {
         "line": {
          "color": "rgba(128, 128, 128, 1.0)",
          "dash": "solid",
          "shape": "linear",
          "width": 1.3
         },
         "marker": {
          "size": 2,
          "symbol": "circle"
         },
         "mode": "markers",
         "name": "GOOG",
         "text": "",
         "type": "scatter",
         "x": [
          1.0819354668374346,
          2.4799376706733622,
          2.2268051364701633,
          1.0250862796132514,
          0.3554705098107952,
          0.7156871789501777,
          0.1067856256869062,
          -0.123407659403828,
          0.28296814854104424,
          0.49919665559686655,
          -0.006990933535996335,
          0.033384083208729,
          -0.08440237960348058,
          0.7897831313157041,
          1.5201787318987088,
          1.5475803170317657,
          0.8576482186298152,
          2.5467860395958803,
          3.993713288865485,
          4.567833775159525,
          5.183738002370754,
          6.092155689019387,
          6.1823362071732495,
          5.674471133357569,
          5.3441259995195045,
          5.617275592259908,
          6.783773732222309,
          7.198486019655446,
          7.145176329258773,
          6.543734446718874,
          7.312297808122165,
          7.223841848314789,
          7.9514779082905,
          8.561609308063588,
          9.738378487072284,
          9.075752793744627,
          9.831438453795284,
          8.516970286231762,
          8.252832558903457,
          9.533388230834202,
          9.67698655408267,
          10.86849174836057,
          10.669733608987032,
          9.989883871982169,
          8.670283109572248,
          9.577541757674734,
          8.881467530627548,
          10.376316257373494,
          9.81916422882076,
          10.225052700919383,
          10.056165673334721,
          11.05423378093204,
          11.438246334862646,
          10.468756699066553,
          9.87868872301803,
          8.76800846671155,
          6.684972121397745,
          8.078100249152664,
          6.3740120486351195,
          6.699908754451213,
          6.63902778498758,
          7.333955166310478,
          8.539313786810935,
          8.765231793823297,
          8.550945866671988,
          8.648688407218522,
          8.369870777573873,
          7.728510910650162,
          7.187302004909984,
          7.4427073016969105,
          9.038283728844396,
          11.127516915360015,
          12.176216508021733,
          13.642073852393995,
          13.114857135669329,
          13.832452593325161,
          14.912682023756759,
          15.357186361705619,
          17.058373360129018,
          18.476693401175936,
          18.172980321487877,
          19.516504578663504,
          18.750375542604836,
          19.83121087323503,
          20.970407888437194,
          20.46369062990867,
          20.493108587316645,
          19.42665903106606,
          18.742685639947105,
          18.034705834652556,
          18.052638546929252,
          16.476787278642664,
          16.81420963222878,
          15.856823228991814,
          13.806346247259345,
          14.896933576101397,
          15.749362202489804,
          16.287176408588053,
          15.628818851369322,
          15.302790607308463
         ],
         "xaxis": "x15",
         "y": [
          0.887859548430912,
          -0.12442855812384623,
          0.31510584146026,
          -0.3620399760333849,
          0.060047799161180415,
          0.489542542000453,
          0.39864526286565544,
          -0.12691305706221562,
          -0.14653742623622149,
          -1.9942051171963504,
          -1.3676444884468961,
          -0.8372557932333661,
          -1.9188470342391222,
          -1.176425895752355,
          -0.5063944395571112,
          -0.6230886218617776,
          -0.6637716155230189,
          -0.44370395604865664,
          -1.0502230320712198,
          -1.884455201532628,
          -0.8465602088727773,
          -0.2594989167460039,
          -1.9955610009465663,
          -2.221501710910537,
          -3.217375118573837,
          -3.6208546163065196,
          -4.929555124356471,
          -4.840508167100383,
          -3.827535434970696,
          -3.867032210267071,
          -4.5063002992719685,
          -4.925453159939044,
          -4.174179782827053,
          -2.657263222654409,
          -4.307262797144048,
          -5.304732773389594,
          -4.618642038632928,
          -5.7364532527662195,
          -4.392594886900887,
          -4.4558778061555255,
          -4.9857689109230625,
          -4.156439892523207,
          -3.3815162927726474,
          -4.524633232529935,
          -2.1656811236745916,
          -3.1885135351785516,
          -3.9006128888640728,
          -4.077345971346925,
          -4.000916020536469,
          -4.4098462746028675,
          -5.639320258383571,
          -5.687101247473266,
          -5.0688162769214875,
          -5.728851900477398,
          -6.343303939209772,
          -9.328835099025895,
          -8.860782654790022,
          -8.766972470016524,
          -7.71034017674116,
          -7.34436940021025,
          -7.352338908426178,
          -5.660115446029203,
          -6.6854008273788335,
          -5.682223402388089,
          -6.9632825041098405,
          -6.678646553285244,
          -5.752049999433002,
          -6.881893383159216,
          -6.5453962916602375,
          -5.039119802550206,
          -5.338956969174161,
          -4.4834048889550315,
          -3.927119209210786,
          -4.914573738720649,
          -6.567959222482106,
          -7.620031172452751,
          -7.607736110887162,
          -7.5546361814823495,
          -7.144042517705126,
          -7.123148748328626,
          -6.136712449596261,
          -6.365268583170922,
          -7.46153901912162,
          -7.887593355698787,
          -7.24361705197415,
          -6.356909555910471,
          -5.176156220893024,
          -6.80156252352153,
          -6.802162108296153,
          -6.313537622663519,
          -3.5447733332150233,
          -3.9845629222544896,
          -2.854306918829467,
          -2.6727676110848138,
          -2.985194155696666,
          -1.9778983711938678,
          -2.829599717537466,
          -2.256304104822701,
          -3.0652309473468895,
          -3.641370706696887
         ],
         "yaxis": "y15"
        },
        {
         "line": {
          "color": "rgba(128, 128, 128, 1.0)",
          "dash": "solid",
          "shape": "linear",
          "width": 1.3
         },
         "marker": {
          "size": 2,
          "symbol": "circle"
         },
         "mode": "markers",
         "name": "VERZ",
         "text": "",
         "type": "scatter",
         "x": [
          -1.2868801566664638,
          -2.028366513807729,
          -2.760879106191367,
          -1.9911859649445645,
          -1.1698265723057135,
          -0.9720902802456763,
          -1.3893692343289523,
          0.15751532682256508,
          0.28067988699811575,
          -0.5107120093055321,
          -1.8063687051293358,
          -1.7921784377934262,
          -1.1044874291941618,
          -0.2664229033287746,
          -0.6256421886729924,
          0.4121968431481302,
          1.8992288911822006,
          0.4713284609322743,
          2.994948247125084,
          3.0066845652519816,
          4.428386071353853,
          4.91527793224154,
          5.9599498493520535,
          6.1134080683029515,
          5.3533745076686206,
          5.293323668532801,
          4.099962721172125,
          5.217635982306543,
          6.071263872872076,
          4.6433790700021245,
          3.7602602888241847,
          3.281740775327897,
          2.7404638966339827,
          3.3387539342756676,
          4.0286684579720395,
          5.549431907856821,
          7.7754320531931445,
          6.322731592099521,
          6.500348418463007,
          4.307960773824358,
          5.299420681700493,
          6.887429791634869,
          8.867227597756447,
          9.705505785295987,
          9.727310508705818,
          9.47542189494929,
          10.024088259089691,
          9.98684737225707,
          10.69468858425811,
          12.590123161193892,
          11.782826178393798,
          10.917174155836495,
          10.734616926162627,
          10.241322244735414,
          10.641312793916578,
          9.281628379084083,
          9.400145386809678,
          8.651862561935062,
          7.565414896511578,
          6.965260757342342,
          6.707417689495253,
          5.298031156312341,
          5.189613710611087,
          6.38226310279424,
          6.183136169656518,
          5.612166391713544,
          6.39114867505892,
          6.579941941996416,
          8.383442583844783,
          7.707907622852362,
          6.38780750561438,
          6.444029553587608,
          6.607992301383706,
          5.807273092823491,
          6.986991314869297,
          8.092324810185454,
          7.438659031910002,
          7.801618929657894,
          8.167147603397437,
          8.31903075035327,
          7.29850862750133,
          7.512739654299573,
          6.420792527152818,
          7.055018729110213,
          7.0770407319095945,
          7.117641048349709,
          7.345524557970403,
          5.752190402863436,
          6.273101375049812,
          6.278722472055344,
          5.7539515553200955,
          3.1068215726052926,
          2.7290057360970037,
          1.2653832609269167,
          2.2899432891116005,
          1.9511362641198013,
          1.5916454981489803,
          2.1430788859714105,
          2.542681463390741,
          1.530278277459552
         ],
         "xaxis": "x16",
         "y": [
          0.2048742448337656,
          0.3995130615403163,
          0.5136290915851257,
          0.02076516140369261,
          0.7226077593218854,
          0.05684612597054928,
          -2.290373173966028,
          -3.352705324762807,
          -3.7250925423200565,
          -4.793135650456053,
          -5.329050597202418,
          -4.387591592305006,
          -4.049448089904911,
          -5.709282777034537,
          -6.328159594193041,
          -5.224321790483151,
          -5.2544049851922985,
          -5.421682067272712,
          -5.453447794943075,
          -5.2185053146589,
          -5.352828044506808,
          -6.099418933938748,
          -5.385357244049113,
          -5.133670710990421,
          -4.985790773356901,
          -4.275721196167301,
          -4.568176178165343,
          -4.250215743788066,
          -2.6250793292773977,
          -1.4682659462139522,
          -2.1133744171717304,
          -2.3256163870395024,
          -2.5325475124338666,
          -2.8567767576541843,
          -2.1431314030437036,
          -1.7670788605729655,
          -2.296789904733288,
          -2.2121516024694006,
          -3.5342462146632085,
          -0.6964724804885365,
          1.3477234161467004,
          1.441712672948758,
          2.1058407403647976,
          1.9878836781924143,
          2.733661743162101,
          4.07587656098306,
          4.494268791352438,
          2.7551554418904525,
          3.4262226942585743,
          4.261906636597172,
          5.644921824628,
          4.413022382756968,
          5.910088337610661,
          6.542923789958097,
          6.312824948758883,
          7.0707387309998815,
          9.908110224085755,
          9.306542233112879,
          10.085829266774926,
          9.708254599022629,
          9.67875256616383,
          7.916943299423433,
          7.5583217288247715,
          8.46681747105512,
          9.205058014250898,
          7.777162993877683,
          7.405956989690508,
          8.820618268349833,
          8.580023758687686,
          7.351488938534795,
          4.329475295100899,
          3.2757851795090573,
          4.595116532455589,
          5.783659442360334,
          3.7878041018828923,
          3.044704452625716,
          2.0189657021517684,
          4.274722764937334,
          5.893714987065865,
          5.18398622503782,
          4.890734539739318,
          5.259914377771817,
          4.2388250269525924,
          2.228345073405111,
          1.0172014863258558,
          2.904580330298862,
          1.6375736383990258,
          1.6730927768195931,
          0.3295055389813142,
          1.1186980436244327,
          0.3825970786381174,
          0.2403846669254254,
          1.3424608810215752,
          2.0175060395052333,
          1.8490765888226344,
          2.361676998871574,
          2.3661487164680395,
          4.650347499849967,
          4.779357897092006,
          5.318865454818467
         ],
         "yaxis": "y16"
        },
        {
         "line": {
          "color": "rgba(128, 128, 128, 1.0)",
          "dash": "solid",
          "shape": "linear",
          "width": 1.3
         },
         "marker": {
          "size": 2,
          "symbol": "circle"
         },
         "mode": "markers",
         "name": "VERZ",
         "text": "",
         "type": "scatter",
         "x": [
          -0.14231784552685722,
          0.0038383488741102756,
          -1.394342441102017,
          0.05281310065044109,
          -1.2953856887317763,
          -0.23262923631253374,
          -2.5064608920511025,
          -3.6201295377974985,
          -2.959479810992466,
          -3.772544722719001,
          -3.0709588325198514,
          -2.0375398840254366,
          -2.1693398305300824,
          -3.2990288162994386,
          -4.890590132460698,
          -4.15033703004252,
          -4.176687297989628,
          -4.5205820294304235,
          -4.414951077438917,
          -4.950842185052673,
          -6.320562459093343,
          -6.44888710392168,
          -6.020839447515197,
          -5.785039010002954,
          -6.093129681526676,
          -6.634138955952207,
          -6.570694424396184,
          -6.521643404930816,
          -5.299024933004039,
          -6.0886710847423435,
          -5.881060365924777,
          -3.915482394403372,
          -3.9827955274268745,
          -4.147845784640805,
          -3.42504253118667,
          -4.40082690854008,
          -4.075525471295986,
          -2.861534944561367,
          -3.781912959044849,
          -4.333547172371902,
          -3.7095920728127374,
          -3.4750745616048015,
          -2.747492006580319,
          -0.9979818882593192,
          -1.0647188197146276,
          -0.8955434858458016,
          -0.6519956098049098,
          1.6492927283038028,
          3.387224087556209,
          4.513566073082565,
          5.430806739184705,
          4.907521152193672,
          2.8095620478423875,
          2.915435824696081,
          1.5200875838787369,
          2.429132108080452,
          3.7756335804841363,
          4.002064408796806,
          3.4628516327730687,
          3.214324464767252,
          3.8560726788603708,
          2.2554862113398633,
          2.9445092783273754,
          3.5262828903204313,
          2.463193248025804,
          1.7260733152151322,
          0.7398626546489155,
          0.4719722351730572,
          0.9991489857126875,
          1.9463121727900423,
          0.23353648657121595,
          1.0453540766324032,
          0.8125285169010912,
          0.21356493176886515,
          0.28570457417174555,
          0.11812423461881866,
          0.4917748669935742,
          0.36077971790123253,
          0.5972969247795444,
          0.7236739472521214,
          2.636233090974466,
          1.069513681161607,
          0.28665585447293573,
          0.19369838104339726,
          0.35621491824623663,
          3.048403464903692,
          4.677726795508604,
          4.894177005591278,
          4.787507408289258,
          4.951135431932031,
          4.884774009715971,
          3.5625808936247694,
          2.9640904467996405,
          2.6843113704032233,
          2.530433555830813,
          5.248023191199183,
          4.349788040925403,
          5.450810783635532,
          5.052823592404031,
          5.15929729082009
         ],
         "xaxis": "x17",
         "y": [
          0.2048742448337656,
          0.3995130615403163,
          0.5136290915851257,
          0.02076516140369261,
          0.7226077593218854,
          0.05684612597054928,
          -2.290373173966028,
          -3.352705324762807,
          -3.7250925423200565,
          -4.793135650456053,
          -5.329050597202418,
          -4.387591592305006,
          -4.049448089904911,
          -5.709282777034537,
          -6.328159594193041,
          -5.224321790483151,
          -5.2544049851922985,
          -5.421682067272712,
          -5.453447794943075,
          -5.2185053146589,
          -5.352828044506808,
          -6.099418933938748,
          -5.385357244049113,
          -5.133670710990421,
          -4.985790773356901,
          -4.275721196167301,
          -4.568176178165343,
          -4.250215743788066,
          -2.6250793292773977,
          -1.4682659462139522,
          -2.1133744171717304,
          -2.3256163870395024,
          -2.5325475124338666,
          -2.8567767576541843,
          -2.1431314030437036,
          -1.7670788605729655,
          -2.296789904733288,
          -2.2121516024694006,
          -3.5342462146632085,
          -0.6964724804885365,
          1.3477234161467004,
          1.441712672948758,
          2.1058407403647976,
          1.9878836781924143,
          2.733661743162101,
          4.07587656098306,
          4.494268791352438,
          2.7551554418904525,
          3.4262226942585743,
          4.261906636597172,
          5.644921824628,
          4.413022382756968,
          5.910088337610661,
          6.542923789958097,
          6.312824948758883,
          7.0707387309998815,
          9.908110224085755,
          9.306542233112879,
          10.085829266774926,
          9.708254599022629,
          9.67875256616383,
          7.916943299423433,
          7.5583217288247715,
          8.46681747105512,
          9.205058014250898,
          7.777162993877683,
          7.405956989690508,
          8.820618268349833,
          8.580023758687686,
          7.351488938534795,
          4.329475295100899,
          3.2757851795090573,
          4.595116532455589,
          5.783659442360334,
          3.7878041018828923,
          3.044704452625716,
          2.0189657021517684,
          4.274722764937334,
          5.893714987065865,
          5.18398622503782,
          4.890734539739318,
          5.259914377771817,
          4.2388250269525924,
          2.228345073405111,
          1.0172014863258558,
          2.904580330298862,
          1.6375736383990258,
          1.6730927768195931,
          0.3295055389813142,
          1.1186980436244327,
          0.3825970786381174,
          0.2403846669254254,
          1.3424608810215752,
          2.0175060395052333,
          1.8490765888226344,
          2.361676998871574,
          2.3661487164680395,
          4.650347499849967,
          4.779357897092006,
          5.318865454818467
         ],
         "yaxis": "y17"
        },
        {
         "line": {
          "color": "rgba(128, 128, 128, 1.0)",
          "dash": "solid",
          "shape": "linear",
          "width": 1.3
         },
         "marker": {
          "size": 2,
          "symbol": "circle"
         },
         "mode": "markers",
         "name": "VERZ",
         "text": "",
         "type": "scatter",
         "x": [
          0.887859548430912,
          -0.12442855812384623,
          0.31510584146026,
          -0.3620399760333849,
          0.060047799161180415,
          0.489542542000453,
          0.39864526286565544,
          -0.12691305706221562,
          -0.14653742623622149,
          -1.9942051171963504,
          -1.3676444884468961,
          -0.8372557932333661,
          -1.9188470342391222,
          -1.176425895752355,
          -0.5063944395571112,
          -0.6230886218617776,
          -0.6637716155230189,
          -0.44370395604865664,
          -1.0502230320712198,
          -1.884455201532628,
          -0.8465602088727773,
          -0.2594989167460039,
          -1.9955610009465663,
          -2.221501710910537,
          -3.217375118573837,
          -3.6208546163065196,
          -4.929555124356471,
          -4.840508167100383,
          -3.827535434970696,
          -3.867032210267071,
          -4.5063002992719685,
          -4.925453159939044,
          -4.174179782827053,
          -2.657263222654409,
          -4.307262797144048,
          -5.304732773389594,
          -4.618642038632928,
          -5.7364532527662195,
          -4.392594886900887,
          -4.4558778061555255,
          -4.9857689109230625,
          -4.156439892523207,
          -3.3815162927726474,
          -4.524633232529935,
          -2.1656811236745916,
          -3.1885135351785516,
          -3.9006128888640728,
          -4.077345971346925,
          -4.000916020536469,
          -4.4098462746028675,
          -5.639320258383571,
          -5.687101247473266,
          -5.0688162769214875,
          -5.728851900477398,
          -6.343303939209772,
          -9.328835099025895,
          -8.860782654790022,
          -8.766972470016524,
          -7.71034017674116,
          -7.34436940021025,
          -7.352338908426178,
          -5.660115446029203,
          -6.6854008273788335,
          -5.682223402388089,
          -6.9632825041098405,
          -6.678646553285244,
          -5.752049999433002,
          -6.881893383159216,
          -6.5453962916602375,
          -5.039119802550206,
          -5.338956969174161,
          -4.4834048889550315,
          -3.927119209210786,
          -4.914573738720649,
          -6.567959222482106,
          -7.620031172452751,
          -7.607736110887162,
          -7.5546361814823495,
          -7.144042517705126,
          -7.123148748328626,
          -6.136712449596261,
          -6.365268583170922,
          -7.46153901912162,
          -7.887593355698787,
          -7.24361705197415,
          -6.356909555910471,
          -5.176156220893024,
          -6.80156252352153,
          -6.802162108296153,
          -6.313537622663519,
          -3.5447733332150233,
          -3.9845629222544896,
          -2.854306918829467,
          -2.6727676110848138,
          -2.985194155696666,
          -1.9778983711938678,
          -2.829599717537466,
          -2.256304104822701,
          -3.0652309473468895,
          -3.641370706696887
         ],
         "xaxis": "x18",
         "y": [
          0.2048742448337656,
          0.3995130615403163,
          0.5136290915851257,
          0.02076516140369261,
          0.7226077593218854,
          0.05684612597054928,
          -2.290373173966028,
          -3.352705324762807,
          -3.7250925423200565,
          -4.793135650456053,
          -5.329050597202418,
          -4.387591592305006,
          -4.049448089904911,
          -5.709282777034537,
          -6.328159594193041,
          -5.224321790483151,
          -5.2544049851922985,
          -5.421682067272712,
          -5.453447794943075,
          -5.2185053146589,
          -5.352828044506808,
          -6.099418933938748,
          -5.385357244049113,
          -5.133670710990421,
          -4.985790773356901,
          -4.275721196167301,
          -4.568176178165343,
          -4.250215743788066,
          -2.6250793292773977,
          -1.4682659462139522,
          -2.1133744171717304,
          -2.3256163870395024,
          -2.5325475124338666,
          -2.8567767576541843,
          -2.1431314030437036,
          -1.7670788605729655,
          -2.296789904733288,
          -2.2121516024694006,
          -3.5342462146632085,
          -0.6964724804885365,
          1.3477234161467004,
          1.441712672948758,
          2.1058407403647976,
          1.9878836781924143,
          2.733661743162101,
          4.07587656098306,
          4.494268791352438,
          2.7551554418904525,
          3.4262226942585743,
          4.261906636597172,
          5.644921824628,
          4.413022382756968,
          5.910088337610661,
          6.542923789958097,
          6.312824948758883,
          7.0707387309998815,
          9.908110224085755,
          9.306542233112879,
          10.085829266774926,
          9.708254599022629,
          9.67875256616383,
          7.916943299423433,
          7.5583217288247715,
          8.46681747105512,
          9.205058014250898,
          7.777162993877683,
          7.405956989690508,
          8.820618268349833,
          8.580023758687686,
          7.351488938534795,
          4.329475295100899,
          3.2757851795090573,
          4.595116532455589,
          5.783659442360334,
          3.7878041018828923,
          3.044704452625716,
          2.0189657021517684,
          4.274722764937334,
          5.893714987065865,
          5.18398622503782,
          4.890734539739318,
          5.259914377771817,
          4.2388250269525924,
          2.228345073405111,
          1.0172014863258558,
          2.904580330298862,
          1.6375736383990258,
          1.6730927768195931,
          0.3295055389813142,
          1.1186980436244327,
          0.3825970786381174,
          0.2403846669254254,
          1.3424608810215752,
          2.0175060395052333,
          1.8490765888226344,
          2.361676998871574,
          2.3661487164680395,
          4.650347499849967,
          4.779357897092006,
          5.318865454818467
         ],
         "yaxis": "y18"
        },
        {
         "histfunc": "count",
         "histnorm": "",
         "marker": {
          "color": "rgba(128, 0, 128, 1.0)",
          "line": {
           "color": "#4D5663",
           "width": 1.3
          }
         },
         "name": "VERZ",
         "nbinsx": 10,
         "opacity": 0.8,
         "orientation": "v",
         "type": "histogram",
         "x": [
          0.2048742448337656,
          0.3995130615403163,
          0.5136290915851257,
          0.02076516140369261,
          0.7226077593218854,
          0.05684612597054928,
          -2.290373173966028,
          -3.352705324762807,
          -3.7250925423200565,
          -4.793135650456053,
          -5.329050597202418,
          -4.387591592305006,
          -4.049448089904911,
          -5.709282777034537,
          -6.328159594193041,
          -5.224321790483151,
          -5.2544049851922985,
          -5.421682067272712,
          -5.453447794943075,
          -5.2185053146589,
          -5.352828044506808,
          -6.099418933938748,
          -5.385357244049113,
          -5.133670710990421,
          -4.985790773356901,
          -4.275721196167301,
          -4.568176178165343,
          -4.250215743788066,
          -2.6250793292773977,
          -1.4682659462139522,
          -2.1133744171717304,
          -2.3256163870395024,
          -2.5325475124338666,
          -2.8567767576541843,
          -2.1431314030437036,
          -1.7670788605729655,
          -2.296789904733288,
          -2.2121516024694006,
          -3.5342462146632085,
          -0.6964724804885365,
          1.3477234161467004,
          1.441712672948758,
          2.1058407403647976,
          1.9878836781924143,
          2.733661743162101,
          4.07587656098306,
          4.494268791352438,
          2.7551554418904525,
          3.4262226942585743,
          4.261906636597172,
          5.644921824628,
          4.413022382756968,
          5.910088337610661,
          6.542923789958097,
          6.312824948758883,
          7.0707387309998815,
          9.908110224085755,
          9.306542233112879,
          10.085829266774926,
          9.708254599022629,
          9.67875256616383,
          7.916943299423433,
          7.5583217288247715,
          8.46681747105512,
          9.205058014250898,
          7.777162993877683,
          7.405956989690508,
          8.820618268349833,
          8.580023758687686,
          7.351488938534795,
          4.329475295100899,
          3.2757851795090573,
          4.595116532455589,
          5.783659442360334,
          3.7878041018828923,
          3.044704452625716,
          2.0189657021517684,
          4.274722764937334,
          5.893714987065865,
          5.18398622503782,
          4.890734539739318,
          5.259914377771817,
          4.2388250269525924,
          2.228345073405111,
          1.0172014863258558,
          2.904580330298862,
          1.6375736383990258,
          1.6730927768195931,
          0.3295055389813142,
          1.1186980436244327,
          0.3825970786381174,
          0.2403846669254254,
          1.3424608810215752,
          2.0175060395052333,
          1.8490765888226344,
          2.361676998871574,
          2.3661487164680395,
          4.650347499849967,
          4.779357897092006,
          5.318865454818467
         ],
         "xaxis": "x19",
         "yaxis": "y19"
        },
        {
         "line": {
          "color": "rgba(128, 128, 128, 1.0)",
          "dash": "solid",
          "shape": "linear",
          "width": 1.3
         },
         "marker": {
          "size": 2,
          "symbol": "circle"
         },
         "mode": "markers",
         "name": "VERZ",
         "text": "",
         "type": "scatter",
         "x": [
          1.0819354668374346,
          2.4799376706733622,
          2.2268051364701633,
          1.0250862796132514,
          0.3554705098107952,
          0.7156871789501777,
          0.1067856256869062,
          -0.123407659403828,
          0.28296814854104424,
          0.49919665559686655,
          -0.006990933535996335,
          0.033384083208729,
          -0.08440237960348058,
          0.7897831313157041,
          1.5201787318987088,
          1.5475803170317657,
          0.8576482186298152,
          2.5467860395958803,
          3.993713288865485,
          4.567833775159525,
          5.183738002370754,
          6.092155689019387,
          6.1823362071732495,
          5.674471133357569,
          5.3441259995195045,
          5.617275592259908,
          6.783773732222309,
          7.198486019655446,
          7.145176329258773,
          6.543734446718874,
          7.312297808122165,
          7.223841848314789,
          7.9514779082905,
          8.561609308063588,
          9.738378487072284,
          9.075752793744627,
          9.831438453795284,
          8.516970286231762,
          8.252832558903457,
          9.533388230834202,
          9.67698655408267,
          10.86849174836057,
          10.669733608987032,
          9.989883871982169,
          8.670283109572248,
          9.577541757674734,
          8.881467530627548,
          10.376316257373494,
          9.81916422882076,
          10.225052700919383,
          10.056165673334721,
          11.05423378093204,
          11.438246334862646,
          10.468756699066553,
          9.87868872301803,
          8.76800846671155,
          6.684972121397745,
          8.078100249152664,
          6.3740120486351195,
          6.699908754451213,
          6.63902778498758,
          7.333955166310478,
          8.539313786810935,
          8.765231793823297,
          8.550945866671988,
          8.648688407218522,
          8.369870777573873,
          7.728510910650162,
          7.187302004909984,
          7.4427073016969105,
          9.038283728844396,
          11.127516915360015,
          12.176216508021733,
          13.642073852393995,
          13.114857135669329,
          13.832452593325161,
          14.912682023756759,
          15.357186361705619,
          17.058373360129018,
          18.476693401175936,
          18.172980321487877,
          19.516504578663504,
          18.750375542604836,
          19.83121087323503,
          20.970407888437194,
          20.46369062990867,
          20.493108587316645,
          19.42665903106606,
          18.742685639947105,
          18.034705834652556,
          18.052638546929252,
          16.476787278642664,
          16.81420963222878,
          15.856823228991814,
          13.806346247259345,
          14.896933576101397,
          15.749362202489804,
          16.287176408588053,
          15.628818851369322,
          15.302790607308463
         ],
         "xaxis": "x20",
         "y": [
          0.2048742448337656,
          0.3995130615403163,
          0.5136290915851257,
          0.02076516140369261,
          0.7226077593218854,
          0.05684612597054928,
          -2.290373173966028,
          -3.352705324762807,
          -3.7250925423200565,
          -4.793135650456053,
          -5.329050597202418,
          -4.387591592305006,
          -4.049448089904911,
          -5.709282777034537,
          -6.328159594193041,
          -5.224321790483151,
          -5.2544049851922985,
          -5.421682067272712,
          -5.453447794943075,
          -5.2185053146589,
          -5.352828044506808,
          -6.099418933938748,
          -5.385357244049113,
          -5.133670710990421,
          -4.985790773356901,
          -4.275721196167301,
          -4.568176178165343,
          -4.250215743788066,
          -2.6250793292773977,
          -1.4682659462139522,
          -2.1133744171717304,
          -2.3256163870395024,
          -2.5325475124338666,
          -2.8567767576541843,
          -2.1431314030437036,
          -1.7670788605729655,
          -2.296789904733288,
          -2.2121516024694006,
          -3.5342462146632085,
          -0.6964724804885365,
          1.3477234161467004,
          1.441712672948758,
          2.1058407403647976,
          1.9878836781924143,
          2.733661743162101,
          4.07587656098306,
          4.494268791352438,
          2.7551554418904525,
          3.4262226942585743,
          4.261906636597172,
          5.644921824628,
          4.413022382756968,
          5.910088337610661,
          6.542923789958097,
          6.312824948758883,
          7.0707387309998815,
          9.908110224085755,
          9.306542233112879,
          10.085829266774926,
          9.708254599022629,
          9.67875256616383,
          7.916943299423433,
          7.5583217288247715,
          8.46681747105512,
          9.205058014250898,
          7.777162993877683,
          7.405956989690508,
          8.820618268349833,
          8.580023758687686,
          7.351488938534795,
          4.329475295100899,
          3.2757851795090573,
          4.595116532455589,
          5.783659442360334,
          3.7878041018828923,
          3.044704452625716,
          2.0189657021517684,
          4.274722764937334,
          5.893714987065865,
          5.18398622503782,
          4.890734539739318,
          5.259914377771817,
          4.2388250269525924,
          2.228345073405111,
          1.0172014863258558,
          2.904580330298862,
          1.6375736383990258,
          1.6730927768195931,
          0.3295055389813142,
          1.1186980436244327,
          0.3825970786381174,
          0.2403846669254254,
          1.3424608810215752,
          2.0175060395052333,
          1.8490765888226344,
          2.361676998871574,
          2.3661487164680395,
          4.650347499849967,
          4.779357897092006,
          5.318865454818467
         ],
         "yaxis": "y20"
        },
        {
         "line": {
          "color": "rgba(128, 128, 128, 1.0)",
          "dash": "solid",
          "shape": "linear",
          "width": 1.3
         },
         "marker": {
          "size": 2,
          "symbol": "circle"
         },
         "mode": "markers",
         "name": "APPL",
         "text": "",
         "type": "scatter",
         "x": [
          -1.2868801566664638,
          -2.028366513807729,
          -2.760879106191367,
          -1.9911859649445645,
          -1.1698265723057135,
          -0.9720902802456763,
          -1.3893692343289523,
          0.15751532682256508,
          0.28067988699811575,
          -0.5107120093055321,
          -1.8063687051293358,
          -1.7921784377934262,
          -1.1044874291941618,
          -0.2664229033287746,
          -0.6256421886729924,
          0.4121968431481302,
          1.8992288911822006,
          0.4713284609322743,
          2.994948247125084,
          3.0066845652519816,
          4.428386071353853,
          4.91527793224154,
          5.9599498493520535,
          6.1134080683029515,
          5.3533745076686206,
          5.293323668532801,
          4.099962721172125,
          5.217635982306543,
          6.071263872872076,
          4.6433790700021245,
          3.7602602888241847,
          3.281740775327897,
          2.7404638966339827,
          3.3387539342756676,
          4.0286684579720395,
          5.549431907856821,
          7.7754320531931445,
          6.322731592099521,
          6.500348418463007,
          4.307960773824358,
          5.299420681700493,
          6.887429791634869,
          8.867227597756447,
          9.705505785295987,
          9.727310508705818,
          9.47542189494929,
          10.024088259089691,
          9.98684737225707,
          10.69468858425811,
          12.590123161193892,
          11.782826178393798,
          10.917174155836495,
          10.734616926162627,
          10.241322244735414,
          10.641312793916578,
          9.281628379084083,
          9.400145386809678,
          8.651862561935062,
          7.565414896511578,
          6.965260757342342,
          6.707417689495253,
          5.298031156312341,
          5.189613710611087,
          6.38226310279424,
          6.183136169656518,
          5.612166391713544,
          6.39114867505892,
          6.579941941996416,
          8.383442583844783,
          7.707907622852362,
          6.38780750561438,
          6.444029553587608,
          6.607992301383706,
          5.807273092823491,
          6.986991314869297,
          8.092324810185454,
          7.438659031910002,
          7.801618929657894,
          8.167147603397437,
          8.31903075035327,
          7.29850862750133,
          7.512739654299573,
          6.420792527152818,
          7.055018729110213,
          7.0770407319095945,
          7.117641048349709,
          7.345524557970403,
          5.752190402863436,
          6.273101375049812,
          6.278722472055344,
          5.7539515553200955,
          3.1068215726052926,
          2.7290057360970037,
          1.2653832609269167,
          2.2899432891116005,
          1.9511362641198013,
          1.5916454981489803,
          2.1430788859714105,
          2.542681463390741,
          1.530278277459552
         ],
         "xaxis": "x21",
         "y": [
          1.0819354668374346,
          2.4799376706733622,
          2.2268051364701633,
          1.0250862796132514,
          0.3554705098107952,
          0.7156871789501777,
          0.1067856256869062,
          -0.123407659403828,
          0.28296814854104424,
          0.49919665559686655,
          -0.006990933535996335,
          0.033384083208729,
          -0.08440237960348058,
          0.7897831313157041,
          1.5201787318987088,
          1.5475803170317657,
          0.8576482186298152,
          2.5467860395958803,
          3.993713288865485,
          4.567833775159525,
          5.183738002370754,
          6.092155689019387,
          6.1823362071732495,
          5.674471133357569,
          5.3441259995195045,
          5.617275592259908,
          6.783773732222309,
          7.198486019655446,
          7.145176329258773,
          6.543734446718874,
          7.312297808122165,
          7.223841848314789,
          7.9514779082905,
          8.561609308063588,
          9.738378487072284,
          9.075752793744627,
          9.831438453795284,
          8.516970286231762,
          8.252832558903457,
          9.533388230834202,
          9.67698655408267,
          10.86849174836057,
          10.669733608987032,
          9.989883871982169,
          8.670283109572248,
          9.577541757674734,
          8.881467530627548,
          10.376316257373494,
          9.81916422882076,
          10.225052700919383,
          10.056165673334721,
          11.05423378093204,
          11.438246334862646,
          10.468756699066553,
          9.87868872301803,
          8.76800846671155,
          6.684972121397745,
          8.078100249152664,
          6.3740120486351195,
          6.699908754451213,
          6.63902778498758,
          7.333955166310478,
          8.539313786810935,
          8.765231793823297,
          8.550945866671988,
          8.648688407218522,
          8.369870777573873,
          7.728510910650162,
          7.187302004909984,
          7.4427073016969105,
          9.038283728844396,
          11.127516915360015,
          12.176216508021733,
          13.642073852393995,
          13.114857135669329,
          13.832452593325161,
          14.912682023756759,
          15.357186361705619,
          17.058373360129018,
          18.476693401175936,
          18.172980321487877,
          19.516504578663504,
          18.750375542604836,
          19.83121087323503,
          20.970407888437194,
          20.46369062990867,
          20.493108587316645,
          19.42665903106606,
          18.742685639947105,
          18.034705834652556,
          18.052638546929252,
          16.476787278642664,
          16.81420963222878,
          15.856823228991814,
          13.806346247259345,
          14.896933576101397,
          15.749362202489804,
          16.287176408588053,
          15.628818851369322,
          15.302790607308463
         ],
         "yaxis": "y21"
        },
        {
         "line": {
          "color": "rgba(128, 128, 128, 1.0)",
          "dash": "solid",
          "shape": "linear",
          "width": 1.3
         },
         "marker": {
          "size": 2,
          "symbol": "circle"
         },
         "mode": "markers",
         "name": "APPL",
         "text": "",
         "type": "scatter",
         "x": [
          -0.14231784552685722,
          0.0038383488741102756,
          -1.394342441102017,
          0.05281310065044109,
          -1.2953856887317763,
          -0.23262923631253374,
          -2.5064608920511025,
          -3.6201295377974985,
          -2.959479810992466,
          -3.772544722719001,
          -3.0709588325198514,
          -2.0375398840254366,
          -2.1693398305300824,
          -3.2990288162994386,
          -4.890590132460698,
          -4.15033703004252,
          -4.176687297989628,
          -4.5205820294304235,
          -4.414951077438917,
          -4.950842185052673,
          -6.320562459093343,
          -6.44888710392168,
          -6.020839447515197,
          -5.785039010002954,
          -6.093129681526676,
          -6.634138955952207,
          -6.570694424396184,
          -6.521643404930816,
          -5.299024933004039,
          -6.0886710847423435,
          -5.881060365924777,
          -3.915482394403372,
          -3.9827955274268745,
          -4.147845784640805,
          -3.42504253118667,
          -4.40082690854008,
          -4.075525471295986,
          -2.861534944561367,
          -3.781912959044849,
          -4.333547172371902,
          -3.7095920728127374,
          -3.4750745616048015,
          -2.747492006580319,
          -0.9979818882593192,
          -1.0647188197146276,
          -0.8955434858458016,
          -0.6519956098049098,
          1.6492927283038028,
          3.387224087556209,
          4.513566073082565,
          5.430806739184705,
          4.907521152193672,
          2.8095620478423875,
          2.915435824696081,
          1.5200875838787369,
          2.429132108080452,
          3.7756335804841363,
          4.002064408796806,
          3.4628516327730687,
          3.214324464767252,
          3.8560726788603708,
          2.2554862113398633,
          2.9445092783273754,
          3.5262828903204313,
          2.463193248025804,
          1.7260733152151322,
          0.7398626546489155,
          0.4719722351730572,
          0.9991489857126875,
          1.9463121727900423,
          0.23353648657121595,
          1.0453540766324032,
          0.8125285169010912,
          0.21356493176886515,
          0.28570457417174555,
          0.11812423461881866,
          0.4917748669935742,
          0.36077971790123253,
          0.5972969247795444,
          0.7236739472521214,
          2.636233090974466,
          1.069513681161607,
          0.28665585447293573,
          0.19369838104339726,
          0.35621491824623663,
          3.048403464903692,
          4.677726795508604,
          4.894177005591278,
          4.787507408289258,
          4.951135431932031,
          4.884774009715971,
          3.5625808936247694,
          2.9640904467996405,
          2.6843113704032233,
          2.530433555830813,
          5.248023191199183,
          4.349788040925403,
          5.450810783635532,
          5.052823592404031,
          5.15929729082009
         ],
         "xaxis": "x22",
         "y": [
          1.0819354668374346,
          2.4799376706733622,
          2.2268051364701633,
          1.0250862796132514,
          0.3554705098107952,
          0.7156871789501777,
          0.1067856256869062,
          -0.123407659403828,
          0.28296814854104424,
          0.49919665559686655,
          -0.006990933535996335,
          0.033384083208729,
          -0.08440237960348058,
          0.7897831313157041,
          1.5201787318987088,
          1.5475803170317657,
          0.8576482186298152,
          2.5467860395958803,
          3.993713288865485,
          4.567833775159525,
          5.183738002370754,
          6.092155689019387,
          6.1823362071732495,
          5.674471133357569,
          5.3441259995195045,
          5.617275592259908,
          6.783773732222309,
          7.198486019655446,
          7.145176329258773,
          6.543734446718874,
          7.312297808122165,
          7.223841848314789,
          7.9514779082905,
          8.561609308063588,
          9.738378487072284,
          9.075752793744627,
          9.831438453795284,
          8.516970286231762,
          8.252832558903457,
          9.533388230834202,
          9.67698655408267,
          10.86849174836057,
          10.669733608987032,
          9.989883871982169,
          8.670283109572248,
          9.577541757674734,
          8.881467530627548,
          10.376316257373494,
          9.81916422882076,
          10.225052700919383,
          10.056165673334721,
          11.05423378093204,
          11.438246334862646,
          10.468756699066553,
          9.87868872301803,
          8.76800846671155,
          6.684972121397745,
          8.078100249152664,
          6.3740120486351195,
          6.699908754451213,
          6.63902778498758,
          7.333955166310478,
          8.539313786810935,
          8.765231793823297,
          8.550945866671988,
          8.648688407218522,
          8.369870777573873,
          7.728510910650162,
          7.187302004909984,
          7.4427073016969105,
          9.038283728844396,
          11.127516915360015,
          12.176216508021733,
          13.642073852393995,
          13.114857135669329,
          13.832452593325161,
          14.912682023756759,
          15.357186361705619,
          17.058373360129018,
          18.476693401175936,
          18.172980321487877,
          19.516504578663504,
          18.750375542604836,
          19.83121087323503,
          20.970407888437194,
          20.46369062990867,
          20.493108587316645,
          19.42665903106606,
          18.742685639947105,
          18.034705834652556,
          18.052638546929252,
          16.476787278642664,
          16.81420963222878,
          15.856823228991814,
          13.806346247259345,
          14.896933576101397,
          15.749362202489804,
          16.287176408588053,
          15.628818851369322,
          15.302790607308463
         ],
         "yaxis": "y22"
        },
        {
         "line": {
          "color": "rgba(128, 128, 128, 1.0)",
          "dash": "solid",
          "shape": "linear",
          "width": 1.3
         },
         "marker": {
          "size": 2,
          "symbol": "circle"
         },
         "mode": "markers",
         "name": "APPL",
         "text": "",
         "type": "scatter",
         "x": [
          0.887859548430912,
          -0.12442855812384623,
          0.31510584146026,
          -0.3620399760333849,
          0.060047799161180415,
          0.489542542000453,
          0.39864526286565544,
          -0.12691305706221562,
          -0.14653742623622149,
          -1.9942051171963504,
          -1.3676444884468961,
          -0.8372557932333661,
          -1.9188470342391222,
          -1.176425895752355,
          -0.5063944395571112,
          -0.6230886218617776,
          -0.6637716155230189,
          -0.44370395604865664,
          -1.0502230320712198,
          -1.884455201532628,
          -0.8465602088727773,
          -0.2594989167460039,
          -1.9955610009465663,
          -2.221501710910537,
          -3.217375118573837,
          -3.6208546163065196,
          -4.929555124356471,
          -4.840508167100383,
          -3.827535434970696,
          -3.867032210267071,
          -4.5063002992719685,
          -4.925453159939044,
          -4.174179782827053,
          -2.657263222654409,
          -4.307262797144048,
          -5.304732773389594,
          -4.618642038632928,
          -5.7364532527662195,
          -4.392594886900887,
          -4.4558778061555255,
          -4.9857689109230625,
          -4.156439892523207,
          -3.3815162927726474,
          -4.524633232529935,
          -2.1656811236745916,
          -3.1885135351785516,
          -3.9006128888640728,
          -4.077345971346925,
          -4.000916020536469,
          -4.4098462746028675,
          -5.639320258383571,
          -5.687101247473266,
          -5.0688162769214875,
          -5.728851900477398,
          -6.343303939209772,
          -9.328835099025895,
          -8.860782654790022,
          -8.766972470016524,
          -7.71034017674116,
          -7.34436940021025,
          -7.352338908426178,
          -5.660115446029203,
          -6.6854008273788335,
          -5.682223402388089,
          -6.9632825041098405,
          -6.678646553285244,
          -5.752049999433002,
          -6.881893383159216,
          -6.5453962916602375,
          -5.039119802550206,
          -5.338956969174161,
          -4.4834048889550315,
          -3.927119209210786,
          -4.914573738720649,
          -6.567959222482106,
          -7.620031172452751,
          -7.607736110887162,
          -7.5546361814823495,
          -7.144042517705126,
          -7.123148748328626,
          -6.136712449596261,
          -6.365268583170922,
          -7.46153901912162,
          -7.887593355698787,
          -7.24361705197415,
          -6.356909555910471,
          -5.176156220893024,
          -6.80156252352153,
          -6.802162108296153,
          -6.313537622663519,
          -3.5447733332150233,
          -3.9845629222544896,
          -2.854306918829467,
          -2.6727676110848138,
          -2.985194155696666,
          -1.9778983711938678,
          -2.829599717537466,
          -2.256304104822701,
          -3.0652309473468895,
          -3.641370706696887
         ],
         "xaxis": "x23",
         "y": [
          1.0819354668374346,
          2.4799376706733622,
          2.2268051364701633,
          1.0250862796132514,
          0.3554705098107952,
          0.7156871789501777,
          0.1067856256869062,
          -0.123407659403828,
          0.28296814854104424,
          0.49919665559686655,
          -0.006990933535996335,
          0.033384083208729,
          -0.08440237960348058,
          0.7897831313157041,
          1.5201787318987088,
          1.5475803170317657,
          0.8576482186298152,
          2.5467860395958803,
          3.993713288865485,
          4.567833775159525,
          5.183738002370754,
          6.092155689019387,
          6.1823362071732495,
          5.674471133357569,
          5.3441259995195045,
          5.617275592259908,
          6.783773732222309,
          7.198486019655446,
          7.145176329258773,
          6.543734446718874,
          7.312297808122165,
          7.223841848314789,
          7.9514779082905,
          8.561609308063588,
          9.738378487072284,
          9.075752793744627,
          9.831438453795284,
          8.516970286231762,
          8.252832558903457,
          9.533388230834202,
          9.67698655408267,
          10.86849174836057,
          10.669733608987032,
          9.989883871982169,
          8.670283109572248,
          9.577541757674734,
          8.881467530627548,
          10.376316257373494,
          9.81916422882076,
          10.225052700919383,
          10.056165673334721,
          11.05423378093204,
          11.438246334862646,
          10.468756699066553,
          9.87868872301803,
          8.76800846671155,
          6.684972121397745,
          8.078100249152664,
          6.3740120486351195,
          6.699908754451213,
          6.63902778498758,
          7.333955166310478,
          8.539313786810935,
          8.765231793823297,
          8.550945866671988,
          8.648688407218522,
          8.369870777573873,
          7.728510910650162,
          7.187302004909984,
          7.4427073016969105,
          9.038283728844396,
          11.127516915360015,
          12.176216508021733,
          13.642073852393995,
          13.114857135669329,
          13.832452593325161,
          14.912682023756759,
          15.357186361705619,
          17.058373360129018,
          18.476693401175936,
          18.172980321487877,
          19.516504578663504,
          18.750375542604836,
          19.83121087323503,
          20.970407888437194,
          20.46369062990867,
          20.493108587316645,
          19.42665903106606,
          18.742685639947105,
          18.034705834652556,
          18.052638546929252,
          16.476787278642664,
          16.81420963222878,
          15.856823228991814,
          13.806346247259345,
          14.896933576101397,
          15.749362202489804,
          16.287176408588053,
          15.628818851369322,
          15.302790607308463
         ],
         "yaxis": "y23"
        },
        {
         "line": {
          "color": "rgba(128, 128, 128, 1.0)",
          "dash": "solid",
          "shape": "linear",
          "width": 1.3
         },
         "marker": {
          "size": 2,
          "symbol": "circle"
         },
         "mode": "markers",
         "name": "APPL",
         "text": "",
         "type": "scatter",
         "x": [
          0.2048742448337656,
          0.3995130615403163,
          0.5136290915851257,
          0.02076516140369261,
          0.7226077593218854,
          0.05684612597054928,
          -2.290373173966028,
          -3.352705324762807,
          -3.7250925423200565,
          -4.793135650456053,
          -5.329050597202418,
          -4.387591592305006,
          -4.049448089904911,
          -5.709282777034537,
          -6.328159594193041,
          -5.224321790483151,
          -5.2544049851922985,
          -5.421682067272712,
          -5.453447794943075,
          -5.2185053146589,
          -5.352828044506808,
          -6.099418933938748,
          -5.385357244049113,
          -5.133670710990421,
          -4.985790773356901,
          -4.275721196167301,
          -4.568176178165343,
          -4.250215743788066,
          -2.6250793292773977,
          -1.4682659462139522,
          -2.1133744171717304,
          -2.3256163870395024,
          -2.5325475124338666,
          -2.8567767576541843,
          -2.1431314030437036,
          -1.7670788605729655,
          -2.296789904733288,
          -2.2121516024694006,
          -3.5342462146632085,
          -0.6964724804885365,
          1.3477234161467004,
          1.441712672948758,
          2.1058407403647976,
          1.9878836781924143,
          2.733661743162101,
          4.07587656098306,
          4.494268791352438,
          2.7551554418904525,
          3.4262226942585743,
          4.261906636597172,
          5.644921824628,
          4.413022382756968,
          5.910088337610661,
          6.542923789958097,
          6.312824948758883,
          7.0707387309998815,
          9.908110224085755,
          9.306542233112879,
          10.085829266774926,
          9.708254599022629,
          9.67875256616383,
          7.916943299423433,
          7.5583217288247715,
          8.46681747105512,
          9.205058014250898,
          7.777162993877683,
          7.405956989690508,
          8.820618268349833,
          8.580023758687686,
          7.351488938534795,
          4.329475295100899,
          3.2757851795090573,
          4.595116532455589,
          5.783659442360334,
          3.7878041018828923,
          3.044704452625716,
          2.0189657021517684,
          4.274722764937334,
          5.893714987065865,
          5.18398622503782,
          4.890734539739318,
          5.259914377771817,
          4.2388250269525924,
          2.228345073405111,
          1.0172014863258558,
          2.904580330298862,
          1.6375736383990258,
          1.6730927768195931,
          0.3295055389813142,
          1.1186980436244327,
          0.3825970786381174,
          0.2403846669254254,
          1.3424608810215752,
          2.0175060395052333,
          1.8490765888226344,
          2.361676998871574,
          2.3661487164680395,
          4.650347499849967,
          4.779357897092006,
          5.318865454818467
         ],
         "xaxis": "x24",
         "y": [
          1.0819354668374346,
          2.4799376706733622,
          2.2268051364701633,
          1.0250862796132514,
          0.3554705098107952,
          0.7156871789501777,
          0.1067856256869062,
          -0.123407659403828,
          0.28296814854104424,
          0.49919665559686655,
          -0.006990933535996335,
          0.033384083208729,
          -0.08440237960348058,
          0.7897831313157041,
          1.5201787318987088,
          1.5475803170317657,
          0.8576482186298152,
          2.5467860395958803,
          3.993713288865485,
          4.567833775159525,
          5.183738002370754,
          6.092155689019387,
          6.1823362071732495,
          5.674471133357569,
          5.3441259995195045,
          5.617275592259908,
          6.783773732222309,
          7.198486019655446,
          7.145176329258773,
          6.543734446718874,
          7.312297808122165,
          7.223841848314789,
          7.9514779082905,
          8.561609308063588,
          9.738378487072284,
          9.075752793744627,
          9.831438453795284,
          8.516970286231762,
          8.252832558903457,
          9.533388230834202,
          9.67698655408267,
          10.86849174836057,
          10.669733608987032,
          9.989883871982169,
          8.670283109572248,
          9.577541757674734,
          8.881467530627548,
          10.376316257373494,
          9.81916422882076,
          10.225052700919383,
          10.056165673334721,
          11.05423378093204,
          11.438246334862646,
          10.468756699066553,
          9.87868872301803,
          8.76800846671155,
          6.684972121397745,
          8.078100249152664,
          6.3740120486351195,
          6.699908754451213,
          6.63902778498758,
          7.333955166310478,
          8.539313786810935,
          8.765231793823297,
          8.550945866671988,
          8.648688407218522,
          8.369870777573873,
          7.728510910650162,
          7.187302004909984,
          7.4427073016969105,
          9.038283728844396,
          11.127516915360015,
          12.176216508021733,
          13.642073852393995,
          13.114857135669329,
          13.832452593325161,
          14.912682023756759,
          15.357186361705619,
          17.058373360129018,
          18.476693401175936,
          18.172980321487877,
          19.516504578663504,
          18.750375542604836,
          19.83121087323503,
          20.970407888437194,
          20.46369062990867,
          20.493108587316645,
          19.42665903106606,
          18.742685639947105,
          18.034705834652556,
          18.052638546929252,
          16.476787278642664,
          16.81420963222878,
          15.856823228991814,
          13.806346247259345,
          14.896933576101397,
          15.749362202489804,
          16.287176408588053,
          15.628818851369322,
          15.302790607308463
         ],
         "yaxis": "y24"
        },
        {
         "histfunc": "count",
         "histnorm": "",
         "marker": {
          "color": "rgba(219, 64, 82, 1.0)",
          "line": {
           "color": "#4D5663",
           "width": 1.3
          }
         },
         "name": "APPL",
         "nbinsx": 10,
         "opacity": 0.8,
         "orientation": "v",
         "type": "histogram",
         "x": [
          1.0819354668374346,
          2.4799376706733622,
          2.2268051364701633,
          1.0250862796132514,
          0.3554705098107952,
          0.7156871789501777,
          0.1067856256869062,
          -0.123407659403828,
          0.28296814854104424,
          0.49919665559686655,
          -0.006990933535996335,
          0.033384083208729,
          -0.08440237960348058,
          0.7897831313157041,
          1.5201787318987088,
          1.5475803170317657,
          0.8576482186298152,
          2.5467860395958803,
          3.993713288865485,
          4.567833775159525,
          5.183738002370754,
          6.092155689019387,
          6.1823362071732495,
          5.674471133357569,
          5.3441259995195045,
          5.617275592259908,
          6.783773732222309,
          7.198486019655446,
          7.145176329258773,
          6.543734446718874,
          7.312297808122165,
          7.223841848314789,
          7.9514779082905,
          8.561609308063588,
          9.738378487072284,
          9.075752793744627,
          9.831438453795284,
          8.516970286231762,
          8.252832558903457,
          9.533388230834202,
          9.67698655408267,
          10.86849174836057,
          10.669733608987032,
          9.989883871982169,
          8.670283109572248,
          9.577541757674734,
          8.881467530627548,
          10.376316257373494,
          9.81916422882076,
          10.225052700919383,
          10.056165673334721,
          11.05423378093204,
          11.438246334862646,
          10.468756699066553,
          9.87868872301803,
          8.76800846671155,
          6.684972121397745,
          8.078100249152664,
          6.3740120486351195,
          6.699908754451213,
          6.63902778498758,
          7.333955166310478,
          8.539313786810935,
          8.765231793823297,
          8.550945866671988,
          8.648688407218522,
          8.369870777573873,
          7.728510910650162,
          7.187302004909984,
          7.4427073016969105,
          9.038283728844396,
          11.127516915360015,
          12.176216508021733,
          13.642073852393995,
          13.114857135669329,
          13.832452593325161,
          14.912682023756759,
          15.357186361705619,
          17.058373360129018,
          18.476693401175936,
          18.172980321487877,
          19.516504578663504,
          18.750375542604836,
          19.83121087323503,
          20.970407888437194,
          20.46369062990867,
          20.493108587316645,
          19.42665903106606,
          18.742685639947105,
          18.034705834652556,
          18.052638546929252,
          16.476787278642664,
          16.81420963222878,
          15.856823228991814,
          13.806346247259345,
          14.896933576101397,
          15.749362202489804,
          16.287176408588053,
          15.628818851369322,
          15.302790607308463
         ],
         "xaxis": "x25",
         "yaxis": "y25"
        }
       ],
       "layout": {
        "bargap": 0.02,
        "legend": {
         "bgcolor": "#F5F6F9",
         "font": {
          "color": "#4D5663"
         }
        },
        "paper_bgcolor": "#F5F6F9",
        "plot_bgcolor": "#F5F6F9",
        "showlegend": false,
        "template": {
         "data": {
          "bar": [
           {
            "error_x": {
             "color": "#2a3f5f"
            },
            "error_y": {
             "color": "#2a3f5f"
            },
            "marker": {
             "line": {
              "color": "#E5ECF6",
              "width": 0.5
             }
            },
            "type": "bar"
           }
          ],
          "barpolar": [
           {
            "marker": {
             "line": {
              "color": "#E5ECF6",
              "width": 0.5
             }
            },
            "type": "barpolar"
           }
          ],
          "carpet": [
           {
            "aaxis": {
             "endlinecolor": "#2a3f5f",
             "gridcolor": "white",
             "linecolor": "white",
             "minorgridcolor": "white",
             "startlinecolor": "#2a3f5f"
            },
            "baxis": {
             "endlinecolor": "#2a3f5f",
             "gridcolor": "white",
             "linecolor": "white",
             "minorgridcolor": "white",
             "startlinecolor": "#2a3f5f"
            },
            "type": "carpet"
           }
          ],
          "choropleth": [
           {
            "colorbar": {
             "outlinewidth": 0,
             "ticks": ""
            },
            "type": "choropleth"
           }
          ],
          "contour": [
           {
            "colorbar": {
             "outlinewidth": 0,
             "ticks": ""
            },
            "colorscale": [
             [
              0,
              "#0d0887"
             ],
             [
              0.1111111111111111,
              "#46039f"
             ],
             [
              0.2222222222222222,
              "#7201a8"
             ],
             [
              0.3333333333333333,
              "#9c179e"
             ],
             [
              0.4444444444444444,
              "#bd3786"
             ],
             [
              0.5555555555555556,
              "#d8576b"
             ],
             [
              0.6666666666666666,
              "#ed7953"
             ],
             [
              0.7777777777777778,
              "#fb9f3a"
             ],
             [
              0.8888888888888888,
              "#fdca26"
             ],
             [
              1,
              "#f0f921"
             ]
            ],
            "type": "contour"
           }
          ],
          "contourcarpet": [
           {
            "colorbar": {
             "outlinewidth": 0,
             "ticks": ""
            },
            "type": "contourcarpet"
           }
          ],
          "heatmap": [
           {
            "colorbar": {
             "outlinewidth": 0,
             "ticks": ""
            },
            "colorscale": [
             [
              0,
              "#0d0887"
             ],
             [
              0.1111111111111111,
              "#46039f"
             ],
             [
              0.2222222222222222,
              "#7201a8"
             ],
             [
              0.3333333333333333,
              "#9c179e"
             ],
             [
              0.4444444444444444,
              "#bd3786"
             ],
             [
              0.5555555555555556,
              "#d8576b"
             ],
             [
              0.6666666666666666,
              "#ed7953"
             ],
             [
              0.7777777777777778,
              "#fb9f3a"
             ],
             [
              0.8888888888888888,
              "#fdca26"
             ],
             [
              1,
              "#f0f921"
             ]
            ],
            "type": "heatmap"
           }
          ],
          "heatmapgl": [
           {
            "colorbar": {
             "outlinewidth": 0,
             "ticks": ""
            },
            "colorscale": [
             [
              0,
              "#0d0887"
             ],
             [
              0.1111111111111111,
              "#46039f"
             ],
             [
              0.2222222222222222,
              "#7201a8"
             ],
             [
              0.3333333333333333,
              "#9c179e"
             ],
             [
              0.4444444444444444,
              "#bd3786"
             ],
             [
              0.5555555555555556,
              "#d8576b"
             ],
             [
              0.6666666666666666,
              "#ed7953"
             ],
             [
              0.7777777777777778,
              "#fb9f3a"
             ],
             [
              0.8888888888888888,
              "#fdca26"
             ],
             [
              1,
              "#f0f921"
             ]
            ],
            "type": "heatmapgl"
           }
          ],
          "histogram": [
           {
            "marker": {
             "colorbar": {
              "outlinewidth": 0,
              "ticks": ""
             }
            },
            "type": "histogram"
           }
          ],
          "histogram2d": [
           {
            "colorbar": {
             "outlinewidth": 0,
             "ticks": ""
            },
            "colorscale": [
             [
              0,
              "#0d0887"
             ],
             [
              0.1111111111111111,
              "#46039f"
             ],
             [
              0.2222222222222222,
              "#7201a8"
             ],
             [
              0.3333333333333333,
              "#9c179e"
             ],
             [
              0.4444444444444444,
              "#bd3786"
             ],
             [
              0.5555555555555556,
              "#d8576b"
             ],
             [
              0.6666666666666666,
              "#ed7953"
             ],
             [
              0.7777777777777778,
              "#fb9f3a"
             ],
             [
              0.8888888888888888,
              "#fdca26"
             ],
             [
              1,
              "#f0f921"
             ]
            ],
            "type": "histogram2d"
           }
          ],
          "histogram2dcontour": [
           {
            "colorbar": {
             "outlinewidth": 0,
             "ticks": ""
            },
            "colorscale": [
             [
              0,
              "#0d0887"
             ],
             [
              0.1111111111111111,
              "#46039f"
             ],
             [
              0.2222222222222222,
              "#7201a8"
             ],
             [
              0.3333333333333333,
              "#9c179e"
             ],
             [
              0.4444444444444444,
              "#bd3786"
             ],
             [
              0.5555555555555556,
              "#d8576b"
             ],
             [
              0.6666666666666666,
              "#ed7953"
             ],
             [
              0.7777777777777778,
              "#fb9f3a"
             ],
             [
              0.8888888888888888,
              "#fdca26"
             ],
             [
              1,
              "#f0f921"
             ]
            ],
            "type": "histogram2dcontour"
           }
          ],
          "mesh3d": [
           {
            "colorbar": {
             "outlinewidth": 0,
             "ticks": ""
            },
            "type": "mesh3d"
           }
          ],
          "parcoords": [
           {
            "line": {
             "colorbar": {
              "outlinewidth": 0,
              "ticks": ""
             }
            },
            "type": "parcoords"
           }
          ],
          "pie": [
           {
            "automargin": true,
            "type": "pie"
           }
          ],
          "scatter": [
           {
            "marker": {
             "colorbar": {
              "outlinewidth": 0,
              "ticks": ""
             }
            },
            "type": "scatter"
           }
          ],
          "scatter3d": [
           {
            "line": {
             "colorbar": {
              "outlinewidth": 0,
              "ticks": ""
             }
            },
            "marker": {
             "colorbar": {
              "outlinewidth": 0,
              "ticks": ""
             }
            },
            "type": "scatter3d"
           }
          ],
          "scattercarpet": [
           {
            "marker": {
             "colorbar": {
              "outlinewidth": 0,
              "ticks": ""
             }
            },
            "type": "scattercarpet"
           }
          ],
          "scattergeo": [
           {
            "marker": {
             "colorbar": {
              "outlinewidth": 0,
              "ticks": ""
             }
            },
            "type": "scattergeo"
           }
          ],
          "scattergl": [
           {
            "marker": {
             "colorbar": {
              "outlinewidth": 0,
              "ticks": ""
             }
            },
            "type": "scattergl"
           }
          ],
          "scattermapbox": [
           {
            "marker": {
             "colorbar": {
              "outlinewidth": 0,
              "ticks": ""
             }
            },
            "type": "scattermapbox"
           }
          ],
          "scatterpolar": [
           {
            "marker": {
             "colorbar": {
              "outlinewidth": 0,
              "ticks": ""
             }
            },
            "type": "scatterpolar"
           }
          ],
          "scatterpolargl": [
           {
            "marker": {
             "colorbar": {
              "outlinewidth": 0,
              "ticks": ""
             }
            },
            "type": "scatterpolargl"
           }
          ],
          "scatterternary": [
           {
            "marker": {
             "colorbar": {
              "outlinewidth": 0,
              "ticks": ""
             }
            },
            "type": "scatterternary"
           }
          ],
          "surface": [
           {
            "colorbar": {
             "outlinewidth": 0,
             "ticks": ""
            },
            "colorscale": [
             [
              0,
              "#0d0887"
             ],
             [
              0.1111111111111111,
              "#46039f"
             ],
             [
              0.2222222222222222,
              "#7201a8"
             ],
             [
              0.3333333333333333,
              "#9c179e"
             ],
             [
              0.4444444444444444,
              "#bd3786"
             ],
             [
              0.5555555555555556,
              "#d8576b"
             ],
             [
              0.6666666666666666,
              "#ed7953"
             ],
             [
              0.7777777777777778,
              "#fb9f3a"
             ],
             [
              0.8888888888888888,
              "#fdca26"
             ],
             [
              1,
              "#f0f921"
             ]
            ],
            "type": "surface"
           }
          ],
          "table": [
           {
            "cells": {
             "fill": {
              "color": "#EBF0F8"
             },
             "line": {
              "color": "white"
             }
            },
            "header": {
             "fill": {
              "color": "#C8D4E3"
             },
             "line": {
              "color": "white"
             }
            },
            "type": "table"
           }
          ]
         },
         "layout": {
          "annotationdefaults": {
           "arrowcolor": "#2a3f5f",
           "arrowhead": 0,
           "arrowwidth": 1
          },
          "coloraxis": {
           "colorbar": {
            "outlinewidth": 0,
            "ticks": ""
           }
          },
          "colorscale": {
           "diverging": [
            [
             0,
             "#8e0152"
            ],
            [
             0.1,
             "#c51b7d"
            ],
            [
             0.2,
             "#de77ae"
            ],
            [
             0.3,
             "#f1b6da"
            ],
            [
             0.4,
             "#fde0ef"
            ],
            [
             0.5,
             "#f7f7f7"
            ],
            [
             0.6,
             "#e6f5d0"
            ],
            [
             0.7,
             "#b8e186"
            ],
            [
             0.8,
             "#7fbc41"
            ],
            [
             0.9,
             "#4d9221"
            ],
            [
             1,
             "#276419"
            ]
           ],
           "sequential": [
            [
             0,
             "#0d0887"
            ],
            [
             0.1111111111111111,
             "#46039f"
            ],
            [
             0.2222222222222222,
             "#7201a8"
            ],
            [
             0.3333333333333333,
             "#9c179e"
            ],
            [
             0.4444444444444444,
             "#bd3786"
            ],
            [
             0.5555555555555556,
             "#d8576b"
            ],
            [
             0.6666666666666666,
             "#ed7953"
            ],
            [
             0.7777777777777778,
             "#fb9f3a"
            ],
            [
             0.8888888888888888,
             "#fdca26"
            ],
            [
             1,
             "#f0f921"
            ]
           ],
           "sequentialminus": [
            [
             0,
             "#0d0887"
            ],
            [
             0.1111111111111111,
             "#46039f"
            ],
            [
             0.2222222222222222,
             "#7201a8"
            ],
            [
             0.3333333333333333,
             "#9c179e"
            ],
            [
             0.4444444444444444,
             "#bd3786"
            ],
            [
             0.5555555555555556,
             "#d8576b"
            ],
            [
             0.6666666666666666,
             "#ed7953"
            ],
            [
             0.7777777777777778,
             "#fb9f3a"
            ],
            [
             0.8888888888888888,
             "#fdca26"
            ],
            [
             1,
             "#f0f921"
            ]
           ]
          },
          "colorway": [
           "#636efa",
           "#EF553B",
           "#00cc96",
           "#ab63fa",
           "#FFA15A",
           "#19d3f3",
           "#FF6692",
           "#B6E880",
           "#FF97FF",
           "#FECB52"
          ],
          "font": {
           "color": "#2a3f5f"
          },
          "geo": {
           "bgcolor": "white",
           "lakecolor": "white",
           "landcolor": "#E5ECF6",
           "showlakes": true,
           "showland": true,
           "subunitcolor": "white"
          },
          "hoverlabel": {
           "align": "left"
          },
          "hovermode": "closest",
          "mapbox": {
           "style": "light"
          },
          "paper_bgcolor": "white",
          "plot_bgcolor": "#E5ECF6",
          "polar": {
           "angularaxis": {
            "gridcolor": "white",
            "linecolor": "white",
            "ticks": ""
           },
           "bgcolor": "#E5ECF6",
           "radialaxis": {
            "gridcolor": "white",
            "linecolor": "white",
            "ticks": ""
           }
          },
          "scene": {
           "xaxis": {
            "backgroundcolor": "#E5ECF6",
            "gridcolor": "white",
            "gridwidth": 2,
            "linecolor": "white",
            "showbackground": true,
            "ticks": "",
            "zerolinecolor": "white"
           },
           "yaxis": {
            "backgroundcolor": "#E5ECF6",
            "gridcolor": "white",
            "gridwidth": 2,
            "linecolor": "white",
            "showbackground": true,
            "ticks": "",
            "zerolinecolor": "white"
           },
           "zaxis": {
            "backgroundcolor": "#E5ECF6",
            "gridcolor": "white",
            "gridwidth": 2,
            "linecolor": "white",
            "showbackground": true,
            "ticks": "",
            "zerolinecolor": "white"
           }
          },
          "shapedefaults": {
           "line": {
            "color": "#2a3f5f"
           }
          },
          "ternary": {
           "aaxis": {
            "gridcolor": "white",
            "linecolor": "white",
            "ticks": ""
           },
           "baxis": {
            "gridcolor": "white",
            "linecolor": "white",
            "ticks": ""
           },
           "bgcolor": "#E5ECF6",
           "caxis": {
            "gridcolor": "white",
            "linecolor": "white",
            "ticks": ""
           }
          },
          "title": {
           "x": 0.05
          },
          "xaxis": {
           "automargin": true,
           "gridcolor": "white",
           "linecolor": "white",
           "ticks": "",
           "title": {
            "standoff": 15
           },
           "zerolinecolor": "white",
           "zerolinewidth": 2
          },
          "yaxis": {
           "automargin": true,
           "gridcolor": "white",
           "linecolor": "white",
           "ticks": "",
           "title": {
            "standoff": 15
           },
           "zerolinecolor": "white",
           "zerolinewidth": 2
          }
         }
        },
        "title": {
         "font": {
          "color": "#4D5663"
         }
        },
        "xaxis": {
         "anchor": "y",
         "domain": [
          0,
          0.16
         ],
         "gridcolor": "#E1E5ED",
         "showgrid": false,
         "tickfont": {
          "color": "#4D5663"
         },
         "title": {
          "font": {
           "color": "#4D5663"
          },
          "text": ""
         },
         "zerolinecolor": "#E1E5ED"
        },
        "xaxis10": {
         "anchor": "y10",
         "domain": [
          0.8400000000000001,
          1
         ],
         "gridcolor": "#E1E5ED",
         "showgrid": false,
         "tickfont": {
          "color": "#4D5663"
         },
         "title": {
          "font": {
           "color": "#4D5663"
          },
          "text": ""
         },
         "zerolinecolor": "#E1E5ED"
        },
        "xaxis11": {
         "anchor": "y11",
         "domain": [
          0,
          0.16
         ],
         "gridcolor": "#E1E5ED",
         "showgrid": false,
         "tickfont": {
          "color": "#4D5663"
         },
         "title": {
          "font": {
           "color": "#4D5663"
          },
          "text": ""
         },
         "zerolinecolor": "#E1E5ED"
        },
        "xaxis12": {
         "anchor": "y12",
         "domain": [
          0.21000000000000002,
          0.37
         ],
         "gridcolor": "#E1E5ED",
         "showgrid": false,
         "tickfont": {
          "color": "#4D5663"
         },
         "title": {
          "font": {
           "color": "#4D5663"
          },
          "text": ""
         },
         "zerolinecolor": "#E1E5ED"
        },
        "xaxis13": {
         "anchor": "y13",
         "domain": [
          0.42000000000000004,
          0.5800000000000001
         ],
         "gridcolor": "#E1E5ED",
         "showgrid": false,
         "tickfont": {
          "color": "#4D5663"
         },
         "title": {
          "font": {
           "color": "#4D5663"
          },
          "text": ""
         },
         "zerolinecolor": "#E1E5ED"
        },
        "xaxis14": {
         "anchor": "y14",
         "domain": [
          0.63,
          0.79
         ],
         "gridcolor": "#E1E5ED",
         "showgrid": false,
         "tickfont": {
          "color": "#4D5663"
         },
         "title": {
          "font": {
           "color": "#4D5663"
          },
          "text": ""
         },
         "zerolinecolor": "#E1E5ED"
        },
        "xaxis15": {
         "anchor": "y15",
         "domain": [
          0.8400000000000001,
          1
         ],
         "gridcolor": "#E1E5ED",
         "showgrid": false,
         "tickfont": {
          "color": "#4D5663"
         },
         "title": {
          "font": {
           "color": "#4D5663"
          },
          "text": ""
         },
         "zerolinecolor": "#E1E5ED"
        },
        "xaxis16": {
         "anchor": "y16",
         "domain": [
          0,
          0.16
         ],
         "gridcolor": "#E1E5ED",
         "showgrid": false,
         "tickfont": {
          "color": "#4D5663"
         },
         "title": {
          "font": {
           "color": "#4D5663"
          },
          "text": ""
         },
         "zerolinecolor": "#E1E5ED"
        },
        "xaxis17": {
         "anchor": "y17",
         "domain": [
          0.21000000000000002,
          0.37
         ],
         "gridcolor": "#E1E5ED",
         "showgrid": false,
         "tickfont": {
          "color": "#4D5663"
         },
         "title": {
          "font": {
           "color": "#4D5663"
          },
          "text": ""
         },
         "zerolinecolor": "#E1E5ED"
        },
        "xaxis18": {
         "anchor": "y18",
         "domain": [
          0.42000000000000004,
          0.5800000000000001
         ],
         "gridcolor": "#E1E5ED",
         "showgrid": false,
         "tickfont": {
          "color": "#4D5663"
         },
         "title": {
          "font": {
           "color": "#4D5663"
          },
          "text": ""
         },
         "zerolinecolor": "#E1E5ED"
        },
        "xaxis19": {
         "anchor": "y19",
         "domain": [
          0.63,
          0.79
         ],
         "gridcolor": "#E1E5ED",
         "showgrid": false,
         "tickfont": {
          "color": "#4D5663"
         },
         "title": {
          "font": {
           "color": "#4D5663"
          },
          "text": ""
         },
         "zerolinecolor": "#E1E5ED"
        },
        "xaxis2": {
         "anchor": "y2",
         "domain": [
          0.21000000000000002,
          0.37
         ],
         "gridcolor": "#E1E5ED",
         "showgrid": false,
         "tickfont": {
          "color": "#4D5663"
         },
         "title": {
          "font": {
           "color": "#4D5663"
          },
          "text": ""
         },
         "zerolinecolor": "#E1E5ED"
        },
        "xaxis20": {
         "anchor": "y20",
         "domain": [
          0.8400000000000001,
          1
         ],
         "gridcolor": "#E1E5ED",
         "showgrid": false,
         "tickfont": {
          "color": "#4D5663"
         },
         "title": {
          "font": {
           "color": "#4D5663"
          },
          "text": ""
         },
         "zerolinecolor": "#E1E5ED"
        },
        "xaxis21": {
         "anchor": "y21",
         "domain": [
          0,
          0.16
         ],
         "gridcolor": "#E1E5ED",
         "showgrid": false,
         "tickfont": {
          "color": "#4D5663"
         },
         "title": {
          "font": {
           "color": "#4D5663"
          },
          "text": ""
         },
         "zerolinecolor": "#E1E5ED"
        },
        "xaxis22": {
         "anchor": "y22",
         "domain": [
          0.21000000000000002,
          0.37
         ],
         "gridcolor": "#E1E5ED",
         "showgrid": false,
         "tickfont": {
          "color": "#4D5663"
         },
         "title": {
          "font": {
           "color": "#4D5663"
          },
          "text": ""
         },
         "zerolinecolor": "#E1E5ED"
        },
        "xaxis23": {
         "anchor": "y23",
         "domain": [
          0.42000000000000004,
          0.5800000000000001
         ],
         "gridcolor": "#E1E5ED",
         "showgrid": false,
         "tickfont": {
          "color": "#4D5663"
         },
         "title": {
          "font": {
           "color": "#4D5663"
          },
          "text": ""
         },
         "zerolinecolor": "#E1E5ED"
        },
        "xaxis24": {
         "anchor": "y24",
         "domain": [
          0.63,
          0.79
         ],
         "gridcolor": "#E1E5ED",
         "showgrid": false,
         "tickfont": {
          "color": "#4D5663"
         },
         "title": {
          "font": {
           "color": "#4D5663"
          },
          "text": ""
         },
         "zerolinecolor": "#E1E5ED"
        },
        "xaxis25": {
         "anchor": "y25",
         "domain": [
          0.8400000000000001,
          1
         ],
         "gridcolor": "#E1E5ED",
         "showgrid": false,
         "tickfont": {
          "color": "#4D5663"
         },
         "title": {
          "font": {
           "color": "#4D5663"
          },
          "text": ""
         },
         "zerolinecolor": "#E1E5ED"
        },
        "xaxis3": {
         "anchor": "y3",
         "domain": [
          0.42000000000000004,
          0.5800000000000001
         ],
         "gridcolor": "#E1E5ED",
         "showgrid": false,
         "tickfont": {
          "color": "#4D5663"
         },
         "title": {
          "font": {
           "color": "#4D5663"
          },
          "text": ""
         },
         "zerolinecolor": "#E1E5ED"
        },
        "xaxis4": {
         "anchor": "y4",
         "domain": [
          0.63,
          0.79
         ],
         "gridcolor": "#E1E5ED",
         "showgrid": false,
         "tickfont": {
          "color": "#4D5663"
         },
         "title": {
          "font": {
           "color": "#4D5663"
          },
          "text": ""
         },
         "zerolinecolor": "#E1E5ED"
        },
        "xaxis5": {
         "anchor": "y5",
         "domain": [
          0.8400000000000001,
          1
         ],
         "gridcolor": "#E1E5ED",
         "showgrid": false,
         "tickfont": {
          "color": "#4D5663"
         },
         "title": {
          "font": {
           "color": "#4D5663"
          },
          "text": ""
         },
         "zerolinecolor": "#E1E5ED"
        },
        "xaxis6": {
         "anchor": "y6",
         "domain": [
          0,
          0.16
         ],
         "gridcolor": "#E1E5ED",
         "showgrid": false,
         "tickfont": {
          "color": "#4D5663"
         },
         "title": {
          "font": {
           "color": "#4D5663"
          },
          "text": ""
         },
         "zerolinecolor": "#E1E5ED"
        },
        "xaxis7": {
         "anchor": "y7",
         "domain": [
          0.21000000000000002,
          0.37
         ],
         "gridcolor": "#E1E5ED",
         "showgrid": false,
         "tickfont": {
          "color": "#4D5663"
         },
         "title": {
          "font": {
           "color": "#4D5663"
          },
          "text": ""
         },
         "zerolinecolor": "#E1E5ED"
        },
        "xaxis8": {
         "anchor": "y8",
         "domain": [
          0.42000000000000004,
          0.5800000000000001
         ],
         "gridcolor": "#E1E5ED",
         "showgrid": false,
         "tickfont": {
          "color": "#4D5663"
         },
         "title": {
          "font": {
           "color": "#4D5663"
          },
          "text": ""
         },
         "zerolinecolor": "#E1E5ED"
        },
        "xaxis9": {
         "anchor": "y9",
         "domain": [
          0.63,
          0.79
         ],
         "gridcolor": "#E1E5ED",
         "showgrid": false,
         "tickfont": {
          "color": "#4D5663"
         },
         "title": {
          "font": {
           "color": "#4D5663"
          },
          "text": ""
         },
         "zerolinecolor": "#E1E5ED"
        },
        "yaxis": {
         "anchor": "x",
         "domain": [
          0.856,
          1
         ],
         "gridcolor": "#E1E5ED",
         "showgrid": false,
         "tickfont": {
          "color": "#4D5663"
         },
         "title": {
          "font": {
           "color": "#4D5663"
          },
          "text": ""
         },
         "zerolinecolor": "#E1E5ED"
        },
        "yaxis10": {
         "anchor": "x10",
         "domain": [
          0.6419999999999999,
          0.7859999999999999
         ],
         "gridcolor": "#E1E5ED",
         "showgrid": false,
         "tickfont": {
          "color": "#4D5663"
         },
         "title": {
          "font": {
           "color": "#4D5663"
          },
          "text": ""
         },
         "zerolinecolor": "#E1E5ED"
        },
        "yaxis11": {
         "anchor": "x11",
         "domain": [
          0.428,
          0.572
         ],
         "gridcolor": "#E1E5ED",
         "showgrid": false,
         "tickfont": {
          "color": "#4D5663"
         },
         "title": {
          "font": {
           "color": "#4D5663"
          },
          "text": ""
         },
         "zerolinecolor": "#E1E5ED"
        },
        "yaxis12": {
         "anchor": "x12",
         "domain": [
          0.428,
          0.572
         ],
         "gridcolor": "#E1E5ED",
         "showgrid": false,
         "tickfont": {
          "color": "#4D5663"
         },
         "title": {
          "font": {
           "color": "#4D5663"
          },
          "text": ""
         },
         "zerolinecolor": "#E1E5ED"
        },
        "yaxis13": {
         "anchor": "x13",
         "domain": [
          0.428,
          0.572
         ],
         "gridcolor": "#E1E5ED",
         "showgrid": false,
         "tickfont": {
          "color": "#4D5663"
         },
         "title": {
          "font": {
           "color": "#4D5663"
          },
          "text": ""
         },
         "zerolinecolor": "#E1E5ED"
        },
        "yaxis14": {
         "anchor": "x14",
         "domain": [
          0.428,
          0.572
         ],
         "gridcolor": "#E1E5ED",
         "showgrid": false,
         "tickfont": {
          "color": "#4D5663"
         },
         "title": {
          "font": {
           "color": "#4D5663"
          },
          "text": ""
         },
         "zerolinecolor": "#E1E5ED"
        },
        "yaxis15": {
         "anchor": "x15",
         "domain": [
          0.428,
          0.572
         ],
         "gridcolor": "#E1E5ED",
         "showgrid": false,
         "tickfont": {
          "color": "#4D5663"
         },
         "title": {
          "font": {
           "color": "#4D5663"
          },
          "text": ""
         },
         "zerolinecolor": "#E1E5ED"
        },
        "yaxis16": {
         "anchor": "x16",
         "domain": [
          0.214,
          0.358
         ],
         "gridcolor": "#E1E5ED",
         "showgrid": false,
         "tickfont": {
          "color": "#4D5663"
         },
         "title": {
          "font": {
           "color": "#4D5663"
          },
          "text": ""
         },
         "zerolinecolor": "#E1E5ED"
        },
        "yaxis17": {
         "anchor": "x17",
         "domain": [
          0.214,
          0.358
         ],
         "gridcolor": "#E1E5ED",
         "showgrid": false,
         "tickfont": {
          "color": "#4D5663"
         },
         "title": {
          "font": {
           "color": "#4D5663"
          },
          "text": ""
         },
         "zerolinecolor": "#E1E5ED"
        },
        "yaxis18": {
         "anchor": "x18",
         "domain": [
          0.214,
          0.358
         ],
         "gridcolor": "#E1E5ED",
         "showgrid": false,
         "tickfont": {
          "color": "#4D5663"
         },
         "title": {
          "font": {
           "color": "#4D5663"
          },
          "text": ""
         },
         "zerolinecolor": "#E1E5ED"
        },
        "yaxis19": {
         "anchor": "x19",
         "domain": [
          0.214,
          0.358
         ],
         "gridcolor": "#E1E5ED",
         "showgrid": false,
         "tickfont": {
          "color": "#4D5663"
         },
         "title": {
          "font": {
           "color": "#4D5663"
          },
          "text": ""
         },
         "zerolinecolor": "#E1E5ED"
        },
        "yaxis2": {
         "anchor": "x2",
         "domain": [
          0.856,
          1
         ],
         "gridcolor": "#E1E5ED",
         "showgrid": false,
         "tickfont": {
          "color": "#4D5663"
         },
         "title": {
          "font": {
           "color": "#4D5663"
          },
          "text": ""
         },
         "zerolinecolor": "#E1E5ED"
        },
        "yaxis20": {
         "anchor": "x20",
         "domain": [
          0.214,
          0.358
         ],
         "gridcolor": "#E1E5ED",
         "showgrid": false,
         "tickfont": {
          "color": "#4D5663"
         },
         "title": {
          "font": {
           "color": "#4D5663"
          },
          "text": ""
         },
         "zerolinecolor": "#E1E5ED"
        },
        "yaxis21": {
         "anchor": "x21",
         "domain": [
          0,
          0.144
         ],
         "gridcolor": "#E1E5ED",
         "showgrid": false,
         "tickfont": {
          "color": "#4D5663"
         },
         "title": {
          "font": {
           "color": "#4D5663"
          },
          "text": ""
         },
         "zerolinecolor": "#E1E5ED"
        },
        "yaxis22": {
         "anchor": "x22",
         "domain": [
          0,
          0.144
         ],
         "gridcolor": "#E1E5ED",
         "showgrid": false,
         "tickfont": {
          "color": "#4D5663"
         },
         "title": {
          "font": {
           "color": "#4D5663"
          },
          "text": ""
         },
         "zerolinecolor": "#E1E5ED"
        },
        "yaxis23": {
         "anchor": "x23",
         "domain": [
          0,
          0.144
         ],
         "gridcolor": "#E1E5ED",
         "showgrid": false,
         "tickfont": {
          "color": "#4D5663"
         },
         "title": {
          "font": {
           "color": "#4D5663"
          },
          "text": ""
         },
         "zerolinecolor": "#E1E5ED"
        },
        "yaxis24": {
         "anchor": "x24",
         "domain": [
          0,
          0.144
         ],
         "gridcolor": "#E1E5ED",
         "showgrid": false,
         "tickfont": {
          "color": "#4D5663"
         },
         "title": {
          "font": {
           "color": "#4D5663"
          },
          "text": ""
         },
         "zerolinecolor": "#E1E5ED"
        },
        "yaxis25": {
         "anchor": "x25",
         "domain": [
          0,
          0.144
         ],
         "gridcolor": "#E1E5ED",
         "showgrid": false,
         "tickfont": {
          "color": "#4D5663"
         },
         "title": {
          "font": {
           "color": "#4D5663"
          },
          "text": ""
         },
         "zerolinecolor": "#E1E5ED"
        },
        "yaxis3": {
         "anchor": "x3",
         "domain": [
          0.856,
          1
         ],
         "gridcolor": "#E1E5ED",
         "showgrid": false,
         "tickfont": {
          "color": "#4D5663"
         },
         "title": {
          "font": {
           "color": "#4D5663"
          },
          "text": ""
         },
         "zerolinecolor": "#E1E5ED"
        },
        "yaxis4": {
         "anchor": "x4",
         "domain": [
          0.856,
          1
         ],
         "gridcolor": "#E1E5ED",
         "showgrid": false,
         "tickfont": {
          "color": "#4D5663"
         },
         "title": {
          "font": {
           "color": "#4D5663"
          },
          "text": ""
         },
         "zerolinecolor": "#E1E5ED"
        },
        "yaxis5": {
         "anchor": "x5",
         "domain": [
          0.856,
          1
         ],
         "gridcolor": "#E1E5ED",
         "showgrid": false,
         "tickfont": {
          "color": "#4D5663"
         },
         "title": {
          "font": {
           "color": "#4D5663"
          },
          "text": ""
         },
         "zerolinecolor": "#E1E5ED"
        },
        "yaxis6": {
         "anchor": "x6",
         "domain": [
          0.6419999999999999,
          0.7859999999999999
         ],
         "gridcolor": "#E1E5ED",
         "showgrid": false,
         "tickfont": {
          "color": "#4D5663"
         },
         "title": {
          "font": {
           "color": "#4D5663"
          },
          "text": ""
         },
         "zerolinecolor": "#E1E5ED"
        },
        "yaxis7": {
         "anchor": "x7",
         "domain": [
          0.6419999999999999,
          0.7859999999999999
         ],
         "gridcolor": "#E1E5ED",
         "showgrid": false,
         "tickfont": {
          "color": "#4D5663"
         },
         "title": {
          "font": {
           "color": "#4D5663"
          },
          "text": ""
         },
         "zerolinecolor": "#E1E5ED"
        },
        "yaxis8": {
         "anchor": "x8",
         "domain": [
          0.6419999999999999,
          0.7859999999999999
         ],
         "gridcolor": "#E1E5ED",
         "showgrid": false,
         "tickfont": {
          "color": "#4D5663"
         },
         "title": {
          "font": {
           "color": "#4D5663"
          },
          "text": ""
         },
         "zerolinecolor": "#E1E5ED"
        },
        "yaxis9": {
         "anchor": "x9",
         "domain": [
          0.6419999999999999,
          0.7859999999999999
         ],
         "gridcolor": "#E1E5ED",
         "showgrid": false,
         "tickfont": {
          "color": "#4D5663"
         },
         "title": {
          "font": {
           "color": "#4D5663"
          },
          "text": ""
         },
         "zerolinecolor": "#E1E5ED"
        }
       }
      },
      "text/html": [
       "<div>\n",
       "        \n",
       "        \n",
       "            <div id=\"b2fb7e28-04ce-4c13-b782-a59fb192dcdd\" class=\"plotly-graph-div\" style=\"height:525px; width:100%;\"></div>\n",
       "            <script type=\"text/javascript\">\n",
       "                require([\"plotly\"], function(Plotly) {\n",
       "                    window.PLOTLYENV=window.PLOTLYENV || {};\n",
       "                    window.PLOTLYENV.BASE_URL='https://plot.ly';\n",
       "                    \n",
       "                if (document.getElementById(\"b2fb7e28-04ce-4c13-b782-a59fb192dcdd\")) {\n",
       "                    Plotly.newPlot(\n",
       "                        'b2fb7e28-04ce-4c13-b782-a59fb192dcdd',\n",
       "                        [{\"histfunc\": \"count\", \"histnorm\": \"\", \"marker\": {\"color\": \"rgba(255, 153, 51, 1.0)\", \"line\": {\"color\": \"#4D5663\", \"width\": 1.3}}, \"name\": \"IBM\", \"nbinsx\": 10, \"opacity\": 0.8, \"orientation\": \"v\", \"type\": \"histogram\", \"x\": [-1.2868801566664638, -2.028366513807729, -2.760879106191367, -1.9911859649445645, -1.1698265723057135, -0.9720902802456763, -1.3893692343289523, 0.15751532682256508, 0.28067988699811575, -0.5107120093055321, -1.8063687051293358, -1.7921784377934262, -1.1044874291941618, -0.2664229033287746, -0.6256421886729924, 0.4121968431481302, 1.8992288911822006, 0.4713284609322743, 2.994948247125084, 3.0066845652519816, 4.428386071353853, 4.91527793224154, 5.9599498493520535, 6.1134080683029515, 5.3533745076686206, 5.293323668532801, 4.099962721172125, 5.217635982306543, 6.071263872872076, 4.6433790700021245, 3.7602602888241847, 3.281740775327897, 2.7404638966339827, 3.3387539342756676, 4.0286684579720395, 5.549431907856821, 7.7754320531931445, 6.322731592099521, 6.500348418463007, 4.307960773824358, 5.299420681700493, 6.887429791634869, 8.867227597756447, 9.705505785295987, 9.727310508705818, 9.47542189494929, 10.024088259089691, 9.98684737225707, 10.69468858425811, 12.590123161193892, 11.782826178393798, 10.917174155836495, 10.734616926162627, 10.241322244735414, 10.641312793916578, 9.281628379084083, 9.400145386809678, 8.651862561935062, 7.565414896511578, 6.965260757342342, 6.707417689495253, 5.298031156312341, 5.189613710611087, 6.38226310279424, 6.183136169656518, 5.612166391713544, 6.39114867505892, 6.579941941996416, 8.383442583844783, 7.707907622852362, 6.38780750561438, 6.444029553587608, 6.607992301383706, 5.807273092823491, 6.986991314869297, 8.092324810185454, 7.438659031910002, 7.801618929657894, 8.167147603397437, 8.31903075035327, 7.29850862750133, 7.512739654299573, 6.420792527152818, 7.055018729110213, 7.0770407319095945, 7.117641048349709, 7.345524557970403, 5.752190402863436, 6.273101375049812, 6.278722472055344, 5.7539515553200955, 3.1068215726052926, 2.7290057360970037, 1.2653832609269167, 2.2899432891116005, 1.9511362641198013, 1.5916454981489803, 2.1430788859714105, 2.542681463390741, 1.530278277459552], \"xaxis\": \"x\", \"yaxis\": \"y\"}, {\"line\": {\"color\": \"rgba(128, 128, 128, 1.0)\", \"dash\": \"solid\", \"shape\": \"linear\", \"width\": 1.3}, \"marker\": {\"size\": 2, \"symbol\": \"circle\"}, \"mode\": \"markers\", \"name\": \"IBM\", \"text\": \"\", \"type\": \"scatter\", \"x\": [-0.14231784552685722, 0.0038383488741102756, -1.394342441102017, 0.05281310065044109, -1.2953856887317763, -0.23262923631253374, -2.5064608920511025, -3.6201295377974985, -2.959479810992466, -3.772544722719001, -3.0709588325198514, -2.0375398840254366, -2.1693398305300824, -3.2990288162994386, -4.890590132460698, -4.15033703004252, -4.176687297989628, -4.5205820294304235, -4.414951077438917, -4.950842185052673, -6.320562459093343, -6.44888710392168, -6.020839447515197, -5.785039010002954, -6.093129681526676, -6.634138955952207, -6.570694424396184, -6.521643404930816, -5.299024933004039, -6.0886710847423435, -5.881060365924777, -3.915482394403372, -3.9827955274268745, -4.147845784640805, -3.42504253118667, -4.40082690854008, -4.075525471295986, -2.861534944561367, -3.781912959044849, -4.333547172371902, -3.7095920728127374, -3.4750745616048015, -2.747492006580319, -0.9979818882593192, -1.0647188197146276, -0.8955434858458016, -0.6519956098049098, 1.6492927283038028, 3.387224087556209, 4.513566073082565, 5.430806739184705, 4.907521152193672, 2.8095620478423875, 2.915435824696081, 1.5200875838787369, 2.429132108080452, 3.7756335804841363, 4.002064408796806, 3.4628516327730687, 3.214324464767252, 3.8560726788603708, 2.2554862113398633, 2.9445092783273754, 3.5262828903204313, 2.463193248025804, 1.7260733152151322, 0.7398626546489155, 0.4719722351730572, 0.9991489857126875, 1.9463121727900423, 0.23353648657121595, 1.0453540766324032, 0.8125285169010912, 0.21356493176886515, 0.28570457417174555, 0.11812423461881866, 0.4917748669935742, 0.36077971790123253, 0.5972969247795444, 0.7236739472521214, 2.636233090974466, 1.069513681161607, 0.28665585447293573, 0.19369838104339726, 0.35621491824623663, 3.048403464903692, 4.677726795508604, 4.894177005591278, 4.787507408289258, 4.951135431932031, 4.884774009715971, 3.5625808936247694, 2.9640904467996405, 2.6843113704032233, 2.530433555830813, 5.248023191199183, 4.349788040925403, 5.450810783635532, 5.052823592404031, 5.15929729082009], \"xaxis\": \"x2\", \"y\": [-1.2868801566664638, -2.028366513807729, -2.760879106191367, -1.9911859649445645, -1.1698265723057135, -0.9720902802456763, -1.3893692343289523, 0.15751532682256508, 0.28067988699811575, -0.5107120093055321, -1.8063687051293358, -1.7921784377934262, -1.1044874291941618, -0.2664229033287746, -0.6256421886729924, 0.4121968431481302, 1.8992288911822006, 0.4713284609322743, 2.994948247125084, 3.0066845652519816, 4.428386071353853, 4.91527793224154, 5.9599498493520535, 6.1134080683029515, 5.3533745076686206, 5.293323668532801, 4.099962721172125, 5.217635982306543, 6.071263872872076, 4.6433790700021245, 3.7602602888241847, 3.281740775327897, 2.7404638966339827, 3.3387539342756676, 4.0286684579720395, 5.549431907856821, 7.7754320531931445, 6.322731592099521, 6.500348418463007, 4.307960773824358, 5.299420681700493, 6.887429791634869, 8.867227597756447, 9.705505785295987, 9.727310508705818, 9.47542189494929, 10.024088259089691, 9.98684737225707, 10.69468858425811, 12.590123161193892, 11.782826178393798, 10.917174155836495, 10.734616926162627, 10.241322244735414, 10.641312793916578, 9.281628379084083, 9.400145386809678, 8.651862561935062, 7.565414896511578, 6.965260757342342, 6.707417689495253, 5.298031156312341, 5.189613710611087, 6.38226310279424, 6.183136169656518, 5.612166391713544, 6.39114867505892, 6.579941941996416, 8.383442583844783, 7.707907622852362, 6.38780750561438, 6.444029553587608, 6.607992301383706, 5.807273092823491, 6.986991314869297, 8.092324810185454, 7.438659031910002, 7.801618929657894, 8.167147603397437, 8.31903075035327, 7.29850862750133, 7.512739654299573, 6.420792527152818, 7.055018729110213, 7.0770407319095945, 7.117641048349709, 7.345524557970403, 5.752190402863436, 6.273101375049812, 6.278722472055344, 5.7539515553200955, 3.1068215726052926, 2.7290057360970037, 1.2653832609269167, 2.2899432891116005, 1.9511362641198013, 1.5916454981489803, 2.1430788859714105, 2.542681463390741, 1.530278277459552], \"yaxis\": \"y2\"}, {\"line\": {\"color\": \"rgba(128, 128, 128, 1.0)\", \"dash\": \"solid\", \"shape\": \"linear\", \"width\": 1.3}, \"marker\": {\"size\": 2, \"symbol\": \"circle\"}, \"mode\": \"markers\", \"name\": \"IBM\", \"text\": \"\", \"type\": \"scatter\", \"x\": [0.887859548430912, -0.12442855812384623, 0.31510584146026, -0.3620399760333849, 0.060047799161180415, 0.489542542000453, 0.39864526286565544, -0.12691305706221562, -0.14653742623622149, -1.9942051171963504, -1.3676444884468961, -0.8372557932333661, -1.9188470342391222, -1.176425895752355, -0.5063944395571112, -0.6230886218617776, -0.6637716155230189, -0.44370395604865664, -1.0502230320712198, -1.884455201532628, -0.8465602088727773, -0.2594989167460039, -1.9955610009465663, -2.221501710910537, -3.217375118573837, -3.6208546163065196, -4.929555124356471, -4.840508167100383, -3.827535434970696, -3.867032210267071, -4.5063002992719685, -4.925453159939044, -4.174179782827053, -2.657263222654409, -4.307262797144048, -5.304732773389594, -4.618642038632928, -5.7364532527662195, -4.392594886900887, -4.4558778061555255, -4.9857689109230625, -4.156439892523207, -3.3815162927726474, -4.524633232529935, -2.1656811236745916, -3.1885135351785516, -3.9006128888640728, -4.077345971346925, -4.000916020536469, -4.4098462746028675, -5.639320258383571, -5.687101247473266, -5.0688162769214875, -5.728851900477398, -6.343303939209772, -9.328835099025895, -8.860782654790022, -8.766972470016524, -7.71034017674116, -7.34436940021025, -7.352338908426178, -5.660115446029203, -6.6854008273788335, -5.682223402388089, -6.9632825041098405, -6.678646553285244, -5.752049999433002, -6.881893383159216, -6.5453962916602375, -5.039119802550206, -5.338956969174161, -4.4834048889550315, -3.927119209210786, -4.914573738720649, -6.567959222482106, -7.620031172452751, -7.607736110887162, -7.5546361814823495, -7.144042517705126, -7.123148748328626, -6.136712449596261, -6.365268583170922, -7.46153901912162, -7.887593355698787, -7.24361705197415, -6.356909555910471, -5.176156220893024, -6.80156252352153, -6.802162108296153, -6.313537622663519, -3.5447733332150233, -3.9845629222544896, -2.854306918829467, -2.6727676110848138, -2.985194155696666, -1.9778983711938678, -2.829599717537466, -2.256304104822701, -3.0652309473468895, -3.641370706696887], \"xaxis\": \"x3\", \"y\": [-1.2868801566664638, -2.028366513807729, -2.760879106191367, -1.9911859649445645, -1.1698265723057135, -0.9720902802456763, -1.3893692343289523, 0.15751532682256508, 0.28067988699811575, -0.5107120093055321, -1.8063687051293358, -1.7921784377934262, -1.1044874291941618, -0.2664229033287746, -0.6256421886729924, 0.4121968431481302, 1.8992288911822006, 0.4713284609322743, 2.994948247125084, 3.0066845652519816, 4.428386071353853, 4.91527793224154, 5.9599498493520535, 6.1134080683029515, 5.3533745076686206, 5.293323668532801, 4.099962721172125, 5.217635982306543, 6.071263872872076, 4.6433790700021245, 3.7602602888241847, 3.281740775327897, 2.7404638966339827, 3.3387539342756676, 4.0286684579720395, 5.549431907856821, 7.7754320531931445, 6.322731592099521, 6.500348418463007, 4.307960773824358, 5.299420681700493, 6.887429791634869, 8.867227597756447, 9.705505785295987, 9.727310508705818, 9.47542189494929, 10.024088259089691, 9.98684737225707, 10.69468858425811, 12.590123161193892, 11.782826178393798, 10.917174155836495, 10.734616926162627, 10.241322244735414, 10.641312793916578, 9.281628379084083, 9.400145386809678, 8.651862561935062, 7.565414896511578, 6.965260757342342, 6.707417689495253, 5.298031156312341, 5.189613710611087, 6.38226310279424, 6.183136169656518, 5.612166391713544, 6.39114867505892, 6.579941941996416, 8.383442583844783, 7.707907622852362, 6.38780750561438, 6.444029553587608, 6.607992301383706, 5.807273092823491, 6.986991314869297, 8.092324810185454, 7.438659031910002, 7.801618929657894, 8.167147603397437, 8.31903075035327, 7.29850862750133, 7.512739654299573, 6.420792527152818, 7.055018729110213, 7.0770407319095945, 7.117641048349709, 7.345524557970403, 5.752190402863436, 6.273101375049812, 6.278722472055344, 5.7539515553200955, 3.1068215726052926, 2.7290057360970037, 1.2653832609269167, 2.2899432891116005, 1.9511362641198013, 1.5916454981489803, 2.1430788859714105, 2.542681463390741, 1.530278277459552], \"yaxis\": \"y3\"}, {\"line\": {\"color\": \"rgba(128, 128, 128, 1.0)\", \"dash\": \"solid\", \"shape\": \"linear\", \"width\": 1.3}, \"marker\": {\"size\": 2, \"symbol\": \"circle\"}, \"mode\": \"markers\", \"name\": \"IBM\", \"text\": \"\", \"type\": \"scatter\", \"x\": [0.2048742448337656, 0.3995130615403163, 0.5136290915851257, 0.02076516140369261, 0.7226077593218854, 0.05684612597054928, -2.290373173966028, -3.352705324762807, -3.7250925423200565, -4.793135650456053, -5.329050597202418, -4.387591592305006, -4.049448089904911, -5.709282777034537, -6.328159594193041, -5.224321790483151, -5.2544049851922985, -5.421682067272712, -5.453447794943075, -5.2185053146589, -5.352828044506808, -6.099418933938748, -5.385357244049113, -5.133670710990421, -4.985790773356901, -4.275721196167301, -4.568176178165343, -4.250215743788066, -2.6250793292773977, -1.4682659462139522, -2.1133744171717304, -2.3256163870395024, -2.5325475124338666, -2.8567767576541843, -2.1431314030437036, -1.7670788605729655, -2.296789904733288, -2.2121516024694006, -3.5342462146632085, -0.6964724804885365, 1.3477234161467004, 1.441712672948758, 2.1058407403647976, 1.9878836781924143, 2.733661743162101, 4.07587656098306, 4.494268791352438, 2.7551554418904525, 3.4262226942585743, 4.261906636597172, 5.644921824628, 4.413022382756968, 5.910088337610661, 6.542923789958097, 6.312824948758883, 7.0707387309998815, 9.908110224085755, 9.306542233112879, 10.085829266774926, 9.708254599022629, 9.67875256616383, 7.916943299423433, 7.5583217288247715, 8.46681747105512, 9.205058014250898, 7.777162993877683, 7.405956989690508, 8.820618268349833, 8.580023758687686, 7.351488938534795, 4.329475295100899, 3.2757851795090573, 4.595116532455589, 5.783659442360334, 3.7878041018828923, 3.044704452625716, 2.0189657021517684, 4.274722764937334, 5.893714987065865, 5.18398622503782, 4.890734539739318, 5.259914377771817, 4.2388250269525924, 2.228345073405111, 1.0172014863258558, 2.904580330298862, 1.6375736383990258, 1.6730927768195931, 0.3295055389813142, 1.1186980436244327, 0.3825970786381174, 0.2403846669254254, 1.3424608810215752, 2.0175060395052333, 1.8490765888226344, 2.361676998871574, 2.3661487164680395, 4.650347499849967, 4.779357897092006, 5.318865454818467], \"xaxis\": \"x4\", \"y\": [-1.2868801566664638, -2.028366513807729, -2.760879106191367, -1.9911859649445645, -1.1698265723057135, -0.9720902802456763, -1.3893692343289523, 0.15751532682256508, 0.28067988699811575, -0.5107120093055321, -1.8063687051293358, -1.7921784377934262, -1.1044874291941618, -0.2664229033287746, -0.6256421886729924, 0.4121968431481302, 1.8992288911822006, 0.4713284609322743, 2.994948247125084, 3.0066845652519816, 4.428386071353853, 4.91527793224154, 5.9599498493520535, 6.1134080683029515, 5.3533745076686206, 5.293323668532801, 4.099962721172125, 5.217635982306543, 6.071263872872076, 4.6433790700021245, 3.7602602888241847, 3.281740775327897, 2.7404638966339827, 3.3387539342756676, 4.0286684579720395, 5.549431907856821, 7.7754320531931445, 6.322731592099521, 6.500348418463007, 4.307960773824358, 5.299420681700493, 6.887429791634869, 8.867227597756447, 9.705505785295987, 9.727310508705818, 9.47542189494929, 10.024088259089691, 9.98684737225707, 10.69468858425811, 12.590123161193892, 11.782826178393798, 10.917174155836495, 10.734616926162627, 10.241322244735414, 10.641312793916578, 9.281628379084083, 9.400145386809678, 8.651862561935062, 7.565414896511578, 6.965260757342342, 6.707417689495253, 5.298031156312341, 5.189613710611087, 6.38226310279424, 6.183136169656518, 5.612166391713544, 6.39114867505892, 6.579941941996416, 8.383442583844783, 7.707907622852362, 6.38780750561438, 6.444029553587608, 6.607992301383706, 5.807273092823491, 6.986991314869297, 8.092324810185454, 7.438659031910002, 7.801618929657894, 8.167147603397437, 8.31903075035327, 7.29850862750133, 7.512739654299573, 6.420792527152818, 7.055018729110213, 7.0770407319095945, 7.117641048349709, 7.345524557970403, 5.752190402863436, 6.273101375049812, 6.278722472055344, 5.7539515553200955, 3.1068215726052926, 2.7290057360970037, 1.2653832609269167, 2.2899432891116005, 1.9511362641198013, 1.5916454981489803, 2.1430788859714105, 2.542681463390741, 1.530278277459552], \"yaxis\": \"y4\"}, {\"line\": {\"color\": \"rgba(128, 128, 128, 1.0)\", \"dash\": \"solid\", \"shape\": \"linear\", \"width\": 1.3}, \"marker\": {\"size\": 2, \"symbol\": \"circle\"}, \"mode\": \"markers\", \"name\": \"IBM\", \"text\": \"\", \"type\": \"scatter\", \"x\": [1.0819354668374346, 2.4799376706733622, 2.2268051364701633, 1.0250862796132514, 0.3554705098107952, 0.7156871789501777, 0.1067856256869062, -0.123407659403828, 0.28296814854104424, 0.49919665559686655, -0.006990933535996335, 0.033384083208729, -0.08440237960348058, 0.7897831313157041, 1.5201787318987088, 1.5475803170317657, 0.8576482186298152, 2.5467860395958803, 3.993713288865485, 4.567833775159525, 5.183738002370754, 6.092155689019387, 6.1823362071732495, 5.674471133357569, 5.3441259995195045, 5.617275592259908, 6.783773732222309, 7.198486019655446, 7.145176329258773, 6.543734446718874, 7.312297808122165, 7.223841848314789, 7.9514779082905, 8.561609308063588, 9.738378487072284, 9.075752793744627, 9.831438453795284, 8.516970286231762, 8.252832558903457, 9.533388230834202, 9.67698655408267, 10.86849174836057, 10.669733608987032, 9.989883871982169, 8.670283109572248, 9.577541757674734, 8.881467530627548, 10.376316257373494, 9.81916422882076, 10.225052700919383, 10.056165673334721, 11.05423378093204, 11.438246334862646, 10.468756699066553, 9.87868872301803, 8.76800846671155, 6.684972121397745, 8.078100249152664, 6.3740120486351195, 6.699908754451213, 6.63902778498758, 7.333955166310478, 8.539313786810935, 8.765231793823297, 8.550945866671988, 8.648688407218522, 8.369870777573873, 7.728510910650162, 7.187302004909984, 7.4427073016969105, 9.038283728844396, 11.127516915360015, 12.176216508021733, 13.642073852393995, 13.114857135669329, 13.832452593325161, 14.912682023756759, 15.357186361705619, 17.058373360129018, 18.476693401175936, 18.172980321487877, 19.516504578663504, 18.750375542604836, 19.83121087323503, 20.970407888437194, 20.46369062990867, 20.493108587316645, 19.42665903106606, 18.742685639947105, 18.034705834652556, 18.052638546929252, 16.476787278642664, 16.81420963222878, 15.856823228991814, 13.806346247259345, 14.896933576101397, 15.749362202489804, 16.287176408588053, 15.628818851369322, 15.302790607308463], \"xaxis\": \"x5\", \"y\": [-1.2868801566664638, -2.028366513807729, -2.760879106191367, -1.9911859649445645, -1.1698265723057135, -0.9720902802456763, -1.3893692343289523, 0.15751532682256508, 0.28067988699811575, -0.5107120093055321, -1.8063687051293358, -1.7921784377934262, -1.1044874291941618, -0.2664229033287746, -0.6256421886729924, 0.4121968431481302, 1.8992288911822006, 0.4713284609322743, 2.994948247125084, 3.0066845652519816, 4.428386071353853, 4.91527793224154, 5.9599498493520535, 6.1134080683029515, 5.3533745076686206, 5.293323668532801, 4.099962721172125, 5.217635982306543, 6.071263872872076, 4.6433790700021245, 3.7602602888241847, 3.281740775327897, 2.7404638966339827, 3.3387539342756676, 4.0286684579720395, 5.549431907856821, 7.7754320531931445, 6.322731592099521, 6.500348418463007, 4.307960773824358, 5.299420681700493, 6.887429791634869, 8.867227597756447, 9.705505785295987, 9.727310508705818, 9.47542189494929, 10.024088259089691, 9.98684737225707, 10.69468858425811, 12.590123161193892, 11.782826178393798, 10.917174155836495, 10.734616926162627, 10.241322244735414, 10.641312793916578, 9.281628379084083, 9.400145386809678, 8.651862561935062, 7.565414896511578, 6.965260757342342, 6.707417689495253, 5.298031156312341, 5.189613710611087, 6.38226310279424, 6.183136169656518, 5.612166391713544, 6.39114867505892, 6.579941941996416, 8.383442583844783, 7.707907622852362, 6.38780750561438, 6.444029553587608, 6.607992301383706, 5.807273092823491, 6.986991314869297, 8.092324810185454, 7.438659031910002, 7.801618929657894, 8.167147603397437, 8.31903075035327, 7.29850862750133, 7.512739654299573, 6.420792527152818, 7.055018729110213, 7.0770407319095945, 7.117641048349709, 7.345524557970403, 5.752190402863436, 6.273101375049812, 6.278722472055344, 5.7539515553200955, 3.1068215726052926, 2.7290057360970037, 1.2653832609269167, 2.2899432891116005, 1.9511362641198013, 1.5916454981489803, 2.1430788859714105, 2.542681463390741, 1.530278277459552], \"yaxis\": \"y5\"}, {\"line\": {\"color\": \"rgba(128, 128, 128, 1.0)\", \"dash\": \"solid\", \"shape\": \"linear\", \"width\": 1.3}, \"marker\": {\"size\": 2, \"symbol\": \"circle\"}, \"mode\": \"markers\", \"name\": \"MSFT\", \"text\": \"\", \"type\": \"scatter\", \"x\": [-1.2868801566664638, -2.028366513807729, -2.760879106191367, -1.9911859649445645, -1.1698265723057135, -0.9720902802456763, -1.3893692343289523, 0.15751532682256508, 0.28067988699811575, -0.5107120093055321, -1.8063687051293358, -1.7921784377934262, -1.1044874291941618, -0.2664229033287746, -0.6256421886729924, 0.4121968431481302, 1.8992288911822006, 0.4713284609322743, 2.994948247125084, 3.0066845652519816, 4.428386071353853, 4.91527793224154, 5.9599498493520535, 6.1134080683029515, 5.3533745076686206, 5.293323668532801, 4.099962721172125, 5.217635982306543, 6.071263872872076, 4.6433790700021245, 3.7602602888241847, 3.281740775327897, 2.7404638966339827, 3.3387539342756676, 4.0286684579720395, 5.549431907856821, 7.7754320531931445, 6.322731592099521, 6.500348418463007, 4.307960773824358, 5.299420681700493, 6.887429791634869, 8.867227597756447, 9.705505785295987, 9.727310508705818, 9.47542189494929, 10.024088259089691, 9.98684737225707, 10.69468858425811, 12.590123161193892, 11.782826178393798, 10.917174155836495, 10.734616926162627, 10.241322244735414, 10.641312793916578, 9.281628379084083, 9.400145386809678, 8.651862561935062, 7.565414896511578, 6.965260757342342, 6.707417689495253, 5.298031156312341, 5.189613710611087, 6.38226310279424, 6.183136169656518, 5.612166391713544, 6.39114867505892, 6.579941941996416, 8.383442583844783, 7.707907622852362, 6.38780750561438, 6.444029553587608, 6.607992301383706, 5.807273092823491, 6.986991314869297, 8.092324810185454, 7.438659031910002, 7.801618929657894, 8.167147603397437, 8.31903075035327, 7.29850862750133, 7.512739654299573, 6.420792527152818, 7.055018729110213, 7.0770407319095945, 7.117641048349709, 7.345524557970403, 5.752190402863436, 6.273101375049812, 6.278722472055344, 5.7539515553200955, 3.1068215726052926, 2.7290057360970037, 1.2653832609269167, 2.2899432891116005, 1.9511362641198013, 1.5916454981489803, 2.1430788859714105, 2.542681463390741, 1.530278277459552], \"xaxis\": \"x6\", \"y\": [-0.14231784552685722, 0.0038383488741102756, -1.394342441102017, 0.05281310065044109, -1.2953856887317763, -0.23262923631253374, -2.5064608920511025, -3.6201295377974985, -2.959479810992466, -3.772544722719001, -3.0709588325198514, -2.0375398840254366, -2.1693398305300824, -3.2990288162994386, -4.890590132460698, -4.15033703004252, -4.176687297989628, -4.5205820294304235, -4.414951077438917, -4.950842185052673, -6.320562459093343, -6.44888710392168, -6.020839447515197, -5.785039010002954, -6.093129681526676, -6.634138955952207, -6.570694424396184, -6.521643404930816, -5.299024933004039, -6.0886710847423435, -5.881060365924777, -3.915482394403372, -3.9827955274268745, -4.147845784640805, -3.42504253118667, -4.40082690854008, -4.075525471295986, -2.861534944561367, -3.781912959044849, -4.333547172371902, -3.7095920728127374, -3.4750745616048015, -2.747492006580319, -0.9979818882593192, -1.0647188197146276, -0.8955434858458016, -0.6519956098049098, 1.6492927283038028, 3.387224087556209, 4.513566073082565, 5.430806739184705, 4.907521152193672, 2.8095620478423875, 2.915435824696081, 1.5200875838787369, 2.429132108080452, 3.7756335804841363, 4.002064408796806, 3.4628516327730687, 3.214324464767252, 3.8560726788603708, 2.2554862113398633, 2.9445092783273754, 3.5262828903204313, 2.463193248025804, 1.7260733152151322, 0.7398626546489155, 0.4719722351730572, 0.9991489857126875, 1.9463121727900423, 0.23353648657121595, 1.0453540766324032, 0.8125285169010912, 0.21356493176886515, 0.28570457417174555, 0.11812423461881866, 0.4917748669935742, 0.36077971790123253, 0.5972969247795444, 0.7236739472521214, 2.636233090974466, 1.069513681161607, 0.28665585447293573, 0.19369838104339726, 0.35621491824623663, 3.048403464903692, 4.677726795508604, 4.894177005591278, 4.787507408289258, 4.951135431932031, 4.884774009715971, 3.5625808936247694, 2.9640904467996405, 2.6843113704032233, 2.530433555830813, 5.248023191199183, 4.349788040925403, 5.450810783635532, 5.052823592404031, 5.15929729082009], \"yaxis\": \"y6\"}, {\"histfunc\": \"count\", \"histnorm\": \"\", \"marker\": {\"color\": \"rgba(55, 128, 191, 1.0)\", \"line\": {\"color\": \"#4D5663\", \"width\": 1.3}}, \"name\": \"MSFT\", \"nbinsx\": 10, \"opacity\": 0.8, \"orientation\": \"v\", \"type\": \"histogram\", \"x\": [-0.14231784552685722, 0.0038383488741102756, -1.394342441102017, 0.05281310065044109, -1.2953856887317763, -0.23262923631253374, -2.5064608920511025, -3.6201295377974985, -2.959479810992466, -3.772544722719001, -3.0709588325198514, -2.0375398840254366, -2.1693398305300824, -3.2990288162994386, -4.890590132460698, -4.15033703004252, -4.176687297989628, -4.5205820294304235, -4.414951077438917, -4.950842185052673, -6.320562459093343, -6.44888710392168, -6.020839447515197, -5.785039010002954, -6.093129681526676, -6.634138955952207, -6.570694424396184, -6.521643404930816, -5.299024933004039, -6.0886710847423435, -5.881060365924777, -3.915482394403372, -3.9827955274268745, -4.147845784640805, -3.42504253118667, -4.40082690854008, -4.075525471295986, -2.861534944561367, -3.781912959044849, -4.333547172371902, -3.7095920728127374, -3.4750745616048015, -2.747492006580319, -0.9979818882593192, -1.0647188197146276, -0.8955434858458016, -0.6519956098049098, 1.6492927283038028, 3.387224087556209, 4.513566073082565, 5.430806739184705, 4.907521152193672, 2.8095620478423875, 2.915435824696081, 1.5200875838787369, 2.429132108080452, 3.7756335804841363, 4.002064408796806, 3.4628516327730687, 3.214324464767252, 3.8560726788603708, 2.2554862113398633, 2.9445092783273754, 3.5262828903204313, 2.463193248025804, 1.7260733152151322, 0.7398626546489155, 0.4719722351730572, 0.9991489857126875, 1.9463121727900423, 0.23353648657121595, 1.0453540766324032, 0.8125285169010912, 0.21356493176886515, 0.28570457417174555, 0.11812423461881866, 0.4917748669935742, 0.36077971790123253, 0.5972969247795444, 0.7236739472521214, 2.636233090974466, 1.069513681161607, 0.28665585447293573, 0.19369838104339726, 0.35621491824623663, 3.048403464903692, 4.677726795508604, 4.894177005591278, 4.787507408289258, 4.951135431932031, 4.884774009715971, 3.5625808936247694, 2.9640904467996405, 2.6843113704032233, 2.530433555830813, 5.248023191199183, 4.349788040925403, 5.450810783635532, 5.052823592404031, 5.15929729082009], \"xaxis\": \"x7\", \"yaxis\": \"y7\"}, {\"line\": {\"color\": \"rgba(128, 128, 128, 1.0)\", \"dash\": \"solid\", \"shape\": \"linear\", \"width\": 1.3}, \"marker\": {\"size\": 2, \"symbol\": \"circle\"}, \"mode\": \"markers\", \"name\": \"MSFT\", \"text\": \"\", \"type\": \"scatter\", \"x\": [0.887859548430912, -0.12442855812384623, 0.31510584146026, -0.3620399760333849, 0.060047799161180415, 0.489542542000453, 0.39864526286565544, -0.12691305706221562, -0.14653742623622149, -1.9942051171963504, -1.3676444884468961, -0.8372557932333661, -1.9188470342391222, -1.176425895752355, -0.5063944395571112, -0.6230886218617776, -0.6637716155230189, -0.44370395604865664, -1.0502230320712198, -1.884455201532628, -0.8465602088727773, -0.2594989167460039, -1.9955610009465663, -2.221501710910537, -3.217375118573837, -3.6208546163065196, -4.929555124356471, -4.840508167100383, -3.827535434970696, -3.867032210267071, -4.5063002992719685, -4.925453159939044, -4.174179782827053, -2.657263222654409, -4.307262797144048, -5.304732773389594, -4.618642038632928, -5.7364532527662195, -4.392594886900887, -4.4558778061555255, -4.9857689109230625, -4.156439892523207, -3.3815162927726474, -4.524633232529935, -2.1656811236745916, -3.1885135351785516, -3.9006128888640728, -4.077345971346925, -4.000916020536469, -4.4098462746028675, -5.639320258383571, -5.687101247473266, -5.0688162769214875, -5.728851900477398, -6.343303939209772, -9.328835099025895, -8.860782654790022, -8.766972470016524, -7.71034017674116, -7.34436940021025, -7.352338908426178, -5.660115446029203, -6.6854008273788335, -5.682223402388089, -6.9632825041098405, -6.678646553285244, -5.752049999433002, -6.881893383159216, -6.5453962916602375, -5.039119802550206, -5.338956969174161, -4.4834048889550315, -3.927119209210786, -4.914573738720649, -6.567959222482106, -7.620031172452751, -7.607736110887162, -7.5546361814823495, -7.144042517705126, -7.123148748328626, -6.136712449596261, -6.365268583170922, -7.46153901912162, -7.887593355698787, -7.24361705197415, -6.356909555910471, -5.176156220893024, -6.80156252352153, -6.802162108296153, -6.313537622663519, -3.5447733332150233, -3.9845629222544896, -2.854306918829467, -2.6727676110848138, -2.985194155696666, -1.9778983711938678, -2.829599717537466, -2.256304104822701, -3.0652309473468895, -3.641370706696887], \"xaxis\": \"x8\", \"y\": [-0.14231784552685722, 0.0038383488741102756, -1.394342441102017, 0.05281310065044109, -1.2953856887317763, -0.23262923631253374, -2.5064608920511025, -3.6201295377974985, -2.959479810992466, -3.772544722719001, -3.0709588325198514, -2.0375398840254366, -2.1693398305300824, -3.2990288162994386, -4.890590132460698, -4.15033703004252, -4.176687297989628, -4.5205820294304235, -4.414951077438917, -4.950842185052673, -6.320562459093343, -6.44888710392168, -6.020839447515197, -5.785039010002954, -6.093129681526676, -6.634138955952207, -6.570694424396184, -6.521643404930816, -5.299024933004039, -6.0886710847423435, -5.881060365924777, -3.915482394403372, -3.9827955274268745, -4.147845784640805, -3.42504253118667, -4.40082690854008, -4.075525471295986, -2.861534944561367, -3.781912959044849, -4.333547172371902, -3.7095920728127374, -3.4750745616048015, -2.747492006580319, -0.9979818882593192, -1.0647188197146276, -0.8955434858458016, -0.6519956098049098, 1.6492927283038028, 3.387224087556209, 4.513566073082565, 5.430806739184705, 4.907521152193672, 2.8095620478423875, 2.915435824696081, 1.5200875838787369, 2.429132108080452, 3.7756335804841363, 4.002064408796806, 3.4628516327730687, 3.214324464767252, 3.8560726788603708, 2.2554862113398633, 2.9445092783273754, 3.5262828903204313, 2.463193248025804, 1.7260733152151322, 0.7398626546489155, 0.4719722351730572, 0.9991489857126875, 1.9463121727900423, 0.23353648657121595, 1.0453540766324032, 0.8125285169010912, 0.21356493176886515, 0.28570457417174555, 0.11812423461881866, 0.4917748669935742, 0.36077971790123253, 0.5972969247795444, 0.7236739472521214, 2.636233090974466, 1.069513681161607, 0.28665585447293573, 0.19369838104339726, 0.35621491824623663, 3.048403464903692, 4.677726795508604, 4.894177005591278, 4.787507408289258, 4.951135431932031, 4.884774009715971, 3.5625808936247694, 2.9640904467996405, 2.6843113704032233, 2.530433555830813, 5.248023191199183, 4.349788040925403, 5.450810783635532, 5.052823592404031, 5.15929729082009], \"yaxis\": \"y8\"}, {\"line\": {\"color\": \"rgba(128, 128, 128, 1.0)\", \"dash\": \"solid\", \"shape\": \"linear\", \"width\": 1.3}, \"marker\": {\"size\": 2, \"symbol\": \"circle\"}, \"mode\": \"markers\", \"name\": \"MSFT\", \"text\": \"\", \"type\": \"scatter\", \"x\": [0.2048742448337656, 0.3995130615403163, 0.5136290915851257, 0.02076516140369261, 0.7226077593218854, 0.05684612597054928, -2.290373173966028, -3.352705324762807, -3.7250925423200565, -4.793135650456053, -5.329050597202418, -4.387591592305006, -4.049448089904911, -5.709282777034537, -6.328159594193041, -5.224321790483151, -5.2544049851922985, -5.421682067272712, -5.453447794943075, -5.2185053146589, -5.352828044506808, -6.099418933938748, -5.385357244049113, -5.133670710990421, -4.985790773356901, -4.275721196167301, -4.568176178165343, -4.250215743788066, -2.6250793292773977, -1.4682659462139522, -2.1133744171717304, -2.3256163870395024, -2.5325475124338666, -2.8567767576541843, -2.1431314030437036, -1.7670788605729655, -2.296789904733288, -2.2121516024694006, -3.5342462146632085, -0.6964724804885365, 1.3477234161467004, 1.441712672948758, 2.1058407403647976, 1.9878836781924143, 2.733661743162101, 4.07587656098306, 4.494268791352438, 2.7551554418904525, 3.4262226942585743, 4.261906636597172, 5.644921824628, 4.413022382756968, 5.910088337610661, 6.542923789958097, 6.312824948758883, 7.0707387309998815, 9.908110224085755, 9.306542233112879, 10.085829266774926, 9.708254599022629, 9.67875256616383, 7.916943299423433, 7.5583217288247715, 8.46681747105512, 9.205058014250898, 7.777162993877683, 7.405956989690508, 8.820618268349833, 8.580023758687686, 7.351488938534795, 4.329475295100899, 3.2757851795090573, 4.595116532455589, 5.783659442360334, 3.7878041018828923, 3.044704452625716, 2.0189657021517684, 4.274722764937334, 5.893714987065865, 5.18398622503782, 4.890734539739318, 5.259914377771817, 4.2388250269525924, 2.228345073405111, 1.0172014863258558, 2.904580330298862, 1.6375736383990258, 1.6730927768195931, 0.3295055389813142, 1.1186980436244327, 0.3825970786381174, 0.2403846669254254, 1.3424608810215752, 2.0175060395052333, 1.8490765888226344, 2.361676998871574, 2.3661487164680395, 4.650347499849967, 4.779357897092006, 5.318865454818467], \"xaxis\": \"x9\", \"y\": [-0.14231784552685722, 0.0038383488741102756, -1.394342441102017, 0.05281310065044109, -1.2953856887317763, -0.23262923631253374, -2.5064608920511025, -3.6201295377974985, -2.959479810992466, -3.772544722719001, -3.0709588325198514, -2.0375398840254366, -2.1693398305300824, -3.2990288162994386, -4.890590132460698, -4.15033703004252, -4.176687297989628, -4.5205820294304235, -4.414951077438917, -4.950842185052673, -6.320562459093343, -6.44888710392168, -6.020839447515197, -5.785039010002954, -6.093129681526676, -6.634138955952207, -6.570694424396184, -6.521643404930816, -5.299024933004039, -6.0886710847423435, -5.881060365924777, -3.915482394403372, -3.9827955274268745, -4.147845784640805, -3.42504253118667, -4.40082690854008, -4.075525471295986, -2.861534944561367, -3.781912959044849, -4.333547172371902, -3.7095920728127374, -3.4750745616048015, -2.747492006580319, -0.9979818882593192, -1.0647188197146276, -0.8955434858458016, -0.6519956098049098, 1.6492927283038028, 3.387224087556209, 4.513566073082565, 5.430806739184705, 4.907521152193672, 2.8095620478423875, 2.915435824696081, 1.5200875838787369, 2.429132108080452, 3.7756335804841363, 4.002064408796806, 3.4628516327730687, 3.214324464767252, 3.8560726788603708, 2.2554862113398633, 2.9445092783273754, 3.5262828903204313, 2.463193248025804, 1.7260733152151322, 0.7398626546489155, 0.4719722351730572, 0.9991489857126875, 1.9463121727900423, 0.23353648657121595, 1.0453540766324032, 0.8125285169010912, 0.21356493176886515, 0.28570457417174555, 0.11812423461881866, 0.4917748669935742, 0.36077971790123253, 0.5972969247795444, 0.7236739472521214, 2.636233090974466, 1.069513681161607, 0.28665585447293573, 0.19369838104339726, 0.35621491824623663, 3.048403464903692, 4.677726795508604, 4.894177005591278, 4.787507408289258, 4.951135431932031, 4.884774009715971, 3.5625808936247694, 2.9640904467996405, 2.6843113704032233, 2.530433555830813, 5.248023191199183, 4.349788040925403, 5.450810783635532, 5.052823592404031, 5.15929729082009], \"yaxis\": \"y9\"}, {\"line\": {\"color\": \"rgba(128, 128, 128, 1.0)\", \"dash\": \"solid\", \"shape\": \"linear\", \"width\": 1.3}, \"marker\": {\"size\": 2, \"symbol\": \"circle\"}, \"mode\": \"markers\", \"name\": \"MSFT\", \"text\": \"\", \"type\": \"scatter\", \"x\": [1.0819354668374346, 2.4799376706733622, 2.2268051364701633, 1.0250862796132514, 0.3554705098107952, 0.7156871789501777, 0.1067856256869062, -0.123407659403828, 0.28296814854104424, 0.49919665559686655, -0.006990933535996335, 0.033384083208729, -0.08440237960348058, 0.7897831313157041, 1.5201787318987088, 1.5475803170317657, 0.8576482186298152, 2.5467860395958803, 3.993713288865485, 4.567833775159525, 5.183738002370754, 6.092155689019387, 6.1823362071732495, 5.674471133357569, 5.3441259995195045, 5.617275592259908, 6.783773732222309, 7.198486019655446, 7.145176329258773, 6.543734446718874, 7.312297808122165, 7.223841848314789, 7.9514779082905, 8.561609308063588, 9.738378487072284, 9.075752793744627, 9.831438453795284, 8.516970286231762, 8.252832558903457, 9.533388230834202, 9.67698655408267, 10.86849174836057, 10.669733608987032, 9.989883871982169, 8.670283109572248, 9.577541757674734, 8.881467530627548, 10.376316257373494, 9.81916422882076, 10.225052700919383, 10.056165673334721, 11.05423378093204, 11.438246334862646, 10.468756699066553, 9.87868872301803, 8.76800846671155, 6.684972121397745, 8.078100249152664, 6.3740120486351195, 6.699908754451213, 6.63902778498758, 7.333955166310478, 8.539313786810935, 8.765231793823297, 8.550945866671988, 8.648688407218522, 8.369870777573873, 7.728510910650162, 7.187302004909984, 7.4427073016969105, 9.038283728844396, 11.127516915360015, 12.176216508021733, 13.642073852393995, 13.114857135669329, 13.832452593325161, 14.912682023756759, 15.357186361705619, 17.058373360129018, 18.476693401175936, 18.172980321487877, 19.516504578663504, 18.750375542604836, 19.83121087323503, 20.970407888437194, 20.46369062990867, 20.493108587316645, 19.42665903106606, 18.742685639947105, 18.034705834652556, 18.052638546929252, 16.476787278642664, 16.81420963222878, 15.856823228991814, 13.806346247259345, 14.896933576101397, 15.749362202489804, 16.287176408588053, 15.628818851369322, 15.302790607308463], \"xaxis\": \"x10\", \"y\": [-0.14231784552685722, 0.0038383488741102756, -1.394342441102017, 0.05281310065044109, -1.2953856887317763, -0.23262923631253374, -2.5064608920511025, -3.6201295377974985, -2.959479810992466, -3.772544722719001, -3.0709588325198514, -2.0375398840254366, -2.1693398305300824, -3.2990288162994386, -4.890590132460698, -4.15033703004252, -4.176687297989628, -4.5205820294304235, -4.414951077438917, -4.950842185052673, -6.320562459093343, -6.44888710392168, -6.020839447515197, -5.785039010002954, -6.093129681526676, -6.634138955952207, -6.570694424396184, -6.521643404930816, -5.299024933004039, -6.0886710847423435, -5.881060365924777, -3.915482394403372, -3.9827955274268745, -4.147845784640805, -3.42504253118667, -4.40082690854008, -4.075525471295986, -2.861534944561367, -3.781912959044849, -4.333547172371902, -3.7095920728127374, -3.4750745616048015, -2.747492006580319, -0.9979818882593192, -1.0647188197146276, -0.8955434858458016, -0.6519956098049098, 1.6492927283038028, 3.387224087556209, 4.513566073082565, 5.430806739184705, 4.907521152193672, 2.8095620478423875, 2.915435824696081, 1.5200875838787369, 2.429132108080452, 3.7756335804841363, 4.002064408796806, 3.4628516327730687, 3.214324464767252, 3.8560726788603708, 2.2554862113398633, 2.9445092783273754, 3.5262828903204313, 2.463193248025804, 1.7260733152151322, 0.7398626546489155, 0.4719722351730572, 0.9991489857126875, 1.9463121727900423, 0.23353648657121595, 1.0453540766324032, 0.8125285169010912, 0.21356493176886515, 0.28570457417174555, 0.11812423461881866, 0.4917748669935742, 0.36077971790123253, 0.5972969247795444, 0.7236739472521214, 2.636233090974466, 1.069513681161607, 0.28665585447293573, 0.19369838104339726, 0.35621491824623663, 3.048403464903692, 4.677726795508604, 4.894177005591278, 4.787507408289258, 4.951135431932031, 4.884774009715971, 3.5625808936247694, 2.9640904467996405, 2.6843113704032233, 2.530433555830813, 5.248023191199183, 4.349788040925403, 5.450810783635532, 5.052823592404031, 5.15929729082009], \"yaxis\": \"y10\"}, {\"line\": {\"color\": \"rgba(128, 128, 128, 1.0)\", \"dash\": \"solid\", \"shape\": \"linear\", \"width\": 1.3}, \"marker\": {\"size\": 2, \"symbol\": \"circle\"}, \"mode\": \"markers\", \"name\": \"GOOG\", \"text\": \"\", \"type\": \"scatter\", \"x\": [-1.2868801566664638, -2.028366513807729, -2.760879106191367, -1.9911859649445645, -1.1698265723057135, -0.9720902802456763, -1.3893692343289523, 0.15751532682256508, 0.28067988699811575, -0.5107120093055321, -1.8063687051293358, -1.7921784377934262, -1.1044874291941618, -0.2664229033287746, -0.6256421886729924, 0.4121968431481302, 1.8992288911822006, 0.4713284609322743, 2.994948247125084, 3.0066845652519816, 4.428386071353853, 4.91527793224154, 5.9599498493520535, 6.1134080683029515, 5.3533745076686206, 5.293323668532801, 4.099962721172125, 5.217635982306543, 6.071263872872076, 4.6433790700021245, 3.7602602888241847, 3.281740775327897, 2.7404638966339827, 3.3387539342756676, 4.0286684579720395, 5.549431907856821, 7.7754320531931445, 6.322731592099521, 6.500348418463007, 4.307960773824358, 5.299420681700493, 6.887429791634869, 8.867227597756447, 9.705505785295987, 9.727310508705818, 9.47542189494929, 10.024088259089691, 9.98684737225707, 10.69468858425811, 12.590123161193892, 11.782826178393798, 10.917174155836495, 10.734616926162627, 10.241322244735414, 10.641312793916578, 9.281628379084083, 9.400145386809678, 8.651862561935062, 7.565414896511578, 6.965260757342342, 6.707417689495253, 5.298031156312341, 5.189613710611087, 6.38226310279424, 6.183136169656518, 5.612166391713544, 6.39114867505892, 6.579941941996416, 8.383442583844783, 7.707907622852362, 6.38780750561438, 6.444029553587608, 6.607992301383706, 5.807273092823491, 6.986991314869297, 8.092324810185454, 7.438659031910002, 7.801618929657894, 8.167147603397437, 8.31903075035327, 7.29850862750133, 7.512739654299573, 6.420792527152818, 7.055018729110213, 7.0770407319095945, 7.117641048349709, 7.345524557970403, 5.752190402863436, 6.273101375049812, 6.278722472055344, 5.7539515553200955, 3.1068215726052926, 2.7290057360970037, 1.2653832609269167, 2.2899432891116005, 1.9511362641198013, 1.5916454981489803, 2.1430788859714105, 2.542681463390741, 1.530278277459552], \"xaxis\": \"x11\", \"y\": [0.887859548430912, -0.12442855812384623, 0.31510584146026, -0.3620399760333849, 0.060047799161180415, 0.489542542000453, 0.39864526286565544, -0.12691305706221562, -0.14653742623622149, -1.9942051171963504, -1.3676444884468961, -0.8372557932333661, -1.9188470342391222, -1.176425895752355, -0.5063944395571112, -0.6230886218617776, -0.6637716155230189, -0.44370395604865664, -1.0502230320712198, -1.884455201532628, -0.8465602088727773, -0.2594989167460039, -1.9955610009465663, -2.221501710910537, -3.217375118573837, -3.6208546163065196, -4.929555124356471, -4.840508167100383, -3.827535434970696, -3.867032210267071, -4.5063002992719685, -4.925453159939044, -4.174179782827053, -2.657263222654409, -4.307262797144048, -5.304732773389594, -4.618642038632928, -5.7364532527662195, -4.392594886900887, -4.4558778061555255, -4.9857689109230625, -4.156439892523207, -3.3815162927726474, -4.524633232529935, -2.1656811236745916, -3.1885135351785516, -3.9006128888640728, -4.077345971346925, -4.000916020536469, -4.4098462746028675, -5.639320258383571, -5.687101247473266, -5.0688162769214875, -5.728851900477398, -6.343303939209772, -9.328835099025895, -8.860782654790022, -8.766972470016524, -7.71034017674116, -7.34436940021025, -7.352338908426178, -5.660115446029203, -6.6854008273788335, -5.682223402388089, -6.9632825041098405, -6.678646553285244, -5.752049999433002, -6.881893383159216, -6.5453962916602375, -5.039119802550206, -5.338956969174161, -4.4834048889550315, -3.927119209210786, -4.914573738720649, -6.567959222482106, -7.620031172452751, -7.607736110887162, -7.5546361814823495, -7.144042517705126, -7.123148748328626, -6.136712449596261, -6.365268583170922, -7.46153901912162, -7.887593355698787, -7.24361705197415, -6.356909555910471, -5.176156220893024, -6.80156252352153, -6.802162108296153, -6.313537622663519, -3.5447733332150233, -3.9845629222544896, -2.854306918829467, -2.6727676110848138, -2.985194155696666, -1.9778983711938678, -2.829599717537466, -2.256304104822701, -3.0652309473468895, -3.641370706696887], \"yaxis\": \"y11\"}, {\"line\": {\"color\": \"rgba(128, 128, 128, 1.0)\", \"dash\": \"solid\", \"shape\": \"linear\", \"width\": 1.3}, \"marker\": {\"size\": 2, \"symbol\": \"circle\"}, \"mode\": \"markers\", \"name\": \"GOOG\", \"text\": \"\", \"type\": \"scatter\", \"x\": [-0.14231784552685722, 0.0038383488741102756, -1.394342441102017, 0.05281310065044109, -1.2953856887317763, -0.23262923631253374, -2.5064608920511025, -3.6201295377974985, -2.959479810992466, -3.772544722719001, -3.0709588325198514, -2.0375398840254366, -2.1693398305300824, -3.2990288162994386, -4.890590132460698, -4.15033703004252, -4.176687297989628, -4.5205820294304235, -4.414951077438917, -4.950842185052673, -6.320562459093343, -6.44888710392168, -6.020839447515197, -5.785039010002954, -6.093129681526676, -6.634138955952207, -6.570694424396184, -6.521643404930816, -5.299024933004039, -6.0886710847423435, -5.881060365924777, -3.915482394403372, -3.9827955274268745, -4.147845784640805, -3.42504253118667, -4.40082690854008, -4.075525471295986, -2.861534944561367, -3.781912959044849, -4.333547172371902, -3.7095920728127374, -3.4750745616048015, -2.747492006580319, -0.9979818882593192, -1.0647188197146276, -0.8955434858458016, -0.6519956098049098, 1.6492927283038028, 3.387224087556209, 4.513566073082565, 5.430806739184705, 4.907521152193672, 2.8095620478423875, 2.915435824696081, 1.5200875838787369, 2.429132108080452, 3.7756335804841363, 4.002064408796806, 3.4628516327730687, 3.214324464767252, 3.8560726788603708, 2.2554862113398633, 2.9445092783273754, 3.5262828903204313, 2.463193248025804, 1.7260733152151322, 0.7398626546489155, 0.4719722351730572, 0.9991489857126875, 1.9463121727900423, 0.23353648657121595, 1.0453540766324032, 0.8125285169010912, 0.21356493176886515, 0.28570457417174555, 0.11812423461881866, 0.4917748669935742, 0.36077971790123253, 0.5972969247795444, 0.7236739472521214, 2.636233090974466, 1.069513681161607, 0.28665585447293573, 0.19369838104339726, 0.35621491824623663, 3.048403464903692, 4.677726795508604, 4.894177005591278, 4.787507408289258, 4.951135431932031, 4.884774009715971, 3.5625808936247694, 2.9640904467996405, 2.6843113704032233, 2.530433555830813, 5.248023191199183, 4.349788040925403, 5.450810783635532, 5.052823592404031, 5.15929729082009], \"xaxis\": \"x12\", \"y\": [0.887859548430912, -0.12442855812384623, 0.31510584146026, -0.3620399760333849, 0.060047799161180415, 0.489542542000453, 0.39864526286565544, -0.12691305706221562, -0.14653742623622149, -1.9942051171963504, -1.3676444884468961, -0.8372557932333661, -1.9188470342391222, -1.176425895752355, -0.5063944395571112, -0.6230886218617776, -0.6637716155230189, -0.44370395604865664, -1.0502230320712198, -1.884455201532628, -0.8465602088727773, -0.2594989167460039, -1.9955610009465663, -2.221501710910537, -3.217375118573837, -3.6208546163065196, -4.929555124356471, -4.840508167100383, -3.827535434970696, -3.867032210267071, -4.5063002992719685, -4.925453159939044, -4.174179782827053, -2.657263222654409, -4.307262797144048, -5.304732773389594, -4.618642038632928, -5.7364532527662195, -4.392594886900887, -4.4558778061555255, -4.9857689109230625, -4.156439892523207, -3.3815162927726474, -4.524633232529935, -2.1656811236745916, -3.1885135351785516, -3.9006128888640728, -4.077345971346925, -4.000916020536469, -4.4098462746028675, -5.639320258383571, -5.687101247473266, -5.0688162769214875, -5.728851900477398, -6.343303939209772, -9.328835099025895, -8.860782654790022, -8.766972470016524, -7.71034017674116, -7.34436940021025, -7.352338908426178, -5.660115446029203, -6.6854008273788335, -5.682223402388089, -6.9632825041098405, -6.678646553285244, -5.752049999433002, -6.881893383159216, -6.5453962916602375, -5.039119802550206, -5.338956969174161, -4.4834048889550315, -3.927119209210786, -4.914573738720649, -6.567959222482106, -7.620031172452751, -7.607736110887162, -7.5546361814823495, -7.144042517705126, -7.123148748328626, -6.136712449596261, -6.365268583170922, -7.46153901912162, -7.887593355698787, -7.24361705197415, -6.356909555910471, -5.176156220893024, -6.80156252352153, -6.802162108296153, -6.313537622663519, -3.5447733332150233, -3.9845629222544896, -2.854306918829467, -2.6727676110848138, -2.985194155696666, -1.9778983711938678, -2.829599717537466, -2.256304104822701, -3.0652309473468895, -3.641370706696887], \"yaxis\": \"y12\"}, {\"histfunc\": \"count\", \"histnorm\": \"\", \"marker\": {\"color\": \"rgba(50, 171, 96, 1.0)\", \"line\": {\"color\": \"#4D5663\", \"width\": 1.3}}, \"name\": \"GOOG\", \"nbinsx\": 10, \"opacity\": 0.8, \"orientation\": \"v\", \"type\": \"histogram\", \"x\": [0.887859548430912, -0.12442855812384623, 0.31510584146026, -0.3620399760333849, 0.060047799161180415, 0.489542542000453, 0.39864526286565544, -0.12691305706221562, -0.14653742623622149, -1.9942051171963504, -1.3676444884468961, -0.8372557932333661, -1.9188470342391222, -1.176425895752355, -0.5063944395571112, -0.6230886218617776, -0.6637716155230189, -0.44370395604865664, -1.0502230320712198, -1.884455201532628, -0.8465602088727773, -0.2594989167460039, -1.9955610009465663, -2.221501710910537, -3.217375118573837, -3.6208546163065196, -4.929555124356471, -4.840508167100383, -3.827535434970696, -3.867032210267071, -4.5063002992719685, -4.925453159939044, -4.174179782827053, -2.657263222654409, -4.307262797144048, -5.304732773389594, -4.618642038632928, -5.7364532527662195, -4.392594886900887, -4.4558778061555255, -4.9857689109230625, -4.156439892523207, -3.3815162927726474, -4.524633232529935, -2.1656811236745916, -3.1885135351785516, -3.9006128888640728, -4.077345971346925, -4.000916020536469, -4.4098462746028675, -5.639320258383571, -5.687101247473266, -5.0688162769214875, -5.728851900477398, -6.343303939209772, -9.328835099025895, -8.860782654790022, -8.766972470016524, -7.71034017674116, -7.34436940021025, -7.352338908426178, -5.660115446029203, -6.6854008273788335, -5.682223402388089, -6.9632825041098405, -6.678646553285244, -5.752049999433002, -6.881893383159216, -6.5453962916602375, -5.039119802550206, -5.338956969174161, -4.4834048889550315, -3.927119209210786, -4.914573738720649, -6.567959222482106, -7.620031172452751, -7.607736110887162, -7.5546361814823495, -7.144042517705126, -7.123148748328626, -6.136712449596261, -6.365268583170922, -7.46153901912162, -7.887593355698787, -7.24361705197415, -6.356909555910471, -5.176156220893024, -6.80156252352153, -6.802162108296153, -6.313537622663519, -3.5447733332150233, -3.9845629222544896, -2.854306918829467, -2.6727676110848138, -2.985194155696666, -1.9778983711938678, -2.829599717537466, -2.256304104822701, -3.0652309473468895, -3.641370706696887], \"xaxis\": \"x13\", \"yaxis\": \"y13\"}, {\"line\": {\"color\": \"rgba(128, 128, 128, 1.0)\", \"dash\": \"solid\", \"shape\": \"linear\", \"width\": 1.3}, \"marker\": {\"size\": 2, \"symbol\": \"circle\"}, \"mode\": \"markers\", \"name\": \"GOOG\", \"text\": \"\", \"type\": \"scatter\", \"x\": [0.2048742448337656, 0.3995130615403163, 0.5136290915851257, 0.02076516140369261, 0.7226077593218854, 0.05684612597054928, -2.290373173966028, -3.352705324762807, -3.7250925423200565, -4.793135650456053, -5.329050597202418, -4.387591592305006, -4.049448089904911, -5.709282777034537, -6.328159594193041, -5.224321790483151, -5.2544049851922985, -5.421682067272712, -5.453447794943075, -5.2185053146589, -5.352828044506808, -6.099418933938748, -5.385357244049113, -5.133670710990421, -4.985790773356901, -4.275721196167301, -4.568176178165343, -4.250215743788066, -2.6250793292773977, -1.4682659462139522, -2.1133744171717304, -2.3256163870395024, -2.5325475124338666, -2.8567767576541843, -2.1431314030437036, -1.7670788605729655, -2.296789904733288, -2.2121516024694006, -3.5342462146632085, -0.6964724804885365, 1.3477234161467004, 1.441712672948758, 2.1058407403647976, 1.9878836781924143, 2.733661743162101, 4.07587656098306, 4.494268791352438, 2.7551554418904525, 3.4262226942585743, 4.261906636597172, 5.644921824628, 4.413022382756968, 5.910088337610661, 6.542923789958097, 6.312824948758883, 7.0707387309998815, 9.908110224085755, 9.306542233112879, 10.085829266774926, 9.708254599022629, 9.67875256616383, 7.916943299423433, 7.5583217288247715, 8.46681747105512, 9.205058014250898, 7.777162993877683, 7.405956989690508, 8.820618268349833, 8.580023758687686, 7.351488938534795, 4.329475295100899, 3.2757851795090573, 4.595116532455589, 5.783659442360334, 3.7878041018828923, 3.044704452625716, 2.0189657021517684, 4.274722764937334, 5.893714987065865, 5.18398622503782, 4.890734539739318, 5.259914377771817, 4.2388250269525924, 2.228345073405111, 1.0172014863258558, 2.904580330298862, 1.6375736383990258, 1.6730927768195931, 0.3295055389813142, 1.1186980436244327, 0.3825970786381174, 0.2403846669254254, 1.3424608810215752, 2.0175060395052333, 1.8490765888226344, 2.361676998871574, 2.3661487164680395, 4.650347499849967, 4.779357897092006, 5.318865454818467], \"xaxis\": \"x14\", \"y\": [0.887859548430912, -0.12442855812384623, 0.31510584146026, -0.3620399760333849, 0.060047799161180415, 0.489542542000453, 0.39864526286565544, -0.12691305706221562, -0.14653742623622149, -1.9942051171963504, -1.3676444884468961, -0.8372557932333661, -1.9188470342391222, -1.176425895752355, -0.5063944395571112, -0.6230886218617776, -0.6637716155230189, -0.44370395604865664, -1.0502230320712198, -1.884455201532628, -0.8465602088727773, -0.2594989167460039, -1.9955610009465663, -2.221501710910537, -3.217375118573837, -3.6208546163065196, -4.929555124356471, -4.840508167100383, -3.827535434970696, -3.867032210267071, -4.5063002992719685, -4.925453159939044, -4.174179782827053, -2.657263222654409, -4.307262797144048, -5.304732773389594, -4.618642038632928, -5.7364532527662195, -4.392594886900887, -4.4558778061555255, -4.9857689109230625, -4.156439892523207, -3.3815162927726474, -4.524633232529935, -2.1656811236745916, -3.1885135351785516, -3.9006128888640728, -4.077345971346925, -4.000916020536469, -4.4098462746028675, -5.639320258383571, -5.687101247473266, -5.0688162769214875, -5.728851900477398, -6.343303939209772, -9.328835099025895, -8.860782654790022, -8.766972470016524, -7.71034017674116, -7.34436940021025, -7.352338908426178, -5.660115446029203, -6.6854008273788335, -5.682223402388089, -6.9632825041098405, -6.678646553285244, -5.752049999433002, -6.881893383159216, -6.5453962916602375, -5.039119802550206, -5.338956969174161, -4.4834048889550315, -3.927119209210786, -4.914573738720649, -6.567959222482106, -7.620031172452751, -7.607736110887162, -7.5546361814823495, -7.144042517705126, -7.123148748328626, -6.136712449596261, -6.365268583170922, -7.46153901912162, -7.887593355698787, -7.24361705197415, -6.356909555910471, -5.176156220893024, -6.80156252352153, -6.802162108296153, -6.313537622663519, -3.5447733332150233, -3.9845629222544896, -2.854306918829467, -2.6727676110848138, -2.985194155696666, -1.9778983711938678, -2.829599717537466, -2.256304104822701, -3.0652309473468895, -3.641370706696887], \"yaxis\": \"y14\"}, {\"line\": {\"color\": \"rgba(128, 128, 128, 1.0)\", \"dash\": \"solid\", \"shape\": \"linear\", \"width\": 1.3}, \"marker\": {\"size\": 2, \"symbol\": \"circle\"}, \"mode\": \"markers\", \"name\": \"GOOG\", \"text\": \"\", \"type\": \"scatter\", \"x\": [1.0819354668374346, 2.4799376706733622, 2.2268051364701633, 1.0250862796132514, 0.3554705098107952, 0.7156871789501777, 0.1067856256869062, -0.123407659403828, 0.28296814854104424, 0.49919665559686655, -0.006990933535996335, 0.033384083208729, -0.08440237960348058, 0.7897831313157041, 1.5201787318987088, 1.5475803170317657, 0.8576482186298152, 2.5467860395958803, 3.993713288865485, 4.567833775159525, 5.183738002370754, 6.092155689019387, 6.1823362071732495, 5.674471133357569, 5.3441259995195045, 5.617275592259908, 6.783773732222309, 7.198486019655446, 7.145176329258773, 6.543734446718874, 7.312297808122165, 7.223841848314789, 7.9514779082905, 8.561609308063588, 9.738378487072284, 9.075752793744627, 9.831438453795284, 8.516970286231762, 8.252832558903457, 9.533388230834202, 9.67698655408267, 10.86849174836057, 10.669733608987032, 9.989883871982169, 8.670283109572248, 9.577541757674734, 8.881467530627548, 10.376316257373494, 9.81916422882076, 10.225052700919383, 10.056165673334721, 11.05423378093204, 11.438246334862646, 10.468756699066553, 9.87868872301803, 8.76800846671155, 6.684972121397745, 8.078100249152664, 6.3740120486351195, 6.699908754451213, 6.63902778498758, 7.333955166310478, 8.539313786810935, 8.765231793823297, 8.550945866671988, 8.648688407218522, 8.369870777573873, 7.728510910650162, 7.187302004909984, 7.4427073016969105, 9.038283728844396, 11.127516915360015, 12.176216508021733, 13.642073852393995, 13.114857135669329, 13.832452593325161, 14.912682023756759, 15.357186361705619, 17.058373360129018, 18.476693401175936, 18.172980321487877, 19.516504578663504, 18.750375542604836, 19.83121087323503, 20.970407888437194, 20.46369062990867, 20.493108587316645, 19.42665903106606, 18.742685639947105, 18.034705834652556, 18.052638546929252, 16.476787278642664, 16.81420963222878, 15.856823228991814, 13.806346247259345, 14.896933576101397, 15.749362202489804, 16.287176408588053, 15.628818851369322, 15.302790607308463], \"xaxis\": \"x15\", \"y\": [0.887859548430912, -0.12442855812384623, 0.31510584146026, -0.3620399760333849, 0.060047799161180415, 0.489542542000453, 0.39864526286565544, -0.12691305706221562, -0.14653742623622149, -1.9942051171963504, -1.3676444884468961, -0.8372557932333661, -1.9188470342391222, -1.176425895752355, -0.5063944395571112, -0.6230886218617776, -0.6637716155230189, -0.44370395604865664, -1.0502230320712198, -1.884455201532628, -0.8465602088727773, -0.2594989167460039, -1.9955610009465663, -2.221501710910537, -3.217375118573837, -3.6208546163065196, -4.929555124356471, -4.840508167100383, -3.827535434970696, -3.867032210267071, -4.5063002992719685, -4.925453159939044, -4.174179782827053, -2.657263222654409, -4.307262797144048, -5.304732773389594, -4.618642038632928, -5.7364532527662195, -4.392594886900887, -4.4558778061555255, -4.9857689109230625, -4.156439892523207, -3.3815162927726474, -4.524633232529935, -2.1656811236745916, -3.1885135351785516, -3.9006128888640728, -4.077345971346925, -4.000916020536469, -4.4098462746028675, -5.639320258383571, -5.687101247473266, -5.0688162769214875, -5.728851900477398, -6.343303939209772, -9.328835099025895, -8.860782654790022, -8.766972470016524, -7.71034017674116, -7.34436940021025, -7.352338908426178, -5.660115446029203, -6.6854008273788335, -5.682223402388089, -6.9632825041098405, -6.678646553285244, -5.752049999433002, -6.881893383159216, -6.5453962916602375, -5.039119802550206, -5.338956969174161, -4.4834048889550315, -3.927119209210786, -4.914573738720649, -6.567959222482106, -7.620031172452751, -7.607736110887162, -7.5546361814823495, -7.144042517705126, -7.123148748328626, -6.136712449596261, -6.365268583170922, -7.46153901912162, -7.887593355698787, -7.24361705197415, -6.356909555910471, -5.176156220893024, -6.80156252352153, -6.802162108296153, -6.313537622663519, -3.5447733332150233, -3.9845629222544896, -2.854306918829467, -2.6727676110848138, -2.985194155696666, -1.9778983711938678, -2.829599717537466, -2.256304104822701, -3.0652309473468895, -3.641370706696887], \"yaxis\": \"y15\"}, {\"line\": {\"color\": \"rgba(128, 128, 128, 1.0)\", \"dash\": \"solid\", \"shape\": \"linear\", \"width\": 1.3}, \"marker\": {\"size\": 2, \"symbol\": \"circle\"}, \"mode\": \"markers\", \"name\": \"VERZ\", \"text\": \"\", \"type\": \"scatter\", \"x\": [-1.2868801566664638, -2.028366513807729, -2.760879106191367, -1.9911859649445645, -1.1698265723057135, -0.9720902802456763, -1.3893692343289523, 0.15751532682256508, 0.28067988699811575, -0.5107120093055321, -1.8063687051293358, -1.7921784377934262, -1.1044874291941618, -0.2664229033287746, -0.6256421886729924, 0.4121968431481302, 1.8992288911822006, 0.4713284609322743, 2.994948247125084, 3.0066845652519816, 4.428386071353853, 4.91527793224154, 5.9599498493520535, 6.1134080683029515, 5.3533745076686206, 5.293323668532801, 4.099962721172125, 5.217635982306543, 6.071263872872076, 4.6433790700021245, 3.7602602888241847, 3.281740775327897, 2.7404638966339827, 3.3387539342756676, 4.0286684579720395, 5.549431907856821, 7.7754320531931445, 6.322731592099521, 6.500348418463007, 4.307960773824358, 5.299420681700493, 6.887429791634869, 8.867227597756447, 9.705505785295987, 9.727310508705818, 9.47542189494929, 10.024088259089691, 9.98684737225707, 10.69468858425811, 12.590123161193892, 11.782826178393798, 10.917174155836495, 10.734616926162627, 10.241322244735414, 10.641312793916578, 9.281628379084083, 9.400145386809678, 8.651862561935062, 7.565414896511578, 6.965260757342342, 6.707417689495253, 5.298031156312341, 5.189613710611087, 6.38226310279424, 6.183136169656518, 5.612166391713544, 6.39114867505892, 6.579941941996416, 8.383442583844783, 7.707907622852362, 6.38780750561438, 6.444029553587608, 6.607992301383706, 5.807273092823491, 6.986991314869297, 8.092324810185454, 7.438659031910002, 7.801618929657894, 8.167147603397437, 8.31903075035327, 7.29850862750133, 7.512739654299573, 6.420792527152818, 7.055018729110213, 7.0770407319095945, 7.117641048349709, 7.345524557970403, 5.752190402863436, 6.273101375049812, 6.278722472055344, 5.7539515553200955, 3.1068215726052926, 2.7290057360970037, 1.2653832609269167, 2.2899432891116005, 1.9511362641198013, 1.5916454981489803, 2.1430788859714105, 2.542681463390741, 1.530278277459552], \"xaxis\": \"x16\", \"y\": [0.2048742448337656, 0.3995130615403163, 0.5136290915851257, 0.02076516140369261, 0.7226077593218854, 0.05684612597054928, -2.290373173966028, -3.352705324762807, -3.7250925423200565, -4.793135650456053, -5.329050597202418, -4.387591592305006, -4.049448089904911, -5.709282777034537, -6.328159594193041, -5.224321790483151, -5.2544049851922985, -5.421682067272712, -5.453447794943075, -5.2185053146589, -5.352828044506808, -6.099418933938748, -5.385357244049113, -5.133670710990421, -4.985790773356901, -4.275721196167301, -4.568176178165343, -4.250215743788066, -2.6250793292773977, -1.4682659462139522, -2.1133744171717304, -2.3256163870395024, -2.5325475124338666, -2.8567767576541843, -2.1431314030437036, -1.7670788605729655, -2.296789904733288, -2.2121516024694006, -3.5342462146632085, -0.6964724804885365, 1.3477234161467004, 1.441712672948758, 2.1058407403647976, 1.9878836781924143, 2.733661743162101, 4.07587656098306, 4.494268791352438, 2.7551554418904525, 3.4262226942585743, 4.261906636597172, 5.644921824628, 4.413022382756968, 5.910088337610661, 6.542923789958097, 6.312824948758883, 7.0707387309998815, 9.908110224085755, 9.306542233112879, 10.085829266774926, 9.708254599022629, 9.67875256616383, 7.916943299423433, 7.5583217288247715, 8.46681747105512, 9.205058014250898, 7.777162993877683, 7.405956989690508, 8.820618268349833, 8.580023758687686, 7.351488938534795, 4.329475295100899, 3.2757851795090573, 4.595116532455589, 5.783659442360334, 3.7878041018828923, 3.044704452625716, 2.0189657021517684, 4.274722764937334, 5.893714987065865, 5.18398622503782, 4.890734539739318, 5.259914377771817, 4.2388250269525924, 2.228345073405111, 1.0172014863258558, 2.904580330298862, 1.6375736383990258, 1.6730927768195931, 0.3295055389813142, 1.1186980436244327, 0.3825970786381174, 0.2403846669254254, 1.3424608810215752, 2.0175060395052333, 1.8490765888226344, 2.361676998871574, 2.3661487164680395, 4.650347499849967, 4.779357897092006, 5.318865454818467], \"yaxis\": \"y16\"}, {\"line\": {\"color\": \"rgba(128, 128, 128, 1.0)\", \"dash\": \"solid\", \"shape\": \"linear\", \"width\": 1.3}, \"marker\": {\"size\": 2, \"symbol\": \"circle\"}, \"mode\": \"markers\", \"name\": \"VERZ\", \"text\": \"\", \"type\": \"scatter\", \"x\": [-0.14231784552685722, 0.0038383488741102756, -1.394342441102017, 0.05281310065044109, -1.2953856887317763, -0.23262923631253374, -2.5064608920511025, -3.6201295377974985, -2.959479810992466, -3.772544722719001, -3.0709588325198514, -2.0375398840254366, -2.1693398305300824, -3.2990288162994386, -4.890590132460698, -4.15033703004252, -4.176687297989628, -4.5205820294304235, -4.414951077438917, -4.950842185052673, -6.320562459093343, -6.44888710392168, -6.020839447515197, -5.785039010002954, -6.093129681526676, -6.634138955952207, -6.570694424396184, -6.521643404930816, -5.299024933004039, -6.0886710847423435, -5.881060365924777, -3.915482394403372, -3.9827955274268745, -4.147845784640805, -3.42504253118667, -4.40082690854008, -4.075525471295986, -2.861534944561367, -3.781912959044849, -4.333547172371902, -3.7095920728127374, -3.4750745616048015, -2.747492006580319, -0.9979818882593192, -1.0647188197146276, -0.8955434858458016, -0.6519956098049098, 1.6492927283038028, 3.387224087556209, 4.513566073082565, 5.430806739184705, 4.907521152193672, 2.8095620478423875, 2.915435824696081, 1.5200875838787369, 2.429132108080452, 3.7756335804841363, 4.002064408796806, 3.4628516327730687, 3.214324464767252, 3.8560726788603708, 2.2554862113398633, 2.9445092783273754, 3.5262828903204313, 2.463193248025804, 1.7260733152151322, 0.7398626546489155, 0.4719722351730572, 0.9991489857126875, 1.9463121727900423, 0.23353648657121595, 1.0453540766324032, 0.8125285169010912, 0.21356493176886515, 0.28570457417174555, 0.11812423461881866, 0.4917748669935742, 0.36077971790123253, 0.5972969247795444, 0.7236739472521214, 2.636233090974466, 1.069513681161607, 0.28665585447293573, 0.19369838104339726, 0.35621491824623663, 3.048403464903692, 4.677726795508604, 4.894177005591278, 4.787507408289258, 4.951135431932031, 4.884774009715971, 3.5625808936247694, 2.9640904467996405, 2.6843113704032233, 2.530433555830813, 5.248023191199183, 4.349788040925403, 5.450810783635532, 5.052823592404031, 5.15929729082009], \"xaxis\": \"x17\", \"y\": [0.2048742448337656, 0.3995130615403163, 0.5136290915851257, 0.02076516140369261, 0.7226077593218854, 0.05684612597054928, -2.290373173966028, -3.352705324762807, -3.7250925423200565, -4.793135650456053, -5.329050597202418, -4.387591592305006, -4.049448089904911, -5.709282777034537, -6.328159594193041, -5.224321790483151, -5.2544049851922985, -5.421682067272712, -5.453447794943075, -5.2185053146589, -5.352828044506808, -6.099418933938748, -5.385357244049113, -5.133670710990421, -4.985790773356901, -4.275721196167301, -4.568176178165343, -4.250215743788066, -2.6250793292773977, -1.4682659462139522, -2.1133744171717304, -2.3256163870395024, -2.5325475124338666, -2.8567767576541843, -2.1431314030437036, -1.7670788605729655, -2.296789904733288, -2.2121516024694006, -3.5342462146632085, -0.6964724804885365, 1.3477234161467004, 1.441712672948758, 2.1058407403647976, 1.9878836781924143, 2.733661743162101, 4.07587656098306, 4.494268791352438, 2.7551554418904525, 3.4262226942585743, 4.261906636597172, 5.644921824628, 4.413022382756968, 5.910088337610661, 6.542923789958097, 6.312824948758883, 7.0707387309998815, 9.908110224085755, 9.306542233112879, 10.085829266774926, 9.708254599022629, 9.67875256616383, 7.916943299423433, 7.5583217288247715, 8.46681747105512, 9.205058014250898, 7.777162993877683, 7.405956989690508, 8.820618268349833, 8.580023758687686, 7.351488938534795, 4.329475295100899, 3.2757851795090573, 4.595116532455589, 5.783659442360334, 3.7878041018828923, 3.044704452625716, 2.0189657021517684, 4.274722764937334, 5.893714987065865, 5.18398622503782, 4.890734539739318, 5.259914377771817, 4.2388250269525924, 2.228345073405111, 1.0172014863258558, 2.904580330298862, 1.6375736383990258, 1.6730927768195931, 0.3295055389813142, 1.1186980436244327, 0.3825970786381174, 0.2403846669254254, 1.3424608810215752, 2.0175060395052333, 1.8490765888226344, 2.361676998871574, 2.3661487164680395, 4.650347499849967, 4.779357897092006, 5.318865454818467], \"yaxis\": \"y17\"}, {\"line\": {\"color\": \"rgba(128, 128, 128, 1.0)\", \"dash\": \"solid\", \"shape\": \"linear\", \"width\": 1.3}, \"marker\": {\"size\": 2, \"symbol\": \"circle\"}, \"mode\": \"markers\", \"name\": \"VERZ\", \"text\": \"\", \"type\": \"scatter\", \"x\": [0.887859548430912, -0.12442855812384623, 0.31510584146026, -0.3620399760333849, 0.060047799161180415, 0.489542542000453, 0.39864526286565544, -0.12691305706221562, -0.14653742623622149, -1.9942051171963504, -1.3676444884468961, -0.8372557932333661, -1.9188470342391222, -1.176425895752355, -0.5063944395571112, -0.6230886218617776, -0.6637716155230189, -0.44370395604865664, -1.0502230320712198, -1.884455201532628, -0.8465602088727773, -0.2594989167460039, -1.9955610009465663, -2.221501710910537, -3.217375118573837, -3.6208546163065196, -4.929555124356471, -4.840508167100383, -3.827535434970696, -3.867032210267071, -4.5063002992719685, -4.925453159939044, -4.174179782827053, -2.657263222654409, -4.307262797144048, -5.304732773389594, -4.618642038632928, -5.7364532527662195, -4.392594886900887, -4.4558778061555255, -4.9857689109230625, -4.156439892523207, -3.3815162927726474, -4.524633232529935, -2.1656811236745916, -3.1885135351785516, -3.9006128888640728, -4.077345971346925, -4.000916020536469, -4.4098462746028675, -5.639320258383571, -5.687101247473266, -5.0688162769214875, -5.728851900477398, -6.343303939209772, -9.328835099025895, -8.860782654790022, -8.766972470016524, -7.71034017674116, -7.34436940021025, -7.352338908426178, -5.660115446029203, -6.6854008273788335, -5.682223402388089, -6.9632825041098405, -6.678646553285244, -5.752049999433002, -6.881893383159216, -6.5453962916602375, -5.039119802550206, -5.338956969174161, -4.4834048889550315, -3.927119209210786, -4.914573738720649, -6.567959222482106, -7.620031172452751, -7.607736110887162, -7.5546361814823495, -7.144042517705126, -7.123148748328626, -6.136712449596261, -6.365268583170922, -7.46153901912162, -7.887593355698787, -7.24361705197415, -6.356909555910471, -5.176156220893024, -6.80156252352153, -6.802162108296153, -6.313537622663519, -3.5447733332150233, -3.9845629222544896, -2.854306918829467, -2.6727676110848138, -2.985194155696666, -1.9778983711938678, -2.829599717537466, -2.256304104822701, -3.0652309473468895, -3.641370706696887], \"xaxis\": \"x18\", \"y\": [0.2048742448337656, 0.3995130615403163, 0.5136290915851257, 0.02076516140369261, 0.7226077593218854, 0.05684612597054928, -2.290373173966028, -3.352705324762807, -3.7250925423200565, -4.793135650456053, -5.329050597202418, -4.387591592305006, -4.049448089904911, -5.709282777034537, -6.328159594193041, -5.224321790483151, -5.2544049851922985, -5.421682067272712, -5.453447794943075, -5.2185053146589, -5.352828044506808, -6.099418933938748, -5.385357244049113, -5.133670710990421, -4.985790773356901, -4.275721196167301, -4.568176178165343, -4.250215743788066, -2.6250793292773977, -1.4682659462139522, -2.1133744171717304, -2.3256163870395024, -2.5325475124338666, -2.8567767576541843, -2.1431314030437036, -1.7670788605729655, -2.296789904733288, -2.2121516024694006, -3.5342462146632085, -0.6964724804885365, 1.3477234161467004, 1.441712672948758, 2.1058407403647976, 1.9878836781924143, 2.733661743162101, 4.07587656098306, 4.494268791352438, 2.7551554418904525, 3.4262226942585743, 4.261906636597172, 5.644921824628, 4.413022382756968, 5.910088337610661, 6.542923789958097, 6.312824948758883, 7.0707387309998815, 9.908110224085755, 9.306542233112879, 10.085829266774926, 9.708254599022629, 9.67875256616383, 7.916943299423433, 7.5583217288247715, 8.46681747105512, 9.205058014250898, 7.777162993877683, 7.405956989690508, 8.820618268349833, 8.580023758687686, 7.351488938534795, 4.329475295100899, 3.2757851795090573, 4.595116532455589, 5.783659442360334, 3.7878041018828923, 3.044704452625716, 2.0189657021517684, 4.274722764937334, 5.893714987065865, 5.18398622503782, 4.890734539739318, 5.259914377771817, 4.2388250269525924, 2.228345073405111, 1.0172014863258558, 2.904580330298862, 1.6375736383990258, 1.6730927768195931, 0.3295055389813142, 1.1186980436244327, 0.3825970786381174, 0.2403846669254254, 1.3424608810215752, 2.0175060395052333, 1.8490765888226344, 2.361676998871574, 2.3661487164680395, 4.650347499849967, 4.779357897092006, 5.318865454818467], \"yaxis\": \"y18\"}, {\"histfunc\": \"count\", \"histnorm\": \"\", \"marker\": {\"color\": \"rgba(128, 0, 128, 1.0)\", \"line\": {\"color\": \"#4D5663\", \"width\": 1.3}}, \"name\": \"VERZ\", \"nbinsx\": 10, \"opacity\": 0.8, \"orientation\": \"v\", \"type\": \"histogram\", \"x\": [0.2048742448337656, 0.3995130615403163, 0.5136290915851257, 0.02076516140369261, 0.7226077593218854, 0.05684612597054928, -2.290373173966028, -3.352705324762807, -3.7250925423200565, -4.793135650456053, -5.329050597202418, -4.387591592305006, -4.049448089904911, -5.709282777034537, -6.328159594193041, -5.224321790483151, -5.2544049851922985, -5.421682067272712, -5.453447794943075, -5.2185053146589, -5.352828044506808, -6.099418933938748, -5.385357244049113, -5.133670710990421, -4.985790773356901, -4.275721196167301, -4.568176178165343, -4.250215743788066, -2.6250793292773977, -1.4682659462139522, -2.1133744171717304, -2.3256163870395024, -2.5325475124338666, -2.8567767576541843, -2.1431314030437036, -1.7670788605729655, -2.296789904733288, -2.2121516024694006, -3.5342462146632085, -0.6964724804885365, 1.3477234161467004, 1.441712672948758, 2.1058407403647976, 1.9878836781924143, 2.733661743162101, 4.07587656098306, 4.494268791352438, 2.7551554418904525, 3.4262226942585743, 4.261906636597172, 5.644921824628, 4.413022382756968, 5.910088337610661, 6.542923789958097, 6.312824948758883, 7.0707387309998815, 9.908110224085755, 9.306542233112879, 10.085829266774926, 9.708254599022629, 9.67875256616383, 7.916943299423433, 7.5583217288247715, 8.46681747105512, 9.205058014250898, 7.777162993877683, 7.405956989690508, 8.820618268349833, 8.580023758687686, 7.351488938534795, 4.329475295100899, 3.2757851795090573, 4.595116532455589, 5.783659442360334, 3.7878041018828923, 3.044704452625716, 2.0189657021517684, 4.274722764937334, 5.893714987065865, 5.18398622503782, 4.890734539739318, 5.259914377771817, 4.2388250269525924, 2.228345073405111, 1.0172014863258558, 2.904580330298862, 1.6375736383990258, 1.6730927768195931, 0.3295055389813142, 1.1186980436244327, 0.3825970786381174, 0.2403846669254254, 1.3424608810215752, 2.0175060395052333, 1.8490765888226344, 2.361676998871574, 2.3661487164680395, 4.650347499849967, 4.779357897092006, 5.318865454818467], \"xaxis\": \"x19\", \"yaxis\": \"y19\"}, {\"line\": {\"color\": \"rgba(128, 128, 128, 1.0)\", \"dash\": \"solid\", \"shape\": \"linear\", \"width\": 1.3}, \"marker\": {\"size\": 2, \"symbol\": \"circle\"}, \"mode\": \"markers\", \"name\": \"VERZ\", \"text\": \"\", \"type\": \"scatter\", \"x\": [1.0819354668374346, 2.4799376706733622, 2.2268051364701633, 1.0250862796132514, 0.3554705098107952, 0.7156871789501777, 0.1067856256869062, -0.123407659403828, 0.28296814854104424, 0.49919665559686655, -0.006990933535996335, 0.033384083208729, -0.08440237960348058, 0.7897831313157041, 1.5201787318987088, 1.5475803170317657, 0.8576482186298152, 2.5467860395958803, 3.993713288865485, 4.567833775159525, 5.183738002370754, 6.092155689019387, 6.1823362071732495, 5.674471133357569, 5.3441259995195045, 5.617275592259908, 6.783773732222309, 7.198486019655446, 7.145176329258773, 6.543734446718874, 7.312297808122165, 7.223841848314789, 7.9514779082905, 8.561609308063588, 9.738378487072284, 9.075752793744627, 9.831438453795284, 8.516970286231762, 8.252832558903457, 9.533388230834202, 9.67698655408267, 10.86849174836057, 10.669733608987032, 9.989883871982169, 8.670283109572248, 9.577541757674734, 8.881467530627548, 10.376316257373494, 9.81916422882076, 10.225052700919383, 10.056165673334721, 11.05423378093204, 11.438246334862646, 10.468756699066553, 9.87868872301803, 8.76800846671155, 6.684972121397745, 8.078100249152664, 6.3740120486351195, 6.699908754451213, 6.63902778498758, 7.333955166310478, 8.539313786810935, 8.765231793823297, 8.550945866671988, 8.648688407218522, 8.369870777573873, 7.728510910650162, 7.187302004909984, 7.4427073016969105, 9.038283728844396, 11.127516915360015, 12.176216508021733, 13.642073852393995, 13.114857135669329, 13.832452593325161, 14.912682023756759, 15.357186361705619, 17.058373360129018, 18.476693401175936, 18.172980321487877, 19.516504578663504, 18.750375542604836, 19.83121087323503, 20.970407888437194, 20.46369062990867, 20.493108587316645, 19.42665903106606, 18.742685639947105, 18.034705834652556, 18.052638546929252, 16.476787278642664, 16.81420963222878, 15.856823228991814, 13.806346247259345, 14.896933576101397, 15.749362202489804, 16.287176408588053, 15.628818851369322, 15.302790607308463], \"xaxis\": \"x20\", \"y\": [0.2048742448337656, 0.3995130615403163, 0.5136290915851257, 0.02076516140369261, 0.7226077593218854, 0.05684612597054928, -2.290373173966028, -3.352705324762807, -3.7250925423200565, -4.793135650456053, -5.329050597202418, -4.387591592305006, -4.049448089904911, -5.709282777034537, -6.328159594193041, -5.224321790483151, -5.2544049851922985, -5.421682067272712, -5.453447794943075, -5.2185053146589, -5.352828044506808, -6.099418933938748, -5.385357244049113, -5.133670710990421, -4.985790773356901, -4.275721196167301, -4.568176178165343, -4.250215743788066, -2.6250793292773977, -1.4682659462139522, -2.1133744171717304, -2.3256163870395024, -2.5325475124338666, -2.8567767576541843, -2.1431314030437036, -1.7670788605729655, -2.296789904733288, -2.2121516024694006, -3.5342462146632085, -0.6964724804885365, 1.3477234161467004, 1.441712672948758, 2.1058407403647976, 1.9878836781924143, 2.733661743162101, 4.07587656098306, 4.494268791352438, 2.7551554418904525, 3.4262226942585743, 4.261906636597172, 5.644921824628, 4.413022382756968, 5.910088337610661, 6.542923789958097, 6.312824948758883, 7.0707387309998815, 9.908110224085755, 9.306542233112879, 10.085829266774926, 9.708254599022629, 9.67875256616383, 7.916943299423433, 7.5583217288247715, 8.46681747105512, 9.205058014250898, 7.777162993877683, 7.405956989690508, 8.820618268349833, 8.580023758687686, 7.351488938534795, 4.329475295100899, 3.2757851795090573, 4.595116532455589, 5.783659442360334, 3.7878041018828923, 3.044704452625716, 2.0189657021517684, 4.274722764937334, 5.893714987065865, 5.18398622503782, 4.890734539739318, 5.259914377771817, 4.2388250269525924, 2.228345073405111, 1.0172014863258558, 2.904580330298862, 1.6375736383990258, 1.6730927768195931, 0.3295055389813142, 1.1186980436244327, 0.3825970786381174, 0.2403846669254254, 1.3424608810215752, 2.0175060395052333, 1.8490765888226344, 2.361676998871574, 2.3661487164680395, 4.650347499849967, 4.779357897092006, 5.318865454818467], \"yaxis\": \"y20\"}, {\"line\": {\"color\": \"rgba(128, 128, 128, 1.0)\", \"dash\": \"solid\", \"shape\": \"linear\", \"width\": 1.3}, \"marker\": {\"size\": 2, \"symbol\": \"circle\"}, \"mode\": \"markers\", \"name\": \"APPL\", \"text\": \"\", \"type\": \"scatter\", \"x\": [-1.2868801566664638, -2.028366513807729, -2.760879106191367, -1.9911859649445645, -1.1698265723057135, -0.9720902802456763, -1.3893692343289523, 0.15751532682256508, 0.28067988699811575, -0.5107120093055321, -1.8063687051293358, -1.7921784377934262, -1.1044874291941618, -0.2664229033287746, -0.6256421886729924, 0.4121968431481302, 1.8992288911822006, 0.4713284609322743, 2.994948247125084, 3.0066845652519816, 4.428386071353853, 4.91527793224154, 5.9599498493520535, 6.1134080683029515, 5.3533745076686206, 5.293323668532801, 4.099962721172125, 5.217635982306543, 6.071263872872076, 4.6433790700021245, 3.7602602888241847, 3.281740775327897, 2.7404638966339827, 3.3387539342756676, 4.0286684579720395, 5.549431907856821, 7.7754320531931445, 6.322731592099521, 6.500348418463007, 4.307960773824358, 5.299420681700493, 6.887429791634869, 8.867227597756447, 9.705505785295987, 9.727310508705818, 9.47542189494929, 10.024088259089691, 9.98684737225707, 10.69468858425811, 12.590123161193892, 11.782826178393798, 10.917174155836495, 10.734616926162627, 10.241322244735414, 10.641312793916578, 9.281628379084083, 9.400145386809678, 8.651862561935062, 7.565414896511578, 6.965260757342342, 6.707417689495253, 5.298031156312341, 5.189613710611087, 6.38226310279424, 6.183136169656518, 5.612166391713544, 6.39114867505892, 6.579941941996416, 8.383442583844783, 7.707907622852362, 6.38780750561438, 6.444029553587608, 6.607992301383706, 5.807273092823491, 6.986991314869297, 8.092324810185454, 7.438659031910002, 7.801618929657894, 8.167147603397437, 8.31903075035327, 7.29850862750133, 7.512739654299573, 6.420792527152818, 7.055018729110213, 7.0770407319095945, 7.117641048349709, 7.345524557970403, 5.752190402863436, 6.273101375049812, 6.278722472055344, 5.7539515553200955, 3.1068215726052926, 2.7290057360970037, 1.2653832609269167, 2.2899432891116005, 1.9511362641198013, 1.5916454981489803, 2.1430788859714105, 2.542681463390741, 1.530278277459552], \"xaxis\": \"x21\", \"y\": [1.0819354668374346, 2.4799376706733622, 2.2268051364701633, 1.0250862796132514, 0.3554705098107952, 0.7156871789501777, 0.1067856256869062, -0.123407659403828, 0.28296814854104424, 0.49919665559686655, -0.006990933535996335, 0.033384083208729, -0.08440237960348058, 0.7897831313157041, 1.5201787318987088, 1.5475803170317657, 0.8576482186298152, 2.5467860395958803, 3.993713288865485, 4.567833775159525, 5.183738002370754, 6.092155689019387, 6.1823362071732495, 5.674471133357569, 5.3441259995195045, 5.617275592259908, 6.783773732222309, 7.198486019655446, 7.145176329258773, 6.543734446718874, 7.312297808122165, 7.223841848314789, 7.9514779082905, 8.561609308063588, 9.738378487072284, 9.075752793744627, 9.831438453795284, 8.516970286231762, 8.252832558903457, 9.533388230834202, 9.67698655408267, 10.86849174836057, 10.669733608987032, 9.989883871982169, 8.670283109572248, 9.577541757674734, 8.881467530627548, 10.376316257373494, 9.81916422882076, 10.225052700919383, 10.056165673334721, 11.05423378093204, 11.438246334862646, 10.468756699066553, 9.87868872301803, 8.76800846671155, 6.684972121397745, 8.078100249152664, 6.3740120486351195, 6.699908754451213, 6.63902778498758, 7.333955166310478, 8.539313786810935, 8.765231793823297, 8.550945866671988, 8.648688407218522, 8.369870777573873, 7.728510910650162, 7.187302004909984, 7.4427073016969105, 9.038283728844396, 11.127516915360015, 12.176216508021733, 13.642073852393995, 13.114857135669329, 13.832452593325161, 14.912682023756759, 15.357186361705619, 17.058373360129018, 18.476693401175936, 18.172980321487877, 19.516504578663504, 18.750375542604836, 19.83121087323503, 20.970407888437194, 20.46369062990867, 20.493108587316645, 19.42665903106606, 18.742685639947105, 18.034705834652556, 18.052638546929252, 16.476787278642664, 16.81420963222878, 15.856823228991814, 13.806346247259345, 14.896933576101397, 15.749362202489804, 16.287176408588053, 15.628818851369322, 15.302790607308463], \"yaxis\": \"y21\"}, {\"line\": {\"color\": \"rgba(128, 128, 128, 1.0)\", \"dash\": \"solid\", \"shape\": \"linear\", \"width\": 1.3}, \"marker\": {\"size\": 2, \"symbol\": \"circle\"}, \"mode\": \"markers\", \"name\": \"APPL\", \"text\": \"\", \"type\": \"scatter\", \"x\": [-0.14231784552685722, 0.0038383488741102756, -1.394342441102017, 0.05281310065044109, -1.2953856887317763, -0.23262923631253374, -2.5064608920511025, -3.6201295377974985, -2.959479810992466, -3.772544722719001, -3.0709588325198514, -2.0375398840254366, -2.1693398305300824, -3.2990288162994386, -4.890590132460698, -4.15033703004252, -4.176687297989628, -4.5205820294304235, -4.414951077438917, -4.950842185052673, -6.320562459093343, -6.44888710392168, -6.020839447515197, -5.785039010002954, -6.093129681526676, -6.634138955952207, -6.570694424396184, -6.521643404930816, -5.299024933004039, -6.0886710847423435, -5.881060365924777, -3.915482394403372, -3.9827955274268745, -4.147845784640805, -3.42504253118667, -4.40082690854008, -4.075525471295986, -2.861534944561367, -3.781912959044849, -4.333547172371902, -3.7095920728127374, -3.4750745616048015, -2.747492006580319, -0.9979818882593192, -1.0647188197146276, -0.8955434858458016, -0.6519956098049098, 1.6492927283038028, 3.387224087556209, 4.513566073082565, 5.430806739184705, 4.907521152193672, 2.8095620478423875, 2.915435824696081, 1.5200875838787369, 2.429132108080452, 3.7756335804841363, 4.002064408796806, 3.4628516327730687, 3.214324464767252, 3.8560726788603708, 2.2554862113398633, 2.9445092783273754, 3.5262828903204313, 2.463193248025804, 1.7260733152151322, 0.7398626546489155, 0.4719722351730572, 0.9991489857126875, 1.9463121727900423, 0.23353648657121595, 1.0453540766324032, 0.8125285169010912, 0.21356493176886515, 0.28570457417174555, 0.11812423461881866, 0.4917748669935742, 0.36077971790123253, 0.5972969247795444, 0.7236739472521214, 2.636233090974466, 1.069513681161607, 0.28665585447293573, 0.19369838104339726, 0.35621491824623663, 3.048403464903692, 4.677726795508604, 4.894177005591278, 4.787507408289258, 4.951135431932031, 4.884774009715971, 3.5625808936247694, 2.9640904467996405, 2.6843113704032233, 2.530433555830813, 5.248023191199183, 4.349788040925403, 5.450810783635532, 5.052823592404031, 5.15929729082009], \"xaxis\": \"x22\", \"y\": [1.0819354668374346, 2.4799376706733622, 2.2268051364701633, 1.0250862796132514, 0.3554705098107952, 0.7156871789501777, 0.1067856256869062, -0.123407659403828, 0.28296814854104424, 0.49919665559686655, -0.006990933535996335, 0.033384083208729, -0.08440237960348058, 0.7897831313157041, 1.5201787318987088, 1.5475803170317657, 0.8576482186298152, 2.5467860395958803, 3.993713288865485, 4.567833775159525, 5.183738002370754, 6.092155689019387, 6.1823362071732495, 5.674471133357569, 5.3441259995195045, 5.617275592259908, 6.783773732222309, 7.198486019655446, 7.145176329258773, 6.543734446718874, 7.312297808122165, 7.223841848314789, 7.9514779082905, 8.561609308063588, 9.738378487072284, 9.075752793744627, 9.831438453795284, 8.516970286231762, 8.252832558903457, 9.533388230834202, 9.67698655408267, 10.86849174836057, 10.669733608987032, 9.989883871982169, 8.670283109572248, 9.577541757674734, 8.881467530627548, 10.376316257373494, 9.81916422882076, 10.225052700919383, 10.056165673334721, 11.05423378093204, 11.438246334862646, 10.468756699066553, 9.87868872301803, 8.76800846671155, 6.684972121397745, 8.078100249152664, 6.3740120486351195, 6.699908754451213, 6.63902778498758, 7.333955166310478, 8.539313786810935, 8.765231793823297, 8.550945866671988, 8.648688407218522, 8.369870777573873, 7.728510910650162, 7.187302004909984, 7.4427073016969105, 9.038283728844396, 11.127516915360015, 12.176216508021733, 13.642073852393995, 13.114857135669329, 13.832452593325161, 14.912682023756759, 15.357186361705619, 17.058373360129018, 18.476693401175936, 18.172980321487877, 19.516504578663504, 18.750375542604836, 19.83121087323503, 20.970407888437194, 20.46369062990867, 20.493108587316645, 19.42665903106606, 18.742685639947105, 18.034705834652556, 18.052638546929252, 16.476787278642664, 16.81420963222878, 15.856823228991814, 13.806346247259345, 14.896933576101397, 15.749362202489804, 16.287176408588053, 15.628818851369322, 15.302790607308463], \"yaxis\": \"y22\"}, {\"line\": {\"color\": \"rgba(128, 128, 128, 1.0)\", \"dash\": \"solid\", \"shape\": \"linear\", \"width\": 1.3}, \"marker\": {\"size\": 2, \"symbol\": \"circle\"}, \"mode\": \"markers\", \"name\": \"APPL\", \"text\": \"\", \"type\": \"scatter\", \"x\": [0.887859548430912, -0.12442855812384623, 0.31510584146026, -0.3620399760333849, 0.060047799161180415, 0.489542542000453, 0.39864526286565544, -0.12691305706221562, -0.14653742623622149, -1.9942051171963504, -1.3676444884468961, -0.8372557932333661, -1.9188470342391222, -1.176425895752355, -0.5063944395571112, -0.6230886218617776, -0.6637716155230189, -0.44370395604865664, -1.0502230320712198, -1.884455201532628, -0.8465602088727773, -0.2594989167460039, -1.9955610009465663, -2.221501710910537, -3.217375118573837, -3.6208546163065196, -4.929555124356471, -4.840508167100383, -3.827535434970696, -3.867032210267071, -4.5063002992719685, -4.925453159939044, -4.174179782827053, -2.657263222654409, -4.307262797144048, -5.304732773389594, -4.618642038632928, -5.7364532527662195, -4.392594886900887, -4.4558778061555255, -4.9857689109230625, -4.156439892523207, -3.3815162927726474, -4.524633232529935, -2.1656811236745916, -3.1885135351785516, -3.9006128888640728, -4.077345971346925, -4.000916020536469, -4.4098462746028675, -5.639320258383571, -5.687101247473266, -5.0688162769214875, -5.728851900477398, -6.343303939209772, -9.328835099025895, -8.860782654790022, -8.766972470016524, -7.71034017674116, -7.34436940021025, -7.352338908426178, -5.660115446029203, -6.6854008273788335, -5.682223402388089, -6.9632825041098405, -6.678646553285244, -5.752049999433002, -6.881893383159216, -6.5453962916602375, -5.039119802550206, -5.338956969174161, -4.4834048889550315, -3.927119209210786, -4.914573738720649, -6.567959222482106, -7.620031172452751, -7.607736110887162, -7.5546361814823495, -7.144042517705126, -7.123148748328626, -6.136712449596261, -6.365268583170922, -7.46153901912162, -7.887593355698787, -7.24361705197415, -6.356909555910471, -5.176156220893024, -6.80156252352153, -6.802162108296153, -6.313537622663519, -3.5447733332150233, -3.9845629222544896, -2.854306918829467, -2.6727676110848138, -2.985194155696666, -1.9778983711938678, -2.829599717537466, -2.256304104822701, -3.0652309473468895, -3.641370706696887], \"xaxis\": \"x23\", \"y\": [1.0819354668374346, 2.4799376706733622, 2.2268051364701633, 1.0250862796132514, 0.3554705098107952, 0.7156871789501777, 0.1067856256869062, -0.123407659403828, 0.28296814854104424, 0.49919665559686655, -0.006990933535996335, 0.033384083208729, -0.08440237960348058, 0.7897831313157041, 1.5201787318987088, 1.5475803170317657, 0.8576482186298152, 2.5467860395958803, 3.993713288865485, 4.567833775159525, 5.183738002370754, 6.092155689019387, 6.1823362071732495, 5.674471133357569, 5.3441259995195045, 5.617275592259908, 6.783773732222309, 7.198486019655446, 7.145176329258773, 6.543734446718874, 7.312297808122165, 7.223841848314789, 7.9514779082905, 8.561609308063588, 9.738378487072284, 9.075752793744627, 9.831438453795284, 8.516970286231762, 8.252832558903457, 9.533388230834202, 9.67698655408267, 10.86849174836057, 10.669733608987032, 9.989883871982169, 8.670283109572248, 9.577541757674734, 8.881467530627548, 10.376316257373494, 9.81916422882076, 10.225052700919383, 10.056165673334721, 11.05423378093204, 11.438246334862646, 10.468756699066553, 9.87868872301803, 8.76800846671155, 6.684972121397745, 8.078100249152664, 6.3740120486351195, 6.699908754451213, 6.63902778498758, 7.333955166310478, 8.539313786810935, 8.765231793823297, 8.550945866671988, 8.648688407218522, 8.369870777573873, 7.728510910650162, 7.187302004909984, 7.4427073016969105, 9.038283728844396, 11.127516915360015, 12.176216508021733, 13.642073852393995, 13.114857135669329, 13.832452593325161, 14.912682023756759, 15.357186361705619, 17.058373360129018, 18.476693401175936, 18.172980321487877, 19.516504578663504, 18.750375542604836, 19.83121087323503, 20.970407888437194, 20.46369062990867, 20.493108587316645, 19.42665903106606, 18.742685639947105, 18.034705834652556, 18.052638546929252, 16.476787278642664, 16.81420963222878, 15.856823228991814, 13.806346247259345, 14.896933576101397, 15.749362202489804, 16.287176408588053, 15.628818851369322, 15.302790607308463], \"yaxis\": \"y23\"}, {\"line\": {\"color\": \"rgba(128, 128, 128, 1.0)\", \"dash\": \"solid\", \"shape\": \"linear\", \"width\": 1.3}, \"marker\": {\"size\": 2, \"symbol\": \"circle\"}, \"mode\": \"markers\", \"name\": \"APPL\", \"text\": \"\", \"type\": \"scatter\", \"x\": [0.2048742448337656, 0.3995130615403163, 0.5136290915851257, 0.02076516140369261, 0.7226077593218854, 0.05684612597054928, -2.290373173966028, -3.352705324762807, -3.7250925423200565, -4.793135650456053, -5.329050597202418, -4.387591592305006, -4.049448089904911, -5.709282777034537, -6.328159594193041, -5.224321790483151, -5.2544049851922985, -5.421682067272712, -5.453447794943075, -5.2185053146589, -5.352828044506808, -6.099418933938748, -5.385357244049113, -5.133670710990421, -4.985790773356901, -4.275721196167301, -4.568176178165343, -4.250215743788066, -2.6250793292773977, -1.4682659462139522, -2.1133744171717304, -2.3256163870395024, -2.5325475124338666, -2.8567767576541843, -2.1431314030437036, -1.7670788605729655, -2.296789904733288, -2.2121516024694006, -3.5342462146632085, -0.6964724804885365, 1.3477234161467004, 1.441712672948758, 2.1058407403647976, 1.9878836781924143, 2.733661743162101, 4.07587656098306, 4.494268791352438, 2.7551554418904525, 3.4262226942585743, 4.261906636597172, 5.644921824628, 4.413022382756968, 5.910088337610661, 6.542923789958097, 6.312824948758883, 7.0707387309998815, 9.908110224085755, 9.306542233112879, 10.085829266774926, 9.708254599022629, 9.67875256616383, 7.916943299423433, 7.5583217288247715, 8.46681747105512, 9.205058014250898, 7.777162993877683, 7.405956989690508, 8.820618268349833, 8.580023758687686, 7.351488938534795, 4.329475295100899, 3.2757851795090573, 4.595116532455589, 5.783659442360334, 3.7878041018828923, 3.044704452625716, 2.0189657021517684, 4.274722764937334, 5.893714987065865, 5.18398622503782, 4.890734539739318, 5.259914377771817, 4.2388250269525924, 2.228345073405111, 1.0172014863258558, 2.904580330298862, 1.6375736383990258, 1.6730927768195931, 0.3295055389813142, 1.1186980436244327, 0.3825970786381174, 0.2403846669254254, 1.3424608810215752, 2.0175060395052333, 1.8490765888226344, 2.361676998871574, 2.3661487164680395, 4.650347499849967, 4.779357897092006, 5.318865454818467], \"xaxis\": \"x24\", \"y\": [1.0819354668374346, 2.4799376706733622, 2.2268051364701633, 1.0250862796132514, 0.3554705098107952, 0.7156871789501777, 0.1067856256869062, -0.123407659403828, 0.28296814854104424, 0.49919665559686655, -0.006990933535996335, 0.033384083208729, -0.08440237960348058, 0.7897831313157041, 1.5201787318987088, 1.5475803170317657, 0.8576482186298152, 2.5467860395958803, 3.993713288865485, 4.567833775159525, 5.183738002370754, 6.092155689019387, 6.1823362071732495, 5.674471133357569, 5.3441259995195045, 5.617275592259908, 6.783773732222309, 7.198486019655446, 7.145176329258773, 6.543734446718874, 7.312297808122165, 7.223841848314789, 7.9514779082905, 8.561609308063588, 9.738378487072284, 9.075752793744627, 9.831438453795284, 8.516970286231762, 8.252832558903457, 9.533388230834202, 9.67698655408267, 10.86849174836057, 10.669733608987032, 9.989883871982169, 8.670283109572248, 9.577541757674734, 8.881467530627548, 10.376316257373494, 9.81916422882076, 10.225052700919383, 10.056165673334721, 11.05423378093204, 11.438246334862646, 10.468756699066553, 9.87868872301803, 8.76800846671155, 6.684972121397745, 8.078100249152664, 6.3740120486351195, 6.699908754451213, 6.63902778498758, 7.333955166310478, 8.539313786810935, 8.765231793823297, 8.550945866671988, 8.648688407218522, 8.369870777573873, 7.728510910650162, 7.187302004909984, 7.4427073016969105, 9.038283728844396, 11.127516915360015, 12.176216508021733, 13.642073852393995, 13.114857135669329, 13.832452593325161, 14.912682023756759, 15.357186361705619, 17.058373360129018, 18.476693401175936, 18.172980321487877, 19.516504578663504, 18.750375542604836, 19.83121087323503, 20.970407888437194, 20.46369062990867, 20.493108587316645, 19.42665903106606, 18.742685639947105, 18.034705834652556, 18.052638546929252, 16.476787278642664, 16.81420963222878, 15.856823228991814, 13.806346247259345, 14.896933576101397, 15.749362202489804, 16.287176408588053, 15.628818851369322, 15.302790607308463], \"yaxis\": \"y24\"}, {\"histfunc\": \"count\", \"histnorm\": \"\", \"marker\": {\"color\": \"rgba(219, 64, 82, 1.0)\", \"line\": {\"color\": \"#4D5663\", \"width\": 1.3}}, \"name\": \"APPL\", \"nbinsx\": 10, \"opacity\": 0.8, \"orientation\": \"v\", \"type\": \"histogram\", \"x\": [1.0819354668374346, 2.4799376706733622, 2.2268051364701633, 1.0250862796132514, 0.3554705098107952, 0.7156871789501777, 0.1067856256869062, -0.123407659403828, 0.28296814854104424, 0.49919665559686655, -0.006990933535996335, 0.033384083208729, -0.08440237960348058, 0.7897831313157041, 1.5201787318987088, 1.5475803170317657, 0.8576482186298152, 2.5467860395958803, 3.993713288865485, 4.567833775159525, 5.183738002370754, 6.092155689019387, 6.1823362071732495, 5.674471133357569, 5.3441259995195045, 5.617275592259908, 6.783773732222309, 7.198486019655446, 7.145176329258773, 6.543734446718874, 7.312297808122165, 7.223841848314789, 7.9514779082905, 8.561609308063588, 9.738378487072284, 9.075752793744627, 9.831438453795284, 8.516970286231762, 8.252832558903457, 9.533388230834202, 9.67698655408267, 10.86849174836057, 10.669733608987032, 9.989883871982169, 8.670283109572248, 9.577541757674734, 8.881467530627548, 10.376316257373494, 9.81916422882076, 10.225052700919383, 10.056165673334721, 11.05423378093204, 11.438246334862646, 10.468756699066553, 9.87868872301803, 8.76800846671155, 6.684972121397745, 8.078100249152664, 6.3740120486351195, 6.699908754451213, 6.63902778498758, 7.333955166310478, 8.539313786810935, 8.765231793823297, 8.550945866671988, 8.648688407218522, 8.369870777573873, 7.728510910650162, 7.187302004909984, 7.4427073016969105, 9.038283728844396, 11.127516915360015, 12.176216508021733, 13.642073852393995, 13.114857135669329, 13.832452593325161, 14.912682023756759, 15.357186361705619, 17.058373360129018, 18.476693401175936, 18.172980321487877, 19.516504578663504, 18.750375542604836, 19.83121087323503, 20.970407888437194, 20.46369062990867, 20.493108587316645, 19.42665903106606, 18.742685639947105, 18.034705834652556, 18.052638546929252, 16.476787278642664, 16.81420963222878, 15.856823228991814, 13.806346247259345, 14.896933576101397, 15.749362202489804, 16.287176408588053, 15.628818851369322, 15.302790607308463], \"xaxis\": \"x25\", \"yaxis\": \"y25\"}],\n",
       "                        {\"bargap\": 0.02, \"legend\": {\"bgcolor\": \"#F5F6F9\", \"font\": {\"color\": \"#4D5663\"}}, \"paper_bgcolor\": \"#F5F6F9\", \"plot_bgcolor\": \"#F5F6F9\", \"showlegend\": false, \"template\": {\"data\": {\"bar\": [{\"error_x\": {\"color\": \"#2a3f5f\"}, \"error_y\": {\"color\": \"#2a3f5f\"}, \"marker\": {\"line\": {\"color\": \"#E5ECF6\", \"width\": 0.5}}, \"type\": \"bar\"}], \"barpolar\": [{\"marker\": {\"line\": {\"color\": \"#E5ECF6\", \"width\": 0.5}}, \"type\": \"barpolar\"}], \"carpet\": [{\"aaxis\": {\"endlinecolor\": \"#2a3f5f\", \"gridcolor\": \"white\", \"linecolor\": \"white\", \"minorgridcolor\": \"white\", \"startlinecolor\": \"#2a3f5f\"}, \"baxis\": {\"endlinecolor\": \"#2a3f5f\", \"gridcolor\": \"white\", \"linecolor\": \"white\", \"minorgridcolor\": \"white\", \"startlinecolor\": \"#2a3f5f\"}, \"type\": \"carpet\"}], \"choropleth\": [{\"colorbar\": {\"outlinewidth\": 0, \"ticks\": \"\"}, \"type\": \"choropleth\"}], \"contour\": [{\"colorbar\": {\"outlinewidth\": 0, \"ticks\": \"\"}, \"colorscale\": [[0.0, \"#0d0887\"], [0.1111111111111111, \"#46039f\"], [0.2222222222222222, \"#7201a8\"], [0.3333333333333333, \"#9c179e\"], [0.4444444444444444, \"#bd3786\"], [0.5555555555555556, \"#d8576b\"], [0.6666666666666666, \"#ed7953\"], [0.7777777777777778, \"#fb9f3a\"], [0.8888888888888888, \"#fdca26\"], [1.0, \"#f0f921\"]], \"type\": \"contour\"}], \"contourcarpet\": [{\"colorbar\": {\"outlinewidth\": 0, \"ticks\": \"\"}, \"type\": \"contourcarpet\"}], \"heatmap\": [{\"colorbar\": {\"outlinewidth\": 0, \"ticks\": \"\"}, \"colorscale\": [[0.0, \"#0d0887\"], [0.1111111111111111, \"#46039f\"], [0.2222222222222222, \"#7201a8\"], [0.3333333333333333, \"#9c179e\"], [0.4444444444444444, \"#bd3786\"], [0.5555555555555556, \"#d8576b\"], [0.6666666666666666, \"#ed7953\"], [0.7777777777777778, \"#fb9f3a\"], [0.8888888888888888, \"#fdca26\"], [1.0, \"#f0f921\"]], \"type\": \"heatmap\"}], \"heatmapgl\": [{\"colorbar\": {\"outlinewidth\": 0, \"ticks\": \"\"}, \"colorscale\": [[0.0, \"#0d0887\"], [0.1111111111111111, \"#46039f\"], [0.2222222222222222, \"#7201a8\"], [0.3333333333333333, \"#9c179e\"], [0.4444444444444444, \"#bd3786\"], [0.5555555555555556, \"#d8576b\"], [0.6666666666666666, \"#ed7953\"], [0.7777777777777778, \"#fb9f3a\"], [0.8888888888888888, \"#fdca26\"], [1.0, \"#f0f921\"]], \"type\": \"heatmapgl\"}], \"histogram\": [{\"marker\": {\"colorbar\": {\"outlinewidth\": 0, \"ticks\": \"\"}}, \"type\": \"histogram\"}], \"histogram2d\": [{\"colorbar\": {\"outlinewidth\": 0, \"ticks\": \"\"}, \"colorscale\": [[0.0, \"#0d0887\"], [0.1111111111111111, \"#46039f\"], [0.2222222222222222, \"#7201a8\"], [0.3333333333333333, \"#9c179e\"], [0.4444444444444444, \"#bd3786\"], [0.5555555555555556, \"#d8576b\"], [0.6666666666666666, \"#ed7953\"], [0.7777777777777778, \"#fb9f3a\"], [0.8888888888888888, \"#fdca26\"], [1.0, \"#f0f921\"]], \"type\": \"histogram2d\"}], \"histogram2dcontour\": [{\"colorbar\": {\"outlinewidth\": 0, \"ticks\": \"\"}, \"colorscale\": [[0.0, \"#0d0887\"], [0.1111111111111111, \"#46039f\"], [0.2222222222222222, \"#7201a8\"], [0.3333333333333333, \"#9c179e\"], [0.4444444444444444, \"#bd3786\"], [0.5555555555555556, \"#d8576b\"], [0.6666666666666666, \"#ed7953\"], [0.7777777777777778, \"#fb9f3a\"], [0.8888888888888888, \"#fdca26\"], [1.0, \"#f0f921\"]], \"type\": \"histogram2dcontour\"}], \"mesh3d\": [{\"colorbar\": {\"outlinewidth\": 0, \"ticks\": \"\"}, \"type\": \"mesh3d\"}], \"parcoords\": [{\"line\": {\"colorbar\": {\"outlinewidth\": 0, \"ticks\": \"\"}}, \"type\": \"parcoords\"}], \"pie\": [{\"automargin\": true, \"type\": \"pie\"}], \"scatter\": [{\"marker\": {\"colorbar\": {\"outlinewidth\": 0, \"ticks\": \"\"}}, \"type\": \"scatter\"}], \"scatter3d\": [{\"line\": {\"colorbar\": {\"outlinewidth\": 0, \"ticks\": \"\"}}, \"marker\": {\"colorbar\": {\"outlinewidth\": 0, \"ticks\": \"\"}}, \"type\": \"scatter3d\"}], \"scattercarpet\": [{\"marker\": {\"colorbar\": {\"outlinewidth\": 0, \"ticks\": \"\"}}, \"type\": \"scattercarpet\"}], \"scattergeo\": [{\"marker\": {\"colorbar\": {\"outlinewidth\": 0, \"ticks\": \"\"}}, \"type\": \"scattergeo\"}], \"scattergl\": [{\"marker\": {\"colorbar\": {\"outlinewidth\": 0, \"ticks\": \"\"}}, \"type\": \"scattergl\"}], \"scattermapbox\": [{\"marker\": {\"colorbar\": {\"outlinewidth\": 0, \"ticks\": \"\"}}, \"type\": \"scattermapbox\"}], \"scatterpolar\": [{\"marker\": {\"colorbar\": {\"outlinewidth\": 0, \"ticks\": \"\"}}, \"type\": \"scatterpolar\"}], \"scatterpolargl\": [{\"marker\": {\"colorbar\": {\"outlinewidth\": 0, \"ticks\": \"\"}}, \"type\": \"scatterpolargl\"}], \"scatterternary\": [{\"marker\": {\"colorbar\": {\"outlinewidth\": 0, \"ticks\": \"\"}}, \"type\": \"scatterternary\"}], \"surface\": [{\"colorbar\": {\"outlinewidth\": 0, \"ticks\": \"\"}, \"colorscale\": [[0.0, \"#0d0887\"], [0.1111111111111111, \"#46039f\"], [0.2222222222222222, \"#7201a8\"], [0.3333333333333333, \"#9c179e\"], [0.4444444444444444, \"#bd3786\"], [0.5555555555555556, \"#d8576b\"], [0.6666666666666666, \"#ed7953\"], [0.7777777777777778, \"#fb9f3a\"], [0.8888888888888888, \"#fdca26\"], [1.0, \"#f0f921\"]], \"type\": \"surface\"}], \"table\": [{\"cells\": {\"fill\": {\"color\": \"#EBF0F8\"}, \"line\": {\"color\": \"white\"}}, \"header\": {\"fill\": {\"color\": \"#C8D4E3\"}, \"line\": {\"color\": \"white\"}}, \"type\": \"table\"}]}, \"layout\": {\"annotationdefaults\": {\"arrowcolor\": \"#2a3f5f\", \"arrowhead\": 0, \"arrowwidth\": 1}, \"coloraxis\": {\"colorbar\": {\"outlinewidth\": 0, \"ticks\": \"\"}}, \"colorscale\": {\"diverging\": [[0, \"#8e0152\"], [0.1, \"#c51b7d\"], [0.2, \"#de77ae\"], [0.3, \"#f1b6da\"], [0.4, \"#fde0ef\"], [0.5, \"#f7f7f7\"], [0.6, \"#e6f5d0\"], [0.7, \"#b8e186\"], [0.8, \"#7fbc41\"], [0.9, \"#4d9221\"], [1, \"#276419\"]], \"sequential\": [[0.0, \"#0d0887\"], [0.1111111111111111, \"#46039f\"], [0.2222222222222222, \"#7201a8\"], [0.3333333333333333, \"#9c179e\"], [0.4444444444444444, \"#bd3786\"], [0.5555555555555556, \"#d8576b\"], [0.6666666666666666, \"#ed7953\"], [0.7777777777777778, \"#fb9f3a\"], [0.8888888888888888, \"#fdca26\"], [1.0, \"#f0f921\"]], \"sequentialminus\": [[0.0, \"#0d0887\"], [0.1111111111111111, \"#46039f\"], [0.2222222222222222, \"#7201a8\"], [0.3333333333333333, \"#9c179e\"], [0.4444444444444444, \"#bd3786\"], [0.5555555555555556, \"#d8576b\"], [0.6666666666666666, \"#ed7953\"], [0.7777777777777778, \"#fb9f3a\"], [0.8888888888888888, \"#fdca26\"], [1.0, \"#f0f921\"]]}, \"colorway\": [\"#636efa\", \"#EF553B\", \"#00cc96\", \"#ab63fa\", \"#FFA15A\", \"#19d3f3\", \"#FF6692\", \"#B6E880\", \"#FF97FF\", \"#FECB52\"], \"font\": {\"color\": \"#2a3f5f\"}, \"geo\": {\"bgcolor\": \"white\", \"lakecolor\": \"white\", \"landcolor\": \"#E5ECF6\", \"showlakes\": true, \"showland\": true, \"subunitcolor\": \"white\"}, \"hoverlabel\": {\"align\": \"left\"}, \"hovermode\": \"closest\", \"mapbox\": {\"style\": \"light\"}, \"paper_bgcolor\": \"white\", \"plot_bgcolor\": \"#E5ECF6\", \"polar\": {\"angularaxis\": {\"gridcolor\": \"white\", \"linecolor\": \"white\", \"ticks\": \"\"}, \"bgcolor\": \"#E5ECF6\", \"radialaxis\": {\"gridcolor\": \"white\", \"linecolor\": \"white\", \"ticks\": \"\"}}, \"scene\": {\"xaxis\": {\"backgroundcolor\": \"#E5ECF6\", \"gridcolor\": \"white\", \"gridwidth\": 2, \"linecolor\": \"white\", \"showbackground\": true, \"ticks\": \"\", \"zerolinecolor\": \"white\"}, \"yaxis\": {\"backgroundcolor\": \"#E5ECF6\", \"gridcolor\": \"white\", \"gridwidth\": 2, \"linecolor\": \"white\", \"showbackground\": true, \"ticks\": \"\", \"zerolinecolor\": \"white\"}, \"zaxis\": {\"backgroundcolor\": \"#E5ECF6\", \"gridcolor\": \"white\", \"gridwidth\": 2, \"linecolor\": \"white\", \"showbackground\": true, \"ticks\": \"\", \"zerolinecolor\": \"white\"}}, \"shapedefaults\": {\"line\": {\"color\": \"#2a3f5f\"}}, \"ternary\": {\"aaxis\": {\"gridcolor\": \"white\", \"linecolor\": \"white\", \"ticks\": \"\"}, \"baxis\": {\"gridcolor\": \"white\", \"linecolor\": \"white\", \"ticks\": \"\"}, \"bgcolor\": \"#E5ECF6\", \"caxis\": {\"gridcolor\": \"white\", \"linecolor\": \"white\", \"ticks\": \"\"}}, \"title\": {\"x\": 0.05}, \"xaxis\": {\"automargin\": true, \"gridcolor\": \"white\", \"linecolor\": \"white\", \"ticks\": \"\", \"title\": {\"standoff\": 15}, \"zerolinecolor\": \"white\", \"zerolinewidth\": 2}, \"yaxis\": {\"automargin\": true, \"gridcolor\": \"white\", \"linecolor\": \"white\", \"ticks\": \"\", \"title\": {\"standoff\": 15}, \"zerolinecolor\": \"white\", \"zerolinewidth\": 2}}}, \"title\": {\"font\": {\"color\": \"#4D5663\"}}, \"xaxis\": {\"anchor\": \"y\", \"domain\": [0.0, 0.16], \"gridcolor\": \"#E1E5ED\", \"showgrid\": false, \"tickfont\": {\"color\": \"#4D5663\"}, \"title\": {\"font\": {\"color\": \"#4D5663\"}, \"text\": \"\"}, \"zerolinecolor\": \"#E1E5ED\"}, \"xaxis10\": {\"anchor\": \"y10\", \"domain\": [0.8400000000000001, 1.0], \"gridcolor\": \"#E1E5ED\", \"showgrid\": false, \"tickfont\": {\"color\": \"#4D5663\"}, \"title\": {\"font\": {\"color\": \"#4D5663\"}, \"text\": \"\"}, \"zerolinecolor\": \"#E1E5ED\"}, \"xaxis11\": {\"anchor\": \"y11\", \"domain\": [0.0, 0.16], \"gridcolor\": \"#E1E5ED\", \"showgrid\": false, \"tickfont\": {\"color\": \"#4D5663\"}, \"title\": {\"font\": {\"color\": \"#4D5663\"}, \"text\": \"\"}, \"zerolinecolor\": \"#E1E5ED\"}, \"xaxis12\": {\"anchor\": \"y12\", \"domain\": [0.21000000000000002, 0.37], \"gridcolor\": \"#E1E5ED\", \"showgrid\": false, \"tickfont\": {\"color\": \"#4D5663\"}, \"title\": {\"font\": {\"color\": \"#4D5663\"}, \"text\": \"\"}, \"zerolinecolor\": \"#E1E5ED\"}, \"xaxis13\": {\"anchor\": \"y13\", \"domain\": [0.42000000000000004, 0.5800000000000001], \"gridcolor\": \"#E1E5ED\", \"showgrid\": false, \"tickfont\": {\"color\": \"#4D5663\"}, \"title\": {\"font\": {\"color\": \"#4D5663\"}, \"text\": \"\"}, \"zerolinecolor\": \"#E1E5ED\"}, \"xaxis14\": {\"anchor\": \"y14\", \"domain\": [0.63, 0.79], \"gridcolor\": \"#E1E5ED\", \"showgrid\": false, \"tickfont\": {\"color\": \"#4D5663\"}, \"title\": {\"font\": {\"color\": \"#4D5663\"}, \"text\": \"\"}, \"zerolinecolor\": \"#E1E5ED\"}, \"xaxis15\": {\"anchor\": \"y15\", \"domain\": [0.8400000000000001, 1.0], \"gridcolor\": \"#E1E5ED\", \"showgrid\": false, \"tickfont\": {\"color\": \"#4D5663\"}, \"title\": {\"font\": {\"color\": \"#4D5663\"}, \"text\": \"\"}, \"zerolinecolor\": \"#E1E5ED\"}, \"xaxis16\": {\"anchor\": \"y16\", \"domain\": [0.0, 0.16], \"gridcolor\": \"#E1E5ED\", \"showgrid\": false, \"tickfont\": {\"color\": \"#4D5663\"}, \"title\": {\"font\": {\"color\": \"#4D5663\"}, \"text\": \"\"}, \"zerolinecolor\": \"#E1E5ED\"}, \"xaxis17\": {\"anchor\": \"y17\", \"domain\": [0.21000000000000002, 0.37], \"gridcolor\": \"#E1E5ED\", \"showgrid\": false, \"tickfont\": {\"color\": \"#4D5663\"}, \"title\": {\"font\": {\"color\": \"#4D5663\"}, \"text\": \"\"}, \"zerolinecolor\": \"#E1E5ED\"}, \"xaxis18\": {\"anchor\": \"y18\", \"domain\": [0.42000000000000004, 0.5800000000000001], \"gridcolor\": \"#E1E5ED\", \"showgrid\": false, \"tickfont\": {\"color\": \"#4D5663\"}, \"title\": {\"font\": {\"color\": \"#4D5663\"}, \"text\": \"\"}, \"zerolinecolor\": \"#E1E5ED\"}, \"xaxis19\": {\"anchor\": \"y19\", \"domain\": [0.63, 0.79], \"gridcolor\": \"#E1E5ED\", \"showgrid\": false, \"tickfont\": {\"color\": \"#4D5663\"}, \"title\": {\"font\": {\"color\": \"#4D5663\"}, \"text\": \"\"}, \"zerolinecolor\": \"#E1E5ED\"}, \"xaxis2\": {\"anchor\": \"y2\", \"domain\": [0.21000000000000002, 0.37], \"gridcolor\": \"#E1E5ED\", \"showgrid\": false, \"tickfont\": {\"color\": \"#4D5663\"}, \"title\": {\"font\": {\"color\": \"#4D5663\"}, \"text\": \"\"}, \"zerolinecolor\": \"#E1E5ED\"}, \"xaxis20\": {\"anchor\": \"y20\", \"domain\": [0.8400000000000001, 1.0], \"gridcolor\": \"#E1E5ED\", \"showgrid\": false, \"tickfont\": {\"color\": \"#4D5663\"}, \"title\": {\"font\": {\"color\": \"#4D5663\"}, \"text\": \"\"}, \"zerolinecolor\": \"#E1E5ED\"}, \"xaxis21\": {\"anchor\": \"y21\", \"domain\": [0.0, 0.16], \"gridcolor\": \"#E1E5ED\", \"showgrid\": false, \"tickfont\": {\"color\": \"#4D5663\"}, \"title\": {\"font\": {\"color\": \"#4D5663\"}, \"text\": \"\"}, \"zerolinecolor\": \"#E1E5ED\"}, \"xaxis22\": {\"anchor\": \"y22\", \"domain\": [0.21000000000000002, 0.37], \"gridcolor\": \"#E1E5ED\", \"showgrid\": false, \"tickfont\": {\"color\": \"#4D5663\"}, \"title\": {\"font\": {\"color\": \"#4D5663\"}, \"text\": \"\"}, \"zerolinecolor\": \"#E1E5ED\"}, \"xaxis23\": {\"anchor\": \"y23\", \"domain\": [0.42000000000000004, 0.5800000000000001], \"gridcolor\": \"#E1E5ED\", \"showgrid\": false, \"tickfont\": {\"color\": \"#4D5663\"}, \"title\": {\"font\": {\"color\": \"#4D5663\"}, \"text\": \"\"}, \"zerolinecolor\": \"#E1E5ED\"}, \"xaxis24\": {\"anchor\": \"y24\", \"domain\": [0.63, 0.79], \"gridcolor\": \"#E1E5ED\", \"showgrid\": false, \"tickfont\": {\"color\": \"#4D5663\"}, \"title\": {\"font\": {\"color\": \"#4D5663\"}, \"text\": \"\"}, \"zerolinecolor\": \"#E1E5ED\"}, \"xaxis25\": {\"anchor\": \"y25\", \"domain\": [0.8400000000000001, 1.0], \"gridcolor\": \"#E1E5ED\", \"showgrid\": false, \"tickfont\": {\"color\": \"#4D5663\"}, \"title\": {\"font\": {\"color\": \"#4D5663\"}, \"text\": \"\"}, \"zerolinecolor\": \"#E1E5ED\"}, \"xaxis3\": {\"anchor\": \"y3\", \"domain\": [0.42000000000000004, 0.5800000000000001], \"gridcolor\": \"#E1E5ED\", \"showgrid\": false, \"tickfont\": {\"color\": \"#4D5663\"}, \"title\": {\"font\": {\"color\": \"#4D5663\"}, \"text\": \"\"}, \"zerolinecolor\": \"#E1E5ED\"}, \"xaxis4\": {\"anchor\": \"y4\", \"domain\": [0.63, 0.79], \"gridcolor\": \"#E1E5ED\", \"showgrid\": false, \"tickfont\": {\"color\": \"#4D5663\"}, \"title\": {\"font\": {\"color\": \"#4D5663\"}, \"text\": \"\"}, \"zerolinecolor\": \"#E1E5ED\"}, \"xaxis5\": {\"anchor\": \"y5\", \"domain\": [0.8400000000000001, 1.0], \"gridcolor\": \"#E1E5ED\", \"showgrid\": false, \"tickfont\": {\"color\": \"#4D5663\"}, \"title\": {\"font\": {\"color\": \"#4D5663\"}, \"text\": \"\"}, \"zerolinecolor\": \"#E1E5ED\"}, \"xaxis6\": {\"anchor\": \"y6\", \"domain\": [0.0, 0.16], \"gridcolor\": \"#E1E5ED\", \"showgrid\": false, \"tickfont\": {\"color\": \"#4D5663\"}, \"title\": {\"font\": {\"color\": \"#4D5663\"}, \"text\": \"\"}, \"zerolinecolor\": \"#E1E5ED\"}, \"xaxis7\": {\"anchor\": \"y7\", \"domain\": [0.21000000000000002, 0.37], \"gridcolor\": \"#E1E5ED\", \"showgrid\": false, \"tickfont\": {\"color\": \"#4D5663\"}, \"title\": {\"font\": {\"color\": \"#4D5663\"}, \"text\": \"\"}, \"zerolinecolor\": \"#E1E5ED\"}, \"xaxis8\": {\"anchor\": \"y8\", \"domain\": [0.42000000000000004, 0.5800000000000001], \"gridcolor\": \"#E1E5ED\", \"showgrid\": false, \"tickfont\": {\"color\": \"#4D5663\"}, \"title\": {\"font\": {\"color\": \"#4D5663\"}, \"text\": \"\"}, \"zerolinecolor\": \"#E1E5ED\"}, \"xaxis9\": {\"anchor\": \"y9\", \"domain\": [0.63, 0.79], \"gridcolor\": \"#E1E5ED\", \"showgrid\": false, \"tickfont\": {\"color\": \"#4D5663\"}, \"title\": {\"font\": {\"color\": \"#4D5663\"}, \"text\": \"\"}, \"zerolinecolor\": \"#E1E5ED\"}, \"yaxis\": {\"anchor\": \"x\", \"domain\": [0.856, 1.0], \"gridcolor\": \"#E1E5ED\", \"showgrid\": false, \"tickfont\": {\"color\": \"#4D5663\"}, \"title\": {\"font\": {\"color\": \"#4D5663\"}, \"text\": \"\"}, \"zerolinecolor\": \"#E1E5ED\"}, \"yaxis10\": {\"anchor\": \"x10\", \"domain\": [0.6419999999999999, 0.7859999999999999], \"gridcolor\": \"#E1E5ED\", \"showgrid\": false, \"tickfont\": {\"color\": \"#4D5663\"}, \"title\": {\"font\": {\"color\": \"#4D5663\"}, \"text\": \"\"}, \"zerolinecolor\": \"#E1E5ED\"}, \"yaxis11\": {\"anchor\": \"x11\", \"domain\": [0.428, 0.572], \"gridcolor\": \"#E1E5ED\", \"showgrid\": false, \"tickfont\": {\"color\": \"#4D5663\"}, \"title\": {\"font\": {\"color\": \"#4D5663\"}, \"text\": \"\"}, \"zerolinecolor\": \"#E1E5ED\"}, \"yaxis12\": {\"anchor\": \"x12\", \"domain\": [0.428, 0.572], \"gridcolor\": \"#E1E5ED\", \"showgrid\": false, \"tickfont\": {\"color\": \"#4D5663\"}, \"title\": {\"font\": {\"color\": \"#4D5663\"}, \"text\": \"\"}, \"zerolinecolor\": \"#E1E5ED\"}, \"yaxis13\": {\"anchor\": \"x13\", \"domain\": [0.428, 0.572], \"gridcolor\": \"#E1E5ED\", \"showgrid\": false, \"tickfont\": {\"color\": \"#4D5663\"}, \"title\": {\"font\": {\"color\": \"#4D5663\"}, \"text\": \"\"}, \"zerolinecolor\": \"#E1E5ED\"}, \"yaxis14\": {\"anchor\": \"x14\", \"domain\": [0.428, 0.572], \"gridcolor\": \"#E1E5ED\", \"showgrid\": false, \"tickfont\": {\"color\": \"#4D5663\"}, \"title\": {\"font\": {\"color\": \"#4D5663\"}, \"text\": \"\"}, \"zerolinecolor\": \"#E1E5ED\"}, \"yaxis15\": {\"anchor\": \"x15\", \"domain\": [0.428, 0.572], \"gridcolor\": \"#E1E5ED\", \"showgrid\": false, \"tickfont\": {\"color\": \"#4D5663\"}, \"title\": {\"font\": {\"color\": \"#4D5663\"}, \"text\": \"\"}, \"zerolinecolor\": \"#E1E5ED\"}, \"yaxis16\": {\"anchor\": \"x16\", \"domain\": [0.214, 0.358], \"gridcolor\": \"#E1E5ED\", \"showgrid\": false, \"tickfont\": {\"color\": \"#4D5663\"}, \"title\": {\"font\": {\"color\": \"#4D5663\"}, \"text\": \"\"}, \"zerolinecolor\": \"#E1E5ED\"}, \"yaxis17\": {\"anchor\": \"x17\", \"domain\": [0.214, 0.358], \"gridcolor\": \"#E1E5ED\", \"showgrid\": false, \"tickfont\": {\"color\": \"#4D5663\"}, \"title\": {\"font\": {\"color\": \"#4D5663\"}, \"text\": \"\"}, \"zerolinecolor\": \"#E1E5ED\"}, \"yaxis18\": {\"anchor\": \"x18\", \"domain\": [0.214, 0.358], \"gridcolor\": \"#E1E5ED\", \"showgrid\": false, \"tickfont\": {\"color\": \"#4D5663\"}, \"title\": {\"font\": {\"color\": \"#4D5663\"}, \"text\": \"\"}, \"zerolinecolor\": \"#E1E5ED\"}, \"yaxis19\": {\"anchor\": \"x19\", \"domain\": [0.214, 0.358], \"gridcolor\": \"#E1E5ED\", \"showgrid\": false, \"tickfont\": {\"color\": \"#4D5663\"}, \"title\": {\"font\": {\"color\": \"#4D5663\"}, \"text\": \"\"}, \"zerolinecolor\": \"#E1E5ED\"}, \"yaxis2\": {\"anchor\": \"x2\", \"domain\": [0.856, 1.0], \"gridcolor\": \"#E1E5ED\", \"showgrid\": false, \"tickfont\": {\"color\": \"#4D5663\"}, \"title\": {\"font\": {\"color\": \"#4D5663\"}, \"text\": \"\"}, \"zerolinecolor\": \"#E1E5ED\"}, \"yaxis20\": {\"anchor\": \"x20\", \"domain\": [0.214, 0.358], \"gridcolor\": \"#E1E5ED\", \"showgrid\": false, \"tickfont\": {\"color\": \"#4D5663\"}, \"title\": {\"font\": {\"color\": \"#4D5663\"}, \"text\": \"\"}, \"zerolinecolor\": \"#E1E5ED\"}, \"yaxis21\": {\"anchor\": \"x21\", \"domain\": [0.0, 0.144], \"gridcolor\": \"#E1E5ED\", \"showgrid\": false, \"tickfont\": {\"color\": \"#4D5663\"}, \"title\": {\"font\": {\"color\": \"#4D5663\"}, \"text\": \"\"}, \"zerolinecolor\": \"#E1E5ED\"}, \"yaxis22\": {\"anchor\": \"x22\", \"domain\": [0.0, 0.144], \"gridcolor\": \"#E1E5ED\", \"showgrid\": false, \"tickfont\": {\"color\": \"#4D5663\"}, \"title\": {\"font\": {\"color\": \"#4D5663\"}, \"text\": \"\"}, \"zerolinecolor\": \"#E1E5ED\"}, \"yaxis23\": {\"anchor\": \"x23\", \"domain\": [0.0, 0.144], \"gridcolor\": \"#E1E5ED\", \"showgrid\": false, \"tickfont\": {\"color\": \"#4D5663\"}, \"title\": {\"font\": {\"color\": \"#4D5663\"}, \"text\": \"\"}, \"zerolinecolor\": \"#E1E5ED\"}, \"yaxis24\": {\"anchor\": \"x24\", \"domain\": [0.0, 0.144], \"gridcolor\": \"#E1E5ED\", \"showgrid\": false, \"tickfont\": {\"color\": \"#4D5663\"}, \"title\": {\"font\": {\"color\": \"#4D5663\"}, \"text\": \"\"}, \"zerolinecolor\": \"#E1E5ED\"}, \"yaxis25\": {\"anchor\": \"x25\", \"domain\": [0.0, 0.144], \"gridcolor\": \"#E1E5ED\", \"showgrid\": false, \"tickfont\": {\"color\": \"#4D5663\"}, \"title\": {\"font\": {\"color\": \"#4D5663\"}, \"text\": \"\"}, \"zerolinecolor\": \"#E1E5ED\"}, \"yaxis3\": {\"anchor\": \"x3\", \"domain\": [0.856, 1.0], \"gridcolor\": \"#E1E5ED\", \"showgrid\": false, \"tickfont\": {\"color\": \"#4D5663\"}, \"title\": {\"font\": {\"color\": \"#4D5663\"}, \"text\": \"\"}, \"zerolinecolor\": \"#E1E5ED\"}, \"yaxis4\": {\"anchor\": \"x4\", \"domain\": [0.856, 1.0], \"gridcolor\": \"#E1E5ED\", \"showgrid\": false, \"tickfont\": {\"color\": \"#4D5663\"}, \"title\": {\"font\": {\"color\": \"#4D5663\"}, \"text\": \"\"}, \"zerolinecolor\": \"#E1E5ED\"}, \"yaxis5\": {\"anchor\": \"x5\", \"domain\": [0.856, 1.0], \"gridcolor\": \"#E1E5ED\", \"showgrid\": false, \"tickfont\": {\"color\": \"#4D5663\"}, \"title\": {\"font\": {\"color\": \"#4D5663\"}, \"text\": \"\"}, \"zerolinecolor\": \"#E1E5ED\"}, \"yaxis6\": {\"anchor\": \"x6\", \"domain\": [0.6419999999999999, 0.7859999999999999], \"gridcolor\": \"#E1E5ED\", \"showgrid\": false, \"tickfont\": {\"color\": \"#4D5663\"}, \"title\": {\"font\": {\"color\": \"#4D5663\"}, \"text\": \"\"}, \"zerolinecolor\": \"#E1E5ED\"}, \"yaxis7\": {\"anchor\": \"x7\", \"domain\": [0.6419999999999999, 0.7859999999999999], \"gridcolor\": \"#E1E5ED\", \"showgrid\": false, \"tickfont\": {\"color\": \"#4D5663\"}, \"title\": {\"font\": {\"color\": \"#4D5663\"}, \"text\": \"\"}, \"zerolinecolor\": \"#E1E5ED\"}, \"yaxis8\": {\"anchor\": \"x8\", \"domain\": [0.6419999999999999, 0.7859999999999999], \"gridcolor\": \"#E1E5ED\", \"showgrid\": false, \"tickfont\": {\"color\": \"#4D5663\"}, \"title\": {\"font\": {\"color\": \"#4D5663\"}, \"text\": \"\"}, \"zerolinecolor\": \"#E1E5ED\"}, \"yaxis9\": {\"anchor\": \"x9\", \"domain\": [0.6419999999999999, 0.7859999999999999], \"gridcolor\": \"#E1E5ED\", \"showgrid\": false, \"tickfont\": {\"color\": \"#4D5663\"}, \"title\": {\"font\": {\"color\": \"#4D5663\"}, \"text\": \"\"}, \"zerolinecolor\": \"#E1E5ED\"}},\n",
       "                        {\"showLink\": true, \"linkText\": \"Export to plot.ly\", \"plotlyServerURL\": \"https://plot.ly\", \"responsive\": true}\n",
       "                    ).then(function(){\n",
       "                            \n",
       "var gd = document.getElementById('b2fb7e28-04ce-4c13-b782-a59fb192dcdd');\n",
       "var x = new MutationObserver(function (mutations, observer) {{\n",
       "        var display = window.getComputedStyle(gd).display;\n",
       "        if (!display || display === 'none') {{\n",
       "            console.log([gd, 'removed!']);\n",
       "            Plotly.purge(gd);\n",
       "            observer.disconnect();\n",
       "        }}\n",
       "}});\n",
       "\n",
       "// Listen for the removal of the full notebook cells\n",
       "var notebookContainer = gd.closest('#notebook-container');\n",
       "if (notebookContainer) {{\n",
       "    x.observe(notebookContainer, {childList: true});\n",
       "}}\n",
       "\n",
       "// Listen for the clearing of the current output cell\n",
       "var outputEl = gd.closest('.output');\n",
       "if (outputEl) {{\n",
       "    x.observe(outputEl, {childList: true});\n",
       "}}\n",
       "\n",
       "                        })\n",
       "                };\n",
       "                });\n",
       "            </script>\n",
       "        </div>"
      ]
     },
     "metadata": {},
     "output_type": "display_data"
    }
   ],
   "source": [
    "df.scatter_matrix()"
   ]
  },
  {
   "cell_type": "code",
   "execution_count": 51,
   "metadata": {},
   "outputs": [
    {
     "data": {
      "application/vnd.plotly.v1+json": {
       "config": {
        "linkText": "Export to plot.ly",
        "plotlyServerURL": "https://plot.ly",
        "showLink": true
       },
       "data": [
        {
         "marker": {
          "color": "rgba(255, 153, 51, 0.6)",
          "line": {
           "color": "rgba(255, 153, 51, 1.0)",
           "width": 1
          }
         },
         "name": "2015-01-05 00:00:00",
         "orientation": "v",
         "text": "",
         "type": "bar",
         "x": [
          "IBM",
          "MSFT",
          "GOOG",
          "VERZ",
          "APPL"
         ],
         "y": [
          -1.1698265723057135,
          -1.2953856887317763,
          0.060047799161180415,
          0.7226077593218854,
          0.3554705098107952
         ]
        }
       ],
       "layout": {
        "bargap": 0.1,
        "legend": {
         "bgcolor": "#F5F6F9",
         "font": {
          "color": "#4D5663"
         }
        },
        "paper_bgcolor": "#F5F6F9",
        "plot_bgcolor": "#F5F6F9",
        "template": {
         "data": {
          "bar": [
           {
            "error_x": {
             "color": "#2a3f5f"
            },
            "error_y": {
             "color": "#2a3f5f"
            },
            "marker": {
             "line": {
              "color": "#E5ECF6",
              "width": 0.5
             }
            },
            "type": "bar"
           }
          ],
          "barpolar": [
           {
            "marker": {
             "line": {
              "color": "#E5ECF6",
              "width": 0.5
             }
            },
            "type": "barpolar"
           }
          ],
          "carpet": [
           {
            "aaxis": {
             "endlinecolor": "#2a3f5f",
             "gridcolor": "white",
             "linecolor": "white",
             "minorgridcolor": "white",
             "startlinecolor": "#2a3f5f"
            },
            "baxis": {
             "endlinecolor": "#2a3f5f",
             "gridcolor": "white",
             "linecolor": "white",
             "minorgridcolor": "white",
             "startlinecolor": "#2a3f5f"
            },
            "type": "carpet"
           }
          ],
          "choropleth": [
           {
            "colorbar": {
             "outlinewidth": 0,
             "ticks": ""
            },
            "type": "choropleth"
           }
          ],
          "contour": [
           {
            "colorbar": {
             "outlinewidth": 0,
             "ticks": ""
            },
            "colorscale": [
             [
              0,
              "#0d0887"
             ],
             [
              0.1111111111111111,
              "#46039f"
             ],
             [
              0.2222222222222222,
              "#7201a8"
             ],
             [
              0.3333333333333333,
              "#9c179e"
             ],
             [
              0.4444444444444444,
              "#bd3786"
             ],
             [
              0.5555555555555556,
              "#d8576b"
             ],
             [
              0.6666666666666666,
              "#ed7953"
             ],
             [
              0.7777777777777778,
              "#fb9f3a"
             ],
             [
              0.8888888888888888,
              "#fdca26"
             ],
             [
              1,
              "#f0f921"
             ]
            ],
            "type": "contour"
           }
          ],
          "contourcarpet": [
           {
            "colorbar": {
             "outlinewidth": 0,
             "ticks": ""
            },
            "type": "contourcarpet"
           }
          ],
          "heatmap": [
           {
            "colorbar": {
             "outlinewidth": 0,
             "ticks": ""
            },
            "colorscale": [
             [
              0,
              "#0d0887"
             ],
             [
              0.1111111111111111,
              "#46039f"
             ],
             [
              0.2222222222222222,
              "#7201a8"
             ],
             [
              0.3333333333333333,
              "#9c179e"
             ],
             [
              0.4444444444444444,
              "#bd3786"
             ],
             [
              0.5555555555555556,
              "#d8576b"
             ],
             [
              0.6666666666666666,
              "#ed7953"
             ],
             [
              0.7777777777777778,
              "#fb9f3a"
             ],
             [
              0.8888888888888888,
              "#fdca26"
             ],
             [
              1,
              "#f0f921"
             ]
            ],
            "type": "heatmap"
           }
          ],
          "heatmapgl": [
           {
            "colorbar": {
             "outlinewidth": 0,
             "ticks": ""
            },
            "colorscale": [
             [
              0,
              "#0d0887"
             ],
             [
              0.1111111111111111,
              "#46039f"
             ],
             [
              0.2222222222222222,
              "#7201a8"
             ],
             [
              0.3333333333333333,
              "#9c179e"
             ],
             [
              0.4444444444444444,
              "#bd3786"
             ],
             [
              0.5555555555555556,
              "#d8576b"
             ],
             [
              0.6666666666666666,
              "#ed7953"
             ],
             [
              0.7777777777777778,
              "#fb9f3a"
             ],
             [
              0.8888888888888888,
              "#fdca26"
             ],
             [
              1,
              "#f0f921"
             ]
            ],
            "type": "heatmapgl"
           }
          ],
          "histogram": [
           {
            "marker": {
             "colorbar": {
              "outlinewidth": 0,
              "ticks": ""
             }
            },
            "type": "histogram"
           }
          ],
          "histogram2d": [
           {
            "colorbar": {
             "outlinewidth": 0,
             "ticks": ""
            },
            "colorscale": [
             [
              0,
              "#0d0887"
             ],
             [
              0.1111111111111111,
              "#46039f"
             ],
             [
              0.2222222222222222,
              "#7201a8"
             ],
             [
              0.3333333333333333,
              "#9c179e"
             ],
             [
              0.4444444444444444,
              "#bd3786"
             ],
             [
              0.5555555555555556,
              "#d8576b"
             ],
             [
              0.6666666666666666,
              "#ed7953"
             ],
             [
              0.7777777777777778,
              "#fb9f3a"
             ],
             [
              0.8888888888888888,
              "#fdca26"
             ],
             [
              1,
              "#f0f921"
             ]
            ],
            "type": "histogram2d"
           }
          ],
          "histogram2dcontour": [
           {
            "colorbar": {
             "outlinewidth": 0,
             "ticks": ""
            },
            "colorscale": [
             [
              0,
              "#0d0887"
             ],
             [
              0.1111111111111111,
              "#46039f"
             ],
             [
              0.2222222222222222,
              "#7201a8"
             ],
             [
              0.3333333333333333,
              "#9c179e"
             ],
             [
              0.4444444444444444,
              "#bd3786"
             ],
             [
              0.5555555555555556,
              "#d8576b"
             ],
             [
              0.6666666666666666,
              "#ed7953"
             ],
             [
              0.7777777777777778,
              "#fb9f3a"
             ],
             [
              0.8888888888888888,
              "#fdca26"
             ],
             [
              1,
              "#f0f921"
             ]
            ],
            "type": "histogram2dcontour"
           }
          ],
          "mesh3d": [
           {
            "colorbar": {
             "outlinewidth": 0,
             "ticks": ""
            },
            "type": "mesh3d"
           }
          ],
          "parcoords": [
           {
            "line": {
             "colorbar": {
              "outlinewidth": 0,
              "ticks": ""
             }
            },
            "type": "parcoords"
           }
          ],
          "pie": [
           {
            "automargin": true,
            "type": "pie"
           }
          ],
          "scatter": [
           {
            "marker": {
             "colorbar": {
              "outlinewidth": 0,
              "ticks": ""
             }
            },
            "type": "scatter"
           }
          ],
          "scatter3d": [
           {
            "line": {
             "colorbar": {
              "outlinewidth": 0,
              "ticks": ""
             }
            },
            "marker": {
             "colorbar": {
              "outlinewidth": 0,
              "ticks": ""
             }
            },
            "type": "scatter3d"
           }
          ],
          "scattercarpet": [
           {
            "marker": {
             "colorbar": {
              "outlinewidth": 0,
              "ticks": ""
             }
            },
            "type": "scattercarpet"
           }
          ],
          "scattergeo": [
           {
            "marker": {
             "colorbar": {
              "outlinewidth": 0,
              "ticks": ""
             }
            },
            "type": "scattergeo"
           }
          ],
          "scattergl": [
           {
            "marker": {
             "colorbar": {
              "outlinewidth": 0,
              "ticks": ""
             }
            },
            "type": "scattergl"
           }
          ],
          "scattermapbox": [
           {
            "marker": {
             "colorbar": {
              "outlinewidth": 0,
              "ticks": ""
             }
            },
            "type": "scattermapbox"
           }
          ],
          "scatterpolar": [
           {
            "marker": {
             "colorbar": {
              "outlinewidth": 0,
              "ticks": ""
             }
            },
            "type": "scatterpolar"
           }
          ],
          "scatterpolargl": [
           {
            "marker": {
             "colorbar": {
              "outlinewidth": 0,
              "ticks": ""
             }
            },
            "type": "scatterpolargl"
           }
          ],
          "scatterternary": [
           {
            "marker": {
             "colorbar": {
              "outlinewidth": 0,
              "ticks": ""
             }
            },
            "type": "scatterternary"
           }
          ],
          "surface": [
           {
            "colorbar": {
             "outlinewidth": 0,
             "ticks": ""
            },
            "colorscale": [
             [
              0,
              "#0d0887"
             ],
             [
              0.1111111111111111,
              "#46039f"
             ],
             [
              0.2222222222222222,
              "#7201a8"
             ],
             [
              0.3333333333333333,
              "#9c179e"
             ],
             [
              0.4444444444444444,
              "#bd3786"
             ],
             [
              0.5555555555555556,
              "#d8576b"
             ],
             [
              0.6666666666666666,
              "#ed7953"
             ],
             [
              0.7777777777777778,
              "#fb9f3a"
             ],
             [
              0.8888888888888888,
              "#fdca26"
             ],
             [
              1,
              "#f0f921"
             ]
            ],
            "type": "surface"
           }
          ],
          "table": [
           {
            "cells": {
             "fill": {
              "color": "#EBF0F8"
             },
             "line": {
              "color": "white"
             }
            },
            "header": {
             "fill": {
              "color": "#C8D4E3"
             },
             "line": {
              "color": "white"
             }
            },
            "type": "table"
           }
          ]
         },
         "layout": {
          "annotationdefaults": {
           "arrowcolor": "#2a3f5f",
           "arrowhead": 0,
           "arrowwidth": 1
          },
          "coloraxis": {
           "colorbar": {
            "outlinewidth": 0,
            "ticks": ""
           }
          },
          "colorscale": {
           "diverging": [
            [
             0,
             "#8e0152"
            ],
            [
             0.1,
             "#c51b7d"
            ],
            [
             0.2,
             "#de77ae"
            ],
            [
             0.3,
             "#f1b6da"
            ],
            [
             0.4,
             "#fde0ef"
            ],
            [
             0.5,
             "#f7f7f7"
            ],
            [
             0.6,
             "#e6f5d0"
            ],
            [
             0.7,
             "#b8e186"
            ],
            [
             0.8,
             "#7fbc41"
            ],
            [
             0.9,
             "#4d9221"
            ],
            [
             1,
             "#276419"
            ]
           ],
           "sequential": [
            [
             0,
             "#0d0887"
            ],
            [
             0.1111111111111111,
             "#46039f"
            ],
            [
             0.2222222222222222,
             "#7201a8"
            ],
            [
             0.3333333333333333,
             "#9c179e"
            ],
            [
             0.4444444444444444,
             "#bd3786"
            ],
            [
             0.5555555555555556,
             "#d8576b"
            ],
            [
             0.6666666666666666,
             "#ed7953"
            ],
            [
             0.7777777777777778,
             "#fb9f3a"
            ],
            [
             0.8888888888888888,
             "#fdca26"
            ],
            [
             1,
             "#f0f921"
            ]
           ],
           "sequentialminus": [
            [
             0,
             "#0d0887"
            ],
            [
             0.1111111111111111,
             "#46039f"
            ],
            [
             0.2222222222222222,
             "#7201a8"
            ],
            [
             0.3333333333333333,
             "#9c179e"
            ],
            [
             0.4444444444444444,
             "#bd3786"
            ],
            [
             0.5555555555555556,
             "#d8576b"
            ],
            [
             0.6666666666666666,
             "#ed7953"
            ],
            [
             0.7777777777777778,
             "#fb9f3a"
            ],
            [
             0.8888888888888888,
             "#fdca26"
            ],
            [
             1,
             "#f0f921"
            ]
           ]
          },
          "colorway": [
           "#636efa",
           "#EF553B",
           "#00cc96",
           "#ab63fa",
           "#FFA15A",
           "#19d3f3",
           "#FF6692",
           "#B6E880",
           "#FF97FF",
           "#FECB52"
          ],
          "font": {
           "color": "#2a3f5f"
          },
          "geo": {
           "bgcolor": "white",
           "lakecolor": "white",
           "landcolor": "#E5ECF6",
           "showlakes": true,
           "showland": true,
           "subunitcolor": "white"
          },
          "hoverlabel": {
           "align": "left"
          },
          "hovermode": "closest",
          "mapbox": {
           "style": "light"
          },
          "paper_bgcolor": "white",
          "plot_bgcolor": "#E5ECF6",
          "polar": {
           "angularaxis": {
            "gridcolor": "white",
            "linecolor": "white",
            "ticks": ""
           },
           "bgcolor": "#E5ECF6",
           "radialaxis": {
            "gridcolor": "white",
            "linecolor": "white",
            "ticks": ""
           }
          },
          "scene": {
           "xaxis": {
            "backgroundcolor": "#E5ECF6",
            "gridcolor": "white",
            "gridwidth": 2,
            "linecolor": "white",
            "showbackground": true,
            "ticks": "",
            "zerolinecolor": "white"
           },
           "yaxis": {
            "backgroundcolor": "#E5ECF6",
            "gridcolor": "white",
            "gridwidth": 2,
            "linecolor": "white",
            "showbackground": true,
            "ticks": "",
            "zerolinecolor": "white"
           },
           "zaxis": {
            "backgroundcolor": "#E5ECF6",
            "gridcolor": "white",
            "gridwidth": 2,
            "linecolor": "white",
            "showbackground": true,
            "ticks": "",
            "zerolinecolor": "white"
           }
          },
          "shapedefaults": {
           "line": {
            "color": "#2a3f5f"
           }
          },
          "ternary": {
           "aaxis": {
            "gridcolor": "white",
            "linecolor": "white",
            "ticks": ""
           },
           "baxis": {
            "gridcolor": "white",
            "linecolor": "white",
            "ticks": ""
           },
           "bgcolor": "#E5ECF6",
           "caxis": {
            "gridcolor": "white",
            "linecolor": "white",
            "ticks": ""
           }
          },
          "title": {
           "x": 0.05
          },
          "xaxis": {
           "automargin": true,
           "gridcolor": "white",
           "linecolor": "white",
           "ticks": "",
           "title": {
            "standoff": 15
           },
           "zerolinecolor": "white",
           "zerolinewidth": 2
          },
          "yaxis": {
           "automargin": true,
           "gridcolor": "white",
           "linecolor": "white",
           "ticks": "",
           "title": {
            "standoff": 15
           },
           "zerolinecolor": "white",
           "zerolinewidth": 2
          }
         }
        },
        "title": {
         "font": {
          "color": "#4D5663"
         }
        },
        "xaxis": {
         "gridcolor": "#E1E5ED",
         "showgrid": true,
         "tickfont": {
          "color": "#4D5663"
         },
         "title": {
          "font": {
           "color": "#4D5663"
          },
          "text": ""
         },
         "zerolinecolor": "#E1E5ED"
        },
        "yaxis": {
         "gridcolor": "#E1E5ED",
         "showgrid": true,
         "tickfont": {
          "color": "#4D5663"
         },
         "title": {
          "font": {
           "color": "#4D5663"
          },
          "text": ""
         },
         "zerolinecolor": "#E1E5ED"
        }
       }
      },
      "text/html": [
       "<div>\n",
       "        \n",
       "        \n",
       "            <div id=\"63093c62-f20e-4a40-bd36-c239d5251389\" class=\"plotly-graph-div\" style=\"height:525px; width:100%;\"></div>\n",
       "            <script type=\"text/javascript\">\n",
       "                require([\"plotly\"], function(Plotly) {\n",
       "                    window.PLOTLYENV=window.PLOTLYENV || {};\n",
       "                    window.PLOTLYENV.BASE_URL='https://plot.ly';\n",
       "                    \n",
       "                if (document.getElementById(\"63093c62-f20e-4a40-bd36-c239d5251389\")) {\n",
       "                    Plotly.newPlot(\n",
       "                        '63093c62-f20e-4a40-bd36-c239d5251389',\n",
       "                        [{\"marker\": {\"color\": \"rgba(255, 153, 51, 0.6)\", \"line\": {\"color\": \"rgba(255, 153, 51, 1.0)\", \"width\": 1}}, \"name\": \"2015-01-05 00:00:00\", \"orientation\": \"v\", \"text\": \"\", \"type\": \"bar\", \"x\": [\"IBM\", \"MSFT\", \"GOOG\", \"VERZ\", \"APPL\"], \"y\": [-1.1698265723057135, -1.2953856887317763, 0.060047799161180415, 0.7226077593218854, 0.3554705098107952]}],\n",
       "                        {\"bargap\": 0.1, \"legend\": {\"bgcolor\": \"#F5F6F9\", \"font\": {\"color\": \"#4D5663\"}}, \"paper_bgcolor\": \"#F5F6F9\", \"plot_bgcolor\": \"#F5F6F9\", \"template\": {\"data\": {\"bar\": [{\"error_x\": {\"color\": \"#2a3f5f\"}, \"error_y\": {\"color\": \"#2a3f5f\"}, \"marker\": {\"line\": {\"color\": \"#E5ECF6\", \"width\": 0.5}}, \"type\": \"bar\"}], \"barpolar\": [{\"marker\": {\"line\": {\"color\": \"#E5ECF6\", \"width\": 0.5}}, \"type\": \"barpolar\"}], \"carpet\": [{\"aaxis\": {\"endlinecolor\": \"#2a3f5f\", \"gridcolor\": \"white\", \"linecolor\": \"white\", \"minorgridcolor\": \"white\", \"startlinecolor\": \"#2a3f5f\"}, \"baxis\": {\"endlinecolor\": \"#2a3f5f\", \"gridcolor\": \"white\", \"linecolor\": \"white\", \"minorgridcolor\": \"white\", \"startlinecolor\": \"#2a3f5f\"}, \"type\": \"carpet\"}], \"choropleth\": [{\"colorbar\": {\"outlinewidth\": 0, \"ticks\": \"\"}, \"type\": \"choropleth\"}], \"contour\": [{\"colorbar\": {\"outlinewidth\": 0, \"ticks\": \"\"}, \"colorscale\": [[0.0, \"#0d0887\"], [0.1111111111111111, \"#46039f\"], [0.2222222222222222, \"#7201a8\"], [0.3333333333333333, \"#9c179e\"], [0.4444444444444444, \"#bd3786\"], [0.5555555555555556, \"#d8576b\"], [0.6666666666666666, \"#ed7953\"], [0.7777777777777778, \"#fb9f3a\"], [0.8888888888888888, \"#fdca26\"], [1.0, \"#f0f921\"]], \"type\": \"contour\"}], \"contourcarpet\": [{\"colorbar\": {\"outlinewidth\": 0, \"ticks\": \"\"}, \"type\": \"contourcarpet\"}], \"heatmap\": [{\"colorbar\": {\"outlinewidth\": 0, \"ticks\": \"\"}, \"colorscale\": [[0.0, \"#0d0887\"], [0.1111111111111111, \"#46039f\"], [0.2222222222222222, \"#7201a8\"], [0.3333333333333333, \"#9c179e\"], [0.4444444444444444, \"#bd3786\"], [0.5555555555555556, \"#d8576b\"], [0.6666666666666666, \"#ed7953\"], [0.7777777777777778, \"#fb9f3a\"], [0.8888888888888888, \"#fdca26\"], [1.0, \"#f0f921\"]], \"type\": \"heatmap\"}], \"heatmapgl\": [{\"colorbar\": {\"outlinewidth\": 0, \"ticks\": \"\"}, \"colorscale\": [[0.0, \"#0d0887\"], [0.1111111111111111, \"#46039f\"], [0.2222222222222222, \"#7201a8\"], [0.3333333333333333, \"#9c179e\"], [0.4444444444444444, \"#bd3786\"], [0.5555555555555556, \"#d8576b\"], [0.6666666666666666, \"#ed7953\"], [0.7777777777777778, \"#fb9f3a\"], [0.8888888888888888, \"#fdca26\"], [1.0, \"#f0f921\"]], \"type\": \"heatmapgl\"}], \"histogram\": [{\"marker\": {\"colorbar\": {\"outlinewidth\": 0, \"ticks\": \"\"}}, \"type\": \"histogram\"}], \"histogram2d\": [{\"colorbar\": {\"outlinewidth\": 0, \"ticks\": \"\"}, \"colorscale\": [[0.0, \"#0d0887\"], [0.1111111111111111, \"#46039f\"], [0.2222222222222222, \"#7201a8\"], [0.3333333333333333, \"#9c179e\"], [0.4444444444444444, \"#bd3786\"], [0.5555555555555556, \"#d8576b\"], [0.6666666666666666, \"#ed7953\"], [0.7777777777777778, \"#fb9f3a\"], [0.8888888888888888, \"#fdca26\"], [1.0, \"#f0f921\"]], \"type\": \"histogram2d\"}], \"histogram2dcontour\": [{\"colorbar\": {\"outlinewidth\": 0, \"ticks\": \"\"}, \"colorscale\": [[0.0, \"#0d0887\"], [0.1111111111111111, \"#46039f\"], [0.2222222222222222, \"#7201a8\"], [0.3333333333333333, \"#9c179e\"], [0.4444444444444444, \"#bd3786\"], [0.5555555555555556, \"#d8576b\"], [0.6666666666666666, \"#ed7953\"], [0.7777777777777778, \"#fb9f3a\"], [0.8888888888888888, \"#fdca26\"], [1.0, \"#f0f921\"]], \"type\": \"histogram2dcontour\"}], \"mesh3d\": [{\"colorbar\": {\"outlinewidth\": 0, \"ticks\": \"\"}, \"type\": \"mesh3d\"}], \"parcoords\": [{\"line\": {\"colorbar\": {\"outlinewidth\": 0, \"ticks\": \"\"}}, \"type\": \"parcoords\"}], \"pie\": [{\"automargin\": true, \"type\": \"pie\"}], \"scatter\": [{\"marker\": {\"colorbar\": {\"outlinewidth\": 0, \"ticks\": \"\"}}, \"type\": \"scatter\"}], \"scatter3d\": [{\"line\": {\"colorbar\": {\"outlinewidth\": 0, \"ticks\": \"\"}}, \"marker\": {\"colorbar\": {\"outlinewidth\": 0, \"ticks\": \"\"}}, \"type\": \"scatter3d\"}], \"scattercarpet\": [{\"marker\": {\"colorbar\": {\"outlinewidth\": 0, \"ticks\": \"\"}}, \"type\": \"scattercarpet\"}], \"scattergeo\": [{\"marker\": {\"colorbar\": {\"outlinewidth\": 0, \"ticks\": \"\"}}, \"type\": \"scattergeo\"}], \"scattergl\": [{\"marker\": {\"colorbar\": {\"outlinewidth\": 0, \"ticks\": \"\"}}, \"type\": \"scattergl\"}], \"scattermapbox\": [{\"marker\": {\"colorbar\": {\"outlinewidth\": 0, \"ticks\": \"\"}}, \"type\": \"scattermapbox\"}], \"scatterpolar\": [{\"marker\": {\"colorbar\": {\"outlinewidth\": 0, \"ticks\": \"\"}}, \"type\": \"scatterpolar\"}], \"scatterpolargl\": [{\"marker\": {\"colorbar\": {\"outlinewidth\": 0, \"ticks\": \"\"}}, \"type\": \"scatterpolargl\"}], \"scatterternary\": [{\"marker\": {\"colorbar\": {\"outlinewidth\": 0, \"ticks\": \"\"}}, \"type\": \"scatterternary\"}], \"surface\": [{\"colorbar\": {\"outlinewidth\": 0, \"ticks\": \"\"}, \"colorscale\": [[0.0, \"#0d0887\"], [0.1111111111111111, \"#46039f\"], [0.2222222222222222, \"#7201a8\"], [0.3333333333333333, \"#9c179e\"], [0.4444444444444444, \"#bd3786\"], [0.5555555555555556, \"#d8576b\"], [0.6666666666666666, \"#ed7953\"], [0.7777777777777778, \"#fb9f3a\"], [0.8888888888888888, \"#fdca26\"], [1.0, \"#f0f921\"]], \"type\": \"surface\"}], \"table\": [{\"cells\": {\"fill\": {\"color\": \"#EBF0F8\"}, \"line\": {\"color\": \"white\"}}, \"header\": {\"fill\": {\"color\": \"#C8D4E3\"}, \"line\": {\"color\": \"white\"}}, \"type\": \"table\"}]}, \"layout\": {\"annotationdefaults\": {\"arrowcolor\": \"#2a3f5f\", \"arrowhead\": 0, \"arrowwidth\": 1}, \"coloraxis\": {\"colorbar\": {\"outlinewidth\": 0, \"ticks\": \"\"}}, \"colorscale\": {\"diverging\": [[0, \"#8e0152\"], [0.1, \"#c51b7d\"], [0.2, \"#de77ae\"], [0.3, \"#f1b6da\"], [0.4, \"#fde0ef\"], [0.5, \"#f7f7f7\"], [0.6, \"#e6f5d0\"], [0.7, \"#b8e186\"], [0.8, \"#7fbc41\"], [0.9, \"#4d9221\"], [1, \"#276419\"]], \"sequential\": [[0.0, \"#0d0887\"], [0.1111111111111111, \"#46039f\"], [0.2222222222222222, \"#7201a8\"], [0.3333333333333333, \"#9c179e\"], [0.4444444444444444, \"#bd3786\"], [0.5555555555555556, \"#d8576b\"], [0.6666666666666666, \"#ed7953\"], [0.7777777777777778, \"#fb9f3a\"], [0.8888888888888888, \"#fdca26\"], [1.0, \"#f0f921\"]], \"sequentialminus\": [[0.0, \"#0d0887\"], [0.1111111111111111, \"#46039f\"], [0.2222222222222222, \"#7201a8\"], [0.3333333333333333, \"#9c179e\"], [0.4444444444444444, \"#bd3786\"], [0.5555555555555556, \"#d8576b\"], [0.6666666666666666, \"#ed7953\"], [0.7777777777777778, \"#fb9f3a\"], [0.8888888888888888, \"#fdca26\"], [1.0, \"#f0f921\"]]}, \"colorway\": [\"#636efa\", \"#EF553B\", \"#00cc96\", \"#ab63fa\", \"#FFA15A\", \"#19d3f3\", \"#FF6692\", \"#B6E880\", \"#FF97FF\", \"#FECB52\"], \"font\": {\"color\": \"#2a3f5f\"}, \"geo\": {\"bgcolor\": \"white\", \"lakecolor\": \"white\", \"landcolor\": \"#E5ECF6\", \"showlakes\": true, \"showland\": true, \"subunitcolor\": \"white\"}, \"hoverlabel\": {\"align\": \"left\"}, \"hovermode\": \"closest\", \"mapbox\": {\"style\": \"light\"}, \"paper_bgcolor\": \"white\", \"plot_bgcolor\": \"#E5ECF6\", \"polar\": {\"angularaxis\": {\"gridcolor\": \"white\", \"linecolor\": \"white\", \"ticks\": \"\"}, \"bgcolor\": \"#E5ECF6\", \"radialaxis\": {\"gridcolor\": \"white\", \"linecolor\": \"white\", \"ticks\": \"\"}}, \"scene\": {\"xaxis\": {\"backgroundcolor\": \"#E5ECF6\", \"gridcolor\": \"white\", \"gridwidth\": 2, \"linecolor\": \"white\", \"showbackground\": true, \"ticks\": \"\", \"zerolinecolor\": \"white\"}, \"yaxis\": {\"backgroundcolor\": \"#E5ECF6\", \"gridcolor\": \"white\", \"gridwidth\": 2, \"linecolor\": \"white\", \"showbackground\": true, \"ticks\": \"\", \"zerolinecolor\": \"white\"}, \"zaxis\": {\"backgroundcolor\": \"#E5ECF6\", \"gridcolor\": \"white\", \"gridwidth\": 2, \"linecolor\": \"white\", \"showbackground\": true, \"ticks\": \"\", \"zerolinecolor\": \"white\"}}, \"shapedefaults\": {\"line\": {\"color\": \"#2a3f5f\"}}, \"ternary\": {\"aaxis\": {\"gridcolor\": \"white\", \"linecolor\": \"white\", \"ticks\": \"\"}, \"baxis\": {\"gridcolor\": \"white\", \"linecolor\": \"white\", \"ticks\": \"\"}, \"bgcolor\": \"#E5ECF6\", \"caxis\": {\"gridcolor\": \"white\", \"linecolor\": \"white\", \"ticks\": \"\"}}, \"title\": {\"x\": 0.05}, \"xaxis\": {\"automargin\": true, \"gridcolor\": \"white\", \"linecolor\": \"white\", \"ticks\": \"\", \"title\": {\"standoff\": 15}, \"zerolinecolor\": \"white\", \"zerolinewidth\": 2}, \"yaxis\": {\"automargin\": true, \"gridcolor\": \"white\", \"linecolor\": \"white\", \"ticks\": \"\", \"title\": {\"standoff\": 15}, \"zerolinecolor\": \"white\", \"zerolinewidth\": 2}}}, \"title\": {\"font\": {\"color\": \"#4D5663\"}}, \"xaxis\": {\"gridcolor\": \"#E1E5ED\", \"showgrid\": true, \"tickfont\": {\"color\": \"#4D5663\"}, \"title\": {\"font\": {\"color\": \"#4D5663\"}, \"text\": \"\"}, \"zerolinecolor\": \"#E1E5ED\"}, \"yaxis\": {\"gridcolor\": \"#E1E5ED\", \"showgrid\": true, \"tickfont\": {\"color\": \"#4D5663\"}, \"title\": {\"font\": {\"color\": \"#4D5663\"}, \"text\": \"\"}, \"zerolinecolor\": \"#E1E5ED\"}},\n",
       "                        {\"showLink\": true, \"linkText\": \"Export to plot.ly\", \"plotlyServerURL\": \"https://plot.ly\", \"responsive\": true}\n",
       "                    ).then(function(){\n",
       "                            \n",
       "var gd = document.getElementById('63093c62-f20e-4a40-bd36-c239d5251389');\n",
       "var x = new MutationObserver(function (mutations, observer) {{\n",
       "        var display = window.getComputedStyle(gd).display;\n",
       "        if (!display || display === 'none') {{\n",
       "            console.log([gd, 'removed!']);\n",
       "            Plotly.purge(gd);\n",
       "            observer.disconnect();\n",
       "        }}\n",
       "}});\n",
       "\n",
       "// Listen for the removal of the full notebook cells\n",
       "var notebookContainer = gd.closest('#notebook-container');\n",
       "if (notebookContainer) {{\n",
       "    x.observe(notebookContainer, {childList: true});\n",
       "}}\n",
       "\n",
       "// Listen for the clearing of the current output cell\n",
       "var outputEl = gd.closest('.output');\n",
       "if (outputEl) {{\n",
       "    x.observe(outputEl, {childList: true});\n",
       "}}\n",
       "\n",
       "                        })\n",
       "                };\n",
       "                });\n",
       "            </script>\n",
       "        </div>"
      ]
     },
     "metadata": {},
     "output_type": "display_data"
    }
   ],
   "source": [
    "df.iloc[4].iplot(kind='bar',bargap=.1,size=7)"
   ]
  },
  {
   "cell_type": "code",
   "execution_count": 53,
   "metadata": {},
   "outputs": [
    {
     "data": {
      "application/vnd.plotly.v1+json": {
       "config": {
        "linkText": "Export to plot.ly",
        "plotlyServerURL": "https://plot.ly",
        "showLink": true
       },
       "data": [
        {
         "marker": {
          "color": "rgba(255, 153, 51, 0.6)",
          "line": {
           "color": "rgba(255, 153, 51, 1.0)",
           "width": 1
          }
         },
         "name": "IBM",
         "orientation": "v",
         "text": "",
         "type": "bar",
         "x": [
          "2015-01-01",
          "2015-01-02",
          "2015-01-03",
          "2015-01-04",
          "2015-01-05",
          "2015-01-06",
          "2015-01-07",
          "2015-01-08",
          "2015-01-09",
          "2015-01-10",
          "2015-01-11",
          "2015-01-12",
          "2015-01-13",
          "2015-01-14",
          "2015-01-15",
          "2015-01-16",
          "2015-01-17",
          "2015-01-18",
          "2015-01-19",
          "2015-01-20",
          "2015-01-21",
          "2015-01-22",
          "2015-01-23",
          "2015-01-24",
          "2015-01-25",
          "2015-01-26",
          "2015-01-27",
          "2015-01-28",
          "2015-01-29",
          "2015-01-30",
          "2015-01-31",
          "2015-02-01",
          "2015-02-02",
          "2015-02-03",
          "2015-02-04",
          "2015-02-05",
          "2015-02-06",
          "2015-02-07",
          "2015-02-08",
          "2015-02-09",
          "2015-02-10",
          "2015-02-11",
          "2015-02-12",
          "2015-02-13",
          "2015-02-14",
          "2015-02-15",
          "2015-02-16",
          "2015-02-17",
          "2015-02-18",
          "2015-02-19",
          "2015-02-20",
          "2015-02-21",
          "2015-02-22",
          "2015-02-23",
          "2015-02-24",
          "2015-02-25",
          "2015-02-26",
          "2015-02-27",
          "2015-02-28",
          "2015-03-01",
          "2015-03-02",
          "2015-03-03",
          "2015-03-04",
          "2015-03-05",
          "2015-03-06",
          "2015-03-07",
          "2015-03-08",
          "2015-03-09",
          "2015-03-10",
          "2015-03-11",
          "2015-03-12",
          "2015-03-13",
          "2015-03-14",
          "2015-03-15",
          "2015-03-16",
          "2015-03-17",
          "2015-03-18",
          "2015-03-19",
          "2015-03-20",
          "2015-03-21",
          "2015-03-22",
          "2015-03-23",
          "2015-03-24",
          "2015-03-25",
          "2015-03-26",
          "2015-03-27",
          "2015-03-28",
          "2015-03-29",
          "2015-03-30",
          "2015-03-31",
          "2015-04-01",
          "2015-04-02",
          "2015-04-03",
          "2015-04-04",
          "2015-04-05",
          "2015-04-06",
          "2015-04-07",
          "2015-04-08",
          "2015-04-09",
          "2015-04-10"
         ],
         "y": [
          -1.2868801566664638,
          -2.028366513807729,
          -2.760879106191367,
          -1.9911859649445645,
          -1.1698265723057135,
          -0.9720902802456763,
          -1.3893692343289523,
          0.15751532682256508,
          0.28067988699811575,
          -0.5107120093055321,
          -1.8063687051293358,
          -1.7921784377934262,
          -1.1044874291941618,
          -0.2664229033287746,
          -0.6256421886729924,
          0.4121968431481302,
          1.8992288911822006,
          0.4713284609322743,
          2.994948247125084,
          3.0066845652519816,
          4.428386071353853,
          4.91527793224154,
          5.9599498493520535,
          6.1134080683029515,
          5.3533745076686206,
          5.293323668532801,
          4.099962721172125,
          5.217635982306543,
          6.071263872872076,
          4.6433790700021245,
          3.7602602888241847,
          3.281740775327897,
          2.7404638966339827,
          3.3387539342756676,
          4.0286684579720395,
          5.549431907856821,
          7.7754320531931445,
          6.322731592099521,
          6.500348418463007,
          4.307960773824358,
          5.299420681700493,
          6.887429791634869,
          8.867227597756447,
          9.705505785295987,
          9.727310508705818,
          9.47542189494929,
          10.024088259089691,
          9.98684737225707,
          10.69468858425811,
          12.590123161193892,
          11.782826178393798,
          10.917174155836495,
          10.734616926162627,
          10.241322244735414,
          10.641312793916578,
          9.281628379084083,
          9.400145386809678,
          8.651862561935062,
          7.565414896511578,
          6.965260757342342,
          6.707417689495253,
          5.298031156312341,
          5.189613710611087,
          6.38226310279424,
          6.183136169656518,
          5.612166391713544,
          6.39114867505892,
          6.579941941996416,
          8.383442583844783,
          7.707907622852362,
          6.38780750561438,
          6.444029553587608,
          6.607992301383706,
          5.807273092823491,
          6.986991314869297,
          8.092324810185454,
          7.438659031910002,
          7.801618929657894,
          8.167147603397437,
          8.31903075035327,
          7.29850862750133,
          7.512739654299573,
          6.420792527152818,
          7.055018729110213,
          7.0770407319095945,
          7.117641048349709,
          7.345524557970403,
          5.752190402863436,
          6.273101375049812,
          6.278722472055344,
          5.7539515553200955,
          3.1068215726052926,
          2.7290057360970037,
          1.2653832609269167,
          2.2899432891116005,
          1.9511362641198013,
          1.5916454981489803,
          2.1430788859714105,
          2.542681463390741,
          1.530278277459552
         ]
        },
        {
         "marker": {
          "color": "rgba(55, 128, 191, 0.6)",
          "line": {
           "color": "rgba(55, 128, 191, 1.0)",
           "width": 1
          }
         },
         "name": "MSFT",
         "orientation": "v",
         "text": "",
         "type": "bar",
         "x": [
          "2015-01-01",
          "2015-01-02",
          "2015-01-03",
          "2015-01-04",
          "2015-01-05",
          "2015-01-06",
          "2015-01-07",
          "2015-01-08",
          "2015-01-09",
          "2015-01-10",
          "2015-01-11",
          "2015-01-12",
          "2015-01-13",
          "2015-01-14",
          "2015-01-15",
          "2015-01-16",
          "2015-01-17",
          "2015-01-18",
          "2015-01-19",
          "2015-01-20",
          "2015-01-21",
          "2015-01-22",
          "2015-01-23",
          "2015-01-24",
          "2015-01-25",
          "2015-01-26",
          "2015-01-27",
          "2015-01-28",
          "2015-01-29",
          "2015-01-30",
          "2015-01-31",
          "2015-02-01",
          "2015-02-02",
          "2015-02-03",
          "2015-02-04",
          "2015-02-05",
          "2015-02-06",
          "2015-02-07",
          "2015-02-08",
          "2015-02-09",
          "2015-02-10",
          "2015-02-11",
          "2015-02-12",
          "2015-02-13",
          "2015-02-14",
          "2015-02-15",
          "2015-02-16",
          "2015-02-17",
          "2015-02-18",
          "2015-02-19",
          "2015-02-20",
          "2015-02-21",
          "2015-02-22",
          "2015-02-23",
          "2015-02-24",
          "2015-02-25",
          "2015-02-26",
          "2015-02-27",
          "2015-02-28",
          "2015-03-01",
          "2015-03-02",
          "2015-03-03",
          "2015-03-04",
          "2015-03-05",
          "2015-03-06",
          "2015-03-07",
          "2015-03-08",
          "2015-03-09",
          "2015-03-10",
          "2015-03-11",
          "2015-03-12",
          "2015-03-13",
          "2015-03-14",
          "2015-03-15",
          "2015-03-16",
          "2015-03-17",
          "2015-03-18",
          "2015-03-19",
          "2015-03-20",
          "2015-03-21",
          "2015-03-22",
          "2015-03-23",
          "2015-03-24",
          "2015-03-25",
          "2015-03-26",
          "2015-03-27",
          "2015-03-28",
          "2015-03-29",
          "2015-03-30",
          "2015-03-31",
          "2015-04-01",
          "2015-04-02",
          "2015-04-03",
          "2015-04-04",
          "2015-04-05",
          "2015-04-06",
          "2015-04-07",
          "2015-04-08",
          "2015-04-09",
          "2015-04-10"
         ],
         "y": [
          -0.14231784552685722,
          0.0038383488741102756,
          -1.394342441102017,
          0.05281310065044109,
          -1.2953856887317763,
          -0.23262923631253374,
          -2.5064608920511025,
          -3.6201295377974985,
          -2.959479810992466,
          -3.772544722719001,
          -3.0709588325198514,
          -2.0375398840254366,
          -2.1693398305300824,
          -3.2990288162994386,
          -4.890590132460698,
          -4.15033703004252,
          -4.176687297989628,
          -4.5205820294304235,
          -4.414951077438917,
          -4.950842185052673,
          -6.320562459093343,
          -6.44888710392168,
          -6.020839447515197,
          -5.785039010002954,
          -6.093129681526676,
          -6.634138955952207,
          -6.570694424396184,
          -6.521643404930816,
          -5.299024933004039,
          -6.0886710847423435,
          -5.881060365924777,
          -3.915482394403372,
          -3.9827955274268745,
          -4.147845784640805,
          -3.42504253118667,
          -4.40082690854008,
          -4.075525471295986,
          -2.861534944561367,
          -3.781912959044849,
          -4.333547172371902,
          -3.7095920728127374,
          -3.4750745616048015,
          -2.747492006580319,
          -0.9979818882593192,
          -1.0647188197146276,
          -0.8955434858458016,
          -0.6519956098049098,
          1.6492927283038028,
          3.387224087556209,
          4.513566073082565,
          5.430806739184705,
          4.907521152193672,
          2.8095620478423875,
          2.915435824696081,
          1.5200875838787369,
          2.429132108080452,
          3.7756335804841363,
          4.002064408796806,
          3.4628516327730687,
          3.214324464767252,
          3.8560726788603708,
          2.2554862113398633,
          2.9445092783273754,
          3.5262828903204313,
          2.463193248025804,
          1.7260733152151322,
          0.7398626546489155,
          0.4719722351730572,
          0.9991489857126875,
          1.9463121727900423,
          0.23353648657121595,
          1.0453540766324032,
          0.8125285169010912,
          0.21356493176886515,
          0.28570457417174555,
          0.11812423461881866,
          0.4917748669935742,
          0.36077971790123253,
          0.5972969247795444,
          0.7236739472521214,
          2.636233090974466,
          1.069513681161607,
          0.28665585447293573,
          0.19369838104339726,
          0.35621491824623663,
          3.048403464903692,
          4.677726795508604,
          4.894177005591278,
          4.787507408289258,
          4.951135431932031,
          4.884774009715971,
          3.5625808936247694,
          2.9640904467996405,
          2.6843113704032233,
          2.530433555830813,
          5.248023191199183,
          4.349788040925403,
          5.450810783635532,
          5.052823592404031,
          5.15929729082009
         ]
        },
        {
         "marker": {
          "color": "rgba(50, 171, 96, 0.6)",
          "line": {
           "color": "rgba(50, 171, 96, 1.0)",
           "width": 1
          }
         },
         "name": "GOOG",
         "orientation": "v",
         "text": "",
         "type": "bar",
         "x": [
          "2015-01-01",
          "2015-01-02",
          "2015-01-03",
          "2015-01-04",
          "2015-01-05",
          "2015-01-06",
          "2015-01-07",
          "2015-01-08",
          "2015-01-09",
          "2015-01-10",
          "2015-01-11",
          "2015-01-12",
          "2015-01-13",
          "2015-01-14",
          "2015-01-15",
          "2015-01-16",
          "2015-01-17",
          "2015-01-18",
          "2015-01-19",
          "2015-01-20",
          "2015-01-21",
          "2015-01-22",
          "2015-01-23",
          "2015-01-24",
          "2015-01-25",
          "2015-01-26",
          "2015-01-27",
          "2015-01-28",
          "2015-01-29",
          "2015-01-30",
          "2015-01-31",
          "2015-02-01",
          "2015-02-02",
          "2015-02-03",
          "2015-02-04",
          "2015-02-05",
          "2015-02-06",
          "2015-02-07",
          "2015-02-08",
          "2015-02-09",
          "2015-02-10",
          "2015-02-11",
          "2015-02-12",
          "2015-02-13",
          "2015-02-14",
          "2015-02-15",
          "2015-02-16",
          "2015-02-17",
          "2015-02-18",
          "2015-02-19",
          "2015-02-20",
          "2015-02-21",
          "2015-02-22",
          "2015-02-23",
          "2015-02-24",
          "2015-02-25",
          "2015-02-26",
          "2015-02-27",
          "2015-02-28",
          "2015-03-01",
          "2015-03-02",
          "2015-03-03",
          "2015-03-04",
          "2015-03-05",
          "2015-03-06",
          "2015-03-07",
          "2015-03-08",
          "2015-03-09",
          "2015-03-10",
          "2015-03-11",
          "2015-03-12",
          "2015-03-13",
          "2015-03-14",
          "2015-03-15",
          "2015-03-16",
          "2015-03-17",
          "2015-03-18",
          "2015-03-19",
          "2015-03-20",
          "2015-03-21",
          "2015-03-22",
          "2015-03-23",
          "2015-03-24",
          "2015-03-25",
          "2015-03-26",
          "2015-03-27",
          "2015-03-28",
          "2015-03-29",
          "2015-03-30",
          "2015-03-31",
          "2015-04-01",
          "2015-04-02",
          "2015-04-03",
          "2015-04-04",
          "2015-04-05",
          "2015-04-06",
          "2015-04-07",
          "2015-04-08",
          "2015-04-09",
          "2015-04-10"
         ],
         "y": [
          0.887859548430912,
          -0.12442855812384623,
          0.31510584146026,
          -0.3620399760333849,
          0.060047799161180415,
          0.489542542000453,
          0.39864526286565544,
          -0.12691305706221562,
          -0.14653742623622149,
          -1.9942051171963504,
          -1.3676444884468961,
          -0.8372557932333661,
          -1.9188470342391222,
          -1.176425895752355,
          -0.5063944395571112,
          -0.6230886218617776,
          -0.6637716155230189,
          -0.44370395604865664,
          -1.0502230320712198,
          -1.884455201532628,
          -0.8465602088727773,
          -0.2594989167460039,
          -1.9955610009465663,
          -2.221501710910537,
          -3.217375118573837,
          -3.6208546163065196,
          -4.929555124356471,
          -4.840508167100383,
          -3.827535434970696,
          -3.867032210267071,
          -4.5063002992719685,
          -4.925453159939044,
          -4.174179782827053,
          -2.657263222654409,
          -4.307262797144048,
          -5.304732773389594,
          -4.618642038632928,
          -5.7364532527662195,
          -4.392594886900887,
          -4.4558778061555255,
          -4.9857689109230625,
          -4.156439892523207,
          -3.3815162927726474,
          -4.524633232529935,
          -2.1656811236745916,
          -3.1885135351785516,
          -3.9006128888640728,
          -4.077345971346925,
          -4.000916020536469,
          -4.4098462746028675,
          -5.639320258383571,
          -5.687101247473266,
          -5.0688162769214875,
          -5.728851900477398,
          -6.343303939209772,
          -9.328835099025895,
          -8.860782654790022,
          -8.766972470016524,
          -7.71034017674116,
          -7.34436940021025,
          -7.352338908426178,
          -5.660115446029203,
          -6.6854008273788335,
          -5.682223402388089,
          -6.9632825041098405,
          -6.678646553285244,
          -5.752049999433002,
          -6.881893383159216,
          -6.5453962916602375,
          -5.039119802550206,
          -5.338956969174161,
          -4.4834048889550315,
          -3.927119209210786,
          -4.914573738720649,
          -6.567959222482106,
          -7.620031172452751,
          -7.607736110887162,
          -7.5546361814823495,
          -7.144042517705126,
          -7.123148748328626,
          -6.136712449596261,
          -6.365268583170922,
          -7.46153901912162,
          -7.887593355698787,
          -7.24361705197415,
          -6.356909555910471,
          -5.176156220893024,
          -6.80156252352153,
          -6.802162108296153,
          -6.313537622663519,
          -3.5447733332150233,
          -3.9845629222544896,
          -2.854306918829467,
          -2.6727676110848138,
          -2.985194155696666,
          -1.9778983711938678,
          -2.829599717537466,
          -2.256304104822701,
          -3.0652309473468895,
          -3.641370706696887
         ]
        },
        {
         "marker": {
          "color": "rgba(128, 0, 128, 0.6)",
          "line": {
           "color": "rgba(128, 0, 128, 1.0)",
           "width": 1
          }
         },
         "name": "VERZ",
         "orientation": "v",
         "text": "",
         "type": "bar",
         "x": [
          "2015-01-01",
          "2015-01-02",
          "2015-01-03",
          "2015-01-04",
          "2015-01-05",
          "2015-01-06",
          "2015-01-07",
          "2015-01-08",
          "2015-01-09",
          "2015-01-10",
          "2015-01-11",
          "2015-01-12",
          "2015-01-13",
          "2015-01-14",
          "2015-01-15",
          "2015-01-16",
          "2015-01-17",
          "2015-01-18",
          "2015-01-19",
          "2015-01-20",
          "2015-01-21",
          "2015-01-22",
          "2015-01-23",
          "2015-01-24",
          "2015-01-25",
          "2015-01-26",
          "2015-01-27",
          "2015-01-28",
          "2015-01-29",
          "2015-01-30",
          "2015-01-31",
          "2015-02-01",
          "2015-02-02",
          "2015-02-03",
          "2015-02-04",
          "2015-02-05",
          "2015-02-06",
          "2015-02-07",
          "2015-02-08",
          "2015-02-09",
          "2015-02-10",
          "2015-02-11",
          "2015-02-12",
          "2015-02-13",
          "2015-02-14",
          "2015-02-15",
          "2015-02-16",
          "2015-02-17",
          "2015-02-18",
          "2015-02-19",
          "2015-02-20",
          "2015-02-21",
          "2015-02-22",
          "2015-02-23",
          "2015-02-24",
          "2015-02-25",
          "2015-02-26",
          "2015-02-27",
          "2015-02-28",
          "2015-03-01",
          "2015-03-02",
          "2015-03-03",
          "2015-03-04",
          "2015-03-05",
          "2015-03-06",
          "2015-03-07",
          "2015-03-08",
          "2015-03-09",
          "2015-03-10",
          "2015-03-11",
          "2015-03-12",
          "2015-03-13",
          "2015-03-14",
          "2015-03-15",
          "2015-03-16",
          "2015-03-17",
          "2015-03-18",
          "2015-03-19",
          "2015-03-20",
          "2015-03-21",
          "2015-03-22",
          "2015-03-23",
          "2015-03-24",
          "2015-03-25",
          "2015-03-26",
          "2015-03-27",
          "2015-03-28",
          "2015-03-29",
          "2015-03-30",
          "2015-03-31",
          "2015-04-01",
          "2015-04-02",
          "2015-04-03",
          "2015-04-04",
          "2015-04-05",
          "2015-04-06",
          "2015-04-07",
          "2015-04-08",
          "2015-04-09",
          "2015-04-10"
         ],
         "y": [
          0.2048742448337656,
          0.3995130615403163,
          0.5136290915851257,
          0.02076516140369261,
          0.7226077593218854,
          0.05684612597054928,
          -2.290373173966028,
          -3.352705324762807,
          -3.7250925423200565,
          -4.793135650456053,
          -5.329050597202418,
          -4.387591592305006,
          -4.049448089904911,
          -5.709282777034537,
          -6.328159594193041,
          -5.224321790483151,
          -5.2544049851922985,
          -5.421682067272712,
          -5.453447794943075,
          -5.2185053146589,
          -5.352828044506808,
          -6.099418933938748,
          -5.385357244049113,
          -5.133670710990421,
          -4.985790773356901,
          -4.275721196167301,
          -4.568176178165343,
          -4.250215743788066,
          -2.6250793292773977,
          -1.4682659462139522,
          -2.1133744171717304,
          -2.3256163870395024,
          -2.5325475124338666,
          -2.8567767576541843,
          -2.1431314030437036,
          -1.7670788605729655,
          -2.296789904733288,
          -2.2121516024694006,
          -3.5342462146632085,
          -0.6964724804885365,
          1.3477234161467004,
          1.441712672948758,
          2.1058407403647976,
          1.9878836781924143,
          2.733661743162101,
          4.07587656098306,
          4.494268791352438,
          2.7551554418904525,
          3.4262226942585743,
          4.261906636597172,
          5.644921824628,
          4.413022382756968,
          5.910088337610661,
          6.542923789958097,
          6.312824948758883,
          7.0707387309998815,
          9.908110224085755,
          9.306542233112879,
          10.085829266774926,
          9.708254599022629,
          9.67875256616383,
          7.916943299423433,
          7.5583217288247715,
          8.46681747105512,
          9.205058014250898,
          7.777162993877683,
          7.405956989690508,
          8.820618268349833,
          8.580023758687686,
          7.351488938534795,
          4.329475295100899,
          3.2757851795090573,
          4.595116532455589,
          5.783659442360334,
          3.7878041018828923,
          3.044704452625716,
          2.0189657021517684,
          4.274722764937334,
          5.893714987065865,
          5.18398622503782,
          4.890734539739318,
          5.259914377771817,
          4.2388250269525924,
          2.228345073405111,
          1.0172014863258558,
          2.904580330298862,
          1.6375736383990258,
          1.6730927768195931,
          0.3295055389813142,
          1.1186980436244327,
          0.3825970786381174,
          0.2403846669254254,
          1.3424608810215752,
          2.0175060395052333,
          1.8490765888226344,
          2.361676998871574,
          2.3661487164680395,
          4.650347499849967,
          4.779357897092006,
          5.318865454818467
         ]
        },
        {
         "marker": {
          "color": "rgba(219, 64, 82, 0.6)",
          "line": {
           "color": "rgba(219, 64, 82, 1.0)",
           "width": 1
          }
         },
         "name": "APPL",
         "orientation": "v",
         "text": "",
         "type": "bar",
         "x": [
          "2015-01-01",
          "2015-01-02",
          "2015-01-03",
          "2015-01-04",
          "2015-01-05",
          "2015-01-06",
          "2015-01-07",
          "2015-01-08",
          "2015-01-09",
          "2015-01-10",
          "2015-01-11",
          "2015-01-12",
          "2015-01-13",
          "2015-01-14",
          "2015-01-15",
          "2015-01-16",
          "2015-01-17",
          "2015-01-18",
          "2015-01-19",
          "2015-01-20",
          "2015-01-21",
          "2015-01-22",
          "2015-01-23",
          "2015-01-24",
          "2015-01-25",
          "2015-01-26",
          "2015-01-27",
          "2015-01-28",
          "2015-01-29",
          "2015-01-30",
          "2015-01-31",
          "2015-02-01",
          "2015-02-02",
          "2015-02-03",
          "2015-02-04",
          "2015-02-05",
          "2015-02-06",
          "2015-02-07",
          "2015-02-08",
          "2015-02-09",
          "2015-02-10",
          "2015-02-11",
          "2015-02-12",
          "2015-02-13",
          "2015-02-14",
          "2015-02-15",
          "2015-02-16",
          "2015-02-17",
          "2015-02-18",
          "2015-02-19",
          "2015-02-20",
          "2015-02-21",
          "2015-02-22",
          "2015-02-23",
          "2015-02-24",
          "2015-02-25",
          "2015-02-26",
          "2015-02-27",
          "2015-02-28",
          "2015-03-01",
          "2015-03-02",
          "2015-03-03",
          "2015-03-04",
          "2015-03-05",
          "2015-03-06",
          "2015-03-07",
          "2015-03-08",
          "2015-03-09",
          "2015-03-10",
          "2015-03-11",
          "2015-03-12",
          "2015-03-13",
          "2015-03-14",
          "2015-03-15",
          "2015-03-16",
          "2015-03-17",
          "2015-03-18",
          "2015-03-19",
          "2015-03-20",
          "2015-03-21",
          "2015-03-22",
          "2015-03-23",
          "2015-03-24",
          "2015-03-25",
          "2015-03-26",
          "2015-03-27",
          "2015-03-28",
          "2015-03-29",
          "2015-03-30",
          "2015-03-31",
          "2015-04-01",
          "2015-04-02",
          "2015-04-03",
          "2015-04-04",
          "2015-04-05",
          "2015-04-06",
          "2015-04-07",
          "2015-04-08",
          "2015-04-09",
          "2015-04-10"
         ],
         "y": [
          1.0819354668374346,
          2.4799376706733622,
          2.2268051364701633,
          1.0250862796132514,
          0.3554705098107952,
          0.7156871789501777,
          0.1067856256869062,
          -0.123407659403828,
          0.28296814854104424,
          0.49919665559686655,
          -0.006990933535996335,
          0.033384083208729,
          -0.08440237960348058,
          0.7897831313157041,
          1.5201787318987088,
          1.5475803170317657,
          0.8576482186298152,
          2.5467860395958803,
          3.993713288865485,
          4.567833775159525,
          5.183738002370754,
          6.092155689019387,
          6.1823362071732495,
          5.674471133357569,
          5.3441259995195045,
          5.617275592259908,
          6.783773732222309,
          7.198486019655446,
          7.145176329258773,
          6.543734446718874,
          7.312297808122165,
          7.223841848314789,
          7.9514779082905,
          8.561609308063588,
          9.738378487072284,
          9.075752793744627,
          9.831438453795284,
          8.516970286231762,
          8.252832558903457,
          9.533388230834202,
          9.67698655408267,
          10.86849174836057,
          10.669733608987032,
          9.989883871982169,
          8.670283109572248,
          9.577541757674734,
          8.881467530627548,
          10.376316257373494,
          9.81916422882076,
          10.225052700919383,
          10.056165673334721,
          11.05423378093204,
          11.438246334862646,
          10.468756699066553,
          9.87868872301803,
          8.76800846671155,
          6.684972121397745,
          8.078100249152664,
          6.3740120486351195,
          6.699908754451213,
          6.63902778498758,
          7.333955166310478,
          8.539313786810935,
          8.765231793823297,
          8.550945866671988,
          8.648688407218522,
          8.369870777573873,
          7.728510910650162,
          7.187302004909984,
          7.4427073016969105,
          9.038283728844396,
          11.127516915360015,
          12.176216508021733,
          13.642073852393995,
          13.114857135669329,
          13.832452593325161,
          14.912682023756759,
          15.357186361705619,
          17.058373360129018,
          18.476693401175936,
          18.172980321487877,
          19.516504578663504,
          18.750375542604836,
          19.83121087323503,
          20.970407888437194,
          20.46369062990867,
          20.493108587316645,
          19.42665903106606,
          18.742685639947105,
          18.034705834652556,
          18.052638546929252,
          16.476787278642664,
          16.81420963222878,
          15.856823228991814,
          13.806346247259345,
          14.896933576101397,
          15.749362202489804,
          16.287176408588053,
          15.628818851369322,
          15.302790607308463
         ]
        }
       ],
       "layout": {
        "bargap": 0.1,
        "barmode": "stack",
        "legend": {
         "bgcolor": "#F5F6F9",
         "font": {
          "color": "#4D5663"
         },
         "traceorder": "normal"
        },
        "paper_bgcolor": "#F5F6F9",
        "plot_bgcolor": "#F5F6F9",
        "template": {
         "data": {
          "bar": [
           {
            "error_x": {
             "color": "#2a3f5f"
            },
            "error_y": {
             "color": "#2a3f5f"
            },
            "marker": {
             "line": {
              "color": "#E5ECF6",
              "width": 0.5
             }
            },
            "type": "bar"
           }
          ],
          "barpolar": [
           {
            "marker": {
             "line": {
              "color": "#E5ECF6",
              "width": 0.5
             }
            },
            "type": "barpolar"
           }
          ],
          "carpet": [
           {
            "aaxis": {
             "endlinecolor": "#2a3f5f",
             "gridcolor": "white",
             "linecolor": "white",
             "minorgridcolor": "white",
             "startlinecolor": "#2a3f5f"
            },
            "baxis": {
             "endlinecolor": "#2a3f5f",
             "gridcolor": "white",
             "linecolor": "white",
             "minorgridcolor": "white",
             "startlinecolor": "#2a3f5f"
            },
            "type": "carpet"
           }
          ],
          "choropleth": [
           {
            "colorbar": {
             "outlinewidth": 0,
             "ticks": ""
            },
            "type": "choropleth"
           }
          ],
          "contour": [
           {
            "colorbar": {
             "outlinewidth": 0,
             "ticks": ""
            },
            "colorscale": [
             [
              0,
              "#0d0887"
             ],
             [
              0.1111111111111111,
              "#46039f"
             ],
             [
              0.2222222222222222,
              "#7201a8"
             ],
             [
              0.3333333333333333,
              "#9c179e"
             ],
             [
              0.4444444444444444,
              "#bd3786"
             ],
             [
              0.5555555555555556,
              "#d8576b"
             ],
             [
              0.6666666666666666,
              "#ed7953"
             ],
             [
              0.7777777777777778,
              "#fb9f3a"
             ],
             [
              0.8888888888888888,
              "#fdca26"
             ],
             [
              1,
              "#f0f921"
             ]
            ],
            "type": "contour"
           }
          ],
          "contourcarpet": [
           {
            "colorbar": {
             "outlinewidth": 0,
             "ticks": ""
            },
            "type": "contourcarpet"
           }
          ],
          "heatmap": [
           {
            "colorbar": {
             "outlinewidth": 0,
             "ticks": ""
            },
            "colorscale": [
             [
              0,
              "#0d0887"
             ],
             [
              0.1111111111111111,
              "#46039f"
             ],
             [
              0.2222222222222222,
              "#7201a8"
             ],
             [
              0.3333333333333333,
              "#9c179e"
             ],
             [
              0.4444444444444444,
              "#bd3786"
             ],
             [
              0.5555555555555556,
              "#d8576b"
             ],
             [
              0.6666666666666666,
              "#ed7953"
             ],
             [
              0.7777777777777778,
              "#fb9f3a"
             ],
             [
              0.8888888888888888,
              "#fdca26"
             ],
             [
              1,
              "#f0f921"
             ]
            ],
            "type": "heatmap"
           }
          ],
          "heatmapgl": [
           {
            "colorbar": {
             "outlinewidth": 0,
             "ticks": ""
            },
            "colorscale": [
             [
              0,
              "#0d0887"
             ],
             [
              0.1111111111111111,
              "#46039f"
             ],
             [
              0.2222222222222222,
              "#7201a8"
             ],
             [
              0.3333333333333333,
              "#9c179e"
             ],
             [
              0.4444444444444444,
              "#bd3786"
             ],
             [
              0.5555555555555556,
              "#d8576b"
             ],
             [
              0.6666666666666666,
              "#ed7953"
             ],
             [
              0.7777777777777778,
              "#fb9f3a"
             ],
             [
              0.8888888888888888,
              "#fdca26"
             ],
             [
              1,
              "#f0f921"
             ]
            ],
            "type": "heatmapgl"
           }
          ],
          "histogram": [
           {
            "marker": {
             "colorbar": {
              "outlinewidth": 0,
              "ticks": ""
             }
            },
            "type": "histogram"
           }
          ],
          "histogram2d": [
           {
            "colorbar": {
             "outlinewidth": 0,
             "ticks": ""
            },
            "colorscale": [
             [
              0,
              "#0d0887"
             ],
             [
              0.1111111111111111,
              "#46039f"
             ],
             [
              0.2222222222222222,
              "#7201a8"
             ],
             [
              0.3333333333333333,
              "#9c179e"
             ],
             [
              0.4444444444444444,
              "#bd3786"
             ],
             [
              0.5555555555555556,
              "#d8576b"
             ],
             [
              0.6666666666666666,
              "#ed7953"
             ],
             [
              0.7777777777777778,
              "#fb9f3a"
             ],
             [
              0.8888888888888888,
              "#fdca26"
             ],
             [
              1,
              "#f0f921"
             ]
            ],
            "type": "histogram2d"
           }
          ],
          "histogram2dcontour": [
           {
            "colorbar": {
             "outlinewidth": 0,
             "ticks": ""
            },
            "colorscale": [
             [
              0,
              "#0d0887"
             ],
             [
              0.1111111111111111,
              "#46039f"
             ],
             [
              0.2222222222222222,
              "#7201a8"
             ],
             [
              0.3333333333333333,
              "#9c179e"
             ],
             [
              0.4444444444444444,
              "#bd3786"
             ],
             [
              0.5555555555555556,
              "#d8576b"
             ],
             [
              0.6666666666666666,
              "#ed7953"
             ],
             [
              0.7777777777777778,
              "#fb9f3a"
             ],
             [
              0.8888888888888888,
              "#fdca26"
             ],
             [
              1,
              "#f0f921"
             ]
            ],
            "type": "histogram2dcontour"
           }
          ],
          "mesh3d": [
           {
            "colorbar": {
             "outlinewidth": 0,
             "ticks": ""
            },
            "type": "mesh3d"
           }
          ],
          "parcoords": [
           {
            "line": {
             "colorbar": {
              "outlinewidth": 0,
              "ticks": ""
             }
            },
            "type": "parcoords"
           }
          ],
          "pie": [
           {
            "automargin": true,
            "type": "pie"
           }
          ],
          "scatter": [
           {
            "marker": {
             "colorbar": {
              "outlinewidth": 0,
              "ticks": ""
             }
            },
            "type": "scatter"
           }
          ],
          "scatter3d": [
           {
            "line": {
             "colorbar": {
              "outlinewidth": 0,
              "ticks": ""
             }
            },
            "marker": {
             "colorbar": {
              "outlinewidth": 0,
              "ticks": ""
             }
            },
            "type": "scatter3d"
           }
          ],
          "scattercarpet": [
           {
            "marker": {
             "colorbar": {
              "outlinewidth": 0,
              "ticks": ""
             }
            },
            "type": "scattercarpet"
           }
          ],
          "scattergeo": [
           {
            "marker": {
             "colorbar": {
              "outlinewidth": 0,
              "ticks": ""
             }
            },
            "type": "scattergeo"
           }
          ],
          "scattergl": [
           {
            "marker": {
             "colorbar": {
              "outlinewidth": 0,
              "ticks": ""
             }
            },
            "type": "scattergl"
           }
          ],
          "scattermapbox": [
           {
            "marker": {
             "colorbar": {
              "outlinewidth": 0,
              "ticks": ""
             }
            },
            "type": "scattermapbox"
           }
          ],
          "scatterpolar": [
           {
            "marker": {
             "colorbar": {
              "outlinewidth": 0,
              "ticks": ""
             }
            },
            "type": "scatterpolar"
           }
          ],
          "scatterpolargl": [
           {
            "marker": {
             "colorbar": {
              "outlinewidth": 0,
              "ticks": ""
             }
            },
            "type": "scatterpolargl"
           }
          ],
          "scatterternary": [
           {
            "marker": {
             "colorbar": {
              "outlinewidth": 0,
              "ticks": ""
             }
            },
            "type": "scatterternary"
           }
          ],
          "surface": [
           {
            "colorbar": {
             "outlinewidth": 0,
             "ticks": ""
            },
            "colorscale": [
             [
              0,
              "#0d0887"
             ],
             [
              0.1111111111111111,
              "#46039f"
             ],
             [
              0.2222222222222222,
              "#7201a8"
             ],
             [
              0.3333333333333333,
              "#9c179e"
             ],
             [
              0.4444444444444444,
              "#bd3786"
             ],
             [
              0.5555555555555556,
              "#d8576b"
             ],
             [
              0.6666666666666666,
              "#ed7953"
             ],
             [
              0.7777777777777778,
              "#fb9f3a"
             ],
             [
              0.8888888888888888,
              "#fdca26"
             ],
             [
              1,
              "#f0f921"
             ]
            ],
            "type": "surface"
           }
          ],
          "table": [
           {
            "cells": {
             "fill": {
              "color": "#EBF0F8"
             },
             "line": {
              "color": "white"
             }
            },
            "header": {
             "fill": {
              "color": "#C8D4E3"
             },
             "line": {
              "color": "white"
             }
            },
            "type": "table"
           }
          ]
         },
         "layout": {
          "annotationdefaults": {
           "arrowcolor": "#2a3f5f",
           "arrowhead": 0,
           "arrowwidth": 1
          },
          "coloraxis": {
           "colorbar": {
            "outlinewidth": 0,
            "ticks": ""
           }
          },
          "colorscale": {
           "diverging": [
            [
             0,
             "#8e0152"
            ],
            [
             0.1,
             "#c51b7d"
            ],
            [
             0.2,
             "#de77ae"
            ],
            [
             0.3,
             "#f1b6da"
            ],
            [
             0.4,
             "#fde0ef"
            ],
            [
             0.5,
             "#f7f7f7"
            ],
            [
             0.6,
             "#e6f5d0"
            ],
            [
             0.7,
             "#b8e186"
            ],
            [
             0.8,
             "#7fbc41"
            ],
            [
             0.9,
             "#4d9221"
            ],
            [
             1,
             "#276419"
            ]
           ],
           "sequential": [
            [
             0,
             "#0d0887"
            ],
            [
             0.1111111111111111,
             "#46039f"
            ],
            [
             0.2222222222222222,
             "#7201a8"
            ],
            [
             0.3333333333333333,
             "#9c179e"
            ],
            [
             0.4444444444444444,
             "#bd3786"
            ],
            [
             0.5555555555555556,
             "#d8576b"
            ],
            [
             0.6666666666666666,
             "#ed7953"
            ],
            [
             0.7777777777777778,
             "#fb9f3a"
            ],
            [
             0.8888888888888888,
             "#fdca26"
            ],
            [
             1,
             "#f0f921"
            ]
           ],
           "sequentialminus": [
            [
             0,
             "#0d0887"
            ],
            [
             0.1111111111111111,
             "#46039f"
            ],
            [
             0.2222222222222222,
             "#7201a8"
            ],
            [
             0.3333333333333333,
             "#9c179e"
            ],
            [
             0.4444444444444444,
             "#bd3786"
            ],
            [
             0.5555555555555556,
             "#d8576b"
            ],
            [
             0.6666666666666666,
             "#ed7953"
            ],
            [
             0.7777777777777778,
             "#fb9f3a"
            ],
            [
             0.8888888888888888,
             "#fdca26"
            ],
            [
             1,
             "#f0f921"
            ]
           ]
          },
          "colorway": [
           "#636efa",
           "#EF553B",
           "#00cc96",
           "#ab63fa",
           "#FFA15A",
           "#19d3f3",
           "#FF6692",
           "#B6E880",
           "#FF97FF",
           "#FECB52"
          ],
          "font": {
           "color": "#2a3f5f"
          },
          "geo": {
           "bgcolor": "white",
           "lakecolor": "white",
           "landcolor": "#E5ECF6",
           "showlakes": true,
           "showland": true,
           "subunitcolor": "white"
          },
          "hoverlabel": {
           "align": "left"
          },
          "hovermode": "closest",
          "mapbox": {
           "style": "light"
          },
          "paper_bgcolor": "white",
          "plot_bgcolor": "#E5ECF6",
          "polar": {
           "angularaxis": {
            "gridcolor": "white",
            "linecolor": "white",
            "ticks": ""
           },
           "bgcolor": "#E5ECF6",
           "radialaxis": {
            "gridcolor": "white",
            "linecolor": "white",
            "ticks": ""
           }
          },
          "scene": {
           "xaxis": {
            "backgroundcolor": "#E5ECF6",
            "gridcolor": "white",
            "gridwidth": 2,
            "linecolor": "white",
            "showbackground": true,
            "ticks": "",
            "zerolinecolor": "white"
           },
           "yaxis": {
            "backgroundcolor": "#E5ECF6",
            "gridcolor": "white",
            "gridwidth": 2,
            "linecolor": "white",
            "showbackground": true,
            "ticks": "",
            "zerolinecolor": "white"
           },
           "zaxis": {
            "backgroundcolor": "#E5ECF6",
            "gridcolor": "white",
            "gridwidth": 2,
            "linecolor": "white",
            "showbackground": true,
            "ticks": "",
            "zerolinecolor": "white"
           }
          },
          "shapedefaults": {
           "line": {
            "color": "#2a3f5f"
           }
          },
          "ternary": {
           "aaxis": {
            "gridcolor": "white",
            "linecolor": "white",
            "ticks": ""
           },
           "baxis": {
            "gridcolor": "white",
            "linecolor": "white",
            "ticks": ""
           },
           "bgcolor": "#E5ECF6",
           "caxis": {
            "gridcolor": "white",
            "linecolor": "white",
            "ticks": ""
           }
          },
          "title": {
           "x": 0.05
          },
          "xaxis": {
           "automargin": true,
           "gridcolor": "white",
           "linecolor": "white",
           "ticks": "",
           "title": {
            "standoff": 15
           },
           "zerolinecolor": "white",
           "zerolinewidth": 2
          },
          "yaxis": {
           "automargin": true,
           "gridcolor": "white",
           "linecolor": "white",
           "ticks": "",
           "title": {
            "standoff": 15
           },
           "zerolinecolor": "white",
           "zerolinewidth": 2
          }
         }
        },
        "title": {
         "font": {
          "color": "#4D5663"
         }
        },
        "xaxis": {
         "gridcolor": "#E1E5ED",
         "showgrid": true,
         "tickfont": {
          "color": "#4D5663"
         },
         "title": {
          "font": {
           "color": "#4D5663"
          },
          "text": ""
         },
         "zerolinecolor": "#E1E5ED"
        },
        "yaxis": {
         "gridcolor": "#E1E5ED",
         "showgrid": true,
         "tickfont": {
          "color": "#4D5663"
         },
         "title": {
          "font": {
           "color": "#4D5663"
          },
          "text": ""
         },
         "zerolinecolor": "#E1E5ED"
        }
       }
      },
      "text/html": [
       "<div>\n",
       "        \n",
       "        \n",
       "            <div id=\"1b9d45c6-5f4e-45b2-8320-ae21c46792b4\" class=\"plotly-graph-div\" style=\"height:525px; width:100%;\"></div>\n",
       "            <script type=\"text/javascript\">\n",
       "                require([\"plotly\"], function(Plotly) {\n",
       "                    window.PLOTLYENV=window.PLOTLYENV || {};\n",
       "                    window.PLOTLYENV.BASE_URL='https://plot.ly';\n",
       "                    \n",
       "                if (document.getElementById(\"1b9d45c6-5f4e-45b2-8320-ae21c46792b4\")) {\n",
       "                    Plotly.newPlot(\n",
       "                        '1b9d45c6-5f4e-45b2-8320-ae21c46792b4',\n",
       "                        [{\"marker\": {\"color\": \"rgba(255, 153, 51, 0.6)\", \"line\": {\"color\": \"rgba(255, 153, 51, 1.0)\", \"width\": 1}}, \"name\": \"IBM\", \"orientation\": \"v\", \"text\": \"\", \"type\": \"bar\", \"x\": [\"2015-01-01\", \"2015-01-02\", \"2015-01-03\", \"2015-01-04\", \"2015-01-05\", \"2015-01-06\", \"2015-01-07\", \"2015-01-08\", \"2015-01-09\", \"2015-01-10\", \"2015-01-11\", \"2015-01-12\", \"2015-01-13\", \"2015-01-14\", \"2015-01-15\", \"2015-01-16\", \"2015-01-17\", \"2015-01-18\", \"2015-01-19\", \"2015-01-20\", \"2015-01-21\", \"2015-01-22\", \"2015-01-23\", \"2015-01-24\", \"2015-01-25\", \"2015-01-26\", \"2015-01-27\", \"2015-01-28\", \"2015-01-29\", \"2015-01-30\", \"2015-01-31\", \"2015-02-01\", \"2015-02-02\", \"2015-02-03\", \"2015-02-04\", \"2015-02-05\", \"2015-02-06\", \"2015-02-07\", \"2015-02-08\", \"2015-02-09\", \"2015-02-10\", \"2015-02-11\", \"2015-02-12\", \"2015-02-13\", \"2015-02-14\", \"2015-02-15\", \"2015-02-16\", \"2015-02-17\", \"2015-02-18\", \"2015-02-19\", \"2015-02-20\", \"2015-02-21\", \"2015-02-22\", \"2015-02-23\", \"2015-02-24\", \"2015-02-25\", \"2015-02-26\", \"2015-02-27\", \"2015-02-28\", \"2015-03-01\", \"2015-03-02\", \"2015-03-03\", \"2015-03-04\", \"2015-03-05\", \"2015-03-06\", \"2015-03-07\", \"2015-03-08\", \"2015-03-09\", \"2015-03-10\", \"2015-03-11\", \"2015-03-12\", \"2015-03-13\", \"2015-03-14\", \"2015-03-15\", \"2015-03-16\", \"2015-03-17\", \"2015-03-18\", \"2015-03-19\", \"2015-03-20\", \"2015-03-21\", \"2015-03-22\", \"2015-03-23\", \"2015-03-24\", \"2015-03-25\", \"2015-03-26\", \"2015-03-27\", \"2015-03-28\", \"2015-03-29\", \"2015-03-30\", \"2015-03-31\", \"2015-04-01\", \"2015-04-02\", \"2015-04-03\", \"2015-04-04\", \"2015-04-05\", \"2015-04-06\", \"2015-04-07\", \"2015-04-08\", \"2015-04-09\", \"2015-04-10\"], \"y\": [-1.2868801566664638, -2.028366513807729, -2.760879106191367, -1.9911859649445645, -1.1698265723057135, -0.9720902802456763, -1.3893692343289523, 0.15751532682256508, 0.28067988699811575, -0.5107120093055321, -1.8063687051293358, -1.7921784377934262, -1.1044874291941618, -0.2664229033287746, -0.6256421886729924, 0.4121968431481302, 1.8992288911822006, 0.4713284609322743, 2.994948247125084, 3.0066845652519816, 4.428386071353853, 4.91527793224154, 5.9599498493520535, 6.1134080683029515, 5.3533745076686206, 5.293323668532801, 4.099962721172125, 5.217635982306543, 6.071263872872076, 4.6433790700021245, 3.7602602888241847, 3.281740775327897, 2.7404638966339827, 3.3387539342756676, 4.0286684579720395, 5.549431907856821, 7.7754320531931445, 6.322731592099521, 6.500348418463007, 4.307960773824358, 5.299420681700493, 6.887429791634869, 8.867227597756447, 9.705505785295987, 9.727310508705818, 9.47542189494929, 10.024088259089691, 9.98684737225707, 10.69468858425811, 12.590123161193892, 11.782826178393798, 10.917174155836495, 10.734616926162627, 10.241322244735414, 10.641312793916578, 9.281628379084083, 9.400145386809678, 8.651862561935062, 7.565414896511578, 6.965260757342342, 6.707417689495253, 5.298031156312341, 5.189613710611087, 6.38226310279424, 6.183136169656518, 5.612166391713544, 6.39114867505892, 6.579941941996416, 8.383442583844783, 7.707907622852362, 6.38780750561438, 6.444029553587608, 6.607992301383706, 5.807273092823491, 6.986991314869297, 8.092324810185454, 7.438659031910002, 7.801618929657894, 8.167147603397437, 8.31903075035327, 7.29850862750133, 7.512739654299573, 6.420792527152818, 7.055018729110213, 7.0770407319095945, 7.117641048349709, 7.345524557970403, 5.752190402863436, 6.273101375049812, 6.278722472055344, 5.7539515553200955, 3.1068215726052926, 2.7290057360970037, 1.2653832609269167, 2.2899432891116005, 1.9511362641198013, 1.5916454981489803, 2.1430788859714105, 2.542681463390741, 1.530278277459552]}, {\"marker\": {\"color\": \"rgba(55, 128, 191, 0.6)\", \"line\": {\"color\": \"rgba(55, 128, 191, 1.0)\", \"width\": 1}}, \"name\": \"MSFT\", \"orientation\": \"v\", \"text\": \"\", \"type\": \"bar\", \"x\": [\"2015-01-01\", \"2015-01-02\", \"2015-01-03\", \"2015-01-04\", \"2015-01-05\", \"2015-01-06\", \"2015-01-07\", \"2015-01-08\", \"2015-01-09\", \"2015-01-10\", \"2015-01-11\", \"2015-01-12\", \"2015-01-13\", \"2015-01-14\", \"2015-01-15\", \"2015-01-16\", \"2015-01-17\", \"2015-01-18\", \"2015-01-19\", \"2015-01-20\", \"2015-01-21\", \"2015-01-22\", \"2015-01-23\", \"2015-01-24\", \"2015-01-25\", \"2015-01-26\", \"2015-01-27\", \"2015-01-28\", \"2015-01-29\", \"2015-01-30\", \"2015-01-31\", \"2015-02-01\", \"2015-02-02\", \"2015-02-03\", \"2015-02-04\", \"2015-02-05\", \"2015-02-06\", \"2015-02-07\", \"2015-02-08\", \"2015-02-09\", \"2015-02-10\", \"2015-02-11\", \"2015-02-12\", \"2015-02-13\", \"2015-02-14\", \"2015-02-15\", \"2015-02-16\", \"2015-02-17\", \"2015-02-18\", \"2015-02-19\", \"2015-02-20\", \"2015-02-21\", \"2015-02-22\", \"2015-02-23\", \"2015-02-24\", \"2015-02-25\", \"2015-02-26\", \"2015-02-27\", \"2015-02-28\", \"2015-03-01\", \"2015-03-02\", \"2015-03-03\", \"2015-03-04\", \"2015-03-05\", \"2015-03-06\", \"2015-03-07\", \"2015-03-08\", \"2015-03-09\", \"2015-03-10\", \"2015-03-11\", \"2015-03-12\", \"2015-03-13\", \"2015-03-14\", \"2015-03-15\", \"2015-03-16\", \"2015-03-17\", \"2015-03-18\", \"2015-03-19\", \"2015-03-20\", \"2015-03-21\", \"2015-03-22\", \"2015-03-23\", \"2015-03-24\", \"2015-03-25\", \"2015-03-26\", \"2015-03-27\", \"2015-03-28\", \"2015-03-29\", \"2015-03-30\", \"2015-03-31\", \"2015-04-01\", \"2015-04-02\", \"2015-04-03\", \"2015-04-04\", \"2015-04-05\", \"2015-04-06\", \"2015-04-07\", \"2015-04-08\", \"2015-04-09\", \"2015-04-10\"], \"y\": [-0.14231784552685722, 0.0038383488741102756, -1.394342441102017, 0.05281310065044109, -1.2953856887317763, -0.23262923631253374, -2.5064608920511025, -3.6201295377974985, -2.959479810992466, -3.772544722719001, -3.0709588325198514, -2.0375398840254366, -2.1693398305300824, -3.2990288162994386, -4.890590132460698, -4.15033703004252, -4.176687297989628, -4.5205820294304235, -4.414951077438917, -4.950842185052673, -6.320562459093343, -6.44888710392168, -6.020839447515197, -5.785039010002954, -6.093129681526676, -6.634138955952207, -6.570694424396184, -6.521643404930816, -5.299024933004039, -6.0886710847423435, -5.881060365924777, -3.915482394403372, -3.9827955274268745, -4.147845784640805, -3.42504253118667, -4.40082690854008, -4.075525471295986, -2.861534944561367, -3.781912959044849, -4.333547172371902, -3.7095920728127374, -3.4750745616048015, -2.747492006580319, -0.9979818882593192, -1.0647188197146276, -0.8955434858458016, -0.6519956098049098, 1.6492927283038028, 3.387224087556209, 4.513566073082565, 5.430806739184705, 4.907521152193672, 2.8095620478423875, 2.915435824696081, 1.5200875838787369, 2.429132108080452, 3.7756335804841363, 4.002064408796806, 3.4628516327730687, 3.214324464767252, 3.8560726788603708, 2.2554862113398633, 2.9445092783273754, 3.5262828903204313, 2.463193248025804, 1.7260733152151322, 0.7398626546489155, 0.4719722351730572, 0.9991489857126875, 1.9463121727900423, 0.23353648657121595, 1.0453540766324032, 0.8125285169010912, 0.21356493176886515, 0.28570457417174555, 0.11812423461881866, 0.4917748669935742, 0.36077971790123253, 0.5972969247795444, 0.7236739472521214, 2.636233090974466, 1.069513681161607, 0.28665585447293573, 0.19369838104339726, 0.35621491824623663, 3.048403464903692, 4.677726795508604, 4.894177005591278, 4.787507408289258, 4.951135431932031, 4.884774009715971, 3.5625808936247694, 2.9640904467996405, 2.6843113704032233, 2.530433555830813, 5.248023191199183, 4.349788040925403, 5.450810783635532, 5.052823592404031, 5.15929729082009]}, {\"marker\": {\"color\": \"rgba(50, 171, 96, 0.6)\", \"line\": {\"color\": \"rgba(50, 171, 96, 1.0)\", \"width\": 1}}, \"name\": \"GOOG\", \"orientation\": \"v\", \"text\": \"\", \"type\": \"bar\", \"x\": [\"2015-01-01\", \"2015-01-02\", \"2015-01-03\", \"2015-01-04\", \"2015-01-05\", \"2015-01-06\", \"2015-01-07\", \"2015-01-08\", \"2015-01-09\", \"2015-01-10\", \"2015-01-11\", \"2015-01-12\", \"2015-01-13\", \"2015-01-14\", \"2015-01-15\", \"2015-01-16\", \"2015-01-17\", \"2015-01-18\", \"2015-01-19\", \"2015-01-20\", \"2015-01-21\", \"2015-01-22\", \"2015-01-23\", \"2015-01-24\", \"2015-01-25\", \"2015-01-26\", \"2015-01-27\", \"2015-01-28\", \"2015-01-29\", \"2015-01-30\", \"2015-01-31\", \"2015-02-01\", \"2015-02-02\", \"2015-02-03\", \"2015-02-04\", \"2015-02-05\", \"2015-02-06\", \"2015-02-07\", \"2015-02-08\", \"2015-02-09\", \"2015-02-10\", \"2015-02-11\", \"2015-02-12\", \"2015-02-13\", \"2015-02-14\", \"2015-02-15\", \"2015-02-16\", \"2015-02-17\", \"2015-02-18\", \"2015-02-19\", \"2015-02-20\", \"2015-02-21\", \"2015-02-22\", \"2015-02-23\", \"2015-02-24\", \"2015-02-25\", \"2015-02-26\", \"2015-02-27\", \"2015-02-28\", \"2015-03-01\", \"2015-03-02\", \"2015-03-03\", \"2015-03-04\", \"2015-03-05\", \"2015-03-06\", \"2015-03-07\", \"2015-03-08\", \"2015-03-09\", \"2015-03-10\", \"2015-03-11\", \"2015-03-12\", \"2015-03-13\", \"2015-03-14\", \"2015-03-15\", \"2015-03-16\", \"2015-03-17\", \"2015-03-18\", \"2015-03-19\", \"2015-03-20\", \"2015-03-21\", \"2015-03-22\", \"2015-03-23\", \"2015-03-24\", \"2015-03-25\", \"2015-03-26\", \"2015-03-27\", \"2015-03-28\", \"2015-03-29\", \"2015-03-30\", \"2015-03-31\", \"2015-04-01\", \"2015-04-02\", \"2015-04-03\", \"2015-04-04\", \"2015-04-05\", \"2015-04-06\", \"2015-04-07\", \"2015-04-08\", \"2015-04-09\", \"2015-04-10\"], \"y\": [0.887859548430912, -0.12442855812384623, 0.31510584146026, -0.3620399760333849, 0.060047799161180415, 0.489542542000453, 0.39864526286565544, -0.12691305706221562, -0.14653742623622149, -1.9942051171963504, -1.3676444884468961, -0.8372557932333661, -1.9188470342391222, -1.176425895752355, -0.5063944395571112, -0.6230886218617776, -0.6637716155230189, -0.44370395604865664, -1.0502230320712198, -1.884455201532628, -0.8465602088727773, -0.2594989167460039, -1.9955610009465663, -2.221501710910537, -3.217375118573837, -3.6208546163065196, -4.929555124356471, -4.840508167100383, -3.827535434970696, -3.867032210267071, -4.5063002992719685, -4.925453159939044, -4.174179782827053, -2.657263222654409, -4.307262797144048, -5.304732773389594, -4.618642038632928, -5.7364532527662195, -4.392594886900887, -4.4558778061555255, -4.9857689109230625, -4.156439892523207, -3.3815162927726474, -4.524633232529935, -2.1656811236745916, -3.1885135351785516, -3.9006128888640728, -4.077345971346925, -4.000916020536469, -4.4098462746028675, -5.639320258383571, -5.687101247473266, -5.0688162769214875, -5.728851900477398, -6.343303939209772, -9.328835099025895, -8.860782654790022, -8.766972470016524, -7.71034017674116, -7.34436940021025, -7.352338908426178, -5.660115446029203, -6.6854008273788335, -5.682223402388089, -6.9632825041098405, -6.678646553285244, -5.752049999433002, -6.881893383159216, -6.5453962916602375, -5.039119802550206, -5.338956969174161, -4.4834048889550315, -3.927119209210786, -4.914573738720649, -6.567959222482106, -7.620031172452751, -7.607736110887162, -7.5546361814823495, -7.144042517705126, -7.123148748328626, -6.136712449596261, -6.365268583170922, -7.46153901912162, -7.887593355698787, -7.24361705197415, -6.356909555910471, -5.176156220893024, -6.80156252352153, -6.802162108296153, -6.313537622663519, -3.5447733332150233, -3.9845629222544896, -2.854306918829467, -2.6727676110848138, -2.985194155696666, -1.9778983711938678, -2.829599717537466, -2.256304104822701, -3.0652309473468895, -3.641370706696887]}, {\"marker\": {\"color\": \"rgba(128, 0, 128, 0.6)\", \"line\": {\"color\": \"rgba(128, 0, 128, 1.0)\", \"width\": 1}}, \"name\": \"VERZ\", \"orientation\": \"v\", \"text\": \"\", \"type\": \"bar\", \"x\": [\"2015-01-01\", \"2015-01-02\", \"2015-01-03\", \"2015-01-04\", \"2015-01-05\", \"2015-01-06\", \"2015-01-07\", \"2015-01-08\", \"2015-01-09\", \"2015-01-10\", \"2015-01-11\", \"2015-01-12\", \"2015-01-13\", \"2015-01-14\", \"2015-01-15\", \"2015-01-16\", \"2015-01-17\", \"2015-01-18\", \"2015-01-19\", \"2015-01-20\", \"2015-01-21\", \"2015-01-22\", \"2015-01-23\", \"2015-01-24\", \"2015-01-25\", \"2015-01-26\", \"2015-01-27\", \"2015-01-28\", \"2015-01-29\", \"2015-01-30\", \"2015-01-31\", \"2015-02-01\", \"2015-02-02\", \"2015-02-03\", \"2015-02-04\", \"2015-02-05\", \"2015-02-06\", \"2015-02-07\", \"2015-02-08\", \"2015-02-09\", \"2015-02-10\", \"2015-02-11\", \"2015-02-12\", \"2015-02-13\", \"2015-02-14\", \"2015-02-15\", \"2015-02-16\", \"2015-02-17\", \"2015-02-18\", \"2015-02-19\", \"2015-02-20\", \"2015-02-21\", \"2015-02-22\", \"2015-02-23\", \"2015-02-24\", \"2015-02-25\", \"2015-02-26\", \"2015-02-27\", \"2015-02-28\", \"2015-03-01\", \"2015-03-02\", \"2015-03-03\", \"2015-03-04\", \"2015-03-05\", \"2015-03-06\", \"2015-03-07\", \"2015-03-08\", \"2015-03-09\", \"2015-03-10\", \"2015-03-11\", \"2015-03-12\", \"2015-03-13\", \"2015-03-14\", \"2015-03-15\", \"2015-03-16\", \"2015-03-17\", \"2015-03-18\", \"2015-03-19\", \"2015-03-20\", \"2015-03-21\", \"2015-03-22\", \"2015-03-23\", \"2015-03-24\", \"2015-03-25\", \"2015-03-26\", \"2015-03-27\", \"2015-03-28\", \"2015-03-29\", \"2015-03-30\", \"2015-03-31\", \"2015-04-01\", \"2015-04-02\", \"2015-04-03\", \"2015-04-04\", \"2015-04-05\", \"2015-04-06\", \"2015-04-07\", \"2015-04-08\", \"2015-04-09\", \"2015-04-10\"], \"y\": [0.2048742448337656, 0.3995130615403163, 0.5136290915851257, 0.02076516140369261, 0.7226077593218854, 0.05684612597054928, -2.290373173966028, -3.352705324762807, -3.7250925423200565, -4.793135650456053, -5.329050597202418, -4.387591592305006, -4.049448089904911, -5.709282777034537, -6.328159594193041, -5.224321790483151, -5.2544049851922985, -5.421682067272712, -5.453447794943075, -5.2185053146589, -5.352828044506808, -6.099418933938748, -5.385357244049113, -5.133670710990421, -4.985790773356901, -4.275721196167301, -4.568176178165343, -4.250215743788066, -2.6250793292773977, -1.4682659462139522, -2.1133744171717304, -2.3256163870395024, -2.5325475124338666, -2.8567767576541843, -2.1431314030437036, -1.7670788605729655, -2.296789904733288, -2.2121516024694006, -3.5342462146632085, -0.6964724804885365, 1.3477234161467004, 1.441712672948758, 2.1058407403647976, 1.9878836781924143, 2.733661743162101, 4.07587656098306, 4.494268791352438, 2.7551554418904525, 3.4262226942585743, 4.261906636597172, 5.644921824628, 4.413022382756968, 5.910088337610661, 6.542923789958097, 6.312824948758883, 7.0707387309998815, 9.908110224085755, 9.306542233112879, 10.085829266774926, 9.708254599022629, 9.67875256616383, 7.916943299423433, 7.5583217288247715, 8.46681747105512, 9.205058014250898, 7.777162993877683, 7.405956989690508, 8.820618268349833, 8.580023758687686, 7.351488938534795, 4.329475295100899, 3.2757851795090573, 4.595116532455589, 5.783659442360334, 3.7878041018828923, 3.044704452625716, 2.0189657021517684, 4.274722764937334, 5.893714987065865, 5.18398622503782, 4.890734539739318, 5.259914377771817, 4.2388250269525924, 2.228345073405111, 1.0172014863258558, 2.904580330298862, 1.6375736383990258, 1.6730927768195931, 0.3295055389813142, 1.1186980436244327, 0.3825970786381174, 0.2403846669254254, 1.3424608810215752, 2.0175060395052333, 1.8490765888226344, 2.361676998871574, 2.3661487164680395, 4.650347499849967, 4.779357897092006, 5.318865454818467]}, {\"marker\": {\"color\": \"rgba(219, 64, 82, 0.6)\", \"line\": {\"color\": \"rgba(219, 64, 82, 1.0)\", \"width\": 1}}, \"name\": \"APPL\", \"orientation\": \"v\", \"text\": \"\", \"type\": \"bar\", \"x\": [\"2015-01-01\", \"2015-01-02\", \"2015-01-03\", \"2015-01-04\", \"2015-01-05\", \"2015-01-06\", \"2015-01-07\", \"2015-01-08\", \"2015-01-09\", \"2015-01-10\", \"2015-01-11\", \"2015-01-12\", \"2015-01-13\", \"2015-01-14\", \"2015-01-15\", \"2015-01-16\", \"2015-01-17\", \"2015-01-18\", \"2015-01-19\", \"2015-01-20\", \"2015-01-21\", \"2015-01-22\", \"2015-01-23\", \"2015-01-24\", \"2015-01-25\", \"2015-01-26\", \"2015-01-27\", \"2015-01-28\", \"2015-01-29\", \"2015-01-30\", \"2015-01-31\", \"2015-02-01\", \"2015-02-02\", \"2015-02-03\", \"2015-02-04\", \"2015-02-05\", \"2015-02-06\", \"2015-02-07\", \"2015-02-08\", \"2015-02-09\", \"2015-02-10\", \"2015-02-11\", \"2015-02-12\", \"2015-02-13\", \"2015-02-14\", \"2015-02-15\", \"2015-02-16\", \"2015-02-17\", \"2015-02-18\", \"2015-02-19\", \"2015-02-20\", \"2015-02-21\", \"2015-02-22\", \"2015-02-23\", \"2015-02-24\", \"2015-02-25\", \"2015-02-26\", \"2015-02-27\", \"2015-02-28\", \"2015-03-01\", \"2015-03-02\", \"2015-03-03\", \"2015-03-04\", \"2015-03-05\", \"2015-03-06\", \"2015-03-07\", \"2015-03-08\", \"2015-03-09\", \"2015-03-10\", \"2015-03-11\", \"2015-03-12\", \"2015-03-13\", \"2015-03-14\", \"2015-03-15\", \"2015-03-16\", \"2015-03-17\", \"2015-03-18\", \"2015-03-19\", \"2015-03-20\", \"2015-03-21\", \"2015-03-22\", \"2015-03-23\", \"2015-03-24\", \"2015-03-25\", \"2015-03-26\", \"2015-03-27\", \"2015-03-28\", \"2015-03-29\", \"2015-03-30\", \"2015-03-31\", \"2015-04-01\", \"2015-04-02\", \"2015-04-03\", \"2015-04-04\", \"2015-04-05\", \"2015-04-06\", \"2015-04-07\", \"2015-04-08\", \"2015-04-09\", \"2015-04-10\"], \"y\": [1.0819354668374346, 2.4799376706733622, 2.2268051364701633, 1.0250862796132514, 0.3554705098107952, 0.7156871789501777, 0.1067856256869062, -0.123407659403828, 0.28296814854104424, 0.49919665559686655, -0.006990933535996335, 0.033384083208729, -0.08440237960348058, 0.7897831313157041, 1.5201787318987088, 1.5475803170317657, 0.8576482186298152, 2.5467860395958803, 3.993713288865485, 4.567833775159525, 5.183738002370754, 6.092155689019387, 6.1823362071732495, 5.674471133357569, 5.3441259995195045, 5.617275592259908, 6.783773732222309, 7.198486019655446, 7.145176329258773, 6.543734446718874, 7.312297808122165, 7.223841848314789, 7.9514779082905, 8.561609308063588, 9.738378487072284, 9.075752793744627, 9.831438453795284, 8.516970286231762, 8.252832558903457, 9.533388230834202, 9.67698655408267, 10.86849174836057, 10.669733608987032, 9.989883871982169, 8.670283109572248, 9.577541757674734, 8.881467530627548, 10.376316257373494, 9.81916422882076, 10.225052700919383, 10.056165673334721, 11.05423378093204, 11.438246334862646, 10.468756699066553, 9.87868872301803, 8.76800846671155, 6.684972121397745, 8.078100249152664, 6.3740120486351195, 6.699908754451213, 6.63902778498758, 7.333955166310478, 8.539313786810935, 8.765231793823297, 8.550945866671988, 8.648688407218522, 8.369870777573873, 7.728510910650162, 7.187302004909984, 7.4427073016969105, 9.038283728844396, 11.127516915360015, 12.176216508021733, 13.642073852393995, 13.114857135669329, 13.832452593325161, 14.912682023756759, 15.357186361705619, 17.058373360129018, 18.476693401175936, 18.172980321487877, 19.516504578663504, 18.750375542604836, 19.83121087323503, 20.970407888437194, 20.46369062990867, 20.493108587316645, 19.42665903106606, 18.742685639947105, 18.034705834652556, 18.052638546929252, 16.476787278642664, 16.81420963222878, 15.856823228991814, 13.806346247259345, 14.896933576101397, 15.749362202489804, 16.287176408588053, 15.628818851369322, 15.302790607308463]}],\n",
       "                        {\"bargap\": 0.1, \"barmode\": \"stack\", \"legend\": {\"bgcolor\": \"#F5F6F9\", \"font\": {\"color\": \"#4D5663\"}, \"traceorder\": \"normal\"}, \"paper_bgcolor\": \"#F5F6F9\", \"plot_bgcolor\": \"#F5F6F9\", \"template\": {\"data\": {\"bar\": [{\"error_x\": {\"color\": \"#2a3f5f\"}, \"error_y\": {\"color\": \"#2a3f5f\"}, \"marker\": {\"line\": {\"color\": \"#E5ECF6\", \"width\": 0.5}}, \"type\": \"bar\"}], \"barpolar\": [{\"marker\": {\"line\": {\"color\": \"#E5ECF6\", \"width\": 0.5}}, \"type\": \"barpolar\"}], \"carpet\": [{\"aaxis\": {\"endlinecolor\": \"#2a3f5f\", \"gridcolor\": \"white\", \"linecolor\": \"white\", \"minorgridcolor\": \"white\", \"startlinecolor\": \"#2a3f5f\"}, \"baxis\": {\"endlinecolor\": \"#2a3f5f\", \"gridcolor\": \"white\", \"linecolor\": \"white\", \"minorgridcolor\": \"white\", \"startlinecolor\": \"#2a3f5f\"}, \"type\": \"carpet\"}], \"choropleth\": [{\"colorbar\": {\"outlinewidth\": 0, \"ticks\": \"\"}, \"type\": \"choropleth\"}], \"contour\": [{\"colorbar\": {\"outlinewidth\": 0, \"ticks\": \"\"}, \"colorscale\": [[0.0, \"#0d0887\"], [0.1111111111111111, \"#46039f\"], [0.2222222222222222, \"#7201a8\"], [0.3333333333333333, \"#9c179e\"], [0.4444444444444444, \"#bd3786\"], [0.5555555555555556, \"#d8576b\"], [0.6666666666666666, \"#ed7953\"], [0.7777777777777778, \"#fb9f3a\"], [0.8888888888888888, \"#fdca26\"], [1.0, \"#f0f921\"]], \"type\": \"contour\"}], \"contourcarpet\": [{\"colorbar\": {\"outlinewidth\": 0, \"ticks\": \"\"}, \"type\": \"contourcarpet\"}], \"heatmap\": [{\"colorbar\": {\"outlinewidth\": 0, \"ticks\": \"\"}, \"colorscale\": [[0.0, \"#0d0887\"], [0.1111111111111111, \"#46039f\"], [0.2222222222222222, \"#7201a8\"], [0.3333333333333333, \"#9c179e\"], [0.4444444444444444, \"#bd3786\"], [0.5555555555555556, \"#d8576b\"], [0.6666666666666666, \"#ed7953\"], [0.7777777777777778, \"#fb9f3a\"], [0.8888888888888888, \"#fdca26\"], [1.0, \"#f0f921\"]], \"type\": \"heatmap\"}], \"heatmapgl\": [{\"colorbar\": {\"outlinewidth\": 0, \"ticks\": \"\"}, \"colorscale\": [[0.0, \"#0d0887\"], [0.1111111111111111, \"#46039f\"], [0.2222222222222222, \"#7201a8\"], [0.3333333333333333, \"#9c179e\"], [0.4444444444444444, \"#bd3786\"], [0.5555555555555556, \"#d8576b\"], [0.6666666666666666, \"#ed7953\"], [0.7777777777777778, \"#fb9f3a\"], [0.8888888888888888, \"#fdca26\"], [1.0, \"#f0f921\"]], \"type\": \"heatmapgl\"}], \"histogram\": [{\"marker\": {\"colorbar\": {\"outlinewidth\": 0, \"ticks\": \"\"}}, \"type\": \"histogram\"}], \"histogram2d\": [{\"colorbar\": {\"outlinewidth\": 0, \"ticks\": \"\"}, \"colorscale\": [[0.0, \"#0d0887\"], [0.1111111111111111, \"#46039f\"], [0.2222222222222222, \"#7201a8\"], [0.3333333333333333, \"#9c179e\"], [0.4444444444444444, \"#bd3786\"], [0.5555555555555556, \"#d8576b\"], [0.6666666666666666, \"#ed7953\"], [0.7777777777777778, \"#fb9f3a\"], [0.8888888888888888, \"#fdca26\"], [1.0, \"#f0f921\"]], \"type\": \"histogram2d\"}], \"histogram2dcontour\": [{\"colorbar\": {\"outlinewidth\": 0, \"ticks\": \"\"}, \"colorscale\": [[0.0, \"#0d0887\"], [0.1111111111111111, \"#46039f\"], [0.2222222222222222, \"#7201a8\"], [0.3333333333333333, \"#9c179e\"], [0.4444444444444444, \"#bd3786\"], [0.5555555555555556, \"#d8576b\"], [0.6666666666666666, \"#ed7953\"], [0.7777777777777778, \"#fb9f3a\"], [0.8888888888888888, \"#fdca26\"], [1.0, \"#f0f921\"]], \"type\": \"histogram2dcontour\"}], \"mesh3d\": [{\"colorbar\": {\"outlinewidth\": 0, \"ticks\": \"\"}, \"type\": \"mesh3d\"}], \"parcoords\": [{\"line\": {\"colorbar\": {\"outlinewidth\": 0, \"ticks\": \"\"}}, \"type\": \"parcoords\"}], \"pie\": [{\"automargin\": true, \"type\": \"pie\"}], \"scatter\": [{\"marker\": {\"colorbar\": {\"outlinewidth\": 0, \"ticks\": \"\"}}, \"type\": \"scatter\"}], \"scatter3d\": [{\"line\": {\"colorbar\": {\"outlinewidth\": 0, \"ticks\": \"\"}}, \"marker\": {\"colorbar\": {\"outlinewidth\": 0, \"ticks\": \"\"}}, \"type\": \"scatter3d\"}], \"scattercarpet\": [{\"marker\": {\"colorbar\": {\"outlinewidth\": 0, \"ticks\": \"\"}}, \"type\": \"scattercarpet\"}], \"scattergeo\": [{\"marker\": {\"colorbar\": {\"outlinewidth\": 0, \"ticks\": \"\"}}, \"type\": \"scattergeo\"}], \"scattergl\": [{\"marker\": {\"colorbar\": {\"outlinewidth\": 0, \"ticks\": \"\"}}, \"type\": \"scattergl\"}], \"scattermapbox\": [{\"marker\": {\"colorbar\": {\"outlinewidth\": 0, \"ticks\": \"\"}}, \"type\": \"scattermapbox\"}], \"scatterpolar\": [{\"marker\": {\"colorbar\": {\"outlinewidth\": 0, \"ticks\": \"\"}}, \"type\": \"scatterpolar\"}], \"scatterpolargl\": [{\"marker\": {\"colorbar\": {\"outlinewidth\": 0, \"ticks\": \"\"}}, \"type\": \"scatterpolargl\"}], \"scatterternary\": [{\"marker\": {\"colorbar\": {\"outlinewidth\": 0, \"ticks\": \"\"}}, \"type\": \"scatterternary\"}], \"surface\": [{\"colorbar\": {\"outlinewidth\": 0, \"ticks\": \"\"}, \"colorscale\": [[0.0, \"#0d0887\"], [0.1111111111111111, \"#46039f\"], [0.2222222222222222, \"#7201a8\"], [0.3333333333333333, \"#9c179e\"], [0.4444444444444444, \"#bd3786\"], [0.5555555555555556, \"#d8576b\"], [0.6666666666666666, \"#ed7953\"], [0.7777777777777778, \"#fb9f3a\"], [0.8888888888888888, \"#fdca26\"], [1.0, \"#f0f921\"]], \"type\": \"surface\"}], \"table\": [{\"cells\": {\"fill\": {\"color\": \"#EBF0F8\"}, \"line\": {\"color\": \"white\"}}, \"header\": {\"fill\": {\"color\": \"#C8D4E3\"}, \"line\": {\"color\": \"white\"}}, \"type\": \"table\"}]}, \"layout\": {\"annotationdefaults\": {\"arrowcolor\": \"#2a3f5f\", \"arrowhead\": 0, \"arrowwidth\": 1}, \"coloraxis\": {\"colorbar\": {\"outlinewidth\": 0, \"ticks\": \"\"}}, \"colorscale\": {\"diverging\": [[0, \"#8e0152\"], [0.1, \"#c51b7d\"], [0.2, \"#de77ae\"], [0.3, \"#f1b6da\"], [0.4, \"#fde0ef\"], [0.5, \"#f7f7f7\"], [0.6, \"#e6f5d0\"], [0.7, \"#b8e186\"], [0.8, \"#7fbc41\"], [0.9, \"#4d9221\"], [1, \"#276419\"]], \"sequential\": [[0.0, \"#0d0887\"], [0.1111111111111111, \"#46039f\"], [0.2222222222222222, \"#7201a8\"], [0.3333333333333333, \"#9c179e\"], [0.4444444444444444, \"#bd3786\"], [0.5555555555555556, \"#d8576b\"], [0.6666666666666666, \"#ed7953\"], [0.7777777777777778, \"#fb9f3a\"], [0.8888888888888888, \"#fdca26\"], [1.0, \"#f0f921\"]], \"sequentialminus\": [[0.0, \"#0d0887\"], [0.1111111111111111, \"#46039f\"], [0.2222222222222222, \"#7201a8\"], [0.3333333333333333, \"#9c179e\"], [0.4444444444444444, \"#bd3786\"], [0.5555555555555556, \"#d8576b\"], [0.6666666666666666, \"#ed7953\"], [0.7777777777777778, \"#fb9f3a\"], [0.8888888888888888, \"#fdca26\"], [1.0, \"#f0f921\"]]}, \"colorway\": [\"#636efa\", \"#EF553B\", \"#00cc96\", \"#ab63fa\", \"#FFA15A\", \"#19d3f3\", \"#FF6692\", \"#B6E880\", \"#FF97FF\", \"#FECB52\"], \"font\": {\"color\": \"#2a3f5f\"}, \"geo\": {\"bgcolor\": \"white\", \"lakecolor\": \"white\", \"landcolor\": \"#E5ECF6\", \"showlakes\": true, \"showland\": true, \"subunitcolor\": \"white\"}, \"hoverlabel\": {\"align\": \"left\"}, \"hovermode\": \"closest\", \"mapbox\": {\"style\": \"light\"}, \"paper_bgcolor\": \"white\", \"plot_bgcolor\": \"#E5ECF6\", \"polar\": {\"angularaxis\": {\"gridcolor\": \"white\", \"linecolor\": \"white\", \"ticks\": \"\"}, \"bgcolor\": \"#E5ECF6\", \"radialaxis\": {\"gridcolor\": \"white\", \"linecolor\": \"white\", \"ticks\": \"\"}}, \"scene\": {\"xaxis\": {\"backgroundcolor\": \"#E5ECF6\", \"gridcolor\": \"white\", \"gridwidth\": 2, \"linecolor\": \"white\", \"showbackground\": true, \"ticks\": \"\", \"zerolinecolor\": \"white\"}, \"yaxis\": {\"backgroundcolor\": \"#E5ECF6\", \"gridcolor\": \"white\", \"gridwidth\": 2, \"linecolor\": \"white\", \"showbackground\": true, \"ticks\": \"\", \"zerolinecolor\": \"white\"}, \"zaxis\": {\"backgroundcolor\": \"#E5ECF6\", \"gridcolor\": \"white\", \"gridwidth\": 2, \"linecolor\": \"white\", \"showbackground\": true, \"ticks\": \"\", \"zerolinecolor\": \"white\"}}, \"shapedefaults\": {\"line\": {\"color\": \"#2a3f5f\"}}, \"ternary\": {\"aaxis\": {\"gridcolor\": \"white\", \"linecolor\": \"white\", \"ticks\": \"\"}, \"baxis\": {\"gridcolor\": \"white\", \"linecolor\": \"white\", \"ticks\": \"\"}, \"bgcolor\": \"#E5ECF6\", \"caxis\": {\"gridcolor\": \"white\", \"linecolor\": \"white\", \"ticks\": \"\"}}, \"title\": {\"x\": 0.05}, \"xaxis\": {\"automargin\": true, \"gridcolor\": \"white\", \"linecolor\": \"white\", \"ticks\": \"\", \"title\": {\"standoff\": 15}, \"zerolinecolor\": \"white\", \"zerolinewidth\": 2}, \"yaxis\": {\"automargin\": true, \"gridcolor\": \"white\", \"linecolor\": \"white\", \"ticks\": \"\", \"title\": {\"standoff\": 15}, \"zerolinecolor\": \"white\", \"zerolinewidth\": 2}}}, \"title\": {\"font\": {\"color\": \"#4D5663\"}}, \"xaxis\": {\"gridcolor\": \"#E1E5ED\", \"showgrid\": true, \"tickfont\": {\"color\": \"#4D5663\"}, \"title\": {\"font\": {\"color\": \"#4D5663\"}, \"text\": \"\"}, \"zerolinecolor\": \"#E1E5ED\"}, \"yaxis\": {\"gridcolor\": \"#E1E5ED\", \"showgrid\": true, \"tickfont\": {\"color\": \"#4D5663\"}, \"title\": {\"font\": {\"color\": \"#4D5663\"}, \"text\": \"\"}, \"zerolinecolor\": \"#E1E5ED\"}},\n",
       "                        {\"showLink\": true, \"linkText\": \"Export to plot.ly\", \"plotlyServerURL\": \"https://plot.ly\", \"responsive\": true}\n",
       "                    ).then(function(){\n",
       "                            \n",
       "var gd = document.getElementById('1b9d45c6-5f4e-45b2-8320-ae21c46792b4');\n",
       "var x = new MutationObserver(function (mutations, observer) {{\n",
       "        var display = window.getComputedStyle(gd).display;\n",
       "        if (!display || display === 'none') {{\n",
       "            console.log([gd, 'removed!']);\n",
       "            Plotly.purge(gd);\n",
       "            observer.disconnect();\n",
       "        }}\n",
       "}});\n",
       "\n",
       "// Listen for the removal of the full notebook cells\n",
       "var notebookContainer = gd.closest('#notebook-container');\n",
       "if (notebookContainer) {{\n",
       "    x.observe(notebookContainer, {childList: true});\n",
       "}}\n",
       "\n",
       "// Listen for the clearing of the current output cell\n",
       "var outputEl = gd.closest('.output');\n",
       "if (outputEl) {{\n",
       "    x.observe(outputEl, {childList: true});\n",
       "}}\n",
       "\n",
       "                        })\n",
       "                };\n",
       "                });\n",
       "            </script>\n",
       "        </div>"
      ]
     },
     "metadata": {},
     "output_type": "display_data"
    }
   ],
   "source": [
    "df.iplot(kind='bar',barmode='stack',bargap=.1)"
   ]
  },
  {
   "cell_type": "code",
   "execution_count": 64,
   "metadata": {},
   "outputs": [],
   "source": [
    "# SUBPLOT"
   ]
  },
  {
   "cell_type": "code",
   "execution_count": 65,
   "metadata": {},
   "outputs": [
    {
     "data": {
      "application/vnd.plotly.v1+json": {
       "config": {
        "linkText": "Export to plot.ly",
        "plotlyServerURL": "https://plot.ly",
        "showLink": true
       },
       "data": [
        {
         "line": {
          "color": "rgba(255, 153, 51, 1.0)",
          "dash": "solid",
          "shape": "linear",
          "width": 1.3
         },
         "mode": "lines",
         "name": "IBM",
         "text": "",
         "type": "scatter",
         "x": [
          "2015-01-01",
          "2015-01-02",
          "2015-01-03",
          "2015-01-04",
          "2015-01-05",
          "2015-01-06",
          "2015-01-07",
          "2015-01-08",
          "2015-01-09",
          "2015-01-10",
          "2015-01-11",
          "2015-01-12",
          "2015-01-13",
          "2015-01-14",
          "2015-01-15",
          "2015-01-16",
          "2015-01-17",
          "2015-01-18",
          "2015-01-19",
          "2015-01-20",
          "2015-01-21",
          "2015-01-22",
          "2015-01-23",
          "2015-01-24",
          "2015-01-25",
          "2015-01-26",
          "2015-01-27",
          "2015-01-28",
          "2015-01-29",
          "2015-01-30",
          "2015-01-31",
          "2015-02-01",
          "2015-02-02",
          "2015-02-03",
          "2015-02-04",
          "2015-02-05",
          "2015-02-06",
          "2015-02-07",
          "2015-02-08",
          "2015-02-09",
          "2015-02-10",
          "2015-02-11",
          "2015-02-12",
          "2015-02-13",
          "2015-02-14",
          "2015-02-15",
          "2015-02-16",
          "2015-02-17",
          "2015-02-18",
          "2015-02-19",
          "2015-02-20",
          "2015-02-21",
          "2015-02-22",
          "2015-02-23",
          "2015-02-24",
          "2015-02-25",
          "2015-02-26",
          "2015-02-27",
          "2015-02-28",
          "2015-03-01",
          "2015-03-02",
          "2015-03-03",
          "2015-03-04",
          "2015-03-05",
          "2015-03-06",
          "2015-03-07",
          "2015-03-08",
          "2015-03-09",
          "2015-03-10",
          "2015-03-11",
          "2015-03-12",
          "2015-03-13",
          "2015-03-14",
          "2015-03-15",
          "2015-03-16",
          "2015-03-17",
          "2015-03-18",
          "2015-03-19",
          "2015-03-20",
          "2015-03-21",
          "2015-03-22",
          "2015-03-23",
          "2015-03-24",
          "2015-03-25",
          "2015-03-26",
          "2015-03-27",
          "2015-03-28",
          "2015-03-29",
          "2015-03-30",
          "2015-03-31",
          "2015-04-01",
          "2015-04-02",
          "2015-04-03",
          "2015-04-04",
          "2015-04-05",
          "2015-04-06",
          "2015-04-07",
          "2015-04-08",
          "2015-04-09",
          "2015-04-10"
         ],
         "xaxis": "x",
         "y": [
          -1.2868801566664638,
          -2.028366513807729,
          -2.760879106191367,
          -1.9911859649445645,
          -1.1698265723057135,
          -0.9720902802456763,
          -1.3893692343289523,
          0.15751532682256508,
          0.28067988699811575,
          -0.5107120093055321,
          -1.8063687051293358,
          -1.7921784377934262,
          -1.1044874291941618,
          -0.2664229033287746,
          -0.6256421886729924,
          0.4121968431481302,
          1.8992288911822006,
          0.4713284609322743,
          2.994948247125084,
          3.0066845652519816,
          4.428386071353853,
          4.91527793224154,
          5.9599498493520535,
          6.1134080683029515,
          5.3533745076686206,
          5.293323668532801,
          4.099962721172125,
          5.217635982306543,
          6.071263872872076,
          4.6433790700021245,
          3.7602602888241847,
          3.281740775327897,
          2.7404638966339827,
          3.3387539342756676,
          4.0286684579720395,
          5.549431907856821,
          7.7754320531931445,
          6.322731592099521,
          6.500348418463007,
          4.307960773824358,
          5.299420681700493,
          6.887429791634869,
          8.867227597756447,
          9.705505785295987,
          9.727310508705818,
          9.47542189494929,
          10.024088259089691,
          9.98684737225707,
          10.69468858425811,
          12.590123161193892,
          11.782826178393798,
          10.917174155836495,
          10.734616926162627,
          10.241322244735414,
          10.641312793916578,
          9.281628379084083,
          9.400145386809678,
          8.651862561935062,
          7.565414896511578,
          6.965260757342342,
          6.707417689495253,
          5.298031156312341,
          5.189613710611087,
          6.38226310279424,
          6.183136169656518,
          5.612166391713544,
          6.39114867505892,
          6.579941941996416,
          8.383442583844783,
          7.707907622852362,
          6.38780750561438,
          6.444029553587608,
          6.607992301383706,
          5.807273092823491,
          6.986991314869297,
          8.092324810185454,
          7.438659031910002,
          7.801618929657894,
          8.167147603397437,
          8.31903075035327,
          7.29850862750133,
          7.512739654299573,
          6.420792527152818,
          7.055018729110213,
          7.0770407319095945,
          7.117641048349709,
          7.345524557970403,
          5.752190402863436,
          6.273101375049812,
          6.278722472055344,
          5.7539515553200955,
          3.1068215726052926,
          2.7290057360970037,
          1.2653832609269167,
          2.2899432891116005,
          1.9511362641198013,
          1.5916454981489803,
          2.1430788859714105,
          2.542681463390741,
          1.530278277459552
         ],
         "yaxis": "y"
        },
        {
         "line": {
          "color": "rgba(55, 128, 191, 1.0)",
          "dash": "solid",
          "shape": "linear",
          "width": 1.3
         },
         "mode": "lines",
         "name": "MSFT",
         "text": "",
         "type": "scatter",
         "x": [
          "2015-01-01",
          "2015-01-02",
          "2015-01-03",
          "2015-01-04",
          "2015-01-05",
          "2015-01-06",
          "2015-01-07",
          "2015-01-08",
          "2015-01-09",
          "2015-01-10",
          "2015-01-11",
          "2015-01-12",
          "2015-01-13",
          "2015-01-14",
          "2015-01-15",
          "2015-01-16",
          "2015-01-17",
          "2015-01-18",
          "2015-01-19",
          "2015-01-20",
          "2015-01-21",
          "2015-01-22",
          "2015-01-23",
          "2015-01-24",
          "2015-01-25",
          "2015-01-26",
          "2015-01-27",
          "2015-01-28",
          "2015-01-29",
          "2015-01-30",
          "2015-01-31",
          "2015-02-01",
          "2015-02-02",
          "2015-02-03",
          "2015-02-04",
          "2015-02-05",
          "2015-02-06",
          "2015-02-07",
          "2015-02-08",
          "2015-02-09",
          "2015-02-10",
          "2015-02-11",
          "2015-02-12",
          "2015-02-13",
          "2015-02-14",
          "2015-02-15",
          "2015-02-16",
          "2015-02-17",
          "2015-02-18",
          "2015-02-19",
          "2015-02-20",
          "2015-02-21",
          "2015-02-22",
          "2015-02-23",
          "2015-02-24",
          "2015-02-25",
          "2015-02-26",
          "2015-02-27",
          "2015-02-28",
          "2015-03-01",
          "2015-03-02",
          "2015-03-03",
          "2015-03-04",
          "2015-03-05",
          "2015-03-06",
          "2015-03-07",
          "2015-03-08",
          "2015-03-09",
          "2015-03-10",
          "2015-03-11",
          "2015-03-12",
          "2015-03-13",
          "2015-03-14",
          "2015-03-15",
          "2015-03-16",
          "2015-03-17",
          "2015-03-18",
          "2015-03-19",
          "2015-03-20",
          "2015-03-21",
          "2015-03-22",
          "2015-03-23",
          "2015-03-24",
          "2015-03-25",
          "2015-03-26",
          "2015-03-27",
          "2015-03-28",
          "2015-03-29",
          "2015-03-30",
          "2015-03-31",
          "2015-04-01",
          "2015-04-02",
          "2015-04-03",
          "2015-04-04",
          "2015-04-05",
          "2015-04-06",
          "2015-04-07",
          "2015-04-08",
          "2015-04-09",
          "2015-04-10"
         ],
         "xaxis": "x2",
         "y": [
          -0.14231784552685722,
          0.0038383488741102756,
          -1.394342441102017,
          0.05281310065044109,
          -1.2953856887317763,
          -0.23262923631253374,
          -2.5064608920511025,
          -3.6201295377974985,
          -2.959479810992466,
          -3.772544722719001,
          -3.0709588325198514,
          -2.0375398840254366,
          -2.1693398305300824,
          -3.2990288162994386,
          -4.890590132460698,
          -4.15033703004252,
          -4.176687297989628,
          -4.5205820294304235,
          -4.414951077438917,
          -4.950842185052673,
          -6.320562459093343,
          -6.44888710392168,
          -6.020839447515197,
          -5.785039010002954,
          -6.093129681526676,
          -6.634138955952207,
          -6.570694424396184,
          -6.521643404930816,
          -5.299024933004039,
          -6.0886710847423435,
          -5.881060365924777,
          -3.915482394403372,
          -3.9827955274268745,
          -4.147845784640805,
          -3.42504253118667,
          -4.40082690854008,
          -4.075525471295986,
          -2.861534944561367,
          -3.781912959044849,
          -4.333547172371902,
          -3.7095920728127374,
          -3.4750745616048015,
          -2.747492006580319,
          -0.9979818882593192,
          -1.0647188197146276,
          -0.8955434858458016,
          -0.6519956098049098,
          1.6492927283038028,
          3.387224087556209,
          4.513566073082565,
          5.430806739184705,
          4.907521152193672,
          2.8095620478423875,
          2.915435824696081,
          1.5200875838787369,
          2.429132108080452,
          3.7756335804841363,
          4.002064408796806,
          3.4628516327730687,
          3.214324464767252,
          3.8560726788603708,
          2.2554862113398633,
          2.9445092783273754,
          3.5262828903204313,
          2.463193248025804,
          1.7260733152151322,
          0.7398626546489155,
          0.4719722351730572,
          0.9991489857126875,
          1.9463121727900423,
          0.23353648657121595,
          1.0453540766324032,
          0.8125285169010912,
          0.21356493176886515,
          0.28570457417174555,
          0.11812423461881866,
          0.4917748669935742,
          0.36077971790123253,
          0.5972969247795444,
          0.7236739472521214,
          2.636233090974466,
          1.069513681161607,
          0.28665585447293573,
          0.19369838104339726,
          0.35621491824623663,
          3.048403464903692,
          4.677726795508604,
          4.894177005591278,
          4.787507408289258,
          4.951135431932031,
          4.884774009715971,
          3.5625808936247694,
          2.9640904467996405,
          2.6843113704032233,
          2.530433555830813,
          5.248023191199183,
          4.349788040925403,
          5.450810783635532,
          5.052823592404031,
          5.15929729082009
         ],
         "yaxis": "y2"
        },
        {
         "line": {
          "color": "rgba(50, 171, 96, 1.0)",
          "dash": "solid",
          "shape": "linear",
          "width": 1.3
         },
         "mode": "lines",
         "name": "GOOG",
         "text": "",
         "type": "scatter",
         "x": [
          "2015-01-01",
          "2015-01-02",
          "2015-01-03",
          "2015-01-04",
          "2015-01-05",
          "2015-01-06",
          "2015-01-07",
          "2015-01-08",
          "2015-01-09",
          "2015-01-10",
          "2015-01-11",
          "2015-01-12",
          "2015-01-13",
          "2015-01-14",
          "2015-01-15",
          "2015-01-16",
          "2015-01-17",
          "2015-01-18",
          "2015-01-19",
          "2015-01-20",
          "2015-01-21",
          "2015-01-22",
          "2015-01-23",
          "2015-01-24",
          "2015-01-25",
          "2015-01-26",
          "2015-01-27",
          "2015-01-28",
          "2015-01-29",
          "2015-01-30",
          "2015-01-31",
          "2015-02-01",
          "2015-02-02",
          "2015-02-03",
          "2015-02-04",
          "2015-02-05",
          "2015-02-06",
          "2015-02-07",
          "2015-02-08",
          "2015-02-09",
          "2015-02-10",
          "2015-02-11",
          "2015-02-12",
          "2015-02-13",
          "2015-02-14",
          "2015-02-15",
          "2015-02-16",
          "2015-02-17",
          "2015-02-18",
          "2015-02-19",
          "2015-02-20",
          "2015-02-21",
          "2015-02-22",
          "2015-02-23",
          "2015-02-24",
          "2015-02-25",
          "2015-02-26",
          "2015-02-27",
          "2015-02-28",
          "2015-03-01",
          "2015-03-02",
          "2015-03-03",
          "2015-03-04",
          "2015-03-05",
          "2015-03-06",
          "2015-03-07",
          "2015-03-08",
          "2015-03-09",
          "2015-03-10",
          "2015-03-11",
          "2015-03-12",
          "2015-03-13",
          "2015-03-14",
          "2015-03-15",
          "2015-03-16",
          "2015-03-17",
          "2015-03-18",
          "2015-03-19",
          "2015-03-20",
          "2015-03-21",
          "2015-03-22",
          "2015-03-23",
          "2015-03-24",
          "2015-03-25",
          "2015-03-26",
          "2015-03-27",
          "2015-03-28",
          "2015-03-29",
          "2015-03-30",
          "2015-03-31",
          "2015-04-01",
          "2015-04-02",
          "2015-04-03",
          "2015-04-04",
          "2015-04-05",
          "2015-04-06",
          "2015-04-07",
          "2015-04-08",
          "2015-04-09",
          "2015-04-10"
         ],
         "xaxis": "x3",
         "y": [
          0.887859548430912,
          -0.12442855812384623,
          0.31510584146026,
          -0.3620399760333849,
          0.060047799161180415,
          0.489542542000453,
          0.39864526286565544,
          -0.12691305706221562,
          -0.14653742623622149,
          -1.9942051171963504,
          -1.3676444884468961,
          -0.8372557932333661,
          -1.9188470342391222,
          -1.176425895752355,
          -0.5063944395571112,
          -0.6230886218617776,
          -0.6637716155230189,
          -0.44370395604865664,
          -1.0502230320712198,
          -1.884455201532628,
          -0.8465602088727773,
          -0.2594989167460039,
          -1.9955610009465663,
          -2.221501710910537,
          -3.217375118573837,
          -3.6208546163065196,
          -4.929555124356471,
          -4.840508167100383,
          -3.827535434970696,
          -3.867032210267071,
          -4.5063002992719685,
          -4.925453159939044,
          -4.174179782827053,
          -2.657263222654409,
          -4.307262797144048,
          -5.304732773389594,
          -4.618642038632928,
          -5.7364532527662195,
          -4.392594886900887,
          -4.4558778061555255,
          -4.9857689109230625,
          -4.156439892523207,
          -3.3815162927726474,
          -4.524633232529935,
          -2.1656811236745916,
          -3.1885135351785516,
          -3.9006128888640728,
          -4.077345971346925,
          -4.000916020536469,
          -4.4098462746028675,
          -5.639320258383571,
          -5.687101247473266,
          -5.0688162769214875,
          -5.728851900477398,
          -6.343303939209772,
          -9.328835099025895,
          -8.860782654790022,
          -8.766972470016524,
          -7.71034017674116,
          -7.34436940021025,
          -7.352338908426178,
          -5.660115446029203,
          -6.6854008273788335,
          -5.682223402388089,
          -6.9632825041098405,
          -6.678646553285244,
          -5.752049999433002,
          -6.881893383159216,
          -6.5453962916602375,
          -5.039119802550206,
          -5.338956969174161,
          -4.4834048889550315,
          -3.927119209210786,
          -4.914573738720649,
          -6.567959222482106,
          -7.620031172452751,
          -7.607736110887162,
          -7.5546361814823495,
          -7.144042517705126,
          -7.123148748328626,
          -6.136712449596261,
          -6.365268583170922,
          -7.46153901912162,
          -7.887593355698787,
          -7.24361705197415,
          -6.356909555910471,
          -5.176156220893024,
          -6.80156252352153,
          -6.802162108296153,
          -6.313537622663519,
          -3.5447733332150233,
          -3.9845629222544896,
          -2.854306918829467,
          -2.6727676110848138,
          -2.985194155696666,
          -1.9778983711938678,
          -2.829599717537466,
          -2.256304104822701,
          -3.0652309473468895,
          -3.641370706696887
         ],
         "yaxis": "y3"
        },
        {
         "line": {
          "color": "rgba(128, 0, 128, 1.0)",
          "dash": "solid",
          "shape": "linear",
          "width": 1.3
         },
         "mode": "lines",
         "name": "VERZ",
         "text": "",
         "type": "scatter",
         "x": [
          "2015-01-01",
          "2015-01-02",
          "2015-01-03",
          "2015-01-04",
          "2015-01-05",
          "2015-01-06",
          "2015-01-07",
          "2015-01-08",
          "2015-01-09",
          "2015-01-10",
          "2015-01-11",
          "2015-01-12",
          "2015-01-13",
          "2015-01-14",
          "2015-01-15",
          "2015-01-16",
          "2015-01-17",
          "2015-01-18",
          "2015-01-19",
          "2015-01-20",
          "2015-01-21",
          "2015-01-22",
          "2015-01-23",
          "2015-01-24",
          "2015-01-25",
          "2015-01-26",
          "2015-01-27",
          "2015-01-28",
          "2015-01-29",
          "2015-01-30",
          "2015-01-31",
          "2015-02-01",
          "2015-02-02",
          "2015-02-03",
          "2015-02-04",
          "2015-02-05",
          "2015-02-06",
          "2015-02-07",
          "2015-02-08",
          "2015-02-09",
          "2015-02-10",
          "2015-02-11",
          "2015-02-12",
          "2015-02-13",
          "2015-02-14",
          "2015-02-15",
          "2015-02-16",
          "2015-02-17",
          "2015-02-18",
          "2015-02-19",
          "2015-02-20",
          "2015-02-21",
          "2015-02-22",
          "2015-02-23",
          "2015-02-24",
          "2015-02-25",
          "2015-02-26",
          "2015-02-27",
          "2015-02-28",
          "2015-03-01",
          "2015-03-02",
          "2015-03-03",
          "2015-03-04",
          "2015-03-05",
          "2015-03-06",
          "2015-03-07",
          "2015-03-08",
          "2015-03-09",
          "2015-03-10",
          "2015-03-11",
          "2015-03-12",
          "2015-03-13",
          "2015-03-14",
          "2015-03-15",
          "2015-03-16",
          "2015-03-17",
          "2015-03-18",
          "2015-03-19",
          "2015-03-20",
          "2015-03-21",
          "2015-03-22",
          "2015-03-23",
          "2015-03-24",
          "2015-03-25",
          "2015-03-26",
          "2015-03-27",
          "2015-03-28",
          "2015-03-29",
          "2015-03-30",
          "2015-03-31",
          "2015-04-01",
          "2015-04-02",
          "2015-04-03",
          "2015-04-04",
          "2015-04-05",
          "2015-04-06",
          "2015-04-07",
          "2015-04-08",
          "2015-04-09",
          "2015-04-10"
         ],
         "xaxis": "x4",
         "y": [
          0.2048742448337656,
          0.3995130615403163,
          0.5136290915851257,
          0.02076516140369261,
          0.7226077593218854,
          0.05684612597054928,
          -2.290373173966028,
          -3.352705324762807,
          -3.7250925423200565,
          -4.793135650456053,
          -5.329050597202418,
          -4.387591592305006,
          -4.049448089904911,
          -5.709282777034537,
          -6.328159594193041,
          -5.224321790483151,
          -5.2544049851922985,
          -5.421682067272712,
          -5.453447794943075,
          -5.2185053146589,
          -5.352828044506808,
          -6.099418933938748,
          -5.385357244049113,
          -5.133670710990421,
          -4.985790773356901,
          -4.275721196167301,
          -4.568176178165343,
          -4.250215743788066,
          -2.6250793292773977,
          -1.4682659462139522,
          -2.1133744171717304,
          -2.3256163870395024,
          -2.5325475124338666,
          -2.8567767576541843,
          -2.1431314030437036,
          -1.7670788605729655,
          -2.296789904733288,
          -2.2121516024694006,
          -3.5342462146632085,
          -0.6964724804885365,
          1.3477234161467004,
          1.441712672948758,
          2.1058407403647976,
          1.9878836781924143,
          2.733661743162101,
          4.07587656098306,
          4.494268791352438,
          2.7551554418904525,
          3.4262226942585743,
          4.261906636597172,
          5.644921824628,
          4.413022382756968,
          5.910088337610661,
          6.542923789958097,
          6.312824948758883,
          7.0707387309998815,
          9.908110224085755,
          9.306542233112879,
          10.085829266774926,
          9.708254599022629,
          9.67875256616383,
          7.916943299423433,
          7.5583217288247715,
          8.46681747105512,
          9.205058014250898,
          7.777162993877683,
          7.405956989690508,
          8.820618268349833,
          8.580023758687686,
          7.351488938534795,
          4.329475295100899,
          3.2757851795090573,
          4.595116532455589,
          5.783659442360334,
          3.7878041018828923,
          3.044704452625716,
          2.0189657021517684,
          4.274722764937334,
          5.893714987065865,
          5.18398622503782,
          4.890734539739318,
          5.259914377771817,
          4.2388250269525924,
          2.228345073405111,
          1.0172014863258558,
          2.904580330298862,
          1.6375736383990258,
          1.6730927768195931,
          0.3295055389813142,
          1.1186980436244327,
          0.3825970786381174,
          0.2403846669254254,
          1.3424608810215752,
          2.0175060395052333,
          1.8490765888226344,
          2.361676998871574,
          2.3661487164680395,
          4.650347499849967,
          4.779357897092006,
          5.318865454818467
         ],
         "yaxis": "y4"
        },
        {
         "line": {
          "color": "rgba(219, 64, 82, 1.0)",
          "dash": "solid",
          "shape": "linear",
          "width": 1.3
         },
         "mode": "lines",
         "name": "APPL",
         "text": "",
         "type": "scatter",
         "x": [
          "2015-01-01",
          "2015-01-02",
          "2015-01-03",
          "2015-01-04",
          "2015-01-05",
          "2015-01-06",
          "2015-01-07",
          "2015-01-08",
          "2015-01-09",
          "2015-01-10",
          "2015-01-11",
          "2015-01-12",
          "2015-01-13",
          "2015-01-14",
          "2015-01-15",
          "2015-01-16",
          "2015-01-17",
          "2015-01-18",
          "2015-01-19",
          "2015-01-20",
          "2015-01-21",
          "2015-01-22",
          "2015-01-23",
          "2015-01-24",
          "2015-01-25",
          "2015-01-26",
          "2015-01-27",
          "2015-01-28",
          "2015-01-29",
          "2015-01-30",
          "2015-01-31",
          "2015-02-01",
          "2015-02-02",
          "2015-02-03",
          "2015-02-04",
          "2015-02-05",
          "2015-02-06",
          "2015-02-07",
          "2015-02-08",
          "2015-02-09",
          "2015-02-10",
          "2015-02-11",
          "2015-02-12",
          "2015-02-13",
          "2015-02-14",
          "2015-02-15",
          "2015-02-16",
          "2015-02-17",
          "2015-02-18",
          "2015-02-19",
          "2015-02-20",
          "2015-02-21",
          "2015-02-22",
          "2015-02-23",
          "2015-02-24",
          "2015-02-25",
          "2015-02-26",
          "2015-02-27",
          "2015-02-28",
          "2015-03-01",
          "2015-03-02",
          "2015-03-03",
          "2015-03-04",
          "2015-03-05",
          "2015-03-06",
          "2015-03-07",
          "2015-03-08",
          "2015-03-09",
          "2015-03-10",
          "2015-03-11",
          "2015-03-12",
          "2015-03-13",
          "2015-03-14",
          "2015-03-15",
          "2015-03-16",
          "2015-03-17",
          "2015-03-18",
          "2015-03-19",
          "2015-03-20",
          "2015-03-21",
          "2015-03-22",
          "2015-03-23",
          "2015-03-24",
          "2015-03-25",
          "2015-03-26",
          "2015-03-27",
          "2015-03-28",
          "2015-03-29",
          "2015-03-30",
          "2015-03-31",
          "2015-04-01",
          "2015-04-02",
          "2015-04-03",
          "2015-04-04",
          "2015-04-05",
          "2015-04-06",
          "2015-04-07",
          "2015-04-08",
          "2015-04-09",
          "2015-04-10"
         ],
         "xaxis": "x5",
         "y": [
          1.0819354668374346,
          2.4799376706733622,
          2.2268051364701633,
          1.0250862796132514,
          0.3554705098107952,
          0.7156871789501777,
          0.1067856256869062,
          -0.123407659403828,
          0.28296814854104424,
          0.49919665559686655,
          -0.006990933535996335,
          0.033384083208729,
          -0.08440237960348058,
          0.7897831313157041,
          1.5201787318987088,
          1.5475803170317657,
          0.8576482186298152,
          2.5467860395958803,
          3.993713288865485,
          4.567833775159525,
          5.183738002370754,
          6.092155689019387,
          6.1823362071732495,
          5.674471133357569,
          5.3441259995195045,
          5.617275592259908,
          6.783773732222309,
          7.198486019655446,
          7.145176329258773,
          6.543734446718874,
          7.312297808122165,
          7.223841848314789,
          7.9514779082905,
          8.561609308063588,
          9.738378487072284,
          9.075752793744627,
          9.831438453795284,
          8.516970286231762,
          8.252832558903457,
          9.533388230834202,
          9.67698655408267,
          10.86849174836057,
          10.669733608987032,
          9.989883871982169,
          8.670283109572248,
          9.577541757674734,
          8.881467530627548,
          10.376316257373494,
          9.81916422882076,
          10.225052700919383,
          10.056165673334721,
          11.05423378093204,
          11.438246334862646,
          10.468756699066553,
          9.87868872301803,
          8.76800846671155,
          6.684972121397745,
          8.078100249152664,
          6.3740120486351195,
          6.699908754451213,
          6.63902778498758,
          7.333955166310478,
          8.539313786810935,
          8.765231793823297,
          8.550945866671988,
          8.648688407218522,
          8.369870777573873,
          7.728510910650162,
          7.187302004909984,
          7.4427073016969105,
          9.038283728844396,
          11.127516915360015,
          12.176216508021733,
          13.642073852393995,
          13.114857135669329,
          13.832452593325161,
          14.912682023756759,
          15.357186361705619,
          17.058373360129018,
          18.476693401175936,
          18.172980321487877,
          19.516504578663504,
          18.750375542604836,
          19.83121087323503,
          20.970407888437194,
          20.46369062990867,
          20.493108587316645,
          19.42665903106606,
          18.742685639947105,
          18.034705834652556,
          18.052638546929252,
          16.476787278642664,
          16.81420963222878,
          15.856823228991814,
          13.806346247259345,
          14.896933576101397,
          15.749362202489804,
          16.287176408588053,
          15.628818851369322,
          15.302790607308463
         ],
         "yaxis": "y5"
        }
       ],
       "layout": {
        "annotations": [
         {
          "font": {
           "size": 16
          },
          "showarrow": false,
          "text": "IBM",
          "x": 0.225,
          "xanchor": "center",
          "xref": "paper",
          "y": 1,
          "yanchor": "bottom",
          "yref": "paper"
         },
         {
          "font": {
           "size": 16
          },
          "showarrow": false,
          "text": "MSFT",
          "x": 0.775,
          "xanchor": "center",
          "xref": "paper",
          "y": 1,
          "yanchor": "bottom",
          "yref": "paper"
         },
         {
          "font": {
           "size": 16
          },
          "showarrow": false,
          "text": "GOOG",
          "x": 0.225,
          "xanchor": "center",
          "xref": "paper",
          "y": 0.6111111111111112,
          "yanchor": "bottom",
          "yref": "paper"
         },
         {
          "font": {
           "size": 16
          },
          "showarrow": false,
          "text": "VERZ",
          "x": 0.775,
          "xanchor": "center",
          "xref": "paper",
          "y": 0.6111111111111112,
          "yanchor": "bottom",
          "yref": "paper"
         },
         {
          "font": {
           "size": 16
          },
          "showarrow": false,
          "text": "APPL",
          "x": 0.225,
          "xanchor": "center",
          "xref": "paper",
          "y": 0.22222222222222224,
          "yanchor": "bottom",
          "yref": "paper"
         }
        ],
        "legend": {
         "bgcolor": "#F5F6F9",
         "font": {
          "color": "#4D5663"
         }
        },
        "paper_bgcolor": "#F5F6F9",
        "plot_bgcolor": "#F5F6F9",
        "showlegend": false,
        "template": {
         "data": {
          "bar": [
           {
            "error_x": {
             "color": "#2a3f5f"
            },
            "error_y": {
             "color": "#2a3f5f"
            },
            "marker": {
             "line": {
              "color": "#E5ECF6",
              "width": 0.5
             }
            },
            "type": "bar"
           }
          ],
          "barpolar": [
           {
            "marker": {
             "line": {
              "color": "#E5ECF6",
              "width": 0.5
             }
            },
            "type": "barpolar"
           }
          ],
          "carpet": [
           {
            "aaxis": {
             "endlinecolor": "#2a3f5f",
             "gridcolor": "white",
             "linecolor": "white",
             "minorgridcolor": "white",
             "startlinecolor": "#2a3f5f"
            },
            "baxis": {
             "endlinecolor": "#2a3f5f",
             "gridcolor": "white",
             "linecolor": "white",
             "minorgridcolor": "white",
             "startlinecolor": "#2a3f5f"
            },
            "type": "carpet"
           }
          ],
          "choropleth": [
           {
            "colorbar": {
             "outlinewidth": 0,
             "ticks": ""
            },
            "type": "choropleth"
           }
          ],
          "contour": [
           {
            "colorbar": {
             "outlinewidth": 0,
             "ticks": ""
            },
            "colorscale": [
             [
              0,
              "#0d0887"
             ],
             [
              0.1111111111111111,
              "#46039f"
             ],
             [
              0.2222222222222222,
              "#7201a8"
             ],
             [
              0.3333333333333333,
              "#9c179e"
             ],
             [
              0.4444444444444444,
              "#bd3786"
             ],
             [
              0.5555555555555556,
              "#d8576b"
             ],
             [
              0.6666666666666666,
              "#ed7953"
             ],
             [
              0.7777777777777778,
              "#fb9f3a"
             ],
             [
              0.8888888888888888,
              "#fdca26"
             ],
             [
              1,
              "#f0f921"
             ]
            ],
            "type": "contour"
           }
          ],
          "contourcarpet": [
           {
            "colorbar": {
             "outlinewidth": 0,
             "ticks": ""
            },
            "type": "contourcarpet"
           }
          ],
          "heatmap": [
           {
            "colorbar": {
             "outlinewidth": 0,
             "ticks": ""
            },
            "colorscale": [
             [
              0,
              "#0d0887"
             ],
             [
              0.1111111111111111,
              "#46039f"
             ],
             [
              0.2222222222222222,
              "#7201a8"
             ],
             [
              0.3333333333333333,
              "#9c179e"
             ],
             [
              0.4444444444444444,
              "#bd3786"
             ],
             [
              0.5555555555555556,
              "#d8576b"
             ],
             [
              0.6666666666666666,
              "#ed7953"
             ],
             [
              0.7777777777777778,
              "#fb9f3a"
             ],
             [
              0.8888888888888888,
              "#fdca26"
             ],
             [
              1,
              "#f0f921"
             ]
            ],
            "type": "heatmap"
           }
          ],
          "heatmapgl": [
           {
            "colorbar": {
             "outlinewidth": 0,
             "ticks": ""
            },
            "colorscale": [
             [
              0,
              "#0d0887"
             ],
             [
              0.1111111111111111,
              "#46039f"
             ],
             [
              0.2222222222222222,
              "#7201a8"
             ],
             [
              0.3333333333333333,
              "#9c179e"
             ],
             [
              0.4444444444444444,
              "#bd3786"
             ],
             [
              0.5555555555555556,
              "#d8576b"
             ],
             [
              0.6666666666666666,
              "#ed7953"
             ],
             [
              0.7777777777777778,
              "#fb9f3a"
             ],
             [
              0.8888888888888888,
              "#fdca26"
             ],
             [
              1,
              "#f0f921"
             ]
            ],
            "type": "heatmapgl"
           }
          ],
          "histogram": [
           {
            "marker": {
             "colorbar": {
              "outlinewidth": 0,
              "ticks": ""
             }
            },
            "type": "histogram"
           }
          ],
          "histogram2d": [
           {
            "colorbar": {
             "outlinewidth": 0,
             "ticks": ""
            },
            "colorscale": [
             [
              0,
              "#0d0887"
             ],
             [
              0.1111111111111111,
              "#46039f"
             ],
             [
              0.2222222222222222,
              "#7201a8"
             ],
             [
              0.3333333333333333,
              "#9c179e"
             ],
             [
              0.4444444444444444,
              "#bd3786"
             ],
             [
              0.5555555555555556,
              "#d8576b"
             ],
             [
              0.6666666666666666,
              "#ed7953"
             ],
             [
              0.7777777777777778,
              "#fb9f3a"
             ],
             [
              0.8888888888888888,
              "#fdca26"
             ],
             [
              1,
              "#f0f921"
             ]
            ],
            "type": "histogram2d"
           }
          ],
          "histogram2dcontour": [
           {
            "colorbar": {
             "outlinewidth": 0,
             "ticks": ""
            },
            "colorscale": [
             [
              0,
              "#0d0887"
             ],
             [
              0.1111111111111111,
              "#46039f"
             ],
             [
              0.2222222222222222,
              "#7201a8"
             ],
             [
              0.3333333333333333,
              "#9c179e"
             ],
             [
              0.4444444444444444,
              "#bd3786"
             ],
             [
              0.5555555555555556,
              "#d8576b"
             ],
             [
              0.6666666666666666,
              "#ed7953"
             ],
             [
              0.7777777777777778,
              "#fb9f3a"
             ],
             [
              0.8888888888888888,
              "#fdca26"
             ],
             [
              1,
              "#f0f921"
             ]
            ],
            "type": "histogram2dcontour"
           }
          ],
          "mesh3d": [
           {
            "colorbar": {
             "outlinewidth": 0,
             "ticks": ""
            },
            "type": "mesh3d"
           }
          ],
          "parcoords": [
           {
            "line": {
             "colorbar": {
              "outlinewidth": 0,
              "ticks": ""
             }
            },
            "type": "parcoords"
           }
          ],
          "pie": [
           {
            "automargin": true,
            "type": "pie"
           }
          ],
          "scatter": [
           {
            "marker": {
             "colorbar": {
              "outlinewidth": 0,
              "ticks": ""
             }
            },
            "type": "scatter"
           }
          ],
          "scatter3d": [
           {
            "line": {
             "colorbar": {
              "outlinewidth": 0,
              "ticks": ""
             }
            },
            "marker": {
             "colorbar": {
              "outlinewidth": 0,
              "ticks": ""
             }
            },
            "type": "scatter3d"
           }
          ],
          "scattercarpet": [
           {
            "marker": {
             "colorbar": {
              "outlinewidth": 0,
              "ticks": ""
             }
            },
            "type": "scattercarpet"
           }
          ],
          "scattergeo": [
           {
            "marker": {
             "colorbar": {
              "outlinewidth": 0,
              "ticks": ""
             }
            },
            "type": "scattergeo"
           }
          ],
          "scattergl": [
           {
            "marker": {
             "colorbar": {
              "outlinewidth": 0,
              "ticks": ""
             }
            },
            "type": "scattergl"
           }
          ],
          "scattermapbox": [
           {
            "marker": {
             "colorbar": {
              "outlinewidth": 0,
              "ticks": ""
             }
            },
            "type": "scattermapbox"
           }
          ],
          "scatterpolar": [
           {
            "marker": {
             "colorbar": {
              "outlinewidth": 0,
              "ticks": ""
             }
            },
            "type": "scatterpolar"
           }
          ],
          "scatterpolargl": [
           {
            "marker": {
             "colorbar": {
              "outlinewidth": 0,
              "ticks": ""
             }
            },
            "type": "scatterpolargl"
           }
          ],
          "scatterternary": [
           {
            "marker": {
             "colorbar": {
              "outlinewidth": 0,
              "ticks": ""
             }
            },
            "type": "scatterternary"
           }
          ],
          "surface": [
           {
            "colorbar": {
             "outlinewidth": 0,
             "ticks": ""
            },
            "colorscale": [
             [
              0,
              "#0d0887"
             ],
             [
              0.1111111111111111,
              "#46039f"
             ],
             [
              0.2222222222222222,
              "#7201a8"
             ],
             [
              0.3333333333333333,
              "#9c179e"
             ],
             [
              0.4444444444444444,
              "#bd3786"
             ],
             [
              0.5555555555555556,
              "#d8576b"
             ],
             [
              0.6666666666666666,
              "#ed7953"
             ],
             [
              0.7777777777777778,
              "#fb9f3a"
             ],
             [
              0.8888888888888888,
              "#fdca26"
             ],
             [
              1,
              "#f0f921"
             ]
            ],
            "type": "surface"
           }
          ],
          "table": [
           {
            "cells": {
             "fill": {
              "color": "#EBF0F8"
             },
             "line": {
              "color": "white"
             }
            },
            "header": {
             "fill": {
              "color": "#C8D4E3"
             },
             "line": {
              "color": "white"
             }
            },
            "type": "table"
           }
          ]
         },
         "layout": {
          "annotationdefaults": {
           "arrowcolor": "#2a3f5f",
           "arrowhead": 0,
           "arrowwidth": 1
          },
          "coloraxis": {
           "colorbar": {
            "outlinewidth": 0,
            "ticks": ""
           }
          },
          "colorscale": {
           "diverging": [
            [
             0,
             "#8e0152"
            ],
            [
             0.1,
             "#c51b7d"
            ],
            [
             0.2,
             "#de77ae"
            ],
            [
             0.3,
             "#f1b6da"
            ],
            [
             0.4,
             "#fde0ef"
            ],
            [
             0.5,
             "#f7f7f7"
            ],
            [
             0.6,
             "#e6f5d0"
            ],
            [
             0.7,
             "#b8e186"
            ],
            [
             0.8,
             "#7fbc41"
            ],
            [
             0.9,
             "#4d9221"
            ],
            [
             1,
             "#276419"
            ]
           ],
           "sequential": [
            [
             0,
             "#0d0887"
            ],
            [
             0.1111111111111111,
             "#46039f"
            ],
            [
             0.2222222222222222,
             "#7201a8"
            ],
            [
             0.3333333333333333,
             "#9c179e"
            ],
            [
             0.4444444444444444,
             "#bd3786"
            ],
            [
             0.5555555555555556,
             "#d8576b"
            ],
            [
             0.6666666666666666,
             "#ed7953"
            ],
            [
             0.7777777777777778,
             "#fb9f3a"
            ],
            [
             0.8888888888888888,
             "#fdca26"
            ],
            [
             1,
             "#f0f921"
            ]
           ],
           "sequentialminus": [
            [
             0,
             "#0d0887"
            ],
            [
             0.1111111111111111,
             "#46039f"
            ],
            [
             0.2222222222222222,
             "#7201a8"
            ],
            [
             0.3333333333333333,
             "#9c179e"
            ],
            [
             0.4444444444444444,
             "#bd3786"
            ],
            [
             0.5555555555555556,
             "#d8576b"
            ],
            [
             0.6666666666666666,
             "#ed7953"
            ],
            [
             0.7777777777777778,
             "#fb9f3a"
            ],
            [
             0.8888888888888888,
             "#fdca26"
            ],
            [
             1,
             "#f0f921"
            ]
           ]
          },
          "colorway": [
           "#636efa",
           "#EF553B",
           "#00cc96",
           "#ab63fa",
           "#FFA15A",
           "#19d3f3",
           "#FF6692",
           "#B6E880",
           "#FF97FF",
           "#FECB52"
          ],
          "font": {
           "color": "#2a3f5f"
          },
          "geo": {
           "bgcolor": "white",
           "lakecolor": "white",
           "landcolor": "#E5ECF6",
           "showlakes": true,
           "showland": true,
           "subunitcolor": "white"
          },
          "hoverlabel": {
           "align": "left"
          },
          "hovermode": "closest",
          "mapbox": {
           "style": "light"
          },
          "paper_bgcolor": "white",
          "plot_bgcolor": "#E5ECF6",
          "polar": {
           "angularaxis": {
            "gridcolor": "white",
            "linecolor": "white",
            "ticks": ""
           },
           "bgcolor": "#E5ECF6",
           "radialaxis": {
            "gridcolor": "white",
            "linecolor": "white",
            "ticks": ""
           }
          },
          "scene": {
           "xaxis": {
            "backgroundcolor": "#E5ECF6",
            "gridcolor": "white",
            "gridwidth": 2,
            "linecolor": "white",
            "showbackground": true,
            "ticks": "",
            "zerolinecolor": "white"
           },
           "yaxis": {
            "backgroundcolor": "#E5ECF6",
            "gridcolor": "white",
            "gridwidth": 2,
            "linecolor": "white",
            "showbackground": true,
            "ticks": "",
            "zerolinecolor": "white"
           },
           "zaxis": {
            "backgroundcolor": "#E5ECF6",
            "gridcolor": "white",
            "gridwidth": 2,
            "linecolor": "white",
            "showbackground": true,
            "ticks": "",
            "zerolinecolor": "white"
           }
          },
          "shapedefaults": {
           "line": {
            "color": "#2a3f5f"
           }
          },
          "ternary": {
           "aaxis": {
            "gridcolor": "white",
            "linecolor": "white",
            "ticks": ""
           },
           "baxis": {
            "gridcolor": "white",
            "linecolor": "white",
            "ticks": ""
           },
           "bgcolor": "#E5ECF6",
           "caxis": {
            "gridcolor": "white",
            "linecolor": "white",
            "ticks": ""
           }
          },
          "title": {
           "x": 0.05
          },
          "xaxis": {
           "automargin": true,
           "gridcolor": "white",
           "linecolor": "white",
           "ticks": "",
           "title": {
            "standoff": 15
           },
           "zerolinecolor": "white",
           "zerolinewidth": 2
          },
          "yaxis": {
           "automargin": true,
           "gridcolor": "white",
           "linecolor": "white",
           "ticks": "",
           "title": {
            "standoff": 15
           },
           "zerolinecolor": "white",
           "zerolinewidth": 2
          }
         }
        },
        "title": {
         "font": {
          "color": "#4D5663"
         }
        },
        "xaxis": {
         "anchor": "y",
         "domain": [
          0,
          0.45
         ],
         "gridcolor": "#E1E5ED",
         "showgrid": true,
         "tickfont": {
          "color": "#4D5663"
         },
         "title": {
          "font": {
           "color": "#4D5663"
          },
          "text": ""
         },
         "zerolinecolor": "#E1E5ED"
        },
        "xaxis2": {
         "anchor": "y2",
         "domain": [
          0.55,
          1
         ],
         "gridcolor": "#E1E5ED",
         "showgrid": true,
         "tickfont": {
          "color": "#4D5663"
         },
         "title": {
          "font": {
           "color": "#4D5663"
          },
          "text": ""
         },
         "zerolinecolor": "#E1E5ED"
        },
        "xaxis3": {
         "anchor": "y3",
         "domain": [
          0,
          0.45
         ],
         "gridcolor": "#E1E5ED",
         "showgrid": true,
         "tickfont": {
          "color": "#4D5663"
         },
         "title": {
          "font": {
           "color": "#4D5663"
          },
          "text": ""
         },
         "zerolinecolor": "#E1E5ED"
        },
        "xaxis4": {
         "anchor": "y4",
         "domain": [
          0.55,
          1
         ],
         "gridcolor": "#E1E5ED",
         "showgrid": true,
         "tickfont": {
          "color": "#4D5663"
         },
         "title": {
          "font": {
           "color": "#4D5663"
          },
          "text": ""
         },
         "zerolinecolor": "#E1E5ED"
        },
        "xaxis5": {
         "anchor": "y5",
         "domain": [
          0,
          0.45
         ],
         "gridcolor": "#E1E5ED",
         "showgrid": true,
         "tickfont": {
          "color": "#4D5663"
         },
         "title": {
          "font": {
           "color": "#4D5663"
          },
          "text": ""
         },
         "zerolinecolor": "#E1E5ED"
        },
        "yaxis": {
         "anchor": "x",
         "domain": [
          0.7777777777777778,
          1
         ],
         "gridcolor": "#E1E5ED",
         "showgrid": true,
         "tickfont": {
          "color": "#4D5663"
         },
         "title": {
          "font": {
           "color": "#4D5663"
          },
          "text": ""
         },
         "zerolinecolor": "#E1E5ED"
        },
        "yaxis2": {
         "anchor": "x2",
         "domain": [
          0.7777777777777778,
          1
         ],
         "gridcolor": "#E1E5ED",
         "showgrid": true,
         "tickfont": {
          "color": "#4D5663"
         },
         "title": {
          "font": {
           "color": "#4D5663"
          },
          "text": ""
         },
         "zerolinecolor": "#E1E5ED"
        },
        "yaxis3": {
         "anchor": "x3",
         "domain": [
          0.3888888888888889,
          0.6111111111111112
         ],
         "gridcolor": "#E1E5ED",
         "showgrid": true,
         "tickfont": {
          "color": "#4D5663"
         },
         "title": {
          "font": {
           "color": "#4D5663"
          },
          "text": ""
         },
         "zerolinecolor": "#E1E5ED"
        },
        "yaxis4": {
         "anchor": "x4",
         "domain": [
          0.3888888888888889,
          0.6111111111111112
         ],
         "gridcolor": "#E1E5ED",
         "showgrid": true,
         "tickfont": {
          "color": "#4D5663"
         },
         "title": {
          "font": {
           "color": "#4D5663"
          },
          "text": ""
         },
         "zerolinecolor": "#E1E5ED"
        },
        "yaxis5": {
         "anchor": "x5",
         "domain": [
          0,
          0.22222222222222224
         ],
         "gridcolor": "#E1E5ED",
         "showgrid": true,
         "tickfont": {
          "color": "#4D5663"
         },
         "title": {
          "font": {
           "color": "#4D5663"
          },
          "text": ""
         },
         "zerolinecolor": "#E1E5ED"
        }
       }
      },
      "text/html": [
       "<div>\n",
       "        \n",
       "        \n",
       "            <div id=\"8dbc19a6-fa35-46e7-b472-397909bcd16b\" class=\"plotly-graph-div\" style=\"height:525px; width:100%;\"></div>\n",
       "            <script type=\"text/javascript\">\n",
       "                require([\"plotly\"], function(Plotly) {\n",
       "                    window.PLOTLYENV=window.PLOTLYENV || {};\n",
       "                    window.PLOTLYENV.BASE_URL='https://plot.ly';\n",
       "                    \n",
       "                if (document.getElementById(\"8dbc19a6-fa35-46e7-b472-397909bcd16b\")) {\n",
       "                    Plotly.newPlot(\n",
       "                        '8dbc19a6-fa35-46e7-b472-397909bcd16b',\n",
       "                        [{\"line\": {\"color\": \"rgba(255, 153, 51, 1.0)\", \"dash\": \"solid\", \"shape\": \"linear\", \"width\": 1.3}, \"mode\": \"lines\", \"name\": \"IBM\", \"text\": \"\", \"type\": \"scatter\", \"x\": [\"2015-01-01\", \"2015-01-02\", \"2015-01-03\", \"2015-01-04\", \"2015-01-05\", \"2015-01-06\", \"2015-01-07\", \"2015-01-08\", \"2015-01-09\", \"2015-01-10\", \"2015-01-11\", \"2015-01-12\", \"2015-01-13\", \"2015-01-14\", \"2015-01-15\", \"2015-01-16\", \"2015-01-17\", \"2015-01-18\", \"2015-01-19\", \"2015-01-20\", \"2015-01-21\", \"2015-01-22\", \"2015-01-23\", \"2015-01-24\", \"2015-01-25\", \"2015-01-26\", \"2015-01-27\", \"2015-01-28\", \"2015-01-29\", \"2015-01-30\", \"2015-01-31\", \"2015-02-01\", \"2015-02-02\", \"2015-02-03\", \"2015-02-04\", \"2015-02-05\", \"2015-02-06\", \"2015-02-07\", \"2015-02-08\", \"2015-02-09\", \"2015-02-10\", \"2015-02-11\", \"2015-02-12\", \"2015-02-13\", \"2015-02-14\", \"2015-02-15\", \"2015-02-16\", \"2015-02-17\", \"2015-02-18\", \"2015-02-19\", \"2015-02-20\", \"2015-02-21\", \"2015-02-22\", \"2015-02-23\", \"2015-02-24\", \"2015-02-25\", \"2015-02-26\", \"2015-02-27\", \"2015-02-28\", \"2015-03-01\", \"2015-03-02\", \"2015-03-03\", \"2015-03-04\", \"2015-03-05\", \"2015-03-06\", \"2015-03-07\", \"2015-03-08\", \"2015-03-09\", \"2015-03-10\", \"2015-03-11\", \"2015-03-12\", \"2015-03-13\", \"2015-03-14\", \"2015-03-15\", \"2015-03-16\", \"2015-03-17\", \"2015-03-18\", \"2015-03-19\", \"2015-03-20\", \"2015-03-21\", \"2015-03-22\", \"2015-03-23\", \"2015-03-24\", \"2015-03-25\", \"2015-03-26\", \"2015-03-27\", \"2015-03-28\", \"2015-03-29\", \"2015-03-30\", \"2015-03-31\", \"2015-04-01\", \"2015-04-02\", \"2015-04-03\", \"2015-04-04\", \"2015-04-05\", \"2015-04-06\", \"2015-04-07\", \"2015-04-08\", \"2015-04-09\", \"2015-04-10\"], \"xaxis\": \"x\", \"y\": [-1.2868801566664638, -2.028366513807729, -2.760879106191367, -1.9911859649445645, -1.1698265723057135, -0.9720902802456763, -1.3893692343289523, 0.15751532682256508, 0.28067988699811575, -0.5107120093055321, -1.8063687051293358, -1.7921784377934262, -1.1044874291941618, -0.2664229033287746, -0.6256421886729924, 0.4121968431481302, 1.8992288911822006, 0.4713284609322743, 2.994948247125084, 3.0066845652519816, 4.428386071353853, 4.91527793224154, 5.9599498493520535, 6.1134080683029515, 5.3533745076686206, 5.293323668532801, 4.099962721172125, 5.217635982306543, 6.071263872872076, 4.6433790700021245, 3.7602602888241847, 3.281740775327897, 2.7404638966339827, 3.3387539342756676, 4.0286684579720395, 5.549431907856821, 7.7754320531931445, 6.322731592099521, 6.500348418463007, 4.307960773824358, 5.299420681700493, 6.887429791634869, 8.867227597756447, 9.705505785295987, 9.727310508705818, 9.47542189494929, 10.024088259089691, 9.98684737225707, 10.69468858425811, 12.590123161193892, 11.782826178393798, 10.917174155836495, 10.734616926162627, 10.241322244735414, 10.641312793916578, 9.281628379084083, 9.400145386809678, 8.651862561935062, 7.565414896511578, 6.965260757342342, 6.707417689495253, 5.298031156312341, 5.189613710611087, 6.38226310279424, 6.183136169656518, 5.612166391713544, 6.39114867505892, 6.579941941996416, 8.383442583844783, 7.707907622852362, 6.38780750561438, 6.444029553587608, 6.607992301383706, 5.807273092823491, 6.986991314869297, 8.092324810185454, 7.438659031910002, 7.801618929657894, 8.167147603397437, 8.31903075035327, 7.29850862750133, 7.512739654299573, 6.420792527152818, 7.055018729110213, 7.0770407319095945, 7.117641048349709, 7.345524557970403, 5.752190402863436, 6.273101375049812, 6.278722472055344, 5.7539515553200955, 3.1068215726052926, 2.7290057360970037, 1.2653832609269167, 2.2899432891116005, 1.9511362641198013, 1.5916454981489803, 2.1430788859714105, 2.542681463390741, 1.530278277459552], \"yaxis\": \"y\"}, {\"line\": {\"color\": \"rgba(55, 128, 191, 1.0)\", \"dash\": \"solid\", \"shape\": \"linear\", \"width\": 1.3}, \"mode\": \"lines\", \"name\": \"MSFT\", \"text\": \"\", \"type\": \"scatter\", \"x\": [\"2015-01-01\", \"2015-01-02\", \"2015-01-03\", \"2015-01-04\", \"2015-01-05\", \"2015-01-06\", \"2015-01-07\", \"2015-01-08\", \"2015-01-09\", \"2015-01-10\", \"2015-01-11\", \"2015-01-12\", \"2015-01-13\", \"2015-01-14\", \"2015-01-15\", \"2015-01-16\", \"2015-01-17\", \"2015-01-18\", \"2015-01-19\", \"2015-01-20\", \"2015-01-21\", \"2015-01-22\", \"2015-01-23\", \"2015-01-24\", \"2015-01-25\", \"2015-01-26\", \"2015-01-27\", \"2015-01-28\", \"2015-01-29\", \"2015-01-30\", \"2015-01-31\", \"2015-02-01\", \"2015-02-02\", \"2015-02-03\", \"2015-02-04\", \"2015-02-05\", \"2015-02-06\", \"2015-02-07\", \"2015-02-08\", \"2015-02-09\", \"2015-02-10\", \"2015-02-11\", \"2015-02-12\", \"2015-02-13\", \"2015-02-14\", \"2015-02-15\", \"2015-02-16\", \"2015-02-17\", \"2015-02-18\", \"2015-02-19\", \"2015-02-20\", \"2015-02-21\", \"2015-02-22\", \"2015-02-23\", \"2015-02-24\", \"2015-02-25\", \"2015-02-26\", \"2015-02-27\", \"2015-02-28\", \"2015-03-01\", \"2015-03-02\", \"2015-03-03\", \"2015-03-04\", \"2015-03-05\", \"2015-03-06\", \"2015-03-07\", \"2015-03-08\", \"2015-03-09\", \"2015-03-10\", \"2015-03-11\", \"2015-03-12\", \"2015-03-13\", \"2015-03-14\", \"2015-03-15\", \"2015-03-16\", \"2015-03-17\", \"2015-03-18\", \"2015-03-19\", \"2015-03-20\", \"2015-03-21\", \"2015-03-22\", \"2015-03-23\", \"2015-03-24\", \"2015-03-25\", \"2015-03-26\", \"2015-03-27\", \"2015-03-28\", \"2015-03-29\", \"2015-03-30\", \"2015-03-31\", \"2015-04-01\", \"2015-04-02\", \"2015-04-03\", \"2015-04-04\", \"2015-04-05\", \"2015-04-06\", \"2015-04-07\", \"2015-04-08\", \"2015-04-09\", \"2015-04-10\"], \"xaxis\": \"x2\", \"y\": [-0.14231784552685722, 0.0038383488741102756, -1.394342441102017, 0.05281310065044109, -1.2953856887317763, -0.23262923631253374, -2.5064608920511025, -3.6201295377974985, -2.959479810992466, -3.772544722719001, -3.0709588325198514, -2.0375398840254366, -2.1693398305300824, -3.2990288162994386, -4.890590132460698, -4.15033703004252, -4.176687297989628, -4.5205820294304235, -4.414951077438917, -4.950842185052673, -6.320562459093343, -6.44888710392168, -6.020839447515197, -5.785039010002954, -6.093129681526676, -6.634138955952207, -6.570694424396184, -6.521643404930816, -5.299024933004039, -6.0886710847423435, -5.881060365924777, -3.915482394403372, -3.9827955274268745, -4.147845784640805, -3.42504253118667, -4.40082690854008, -4.075525471295986, -2.861534944561367, -3.781912959044849, -4.333547172371902, -3.7095920728127374, -3.4750745616048015, -2.747492006580319, -0.9979818882593192, -1.0647188197146276, -0.8955434858458016, -0.6519956098049098, 1.6492927283038028, 3.387224087556209, 4.513566073082565, 5.430806739184705, 4.907521152193672, 2.8095620478423875, 2.915435824696081, 1.5200875838787369, 2.429132108080452, 3.7756335804841363, 4.002064408796806, 3.4628516327730687, 3.214324464767252, 3.8560726788603708, 2.2554862113398633, 2.9445092783273754, 3.5262828903204313, 2.463193248025804, 1.7260733152151322, 0.7398626546489155, 0.4719722351730572, 0.9991489857126875, 1.9463121727900423, 0.23353648657121595, 1.0453540766324032, 0.8125285169010912, 0.21356493176886515, 0.28570457417174555, 0.11812423461881866, 0.4917748669935742, 0.36077971790123253, 0.5972969247795444, 0.7236739472521214, 2.636233090974466, 1.069513681161607, 0.28665585447293573, 0.19369838104339726, 0.35621491824623663, 3.048403464903692, 4.677726795508604, 4.894177005591278, 4.787507408289258, 4.951135431932031, 4.884774009715971, 3.5625808936247694, 2.9640904467996405, 2.6843113704032233, 2.530433555830813, 5.248023191199183, 4.349788040925403, 5.450810783635532, 5.052823592404031, 5.15929729082009], \"yaxis\": \"y2\"}, {\"line\": {\"color\": \"rgba(50, 171, 96, 1.0)\", \"dash\": \"solid\", \"shape\": \"linear\", \"width\": 1.3}, \"mode\": \"lines\", \"name\": \"GOOG\", \"text\": \"\", \"type\": \"scatter\", \"x\": [\"2015-01-01\", \"2015-01-02\", \"2015-01-03\", \"2015-01-04\", \"2015-01-05\", \"2015-01-06\", \"2015-01-07\", \"2015-01-08\", \"2015-01-09\", \"2015-01-10\", \"2015-01-11\", \"2015-01-12\", \"2015-01-13\", \"2015-01-14\", \"2015-01-15\", \"2015-01-16\", \"2015-01-17\", \"2015-01-18\", \"2015-01-19\", \"2015-01-20\", \"2015-01-21\", \"2015-01-22\", \"2015-01-23\", \"2015-01-24\", \"2015-01-25\", \"2015-01-26\", \"2015-01-27\", \"2015-01-28\", \"2015-01-29\", \"2015-01-30\", \"2015-01-31\", \"2015-02-01\", \"2015-02-02\", \"2015-02-03\", \"2015-02-04\", \"2015-02-05\", \"2015-02-06\", \"2015-02-07\", \"2015-02-08\", \"2015-02-09\", \"2015-02-10\", \"2015-02-11\", \"2015-02-12\", \"2015-02-13\", \"2015-02-14\", \"2015-02-15\", \"2015-02-16\", \"2015-02-17\", \"2015-02-18\", \"2015-02-19\", \"2015-02-20\", \"2015-02-21\", \"2015-02-22\", \"2015-02-23\", \"2015-02-24\", \"2015-02-25\", \"2015-02-26\", \"2015-02-27\", \"2015-02-28\", \"2015-03-01\", \"2015-03-02\", \"2015-03-03\", \"2015-03-04\", \"2015-03-05\", \"2015-03-06\", \"2015-03-07\", \"2015-03-08\", \"2015-03-09\", \"2015-03-10\", \"2015-03-11\", \"2015-03-12\", \"2015-03-13\", \"2015-03-14\", \"2015-03-15\", \"2015-03-16\", \"2015-03-17\", \"2015-03-18\", \"2015-03-19\", \"2015-03-20\", \"2015-03-21\", \"2015-03-22\", \"2015-03-23\", \"2015-03-24\", \"2015-03-25\", \"2015-03-26\", \"2015-03-27\", \"2015-03-28\", \"2015-03-29\", \"2015-03-30\", \"2015-03-31\", \"2015-04-01\", \"2015-04-02\", \"2015-04-03\", \"2015-04-04\", \"2015-04-05\", \"2015-04-06\", \"2015-04-07\", \"2015-04-08\", \"2015-04-09\", \"2015-04-10\"], \"xaxis\": \"x3\", \"y\": [0.887859548430912, -0.12442855812384623, 0.31510584146026, -0.3620399760333849, 0.060047799161180415, 0.489542542000453, 0.39864526286565544, -0.12691305706221562, -0.14653742623622149, -1.9942051171963504, -1.3676444884468961, -0.8372557932333661, -1.9188470342391222, -1.176425895752355, -0.5063944395571112, -0.6230886218617776, -0.6637716155230189, -0.44370395604865664, -1.0502230320712198, -1.884455201532628, -0.8465602088727773, -0.2594989167460039, -1.9955610009465663, -2.221501710910537, -3.217375118573837, -3.6208546163065196, -4.929555124356471, -4.840508167100383, -3.827535434970696, -3.867032210267071, -4.5063002992719685, -4.925453159939044, -4.174179782827053, -2.657263222654409, -4.307262797144048, -5.304732773389594, -4.618642038632928, -5.7364532527662195, -4.392594886900887, -4.4558778061555255, -4.9857689109230625, -4.156439892523207, -3.3815162927726474, -4.524633232529935, -2.1656811236745916, -3.1885135351785516, -3.9006128888640728, -4.077345971346925, -4.000916020536469, -4.4098462746028675, -5.639320258383571, -5.687101247473266, -5.0688162769214875, -5.728851900477398, -6.343303939209772, -9.328835099025895, -8.860782654790022, -8.766972470016524, -7.71034017674116, -7.34436940021025, -7.352338908426178, -5.660115446029203, -6.6854008273788335, -5.682223402388089, -6.9632825041098405, -6.678646553285244, -5.752049999433002, -6.881893383159216, -6.5453962916602375, -5.039119802550206, -5.338956969174161, -4.4834048889550315, -3.927119209210786, -4.914573738720649, -6.567959222482106, -7.620031172452751, -7.607736110887162, -7.5546361814823495, -7.144042517705126, -7.123148748328626, -6.136712449596261, -6.365268583170922, -7.46153901912162, -7.887593355698787, -7.24361705197415, -6.356909555910471, -5.176156220893024, -6.80156252352153, -6.802162108296153, -6.313537622663519, -3.5447733332150233, -3.9845629222544896, -2.854306918829467, -2.6727676110848138, -2.985194155696666, -1.9778983711938678, -2.829599717537466, -2.256304104822701, -3.0652309473468895, -3.641370706696887], \"yaxis\": \"y3\"}, {\"line\": {\"color\": \"rgba(128, 0, 128, 1.0)\", \"dash\": \"solid\", \"shape\": \"linear\", \"width\": 1.3}, \"mode\": \"lines\", \"name\": \"VERZ\", \"text\": \"\", \"type\": \"scatter\", \"x\": [\"2015-01-01\", \"2015-01-02\", \"2015-01-03\", \"2015-01-04\", \"2015-01-05\", \"2015-01-06\", \"2015-01-07\", \"2015-01-08\", \"2015-01-09\", \"2015-01-10\", \"2015-01-11\", \"2015-01-12\", \"2015-01-13\", \"2015-01-14\", \"2015-01-15\", \"2015-01-16\", \"2015-01-17\", \"2015-01-18\", \"2015-01-19\", \"2015-01-20\", \"2015-01-21\", \"2015-01-22\", \"2015-01-23\", \"2015-01-24\", \"2015-01-25\", \"2015-01-26\", \"2015-01-27\", \"2015-01-28\", \"2015-01-29\", \"2015-01-30\", \"2015-01-31\", \"2015-02-01\", \"2015-02-02\", \"2015-02-03\", \"2015-02-04\", \"2015-02-05\", \"2015-02-06\", \"2015-02-07\", \"2015-02-08\", \"2015-02-09\", \"2015-02-10\", \"2015-02-11\", \"2015-02-12\", \"2015-02-13\", \"2015-02-14\", \"2015-02-15\", \"2015-02-16\", \"2015-02-17\", \"2015-02-18\", \"2015-02-19\", \"2015-02-20\", \"2015-02-21\", \"2015-02-22\", \"2015-02-23\", \"2015-02-24\", \"2015-02-25\", \"2015-02-26\", \"2015-02-27\", \"2015-02-28\", \"2015-03-01\", \"2015-03-02\", \"2015-03-03\", \"2015-03-04\", \"2015-03-05\", \"2015-03-06\", \"2015-03-07\", \"2015-03-08\", \"2015-03-09\", \"2015-03-10\", \"2015-03-11\", \"2015-03-12\", \"2015-03-13\", \"2015-03-14\", \"2015-03-15\", \"2015-03-16\", \"2015-03-17\", \"2015-03-18\", \"2015-03-19\", \"2015-03-20\", \"2015-03-21\", \"2015-03-22\", \"2015-03-23\", \"2015-03-24\", \"2015-03-25\", \"2015-03-26\", \"2015-03-27\", \"2015-03-28\", \"2015-03-29\", \"2015-03-30\", \"2015-03-31\", \"2015-04-01\", \"2015-04-02\", \"2015-04-03\", \"2015-04-04\", \"2015-04-05\", \"2015-04-06\", \"2015-04-07\", \"2015-04-08\", \"2015-04-09\", \"2015-04-10\"], \"xaxis\": \"x4\", \"y\": [0.2048742448337656, 0.3995130615403163, 0.5136290915851257, 0.02076516140369261, 0.7226077593218854, 0.05684612597054928, -2.290373173966028, -3.352705324762807, -3.7250925423200565, -4.793135650456053, -5.329050597202418, -4.387591592305006, -4.049448089904911, -5.709282777034537, -6.328159594193041, -5.224321790483151, -5.2544049851922985, -5.421682067272712, -5.453447794943075, -5.2185053146589, -5.352828044506808, -6.099418933938748, -5.385357244049113, -5.133670710990421, -4.985790773356901, -4.275721196167301, -4.568176178165343, -4.250215743788066, -2.6250793292773977, -1.4682659462139522, -2.1133744171717304, -2.3256163870395024, -2.5325475124338666, -2.8567767576541843, -2.1431314030437036, -1.7670788605729655, -2.296789904733288, -2.2121516024694006, -3.5342462146632085, -0.6964724804885365, 1.3477234161467004, 1.441712672948758, 2.1058407403647976, 1.9878836781924143, 2.733661743162101, 4.07587656098306, 4.494268791352438, 2.7551554418904525, 3.4262226942585743, 4.261906636597172, 5.644921824628, 4.413022382756968, 5.910088337610661, 6.542923789958097, 6.312824948758883, 7.0707387309998815, 9.908110224085755, 9.306542233112879, 10.085829266774926, 9.708254599022629, 9.67875256616383, 7.916943299423433, 7.5583217288247715, 8.46681747105512, 9.205058014250898, 7.777162993877683, 7.405956989690508, 8.820618268349833, 8.580023758687686, 7.351488938534795, 4.329475295100899, 3.2757851795090573, 4.595116532455589, 5.783659442360334, 3.7878041018828923, 3.044704452625716, 2.0189657021517684, 4.274722764937334, 5.893714987065865, 5.18398622503782, 4.890734539739318, 5.259914377771817, 4.2388250269525924, 2.228345073405111, 1.0172014863258558, 2.904580330298862, 1.6375736383990258, 1.6730927768195931, 0.3295055389813142, 1.1186980436244327, 0.3825970786381174, 0.2403846669254254, 1.3424608810215752, 2.0175060395052333, 1.8490765888226344, 2.361676998871574, 2.3661487164680395, 4.650347499849967, 4.779357897092006, 5.318865454818467], \"yaxis\": \"y4\"}, {\"line\": {\"color\": \"rgba(219, 64, 82, 1.0)\", \"dash\": \"solid\", \"shape\": \"linear\", \"width\": 1.3}, \"mode\": \"lines\", \"name\": \"APPL\", \"text\": \"\", \"type\": \"scatter\", \"x\": [\"2015-01-01\", \"2015-01-02\", \"2015-01-03\", \"2015-01-04\", \"2015-01-05\", \"2015-01-06\", \"2015-01-07\", \"2015-01-08\", \"2015-01-09\", \"2015-01-10\", \"2015-01-11\", \"2015-01-12\", \"2015-01-13\", \"2015-01-14\", \"2015-01-15\", \"2015-01-16\", \"2015-01-17\", \"2015-01-18\", \"2015-01-19\", \"2015-01-20\", \"2015-01-21\", \"2015-01-22\", \"2015-01-23\", \"2015-01-24\", \"2015-01-25\", \"2015-01-26\", \"2015-01-27\", \"2015-01-28\", \"2015-01-29\", \"2015-01-30\", \"2015-01-31\", \"2015-02-01\", \"2015-02-02\", \"2015-02-03\", \"2015-02-04\", \"2015-02-05\", \"2015-02-06\", \"2015-02-07\", \"2015-02-08\", \"2015-02-09\", \"2015-02-10\", \"2015-02-11\", \"2015-02-12\", \"2015-02-13\", \"2015-02-14\", \"2015-02-15\", \"2015-02-16\", \"2015-02-17\", \"2015-02-18\", \"2015-02-19\", \"2015-02-20\", \"2015-02-21\", \"2015-02-22\", \"2015-02-23\", \"2015-02-24\", \"2015-02-25\", \"2015-02-26\", \"2015-02-27\", \"2015-02-28\", \"2015-03-01\", \"2015-03-02\", \"2015-03-03\", \"2015-03-04\", \"2015-03-05\", \"2015-03-06\", \"2015-03-07\", \"2015-03-08\", \"2015-03-09\", \"2015-03-10\", \"2015-03-11\", \"2015-03-12\", \"2015-03-13\", \"2015-03-14\", \"2015-03-15\", \"2015-03-16\", \"2015-03-17\", \"2015-03-18\", \"2015-03-19\", \"2015-03-20\", \"2015-03-21\", \"2015-03-22\", \"2015-03-23\", \"2015-03-24\", \"2015-03-25\", \"2015-03-26\", \"2015-03-27\", \"2015-03-28\", \"2015-03-29\", \"2015-03-30\", \"2015-03-31\", \"2015-04-01\", \"2015-04-02\", \"2015-04-03\", \"2015-04-04\", \"2015-04-05\", \"2015-04-06\", \"2015-04-07\", \"2015-04-08\", \"2015-04-09\", \"2015-04-10\"], \"xaxis\": \"x5\", \"y\": [1.0819354668374346, 2.4799376706733622, 2.2268051364701633, 1.0250862796132514, 0.3554705098107952, 0.7156871789501777, 0.1067856256869062, -0.123407659403828, 0.28296814854104424, 0.49919665559686655, -0.006990933535996335, 0.033384083208729, -0.08440237960348058, 0.7897831313157041, 1.5201787318987088, 1.5475803170317657, 0.8576482186298152, 2.5467860395958803, 3.993713288865485, 4.567833775159525, 5.183738002370754, 6.092155689019387, 6.1823362071732495, 5.674471133357569, 5.3441259995195045, 5.617275592259908, 6.783773732222309, 7.198486019655446, 7.145176329258773, 6.543734446718874, 7.312297808122165, 7.223841848314789, 7.9514779082905, 8.561609308063588, 9.738378487072284, 9.075752793744627, 9.831438453795284, 8.516970286231762, 8.252832558903457, 9.533388230834202, 9.67698655408267, 10.86849174836057, 10.669733608987032, 9.989883871982169, 8.670283109572248, 9.577541757674734, 8.881467530627548, 10.376316257373494, 9.81916422882076, 10.225052700919383, 10.056165673334721, 11.05423378093204, 11.438246334862646, 10.468756699066553, 9.87868872301803, 8.76800846671155, 6.684972121397745, 8.078100249152664, 6.3740120486351195, 6.699908754451213, 6.63902778498758, 7.333955166310478, 8.539313786810935, 8.765231793823297, 8.550945866671988, 8.648688407218522, 8.369870777573873, 7.728510910650162, 7.187302004909984, 7.4427073016969105, 9.038283728844396, 11.127516915360015, 12.176216508021733, 13.642073852393995, 13.114857135669329, 13.832452593325161, 14.912682023756759, 15.357186361705619, 17.058373360129018, 18.476693401175936, 18.172980321487877, 19.516504578663504, 18.750375542604836, 19.83121087323503, 20.970407888437194, 20.46369062990867, 20.493108587316645, 19.42665903106606, 18.742685639947105, 18.034705834652556, 18.052638546929252, 16.476787278642664, 16.81420963222878, 15.856823228991814, 13.806346247259345, 14.896933576101397, 15.749362202489804, 16.287176408588053, 15.628818851369322, 15.302790607308463], \"yaxis\": \"y5\"}],\n",
       "                        {\"annotations\": [{\"font\": {\"size\": 16}, \"showarrow\": false, \"text\": \"IBM\", \"x\": 0.225, \"xanchor\": \"center\", \"xref\": \"paper\", \"y\": 1.0, \"yanchor\": \"bottom\", \"yref\": \"paper\"}, {\"font\": {\"size\": 16}, \"showarrow\": false, \"text\": \"MSFT\", \"x\": 0.775, \"xanchor\": \"center\", \"xref\": \"paper\", \"y\": 1.0, \"yanchor\": \"bottom\", \"yref\": \"paper\"}, {\"font\": {\"size\": 16}, \"showarrow\": false, \"text\": \"GOOG\", \"x\": 0.225, \"xanchor\": \"center\", \"xref\": \"paper\", \"y\": 0.6111111111111112, \"yanchor\": \"bottom\", \"yref\": \"paper\"}, {\"font\": {\"size\": 16}, \"showarrow\": false, \"text\": \"VERZ\", \"x\": 0.775, \"xanchor\": \"center\", \"xref\": \"paper\", \"y\": 0.6111111111111112, \"yanchor\": \"bottom\", \"yref\": \"paper\"}, {\"font\": {\"size\": 16}, \"showarrow\": false, \"text\": \"APPL\", \"x\": 0.225, \"xanchor\": \"center\", \"xref\": \"paper\", \"y\": 0.22222222222222224, \"yanchor\": \"bottom\", \"yref\": \"paper\"}], \"legend\": {\"bgcolor\": \"#F5F6F9\", \"font\": {\"color\": \"#4D5663\"}}, \"paper_bgcolor\": \"#F5F6F9\", \"plot_bgcolor\": \"#F5F6F9\", \"showlegend\": false, \"template\": {\"data\": {\"bar\": [{\"error_x\": {\"color\": \"#2a3f5f\"}, \"error_y\": {\"color\": \"#2a3f5f\"}, \"marker\": {\"line\": {\"color\": \"#E5ECF6\", \"width\": 0.5}}, \"type\": \"bar\"}], \"barpolar\": [{\"marker\": {\"line\": {\"color\": \"#E5ECF6\", \"width\": 0.5}}, \"type\": \"barpolar\"}], \"carpet\": [{\"aaxis\": {\"endlinecolor\": \"#2a3f5f\", \"gridcolor\": \"white\", \"linecolor\": \"white\", \"minorgridcolor\": \"white\", \"startlinecolor\": \"#2a3f5f\"}, \"baxis\": {\"endlinecolor\": \"#2a3f5f\", \"gridcolor\": \"white\", \"linecolor\": \"white\", \"minorgridcolor\": \"white\", \"startlinecolor\": \"#2a3f5f\"}, \"type\": \"carpet\"}], \"choropleth\": [{\"colorbar\": {\"outlinewidth\": 0, \"ticks\": \"\"}, \"type\": \"choropleth\"}], \"contour\": [{\"colorbar\": {\"outlinewidth\": 0, \"ticks\": \"\"}, \"colorscale\": [[0.0, \"#0d0887\"], [0.1111111111111111, \"#46039f\"], [0.2222222222222222, \"#7201a8\"], [0.3333333333333333, \"#9c179e\"], [0.4444444444444444, \"#bd3786\"], [0.5555555555555556, \"#d8576b\"], [0.6666666666666666, \"#ed7953\"], [0.7777777777777778, \"#fb9f3a\"], [0.8888888888888888, \"#fdca26\"], [1.0, \"#f0f921\"]], \"type\": \"contour\"}], \"contourcarpet\": [{\"colorbar\": {\"outlinewidth\": 0, \"ticks\": \"\"}, \"type\": \"contourcarpet\"}], \"heatmap\": [{\"colorbar\": {\"outlinewidth\": 0, \"ticks\": \"\"}, \"colorscale\": [[0.0, \"#0d0887\"], [0.1111111111111111, \"#46039f\"], [0.2222222222222222, \"#7201a8\"], [0.3333333333333333, \"#9c179e\"], [0.4444444444444444, \"#bd3786\"], [0.5555555555555556, \"#d8576b\"], [0.6666666666666666, \"#ed7953\"], [0.7777777777777778, \"#fb9f3a\"], [0.8888888888888888, \"#fdca26\"], [1.0, \"#f0f921\"]], \"type\": \"heatmap\"}], \"heatmapgl\": [{\"colorbar\": {\"outlinewidth\": 0, \"ticks\": \"\"}, \"colorscale\": [[0.0, \"#0d0887\"], [0.1111111111111111, \"#46039f\"], [0.2222222222222222, \"#7201a8\"], [0.3333333333333333, \"#9c179e\"], [0.4444444444444444, \"#bd3786\"], [0.5555555555555556, \"#d8576b\"], [0.6666666666666666, \"#ed7953\"], [0.7777777777777778, \"#fb9f3a\"], [0.8888888888888888, \"#fdca26\"], [1.0, \"#f0f921\"]], \"type\": \"heatmapgl\"}], \"histogram\": [{\"marker\": {\"colorbar\": {\"outlinewidth\": 0, \"ticks\": \"\"}}, \"type\": \"histogram\"}], \"histogram2d\": [{\"colorbar\": {\"outlinewidth\": 0, \"ticks\": \"\"}, \"colorscale\": [[0.0, \"#0d0887\"], [0.1111111111111111, \"#46039f\"], [0.2222222222222222, \"#7201a8\"], [0.3333333333333333, \"#9c179e\"], [0.4444444444444444, \"#bd3786\"], [0.5555555555555556, \"#d8576b\"], [0.6666666666666666, \"#ed7953\"], [0.7777777777777778, \"#fb9f3a\"], [0.8888888888888888, \"#fdca26\"], [1.0, \"#f0f921\"]], \"type\": \"histogram2d\"}], \"histogram2dcontour\": [{\"colorbar\": {\"outlinewidth\": 0, \"ticks\": \"\"}, \"colorscale\": [[0.0, \"#0d0887\"], [0.1111111111111111, \"#46039f\"], [0.2222222222222222, \"#7201a8\"], [0.3333333333333333, \"#9c179e\"], [0.4444444444444444, \"#bd3786\"], [0.5555555555555556, \"#d8576b\"], [0.6666666666666666, \"#ed7953\"], [0.7777777777777778, \"#fb9f3a\"], [0.8888888888888888, \"#fdca26\"], [1.0, \"#f0f921\"]], \"type\": \"histogram2dcontour\"}], \"mesh3d\": [{\"colorbar\": {\"outlinewidth\": 0, \"ticks\": \"\"}, \"type\": \"mesh3d\"}], \"parcoords\": [{\"line\": {\"colorbar\": {\"outlinewidth\": 0, \"ticks\": \"\"}}, \"type\": \"parcoords\"}], \"pie\": [{\"automargin\": true, \"type\": \"pie\"}], \"scatter\": [{\"marker\": {\"colorbar\": {\"outlinewidth\": 0, \"ticks\": \"\"}}, \"type\": \"scatter\"}], \"scatter3d\": [{\"line\": {\"colorbar\": {\"outlinewidth\": 0, \"ticks\": \"\"}}, \"marker\": {\"colorbar\": {\"outlinewidth\": 0, \"ticks\": \"\"}}, \"type\": \"scatter3d\"}], \"scattercarpet\": [{\"marker\": {\"colorbar\": {\"outlinewidth\": 0, \"ticks\": \"\"}}, \"type\": \"scattercarpet\"}], \"scattergeo\": [{\"marker\": {\"colorbar\": {\"outlinewidth\": 0, \"ticks\": \"\"}}, \"type\": \"scattergeo\"}], \"scattergl\": [{\"marker\": {\"colorbar\": {\"outlinewidth\": 0, \"ticks\": \"\"}}, \"type\": \"scattergl\"}], \"scattermapbox\": [{\"marker\": {\"colorbar\": {\"outlinewidth\": 0, \"ticks\": \"\"}}, \"type\": \"scattermapbox\"}], \"scatterpolar\": [{\"marker\": {\"colorbar\": {\"outlinewidth\": 0, \"ticks\": \"\"}}, \"type\": \"scatterpolar\"}], \"scatterpolargl\": [{\"marker\": {\"colorbar\": {\"outlinewidth\": 0, \"ticks\": \"\"}}, \"type\": \"scatterpolargl\"}], \"scatterternary\": [{\"marker\": {\"colorbar\": {\"outlinewidth\": 0, \"ticks\": \"\"}}, \"type\": \"scatterternary\"}], \"surface\": [{\"colorbar\": {\"outlinewidth\": 0, \"ticks\": \"\"}, \"colorscale\": [[0.0, \"#0d0887\"], [0.1111111111111111, \"#46039f\"], [0.2222222222222222, \"#7201a8\"], [0.3333333333333333, \"#9c179e\"], [0.4444444444444444, \"#bd3786\"], [0.5555555555555556, \"#d8576b\"], [0.6666666666666666, \"#ed7953\"], [0.7777777777777778, \"#fb9f3a\"], [0.8888888888888888, \"#fdca26\"], [1.0, \"#f0f921\"]], \"type\": \"surface\"}], \"table\": [{\"cells\": {\"fill\": {\"color\": \"#EBF0F8\"}, \"line\": {\"color\": \"white\"}}, \"header\": {\"fill\": {\"color\": \"#C8D4E3\"}, \"line\": {\"color\": \"white\"}}, \"type\": \"table\"}]}, \"layout\": {\"annotationdefaults\": {\"arrowcolor\": \"#2a3f5f\", \"arrowhead\": 0, \"arrowwidth\": 1}, \"coloraxis\": {\"colorbar\": {\"outlinewidth\": 0, \"ticks\": \"\"}}, \"colorscale\": {\"diverging\": [[0, \"#8e0152\"], [0.1, \"#c51b7d\"], [0.2, \"#de77ae\"], [0.3, \"#f1b6da\"], [0.4, \"#fde0ef\"], [0.5, \"#f7f7f7\"], [0.6, \"#e6f5d0\"], [0.7, \"#b8e186\"], [0.8, \"#7fbc41\"], [0.9, \"#4d9221\"], [1, \"#276419\"]], \"sequential\": [[0.0, \"#0d0887\"], [0.1111111111111111, \"#46039f\"], [0.2222222222222222, \"#7201a8\"], [0.3333333333333333, \"#9c179e\"], [0.4444444444444444, \"#bd3786\"], [0.5555555555555556, \"#d8576b\"], [0.6666666666666666, \"#ed7953\"], [0.7777777777777778, \"#fb9f3a\"], [0.8888888888888888, \"#fdca26\"], [1.0, \"#f0f921\"]], \"sequentialminus\": [[0.0, \"#0d0887\"], [0.1111111111111111, \"#46039f\"], [0.2222222222222222, \"#7201a8\"], [0.3333333333333333, \"#9c179e\"], [0.4444444444444444, \"#bd3786\"], [0.5555555555555556, \"#d8576b\"], [0.6666666666666666, \"#ed7953\"], [0.7777777777777778, \"#fb9f3a\"], [0.8888888888888888, \"#fdca26\"], [1.0, \"#f0f921\"]]}, \"colorway\": [\"#636efa\", \"#EF553B\", \"#00cc96\", \"#ab63fa\", \"#FFA15A\", \"#19d3f3\", \"#FF6692\", \"#B6E880\", \"#FF97FF\", \"#FECB52\"], \"font\": {\"color\": \"#2a3f5f\"}, \"geo\": {\"bgcolor\": \"white\", \"lakecolor\": \"white\", \"landcolor\": \"#E5ECF6\", \"showlakes\": true, \"showland\": true, \"subunitcolor\": \"white\"}, \"hoverlabel\": {\"align\": \"left\"}, \"hovermode\": \"closest\", \"mapbox\": {\"style\": \"light\"}, \"paper_bgcolor\": \"white\", \"plot_bgcolor\": \"#E5ECF6\", \"polar\": {\"angularaxis\": {\"gridcolor\": \"white\", \"linecolor\": \"white\", \"ticks\": \"\"}, \"bgcolor\": \"#E5ECF6\", \"radialaxis\": {\"gridcolor\": \"white\", \"linecolor\": \"white\", \"ticks\": \"\"}}, \"scene\": {\"xaxis\": {\"backgroundcolor\": \"#E5ECF6\", \"gridcolor\": \"white\", \"gridwidth\": 2, \"linecolor\": \"white\", \"showbackground\": true, \"ticks\": \"\", \"zerolinecolor\": \"white\"}, \"yaxis\": {\"backgroundcolor\": \"#E5ECF6\", \"gridcolor\": \"white\", \"gridwidth\": 2, \"linecolor\": \"white\", \"showbackground\": true, \"ticks\": \"\", \"zerolinecolor\": \"white\"}, \"zaxis\": {\"backgroundcolor\": \"#E5ECF6\", \"gridcolor\": \"white\", \"gridwidth\": 2, \"linecolor\": \"white\", \"showbackground\": true, \"ticks\": \"\", \"zerolinecolor\": \"white\"}}, \"shapedefaults\": {\"line\": {\"color\": \"#2a3f5f\"}}, \"ternary\": {\"aaxis\": {\"gridcolor\": \"white\", \"linecolor\": \"white\", \"ticks\": \"\"}, \"baxis\": {\"gridcolor\": \"white\", \"linecolor\": \"white\", \"ticks\": \"\"}, \"bgcolor\": \"#E5ECF6\", \"caxis\": {\"gridcolor\": \"white\", \"linecolor\": \"white\", \"ticks\": \"\"}}, \"title\": {\"x\": 0.05}, \"xaxis\": {\"automargin\": true, \"gridcolor\": \"white\", \"linecolor\": \"white\", \"ticks\": \"\", \"title\": {\"standoff\": 15}, \"zerolinecolor\": \"white\", \"zerolinewidth\": 2}, \"yaxis\": {\"automargin\": true, \"gridcolor\": \"white\", \"linecolor\": \"white\", \"ticks\": \"\", \"title\": {\"standoff\": 15}, \"zerolinecolor\": \"white\", \"zerolinewidth\": 2}}}, \"title\": {\"font\": {\"color\": \"#4D5663\"}}, \"xaxis\": {\"anchor\": \"y\", \"domain\": [0.0, 0.45], \"gridcolor\": \"#E1E5ED\", \"showgrid\": true, \"tickfont\": {\"color\": \"#4D5663\"}, \"title\": {\"font\": {\"color\": \"#4D5663\"}, \"text\": \"\"}, \"zerolinecolor\": \"#E1E5ED\"}, \"xaxis2\": {\"anchor\": \"y2\", \"domain\": [0.55, 1.0], \"gridcolor\": \"#E1E5ED\", \"showgrid\": true, \"tickfont\": {\"color\": \"#4D5663\"}, \"title\": {\"font\": {\"color\": \"#4D5663\"}, \"text\": \"\"}, \"zerolinecolor\": \"#E1E5ED\"}, \"xaxis3\": {\"anchor\": \"y3\", \"domain\": [0.0, 0.45], \"gridcolor\": \"#E1E5ED\", \"showgrid\": true, \"tickfont\": {\"color\": \"#4D5663\"}, \"title\": {\"font\": {\"color\": \"#4D5663\"}, \"text\": \"\"}, \"zerolinecolor\": \"#E1E5ED\"}, \"xaxis4\": {\"anchor\": \"y4\", \"domain\": [0.55, 1.0], \"gridcolor\": \"#E1E5ED\", \"showgrid\": true, \"tickfont\": {\"color\": \"#4D5663\"}, \"title\": {\"font\": {\"color\": \"#4D5663\"}, \"text\": \"\"}, \"zerolinecolor\": \"#E1E5ED\"}, \"xaxis5\": {\"anchor\": \"y5\", \"domain\": [0.0, 0.45], \"gridcolor\": \"#E1E5ED\", \"showgrid\": true, \"tickfont\": {\"color\": \"#4D5663\"}, \"title\": {\"font\": {\"color\": \"#4D5663\"}, \"text\": \"\"}, \"zerolinecolor\": \"#E1E5ED\"}, \"yaxis\": {\"anchor\": \"x\", \"domain\": [0.7777777777777778, 1.0], \"gridcolor\": \"#E1E5ED\", \"showgrid\": true, \"tickfont\": {\"color\": \"#4D5663\"}, \"title\": {\"font\": {\"color\": \"#4D5663\"}, \"text\": \"\"}, \"zerolinecolor\": \"#E1E5ED\"}, \"yaxis2\": {\"anchor\": \"x2\", \"domain\": [0.7777777777777778, 1.0], \"gridcolor\": \"#E1E5ED\", \"showgrid\": true, \"tickfont\": {\"color\": \"#4D5663\"}, \"title\": {\"font\": {\"color\": \"#4D5663\"}, \"text\": \"\"}, \"zerolinecolor\": \"#E1E5ED\"}, \"yaxis3\": {\"anchor\": \"x3\", \"domain\": [0.3888888888888889, 0.6111111111111112], \"gridcolor\": \"#E1E5ED\", \"showgrid\": true, \"tickfont\": {\"color\": \"#4D5663\"}, \"title\": {\"font\": {\"color\": \"#4D5663\"}, \"text\": \"\"}, \"zerolinecolor\": \"#E1E5ED\"}, \"yaxis4\": {\"anchor\": \"x4\", \"domain\": [0.3888888888888889, 0.6111111111111112], \"gridcolor\": \"#E1E5ED\", \"showgrid\": true, \"tickfont\": {\"color\": \"#4D5663\"}, \"title\": {\"font\": {\"color\": \"#4D5663\"}, \"text\": \"\"}, \"zerolinecolor\": \"#E1E5ED\"}, \"yaxis5\": {\"anchor\": \"x5\", \"domain\": [0.0, 0.22222222222222224], \"gridcolor\": \"#E1E5ED\", \"showgrid\": true, \"tickfont\": {\"color\": \"#4D5663\"}, \"title\": {\"font\": {\"color\": \"#4D5663\"}, \"text\": \"\"}, \"zerolinecolor\": \"#E1E5ED\"}},\n",
       "                        {\"showLink\": true, \"linkText\": \"Export to plot.ly\", \"plotlyServerURL\": \"https://plot.ly\", \"responsive\": true}\n",
       "                    ).then(function(){\n",
       "                            \n",
       "var gd = document.getElementById('8dbc19a6-fa35-46e7-b472-397909bcd16b');\n",
       "var x = new MutationObserver(function (mutations, observer) {{\n",
       "        var display = window.getComputedStyle(gd).display;\n",
       "        if (!display || display === 'none') {{\n",
       "            console.log([gd, 'removed!']);\n",
       "            Plotly.purge(gd);\n",
       "            observer.disconnect();\n",
       "        }}\n",
       "}});\n",
       "\n",
       "// Listen for the removal of the full notebook cells\n",
       "var notebookContainer = gd.closest('#notebook-container');\n",
       "if (notebookContainer) {{\n",
       "    x.observe(notebookContainer, {childList: true});\n",
       "}}\n",
       "\n",
       "// Listen for the clearing of the current output cell\n",
       "var outputEl = gd.closest('.output');\n",
       "if (outputEl) {{\n",
       "    x.observe(outputEl, {childList: true});\n",
       "}}\n",
       "\n",
       "                        })\n",
       "                };\n",
       "                });\n",
       "            </script>\n",
       "        </div>"
      ]
     },
     "metadata": {},
     "output_type": "display_data"
    }
   ],
   "source": [
    "df.iplot(subplots=True,subplot_titles=True,legend=False)"
   ]
  },
  {
   "cell_type": "code",
   "execution_count": null,
   "metadata": {},
   "outputs": [],
   "source": []
  },
  {
   "cell_type": "code",
   "execution_count": null,
   "metadata": {},
   "outputs": [],
   "source": []
  },
  {
   "cell_type": "code",
   "execution_count": null,
   "metadata": {},
   "outputs": [],
   "source": []
  }
 ],
 "metadata": {
  "kernelspec": {
   "display_name": "Python 3",
   "language": "python",
   "name": "python3"
  },
  "language_info": {
   "codemirror_mode": {
    "name": "ipython",
    "version": 3
   },
   "file_extension": ".py",
   "mimetype": "text/x-python",
   "name": "python",
   "nbconvert_exporter": "python",
   "pygments_lexer": "ipython3",
   "version": "3.7.4"
  }
 },
 "nbformat": 4,
 "nbformat_minor": 2
}
